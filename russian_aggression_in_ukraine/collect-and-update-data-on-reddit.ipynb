{
 "cells": [
  {
   "cell_type": "markdown",
   "id": "e7535d8e",
   "metadata": {
    "papermill": {
     "duration": 0.015014,
     "end_time": "2022-03-30T23:44:57.632174",
     "exception": false,
     "start_time": "2022-03-30T23:44:57.617160",
     "status": "completed"
    },
    "tags": []
   },
   "source": [
    "## Collect and Update Data on Reddit\n",
    "\n",
    "\n",
    "<img src=\"https://styles.redditmedia.com/t5_30hhs/styles/communityIcon_buhifseg1hm81.png\" width=300></img>\n",
    "\n",
    "There are 4 steps for this process:\n",
    "\n",
    "\n",
    "- Run the collection\n",
    "- Load the current data\n",
    "- Merge old (existent) data with currently collected\n",
    "- Save new version\n",
    "\n",
    "We schedule the collection to be run daily.\n",
    "\n",
    "In order to make this work, we also need to set the environment variables for Reddit application using the Kaggle feature that allows us to set secrets.\n"
   ]
  },
  {
   "cell_type": "markdown",
   "id": "859e5d32",
   "metadata": {
    "papermill": {
     "duration": 0.013529,
     "end_time": "2022-03-30T23:44:57.659865",
     "exception": false,
     "start_time": "2022-03-30T23:44:57.646336",
     "status": "completed"
    },
    "tags": []
   },
   "source": [
    "# Load packages"
   ]
  },
  {
   "cell_type": "markdown",
   "id": "445053a5",
   "metadata": {
    "papermill": {
     "duration": 0.013426,
     "end_time": "2022-03-30T23:44:57.687036",
     "exception": false,
     "start_time": "2022-03-30T23:44:57.673610",
     "status": "completed"
    },
    "tags": []
   },
   "source": [
    "## Install praw"
   ]
  },
  {
   "cell_type": "code",
   "execution_count": 1,
   "id": "ff0e580a",
   "metadata": {
    "execution": {
     "iopub.execute_input": "2022-03-30T23:44:57.719608Z",
     "iopub.status.busy": "2022-03-30T23:44:57.718419Z",
     "iopub.status.idle": "2022-03-30T23:45:09.282820Z",
     "shell.execute_reply": "2022-03-30T23:45:09.282098Z",
     "shell.execute_reply.started": "2022-03-23T10:24:05.657788Z"
    },
    "papermill": {
     "duration": 11.582205,
     "end_time": "2022-03-30T23:45:09.283012",
     "exception": false,
     "start_time": "2022-03-30T23:44:57.700807",
     "status": "completed"
    },
    "tags": []
   },
   "outputs": [
    {
     "name": "stdout",
     "output_type": "stream",
     "text": [
      "Collecting praw\r\n",
      "  Downloading praw-7.5.0-py3-none-any.whl (176 kB)\r\n",
      "     |████████████████████████████████| 176 kB 781 kB/s            \r\n",
      "\u001b[?25hRequirement already satisfied: update-checker>=0.18 in /opt/conda/lib/python3.7/site-packages (from praw) (0.18.0)\r\n",
      "Collecting prawcore<3,>=2.1\r\n",
      "  Downloading prawcore-2.3.0-py3-none-any.whl (16 kB)\r\n",
      "Requirement already satisfied: websocket-client>=0.54.0 in /opt/conda/lib/python3.7/site-packages (from praw) (1.2.3)\r\n",
      "Requirement already satisfied: requests<3.0,>=2.6.0 in /opt/conda/lib/python3.7/site-packages (from prawcore<3,>=2.1->praw) (2.26.0)\r\n",
      "Requirement already satisfied: urllib3<1.27,>=1.21.1 in /opt/conda/lib/python3.7/site-packages (from requests<3.0,>=2.6.0->prawcore<3,>=2.1->praw) (1.26.7)\r\n",
      "Requirement already satisfied: charset-normalizer~=2.0.0 in /opt/conda/lib/python3.7/site-packages (from requests<3.0,>=2.6.0->prawcore<3,>=2.1->praw) (2.0.9)\r\n",
      "Requirement already satisfied: certifi>=2017.4.17 in /opt/conda/lib/python3.7/site-packages (from requests<3.0,>=2.6.0->prawcore<3,>=2.1->praw) (2021.10.8)\r\n",
      "Requirement already satisfied: idna<4,>=2.5 in /opt/conda/lib/python3.7/site-packages (from requests<3.0,>=2.6.0->prawcore<3,>=2.1->praw) (3.1)\r\n",
      "Installing collected packages: prawcore, praw\r\n",
      "Successfully installed praw-7.5.0 prawcore-2.3.0\r\n",
      "\u001b[33mWARNING: Running pip as the 'root' user can result in broken permissions and conflicting behaviour with the system package manager. It is recommended to use a virtual environment instead: https://pip.pypa.io/warnings/venv\u001b[0m\r\n"
     ]
    }
   ],
   "source": [
    "!pip install praw"
   ]
  },
  {
   "cell_type": "markdown",
   "id": "a5174e2b",
   "metadata": {
    "papermill": {
     "duration": 0.018533,
     "end_time": "2022-03-30T23:45:09.320640",
     "exception": false,
     "start_time": "2022-03-30T23:45:09.302107",
     "status": "completed"
    },
    "tags": []
   },
   "source": [
    "## Packages used"
   ]
  },
  {
   "cell_type": "code",
   "execution_count": 2,
   "id": "56084397",
   "metadata": {
    "execution": {
     "iopub.execute_input": "2022-03-30T23:45:09.362580Z",
     "iopub.status.busy": "2022-03-30T23:45:09.361528Z",
     "iopub.status.idle": "2022-03-30T23:45:09.438496Z",
     "shell.execute_reply": "2022-03-30T23:45:09.437853Z",
     "shell.execute_reply.started": "2022-03-23T10:24:17.818454Z"
    },
    "papermill": {
     "duration": 0.099329,
     "end_time": "2022-03-30T23:45:09.438660",
     "exception": false,
     "start_time": "2022-03-30T23:45:09.339331",
     "status": "completed"
    },
    "tags": []
   },
   "outputs": [],
   "source": [
    "import os\n",
    "import praw\n",
    "import pandas as pd\n",
    "import datetime as dt\n",
    "from tqdm import tqdm\n",
    "import time"
   ]
  },
  {
   "cell_type": "markdown",
   "id": "dcc68ec1",
   "metadata": {
    "papermill": {
     "duration": 0.020566,
     "end_time": "2022-03-30T23:45:09.478189",
     "exception": false,
     "start_time": "2022-03-30T23:45:09.457623",
     "status": "completed"
    },
    "tags": []
   },
   "source": [
    "## Environment settings for Reddit secrets\n",
    "\n",
    "Here is a simple tutorial about using secrets with Kaggle: [Feature Launch: User Secrets](https://www.kaggle.com/product-feedback/114053)"
   ]
  },
  {
   "cell_type": "code",
   "execution_count": 3,
   "id": "c98b842f",
   "metadata": {
    "execution": {
     "iopub.execute_input": "2022-03-30T23:45:09.522615Z",
     "iopub.status.busy": "2022-03-30T23:45:09.521792Z",
     "iopub.status.idle": "2022-03-30T23:45:09.523221Z",
     "shell.execute_reply": "2022-03-30T23:45:09.523894Z",
     "shell.execute_reply.started": "2022-03-23T10:24:17.879623Z"
    },
    "papermill": {
     "duration": 0.027502,
     "end_time": "2022-03-30T23:45:09.524109",
     "exception": false,
     "start_time": "2022-03-30T23:45:09.496607",
     "status": "completed"
    },
    "tags": []
   },
   "outputs": [],
   "source": [
    "from kaggle_secrets import UserSecretsClient\n",
    "user_secrets = UserSecretsClient()"
   ]
  },
  {
   "cell_type": "markdown",
   "id": "624dfaec",
   "metadata": {
    "papermill": {
     "duration": 0.021503,
     "end_time": "2022-03-30T23:45:09.564895",
     "exception": false,
     "start_time": "2022-03-30T23:45:09.543392",
     "status": "completed"
    },
    "tags": []
   },
   "source": [
    "# Utility functions"
   ]
  },
  {
   "cell_type": "code",
   "execution_count": 4,
   "id": "cf807652",
   "metadata": {
    "execution": {
     "iopub.execute_input": "2022-03-30T23:45:09.610838Z",
     "iopub.status.busy": "2022-03-30T23:45:09.610052Z",
     "iopub.status.idle": "2022-03-30T23:45:09.618445Z",
     "shell.execute_reply": "2022-03-30T23:45:09.619022Z",
     "shell.execute_reply.started": "2022-03-23T10:24:17.885452Z"
    },
    "papermill": {
     "duration": 0.031325,
     "end_time": "2022-03-30T23:45:09.619200",
     "exception": false,
     "start_time": "2022-03-30T23:45:09.587875",
     "status": "completed"
    },
    "tags": []
   },
   "outputs": [],
   "source": [
    "def get_date(created):\n",
    "    return dt.datetime.fromtimestamp(created)\n",
    "\n",
    "\n",
    "def reddit_connection(environment=\"Kaggle\"):\n",
    "    \n",
    "    if environment == \"Kaggle\":\n",
    "        personal_use_script = user_secrets.get_secret(\"REDDIT_PERSONAL_USE_SCRIPT_14_CHARS\")\n",
    "        client_secret = user_secrets.get_secret(\"REDDIT_SECRET_KEY_27_CHARS\")\n",
    "        user_agent = user_secrets.get_secret(\"REDDIT_APP_NAME\")\n",
    "        username = user_secrets.get_secret(\"REDDIT_USER_NAME\")\n",
    "        password = user_secrets.get_secret(\"REDDIT_LOGIN_PASSWORD\")\n",
    "         \n",
    "    else: #local (Linux/Windows) environment\n",
    "        personal_use_script = os.environ[\"REDDIT_PERSONAL_USE_SCRIPT_14_CHARS\"]\n",
    "        client_secret = os.environ[\"REDDIT_SECRET_KEY_27_CHARS\"]\n",
    "        user_agent = os.environ[\"REDDIT_APP_NAME\"]\n",
    "        username = os.environ[\"REDDIT_USER_NAME\"]\n",
    "        password = os.environ[\"REDDIT_LOGIN_PASSWORD\"]\n",
    "\n",
    "    reddit = praw.Reddit(client_id=personal_use_script, \\\n",
    "                         client_secret=client_secret, \\\n",
    "                         user_agent=user_agent, \\\n",
    "                         username=username, \\\n",
    "                         password='')\n",
    "    return reddit\n"
   ]
  },
  {
   "cell_type": "markdown",
   "id": "d4f1bc5d",
   "metadata": {
    "papermill": {
     "duration": 0.018948,
     "end_time": "2022-03-30T23:45:09.658104",
     "exception": false,
     "start_time": "2022-03-30T23:45:09.639156",
     "status": "completed"
    },
    "tags": []
   },
   "source": [
    "# Build the dataset (daily update)"
   ]
  },
  {
   "cell_type": "code",
   "execution_count": 5,
   "id": "690d50c8",
   "metadata": {
    "execution": {
     "iopub.execute_input": "2022-03-30T23:45:09.710831Z",
     "iopub.status.busy": "2022-03-30T23:45:09.710061Z",
     "iopub.status.idle": "2022-03-30T23:45:09.712149Z",
     "shell.execute_reply": "2022-03-30T23:45:09.712647Z",
     "shell.execute_reply.started": "2022-03-23T10:24:17.899914Z"
    },
    "papermill": {
     "duration": 0.035139,
     "end_time": "2022-03-30T23:45:09.712839",
     "exception": false,
     "start_time": "2022-03-30T23:45:09.677700",
     "status": "completed"
    },
    "tags": []
   },
   "outputs": [],
   "source": [
    "def build_dataset(reddit, search_words='UkrainianConflict', items_limit=4000):\n",
    "    \n",
    "    # Collect reddit posts\n",
    "    subreddit = reddit.subreddit(search_words)\n",
    "    new_subreddit = subreddit.new(limit=items_limit)\n",
    "    topics_dict = { \"title\":[],\n",
    "                \"score\":[],\n",
    "                \"id\":[], \"url\":[],\n",
    "                \"comms_num\": [],\n",
    "                \"created\": [],\n",
    "                \"body\":[]}\n",
    "    \n",
    "    print(f\"retreive new reddit posts ...\")\n",
    "    for submission in tqdm(new_subreddit):\n",
    "        topics_dict[\"title\"].append(submission.title)\n",
    "        topics_dict[\"score\"].append(submission.score)\n",
    "        topics_dict[\"id\"].append(submission.id)\n",
    "        topics_dict[\"url\"].append(submission.url)\n",
    "        topics_dict[\"comms_num\"].append(submission.num_comments)\n",
    "        topics_dict[\"created\"].append(submission.created)\n",
    "        topics_dict[\"body\"].append(submission.selftext)\n",
    "\n",
    "    for comment in tqdm(subreddit.comments(limit=4000)):\n",
    "        topics_dict[\"title\"].append(\"Comment\")\n",
    "        topics_dict[\"score\"].append(comment.score)\n",
    "        topics_dict[\"id\"].append(comment.id)\n",
    "        topics_dict[\"url\"].append(\"\")\n",
    "        topics_dict[\"comms_num\"].append(0)\n",
    "        topics_dict[\"created\"].append(comment.created)\n",
    "        topics_dict[\"body\"].append(comment.body)\n",
    "\n",
    "    topics_df = pd.DataFrame(topics_dict)\n",
    "    print(f\"new reddit posts retrieved: {len(topics_df)}\")\n",
    "    topics_df['timestamp'] = topics_df['created'].apply(lambda x: get_date(x))\n",
    "\n",
    "    return topics_df\n",
    "   "
   ]
  },
  {
   "cell_type": "markdown",
   "id": "92f93a99",
   "metadata": {
    "papermill": {
     "duration": 0.018597,
     "end_time": "2022-03-30T23:45:09.751550",
     "exception": false,
     "start_time": "2022-03-30T23:45:09.732953",
     "status": "completed"
    },
    "tags": []
   },
   "source": [
    "# Update and save dataset\n",
    "\n",
    "We perform the following actions:  \n",
    "* Load old dataset  \n",
    "* Merge the two datasets  \n",
    "* Save the merged data"
   ]
  },
  {
   "cell_type": "code",
   "execution_count": 6,
   "id": "92ebf603",
   "metadata": {
    "execution": {
     "iopub.execute_input": "2022-03-30T23:45:09.793268Z",
     "iopub.status.busy": "2022-03-30T23:45:09.791932Z",
     "iopub.status.idle": "2022-03-30T23:45:09.798413Z",
     "shell.execute_reply": "2022-03-30T23:45:09.798959Z",
     "shell.execute_reply.started": "2022-03-23T10:24:17.915031Z"
    },
    "papermill": {
     "duration": 0.02961,
     "end_time": "2022-03-30T23:45:09.799146",
     "exception": false,
     "start_time": "2022-03-30T23:45:09.769536",
     "status": "completed"
    },
    "tags": []
   },
   "outputs": [],
   "source": [
    "def update_and_save_dataset(topics_df):   \n",
    "    file_path = \"../input/russian-invasion-of-ukraine/russian_invasion_of_ukraine.csv\"\n",
    "    out_file_path = \"russian_invasion_of_ukraine.csv\"\n",
    "    if os.path.exists(file_path):\n",
    "        topics_old_df = pd.read_csv(file_path)\n",
    "        print(f\"past reddit posts: {topics_old_df.shape}\")\n",
    "        topics_all_df = pd.concat([topics_old_df, topics_df], axis=0)\n",
    "        print(f\"new reddit posts: {topics_df.shape[0]} past posts: {topics_old_df.shape[0]} all posts: {topics_all_df.shape[0]}\")\n",
    "        topics_new_df = topics_all_df.drop_duplicates(subset = [\"id\"], keep='last', inplace=False)\n",
    "        print(f\"all reddit posts: {topics_new_df.shape}\")\n",
    "        topics_new_df.to_csv(out_file_path, index=False)\n",
    "    else:\n",
    "        print(f\"reddit posts: {topics_df.shape}\")\n",
    "        topics_df.to_csv(out_file_path, index=False)"
   ]
  },
  {
   "cell_type": "markdown",
   "id": "dcce49e3",
   "metadata": {
    "papermill": {
     "duration": 0.018776,
     "end_time": "2022-03-30T23:45:09.837094",
     "exception": false,
     "start_time": "2022-03-30T23:45:09.818318",
     "status": "completed"
    },
    "tags": []
   },
   "source": [
    "# Run it all\n",
    "\n",
    "We perform the following actions:  \n",
    "* Initialize connection  \n",
    "* Build the dataset  \n",
    "* Update and save the dataset\n"
   ]
  },
  {
   "cell_type": "code",
   "execution_count": 7,
   "id": "331bd6e8",
   "metadata": {
    "execution": {
     "iopub.execute_input": "2022-03-30T23:45:09.888253Z",
     "iopub.status.busy": "2022-03-30T23:45:09.887403Z",
     "iopub.status.idle": "2022-03-30T23:45:27.506050Z",
     "shell.execute_reply": "2022-03-30T23:45:27.505456Z",
     "shell.execute_reply.started": "2022-03-23T10:24:17.93272Z"
    },
    "papermill": {
     "duration": 17.651121,
     "end_time": "2022-03-30T23:45:27.506182",
     "exception": false,
     "start_time": "2022-03-30T23:45:09.855061",
     "status": "completed"
    },
    "tags": []
   },
   "outputs": [
    {
     "name": "stdout",
     "output_type": "stream",
     "text": [
      "retreive new reddit posts ...\n"
     ]
    },
    {
     "name": "stderr",
     "output_type": "stream",
     "text": [
      "981it [00:09, 101.18it/s]\n",
      "986it [00:05, 165.60it/s]\n"
     ]
    },
    {
     "name": "stdout",
     "output_type": "stream",
     "text": [
      "new reddit posts retrieved: 1967\n",
      "past reddit posts: (16109, 8)\n",
      "new reddit posts: 1967 past posts: 16109 all posts: 18076\n",
      "all reddit posts: (17658, 8)\n"
     ]
    }
   ],
   "source": [
    "reddit = reddit_connection()\n",
    "topics_data_df = build_dataset(reddit)\n",
    "update_and_save_dataset(topics_data_df)"
   ]
  }
 ],
 "metadata": {
  "kernelspec": {
   "display_name": "Python 3",
   "language": "python",
   "name": "python3"
  },
  "language_info": {
   "codemirror_mode": {
    "name": "ipython",
    "version": 3
   },
   "file_extension": ".py",
   "mimetype": "text/x-python",
   "name": "python",
   "nbconvert_exporter": "python",
   "pygments_lexer": "ipython3",
   "version": "3.7.12"
  },
  "papermill": {
   "default_parameters": {},
   "duration": 40.740618,
   "end_time": "2022-03-30T23:45:28.144629",
   "environment_variables": {},
   "exception": null,
   "input_path": "__notebook__.ipynb",
   "output_path": "__notebook__.ipynb",
   "parameters": {},
   "start_time": "2022-03-30T23:44:47.404011",
   "version": "2.3.3"
  }
 },
 "nbformat": 4,
 "nbformat_minor": 5
}
