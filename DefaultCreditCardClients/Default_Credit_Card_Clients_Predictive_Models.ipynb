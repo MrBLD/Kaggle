{
 "cells": [
  {
   "cell_type": "markdown",
   "metadata": {
    "_uuid": "e8ae7a3d49eb4c957af467a68957ae2637e80d71"
   },
   "source": [
    "<h1><center><font size=\"6\">Default Credit Card Clients Predictive Models</font></center></h1>\n",
    "\n",
    "\n",
    "<img src=\"https://kaggle2.blob.core.windows.net/datasets-images/306/666/d68d599bfe6995fa5772df1e82c4e83c/dataset-card.jpg\" width=\"400\"></img>\n",
    "\n",
    "\n",
    "# <a id='0'>Content</a>\n",
    "\n",
    "- <a href='#1'>Introduction</a>  \n",
    "- <a href='#2'>Load packages</a>  \n",
    "- <a href='#3'>Read the data</a>  \n",
    "- <a href='#4'>Check the data</a>  \n",
    "    - <a href='#41'>Glimpse the data</a>  \n",
    "    - <a href='#42'>Check missing data</a>\n",
    "    - <a href='#43'>Check data unbalance</a>\n",
    "- <a href='#5'>Data exploration</a>\n",
    "- <a href='#6'>Predictive models</a>  \n",
    "    - <a href='#61'>RandomForrestClassifier</a> \n",
    "    - <a href='#62'>AdaBoostClassifier</a>     \n",
    "    - <a href='#63'>XGBoost</a> \n",
    "    - <a href='#64'>LightGBM</a> \n",
    "- <a href='#7'>Conclusions</a>\n",
    "- <a href='#8'>References</a>\n"
   ]
  },
  {
   "cell_type": "markdown",
   "metadata": {
    "_uuid": "59c14ee24fdc95ffb0163222bb5cfbed7b16678e"
   },
   "source": [
    "# <a id=\"1\">Introduction</a>  \n",
    "\n",
    "\n",
    "## Dataset\n",
    "\n",
    "This dataset contains information on default payments, demographic factors, credit data, history of payment, and bill statements of credit card clients in Taiwan from **April 2005** to **September 2005**. \n",
    "\n",
    "## Content\n",
    "\n",
    "There are 25 variables:\n",
    "\n",
    "* **ID**: ID of each client\n",
    "* **LIMIT_BAL**: Amount of given credit in NT dollars (includes individual and family/supplementary credit\n",
    "* **SEX**: Gender (1=male, 2=female)\n",
    "* **EDUCATION**: (1=graduate school, 2=university, 3=high school, 4=others, 5=unknown, 6=unknown)\n",
    "* **MARRIAGE**: Marital status (1=married, 2=single, 3=others)\n",
    "* **AGE**: Age in years\n",
    "* **PAY_0**: Repayment status in September, 2005 (-1=pay duly, 1=payment delay for one month, 2=payment delay for two months, ... 8=payment delay for eight months, 9=payment delay for nine months and above)\n",
    "* **PAY_2**: Repayment status in August, 2005 (scale same as above)\n",
    "* **PAY_3**: Repayment status in July, 2005 (scale same as above)\n",
    "* **PAY_4**: Repayment status in June, 2005 (scale same as above)\n",
    "* **PAY_5**: Repayment status in May, 2005 (scale same as above)\n",
    "* **PAY_6**: Repayment status in April, 2005 (scale same as above)\n",
    "* **BILL_AMT1**: Amount of bill statement in September, 2005 (NT dollar)\n",
    "* **BILL_AMT2**: Amount of bill statement in August, 2005 (NT dollar)\n",
    "* **BILL_AMT3**: Amount of bill statement in July, 2005 (NT dollar)\n",
    "* **BILL_AMT4**: Amount of bill statement in June, 2005 (NT dollar)\n",
    "* **BILL_AMT5**: Amount of bill statement in May, 2005 (NT dollar)\n",
    "* **BILL_AMT6**: Amount of bill statement in April, 2005 (NT dollar)\n",
    "* **PAY_AMT1**: Amount of previous payment in September, 2005 (NT dollar)\n",
    "* **PAY_AMT2**: Amount of previous payment in August, 2005 (NT dollar)\n",
    "* **PAY_AMT3**: Amount of previous payment in July, 2005 (NT dollar)\n",
    "* **PAY_AMT4**: Amount of previous payment in June, 2005 (NT dollar)\n",
    "* **PAY_AMT5**: Amount of previous payment in May, 2005 (NT dollar)\n",
    "* **PAY_AMT6**: Amount of previous payment in April, 2005 (NT dollar)\n",
    "* **default.payment.next.month**: Default payment (1=yes, 0=no)\n",
    "\n"
   ]
  },
  {
   "cell_type": "markdown",
   "metadata": {
    "_uuid": "206cbdfdcc23a7b80878572a73aa4e16e38a568a"
   },
   "source": [
    "# <a id=\"2\">Load packages</a>"
   ]
  },
  {
   "cell_type": "code",
   "execution_count": 220,
   "metadata": {
    "_uuid": "39eb918049391b864c6d5f9dfd3ce5807584cfe9"
   },
   "outputs": [
    {
     "name": "stdout",
     "output_type": "stream",
     "text": [
      "['UCI_Credit_Card.csv']\n"
     ]
    }
   ],
   "source": [
    "import pandas as pd \n",
    "import numpy as np\n",
    "import matplotlib\n",
    "import matplotlib.pyplot as plt\n",
    "import seaborn as sns\n",
    "%matplotlib inline \n",
    "\n",
    "import gc\n",
    "from datetime import datetime \n",
    "from sklearn.model_selection import train_test_split\n",
    "from sklearn.model_selection import KFold\n",
    "from sklearn.metrics import roc_auc_score\n",
    "from sklearn.ensemble import RandomForestClassifier\n",
    "from sklearn.ensemble import AdaBoostClassifier\n",
    "import lightgbm as lgb\n",
    "import xgboost as xgb\n",
    "\n",
    "pd.set_option('display.max_columns', 100)\n",
    "\n",
    "\n",
    "RFC_METRIC = 'gini'  #metric used for RandomForrestClassifier\n",
    "NUM_ESTIMATORS = 100 #number of estimators used for RandomForrestClassifier\n",
    "NO_JOBS = 4 #number of parallel jobs used for RandomForrestClassifier\n",
    "\n",
    "#VALIDATION\n",
    "VALID_SIZE = 0.20 # simple validation using train_test_split\n",
    "\n",
    "#CROSS-VALIDATION\n",
    "NUMBER_KFOLDS = 5 #number of KFolds for cross-validation\n",
    "\n",
    "RANDOM_STATE = 2018\n",
    "\n",
    "MAX_ROUNDS = 1000 #lgb iterations\n",
    "EARLY_STOP = 50 #lgb early stop \n",
    "OPT_ROUNDS = 1000  #To be adjusted based on best validation rounds\n",
    "VERBOSE_EVAL = 50 #Print out metric result\n",
    "\n",
    "IS_LOCAL = True\n",
    "\n",
    "import os\n",
    "\n",
    "if(IS_LOCAL):\n",
    "    PATH=\"../input/default-of-credit-card-clients-dataset\"\n",
    "else:\n",
    "    PATH=\"../input\"\n",
    "print(os.listdir(PATH))"
   ]
  },
  {
   "cell_type": "markdown",
   "metadata": {
    "_uuid": "27818289f04036c3026d48f2eabcf6f38263ea4f"
   },
   "source": [
    "# <a id=\"3\">Read the data</a>"
   ]
  },
  {
   "cell_type": "code",
   "execution_count": 221,
   "metadata": {
    "_uuid": "28a631e66df7507ef44cb67201226dc799f08ad2"
   },
   "outputs": [],
   "source": [
    "data_df = pd.read_csv(PATH+\"/UCI_Credit_Card.csv\")"
   ]
  },
  {
   "cell_type": "markdown",
   "metadata": {
    "_uuid": "eaed36728b51950cdee59ce028f6d16b3bfb0363"
   },
   "source": [
    "# <a id=\"4\">Check the data</a>"
   ]
  },
  {
   "cell_type": "code",
   "execution_count": 222,
   "metadata": {
    "_uuid": "56e5bea59ca29389f818b03cfdb33209636fc868"
   },
   "outputs": [
    {
     "name": "stdout",
     "output_type": "stream",
     "text": [
      "Default Credit Card Clients data -  rows: 30000  columns: 25\n"
     ]
    }
   ],
   "source": [
    "print(\"Default Credit Card Clients data -  rows:\",data_df.shape[0],\" columns:\", data_df.shape[1])"
   ]
  },
  {
   "cell_type": "markdown",
   "metadata": {
    "_uuid": "db00be74b6c6b7a0fab8c8fcfb681172ca436547"
   },
   "source": [
    "## <a id=\"41\">Glimpse the data</a>\n",
    "\n",
    "We start by looking to the data features (first 5 rows)."
   ]
  },
  {
   "cell_type": "code",
   "execution_count": 223,
   "metadata": {
    "_uuid": "4ddde8e6a24eb6ca1044838064b61745535422ae"
   },
   "outputs": [
    {
     "data": {
      "text/html": [
       "<div>\n",
       "<style>\n",
       "    .dataframe thead tr:only-child th {\n",
       "        text-align: right;\n",
       "    }\n",
       "\n",
       "    .dataframe thead th {\n",
       "        text-align: left;\n",
       "    }\n",
       "\n",
       "    .dataframe tbody tr th {\n",
       "        vertical-align: top;\n",
       "    }\n",
       "</style>\n",
       "<table border=\"1\" class=\"dataframe\">\n",
       "  <thead>\n",
       "    <tr style=\"text-align: right;\">\n",
       "      <th></th>\n",
       "      <th>ID</th>\n",
       "      <th>LIMIT_BAL</th>\n",
       "      <th>SEX</th>\n",
       "      <th>EDUCATION</th>\n",
       "      <th>MARRIAGE</th>\n",
       "      <th>AGE</th>\n",
       "      <th>PAY_0</th>\n",
       "      <th>PAY_2</th>\n",
       "      <th>PAY_3</th>\n",
       "      <th>PAY_4</th>\n",
       "      <th>PAY_5</th>\n",
       "      <th>PAY_6</th>\n",
       "      <th>BILL_AMT1</th>\n",
       "      <th>BILL_AMT2</th>\n",
       "      <th>BILL_AMT3</th>\n",
       "      <th>BILL_AMT4</th>\n",
       "      <th>BILL_AMT5</th>\n",
       "      <th>BILL_AMT6</th>\n",
       "      <th>PAY_AMT1</th>\n",
       "      <th>PAY_AMT2</th>\n",
       "      <th>PAY_AMT3</th>\n",
       "      <th>PAY_AMT4</th>\n",
       "      <th>PAY_AMT5</th>\n",
       "      <th>PAY_AMT6</th>\n",
       "      <th>default.payment.next.month</th>\n",
       "    </tr>\n",
       "  </thead>\n",
       "  <tbody>\n",
       "    <tr>\n",
       "      <th>0</th>\n",
       "      <td>1</td>\n",
       "      <td>20000.0</td>\n",
       "      <td>2</td>\n",
       "      <td>2</td>\n",
       "      <td>1</td>\n",
       "      <td>24</td>\n",
       "      <td>2</td>\n",
       "      <td>2</td>\n",
       "      <td>-1</td>\n",
       "      <td>-1</td>\n",
       "      <td>-2</td>\n",
       "      <td>-2</td>\n",
       "      <td>3913.0</td>\n",
       "      <td>3102.0</td>\n",
       "      <td>689.0</td>\n",
       "      <td>0.0</td>\n",
       "      <td>0.0</td>\n",
       "      <td>0.0</td>\n",
       "      <td>0.0</td>\n",
       "      <td>689.0</td>\n",
       "      <td>0.0</td>\n",
       "      <td>0.0</td>\n",
       "      <td>0.0</td>\n",
       "      <td>0.0</td>\n",
       "      <td>1</td>\n",
       "    </tr>\n",
       "    <tr>\n",
       "      <th>1</th>\n",
       "      <td>2</td>\n",
       "      <td>120000.0</td>\n",
       "      <td>2</td>\n",
       "      <td>2</td>\n",
       "      <td>2</td>\n",
       "      <td>26</td>\n",
       "      <td>-1</td>\n",
       "      <td>2</td>\n",
       "      <td>0</td>\n",
       "      <td>0</td>\n",
       "      <td>0</td>\n",
       "      <td>2</td>\n",
       "      <td>2682.0</td>\n",
       "      <td>1725.0</td>\n",
       "      <td>2682.0</td>\n",
       "      <td>3272.0</td>\n",
       "      <td>3455.0</td>\n",
       "      <td>3261.0</td>\n",
       "      <td>0.0</td>\n",
       "      <td>1000.0</td>\n",
       "      <td>1000.0</td>\n",
       "      <td>1000.0</td>\n",
       "      <td>0.0</td>\n",
       "      <td>2000.0</td>\n",
       "      <td>1</td>\n",
       "    </tr>\n",
       "    <tr>\n",
       "      <th>2</th>\n",
       "      <td>3</td>\n",
       "      <td>90000.0</td>\n",
       "      <td>2</td>\n",
       "      <td>2</td>\n",
       "      <td>2</td>\n",
       "      <td>34</td>\n",
       "      <td>0</td>\n",
       "      <td>0</td>\n",
       "      <td>0</td>\n",
       "      <td>0</td>\n",
       "      <td>0</td>\n",
       "      <td>0</td>\n",
       "      <td>29239.0</td>\n",
       "      <td>14027.0</td>\n",
       "      <td>13559.0</td>\n",
       "      <td>14331.0</td>\n",
       "      <td>14948.0</td>\n",
       "      <td>15549.0</td>\n",
       "      <td>1518.0</td>\n",
       "      <td>1500.0</td>\n",
       "      <td>1000.0</td>\n",
       "      <td>1000.0</td>\n",
       "      <td>1000.0</td>\n",
       "      <td>5000.0</td>\n",
       "      <td>0</td>\n",
       "    </tr>\n",
       "    <tr>\n",
       "      <th>3</th>\n",
       "      <td>4</td>\n",
       "      <td>50000.0</td>\n",
       "      <td>2</td>\n",
       "      <td>2</td>\n",
       "      <td>1</td>\n",
       "      <td>37</td>\n",
       "      <td>0</td>\n",
       "      <td>0</td>\n",
       "      <td>0</td>\n",
       "      <td>0</td>\n",
       "      <td>0</td>\n",
       "      <td>0</td>\n",
       "      <td>46990.0</td>\n",
       "      <td>48233.0</td>\n",
       "      <td>49291.0</td>\n",
       "      <td>28314.0</td>\n",
       "      <td>28959.0</td>\n",
       "      <td>29547.0</td>\n",
       "      <td>2000.0</td>\n",
       "      <td>2019.0</td>\n",
       "      <td>1200.0</td>\n",
       "      <td>1100.0</td>\n",
       "      <td>1069.0</td>\n",
       "      <td>1000.0</td>\n",
       "      <td>0</td>\n",
       "    </tr>\n",
       "    <tr>\n",
       "      <th>4</th>\n",
       "      <td>5</td>\n",
       "      <td>50000.0</td>\n",
       "      <td>1</td>\n",
       "      <td>2</td>\n",
       "      <td>1</td>\n",
       "      <td>57</td>\n",
       "      <td>-1</td>\n",
       "      <td>0</td>\n",
       "      <td>-1</td>\n",
       "      <td>0</td>\n",
       "      <td>0</td>\n",
       "      <td>0</td>\n",
       "      <td>8617.0</td>\n",
       "      <td>5670.0</td>\n",
       "      <td>35835.0</td>\n",
       "      <td>20940.0</td>\n",
       "      <td>19146.0</td>\n",
       "      <td>19131.0</td>\n",
       "      <td>2000.0</td>\n",
       "      <td>36681.0</td>\n",
       "      <td>10000.0</td>\n",
       "      <td>9000.0</td>\n",
       "      <td>689.0</td>\n",
       "      <td>679.0</td>\n",
       "      <td>0</td>\n",
       "    </tr>\n",
       "  </tbody>\n",
       "</table>\n",
       "</div>"
      ],
      "text/plain": [
       "   ID  LIMIT_BAL  SEX  EDUCATION  MARRIAGE  AGE  PAY_0  PAY_2  PAY_3  PAY_4  \\\n",
       "0   1    20000.0    2          2         1   24      2      2     -1     -1   \n",
       "1   2   120000.0    2          2         2   26     -1      2      0      0   \n",
       "2   3    90000.0    2          2         2   34      0      0      0      0   \n",
       "3   4    50000.0    2          2         1   37      0      0      0      0   \n",
       "4   5    50000.0    1          2         1   57     -1      0     -1      0   \n",
       "\n",
       "   PAY_5  PAY_6  BILL_AMT1  BILL_AMT2  BILL_AMT3  BILL_AMT4  BILL_AMT5  \\\n",
       "0     -2     -2     3913.0     3102.0      689.0        0.0        0.0   \n",
       "1      0      2     2682.0     1725.0     2682.0     3272.0     3455.0   \n",
       "2      0      0    29239.0    14027.0    13559.0    14331.0    14948.0   \n",
       "3      0      0    46990.0    48233.0    49291.0    28314.0    28959.0   \n",
       "4      0      0     8617.0     5670.0    35835.0    20940.0    19146.0   \n",
       "\n",
       "   BILL_AMT6  PAY_AMT1  PAY_AMT2  PAY_AMT3  PAY_AMT4  PAY_AMT5  PAY_AMT6  \\\n",
       "0        0.0       0.0     689.0       0.0       0.0       0.0       0.0   \n",
       "1     3261.0       0.0    1000.0    1000.0    1000.0       0.0    2000.0   \n",
       "2    15549.0    1518.0    1500.0    1000.0    1000.0    1000.0    5000.0   \n",
       "3    29547.0    2000.0    2019.0    1200.0    1100.0    1069.0    1000.0   \n",
       "4    19131.0    2000.0   36681.0   10000.0    9000.0     689.0     679.0   \n",
       "\n",
       "   default.payment.next.month  \n",
       "0                           1  \n",
       "1                           1  \n",
       "2                           0  \n",
       "3                           0  \n",
       "4                           0  "
      ]
     },
     "execution_count": 223,
     "metadata": {},
     "output_type": "execute_result"
    }
   ],
   "source": [
    "data_df.head()"
   ]
  },
  {
   "cell_type": "markdown",
   "metadata": {
    "_uuid": "80262c57b20a42f6f9bbda4e8c73ad80d137b8f7"
   },
   "source": [
    "Let's look into more details to the data."
   ]
  },
  {
   "cell_type": "code",
   "execution_count": 224,
   "metadata": {
    "_uuid": "3912ba81657dec0482d93e0d3363592bda85398d"
   },
   "outputs": [
    {
     "data": {
      "text/html": [
       "<div>\n",
       "<style>\n",
       "    .dataframe thead tr:only-child th {\n",
       "        text-align: right;\n",
       "    }\n",
       "\n",
       "    .dataframe thead th {\n",
       "        text-align: left;\n",
       "    }\n",
       "\n",
       "    .dataframe tbody tr th {\n",
       "        vertical-align: top;\n",
       "    }\n",
       "</style>\n",
       "<table border=\"1\" class=\"dataframe\">\n",
       "  <thead>\n",
       "    <tr style=\"text-align: right;\">\n",
       "      <th></th>\n",
       "      <th>ID</th>\n",
       "      <th>LIMIT_BAL</th>\n",
       "      <th>SEX</th>\n",
       "      <th>EDUCATION</th>\n",
       "      <th>MARRIAGE</th>\n",
       "      <th>AGE</th>\n",
       "      <th>PAY_0</th>\n",
       "      <th>PAY_2</th>\n",
       "      <th>PAY_3</th>\n",
       "      <th>PAY_4</th>\n",
       "      <th>PAY_5</th>\n",
       "      <th>PAY_6</th>\n",
       "      <th>BILL_AMT1</th>\n",
       "      <th>BILL_AMT2</th>\n",
       "      <th>BILL_AMT3</th>\n",
       "      <th>BILL_AMT4</th>\n",
       "      <th>BILL_AMT5</th>\n",
       "      <th>BILL_AMT6</th>\n",
       "      <th>PAY_AMT1</th>\n",
       "      <th>PAY_AMT2</th>\n",
       "      <th>PAY_AMT3</th>\n",
       "      <th>PAY_AMT4</th>\n",
       "      <th>PAY_AMT5</th>\n",
       "      <th>PAY_AMT6</th>\n",
       "      <th>default.payment.next.month</th>\n",
       "    </tr>\n",
       "  </thead>\n",
       "  <tbody>\n",
       "    <tr>\n",
       "      <th>count</th>\n",
       "      <td>30000.000000</td>\n",
       "      <td>30000.000000</td>\n",
       "      <td>30000.000000</td>\n",
       "      <td>30000.000000</td>\n",
       "      <td>30000.000000</td>\n",
       "      <td>30000.000000</td>\n",
       "      <td>30000.000000</td>\n",
       "      <td>30000.000000</td>\n",
       "      <td>30000.000000</td>\n",
       "      <td>30000.000000</td>\n",
       "      <td>30000.000000</td>\n",
       "      <td>30000.000000</td>\n",
       "      <td>30000.000000</td>\n",
       "      <td>30000.000000</td>\n",
       "      <td>3.000000e+04</td>\n",
       "      <td>30000.000000</td>\n",
       "      <td>30000.000000</td>\n",
       "      <td>30000.000000</td>\n",
       "      <td>30000.000000</td>\n",
       "      <td>3.000000e+04</td>\n",
       "      <td>30000.00000</td>\n",
       "      <td>30000.000000</td>\n",
       "      <td>30000.000000</td>\n",
       "      <td>30000.000000</td>\n",
       "      <td>30000.000000</td>\n",
       "    </tr>\n",
       "    <tr>\n",
       "      <th>mean</th>\n",
       "      <td>15000.500000</td>\n",
       "      <td>167484.322667</td>\n",
       "      <td>1.603733</td>\n",
       "      <td>1.853133</td>\n",
       "      <td>1.551867</td>\n",
       "      <td>35.485500</td>\n",
       "      <td>-0.016700</td>\n",
       "      <td>-0.133767</td>\n",
       "      <td>-0.166200</td>\n",
       "      <td>-0.220667</td>\n",
       "      <td>-0.266200</td>\n",
       "      <td>-0.291100</td>\n",
       "      <td>51223.330900</td>\n",
       "      <td>49179.075167</td>\n",
       "      <td>4.701315e+04</td>\n",
       "      <td>43262.948967</td>\n",
       "      <td>40311.400967</td>\n",
       "      <td>38871.760400</td>\n",
       "      <td>5663.580500</td>\n",
       "      <td>5.921163e+03</td>\n",
       "      <td>5225.68150</td>\n",
       "      <td>4826.076867</td>\n",
       "      <td>4799.387633</td>\n",
       "      <td>5215.502567</td>\n",
       "      <td>0.221200</td>\n",
       "    </tr>\n",
       "    <tr>\n",
       "      <th>std</th>\n",
       "      <td>8660.398374</td>\n",
       "      <td>129747.661567</td>\n",
       "      <td>0.489129</td>\n",
       "      <td>0.790349</td>\n",
       "      <td>0.521970</td>\n",
       "      <td>9.217904</td>\n",
       "      <td>1.123802</td>\n",
       "      <td>1.197186</td>\n",
       "      <td>1.196868</td>\n",
       "      <td>1.169139</td>\n",
       "      <td>1.133187</td>\n",
       "      <td>1.149988</td>\n",
       "      <td>73635.860576</td>\n",
       "      <td>71173.768783</td>\n",
       "      <td>6.934939e+04</td>\n",
       "      <td>64332.856134</td>\n",
       "      <td>60797.155770</td>\n",
       "      <td>59554.107537</td>\n",
       "      <td>16563.280354</td>\n",
       "      <td>2.304087e+04</td>\n",
       "      <td>17606.96147</td>\n",
       "      <td>15666.159744</td>\n",
       "      <td>15278.305679</td>\n",
       "      <td>17777.465775</td>\n",
       "      <td>0.415062</td>\n",
       "    </tr>\n",
       "    <tr>\n",
       "      <th>min</th>\n",
       "      <td>1.000000</td>\n",
       "      <td>10000.000000</td>\n",
       "      <td>1.000000</td>\n",
       "      <td>0.000000</td>\n",
       "      <td>0.000000</td>\n",
       "      <td>21.000000</td>\n",
       "      <td>-2.000000</td>\n",
       "      <td>-2.000000</td>\n",
       "      <td>-2.000000</td>\n",
       "      <td>-2.000000</td>\n",
       "      <td>-2.000000</td>\n",
       "      <td>-2.000000</td>\n",
       "      <td>-165580.000000</td>\n",
       "      <td>-69777.000000</td>\n",
       "      <td>-1.572640e+05</td>\n",
       "      <td>-170000.000000</td>\n",
       "      <td>-81334.000000</td>\n",
       "      <td>-339603.000000</td>\n",
       "      <td>0.000000</td>\n",
       "      <td>0.000000e+00</td>\n",
       "      <td>0.00000</td>\n",
       "      <td>0.000000</td>\n",
       "      <td>0.000000</td>\n",
       "      <td>0.000000</td>\n",
       "      <td>0.000000</td>\n",
       "    </tr>\n",
       "    <tr>\n",
       "      <th>25%</th>\n",
       "      <td>7500.750000</td>\n",
       "      <td>50000.000000</td>\n",
       "      <td>1.000000</td>\n",
       "      <td>1.000000</td>\n",
       "      <td>1.000000</td>\n",
       "      <td>28.000000</td>\n",
       "      <td>-1.000000</td>\n",
       "      <td>-1.000000</td>\n",
       "      <td>-1.000000</td>\n",
       "      <td>-1.000000</td>\n",
       "      <td>-1.000000</td>\n",
       "      <td>-1.000000</td>\n",
       "      <td>3558.750000</td>\n",
       "      <td>2984.750000</td>\n",
       "      <td>2.666250e+03</td>\n",
       "      <td>2326.750000</td>\n",
       "      <td>1763.000000</td>\n",
       "      <td>1256.000000</td>\n",
       "      <td>1000.000000</td>\n",
       "      <td>8.330000e+02</td>\n",
       "      <td>390.00000</td>\n",
       "      <td>296.000000</td>\n",
       "      <td>252.500000</td>\n",
       "      <td>117.750000</td>\n",
       "      <td>0.000000</td>\n",
       "    </tr>\n",
       "    <tr>\n",
       "      <th>50%</th>\n",
       "      <td>15000.500000</td>\n",
       "      <td>140000.000000</td>\n",
       "      <td>2.000000</td>\n",
       "      <td>2.000000</td>\n",
       "      <td>2.000000</td>\n",
       "      <td>34.000000</td>\n",
       "      <td>0.000000</td>\n",
       "      <td>0.000000</td>\n",
       "      <td>0.000000</td>\n",
       "      <td>0.000000</td>\n",
       "      <td>0.000000</td>\n",
       "      <td>0.000000</td>\n",
       "      <td>22381.500000</td>\n",
       "      <td>21200.000000</td>\n",
       "      <td>2.008850e+04</td>\n",
       "      <td>19052.000000</td>\n",
       "      <td>18104.500000</td>\n",
       "      <td>17071.000000</td>\n",
       "      <td>2100.000000</td>\n",
       "      <td>2.009000e+03</td>\n",
       "      <td>1800.00000</td>\n",
       "      <td>1500.000000</td>\n",
       "      <td>1500.000000</td>\n",
       "      <td>1500.000000</td>\n",
       "      <td>0.000000</td>\n",
       "    </tr>\n",
       "    <tr>\n",
       "      <th>75%</th>\n",
       "      <td>22500.250000</td>\n",
       "      <td>240000.000000</td>\n",
       "      <td>2.000000</td>\n",
       "      <td>2.000000</td>\n",
       "      <td>2.000000</td>\n",
       "      <td>41.000000</td>\n",
       "      <td>0.000000</td>\n",
       "      <td>0.000000</td>\n",
       "      <td>0.000000</td>\n",
       "      <td>0.000000</td>\n",
       "      <td>0.000000</td>\n",
       "      <td>0.000000</td>\n",
       "      <td>67091.000000</td>\n",
       "      <td>64006.250000</td>\n",
       "      <td>6.016475e+04</td>\n",
       "      <td>54506.000000</td>\n",
       "      <td>50190.500000</td>\n",
       "      <td>49198.250000</td>\n",
       "      <td>5006.000000</td>\n",
       "      <td>5.000000e+03</td>\n",
       "      <td>4505.00000</td>\n",
       "      <td>4013.250000</td>\n",
       "      <td>4031.500000</td>\n",
       "      <td>4000.000000</td>\n",
       "      <td>0.000000</td>\n",
       "    </tr>\n",
       "    <tr>\n",
       "      <th>max</th>\n",
       "      <td>30000.000000</td>\n",
       "      <td>1000000.000000</td>\n",
       "      <td>2.000000</td>\n",
       "      <td>6.000000</td>\n",
       "      <td>3.000000</td>\n",
       "      <td>79.000000</td>\n",
       "      <td>8.000000</td>\n",
       "      <td>8.000000</td>\n",
       "      <td>8.000000</td>\n",
       "      <td>8.000000</td>\n",
       "      <td>8.000000</td>\n",
       "      <td>8.000000</td>\n",
       "      <td>964511.000000</td>\n",
       "      <td>983931.000000</td>\n",
       "      <td>1.664089e+06</td>\n",
       "      <td>891586.000000</td>\n",
       "      <td>927171.000000</td>\n",
       "      <td>961664.000000</td>\n",
       "      <td>873552.000000</td>\n",
       "      <td>1.684259e+06</td>\n",
       "      <td>896040.00000</td>\n",
       "      <td>621000.000000</td>\n",
       "      <td>426529.000000</td>\n",
       "      <td>528666.000000</td>\n",
       "      <td>1.000000</td>\n",
       "    </tr>\n",
       "  </tbody>\n",
       "</table>\n",
       "</div>"
      ],
      "text/plain": [
       "                 ID       LIMIT_BAL           SEX     EDUCATION      MARRIAGE  \\\n",
       "count  30000.000000    30000.000000  30000.000000  30000.000000  30000.000000   \n",
       "mean   15000.500000   167484.322667      1.603733      1.853133      1.551867   \n",
       "std     8660.398374   129747.661567      0.489129      0.790349      0.521970   \n",
       "min        1.000000    10000.000000      1.000000      0.000000      0.000000   \n",
       "25%     7500.750000    50000.000000      1.000000      1.000000      1.000000   \n",
       "50%    15000.500000   140000.000000      2.000000      2.000000      2.000000   \n",
       "75%    22500.250000   240000.000000      2.000000      2.000000      2.000000   \n",
       "max    30000.000000  1000000.000000      2.000000      6.000000      3.000000   \n",
       "\n",
       "                AGE         PAY_0         PAY_2         PAY_3         PAY_4  \\\n",
       "count  30000.000000  30000.000000  30000.000000  30000.000000  30000.000000   \n",
       "mean      35.485500     -0.016700     -0.133767     -0.166200     -0.220667   \n",
       "std        9.217904      1.123802      1.197186      1.196868      1.169139   \n",
       "min       21.000000     -2.000000     -2.000000     -2.000000     -2.000000   \n",
       "25%       28.000000     -1.000000     -1.000000     -1.000000     -1.000000   \n",
       "50%       34.000000      0.000000      0.000000      0.000000      0.000000   \n",
       "75%       41.000000      0.000000      0.000000      0.000000      0.000000   \n",
       "max       79.000000      8.000000      8.000000      8.000000      8.000000   \n",
       "\n",
       "              PAY_5         PAY_6      BILL_AMT1      BILL_AMT2     BILL_AMT3  \\\n",
       "count  30000.000000  30000.000000   30000.000000   30000.000000  3.000000e+04   \n",
       "mean      -0.266200     -0.291100   51223.330900   49179.075167  4.701315e+04   \n",
       "std        1.133187      1.149988   73635.860576   71173.768783  6.934939e+04   \n",
       "min       -2.000000     -2.000000 -165580.000000  -69777.000000 -1.572640e+05   \n",
       "25%       -1.000000     -1.000000    3558.750000    2984.750000  2.666250e+03   \n",
       "50%        0.000000      0.000000   22381.500000   21200.000000  2.008850e+04   \n",
       "75%        0.000000      0.000000   67091.000000   64006.250000  6.016475e+04   \n",
       "max        8.000000      8.000000  964511.000000  983931.000000  1.664089e+06   \n",
       "\n",
       "           BILL_AMT4      BILL_AMT5      BILL_AMT6       PAY_AMT1  \\\n",
       "count   30000.000000   30000.000000   30000.000000   30000.000000   \n",
       "mean    43262.948967   40311.400967   38871.760400    5663.580500   \n",
       "std     64332.856134   60797.155770   59554.107537   16563.280354   \n",
       "min   -170000.000000  -81334.000000 -339603.000000       0.000000   \n",
       "25%      2326.750000    1763.000000    1256.000000    1000.000000   \n",
       "50%     19052.000000   18104.500000   17071.000000    2100.000000   \n",
       "75%     54506.000000   50190.500000   49198.250000    5006.000000   \n",
       "max    891586.000000  927171.000000  961664.000000  873552.000000   \n",
       "\n",
       "           PAY_AMT2      PAY_AMT3       PAY_AMT4       PAY_AMT5  \\\n",
       "count  3.000000e+04   30000.00000   30000.000000   30000.000000   \n",
       "mean   5.921163e+03    5225.68150    4826.076867    4799.387633   \n",
       "std    2.304087e+04   17606.96147   15666.159744   15278.305679   \n",
       "min    0.000000e+00       0.00000       0.000000       0.000000   \n",
       "25%    8.330000e+02     390.00000     296.000000     252.500000   \n",
       "50%    2.009000e+03    1800.00000    1500.000000    1500.000000   \n",
       "75%    5.000000e+03    4505.00000    4013.250000    4031.500000   \n",
       "max    1.684259e+06  896040.00000  621000.000000  426529.000000   \n",
       "\n",
       "            PAY_AMT6  default.payment.next.month  \n",
       "count   30000.000000                30000.000000  \n",
       "mean     5215.502567                    0.221200  \n",
       "std     17777.465775                    0.415062  \n",
       "min         0.000000                    0.000000  \n",
       "25%       117.750000                    0.000000  \n",
       "50%      1500.000000                    0.000000  \n",
       "75%      4000.000000                    0.000000  \n",
       "max    528666.000000                    1.000000  "
      ]
     },
     "execution_count": 224,
     "metadata": {},
     "output_type": "execute_result"
    }
   ],
   "source": [
    "data_df.describe()"
   ]
  },
  {
   "cell_type": "markdown",
   "metadata": {
    "_uuid": "f6ddff00531bf0fb0426ae16439b0c85209fec20"
   },
   "source": [
    "There are 30,000 distinct credit card clients.  \n",
    "\n",
    "The average value for the amount of credit card limit is 167,484. The standard deviation is unusually large, max value being 1M.\n",
    "\n",
    "Education level is mostly graduate school and university.\n",
    "\n",
    "Most of the clients are either marrined or single (less frequent the other status).\n",
    "\n",
    "Average age is 35.5 years, with a standard deviation of 9.2.\n",
    "\n",
    "As the value 0 for default payment means 'not default' and value 1 means 'default', the mean of 0.221 means that there are 22.1% of credit card contracts that will default next month (will verify this in the next sections of this analysis).\n"
   ]
  },
  {
   "cell_type": "markdown",
   "metadata": {
    "_uuid": "6ad232af9cc809e5c3d4a845e84f6040acdc0092"
   },
   "source": [
    "## <a id=\"42\">Check missing data</a>  \n",
    "\n",
    "Let's check if there is any missing data."
   ]
  },
  {
   "cell_type": "code",
   "execution_count": 225,
   "metadata": {
    "_uuid": "f2bdced82e9bb59ec24ac299085923f2e6ac1443"
   },
   "outputs": [
    {
     "data": {
      "text/html": [
       "<div>\n",
       "<style>\n",
       "    .dataframe thead tr:only-child th {\n",
       "        text-align: right;\n",
       "    }\n",
       "\n",
       "    .dataframe thead th {\n",
       "        text-align: left;\n",
       "    }\n",
       "\n",
       "    .dataframe tbody tr th {\n",
       "        vertical-align: top;\n",
       "    }\n",
       "</style>\n",
       "<table border=\"1\" class=\"dataframe\">\n",
       "  <thead>\n",
       "    <tr style=\"text-align: right;\">\n",
       "      <th></th>\n",
       "      <th>default.payment.next.month</th>\n",
       "      <th>PAY_6</th>\n",
       "      <th>LIMIT_BAL</th>\n",
       "      <th>SEX</th>\n",
       "      <th>EDUCATION</th>\n",
       "      <th>MARRIAGE</th>\n",
       "      <th>AGE</th>\n",
       "      <th>PAY_0</th>\n",
       "      <th>PAY_2</th>\n",
       "      <th>PAY_3</th>\n",
       "      <th>PAY_4</th>\n",
       "      <th>PAY_5</th>\n",
       "      <th>BILL_AMT1</th>\n",
       "      <th>PAY_AMT6</th>\n",
       "      <th>BILL_AMT2</th>\n",
       "      <th>BILL_AMT3</th>\n",
       "      <th>BILL_AMT4</th>\n",
       "      <th>BILL_AMT5</th>\n",
       "      <th>BILL_AMT6</th>\n",
       "      <th>PAY_AMT1</th>\n",
       "      <th>PAY_AMT2</th>\n",
       "      <th>PAY_AMT3</th>\n",
       "      <th>PAY_AMT4</th>\n",
       "      <th>PAY_AMT5</th>\n",
       "      <th>ID</th>\n",
       "    </tr>\n",
       "  </thead>\n",
       "  <tbody>\n",
       "    <tr>\n",
       "      <th>Total</th>\n",
       "      <td>0.0</td>\n",
       "      <td>0.0</td>\n",
       "      <td>0.0</td>\n",
       "      <td>0.0</td>\n",
       "      <td>0.0</td>\n",
       "      <td>0.0</td>\n",
       "      <td>0.0</td>\n",
       "      <td>0.0</td>\n",
       "      <td>0.0</td>\n",
       "      <td>0.0</td>\n",
       "      <td>0.0</td>\n",
       "      <td>0.0</td>\n",
       "      <td>0.0</td>\n",
       "      <td>0.0</td>\n",
       "      <td>0.0</td>\n",
       "      <td>0.0</td>\n",
       "      <td>0.0</td>\n",
       "      <td>0.0</td>\n",
       "      <td>0.0</td>\n",
       "      <td>0.0</td>\n",
       "      <td>0.0</td>\n",
       "      <td>0.0</td>\n",
       "      <td>0.0</td>\n",
       "      <td>0.0</td>\n",
       "      <td>0.0</td>\n",
       "    </tr>\n",
       "    <tr>\n",
       "      <th>Percent</th>\n",
       "      <td>0.0</td>\n",
       "      <td>0.0</td>\n",
       "      <td>0.0</td>\n",
       "      <td>0.0</td>\n",
       "      <td>0.0</td>\n",
       "      <td>0.0</td>\n",
       "      <td>0.0</td>\n",
       "      <td>0.0</td>\n",
       "      <td>0.0</td>\n",
       "      <td>0.0</td>\n",
       "      <td>0.0</td>\n",
       "      <td>0.0</td>\n",
       "      <td>0.0</td>\n",
       "      <td>0.0</td>\n",
       "      <td>0.0</td>\n",
       "      <td>0.0</td>\n",
       "      <td>0.0</td>\n",
       "      <td>0.0</td>\n",
       "      <td>0.0</td>\n",
       "      <td>0.0</td>\n",
       "      <td>0.0</td>\n",
       "      <td>0.0</td>\n",
       "      <td>0.0</td>\n",
       "      <td>0.0</td>\n",
       "      <td>0.0</td>\n",
       "    </tr>\n",
       "  </tbody>\n",
       "</table>\n",
       "</div>"
      ],
      "text/plain": [
       "         default.payment.next.month  PAY_6  LIMIT_BAL  SEX  EDUCATION  \\\n",
       "Total                           0.0    0.0        0.0  0.0        0.0   \n",
       "Percent                         0.0    0.0        0.0  0.0        0.0   \n",
       "\n",
       "         MARRIAGE  AGE  PAY_0  PAY_2  PAY_3  PAY_4  PAY_5  BILL_AMT1  \\\n",
       "Total         0.0  0.0    0.0    0.0    0.0    0.0    0.0        0.0   \n",
       "Percent       0.0  0.0    0.0    0.0    0.0    0.0    0.0        0.0   \n",
       "\n",
       "         PAY_AMT6  BILL_AMT2  BILL_AMT3  BILL_AMT4  BILL_AMT5  BILL_AMT6  \\\n",
       "Total         0.0        0.0        0.0        0.0        0.0        0.0   \n",
       "Percent       0.0        0.0        0.0        0.0        0.0        0.0   \n",
       "\n",
       "         PAY_AMT1  PAY_AMT2  PAY_AMT3  PAY_AMT4  PAY_AMT5   ID  \n",
       "Total         0.0       0.0       0.0       0.0       0.0  0.0  \n",
       "Percent       0.0       0.0       0.0       0.0       0.0  0.0  "
      ]
     },
     "execution_count": 225,
     "metadata": {},
     "output_type": "execute_result"
    }
   ],
   "source": [
    "total = data_df.isnull().sum().sort_values(ascending = False)\n",
    "percent = (data_df.isnull().sum()/data_df.isnull().count()*100).sort_values(ascending = False)\n",
    "pd.concat([total, percent], axis=1, keys=['Total', 'Percent']).transpose()"
   ]
  },
  {
   "cell_type": "markdown",
   "metadata": {
    "_uuid": "5511ffa0221787a74267be037ef69b78f27d376a"
   },
   "source": [
    "There is no missing data in the entire dataset."
   ]
  },
  {
   "cell_type": "markdown",
   "metadata": {
    "_uuid": "8c2e96567145b1a38cd61dd923897da4723466c7"
   },
   "source": [
    "## <a id=\"43\">Data unbalance</a>"
   ]
  },
  {
   "cell_type": "markdown",
   "metadata": {
    "_uuid": "eef10eb62d24eae34579d9ac6f5a517ddb71e5a6"
   },
   "source": [
    "Let's check data unbalance with respect with *target* value, i.e. **default.payment.next.month**."
   ]
  },
  {
   "cell_type": "code",
   "execution_count": 226,
   "metadata": {
    "_uuid": "67c4920c60ce33313ae3bedbd82c14c5bd49c5a1"
   },
   "outputs": [
    {
     "data": {
      "image/png": "[encoded data removed]",
      "text/plain": [
       "<matplotlib.figure.Figure at 0x1f9c46051d0>"
      ]
     },
     "metadata": {},
     "output_type": "display_data"
    }
   ],
   "source": [
    "temp = data_df[\"default.payment.next.month\"].value_counts()\n",
    "df = pd.DataFrame({'default.payment.next.month': temp.index,'values': temp.values})\n",
    "plt.figure(figsize = (6,6))\n",
    "plt.title('Default Credit Card Clients - target value - data unbalance\\n (Default = 0, Not Default = 1)')\n",
    "sns.set_color_codes(\"pastel\")\n",
    "sns.barplot(x = 'default.payment.next.month', y=\"values\", data=df)\n",
    "locs, labels = plt.xticks()\n",
    "plt.show()"
   ]
  },
  {
   "cell_type": "markdown",
   "metadata": {
    "_uuid": "c7ebb8773d38e903073e1d3b721f772ca0984f98"
   },
   "source": [
    "A number of **6,636** out of **30,000** (or **22%**) of clients will default next month. The data has not a large unbalance with respect of the target value (default.payment.next.month)."
   ]
  },
  {
   "cell_type": "markdown",
   "metadata": {
    "_uuid": "8b0e7324cb445d29098fdb9f6208a14c77f7f8a7"
   },
   "source": [
    "# <a id=\"5\">Data exploration</a>"
   ]
  },
  {
   "cell_type": "markdown",
   "metadata": {
    "_uuid": "38e84dcf84e5896a316f08ab6229566ff8b60904"
   },
   "source": [
    "## Amount of credit limit "
   ]
  },
  {
   "cell_type": "code",
   "execution_count": 227,
   "metadata": {
    "_uuid": "0b7032c010899f834f3f88733252681c303234d0"
   },
   "outputs": [
    {
     "data": {
      "image/png": "[encoded data removed]",
      "text/plain": [
       "<matplotlib.figure.Figure at 0x1f9c3bfdd30>"
      ]
     },
     "metadata": {},
     "output_type": "display_data"
    }
   ],
   "source": [
    "plt.figure(figsize = (14,6))\n",
    "plt.title('Amount of credit limit - Density Plot')\n",
    "sns.set_color_codes(\"pastel\")\n",
    "sns.distplot(data_df['LIMIT_BAL'],kde=True,bins=200, color=\"blue\")\n",
    "plt.show()"
   ]
  },
  {
   "cell_type": "markdown",
   "metadata": {
    "_uuid": "5fba2d715f95af762f9dfaeb3d99bbb0bb57a57f"
   },
   "source": [
    "Largest group of amount of credit limit is apparently for amount of 50K. Let's verify this."
   ]
  },
  {
   "cell_type": "code",
   "execution_count": 228,
   "metadata": {
    "_uuid": "8cd18216790a60a629727243f1f1ab653bec74c3"
   },
   "outputs": [
    {
     "data": {
      "text/plain": [
       "(81,)"
      ]
     },
     "execution_count": 228,
     "metadata": {},
     "output_type": "execute_result"
    }
   ],
   "source": [
    "data_df['LIMIT_BAL'].value_counts().shape"
   ]
  },
  {
   "cell_type": "code",
   "execution_count": 229,
   "metadata": {
    "_uuid": "fe97906bb5449a468e13c985570e1130a7783014"
   },
   "outputs": [
    {
     "ename": "SyntaxError",
     "evalue": "invalid syntax (<ipython-input-229-c830f143a829>, line 1)",
     "output_type": "error",
     "traceback": [
      "\u001b[1;36m  File \u001b[1;32m\"<ipython-input-229-c830f143a829>\"\u001b[1;36m, line \u001b[1;32m1\u001b[0m\n\u001b[1;33m    There are 81 distinct values for amount of credit limit.\u001b[0m\n\u001b[1;37m            ^\u001b[0m\n\u001b[1;31mSyntaxError\u001b[0m\u001b[1;31m:\u001b[0m invalid syntax\n"
     ]
    }
   ],
   "source": [
    "There are 81 distinct values for amount of credit limit."
   ]
  },
  {
   "cell_type": "code",
   "execution_count": 230,
   "metadata": {
    "_uuid": "d3a0a2910f74d03dca2642b6c2220f54cffa57cd"
   },
   "outputs": [
    {
     "data": {
      "text/plain": [
       "50000.0     3365\n",
       "20000.0     1976\n",
       "30000.0     1610\n",
       "80000.0     1567\n",
       "200000.0    1528\n",
       "Name: LIMIT_BAL, dtype: int64"
      ]
     },
     "execution_count": 230,
     "metadata": {},
     "output_type": "execute_result"
    }
   ],
   "source": [
    "data_df['LIMIT_BAL'].value_counts().head(5)"
   ]
  },
  {
   "cell_type": "markdown",
   "metadata": {
    "_uuid": "244921c20997e95c9c13dba45b49a5c2831b0baa"
   },
   "source": [
    "Indeed, the largest number of credit cards are with limit of 50,000 (3365), followed by 20,000 (1976) and 30,000 (1610)."
   ]
  },
  {
   "cell_type": "markdown",
   "metadata": {
    "_uuid": "fd204caf88b1b7b9edd15ed368719a6f9a48b3ed"
   },
   "source": [
    "## Amount of credit limit grouped by default payment next month\n",
    "\n",
    "Let's visualize the density plot for amount of credit limit (LIMIT_BAL), grouped by default payment next month."
   ]
  },
  {
   "cell_type": "code",
   "execution_count": 231,
   "metadata": {
    "_uuid": "9798df0ce9321bf990e7fb2f3be19f5608face82"
   },
   "outputs": [
    {
     "data": {
      "image/png": "[encoded data removed]",
      "text/plain": [
       "<matplotlib.figure.Figure at 0x1f9c3ebee48>"
      ]
     },
     "metadata": {},
     "output_type": "display_data"
    }
   ],
   "source": [
    "class_0 = data_df.loc[data_df['default.payment.next.month'] == 0][\"LIMIT_BAL\"]\n",
    "class_1 = data_df.loc[data_df['default.payment.next.month'] == 1][\"LIMIT_BAL\"]\n",
    "plt.figure(figsize = (14,6))\n",
    "plt.title('Default amount of credit limit  - grouped by Payment Next Month (Density Plot)')\n",
    "sns.set_color_codes(\"pastel\")\n",
    "sns.distplot(class_1,kde=True,bins=200, color=\"red\")\n",
    "sns.distplot(class_0,kde=True,bins=200, color=\"green\")\n",
    "plt.show()"
   ]
  },
  {
   "cell_type": "markdown",
   "metadata": {
    "_uuid": "95646db55a5e0995a929707e6fd44c0a5d5618ac"
   },
   "source": [
    "Most of defaults are for credit limits 0-100,000 (and density for this interval is larger for defaults than for non-defaults). Larger defaults number are for the amounts of **50,000**, **20,000** and **30,000**."
   ]
  },
  {
   "cell_type": "markdown",
   "metadata": {
    "_uuid": "40da097ab03cd0e9fc5ea989da1d89c92cb7e21b"
   },
   "source": [
    "## Credit limit vs. sex\n",
    "\n",
    "Let's check the credit limit distribution vs. sex. For the sex, 1 stands for male and 2 for female."
   ]
  },
  {
   "cell_type": "code",
   "execution_count": 232,
   "metadata": {
    "_uuid": "72ff6c3fd8a0934f5031951801ab948c6b296d77"
   },
   "outputs": [
    {
     "data": {
      "image/png": "[encoded data removed]",
      "text/plain": [
       "<matplotlib.figure.Figure at 0x1f9c3919400>"
      ]
     },
     "metadata": {},
     "output_type": "display_data"
    }
   ],
   "source": [
    "fig, (ax1, ax2) = plt.subplots(ncols=2, figsize=(12,6))\n",
    "s = sns.boxplot(ax = ax1, x=\"SEX\", y=\"LIMIT_BAL\", hue=\"SEX\",data=data_df, palette=\"PRGn\",showfliers=True)\n",
    "s = sns.boxplot(ax = ax2, x=\"SEX\", y=\"LIMIT_BAL\", hue=\"SEX\",data=data_df, palette=\"PRGn\",showfliers=False)\n",
    "plt.show();"
   ]
  },
  {
   "cell_type": "markdown",
   "metadata": {
    "_uuid": "b01cbd6fb011fd3fd7e252e569f6a5ba46aebf6a"
   },
   "source": [
    "The limit credit amount is quite balanced between sexes. The males have a slightly smaller Q2 and larger Q3 and Q4 and a lower mean. The female have a larger outlier max value (1M NT dollars)."
   ]
  },
  {
   "cell_type": "markdown",
   "metadata": {
    "_uuid": "1506dcdccb8aa2c7b81f5414b1f8bb7a60090b82"
   },
   "source": [
    "## Features correlation\n",
    "\n",
    "\n",
    "For the numeric values, let's represent the features correlation.\n",
    "\n",
    "\n",
    "Let's check the correlation of Amount of bill statement in April - September 2005."
   ]
  },
  {
   "cell_type": "code",
   "execution_count": 233,
   "metadata": {
    "_uuid": "7035f4813494ee6f34f975f479d966682879472d"
   },
   "outputs": [
    {
     "data": {
      "image/png": "[encoded data removed]",
      "text/plain": [
       "<matplotlib.figure.Figure at 0x1f9c4743160>"
      ]
     },
     "metadata": {},
     "output_type": "display_data"
    }
   ],
   "source": [
    "var = ['BILL_AMT1','BILL_AMT2','BILL_AMT3','BILL_AMT4','BILL_AMT5','BILL_AMT6']\n",
    "\n",
    "plt.figure(figsize = (8,8))\n",
    "plt.title('Amount of bill statement (Apr-Sept) \\ncorrelation plot (Pearson)')\n",
    "corr = data_df[var].corr()\n",
    "sns.heatmap(corr,xticklabels=corr.columns,yticklabels=corr.columns,linewidths=.1,vmin=-1, vmax=1)\n",
    "plt.show()"
   ]
  },
  {
   "cell_type": "markdown",
   "metadata": {
    "_uuid": "bbfc979befbe1c8363a97a2a69524c474be06d2a"
   },
   "source": [
    "Correlation is decreasing with distance between months. Lowest correlations are between Sept-April.\n",
    "\n",
    "\n",
    "Let's check the correlation of Amount of previous payment in April - September 2005."
   ]
  },
  {
   "cell_type": "code",
   "execution_count": 234,
   "metadata": {
    "_uuid": "2b144559a50de07d20577d0f81e34a19ccad9d0b"
   },
   "outputs": [
    {
     "data": {
      "image/png": "[encoded data removed]",
      "text/plain": [
       "<matplotlib.figure.Figure at 0x1f9c519f6a0>"
      ]
     },
     "metadata": {},
     "output_type": "display_data"
    }
   ],
   "source": [
    "var = ['PAY_AMT1', 'PAY_AMT2', 'PAY_AMT3', 'PAY_AMT4', 'PAY_AMT5']\n",
    "\n",
    "plt.figure(figsize = (8,8))\n",
    "plt.title('Amount of previous payment (Apr-Sept) \\ncorrelation plot (Pearson)')\n",
    "corr = data_df[var].corr()\n",
    "sns.heatmap(corr,xticklabels=corr.columns,yticklabels=corr.columns,linewidths=.1,vmin=-1, vmax=1)\n",
    "plt.show()"
   ]
  },
  {
   "cell_type": "markdown",
   "metadata": {
    "_uuid": "c9d47399c40e9a5ad0201b04a6cd2b0c260960ac"
   },
   "source": [
    "There are no correlations between amounts of previous payments for April-Sept 2005.\n",
    "\n",
    "Let's check the correlation between Repayment status in April - September 2005."
   ]
  },
  {
   "cell_type": "code",
   "execution_count": 235,
   "metadata": {
    "_uuid": "a13839465e9821dfa37e023a2162c57b6cf5e50f"
   },
   "outputs": [
    {
     "data": {
      "image/png": "[encoded data removed]",
      "text/plain": [
       "<matplotlib.figure.Figure at 0x1f9c46f09b0>"
      ]
     },
     "metadata": {},
     "output_type": "display_data"
    }
   ],
   "source": [
    "var = ['PAY_0','PAY_2', 'PAY_3', 'PAY_4', 'PAY_5', 'PAY_6']\n",
    "\n",
    "plt.figure(figsize = (8,8))\n",
    "plt.title('Repayment status (Apr-Sept) \\ncorrelation plot (Pearson)')\n",
    "corr = data_df[var].corr()\n",
    "sns.heatmap(corr,xticklabels=corr.columns,yticklabels=corr.columns,linewidths=.1,vmin=-1, vmax=1)\n",
    "plt.show()"
   ]
  },
  {
   "cell_type": "markdown",
   "metadata": {
    "_uuid": "f8d995583794380d13d912ee16708a810264a596"
   },
   "source": [
    "Correlation is decreasing with distance between months. Lowest correlations are between Sept-April.\n"
   ]
  },
  {
   "cell_type": "markdown",
   "metadata": {
    "_uuid": "15585be1ea3a15dfa71f94dfa3b3e2eecbb4860b"
   },
   "source": [
    "## Sex, Education, Age and Marriage\n",
    "\n",
    "\n",
    "Let's show sex, education, age and marriage distributions.\n",
    "\n",
    "We start by showing the boxplots with age distribution grouped by marriage status and sex.\n",
    "\n",
    "Marriage status meaning is:\n",
    "\n",
    "* 0 : unknown (let's consider as others as well)\n",
    "* 1 : married\n",
    "* 2 : single\n",
    "* 3 : others\n",
    "\n",
    "Sex meaning is:\n",
    "\n",
    "* 1 : male\n",
    "* 2 : female\n"
   ]
  },
  {
   "cell_type": "code",
   "execution_count": 236,
   "metadata": {
    "_uuid": "1cc27afe1ac18475a587fa48c2546a772ba113d7",
    "collapsed": true
   },
   "outputs": [],
   "source": [
    "def boxplot_variation(feature1, feature2, feature3, width=16):\n",
    "    fig, ax1 = plt.subplots(ncols=1, figsize=(width,6))\n",
    "    s = sns.boxplot(ax = ax1, x=feature1, y=feature2, hue=feature3,\n",
    "                data=data_df, palette=\"PRGn\",showfliers=False)\n",
    "    s.set_xticklabels(s.get_xticklabels(),rotation=90)\n",
    "    plt.show();"
   ]
  },
  {
   "cell_type": "code",
   "execution_count": 237,
   "metadata": {
    "_uuid": "171bf9085be850d9f2379e747a8426bb2393eef0"
   },
   "outputs": [
    {
     "data": {
      "image/png": "[encoded data removed]",
      "text/plain": [
       "<matplotlib.figure.Figure at 0x1f9c548db70>"
      ]
     },
     "metadata": {},
     "output_type": "display_data"
    }
   ],
   "source": [
    "boxplot_variation('MARRIAGE','AGE', 'SEX',8)"
   ]
  },
  {
   "cell_type": "markdown",
   "metadata": {
    "_uuid": "cd69a5d738b7fc2a2e0ee831f52df7ab58af8fec"
   },
   "source": [
    "It looks like Married status 3 (others), with mean values over 40 and Q4 values over 60 means mostly vidowed or divorced whilst Married status 0 could be not specified or divorced, as Q1 values are above values for married of both sexes.\n",
    "\n",
    "Married males have mean age above married women. Unmarried males have mean value for age above unmarried women as well but closer. Q3 abd Q4 values for married man are above corresponding values for married women.\n",
    "\n",
    "\n",
    "Let's show the boxplots with age distribution grouped by education and marriage.\n",
    "\n",
    "Education status meaning is:\n",
    "\n",
    "* 1 : graduate school\n",
    "* 2 : university\n",
    "* 3 : high school\n",
    "* 4 : others\n",
    "* 5 : unknown\n",
    "* 6 : unknow\n"
   ]
  },
  {
   "cell_type": "code",
   "execution_count": 238,
   "metadata": {
    "_uuid": "cab11aebd3ab5b2e413715c4018d7797aab8f589"
   },
   "outputs": [
    {
     "data": {
      "image/png": "[encoded data removed]",
      "text/plain": [
       "<matplotlib.figure.Figure at 0x1f9c4a5e7f0>"
      ]
     },
     "metadata": {},
     "output_type": "display_data"
    }
   ],
   "source": [
    "boxplot_variation('EDUCATION','AGE', 'MARRIAGE',12)"
   ]
  },
  {
   "cell_type": "markdown",
   "metadata": {
    "_uuid": "dccd80920ad4f691b4bd1eb235eaec7cc60e1d76"
   },
   "source": [
    "## Age, sex and credit amount limit\n",
    "\n",
    "\n",
    "Let's show the  boxplots with credit amount limit distribution grouped by age and sex.\n",
    "\n"
   ]
  },
  {
   "cell_type": "code",
   "execution_count": 239,
   "metadata": {
    "_uuid": "061e4e1659f8f2ff296c019792a00c4fc220f965"
   },
   "outputs": [
    {
     "data": {
      "image/png": "[encoded data removed]",
      "text/plain": [
       "<matplotlib.figure.Figure at 0x1f9c47b45c0>"
      ]
     },
     "metadata": {},
     "output_type": "display_data"
    }
   ],
   "source": [
    "boxplot_variation('AGE','LIMIT_BAL', 'SEX',16)"
   ]
  },
  {
   "cell_type": "markdown",
   "metadata": {
    "_uuid": "6f8f6e53c1e11982e0b93ea8343edbc8c4ff5626"
   },
   "source": [
    "Mean, Q3 and Q4 values are increasing for both male and female with age until aroung 35 years and then they are oscilating and get to a maximum of Q4 for males at age 64.\n",
    "\n",
    "Mean values are generally smaller for males than for females, with few exceptions, for example at age 39, 48, until approximately 60, where mean values for males are generally larger than for females.\n",
    "\n"
   ]
  },
  {
   "cell_type": "markdown",
   "metadata": {
    "_uuid": "4e0a341c5021a2fa9b2a83d904ecf93f7fdafb13"
   },
   "source": [
    "## Marriage status, education level and credit amount limit\n",
    "\n",
    "\n",
    "Let's show the  boxplots with credit amount limit distribution grouped by marriage status and education level."
   ]
  },
  {
   "cell_type": "code",
   "execution_count": 240,
   "metadata": {
    "_uuid": "12a00ca1674ae0fa4bbe4be1c88d6e3b7f982ed4"
   },
   "outputs": [
    {
     "data": {
      "image/png": "[encoded data removed]",
      "text/plain": [
       "<matplotlib.figure.Figure at 0x1f9c353ce48>"
      ]
     },
     "metadata": {},
     "output_type": "display_data"
    }
   ],
   "source": [
    "boxplot_variation('MARRIAGE','LIMIT_BAL', 'EDUCATION',12)"
   ]
  },
  {
   "cell_type": "markdown",
   "metadata": {
    "_uuid": "73afc4261ca3b69f57522d88b5d47fd09aa1719b"
   },
   "source": [
    "# <a id=\"6\">Predictive models</a>  \n",
    "\n"
   ]
  },
  {
   "cell_type": "markdown",
   "metadata": {
    "_uuid": "596403a32cf55fdecf560e1d224d56b0f05b27d3"
   },
   "source": [
    "### Define predictors and target values\n",
    "\n",
    "Let's define the predictor features and the target features. Categorical features, if any, are also defined. In our case, there are no categorical feature."
   ]
  },
  {
   "cell_type": "code",
   "execution_count": 241,
   "metadata": {
    "_uuid": "ed83bdac133ff9798c30e47251b9df9b1caaebf2",
    "collapsed": true
   },
   "outputs": [],
   "source": [
    "target = 'default.payment.next.month'\n",
    "predictors = [  'LIMIT_BAL', 'SEX', 'EDUCATION', 'MARRIAGE', 'AGE', \n",
    "                'PAY_0', 'PAY_2', 'PAY_3', 'PAY_4', 'PAY_5', 'PAY_6', \n",
    "                'BILL_AMT1','BILL_AMT2', 'BILL_AMT3', 'BILL_AMT4', 'BILL_AMT5', 'BILL_AMT6',\n",
    "                'PAY_AMT1', 'PAY_AMT2', 'PAY_AMT3', 'PAY_AMT4', 'PAY_AMT5', 'PAY_AMT6']"
   ]
  },
  {
   "cell_type": "markdown",
   "metadata": {
    "_uuid": "87ecb2db1421b29644b62775a84a874a9d2d4d4b"
   },
   "source": [
    "### Split data in train and validation set\n",
    "\n",
    "Let's define train and validation sets."
   ]
  },
  {
   "cell_type": "code",
   "execution_count": 242,
   "metadata": {
    "_uuid": "7cba85c44c5b6522daa9a0f7cea8529034c0fbe2",
    "collapsed": true
   },
   "outputs": [],
   "source": [
    "train_df, val_df = train_test_split(data_df, test_size=VALID_SIZE, random_state=RANDOM_STATE, shuffle=True )"
   ]
  },
  {
   "cell_type": "markdown",
   "metadata": {
    "_uuid": "69bcbd2d41e85d4d9ef387002b38eea21b0db33d"
   },
   "source": [
    "We also make copies of the train_df and val_df for later usage."
   ]
  },
  {
   "cell_type": "code",
   "execution_count": 243,
   "metadata": {
    "_uuid": "39e5bd937ae1eb4fdf4157aba7401ce06e1552a4",
    "collapsed": true
   },
   "outputs": [],
   "source": [
    "train_df_bkp = train_df.copy()\n",
    "val_df_bkp = val_df.copy()"
   ]
  },
  {
   "cell_type": "markdown",
   "metadata": {
    "_uuid": "1a7bacba0608e42987611ec8dcd92bf23bacee06"
   },
   "source": [
    "Let's start with a RandomForrestClassifier <a href='#8'>[3]</a>   model."
   ]
  },
  {
   "cell_type": "markdown",
   "metadata": {
    "_uuid": "096f1893c45701dd88e0f96b680a21d426a6925c"
   },
   "source": [
    "## <a id=\"61\">RandomForestClassifier</a>\n",
    "\n",
    "\n",
    "### Define model parameters\n",
    "\n",
    "Let's set the parameters for the model."
   ]
  },
  {
   "cell_type": "markdown",
   "metadata": {
    "_uuid": "e899349135d54641ab939fff53679195af84762e"
   },
   "source": [
    "Let's run a model using the training set for training. Then, we will use the validation set for validation. \n",
    "\n",
    "We will use as validation criterion **GINI**, which formula is **GINI = 2 * (AUC) - 1**, where **AUC** is the **Receiver Operating Characteristic - Area Under Curve (ROC-AUC)** <a href='#8'>[4]</a>.  Number of estimators is set to **100** and number of parallel jobs is set to **4**.\n",
    "\n",
    "We start by initializing the RandomForestClassifier."
   ]
  },
  {
   "cell_type": "code",
   "execution_count": 244,
   "metadata": {
    "_uuid": "0b68705dd0608bd3c7aa47155a36267eab7579f5",
    "collapsed": true
   },
   "outputs": [],
   "source": [
    "clf = RandomForestClassifier(n_jobs=NO_JOBS, \n",
    "                             random_state=RANDOM_STATE,\n",
    "                             criterion=RFC_METRIC,\n",
    "                             n_estimators=NUM_ESTIMATORS,\n",
    "                             verbose=False)"
   ]
  },
  {
   "cell_type": "markdown",
   "metadata": {
    "_uuid": "9b8f790b4e490d9027101b00280f02db4edce713"
   },
   "source": [
    "Let's train the **RandonForestClassifier** using the **train_df** data and **fit** function."
   ]
  },
  {
   "cell_type": "code",
   "execution_count": 245,
   "metadata": {
    "_uuid": "e192077d77551fa432b472ad58d96e4724e005e2"
   },
   "outputs": [
    {
     "data": {
      "text/plain": [
       "RandomForestClassifier(bootstrap=True, class_weight=None, criterion='gini',\n",
       "            max_depth=None, max_features='auto', max_leaf_nodes=None,\n",
       "            min_impurity_decrease=0.0, min_impurity_split=None,\n",
       "            min_samples_leaf=1, min_samples_split=2,\n",
       "            min_weight_fraction_leaf=0.0, n_estimators=100, n_jobs=4,\n",
       "            oob_score=False, random_state=2018, verbose=False,\n",
       "            warm_start=False)"
      ]
     },
     "execution_count": 245,
     "metadata": {},
     "output_type": "execute_result"
    }
   ],
   "source": [
    "clf.fit(train_df[predictors], train_df[target].values)"
   ]
  },
  {
   "cell_type": "markdown",
   "metadata": {
    "_uuid": "8ceaf179b74cabe9e1c2375196d8016e5d636198"
   },
   "source": [
    "Let's now predict the **target** values for the **val_df** data, using **predict** function."
   ]
  },
  {
   "cell_type": "code",
   "execution_count": 246,
   "metadata": {
    "_uuid": "5e7f117e78f12dd595303b362026069882202346",
    "collapsed": true
   },
   "outputs": [],
   "source": [
    "preds = clf.predict(val_df[predictors])"
   ]
  },
  {
   "cell_type": "markdown",
   "metadata": {
    "_uuid": "5c1204cda5a396d1032b6df71a2a88f072988fcd"
   },
   "source": [
    "Let's also visualize the features importance.\n",
    "\n",
    "### Features importance"
   ]
  },
  {
   "cell_type": "code",
   "execution_count": 247,
   "metadata": {
    "_uuid": "9e71725dd69c24eeb86fd46193c8aa92501b7a87"
   },
   "outputs": [
    {
     "data": {
      "image/png": "[encoded data removed]",
      "text/plain": [
       "<matplotlib.figure.Figure at 0x1f9c3ccf6d8>"
      ]
     },
     "metadata": {},
     "output_type": "display_data"
    }
   ],
   "source": [
    "tmp = pd.DataFrame({'Feature': predictors, 'Feature importance': clf.feature_importances_})\n",
    "tmp = tmp.sort_values(by='Feature importance',ascending=False)\n",
    "plt.figure(figsize = (7,4))\n",
    "plt.title('Features importance',fontsize=14)\n",
    "s = sns.barplot(x='Feature',y='Feature importance',data=tmp)\n",
    "s.set_xticklabels(s.get_xticklabels(),rotation=90)\n",
    "plt.show()   \n"
   ]
  },
  {
   "cell_type": "markdown",
   "metadata": {
    "_uuid": "5aabd45f5affab5f3cfd1759bf030b1851a5d3f4"
   },
   "source": [
    "The most important features are **PAY_0**, **AGE**, **BILL_AMT1**, **LIMIT_BAL**, **BILL_AMT2**, **BILL_AMT3**.\n",
    "\n",
    "\n",
    "### Confusion matrix\n",
    "\n",
    "Let's show a confusion matrix for the results we obtained. "
   ]
  },
  {
   "cell_type": "code",
   "execution_count": 248,
   "metadata": {
    "_uuid": "099090571caa94dbd3c4c5c8b44786b5825d1d24"
   },
   "outputs": [
    {
     "data": {
      "image/png": "[encoded data removed]",
      "text/plain": [
       "<matplotlib.figure.Figure at 0x1f9c407e5c0>"
      ]
     },
     "metadata": {},
     "output_type": "display_data"
    }
   ],
   "source": [
    "cm = pd.crosstab(val_df[target].values, preds, rownames=['Actual'], colnames=['Predicted'])\n",
    "fig, (ax1) = plt.subplots(ncols=1, figsize=(5,5))\n",
    "sns.heatmap(cm, \n",
    "            xticklabels=['Not Default', 'Default'],\n",
    "            yticklabels=['Not Default', 'Default'],\n",
    "            annot=True,ax=ax1,\n",
    "            linewidths=.2,linecolor=\"Darkblue\", cmap=\"Blues\")\n",
    "plt.title('Confusion Matrix', fontsize=14)\n",
    "plt.show()"
   ]
  },
  {
   "cell_type": "markdown",
   "metadata": {
    "_uuid": "0047e64d40a20807775967c880f803e0813cfd09"
   },
   "source": [
    "We also calculate area under curve (receiver operator characteristic)."
   ]
  },
  {
   "cell_type": "code",
   "execution_count": 249,
   "metadata": {
    "_uuid": "b418598145d37cc5773fe43b72b3383b3c213345"
   },
   "outputs": [
    {
     "data": {
      "text/plain": [
       "0.66250187415662953"
      ]
     },
     "execution_count": 249,
     "metadata": {},
     "output_type": "execute_result"
    }
   ],
   "source": [
    "roc_auc_score(val_df[target].values, preds)"
   ]
  },
  {
   "cell_type": "markdown",
   "metadata": {
    "_uuid": "38c54fa21fdbaf4d839ec405503ba0c595f06221"
   },
   "source": [
    "The **ROC-AUC** score obtained with **RandomForrestClassifier** is **0.66**.\n",
    "\n",
    "\n",
    "**Note**: we will further develop this Kernel to use for RandomForrestClassifier **dummified variables** for the **categorical features**.\n",
    "\n",
    "\n",
    "\n"
   ]
  },
  {
   "cell_type": "markdown",
   "metadata": {
    "_uuid": "b0f2b7b2d62223ec37b0becfe081bc35e3789ad8"
   },
   "source": [
    "## <a id=\"62\">AdaBoostClassifier</a>\n",
    "\n",
    "\n",
    "AdaBoostClassifier stands for Adaptive Boosting Classifier <a href='#8'>[5]</a>.\n",
    "\n",
    "### Prepare the model\n",
    "\n",
    "Let's set the parameters for the model and initialize the model."
   ]
  },
  {
   "cell_type": "code",
   "execution_count": 250,
   "metadata": {
    "_uuid": "04ba514604f185810b46d08e57668f5d82c14bf8",
    "collapsed": true
   },
   "outputs": [],
   "source": [
    "clf = AdaBoostClassifier(random_state=RANDOM_STATE,\n",
    "                         algorithm='SAMME.R',\n",
    "                         learning_rate=0.8,\n",
    "                             n_estimators=NUM_ESTIMATORS)"
   ]
  },
  {
   "cell_type": "markdown",
   "metadata": {
    "_uuid": "d619b89602a5dbef44f2d752c779c3b1d998db62"
   },
   "source": [
    "### Fit the model\n",
    "\n",
    "Let's fit the model."
   ]
  },
  {
   "cell_type": "code",
   "execution_count": 251,
   "metadata": {
    "_uuid": "52c97b1ed3a3a5db39827b87eaa4523d28b8b5f6"
   },
   "outputs": [
    {
     "data": {
      "text/plain": [
       "AdaBoostClassifier(algorithm='SAMME.R', base_estimator=None,\n",
       "          learning_rate=0.8, n_estimators=100, random_state=2018)"
      ]
     },
     "execution_count": 251,
     "metadata": {},
     "output_type": "execute_result"
    }
   ],
   "source": [
    "clf.fit(train_df[predictors], train_df[target].values)"
   ]
  },
  {
   "cell_type": "markdown",
   "metadata": {
    "_uuid": "ee1dc0b29db6747bc133c720fd43afd12bfb9eb2"
   },
   "source": [
    "### Predict the target values\n",
    "\n",
    "Let's now predict the **target** values for the **val_df** data, using predict function."
   ]
  },
  {
   "cell_type": "code",
   "execution_count": 252,
   "metadata": {
    "_uuid": "d0f0c05bccb56fc69f0777aa80623573a84b2414",
    "collapsed": true
   },
   "outputs": [],
   "source": [
    "preds = clf.predict(val_df[predictors])"
   ]
  },
  {
   "cell_type": "markdown",
   "metadata": {
    "_uuid": "69e03f4472f2a90b4a5d4ed8ac65c69b15492dcf"
   },
   "source": [
    "### Features importance\n",
    "\n",
    "Let's see also the features importance."
   ]
  },
  {
   "cell_type": "code",
   "execution_count": 253,
   "metadata": {
    "_uuid": "6313daaebfc29b2b4bbe4f2d550c3db2ef1ee88e"
   },
   "outputs": [
    {
     "data": {
      "image/png": "[encoded data removed]",
      "text/plain": [
       "<matplotlib.figure.Figure at 0x1f9c421e358>"
      ]
     },
     "metadata": {},
     "output_type": "display_data"
    }
   ],
   "source": [
    "tmp = pd.DataFrame({'Feature': predictors, 'Feature importance': clf.feature_importances_})\n",
    "tmp = tmp.sort_values(by='Feature importance',ascending=False)\n",
    "plt.figure(figsize = (7,4))\n",
    "plt.title('Features importance',fontsize=14)\n",
    "s = sns.barplot(x='Feature',y='Feature importance',data=tmp)\n",
    "s.set_xticklabels(s.get_xticklabels(),rotation=90)\n",
    "plt.show()   "
   ]
  },
  {
   "cell_type": "markdown",
   "metadata": {
    "_uuid": "c3669720b1196a7faaa84fb3f16c411b2ad2d4ea"
   },
   "source": [
    "### Confusion matrix\n",
    "\n",
    "Let's visualize the confusion matrix."
   ]
  },
  {
   "cell_type": "code",
   "execution_count": 254,
   "metadata": {
    "_uuid": "80af65b8036d639dbc3511b0a548816a9cf5420e"
   },
   "outputs": [
    {
     "data": {
      "image/png": "[encoded data removed]",
      "text/plain": [
       "<matplotlib.figure.Figure at 0x1f9c37f6ac8>"
      ]
     },
     "metadata": {},
     "output_type": "display_data"
    }
   ],
   "source": [
    "cm = pd.crosstab(val_df[target].values, preds, rownames=['Actual'], colnames=['Predicted'])\n",
    "fig, (ax1) = plt.subplots(ncols=1, figsize=(5,5))\n",
    "sns.heatmap(cm, \n",
    "            xticklabels=['Not Fraud', 'Fraud'],\n",
    "            yticklabels=['Not Fraud', 'Fraud'],\n",
    "            annot=True,ax=ax1,\n",
    "            linewidths=.2,linecolor=\"Darkblue\", cmap=\"Blues\")\n",
    "plt.title('Confusion Matrix', fontsize=14)\n",
    "plt.show()"
   ]
  },
  {
   "cell_type": "markdown",
   "metadata": {
    "_uuid": "d46cf16c55c152a71348677f1333920cb26ee3b5"
   },
   "source": [
    "Let's calculate also the ROC-AUC.\n",
    "\n",
    "\n",
    "### Area under curve"
   ]
  },
  {
   "cell_type": "code",
   "execution_count": 255,
   "metadata": {
    "_uuid": "4128e3d696fd66058cc2a52fae09ff3533803c5c"
   },
   "outputs": [
    {
     "data": {
      "text/plain": [
       "0.65880485360535124"
      ]
     },
     "execution_count": 255,
     "metadata": {},
     "output_type": "execute_result"
    }
   ],
   "source": [
    "roc_auc_score(val_df[target].values, preds)"
   ]
  },
  {
   "cell_type": "markdown",
   "metadata": {
    "_uuid": "ef96e2d7384464f6b49e337dd54f77edd4f1fbce"
   },
   "source": [
    "The ROC-AUC score obtained with AdaBoostClassifier is 0.65."
   ]
  },
  {
   "cell_type": "markdown",
   "metadata": {
    "_uuid": "5971335ef6cbaa165aed82b2ed6860037ad69439"
   },
   "source": [
    "## <a id=\"63\">XGBoost</a>"
   ]
  },
  {
   "cell_type": "markdown",
   "metadata": {
    "_uuid": "6b4abdda9afec63ecf559bc0678d73feae3ea84a"
   },
   "source": [
    "XGBoost is a gradient boosting algorithm <a href='#8'>[6]</a>.\n",
    "\n",
    "Let's prepare the model."
   ]
  },
  {
   "cell_type": "markdown",
   "metadata": {
    "_uuid": "d7f9cbb6193e637924d7205734c34bc11abfa033"
   },
   "source": [
    "### Prepare the model\n",
    "\n",
    "We initialize the DMatrix objects for training and validation, starting from the datasets. We also set some of the parameters used for the model tuning."
   ]
  },
  {
   "cell_type": "code",
   "execution_count": 256,
   "metadata": {
    "_uuid": "da380529fbef2b22345e763117fd0ed4bfa00801",
    "collapsed": true
   },
   "outputs": [],
   "source": [
    "# Prepare the train and valid datasets\n",
    "dtrain = xgb.DMatrix(train_df[predictors], train_df[target].values)\n",
    "dvalid = xgb.DMatrix(val_df[predictors], val_df[target].values)\n",
    "\n",
    "#What to monitor (in this case, **train** and **valid**)\n",
    "watchlist = [(dtrain, 'train'), (dvalid, 'valid')]\n",
    "\n",
    "# Set xgboost parameters\n",
    "params = {}\n",
    "params['objective'] = 'binary:logistic'\n",
    "params['eta'] = 0.039\n",
    "params['silent'] = True\n",
    "params['max_depth'] = 2\n",
    "params['subsample'] = 0.8\n",
    "params['colsample_bytree'] = 0.9\n",
    "params['eval_metric'] = 'auc'\n",
    "params['random_state'] = RANDOM_STATE"
   ]
  },
  {
   "cell_type": "markdown",
   "metadata": {
    "_uuid": "56ba43173f44b2f0ffc9f2f25e508c1d99e2b3cf"
   },
   "source": [
    "### Train the model\n",
    "\n",
    "Let's train the model. "
   ]
  },
  {
   "cell_type": "code",
   "execution_count": 257,
   "metadata": {
    "_uuid": "b12dbaabb99e9a3e91f03cf2e614f0f3f297ce2f"
   },
   "outputs": [
    {
     "name": "stdout",
     "output_type": "stream",
     "text": [
      "[0]\ttrain-auc:0.692712\tvalid-auc:0.698104\n",
      "Multiple eval metrics have been passed: 'valid-auc' will be used for early stopping.\n",
      "\n",
      "Will train until valid-auc hasn't improved in 50 rounds.\n",
      "[50]\ttrain-auc:0.769358\tvalid-auc:0.76466\n",
      "[100]\ttrain-auc:0.777265\tvalid-auc:0.772154\n",
      "[150]\ttrain-auc:0.782968\tvalid-auc:0.776715\n",
      "[200]\ttrain-auc:0.786954\tvalid-auc:0.778937\n",
      "[250]\ttrain-auc:0.789674\tvalid-auc:0.779818\n",
      "[300]\ttrain-auc:0.792069\tvalid-auc:0.780669\n",
      "[350]\ttrain-auc:0.794535\tvalid-auc:0.781522\n",
      "[400]\ttrain-auc:0.796471\tvalid-auc:0.782115\n",
      "[450]\ttrain-auc:0.797954\tvalid-auc:0.782598\n",
      "[500]\ttrain-auc:0.799617\tvalid-auc:0.78246\n",
      "Stopping. Best iteration:\n",
      "[453]\ttrain-auc:0.798087\tvalid-auc:0.782645\n",
      "\n"
     ]
    }
   ],
   "source": [
    "model = xgb.train(params, \n",
    "                dtrain, \n",
    "                MAX_ROUNDS, \n",
    "                watchlist, \n",
    "                early_stopping_rounds=EARLY_STOP, \n",
    "                maximize=True, \n",
    "                verbose_eval=VERBOSE_EVAL)"
   ]
  },
  {
   "cell_type": "markdown",
   "metadata": {
    "_uuid": "dd80e9763ffd18ac4b6a5f02683ab6a509ec94e5"
   },
   "source": [
    "The best validation score (ROC-AUC) was **0.78**, for round **453**."
   ]
  },
  {
   "cell_type": "markdown",
   "metadata": {
    "_uuid": "62f92b33e315d16262503b2368e3107a66e5896e"
   },
   "source": [
    "### Plot variable importance"
   ]
  },
  {
   "cell_type": "code",
   "execution_count": 258,
   "metadata": {
    "_uuid": "757eea50f6b07bcb3b4e32f507d06a5232d3c781"
   },
   "outputs": [
    {
     "data": {
      "image/png": "[encoded data removed]",
      "text/plain": [
       "<matplotlib.figure.Figure at 0x1f9c3457828>"
      ]
     },
     "metadata": {},
     "output_type": "display_data"
    }
   ],
   "source": [
    "fig, (ax) = plt.subplots(ncols=1, figsize=(8,5))\n",
    "xgb.plot_importance(model, height=0.8, title=\"Features importance (XGBoost)\", ax=ax, color=\"green\") \n",
    "plt.show()"
   ]
  },
  {
   "cell_type": "markdown",
   "metadata": {
    "_uuid": "1b3c42b246e51c906890276886621fffc6ac2cce"
   },
   "source": [
    "## <a id=\"64\">LightGBM</a>\n",
    "\n",
    "\n",
    "Let's continue with another gradient boosting algorithm, LightGBM <a href='#8'>[7]</a> <a href='#8'>[8]</a>.\n",
    "\n",
    "\n",
    "### Define model parameters\n",
    "\n",
    "Let's set the parameters for the model."
   ]
  },
  {
   "cell_type": "code",
   "execution_count": 259,
   "metadata": {
    "_uuid": "0fdfc823cd0f0bdd10a8dc5f8773a8c6be053509",
    "collapsed": true
   },
   "outputs": [],
   "source": [
    "params = {\n",
    "          'boosting_type': 'gbdt',\n",
    "          'objective': 'binary',\n",
    "          'metric':'auc',\n",
    "          'learning_rate': 0.05,\n",
    "          'num_leaves': 7,  # we should let it be smaller than 2^(max_depth)\n",
    "          'max_depth': 4,  # -1 means no limit\n",
    "          'min_child_samples': 100,  # Minimum number of data need in a child(min_data_in_leaf)\n",
    "          'max_bin': 100,  # Number of bucketed bin for feature values\n",
    "          'subsample': 0.9,  # Subsample ratio of the training instance.\n",
    "          'subsample_freq': 1,  # frequence of subsample, <=0 means no enable\n",
    "          'colsample_bytree': 0.7,  # Subsample ratio of columns when constructing each tree.\n",
    "          'min_child_weight': 0,  # Minimum sum of instance weight(hessian) needed in a child(leaf)\n",
    "          'min_split_gain': 0,  # lambda_l1, lambda_l2 and min_gain_to_split to regularization\n",
    "          'nthread': 8,\n",
    "          'verbose': 0,\n",
    "          'scale_pos_weight':20, # because training data is sightly unbalanced \n",
    "         }"
   ]
  },
  {
   "cell_type": "markdown",
   "metadata": {
    "_uuid": "af9fc8044eccaddbebb72a5438fc523d5d7fde38"
   },
   "source": [
    "### Prepare the model\n"
   ]
  },
  {
   "cell_type": "markdown",
   "metadata": {
    "_uuid": "053790077367e50ad8223e1055d371b1ff2bf6a6"
   },
   "source": [
    "Let's define the categorical features."
   ]
  },
  {
   "cell_type": "code",
   "execution_count": 260,
   "metadata": {
    "_uuid": "9e2955df8edb747d276f0a8f696f96c1649a4c09",
    "collapsed": true
   },
   "outputs": [],
   "source": [
    "categorical_features = ['SEX', 'EDUCATION', 'MARRIAGE','PAY_0', 'PAY_2', 'PAY_3', 'PAY_4', 'PAY_5', 'PAY_6']"
   ]
  },
  {
   "cell_type": "markdown",
   "metadata": {
    "_uuid": "19bad0e4c6dfebef8b1f04b5894056c5f9f2fc83"
   },
   "source": [
    "Let's prepare the model, creating the **Dataset**s data structures from the train and validation sets.\n",
    "\n",
    "We will also initialize the Datasets with the list of the categorical features (**lgb** has a special treatment for categorical values)."
   ]
  },
  {
   "cell_type": "code",
   "execution_count": 261,
   "metadata": {
    "_uuid": "e769a104e7cb4b6a23537604fc4c9817f31a48ae"
   },
   "outputs": [
    {
     "data": {
      "text/plain": [
       "22"
      ]
     },
     "execution_count": 261,
     "metadata": {},
     "output_type": "execute_result"
    }
   ],
   "source": [
    "dtrain = lgb.Dataset(train_df[predictors].values, \n",
    "                     label=train_df[target].values,\n",
    "                     feature_name=predictors,\n",
    "                     categorical_feature=categorical_features)\n",
    "del train_df\n",
    "gc.collect()\n",
    "\n",
    "dvalid = lgb.Dataset(val_df[predictors].values,\n",
    "                     label=val_df[target].values,\n",
    "                     feature_name=predictors,\n",
    "                     categorical_feature=categorical_features)\n",
    "del val_df\n",
    "gc.collect()"
   ]
  },
  {
   "cell_type": "markdown",
   "metadata": {
    "_uuid": "22cc46ce8a55a6797bab700fa76886741f7855e8"
   },
   "source": [
    "### Run the model\n",
    "\n",
    "Let's run the model, using the **train** function."
   ]
  },
  {
   "cell_type": "code",
   "execution_count": 262,
   "metadata": {
    "_uuid": "e0d7d3ececedc6dbc9ae050b512ab1291fd393b1"
   },
   "outputs": [
    {
     "name": "stderr",
     "output_type": "stream",
     "text": [
      "C:\\Program_Files\\Anaconda3\\lib\\site-packages\\lightgbm\\basic.py:1005: UserWarning: Using categorical_feature in Dataset.\n",
      "  warnings.warn('Using categorical_feature in Dataset.')\n"
     ]
    },
    {
     "name": "stdout",
     "output_type": "stream",
     "text": [
      "Training until validation scores don't improve for 50 rounds.\n",
      "[50]\ttrain's auc: 0.783128\tvalid's auc: 0.777243\n",
      "[100]\ttrain's auc: 0.792162\tvalid's auc: 0.783477\n",
      "[150]\ttrain's auc: 0.797665\tvalid's auc: 0.784803\n",
      "[200]\ttrain's auc: 0.802372\tvalid's auc: 0.785469\n",
      "[250]\ttrain's auc: 0.8068\tvalid's auc: 0.78638\n",
      "[300]\ttrain's auc: 0.811129\tvalid's auc: 0.78645\n",
      "Early stopping, best iteration is:\n",
      "[297]\ttrain's auc: 0.81098\tvalid's auc: 0.786529\n"
     ]
    },
    {
     "data": {
      "text/plain": [
       "32"
      ]
     },
     "execution_count": 262,
     "metadata": {},
     "output_type": "execute_result"
    }
   ],
   "source": [
    "evals_results = {}\n",
    "\n",
    "model = lgb.train(params, \n",
    "                  dtrain, \n",
    "                  valid_sets=[dtrain, dvalid], \n",
    "                  valid_names=['train','valid'], \n",
    "                  evals_result=evals_results, \n",
    "                  num_boost_round=MAX_ROUNDS,\n",
    "                  early_stopping_rounds=EARLY_STOP,\n",
    "                  verbose_eval=VERBOSE_EVAL, \n",
    "                  feval=None)\n",
    "\n",
    "del dvalid\n",
    "gc.collect()"
   ]
  },
  {
   "cell_type": "markdown",
   "metadata": {
    "_uuid": "86204e500662d41b1cd66debf4845fb977dde3ac"
   },
   "source": [
    "Best validation score  was obtained for round **312**, for which **AUC ~= 0.78**.\n",
    "\n",
    "Let's plot variable importance."
   ]
  },
  {
   "cell_type": "code",
   "execution_count": 263,
   "metadata": {
    "_uuid": "c40ecc6f9f78d3c04b74103650f1b5e2f208c207"
   },
   "outputs": [
    {
     "data": {
      "image/png": "[encoded data removed]",
      "text/plain": [
       "<matplotlib.figure.Figure at 0x1f9c43be908>"
      ]
     },
     "metadata": {},
     "output_type": "display_data"
    }
   ],
   "source": [
    "fig, (ax) = plt.subplots(ncols=1, figsize=(8,5))\n",
    "lgb.plot_importance(model, height=0.8, title=\"Features importance (LightGBM)\", ax=ax,color=\"red\") \n",
    "plt.show()"
   ]
  },
  {
   "cell_type": "markdown",
   "metadata": {
    "_uuid": "83d17af304a87feec1c75fe42c61b5920be35a55"
   },
   "source": [
    "### Training and validation using cross-validation\n",
    "\n",
    "Let's use now cross-validation. We will use cross-validation (KFolds) with 5 folds. Data is divided in 5 folds and, by rotation, we are training using 4 folds (n-1) and validate using the 5th (nth) fold."
   ]
  },
  {
   "cell_type": "code",
   "execution_count": 264,
   "metadata": {
    "_uuid": "09340434080c5e006f14a63453b2830615d049b2"
   },
   "outputs": [
    {
     "name": "stdout",
     "output_type": "stream",
     "text": [
      "Training until validation scores don't improve for 50 rounds.\n",
      "[50]\ttrain's auc: 0.783854\tvalid's auc: 0.777789\n",
      "[100]\ttrain's auc: 0.792482\tvalid's auc: 0.784269\n",
      "[150]\ttrain's auc: 0.797741\tvalid's auc: 0.785782\n",
      "[200]\ttrain's auc: 0.802975\tvalid's auc: 0.786108\n",
      "Early stopping, best iteration is:\n",
      "[184]\ttrain's auc: 0.801468\tvalid's auc: 0.78616\n",
      "Training until validation scores don't improve for 50 rounds.\n",
      "[50]\ttrain's auc: 0.785431\tvalid's auc: 0.765756\n",
      "[100]\ttrain's auc: 0.794866\tvalid's auc: 0.774186\n",
      "[150]\ttrain's auc: 0.800396\tvalid's auc: 0.776067\n",
      "[200]\ttrain's auc: 0.805189\tvalid's auc: 0.776735\n",
      "[250]\ttrain's auc: 0.809684\tvalid's auc: 0.776995\n",
      "[300]\ttrain's auc: 0.813641\tvalid's auc: 0.776478\n",
      "Early stopping, best iteration is:\n",
      "[254]\ttrain's auc: 0.810053\tvalid's auc: 0.777105\n",
      "Training until validation scores don't improve for 50 rounds.\n",
      "[50]\ttrain's auc: 0.781776\tvalid's auc: 0.785396\n",
      "[100]\ttrain's auc: 0.790927\tvalid's auc: 0.789485\n",
      "[150]\ttrain's auc: 0.796976\tvalid's auc: 0.790144\n",
      "Early stopping, best iteration is:\n",
      "[141]\ttrain's auc: 0.796002\tvalid's auc: 0.790293\n",
      "Training until validation scores don't improve for 50 rounds.\n",
      "[50]\ttrain's auc: 0.784426\tvalid's auc: 0.776027\n",
      "[100]\ttrain's auc: 0.793499\tvalid's auc: 0.7815\n",
      "[150]\ttrain's auc: 0.799482\tvalid's auc: 0.781974\n",
      "Early stopping, best iteration is:\n",
      "[112]\ttrain's auc: 0.795212\tvalid's auc: 0.782633\n",
      "Training until validation scores don't improve for 50 rounds.\n",
      "[50]\ttrain's auc: 0.782511\tvalid's auc: 0.776161\n",
      "[100]\ttrain's auc: 0.79193\tvalid's auc: 0.782484\n",
      "[150]\ttrain's auc: 0.798083\tvalid's auc: 0.784718\n",
      "[200]\ttrain's auc: 0.80328\tvalid's auc: 0.785371\n",
      "[250]\ttrain's auc: 0.807658\tvalid's auc: 0.785734\n",
      "[300]\ttrain's auc: 0.811658\tvalid's auc: 0.785364\n",
      "Early stopping, best iteration is:\n",
      "[276]\ttrain's auc: 0.809746\tvalid's auc: 0.786046\n"
     ]
    }
   ],
   "source": [
    "kf = KFold(n_splits = NUMBER_KFOLDS, random_state = RANDOM_STATE, shuffle = True)\n",
    "for train_index, test_index in kf.split(data_df):\n",
    "    train_X, valid_X = data_df.iloc[train_index], data_df.iloc[test_index]\n",
    "\n",
    "    dtrain = lgb.Dataset(train_X[predictors].values, label=train_X[target].values,\n",
    "                     feature_name=predictors)\n",
    "\n",
    "    dvalid = lgb.Dataset(valid_X[predictors].values, label=valid_X[target].values,\n",
    "                     feature_name=predictors)\n",
    "\n",
    "    evals_results = {}\n",
    "    model =  lgb.train(params, \n",
    "                  dtrain, \n",
    "                  valid_sets=[dtrain, dvalid], \n",
    "                  valid_names=['train','valid'], \n",
    "                  evals_result=evals_results, \n",
    "                  num_boost_round=MAX_ROUNDS,\n",
    "                  early_stopping_rounds=EARLY_STOP,\n",
    "                  verbose_eval=VERBOSE_EVAL, \n",
    "                  feval=None)"
   ]
  },
  {
   "cell_type": "markdown",
   "metadata": {
    "_uuid": "e6c5b0ffbfebfa5df49d11e7219c4d75956ca7a2"
   },
   "source": [
    "The average validation **AUC** for the 5 folds obtained was **0.78**, with values between **0.778** and **0.79**."
   ]
  },
  {
   "cell_type": "markdown",
   "metadata": {
    "_uuid": "916f113e9975149edcf218d5037ff0a6f9faae4a"
   },
   "source": [
    "# <a id=\"7\">Conclusions</a>"
   ]
  },
  {
   "cell_type": "markdown",
   "metadata": {
    "_uuid": "0dc04fd9116d35e7ac6720aafd88adb6b1a3bdaa"
   },
   "source": [
    "We investigated the data, checking for data unbalancing, visualizing the features and understanding the relationship between different features. \n",
    "We then investigated four predictive models.\n",
    "We started with RandomForrestClassifier, for which we obtained an AUC scode of **0.66**. We followed with an AdaBoostClassifier model, with lower AUC score (**0.65**). We the followed with a XGBoost model, for which the AUC score obtained was **0.77**. We then presented the data to a LightGBM model. We used both train-validation split and cross-validation to evaluate the model effectiveness to predict the target value, i.e. detecting if a credit card client  will default next month. With both methods for LightGBM the obtained values of AUC for the validation set were around **0.78**."
   ]
  },
  {
   "cell_type": "markdown",
   "metadata": {
    "_uuid": "a28c2d7eccc79387f530538073ea5dab330d899e"
   },
   "source": [
    "# <a id=\"8\">References</a>\n",
    "\n",
    "[1] Default Credit Card Clients Dataset,  https://www.kaggle.com/uciml/default-of-credit-card-clients-dataset/  \n",
    "[2] Principal Component Analysis, Wikipedia Page, https://en.wikipedia.org/wiki/Principal_component_analysis  \n",
    "[3] RandomForrestClassifier, http://scikit-learn.org/stable/modules/generated/sklearn.ensemble.RandomForestClassifier.html  \n",
    "[4] ROC-AUC characteristic, https://en.wikipedia.org/wiki/Receiver_operating_characteristic#Area_under_the_curve   \n",
    "[5] AdaBoostClassifier, http://scikit-learn.org/stable/modules/generated/sklearn.ensemble.AdaBoostClassifier.html  \n",
    "[5] XGBoost Python API Reference, http://xgboost.readthedocs.io/en/latest/python/python_api.html  \n",
    "[6] LightGBM Python implementation, https://github.com/Microsoft/LightGBM/tree/master/python-package  \n",
    "[7] LightGBM algorithm, https://www.microsoft.com/en-us/research/wp-content/uploads/2017/11/lightgbm.pdf   \n",
    "\n"
   ]
  }
 ],
 "metadata": {
  "kernelspec": {
   "display_name": "Python 3",
   "language": "python",
   "name": "python3"
  },
  "language_info": {
   "codemirror_mode": {
    "name": "ipython",
    "version": 3
   },
   "file_extension": ".py",
   "mimetype": "text/x-python",
   "name": "python",
   "nbconvert_exporter": "python",
   "pygments_lexer": "ipython3",
   "version": "3.6.2"
  }
 },
 "nbformat": 4,
 "nbformat_minor": 1
}
