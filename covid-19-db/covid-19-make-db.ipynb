{
 "cells": [
  {
   "cell_type": "code",
   "execution_count": 1,
   "metadata": {},
   "outputs": [],
   "source": [
    "import os\n",
    "import re\n",
    "from datetime import datetime\n",
    "from tqdm import tqdm\n",
    "import numpy as np\n",
    "import pandas as pd"
   ]
  },
  {
   "cell_type": "code",
   "execution_count": 2,
   "metadata": {},
   "outputs": [
    {
     "name": "stdout",
     "output_type": "stream",
     "text": [
      "list of files: 75\n"
     ]
    }
   ],
   "source": [
    "covid_repo_path = \"..\\\\..\\\\COVID-19\"\n",
    "db_source = os.path.join(covid_repo_path, \"csse_covid_19_data\\\\csse_covid_19_daily_reports\")\n",
    "print(f\"list of files: {len(os.listdir(db_source))}\")"
   ]
  },
  {
   "cell_type": "code",
   "execution_count": 3,
   "metadata": {},
   "outputs": [
    {
     "name": "stderr",
     "output_type": "stream",
     "text": [
      " 37%|███▋      | 28/75 [00:00<00:00, 125.29it/s]C:\\ProgramData\\Anaconda3\\lib\\site-packages\\pandas\\core\\frame.py:7123: FutureWarning: Sorting because non-concatenation axis is not aligned. A future version\n",
      "of pandas will change to not sort by default.\n",
      "\n",
      "To accept the future behavior, pass 'sort=False'.\n",
      "\n",
      "To retain the current behavior and silence the warning, pass 'sort=True'.\n",
      "\n",
      "  sort=sort,\n",
      "100%|██████████| 75/75 [00:01<00:00, 44.71it/s] \n"
     ]
    }
   ],
   "source": [
    "data_df = pd.DataFrame()\n",
    "for file in tqdm(os.listdir(db_source)):\n",
    "    try:\n",
    "        crt_date, crt_ext = crt_file = file.split(\".\")\n",
    "        if(crt_ext == \"csv\"):\n",
    "            crt_date_df = pd.read_csv(os.path.join(db_source, file))\n",
    "            crt_date_df['date_str'] = crt_date\n",
    "            crt_date_df['Date'] = crt_date_df['date_str'].apply(lambda x: datetime.strptime(x, \"%m-%d-%Y\"))\n",
    "            \n",
    "            if(crt_date >=  '03-22-2020'):\n",
    "                #break\n",
    "                # FIPS, Admin2, Province_State, Country_Region, Last_Update,Lat, Long, Confirmed, Deaths, Recovered, Active, Combined_Key\n",
    "                #print(f\"Conversion start: {crt_date_df.columns}\")\n",
    "                crt_date_df['Province/State'] = crt_date_df['Province_State']\n",
    "                crt_date_df['Country/Region'] = crt_date_df['Country_Region']\n",
    "                crt_date_df['Latitude'] = crt_date_df['Lat']\n",
    "                crt_date_df['Longitude'] = crt_date_df['Long_']\n",
    "                crt_date_df = crt_date_df[['Country/Region', 'Province/State', 'Latitude', 'Longitude', 'Confirmed', 'Recovered', 'Deaths', 'Date', 'date_str']]\n",
    "                \n",
    "            data_df = data_df.append(crt_date_df)\n",
    "    except ex as Exception:\n",
    "        print(ex)\n",
    "        pass"
   ]
  },
  {
   "cell_type": "code",
   "execution_count": 4,
   "metadata": {},
   "outputs": [
    {
     "name": "stdout",
     "output_type": "stream",
     "text": [
      "Data: rows: 48552, cols: 10\n",
      "Days: 73 (01-22-2020 : 04-03-2020)\n",
      "Country/Region: 231\n",
      "Province/State: 295\n",
      "Confirmed all  (Province/State): 262174.0\n",
      "Confirmed all (Country/Region): 945121.0\n",
      "Recovered all (Province/State): 90564.0\n",
      "Recovered all (Country/Region): 263904.0\n",
      "Deaths all (Province/State): 8619.0\n",
      "Deaths all (Country/Region): 56463.0\n"
     ]
    }
   ],
   "source": [
    "print(f\"Data: rows: {data_df.shape[0]}, cols: {data_df.shape[1]}\")\n",
    "print(f\"Days: {data_df.date_str.nunique()} ({data_df.date_str.min()} : {data_df.date_str.max()})\")\n",
    "print(f\"Country/Region: {data_df['Country/Region'].nunique()}\")\n",
    "print(f\"Province/State: {data_df['Province/State'].nunique()}\")\n",
    "print(f\"Confirmed all  (Province/State): {sum(data_df.groupby(['Province/State'])['Confirmed'].max())}\")\n",
    "print(f\"Confirmed all (Country/Region): {sum(data_df.groupby(['Country/Region'])['Confirmed'].max())}\")\n",
    "print(f\"Recovered all (Province/State): {sum(data_df.loc[~data_df.Recovered.isna()].groupby(['Province/State'])['Recovered'].max())}\")\n",
    "print(f\"Recovered all (Country/Region): {sum(data_df.loc[~data_df.Recovered.isna()].groupby(['Country/Region'])['Recovered'].max())}\")      \n",
    "print(f\"Deaths all (Province/State): {sum(data_df.loc[~data_df.Deaths.isna()].groupby(['Province/State'])['Deaths'].max())}\")\n",
    "print(f\"Deaths all (Country/Region): {sum(data_df.loc[~data_df.Deaths.isna()].groupby(['Country/Region'])['Deaths'].max())}\")"
   ]
  },
  {
   "cell_type": "code",
   "execution_count": 5,
   "metadata": {},
   "outputs": [
    {
     "data": {
      "text/html": [
       "<div>\n",
       "<style scoped>\n",
       "    .dataframe tbody tr th:only-of-type {\n",
       "        vertical-align: middle;\n",
       "    }\n",
       "\n",
       "    .dataframe tbody tr th {\n",
       "        vertical-align: top;\n",
       "    }\n",
       "\n",
       "    .dataframe thead th {\n",
       "        text-align: right;\n",
       "    }\n",
       "</style>\n",
       "<table border=\"1\" class=\"dataframe\">\n",
       "  <thead>\n",
       "    <tr style=\"text-align: right;\">\n",
       "      <th></th>\n",
       "      <th>Confirmed</th>\n",
       "      <th>Country/Region</th>\n",
       "      <th>Date</th>\n",
       "      <th>Deaths</th>\n",
       "      <th>Last Update</th>\n",
       "      <th>Latitude</th>\n",
       "      <th>Longitude</th>\n",
       "      <th>Province/State</th>\n",
       "      <th>Recovered</th>\n",
       "      <th>date_str</th>\n",
       "    </tr>\n",
       "  </thead>\n",
       "  <tbody>\n",
       "    <tr>\n",
       "      <td>0</td>\n",
       "      <td>1.0</td>\n",
       "      <td>Mainland China</td>\n",
       "      <td>2020-01-22</td>\n",
       "      <td>NaN</td>\n",
       "      <td>1/22/2020 17:00</td>\n",
       "      <td>NaN</td>\n",
       "      <td>NaN</td>\n",
       "      <td>Anhui</td>\n",
       "      <td>NaN</td>\n",
       "      <td>01-22-2020</td>\n",
       "    </tr>\n",
       "    <tr>\n",
       "      <td>1</td>\n",
       "      <td>14.0</td>\n",
       "      <td>Mainland China</td>\n",
       "      <td>2020-01-22</td>\n",
       "      <td>NaN</td>\n",
       "      <td>1/22/2020 17:00</td>\n",
       "      <td>NaN</td>\n",
       "      <td>NaN</td>\n",
       "      <td>Beijing</td>\n",
       "      <td>NaN</td>\n",
       "      <td>01-22-2020</td>\n",
       "    </tr>\n",
       "    <tr>\n",
       "      <td>2</td>\n",
       "      <td>6.0</td>\n",
       "      <td>Mainland China</td>\n",
       "      <td>2020-01-22</td>\n",
       "      <td>NaN</td>\n",
       "      <td>1/22/2020 17:00</td>\n",
       "      <td>NaN</td>\n",
       "      <td>NaN</td>\n",
       "      <td>Chongqing</td>\n",
       "      <td>NaN</td>\n",
       "      <td>01-22-2020</td>\n",
       "    </tr>\n",
       "    <tr>\n",
       "      <td>3</td>\n",
       "      <td>1.0</td>\n",
       "      <td>Mainland China</td>\n",
       "      <td>2020-01-22</td>\n",
       "      <td>NaN</td>\n",
       "      <td>1/22/2020 17:00</td>\n",
       "      <td>NaN</td>\n",
       "      <td>NaN</td>\n",
       "      <td>Fujian</td>\n",
       "      <td>NaN</td>\n",
       "      <td>01-22-2020</td>\n",
       "    </tr>\n",
       "    <tr>\n",
       "      <td>4</td>\n",
       "      <td>NaN</td>\n",
       "      <td>Mainland China</td>\n",
       "      <td>2020-01-22</td>\n",
       "      <td>NaN</td>\n",
       "      <td>1/22/2020 17:00</td>\n",
       "      <td>NaN</td>\n",
       "      <td>NaN</td>\n",
       "      <td>Gansu</td>\n",
       "      <td>NaN</td>\n",
       "      <td>01-22-2020</td>\n",
       "    </tr>\n",
       "  </tbody>\n",
       "</table>\n",
       "</div>"
      ],
      "text/plain": [
       "   Confirmed  Country/Region       Date  Deaths      Last Update  Latitude  \\\n",
       "0        1.0  Mainland China 2020-01-22     NaN  1/22/2020 17:00       NaN   \n",
       "1       14.0  Mainland China 2020-01-22     NaN  1/22/2020 17:00       NaN   \n",
       "2        6.0  Mainland China 2020-01-22     NaN  1/22/2020 17:00       NaN   \n",
       "3        1.0  Mainland China 2020-01-22     NaN  1/22/2020 17:00       NaN   \n",
       "4        NaN  Mainland China 2020-01-22     NaN  1/22/2020 17:00       NaN   \n",
       "\n",
       "   Longitude Province/State  Recovered    date_str  \n",
       "0        NaN          Anhui        NaN  01-22-2020  \n",
       "1        NaN        Beijing        NaN  01-22-2020  \n",
       "2        NaN      Chongqing        NaN  01-22-2020  \n",
       "3        NaN         Fujian        NaN  01-22-2020  \n",
       "4        NaN          Gansu        NaN  01-22-2020  "
      ]
     },
     "execution_count": 5,
     "metadata": {},
     "output_type": "execute_result"
    }
   ],
   "source": [
    "data_df.head()"
   ]
  },
  {
   "cell_type": "code",
   "execution_count": 6,
   "metadata": {},
   "outputs": [
    {
     "data": {
      "text/html": [
       "<div>\n",
       "<style scoped>\n",
       "    .dataframe tbody tr th:only-of-type {\n",
       "        vertical-align: middle;\n",
       "    }\n",
       "\n",
       "    .dataframe tbody tr th {\n",
       "        vertical-align: top;\n",
       "    }\n",
       "\n",
       "    .dataframe thead th {\n",
       "        text-align: right;\n",
       "    }\n",
       "</style>\n",
       "<table border=\"1\" class=\"dataframe\">\n",
       "  <thead>\n",
       "    <tr style=\"text-align: right;\">\n",
       "      <th></th>\n",
       "      <th>Confirmed</th>\n",
       "      <th>Country/Region</th>\n",
       "      <th>Date</th>\n",
       "      <th>Deaths</th>\n",
       "      <th>Last Update</th>\n",
       "      <th>Latitude</th>\n",
       "      <th>Longitude</th>\n",
       "      <th>Province/State</th>\n",
       "      <th>Recovered</th>\n",
       "      <th>date_str</th>\n",
       "    </tr>\n",
       "  </thead>\n",
       "  <tbody>\n",
       "    <tr>\n",
       "      <td>2620</td>\n",
       "      <td>237.0</td>\n",
       "      <td>Vietnam</td>\n",
       "      <td>2020-04-03</td>\n",
       "      <td>0.0</td>\n",
       "      <td>NaN</td>\n",
       "      <td>14.058324</td>\n",
       "      <td>108.277199</td>\n",
       "      <td>NaN</td>\n",
       "      <td>85.0</td>\n",
       "      <td>04-03-2020</td>\n",
       "    </tr>\n",
       "    <tr>\n",
       "      <td>2621</td>\n",
       "      <td>194.0</td>\n",
       "      <td>West Bank and Gaza</td>\n",
       "      <td>2020-04-03</td>\n",
       "      <td>1.0</td>\n",
       "      <td>NaN</td>\n",
       "      <td>31.952200</td>\n",
       "      <td>35.233200</td>\n",
       "      <td>NaN</td>\n",
       "      <td>21.0</td>\n",
       "      <td>04-03-2020</td>\n",
       "    </tr>\n",
       "    <tr>\n",
       "      <td>2622</td>\n",
       "      <td>39.0</td>\n",
       "      <td>Zambia</td>\n",
       "      <td>2020-04-03</td>\n",
       "      <td>1.0</td>\n",
       "      <td>NaN</td>\n",
       "      <td>-13.133897</td>\n",
       "      <td>27.849332</td>\n",
       "      <td>NaN</td>\n",
       "      <td>2.0</td>\n",
       "      <td>04-03-2020</td>\n",
       "    </tr>\n",
       "    <tr>\n",
       "      <td>2623</td>\n",
       "      <td>9.0</td>\n",
       "      <td>Zimbabwe</td>\n",
       "      <td>2020-04-03</td>\n",
       "      <td>1.0</td>\n",
       "      <td>NaN</td>\n",
       "      <td>-19.015438</td>\n",
       "      <td>29.154857</td>\n",
       "      <td>NaN</td>\n",
       "      <td>0.0</td>\n",
       "      <td>04-03-2020</td>\n",
       "    </tr>\n",
       "    <tr>\n",
       "      <td>2624</td>\n",
       "      <td>0.0</td>\n",
       "      <td>US</td>\n",
       "      <td>2020-04-03</td>\n",
       "      <td>0.0</td>\n",
       "      <td>NaN</td>\n",
       "      <td>NaN</td>\n",
       "      <td>NaN</td>\n",
       "      <td>Wyoming</td>\n",
       "      <td>0.0</td>\n",
       "      <td>04-03-2020</td>\n",
       "    </tr>\n",
       "  </tbody>\n",
       "</table>\n",
       "</div>"
      ],
      "text/plain": [
       "      Confirmed      Country/Region       Date  Deaths Last Update   Latitude  \\\n",
       "2620      237.0             Vietnam 2020-04-03     0.0         NaN  14.058324   \n",
       "2621      194.0  West Bank and Gaza 2020-04-03     1.0         NaN  31.952200   \n",
       "2622       39.0              Zambia 2020-04-03     1.0         NaN -13.133897   \n",
       "2623        9.0            Zimbabwe 2020-04-03     1.0         NaN -19.015438   \n",
       "2624        0.0                  US 2020-04-03     0.0         NaN        NaN   \n",
       "\n",
       "       Longitude Province/State  Recovered    date_str  \n",
       "2620  108.277199            NaN       85.0  04-03-2020  \n",
       "2621   35.233200            NaN       21.0  04-03-2020  \n",
       "2622   27.849332            NaN        2.0  04-03-2020  \n",
       "2623   29.154857            NaN        0.0  04-03-2020  \n",
       "2624         NaN        Wyoming        0.0  04-03-2020  "
      ]
     },
     "execution_count": 6,
     "metadata": {},
     "output_type": "execute_result"
    }
   ],
   "source": [
    "data_df.tail()"
   ]
  },
  {
   "cell_type": "code",
   "execution_count": null,
   "metadata": {},
   "outputs": [],
   "source": [
    "province_state = data_df['Province/State'].unique()\n",
    "\n",
    "for ps in province_state:\n",
    "\n",
    "    data_df.loc[(data_df['Province/State']==ps) & (data_df['Latitude'].isna()), 'Latitude'] =\\\n",
    "                data_df.loc[(~data_df['Latitude'].isna()) & \\\n",
    "                            (data_df['Province/State']==ps), 'Latitude'].median()\n",
    "    \n",
    "    data_df.loc[(data_df['Province/State']==ps) & (data_df['Longitude'].isna()), 'Longitude'] =\\\n",
    "            data_df.loc[(~data_df['Longitude'].isna()) & \\\n",
    "                        (data_df['Province/State']==ps), 'Longitude'].median() "
   ]
  },
  {
   "cell_type": "code",
   "execution_count": null,
   "metadata": {},
   "outputs": [],
   "source": [
    "country_region = data_df['Country/Region'].unique()\n",
    "\n",
    "for cr in country_region:\n",
    "\n",
    "    data_df.loc[(data_df['Country/Region']==cr) & (data_df['Latitude'].isna()), 'Latitude'] =\\\n",
    "                data_df.loc[(~data_df['Latitude'].isna()) & \\\n",
    "                            (data_df['Country/Region']==cr), 'Latitude'].median()\n",
    "    \n",
    "    data_df.loc[(data_df['Country/Region']==cr) & (data_df['Longitude'].isna()), 'Longitude'] =\\\n",
    "            data_df.loc[(~data_df['Longitude'].isna()) & \\\n",
    "                        (data_df['Country/Region']==cr), 'Longitude'].median() "
   ]
  },
  {
   "cell_type": "code",
   "execution_count": null,
   "metadata": {},
   "outputs": [],
   "source": [
    "data_df.loc[data_df.Latitude.isna()]"
   ]
  },
  {
   "cell_type": "code",
   "execution_count": null,
   "metadata": {},
   "outputs": [],
   "source": [
    "data_df.loc[data_df.Longitude.isna()]"
   ]
  },
  {
   "cell_type": "markdown",
   "metadata": {},
   "source": [
    "## Unify countries duplicates"
   ]
  },
  {
   "cell_type": "code",
   "execution_count": null,
   "metadata": {},
   "outputs": [],
   "source": [
    "countries = list(data_df['Country/Region'].unique())\n",
    "countries.sort()\n",
    "print(countries)"
   ]
  },
  {
   "cell_type": "code",
   "execution_count": null,
   "metadata": {},
   "outputs": [],
   "source": [
    "data_df.loc[data_df['Country/Region']==' Azerbaijan', 'Country/Region'] = 'Azerbaijan'\n",
    "data_df.loc[data_df['Country/Region']=='Czechia', 'Country/Region'] = 'Czech Republic'\n",
    "data_df.loc[data_df['Country/Region']==\"Cote d'Ivoire\", 'Country/Region'] = 'Ivory Coast'\n",
    "data_df.loc[data_df['Country/Region']==\"Dominica\", 'Country/Region'] = 'Dominican Republic'\n",
    "data_df.loc[data_df['Country/Region']=='Iran (Islamic Republic of)', 'Country/Region'] = 'Iran'\n",
    "data_df.loc[data_df['Country/Region']=='Hong Kong SAR', 'Country/Region'] = 'Hong Kong'\n",
    "data_df.loc[data_df['Country/Region']=='Holy See', 'Country/Region'] = 'Vatican City'\n",
    "data_df.loc[data_df['Country/Region']=='Macao SAR', 'Country/Region'] = 'Macau'\n",
    "data_df.loc[data_df['Country/Region']=='Mainland China', 'Country/Region'] = 'China'\n",
    "data_df.loc[data_df['Country/Region']=='Niger', 'Country/Region'] = 'Nigeria'\n",
    "data_df.loc[data_df['Country/Region']=='occupied Palestinian territory', 'Country/Region'] = 'West Bank and Gaza'\n",
    "data_df.loc[data_df['Country/Region']=='Palestine', 'Country/Region'] = 'West Bank and Gaza'\n",
    "data_df.loc[data_df['Country/Region']=='Republic of Ireland', 'Country/Region'] = 'Ireland'\n",
    "data_df.loc[data_df['Country/Region']=='Korea, South', 'Country/Region'] = 'South Korea'\n",
    "data_df.loc[data_df['Country/Region']=='Republic of Ireland', 'Country/Region'] = 'Ireland'\n",
    "data_df.loc[data_df['Country/Region']=='Republic of Korea', 'Country/Region'] = 'South Korea'\n",
    "data_df.loc[data_df['Country/Region']=='Republic of Moldova', 'Country/Region'] = 'Moldova'\n",
    "data_df.loc[data_df['Country/Region']=='Republic of the Congo', 'Country/Region'] = 'Congo (Brazzaville)'\n",
    "data_df.loc[data_df['Country/Region']=='Russian Federation', 'Country/Region'] = 'Russia'\n",
    "data_df.loc[data_df['Country/Region']=='Taiwan*', 'Country/Region'] = 'Taiwan'\n",
    "data_df.loc[data_df['Country/Region']=='The Gambia', 'Country/Region'] = 'Gambia'\n",
    "data_df.loc[data_df['Country/Region']=='Gambia, The', 'Country/Region'] = 'Gambia'\n",
    "data_df.loc[data_df['Country/Region']=='UK', 'Country/Region'] = 'United Kingdom'\n",
    "data_df.loc[data_df['Country/Region']=='Viet Nam', 'Country/Region'] = 'Vietnam'\n"
   ]
  },
  {
   "cell_type": "markdown",
   "metadata": {},
   "source": [
    "## Fix Lat/Long where missing"
   ]
  },
  {
   "cell_type": "code",
   "execution_count": null,
   "metadata": {},
   "outputs": [],
   "source": [
    "data_df.loc[data_df['Country/Region']=='Ivory Coast', 'Longitude'] = 5.54\n",
    "data_df.loc[data_df['Country/Region']=='Ivory Coast', 'Latitude'] = 7.54\n",
    "data_df.loc[data_df['Country/Region']=='North Ireland', 'Longitude'] = 6.4923\n",
    "data_df.loc[data_df['Country/Region']=='North Ireland', 'Latitude'] = 54.7877"
   ]
  },
  {
   "cell_type": "code",
   "execution_count": null,
   "metadata": {},
   "outputs": [],
   "source": [
    "data_df = data_df[['Country/Region', 'Province/State', 'Latitude', 'Longitude', 'Confirmed', 'Recovered', 'Deaths', 'Date']]"
   ]
  },
  {
   "cell_type": "code",
   "execution_count": null,
   "metadata": {},
   "outputs": [],
   "source": [
    "data_df.head()"
   ]
  },
  {
   "cell_type": "markdown",
   "metadata": {},
   "source": [
    "## Check European Countries on 2020-03-12\n",
    "\n",
    "Italy, Germany, France, Spain & other European Countries did not reported the data last days. Same data appears as for the previous day. We will fix using https://github.com/CSSEGISandData/COVID-19/issues/599 information, as following:\n",
    "\n",
    "* Italy: 15113 confirmed cases, 1016 death and 1258 recovered (http://www.salute.gov.it/imgs/C_17_pagineAree_5351_8_file.pdf)  \n",
    "\n",
    "* Spain: 2950 confirmed cases, 84 death\n",
    "(https://www.mscbs.gob.es/profesionales/saludPublica/ccayes/alertasActual/nCov-China/documentos/Actualizacion_42_COVID-19.pdf)  \n",
    "\n",
    "* France: 2876 confirmed cases, 61 death (https://www.santepubliquefrance.fr/maladies-et-traumatismes/maladies-et-infections-respiratoires/infection-a-coronavirus/articles/infection-au-nouveau-coronavirus-sars-cov-2-covid-19-france-et-monde)  \n",
    "\n",
    "* Switzerland: 815 confirmed cases, 4 death (https://www.bag.admin.ch/dam/bag/fr/dokumente/mt/k-und-i/aktuelle-ausbrueche-pandemien/2019-nCoV/covid-19-lagebericht.pdf.download.pdf/COVID-19_Situation_epidemiologique_en_Suisse.pdf)\n",
    "\n",
    "* Germany : 2.369 confirmed, 5 deaths (https://www.rki.de/DE/Content/InfAZ/N/Neuartiges_Coronavirus/Fallzahlen.html)  \n",
    "\n",
    "* All EU countries: https://www.ecdc.europa.eu/en/publications-data/download-todays-data-geographic-distribution-covid-19-cases-worldwide  \n"
   ]
  },
  {
   "cell_type": "code",
   "execution_count": null,
   "metadata": {},
   "outputs": [],
   "source": [
    "data_df[(data_df['Country/Region'].isin(['Italy', 'Spain', 'France', 'Switzerland', 'Germany', 'Netherlands'])) & (data_df['Date'].isin(['2020-03-11','2020-03-12', '2020-03-13']))]"
   ]
  },
  {
   "cell_type": "code",
   "execution_count": null,
   "metadata": {},
   "outputs": [],
   "source": [
    "def fix_data_for_country_date(country, date, confirmed, recovered, deaths):\n",
    "    data_df.loc[(data_df['Country/Region']==country) & (data_df['Date']==date), 'Confirmed'] = confirmed\n",
    "    data_df.loc[(data_df['Country/Region']==country) & (data_df['Date']==date), 'Recovered'] = recovered\n",
    "    data_df.loc[(data_df['Country/Region']==country) & (data_df['Date']==date), 'Deaths'] = deaths"
   ]
  },
  {
   "cell_type": "code",
   "execution_count": null,
   "metadata": {},
   "outputs": [],
   "source": [
    "def fix_data_for_france_date(country, date, confirmed, recovered, deaths):\n",
    "    data_df.loc[(data_df['Country/Region']==country) & (data_df['Province/State']==country) & (data_df['Date']==date), 'Confirmed'] = confirmed\n",
    "    data_df.loc[(data_df['Country/Region']==country) & (data_df['Province/State']==country)  & (data_df['Date']==date), 'Recovered'] = recovered\n",
    "    data_df.loc[(data_df['Country/Region']==country) & (data_df['Province/State']==country)  & (data_df['Date']==date), 'Deaths'] = deaths"
   ]
  },
  {
   "cell_type": "code",
   "execution_count": null,
   "metadata": {},
   "outputs": [],
   "source": [
    "fix_data_for_country_date('Italy', '2020-03-12', 15113, 1258, 1016)\n",
    "fix_data_for_country_date('Spain', '2020-03-12', 2950, 183, 84)\n",
    "fix_data_for_france_date('France', '2020-03-12', 2896, 12, 61)\n",
    "fix_data_for_country_date('Switzerland', '2020-03-12', 815, 4, 4)\n",
    "fix_data_for_country_date('Germany', '2020-03-12', 2369, 25, 5)\n",
    "fix_data_for_country_date('Netherlands', '2020-03-12', 614, 25, 5)"
   ]
  },
  {
   "cell_type": "code",
   "execution_count": null,
   "metadata": {},
   "outputs": [],
   "source": [
    "data_df[(data_df['Country/Region'].isin(['Italy', 'Spain', 'France', 'Switzerland', 'Germany', 'Netherlands'])) & (data_df['Date'].isin(['2020-03-11','2020-03-12', '2020-03-13']))]"
   ]
  },
  {
   "cell_type": "code",
   "execution_count": null,
   "metadata": {},
   "outputs": [],
   "source": [
    "data_df[(data_df['Country/Region'].isin(['France'])) & (data_df['Date'].isin(['2020-03-11','2020-03-12', '2020-03-13']))]"
   ]
  },
  {
   "cell_type": "code",
   "execution_count": null,
   "metadata": {},
   "outputs": [],
   "source": [
    "data_df.to_csv(\"covid-19-all.csv\", index=False)"
   ]
  },
  {
   "cell_type": "code",
   "execution_count": null,
   "metadata": {},
   "outputs": [],
   "source": []
  }
 ],
 "metadata": {
  "kernelspec": {
   "display_name": "Python 3",
   "language": "python",
   "name": "python3"
  },
  "language_info": {
   "codemirror_mode": {
    "name": "ipython",
    "version": 3
   },
   "file_extension": ".py",
   "mimetype": "text/x-python",
   "name": "python",
   "nbconvert_exporter": "python",
   "pygments_lexer": "ipython3",
   "version": "3.7.4"
  }
 },
 "nbformat": 4,
 "nbformat_minor": 2
}
