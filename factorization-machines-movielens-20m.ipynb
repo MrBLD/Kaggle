{
 "cells": [
  {
   "cell_type": "markdown",
   "id": "34c62680",
   "metadata": {
    "papermill": {
     "duration": 0.00878,
     "end_time": "2023-05-15T12:24:23.652034",
     "exception": false,
     "start_time": "2023-05-15T12:24:23.643254",
     "status": "completed"
    },
    "tags": []
   },
   "source": [
    "# Introduction\n",
    "\n",
    "Factorization Machines (FM) - is a model used for classification, regression or ranking tasks. It was developed in 2010. It uses latent features of users/items.\n",
    "\n",
    "\n",
    "Source: Factorization Machine models in PyTorch (https://github.com/rixwew/pytorch-fm)"
   ]
  },
  {
   "cell_type": "code",
   "execution_count": 1,
   "id": "5b600467",
   "metadata": {
    "_cell_guid": "b1076dfc-b9ad-4769-8c92-a6c4dae69d19",
    "_uuid": "8f2839f25d086af736a60e9eeb907d3b93b6e0e5",
    "execution": {
     "iopub.execute_input": "2023-05-15T12:24:23.667420Z",
     "iopub.status.busy": "2023-05-15T12:24:23.666689Z",
     "iopub.status.idle": "2023-05-15T12:24:27.860469Z",
     "shell.execute_reply": "2023-05-15T12:24:27.859384Z"
    },
    "papermill": {
     "duration": 4.204531,
     "end_time": "2023-05-15T12:24:27.863246",
     "exception": false,
     "start_time": "2023-05-15T12:24:23.658715",
     "status": "completed"
    },
    "tags": []
   },
   "outputs": [
    {
     "name": "stderr",
     "output_type": "stream",
     "text": [
      "/opt/conda/lib/python3.10/site-packages/scipy/__init__.py:146: UserWarning: A NumPy version >=1.16.5 and <1.23.0 is required for this version of SciPy (detected version 1.23.5\n",
      "  warnings.warn(f\"A NumPy version >={np_minversion} and <{np_maxversion}\"\n"
     ]
    }
   ],
   "source": [
    "import numpy as np\n",
    "import pandas as pd\n",
    "import os\n",
    "import tqdm\n",
    "import torch\n",
    "from torch.utils.data import DataLoader\n",
    "from sklearn.metrics import roc_auc_score, mean_squared_error"
   ]
  },
  {
   "cell_type": "code",
   "execution_count": 2,
   "id": "8f1c470a",
   "metadata": {
    "execution": {
     "iopub.execute_input": "2023-05-15T12:24:27.880991Z",
     "iopub.status.busy": "2023-05-15T12:24:27.879900Z",
     "iopub.status.idle": "2023-05-15T12:24:27.894826Z",
     "shell.execute_reply": "2023-05-15T12:24:27.893956Z"
    },
    "papermill": {
     "duration": 0.024814,
     "end_time": "2023-05-15T12:24:27.896663",
     "exception": false,
     "start_time": "2023-05-15T12:24:27.871849",
     "status": "completed"
    },
    "tags": []
   },
   "outputs": [],
   "source": [
    "from pt_layer import FactorizationMachine, FeaturesEmbedding, FeaturesLinear, MultiLayerPerceptron"
   ]
  },
  {
   "cell_type": "markdown",
   "id": "6e842702",
   "metadata": {
    "papermill": {
     "duration": 0.007054,
     "end_time": "2023-05-15T12:24:27.910574",
     "exception": false,
     "start_time": "2023-05-15T12:24:27.903520",
     "status": "completed"
    },
    "tags": []
   },
   "source": [
    "# Read the data"
   ]
  },
  {
   "cell_type": "code",
   "execution_count": 3,
   "id": "9e53eea0",
   "metadata": {
    "execution": {
     "iopub.execute_input": "2023-05-15T12:24:27.925796Z",
     "iopub.status.busy": "2023-05-15T12:24:27.924903Z",
     "iopub.status.idle": "2023-05-15T12:24:49.471895Z",
     "shell.execute_reply": "2023-05-15T12:24:49.470911Z"
    },
    "papermill": {
     "duration": 21.557007,
     "end_time": "2023-05-15T12:24:49.474301",
     "exception": false,
     "start_time": "2023-05-15T12:24:27.917294",
     "status": "completed"
    },
    "tags": []
   },
   "outputs": [
    {
     "name": "stderr",
     "output_type": "stream",
     "text": [
      "/tmp/ipykernel_23/3440835061.py:1: FutureWarning: The error_bad_lines argument has been deprecated and will be removed in a future version. Use on_bad_lines in the future.\n",
      "\n",
      "\n",
      "  ratings = pd.read_csv(\"/kaggle/input/movielens-20m-dataset/rating.csv\",\n",
      "/tmp/ipykernel_23/3440835061.py:1: FutureWarning: The warn_bad_lines argument has been deprecated and will be removed in a future version. Use on_bad_lines in the future.\n",
      "\n",
      "\n",
      "  ratings = pd.read_csv(\"/kaggle/input/movielens-20m-dataset/rating.csv\",\n"
     ]
    }
   ],
   "source": [
    "ratings = pd.read_csv(\"/kaggle/input/movielens-20m-dataset/rating.csv\",\n",
    "                          error_bad_lines=False,\n",
    "                          warn_bad_lines=False)"
   ]
  },
  {
   "cell_type": "markdown",
   "id": "1da3fd18",
   "metadata": {
    "papermill": {
     "duration": 0.006522,
     "end_time": "2023-05-15T12:24:49.487903",
     "exception": false,
     "start_time": "2023-05-15T12:24:49.481381",
     "status": "completed"
    },
    "tags": []
   },
   "source": [
    "# Prepare the dataset"
   ]
  },
  {
   "cell_type": "code",
   "execution_count": 4,
   "id": "006d359f",
   "metadata": {
    "execution": {
     "iopub.execute_input": "2023-05-15T12:24:49.503805Z",
     "iopub.status.busy": "2023-05-15T12:24:49.502338Z",
     "iopub.status.idle": "2023-05-15T12:24:49.511072Z",
     "shell.execute_reply": "2023-05-15T12:24:49.510236Z"
    },
    "papermill": {
     "duration": 0.018459,
     "end_time": "2023-05-15T12:24:49.512980",
     "exception": false,
     "start_time": "2023-05-15T12:24:49.494521",
     "status": "completed"
    },
    "tags": []
   },
   "outputs": [],
   "source": [
    "class MovieLensDataset(torch.utils.data.Dataset):\n",
    "    \"\"\"\n",
    "    MovieLens Dataset\n",
    "    Data preparation\n",
    "        treat samples with a rating less than 3 as negative samples\n",
    "    \"\"\"\n",
    "    def __init__(self, ratings):\n",
    "        data = ratings.copy().to_numpy()\n",
    "        self.items = data[:, :2].astype(np.int32) - 1  # -1 because ID begins from 1\n",
    "        self.targets = self.__preprocess_target(data[:, 2]).astype(np.float32)\n",
    "        self.field_dims = np.max(self.items, axis=0) + 1\n",
    "        self.user_field_idx = np.array((0, ), dtype=np.int64)\n",
    "        self.item_field_idx = np.array((1,), dtype=np.int64)\n",
    "\n",
    "    def __len__(self):\n",
    "        return self.targets.shape[0]\n",
    "\n",
    "    def __getitem__(self, index):\n",
    "        return self.items[index], self.targets[index]\n",
    "\n",
    "    def __preprocess_target(self, target):\n",
    "        target = target / 5.\n",
    "        return target"
   ]
  },
  {
   "cell_type": "code",
   "execution_count": 5,
   "id": "3177a77a",
   "metadata": {
    "execution": {
     "iopub.execute_input": "2023-05-15T12:24:49.527999Z",
     "iopub.status.busy": "2023-05-15T12:24:49.527197Z",
     "iopub.status.idle": "2023-05-15T12:24:49.531565Z",
     "shell.execute_reply": "2023-05-15T12:24:49.530700Z"
    },
    "papermill": {
     "duration": 0.013857,
     "end_time": "2023-05-15T12:24:49.533469",
     "exception": false,
     "start_time": "2023-05-15T12:24:49.519612",
     "status": "completed"
    },
    "tags": []
   },
   "outputs": [],
   "source": [
    "def get_dataset():\n",
    "    return MovieLensDataset(ratings)"
   ]
  },
  {
   "cell_type": "markdown",
   "id": "7bc0b39a",
   "metadata": {
    "papermill": {
     "duration": 0.006549,
     "end_time": "2023-05-15T12:24:49.546651",
     "exception": false,
     "start_time": "2023-05-15T12:24:49.540102",
     "status": "completed"
    },
    "tags": []
   },
   "source": [
    "# Prepare the algorithm  \n",
    "\n",
    "## The model  "
   ]
  },
  {
   "cell_type": "code",
   "execution_count": 6,
   "id": "ff6551a2",
   "metadata": {
    "execution": {
     "iopub.execute_input": "2023-05-15T12:24:49.560983Z",
     "iopub.status.busy": "2023-05-15T12:24:49.560702Z",
     "iopub.status.idle": "2023-05-15T12:24:49.566928Z",
     "shell.execute_reply": "2023-05-15T12:24:49.565942Z"
    },
    "papermill": {
     "duration": 0.015966,
     "end_time": "2023-05-15T12:24:49.569163",
     "exception": false,
     "start_time": "2023-05-15T12:24:49.553197",
     "status": "completed"
    },
    "tags": []
   },
   "outputs": [],
   "source": [
    "class FactorizationMachineModel(torch.nn.Module):\n",
    "    \"\"\"\n",
    "    A pytorch implementation of Factorization Machine.\n",
    "\n",
    "    Reference:\n",
    "        S Rendle, Factorization Machines, 2010.\n",
    "    \"\"\"\n",
    "\n",
    "    def __init__(self, field_dims, embed_dim):\n",
    "        super().__init__()\n",
    "        self.embedding = FeaturesEmbedding(field_dims, embed_dim)\n",
    "        self.linear = FeaturesLinear(field_dims)\n",
    "        self.fm = FactorizationMachine(reduce_sum=True)\n",
    "\n",
    "    def forward(self, x):\n",
    "        \"\"\"\n",
    "        :param x: Long tensor of size ``(batch_size, num_fields)``\n",
    "        \"\"\"\n",
    "        x = self.linear(x) + self.fm(self.embedding(x))\n",
    "        return torch.sigmoid(x.squeeze(1))"
   ]
  },
  {
   "cell_type": "markdown",
   "id": "943e6bfd",
   "metadata": {
    "papermill": {
     "duration": 0.006398,
     "end_time": "2023-05-15T12:24:49.582098",
     "exception": false,
     "start_time": "2023-05-15T12:24:49.575700",
     "status": "completed"
    },
    "tags": []
   },
   "source": [
    "## Early stopper"
   ]
  },
  {
   "cell_type": "code",
   "execution_count": 7,
   "id": "0334bafc",
   "metadata": {
    "execution": {
     "iopub.execute_input": "2023-05-15T12:24:49.596554Z",
     "iopub.status.busy": "2023-05-15T12:24:49.596304Z",
     "iopub.status.idle": "2023-05-15T12:24:49.603214Z",
     "shell.execute_reply": "2023-05-15T12:24:49.602386Z"
    },
    "papermill": {
     "duration": 0.016494,
     "end_time": "2023-05-15T12:24:49.605203",
     "exception": false,
     "start_time": "2023-05-15T12:24:49.588709",
     "status": "completed"
    },
    "tags": []
   },
   "outputs": [],
   "source": [
    "class EarlyStopper(object):\n",
    "\n",
    "    def __init__(self, num_trials, save_path, lower_is_better=True):\n",
    "        self.num_trials = num_trials\n",
    "        self.trial_counter = 0\n",
    "        self.lower_is_better = lower_is_better\n",
    "        if self.lower_is_better:\n",
    "            self.best_accuracy = 1_000_000\n",
    "        else:\n",
    "            self.best_accuracy = 0\n",
    "        self.save_path = save_path\n",
    "\n",
    "    def is_continuable(self, model, accuracy):\n",
    "        print(f\"ES accuracy: {accuracy}\")\n",
    "        if (self.lower_is_better and accuracy < self.best_accuracy) or\\\n",
    "           (not self.lower_is_better and accuracy > self.best_accuracy) :\n",
    "            self.best_accuracy = accuracy\n",
    "            self.trial_counter = 0\n",
    "            torch.save(model, self.save_path)\n",
    "            return True\n",
    "        elif self.trial_counter + 1 < self.num_trials:\n",
    "            self.trial_counter += 1\n",
    "            return True\n",
    "        else:\n",
    "            return False"
   ]
  },
  {
   "cell_type": "markdown",
   "id": "847ea333",
   "metadata": {
    "papermill": {
     "duration": 0.006394,
     "end_time": "2023-05-15T12:24:49.618176",
     "exception": false,
     "start_time": "2023-05-15T12:24:49.611782",
     "status": "completed"
    },
    "tags": []
   },
   "source": [
    "## Get the model"
   ]
  },
  {
   "cell_type": "code",
   "execution_count": 8,
   "id": "401969a2",
   "metadata": {
    "execution": {
     "iopub.execute_input": "2023-05-15T12:24:49.632424Z",
     "iopub.status.busy": "2023-05-15T12:24:49.632160Z",
     "iopub.status.idle": "2023-05-15T12:24:49.636541Z",
     "shell.execute_reply": "2023-05-15T12:24:49.635575Z"
    },
    "papermill": {
     "duration": 0.014066,
     "end_time": "2023-05-15T12:24:49.638827",
     "exception": false,
     "start_time": "2023-05-15T12:24:49.624761",
     "status": "completed"
    },
    "tags": []
   },
   "outputs": [],
   "source": [
    "def get_model(dataset):\n",
    "    field_dims = dataset.field_dims\n",
    "    return FactorizationMachineModel(field_dims, embed_dim=64) "
   ]
  },
  {
   "cell_type": "markdown",
   "id": "2ad4e882",
   "metadata": {
    "papermill": {
     "duration": 0.006489,
     "end_time": "2023-05-15T12:24:49.651939",
     "exception": false,
     "start_time": "2023-05-15T12:24:49.645450",
     "status": "completed"
    },
    "tags": []
   },
   "source": [
    "## Train"
   ]
  },
  {
   "cell_type": "code",
   "execution_count": 9,
   "id": "de5742f9",
   "metadata": {
    "execution": {
     "iopub.execute_input": "2023-05-15T12:24:49.666234Z",
     "iopub.status.busy": "2023-05-15T12:24:49.665978Z",
     "iopub.status.idle": "2023-05-15T12:24:49.673255Z",
     "shell.execute_reply": "2023-05-15T12:24:49.672392Z"
    },
    "papermill": {
     "duration": 0.016879,
     "end_time": "2023-05-15T12:24:49.675424",
     "exception": false,
     "start_time": "2023-05-15T12:24:49.658545",
     "status": "completed"
    },
    "tags": []
   },
   "outputs": [],
   "source": [
    "def train(model, optimizer, data_loader, criterion, device, log_interval=100):\n",
    "    model.train()\n",
    "    total_loss = 0\n",
    "    av_loss = []\n",
    "    tk0 = tqdm.tqdm(data_loader, smoothing=0, mininterval=1.0)\n",
    "    for i, (fields, target) in enumerate(tk0):\n",
    "        fields, target = fields.to(device), target.to(device)\n",
    "        y = model(fields)\n",
    "        loss = criterion(y, target.float())\n",
    "        model.zero_grad()\n",
    "        loss.backward()\n",
    "        optimizer.step()\n",
    "        total_loss += loss.item()\n",
    "        if (i + 1) % log_interval == 0:\n",
    "            loss = total_loss / log_interval\n",
    "            av_loss.append(loss)\n",
    "            tk0.set_postfix(loss=loss)\n",
    "            total_loss = 0\n",
    "    return np.mean(av_loss)   "
   ]
  },
  {
   "cell_type": "markdown",
   "id": "f0aa4fe1",
   "metadata": {
    "papermill": {
     "duration": 0.006389,
     "end_time": "2023-05-15T12:24:49.688395",
     "exception": false,
     "start_time": "2023-05-15T12:24:49.682006",
     "status": "completed"
    },
    "tags": []
   },
   "source": [
    "## Test/validation"
   ]
  },
  {
   "cell_type": "code",
   "execution_count": 10,
   "id": "5a194568",
   "metadata": {
    "execution": {
     "iopub.execute_input": "2023-05-15T12:24:49.703018Z",
     "iopub.status.busy": "2023-05-15T12:24:49.702540Z",
     "iopub.status.idle": "2023-05-15T12:24:49.708352Z",
     "shell.execute_reply": "2023-05-15T12:24:49.707434Z"
    },
    "papermill": {
     "duration": 0.015164,
     "end_time": "2023-05-15T12:24:49.710233",
     "exception": false,
     "start_time": "2023-05-15T12:24:49.695069",
     "status": "completed"
    },
    "tags": []
   },
   "outputs": [],
   "source": [
    "def test(model, data_loader, device):\n",
    "    model.eval()\n",
    "    targets, predicts = list(), list()\n",
    "    with torch.no_grad():\n",
    "        for fields, target in tqdm.tqdm(data_loader, smoothing=0, mininterval=1.0):\n",
    "            fields, target = fields.to(device), target.to(device)\n",
    "            y = model(fields)\n",
    "            targets.extend(target.tolist())\n",
    "            predicts.extend(y.tolist())\n",
    "    return 5.* mean_squared_error(targets, predicts)"
   ]
  },
  {
   "cell_type": "markdown",
   "id": "0fd46714",
   "metadata": {
    "papermill": {
     "duration": 0.006344,
     "end_time": "2023-05-15T12:24:49.723246",
     "exception": false,
     "start_time": "2023-05-15T12:24:49.716902",
     "status": "completed"
    },
    "tags": []
   },
   "source": [
    "# Settings   \n",
    "\n",
    "\n",
    "Set the device. If GPU available, set it to \"cuda:0\". Otherwise, set it to \"cpu\"."
   ]
  },
  {
   "cell_type": "code",
   "execution_count": 11,
   "id": "e4a867fd",
   "metadata": {
    "execution": {
     "iopub.execute_input": "2023-05-15T12:24:49.738535Z",
     "iopub.status.busy": "2023-05-15T12:24:49.737194Z",
     "iopub.status.idle": "2023-05-15T12:24:49.799830Z",
     "shell.execute_reply": "2023-05-15T12:24:49.798891Z"
    },
    "papermill": {
     "duration": 0.072108,
     "end_time": "2023-05-15T12:24:49.801899",
     "exception": false,
     "start_time": "2023-05-15T12:24:49.729791",
     "status": "completed"
    },
    "tags": []
   },
   "outputs": [],
   "source": [
    "device = torch.device(\"cpu\")\n",
    "if torch.cuda.is_available():\n",
    "    device = torch.device(\"cuda:0\")"
   ]
  },
  {
   "cell_type": "markdown",
   "id": "215c31e3",
   "metadata": {
    "papermill": {
     "duration": 0.006392,
     "end_time": "2023-05-15T12:24:49.815118",
     "exception": false,
     "start_time": "2023-05-15T12:24:49.808726",
     "status": "completed"
    },
    "tags": []
   },
   "source": [
    "Model parameters"
   ]
  },
  {
   "cell_type": "code",
   "execution_count": 12,
   "id": "b89c4283",
   "metadata": {
    "execution": {
     "iopub.execute_input": "2023-05-15T12:24:49.830545Z",
     "iopub.status.busy": "2023-05-15T12:24:49.829716Z",
     "iopub.status.idle": "2023-05-15T12:24:49.834607Z",
     "shell.execute_reply": "2023-05-15T12:24:49.833606Z"
    },
    "papermill": {
     "duration": 0.014828,
     "end_time": "2023-05-15T12:24:49.836703",
     "exception": false,
     "start_time": "2023-05-15T12:24:49.821875",
     "status": "completed"
    },
    "tags": []
   },
   "outputs": [],
   "source": [
    "learning_rate = 0.001\n",
    "weight_decay = 1e-4\n",
    "batch_size = 2048\n",
    "epochs = 20\n",
    "model_name = \"DeepFM\""
   ]
  },
  {
   "cell_type": "markdown",
   "id": "0e18a267",
   "metadata": {
    "papermill": {
     "duration": 0.006381,
     "end_time": "2023-05-15T12:24:49.849771",
     "exception": false,
     "start_time": "2023-05-15T12:24:49.843390",
     "status": "completed"
    },
    "tags": []
   },
   "source": [
    "# Prepare train, valid & test datasets"
   ]
  },
  {
   "cell_type": "code",
   "execution_count": 13,
   "id": "68fa644f",
   "metadata": {
    "execution": {
     "iopub.execute_input": "2023-05-15T12:24:49.864310Z",
     "iopub.status.busy": "2023-05-15T12:24:49.864013Z",
     "iopub.status.idle": "2023-05-15T12:25:03.051595Z",
     "shell.execute_reply": "2023-05-15T12:25:03.050676Z"
    },
    "papermill": {
     "duration": 13.197724,
     "end_time": "2023-05-15T12:25:03.054030",
     "exception": false,
     "start_time": "2023-05-15T12:24:49.856306",
     "status": "completed"
    },
    "tags": []
   },
   "outputs": [
    {
     "name": "stderr",
     "output_type": "stream",
     "text": [
      "/opt/conda/lib/python3.10/site-packages/torch/utils/data/dataloader.py:561: UserWarning: This DataLoader will create 4 worker processes in total. Our suggested max number of worker in current system is 2, which is smaller than what this DataLoader is going to create. Please be aware that excessive worker creation might get DataLoader running slow or even freeze, lower the worker number to avoid potential slowness/freeze if necessary.\n",
      "  warnings.warn(_create_warning_msg(\n"
     ]
    }
   ],
   "source": [
    "dataset = get_dataset()\n",
    "train_length = int(len(dataset) * 0.8)\n",
    "valid_length = int(len(dataset) * 0.1)\n",
    "test_length = len(dataset) - train_length - valid_length\n",
    "\n",
    "train_dataset, valid_dataset, test_dataset = torch.utils.data.random_split(\n",
    "        dataset, (train_length, valid_length, test_length))\n",
    "\n",
    "train_data_loader = DataLoader(train_dataset, batch_size=batch_size, num_workers=4)\n",
    "valid_data_loader = DataLoader(valid_dataset, batch_size=batch_size, num_workers=4)\n",
    "test_data_loader = DataLoader(test_dataset, batch_size=batch_size, num_workers=4)"
   ]
  },
  {
   "cell_type": "markdown",
   "id": "30312791",
   "metadata": {
    "papermill": {
     "duration": 0.006568,
     "end_time": "2023-05-15T12:25:03.067498",
     "exception": false,
     "start_time": "2023-05-15T12:25:03.060930",
     "status": "completed"
    },
    "tags": []
   },
   "source": [
    "# Fit the model"
   ]
  },
  {
   "cell_type": "code",
   "execution_count": 14,
   "id": "3bf610c4",
   "metadata": {
    "execution": {
     "iopub.execute_input": "2023-05-15T12:25:03.082580Z",
     "iopub.status.busy": "2023-05-15T12:25:03.081914Z",
     "iopub.status.idle": "2023-05-15T12:25:06.135327Z",
     "shell.execute_reply": "2023-05-15T12:25:06.134369Z"
    },
    "papermill": {
     "duration": 3.063594,
     "end_time": "2023-05-15T12:25:06.137772",
     "exception": false,
     "start_time": "2023-05-15T12:25:03.074178",
     "status": "completed"
    },
    "tags": []
   },
   "outputs": [],
   "source": [
    "model = get_model(dataset).to(device)\n",
    "criterion = torch.nn.BCELoss()\n",
    "optimizer = torch.optim.Adam(params=model.parameters(), lr=learning_rate, weight_decay=weight_decay)\n",
    "early_stopper = EarlyStopper(num_trials=5, save_path=f'{model_name}.pt')"
   ]
  },
  {
   "cell_type": "code",
   "execution_count": 15,
   "id": "4354f75a",
   "metadata": {
    "execution": {
     "iopub.execute_input": "2023-05-15T12:25:06.154327Z",
     "iopub.status.busy": "2023-05-15T12:25:06.152875Z",
     "iopub.status.idle": "2023-05-15T13:35:51.022107Z",
     "shell.execute_reply": "2023-05-15T13:35:51.020502Z"
    },
    "papermill": {
     "duration": 4244.879334,
     "end_time": "2023-05-15T13:35:51.024299",
     "exception": false,
     "start_time": "2023-05-15T12:25:06.144965",
     "status": "completed"
    },
    "tags": []
   },
   "outputs": [
    {
     "name": "stderr",
     "output_type": "stream",
     "text": [
      "100%|██████████| 7813/7813 [02:05<00:00, 62.13it/s, loss=0.592]\n",
      "100%|██████████| 977/977 [00:15<00:00, 61.60it/s]\n"
     ]
    },
    {
     "name": "stdout",
     "output_type": "stream",
     "text": [
      "epoch: 1 validation: mae: 0.19150770481323579\n"
     ]
    },
    {
     "name": "stderr",
     "output_type": "stream",
     "text": [
      "  0%|          | 0/7813 [00:00<?, ?it/s]/opt/conda/lib/python3.10/site-packages/torch/utils/data/dataloader.py:561: UserWarning: This DataLoader will create 4 worker processes in total. Our suggested max number of worker in current system is 2, which is smaller than what this DataLoader is going to create. Please be aware that excessive worker creation might get DataLoader running slow or even freeze, lower the worker number to avoid potential slowness/freeze if necessary.\n",
      "  warnings.warn(_create_warning_msg(\n",
      "100%|██████████| 7813/7813 [02:01<00:00, 64.21it/s]\n"
     ]
    },
    {
     "name": "stdout",
     "output_type": "stream",
     "text": [
      "train mae: 0.19164727872597379\n"
     ]
    },
    {
     "name": "stderr",
     "output_type": "stream",
     "text": [
      "  0%|          | 0/977 [00:00<?, ?it/s]/opt/conda/lib/python3.10/site-packages/torch/utils/data/dataloader.py:561: UserWarning: This DataLoader will create 4 worker processes in total. Our suggested max number of worker in current system is 2, which is smaller than what this DataLoader is going to create. Please be aware that excessive worker creation might get DataLoader running slow or even freeze, lower the worker number to avoid potential slowness/freeze if necessary.\n",
      "  warnings.warn(_create_warning_msg(\n",
      "100%|██████████| 977/977 [00:15<00:00, 62.01it/s]\n"
     ]
    },
    {
     "name": "stdout",
     "output_type": "stream",
     "text": [
      "test mae: 0.19198811452839512\n",
      "ES accuracy: 0.19150770481323579\n"
     ]
    },
    {
     "name": "stderr",
     "output_type": "stream",
     "text": [
      "  0%|          | 0/7813 [00:00<?, ?it/s]/opt/conda/lib/python3.10/site-packages/torch/utils/data/dataloader.py:561: UserWarning: This DataLoader will create 4 worker processes in total. Our suggested max number of worker in current system is 2, which is smaller than what this DataLoader is going to create. Please be aware that excessive worker creation might get DataLoader running slow or even freeze, lower the worker number to avoid potential slowness/freeze if necessary.\n",
      "  warnings.warn(_create_warning_msg(\n",
      "100%|██████████| 7813/7813 [02:08<00:00, 60.97it/s, loss=0.592]\n",
      "100%|██████████| 977/977 [00:15<00:00, 61.75it/s]\n"
     ]
    },
    {
     "name": "stdout",
     "output_type": "stream",
     "text": [
      "epoch: 2 validation: mae: 0.19150545235720132\n"
     ]
    },
    {
     "name": "stderr",
     "output_type": "stream",
     "text": [
      "  0%|          | 0/7813 [00:00<?, ?it/s]/opt/conda/lib/python3.10/site-packages/torch/utils/data/dataloader.py:561: UserWarning: This DataLoader will create 4 worker processes in total. Our suggested max number of worker in current system is 2, which is smaller than what this DataLoader is going to create. Please be aware that excessive worker creation might get DataLoader running slow or even freeze, lower the worker number to avoid potential slowness/freeze if necessary.\n",
      "  warnings.warn(_create_warning_msg(\n",
      "100%|██████████| 7813/7813 [01:59<00:00, 65.29it/s]\n"
     ]
    },
    {
     "name": "stdout",
     "output_type": "stream",
     "text": [
      "train mae: 0.19164509695652954\n"
     ]
    },
    {
     "name": "stderr",
     "output_type": "stream",
     "text": [
      "  0%|          | 0/977 [00:00<?, ?it/s]/opt/conda/lib/python3.10/site-packages/torch/utils/data/dataloader.py:561: UserWarning: This DataLoader will create 4 worker processes in total. Our suggested max number of worker in current system is 2, which is smaller than what this DataLoader is going to create. Please be aware that excessive worker creation might get DataLoader running slow or even freeze, lower the worker number to avoid potential slowness/freeze if necessary.\n",
      "  warnings.warn(_create_warning_msg(\n",
      "100%|██████████| 977/977 [00:15<00:00, 62.65it/s]\n"
     ]
    },
    {
     "name": "stdout",
     "output_type": "stream",
     "text": [
      "test mae: 0.19198592650404303\n",
      "ES accuracy: 0.19150545235720132\n"
     ]
    },
    {
     "name": "stderr",
     "output_type": "stream",
     "text": [
      "  0%|          | 0/7813 [00:00<?, ?it/s]/opt/conda/lib/python3.10/site-packages/torch/utils/data/dataloader.py:561: UserWarning: This DataLoader will create 4 worker processes in total. Our suggested max number of worker in current system is 2, which is smaller than what this DataLoader is going to create. Please be aware that excessive worker creation might get DataLoader running slow or even freeze, lower the worker number to avoid potential slowness/freeze if necessary.\n",
      "  warnings.warn(_create_warning_msg(\n",
      "100%|██████████| 7813/7813 [02:10<00:00, 60.04it/s, loss=0.592]\n",
      "100%|██████████| 977/977 [00:16<00:00, 60.86it/s]\n"
     ]
    },
    {
     "name": "stdout",
     "output_type": "stream",
     "text": [
      "epoch: 3 validation: mae: 0.19150545191847837\n"
     ]
    },
    {
     "name": "stderr",
     "output_type": "stream",
     "text": [
      "  0%|          | 0/7813 [00:00<?, ?it/s]/opt/conda/lib/python3.10/site-packages/torch/utils/data/dataloader.py:561: UserWarning: This DataLoader will create 4 worker processes in total. Our suggested max number of worker in current system is 2, which is smaller than what this DataLoader is going to create. Please be aware that excessive worker creation might get DataLoader running slow or even freeze, lower the worker number to avoid potential slowness/freeze if necessary.\n",
      "  warnings.warn(_create_warning_msg(\n",
      "100%|██████████| 7813/7813 [02:00<00:00, 64.59it/s]\n"
     ]
    },
    {
     "name": "stdout",
     "output_type": "stream",
     "text": [
      "train mae: 0.19164509662193965\n"
     ]
    },
    {
     "name": "stderr",
     "output_type": "stream",
     "text": [
      "  0%|          | 0/977 [00:00<?, ?it/s]/opt/conda/lib/python3.10/site-packages/torch/utils/data/dataloader.py:561: UserWarning: This DataLoader will create 4 worker processes in total. Our suggested max number of worker in current system is 2, which is smaller than what this DataLoader is going to create. Please be aware that excessive worker creation might get DataLoader running slow or even freeze, lower the worker number to avoid potential slowness/freeze if necessary.\n",
      "  warnings.warn(_create_warning_msg(\n",
      "100%|██████████| 977/977 [00:16<00:00, 60.06it/s]\n"
     ]
    },
    {
     "name": "stdout",
     "output_type": "stream",
     "text": [
      "test mae: 0.19198592621337845\n",
      "ES accuracy: 0.19150545191847837\n"
     ]
    },
    {
     "name": "stderr",
     "output_type": "stream",
     "text": [
      "  0%|          | 0/7813 [00:00<?, ?it/s]/opt/conda/lib/python3.10/site-packages/torch/utils/data/dataloader.py:561: UserWarning: This DataLoader will create 4 worker processes in total. Our suggested max number of worker in current system is 2, which is smaller than what this DataLoader is going to create. Please be aware that excessive worker creation might get DataLoader running slow or even freeze, lower the worker number to avoid potential slowness/freeze if necessary.\n",
      "  warnings.warn(_create_warning_msg(\n",
      "100%|██████████| 7813/7813 [02:09<00:00, 60.32it/s, loss=0.592]\n",
      "100%|██████████| 977/977 [00:16<00:00, 60.83it/s]\n"
     ]
    },
    {
     "name": "stdout",
     "output_type": "stream",
     "text": [
      "epoch: 4 validation: mae: 0.19150545189245496\n"
     ]
    },
    {
     "name": "stderr",
     "output_type": "stream",
     "text": [
      "  0%|          | 0/7813 [00:00<?, ?it/s]/opt/conda/lib/python3.10/site-packages/torch/utils/data/dataloader.py:561: UserWarning: This DataLoader will create 4 worker processes in total. Our suggested max number of worker in current system is 2, which is smaller than what this DataLoader is going to create. Please be aware that excessive worker creation might get DataLoader running slow or even freeze, lower the worker number to avoid potential slowness/freeze if necessary.\n",
      "  warnings.warn(_create_warning_msg(\n",
      "100%|██████████| 7813/7813 [02:01<00:00, 64.42it/s]\n"
     ]
    },
    {
     "name": "stdout",
     "output_type": "stream",
     "text": [
      "train mae: 0.1916450966029153\n"
     ]
    },
    {
     "name": "stderr",
     "output_type": "stream",
     "text": [
      "  0%|          | 0/977 [00:00<?, ?it/s]/opt/conda/lib/python3.10/site-packages/torch/utils/data/dataloader.py:561: UserWarning: This DataLoader will create 4 worker processes in total. Our suggested max number of worker in current system is 2, which is smaller than what this DataLoader is going to create. Please be aware that excessive worker creation might get DataLoader running slow or even freeze, lower the worker number to avoid potential slowness/freeze if necessary.\n",
      "  warnings.warn(_create_warning_msg(\n",
      "100%|██████████| 977/977 [00:16<00:00, 60.91it/s]\n"
     ]
    },
    {
     "name": "stdout",
     "output_type": "stream",
     "text": [
      "test mae: 0.1919859261966063\n",
      "ES accuracy: 0.19150545189245496\n"
     ]
    },
    {
     "name": "stderr",
     "output_type": "stream",
     "text": [
      "  0%|          | 0/7813 [00:00<?, ?it/s]/opt/conda/lib/python3.10/site-packages/torch/utils/data/dataloader.py:561: UserWarning: This DataLoader will create 4 worker processes in total. Our suggested max number of worker in current system is 2, which is smaller than what this DataLoader is going to create. Please be aware that excessive worker creation might get DataLoader running slow or even freeze, lower the worker number to avoid potential slowness/freeze if necessary.\n",
      "  warnings.warn(_create_warning_msg(\n",
      "100%|██████████| 7813/7813 [02:08<00:00, 60.57it/s, loss=0.592]\n",
      "100%|██████████| 977/977 [00:15<00:00, 64.60it/s]\n"
     ]
    },
    {
     "name": "stdout",
     "output_type": "stream",
     "text": [
      "epoch: 5 validation: mae: 0.19150545189861973\n"
     ]
    },
    {
     "name": "stderr",
     "output_type": "stream",
     "text": [
      "  0%|          | 0/7813 [00:00<?, ?it/s]/opt/conda/lib/python3.10/site-packages/torch/utils/data/dataloader.py:561: UserWarning: This DataLoader will create 4 worker processes in total. Our suggested max number of worker in current system is 2, which is smaller than what this DataLoader is going to create. Please be aware that excessive worker creation might get DataLoader running slow or even freeze, lower the worker number to avoid potential slowness/freeze if necessary.\n",
      "  warnings.warn(_create_warning_msg(\n",
      "100%|██████████| 7813/7813 [02:02<00:00, 64.03it/s]\n"
     ]
    },
    {
     "name": "stdout",
     "output_type": "stream",
     "text": [
      "train mae: 0.19164509660186446\n"
     ]
    },
    {
     "name": "stderr",
     "output_type": "stream",
     "text": [
      "  0%|          | 0/977 [00:00<?, ?it/s]/opt/conda/lib/python3.10/site-packages/torch/utils/data/dataloader.py:561: UserWarning: This DataLoader will create 4 worker processes in total. Our suggested max number of worker in current system is 2, which is smaller than what this DataLoader is going to create. Please be aware that excessive worker creation might get DataLoader running slow or even freeze, lower the worker number to avoid potential slowness/freeze if necessary.\n",
      "  warnings.warn(_create_warning_msg(\n",
      "100%|██████████| 977/977 [00:15<00:00, 61.85it/s]\n"
     ]
    },
    {
     "name": "stdout",
     "output_type": "stream",
     "text": [
      "test mae: 0.19198592620024618\n",
      "ES accuracy: 0.19150545189861973\n"
     ]
    },
    {
     "name": "stderr",
     "output_type": "stream",
     "text": [
      "  0%|          | 0/7813 [00:00<?, ?it/s]/opt/conda/lib/python3.10/site-packages/torch/utils/data/dataloader.py:561: UserWarning: This DataLoader will create 4 worker processes in total. Our suggested max number of worker in current system is 2, which is smaller than what this DataLoader is going to create. Please be aware that excessive worker creation might get DataLoader running slow or even freeze, lower the worker number to avoid potential slowness/freeze if necessary.\n",
      "  warnings.warn(_create_warning_msg(\n",
      "100%|██████████| 7813/7813 [02:08<00:00, 60.71it/s, loss=0.592]\n",
      "100%|██████████| 977/977 [00:14<00:00, 65.60it/s]\n"
     ]
    },
    {
     "name": "stdout",
     "output_type": "stream",
     "text": [
      "epoch: 6 validation: mae: 0.19150545189312337\n"
     ]
    },
    {
     "name": "stderr",
     "output_type": "stream",
     "text": [
      "  0%|          | 0/7813 [00:00<?, ?it/s]/opt/conda/lib/python3.10/site-packages/torch/utils/data/dataloader.py:561: UserWarning: This DataLoader will create 4 worker processes in total. Our suggested max number of worker in current system is 2, which is smaller than what this DataLoader is going to create. Please be aware that excessive worker creation might get DataLoader running slow or even freeze, lower the worker number to avoid potential slowness/freeze if necessary.\n",
      "  warnings.warn(_create_warning_msg(\n",
      "100%|██████████| 7813/7813 [02:00<00:00, 65.05it/s]\n"
     ]
    },
    {
     "name": "stdout",
     "output_type": "stream",
     "text": [
      "train mae: 0.19164509660247434\n"
     ]
    },
    {
     "name": "stderr",
     "output_type": "stream",
     "text": [
      "  0%|          | 0/977 [00:00<?, ?it/s]/opt/conda/lib/python3.10/site-packages/torch/utils/data/dataloader.py:561: UserWarning: This DataLoader will create 4 worker processes in total. Our suggested max number of worker in current system is 2, which is smaller than what this DataLoader is going to create. Please be aware that excessive worker creation might get DataLoader running slow or even freeze, lower the worker number to avoid potential slowness/freeze if necessary.\n",
      "  warnings.warn(_create_warning_msg(\n",
      "100%|██████████| 977/977 [00:16<00:00, 60.46it/s]\n"
     ]
    },
    {
     "name": "stdout",
     "output_type": "stream",
     "text": [
      "test mae: 0.1919859261959794\n",
      "ES accuracy: 0.19150545189312337\n"
     ]
    },
    {
     "name": "stderr",
     "output_type": "stream",
     "text": [
      "  0%|          | 0/7813 [00:00<?, ?it/s]/opt/conda/lib/python3.10/site-packages/torch/utils/data/dataloader.py:561: UserWarning: This DataLoader will create 4 worker processes in total. Our suggested max number of worker in current system is 2, which is smaller than what this DataLoader is going to create. Please be aware that excessive worker creation might get DataLoader running slow or even freeze, lower the worker number to avoid potential slowness/freeze if necessary.\n",
      "  warnings.warn(_create_warning_msg(\n",
      "100%|██████████| 7813/7813 [02:05<00:00, 62.11it/s, loss=0.592]\n",
      "100%|██████████| 977/977 [00:14<00:00, 66.23it/s]\n"
     ]
    },
    {
     "name": "stdout",
     "output_type": "stream",
     "text": [
      "epoch: 7 validation: mae: 0.19150545188975082\n"
     ]
    },
    {
     "name": "stderr",
     "output_type": "stream",
     "text": [
      "  0%|          | 0/7813 [00:00<?, ?it/s]/opt/conda/lib/python3.10/site-packages/torch/utils/data/dataloader.py:561: UserWarning: This DataLoader will create 4 worker processes in total. Our suggested max number of worker in current system is 2, which is smaller than what this DataLoader is going to create. Please be aware that excessive worker creation might get DataLoader running slow or even freeze, lower the worker number to avoid potential slowness/freeze if necessary.\n",
      "  warnings.warn(_create_warning_msg(\n",
      "100%|██████████| 7813/7813 [01:58<00:00, 65.71it/s]\n"
     ]
    },
    {
     "name": "stdout",
     "output_type": "stream",
     "text": [
      "train mae: 0.19164509659745066\n"
     ]
    },
    {
     "name": "stderr",
     "output_type": "stream",
     "text": [
      "  0%|          | 0/977 [00:00<?, ?it/s]/opt/conda/lib/python3.10/site-packages/torch/utils/data/dataloader.py:561: UserWarning: This DataLoader will create 4 worker processes in total. Our suggested max number of worker in current system is 2, which is smaller than what this DataLoader is going to create. Please be aware that excessive worker creation might get DataLoader running slow or even freeze, lower the worker number to avoid potential slowness/freeze if necessary.\n",
      "  warnings.warn(_create_warning_msg(\n",
      "100%|██████████| 977/977 [00:14<00:00, 65.28it/s]\n"
     ]
    },
    {
     "name": "stdout",
     "output_type": "stream",
     "text": [
      "test mae: 0.19198592619026655\n",
      "ES accuracy: 0.19150545188975082\n"
     ]
    },
    {
     "name": "stderr",
     "output_type": "stream",
     "text": [
      "  0%|          | 0/7813 [00:00<?, ?it/s]/opt/conda/lib/python3.10/site-packages/torch/utils/data/dataloader.py:561: UserWarning: This DataLoader will create 4 worker processes in total. Our suggested max number of worker in current system is 2, which is smaller than what this DataLoader is going to create. Please be aware that excessive worker creation might get DataLoader running slow or even freeze, lower the worker number to avoid potential slowness/freeze if necessary.\n",
      "  warnings.warn(_create_warning_msg(\n",
      "100%|██████████| 7813/7813 [02:07<00:00, 61.36it/s, loss=0.592]\n",
      "100%|██████████| 977/977 [00:15<00:00, 63.39it/s]\n"
     ]
    },
    {
     "name": "stdout",
     "output_type": "stream",
     "text": [
      "epoch: 8 validation: mae: 0.19150545189756718\n"
     ]
    },
    {
     "name": "stderr",
     "output_type": "stream",
     "text": [
      "  0%|          | 0/7813 [00:00<?, ?it/s]/opt/conda/lib/python3.10/site-packages/torch/utils/data/dataloader.py:561: UserWarning: This DataLoader will create 4 worker processes in total. Our suggested max number of worker in current system is 2, which is smaller than what this DataLoader is going to create. Please be aware that excessive worker creation might get DataLoader running slow or even freeze, lower the worker number to avoid potential slowness/freeze if necessary.\n",
      "  warnings.warn(_create_warning_msg(\n",
      "100%|██████████| 7813/7813 [01:58<00:00, 65.81it/s]\n"
     ]
    },
    {
     "name": "stdout",
     "output_type": "stream",
     "text": [
      "train mae: 0.1916450966039346\n"
     ]
    },
    {
     "name": "stderr",
     "output_type": "stream",
     "text": [
      "  0%|          | 0/977 [00:00<?, ?it/s]/opt/conda/lib/python3.10/site-packages/torch/utils/data/dataloader.py:561: UserWarning: This DataLoader will create 4 worker processes in total. Our suggested max number of worker in current system is 2, which is smaller than what this DataLoader is going to create. Please be aware that excessive worker creation might get DataLoader running slow or even freeze, lower the worker number to avoid potential slowness/freeze if necessary.\n",
      "  warnings.warn(_create_warning_msg(\n",
      "100%|██████████| 977/977 [00:14<00:00, 66.14it/s]\n"
     ]
    },
    {
     "name": "stdout",
     "output_type": "stream",
     "text": [
      "test mae: 0.19198592619789154\n",
      "ES accuracy: 0.19150545189756718\n"
     ]
    },
    {
     "name": "stderr",
     "output_type": "stream",
     "text": [
      "  0%|          | 0/7813 [00:00<?, ?it/s]/opt/conda/lib/python3.10/site-packages/torch/utils/data/dataloader.py:561: UserWarning: This DataLoader will create 4 worker processes in total. Our suggested max number of worker in current system is 2, which is smaller than what this DataLoader is going to create. Please be aware that excessive worker creation might get DataLoader running slow or even freeze, lower the worker number to avoid potential slowness/freeze if necessary.\n",
      "  warnings.warn(_create_warning_msg(\n",
      "100%|██████████| 7813/7813 [02:07<00:00, 61.51it/s, loss=0.592]\n",
      "100%|██████████| 977/977 [00:15<00:00, 61.77it/s]\n"
     ]
    },
    {
     "name": "stdout",
     "output_type": "stream",
     "text": [
      "epoch: 9 validation: mae: 0.19150545189635665\n"
     ]
    },
    {
     "name": "stderr",
     "output_type": "stream",
     "text": [
      "  0%|          | 0/7813 [00:00<?, ?it/s]/opt/conda/lib/python3.10/site-packages/torch/utils/data/dataloader.py:561: UserWarning: This DataLoader will create 4 worker processes in total. Our suggested max number of worker in current system is 2, which is smaller than what this DataLoader is going to create. Please be aware that excessive worker creation might get DataLoader running slow or even freeze, lower the worker number to avoid potential slowness/freeze if necessary.\n",
      "  warnings.warn(_create_warning_msg(\n",
      "100%|██████████| 7813/7813 [01:59<00:00, 65.25it/s]\n"
     ]
    },
    {
     "name": "stdout",
     "output_type": "stream",
     "text": [
      "train mae: 0.191645096603825\n"
     ]
    },
    {
     "name": "stderr",
     "output_type": "stream",
     "text": [
      "  0%|          | 0/977 [00:00<?, ?it/s]/opt/conda/lib/python3.10/site-packages/torch/utils/data/dataloader.py:561: UserWarning: This DataLoader will create 4 worker processes in total. Our suggested max number of worker in current system is 2, which is smaller than what this DataLoader is going to create. Please be aware that excessive worker creation might get DataLoader running slow or even freeze, lower the worker number to avoid potential slowness/freeze if necessary.\n",
      "  warnings.warn(_create_warning_msg(\n",
      "100%|██████████| 977/977 [00:15<00:00, 61.76it/s]\n"
     ]
    },
    {
     "name": "stdout",
     "output_type": "stream",
     "text": [
      "test mae: 0.1919859261966128\n",
      "ES accuracy: 0.19150545189635665\n"
     ]
    },
    {
     "name": "stderr",
     "output_type": "stream",
     "text": [
      "  0%|          | 0/7813 [00:00<?, ?it/s]/opt/conda/lib/python3.10/site-packages/torch/utils/data/dataloader.py:561: UserWarning: This DataLoader will create 4 worker processes in total. Our suggested max number of worker in current system is 2, which is smaller than what this DataLoader is going to create. Please be aware that excessive worker creation might get DataLoader running slow or even freeze, lower the worker number to avoid potential slowness/freeze if necessary.\n",
      "  warnings.warn(_create_warning_msg(\n",
      "100%|██████████| 7813/7813 [02:06<00:00, 61.79it/s, loss=0.592]\n",
      "100%|██████████| 977/977 [00:14<00:00, 67.87it/s]\n"
     ]
    },
    {
     "name": "stdout",
     "output_type": "stream",
     "text": [
      "epoch: 10 validation: mae: 0.1915054518893694\n"
     ]
    },
    {
     "name": "stderr",
     "output_type": "stream",
     "text": [
      "  0%|          | 0/7813 [00:00<?, ?it/s]/opt/conda/lib/python3.10/site-packages/torch/utils/data/dataloader.py:561: UserWarning: This DataLoader will create 4 worker processes in total. Our suggested max number of worker in current system is 2, which is smaller than what this DataLoader is going to create. Please be aware that excessive worker creation might get DataLoader running slow or even freeze, lower the worker number to avoid potential slowness/freeze if necessary.\n",
      "  warnings.warn(_create_warning_msg(\n",
      "100%|██████████| 7813/7813 [01:59<00:00, 65.58it/s]\n"
     ]
    },
    {
     "name": "stdout",
     "output_type": "stream",
     "text": [
      "train mae: 0.1916450965990056\n"
     ]
    },
    {
     "name": "stderr",
     "output_type": "stream",
     "text": [
      "  0%|          | 0/977 [00:00<?, ?it/s]/opt/conda/lib/python3.10/site-packages/torch/utils/data/dataloader.py:561: UserWarning: This DataLoader will create 4 worker processes in total. Our suggested max number of worker in current system is 2, which is smaller than what this DataLoader is going to create. Please be aware that excessive worker creation might get DataLoader running slow or even freeze, lower the worker number to avoid potential slowness/freeze if necessary.\n",
      "  warnings.warn(_create_warning_msg(\n",
      "100%|██████████| 977/977 [00:15<00:00, 62.82it/s]\n"
     ]
    },
    {
     "name": "stdout",
     "output_type": "stream",
     "text": [
      "test mae: 0.19198592619357768\n",
      "ES accuracy: 0.1915054518893694\n"
     ]
    },
    {
     "name": "stderr",
     "output_type": "stream",
     "text": [
      "  0%|          | 0/7813 [00:00<?, ?it/s]/opt/conda/lib/python3.10/site-packages/torch/utils/data/dataloader.py:561: UserWarning: This DataLoader will create 4 worker processes in total. Our suggested max number of worker in current system is 2, which is smaller than what this DataLoader is going to create. Please be aware that excessive worker creation might get DataLoader running slow or even freeze, lower the worker number to avoid potential slowness/freeze if necessary.\n",
      "  warnings.warn(_create_warning_msg(\n",
      "100%|██████████| 7813/7813 [02:06<00:00, 61.75it/s, loss=0.592]\n",
      "100%|██████████| 977/977 [00:15<00:00, 64.69it/s]\n"
     ]
    },
    {
     "name": "stdout",
     "output_type": "stream",
     "text": [
      "epoch: 11 validation: mae: 0.19150545189302745\n"
     ]
    },
    {
     "name": "stderr",
     "output_type": "stream",
     "text": [
      "  0%|          | 0/7813 [00:00<?, ?it/s]/opt/conda/lib/python3.10/site-packages/torch/utils/data/dataloader.py:561: UserWarning: This DataLoader will create 4 worker processes in total. Our suggested max number of worker in current system is 2, which is smaller than what this DataLoader is going to create. Please be aware that excessive worker creation might get DataLoader running slow or even freeze, lower the worker number to avoid potential slowness/freeze if necessary.\n",
      "  warnings.warn(_create_warning_msg(\n",
      "100%|██████████| 7813/7813 [02:00<00:00, 65.10it/s]\n"
     ]
    },
    {
     "name": "stdout",
     "output_type": "stream",
     "text": [
      "train mae: 0.1916450966040907\n"
     ]
    },
    {
     "name": "stderr",
     "output_type": "stream",
     "text": [
      "  0%|          | 0/977 [00:00<?, ?it/s]/opt/conda/lib/python3.10/site-packages/torch/utils/data/dataloader.py:561: UserWarning: This DataLoader will create 4 worker processes in total. Our suggested max number of worker in current system is 2, which is smaller than what this DataLoader is going to create. Please be aware that excessive worker creation might get DataLoader running slow or even freeze, lower the worker number to avoid potential slowness/freeze if necessary.\n",
      "  warnings.warn(_create_warning_msg(\n",
      "100%|██████████| 977/977 [00:14<00:00, 66.63it/s]\n"
     ]
    },
    {
     "name": "stdout",
     "output_type": "stream",
     "text": [
      "test mae: 0.1919859261972309\n",
      "ES accuracy: 0.19150545189302745\n"
     ]
    },
    {
     "name": "stderr",
     "output_type": "stream",
     "text": [
      "  0%|          | 0/7813 [00:00<?, ?it/s]/opt/conda/lib/python3.10/site-packages/torch/utils/data/dataloader.py:561: UserWarning: This DataLoader will create 4 worker processes in total. Our suggested max number of worker in current system is 2, which is smaller than what this DataLoader is going to create. Please be aware that excessive worker creation might get DataLoader running slow or even freeze, lower the worker number to avoid potential slowness/freeze if necessary.\n",
      "  warnings.warn(_create_warning_msg(\n",
      "100%|██████████| 7813/7813 [02:07<00:00, 61.48it/s, loss=0.592]\n",
      "100%|██████████| 977/977 [00:15<00:00, 61.77it/s]\n"
     ]
    },
    {
     "name": "stdout",
     "output_type": "stream",
     "text": [
      "epoch: 12 validation: mae: 0.19150545189329476\n"
     ]
    },
    {
     "name": "stderr",
     "output_type": "stream",
     "text": [
      "  0%|          | 0/7813 [00:00<?, ?it/s]/opt/conda/lib/python3.10/site-packages/torch/utils/data/dataloader.py:561: UserWarning: This DataLoader will create 4 worker processes in total. Our suggested max number of worker in current system is 2, which is smaller than what this DataLoader is going to create. Please be aware that excessive worker creation might get DataLoader running slow or even freeze, lower the worker number to avoid potential slowness/freeze if necessary.\n",
      "  warnings.warn(_create_warning_msg(\n",
      "100%|██████████| 7813/7813 [02:00<00:00, 64.79it/s]\n"
     ]
    },
    {
     "name": "stdout",
     "output_type": "stream",
     "text": [
      "train mae: 0.19164509660103185\n"
     ]
    },
    {
     "name": "stderr",
     "output_type": "stream",
     "text": [
      "  0%|          | 0/977 [00:00<?, ?it/s]/opt/conda/lib/python3.10/site-packages/torch/utils/data/dataloader.py:561: UserWarning: This DataLoader will create 4 worker processes in total. Our suggested max number of worker in current system is 2, which is smaller than what this DataLoader is going to create. Please be aware that excessive worker creation might get DataLoader running slow or even freeze, lower the worker number to avoid potential slowness/freeze if necessary.\n",
      "  warnings.warn(_create_warning_msg(\n",
      "100%|██████████| 977/977 [00:14<00:00, 65.39it/s]\n"
     ]
    },
    {
     "name": "stdout",
     "output_type": "stream",
     "text": [
      "test mae: 0.19198592619339094\n",
      "ES accuracy: 0.19150545189329476\n"
     ]
    },
    {
     "name": "stderr",
     "output_type": "stream",
     "text": [
      "  0%|          | 0/7813 [00:00<?, ?it/s]/opt/conda/lib/python3.10/site-packages/torch/utils/data/dataloader.py:561: UserWarning: This DataLoader will create 4 worker processes in total. Our suggested max number of worker in current system is 2, which is smaller than what this DataLoader is going to create. Please be aware that excessive worker creation might get DataLoader running slow or even freeze, lower the worker number to avoid potential slowness/freeze if necessary.\n",
      "  warnings.warn(_create_warning_msg(\n",
      "100%|██████████| 7813/7813 [02:07<00:00, 61.30it/s, loss=0.592]\n",
      "100%|██████████| 977/977 [00:15<00:00, 63.03it/s]\n"
     ]
    },
    {
     "name": "stdout",
     "output_type": "stream",
     "text": [
      "epoch: 13 validation: mae: 0.19150545189152068\n"
     ]
    },
    {
     "name": "stderr",
     "output_type": "stream",
     "text": [
      "  0%|          | 0/7813 [00:00<?, ?it/s]/opt/conda/lib/python3.10/site-packages/torch/utils/data/dataloader.py:561: UserWarning: This DataLoader will create 4 worker processes in total. Our suggested max number of worker in current system is 2, which is smaller than what this DataLoader is going to create. Please be aware that excessive worker creation might get DataLoader running slow or even freeze, lower the worker number to avoid potential slowness/freeze if necessary.\n",
      "  warnings.warn(_create_warning_msg(\n",
      "100%|██████████| 7813/7813 [01:59<00:00, 65.42it/s]\n"
     ]
    },
    {
     "name": "stdout",
     "output_type": "stream",
     "text": [
      "train mae: 0.19164509659815288\n"
     ]
    },
    {
     "name": "stderr",
     "output_type": "stream",
     "text": [
      "  0%|          | 0/977 [00:00<?, ?it/s]/opt/conda/lib/python3.10/site-packages/torch/utils/data/dataloader.py:561: UserWarning: This DataLoader will create 4 worker processes in total. Our suggested max number of worker in current system is 2, which is smaller than what this DataLoader is going to create. Please be aware that excessive worker creation might get DataLoader running slow or even freeze, lower the worker number to avoid potential slowness/freeze if necessary.\n",
      "  warnings.warn(_create_warning_msg(\n",
      "100%|██████████| 977/977 [00:14<00:00, 66.95it/s]\n"
     ]
    },
    {
     "name": "stdout",
     "output_type": "stream",
     "text": [
      "test mae: 0.19198592619201166\n",
      "ES accuracy: 0.19150545189152068\n"
     ]
    },
    {
     "name": "stderr",
     "output_type": "stream",
     "text": [
      "  0%|          | 0/7813 [00:00<?, ?it/s]/opt/conda/lib/python3.10/site-packages/torch/utils/data/dataloader.py:561: UserWarning: This DataLoader will create 4 worker processes in total. Our suggested max number of worker in current system is 2, which is smaller than what this DataLoader is going to create. Please be aware that excessive worker creation might get DataLoader running slow or even freeze, lower the worker number to avoid potential slowness/freeze if necessary.\n",
      "  warnings.warn(_create_warning_msg(\n",
      "100%|██████████| 7813/7813 [02:08<00:00, 61.02it/s, loss=0.592]\n",
      "100%|██████████| 977/977 [00:15<00:00, 62.06it/s]\n"
     ]
    },
    {
     "name": "stdout",
     "output_type": "stream",
     "text": [
      "epoch: 14 validation: mae: 0.19150545189960846\n"
     ]
    },
    {
     "name": "stderr",
     "output_type": "stream",
     "text": [
      "  0%|          | 0/7813 [00:00<?, ?it/s]/opt/conda/lib/python3.10/site-packages/torch/utils/data/dataloader.py:561: UserWarning: This DataLoader will create 4 worker processes in total. Our suggested max number of worker in current system is 2, which is smaller than what this DataLoader is going to create. Please be aware that excessive worker creation might get DataLoader running slow or even freeze, lower the worker number to avoid potential slowness/freeze if necessary.\n",
      "  warnings.warn(_create_warning_msg(\n",
      "100%|██████████| 7813/7813 [01:59<00:00, 65.44it/s]\n"
     ]
    },
    {
     "name": "stdout",
     "output_type": "stream",
     "text": [
      "train mae: 0.19164509660325113\n"
     ]
    },
    {
     "name": "stderr",
     "output_type": "stream",
     "text": [
      "  0%|          | 0/977 [00:00<?, ?it/s]/opt/conda/lib/python3.10/site-packages/torch/utils/data/dataloader.py:561: UserWarning: This DataLoader will create 4 worker processes in total. Our suggested max number of worker in current system is 2, which is smaller than what this DataLoader is going to create. Please be aware that excessive worker creation might get DataLoader running slow or even freeze, lower the worker number to avoid potential slowness/freeze if necessary.\n",
      "  warnings.warn(_create_warning_msg(\n",
      "100%|██████████| 977/977 [00:15<00:00, 63.36it/s]\n"
     ]
    },
    {
     "name": "stdout",
     "output_type": "stream",
     "text": [
      "test mae: 0.19198592619568758\n",
      "ES accuracy: 0.19150545189960846\n"
     ]
    },
    {
     "name": "stderr",
     "output_type": "stream",
     "text": [
      "  0%|          | 0/7813 [00:00<?, ?it/s]/opt/conda/lib/python3.10/site-packages/torch/utils/data/dataloader.py:561: UserWarning: This DataLoader will create 4 worker processes in total. Our suggested max number of worker in current system is 2, which is smaller than what this DataLoader is going to create. Please be aware that excessive worker creation might get DataLoader running slow or even freeze, lower the worker number to avoid potential slowness/freeze if necessary.\n",
      "  warnings.warn(_create_warning_msg(\n",
      "100%|██████████| 7813/7813 [02:07<00:00, 61.22it/s, loss=0.592]\n",
      "100%|██████████| 977/977 [00:14<00:00, 65.68it/s]\n"
     ]
    },
    {
     "name": "stdout",
     "output_type": "stream",
     "text": [
      "epoch: 15 validation: mae: 0.19150545190917356\n"
     ]
    },
    {
     "name": "stderr",
     "output_type": "stream",
     "text": [
      "  0%|          | 0/7813 [00:00<?, ?it/s]/opt/conda/lib/python3.10/site-packages/torch/utils/data/dataloader.py:561: UserWarning: This DataLoader will create 4 worker processes in total. Our suggested max number of worker in current system is 2, which is smaller than what this DataLoader is going to create. Please be aware that excessive worker creation might get DataLoader running slow or even freeze, lower the worker number to avoid potential slowness/freeze if necessary.\n",
      "  warnings.warn(_create_warning_msg(\n",
      "100%|██████████| 7813/7813 [01:59<00:00, 65.13it/s]\n"
     ]
    },
    {
     "name": "stdout",
     "output_type": "stream",
     "text": [
      "train mae: 0.1916450966121297\n"
     ]
    },
    {
     "name": "stderr",
     "output_type": "stream",
     "text": [
      "  0%|          | 0/977 [00:00<?, ?it/s]/opt/conda/lib/python3.10/site-packages/torch/utils/data/dataloader.py:561: UserWarning: This DataLoader will create 4 worker processes in total. Our suggested max number of worker in current system is 2, which is smaller than what this DataLoader is going to create. Please be aware that excessive worker creation might get DataLoader running slow or even freeze, lower the worker number to avoid potential slowness/freeze if necessary.\n",
      "  warnings.warn(_create_warning_msg(\n",
      "100%|██████████| 977/977 [00:15<00:00, 61.53it/s]\n"
     ]
    },
    {
     "name": "stdout",
     "output_type": "stream",
     "text": [
      "test mae: 0.1919859262084743\n",
      "ES accuracy: 0.19150545190917356\n",
      "validation: best mae: 0.1915054518893694\n"
     ]
    }
   ],
   "source": [
    "metric_values = []\n",
    "loss_values = []\n",
    "\n",
    "for epoch_i in range(epochs):\n",
    "    loss = train(model, optimizer, train_data_loader, criterion, device)\n",
    "    loss_values.append((epoch_i, loss))\n",
    "    \n",
    "    metric_valid = test(model, valid_data_loader, device)\n",
    "    print('epoch:', epoch_i + 1, 'validation: mae:', metric_valid)\n",
    "    \n",
    "    metric_train = test(model, train_data_loader, device)\n",
    "    print('train mae:', metric_train)\n",
    "    \n",
    "    metric_test = test(model, test_data_loader, device)\n",
    "    print(f'test mae: {metric_test}')\n",
    "    \n",
    "    metric_values.append((epoch_i, metric_train, metric_valid, metric_test))\n",
    "    \n",
    "    if not early_stopper.is_continuable(model, metric_valid):\n",
    "        print(f'validation: best mae: {early_stopper.best_accuracy}')\n",
    "        break"
   ]
  },
  {
   "cell_type": "code",
   "execution_count": 16,
   "id": "a7045a2f",
   "metadata": {
    "execution": {
     "iopub.execute_input": "2023-05-15T13:35:51.743451Z",
     "iopub.status.busy": "2023-05-15T13:35:51.742476Z",
     "iopub.status.idle": "2023-05-15T13:35:52.100420Z",
     "shell.execute_reply": "2023-05-15T13:35:52.099537Z"
    },
    "papermill": {
     "duration": 0.71947,
     "end_time": "2023-05-15T13:35:52.102484",
     "exception": false,
     "start_time": "2023-05-15T13:35:51.383014",
     "status": "completed"
    },
    "tags": []
   },
   "outputs": [
    {
     "data": {
      "image/png": "[encoded data removed]",
      "text/plain": [
       "<Figure size 800x400 with 2 Axes>"
      ]
     },
     "metadata": {},
     "output_type": "display_data"
    }
   ],
   "source": [
    "from matplotlib import pyplot as plt\n",
    "metric_values = np.array(metric_values)\n",
    "loss_values = [x[1] for x in loss_values]\n",
    "f, ax = plt.subplots(1,2, figsize=(8,4))\n",
    "ax[0].plot(loss_values, label=\"train loss\")\n",
    "ax[0].legend()\n",
    "ax[0].grid(linestyle=\"--\",which=\"major\")\n",
    "\n",
    "ax[1].plot(metric_values[:, 1], label=\"train mae\")\n",
    "ax[1].plot(metric_values[:, 2], label=\"validation mae\")\n",
    "ax[1].plot(metric_values[:, 3], label=\"test mae\")\n",
    "ax[1].legend()\n",
    "ax[1].grid(linestyle=\"--\",which=\"major\")\n",
    "plt.suptitle(\"Train loss & Train/Validation/Test mae\")\n",
    "plt.show()"
   ]
  }
 ],
 "metadata": {
  "kernelspec": {
   "display_name": "Python 3",
   "language": "python",
   "name": "python3"
  },
  "language_info": {
   "codemirror_mode": {
    "name": "ipython",
    "version": 3
   },
   "file_extension": ".py",
   "mimetype": "text/x-python",
   "name": "python",
   "nbconvert_exporter": "python",
   "pygments_lexer": "ipython3",
   "version": "3.10.10"
  },
  "papermill": {
   "default_parameters": {},
   "duration": 4301.60665,
   "end_time": "2023-05-15T13:35:55.191804",
   "environment_variables": {},
   "exception": null,
   "input_path": "__notebook__.ipynb",
   "output_path": "__notebook__.ipynb",
   "parameters": {},
   "start_time": "2023-05-15T12:24:13.585154",
   "version": "2.4.0"
  }
 },
 "nbformat": 4,
 "nbformat_minor": 5
}
