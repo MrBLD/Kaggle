{
 "cells": [
  {
   "cell_type": "markdown",
   "id": "e7f11bd0",
   "metadata": {
    "papermill": {
     "duration": 0.006074,
     "end_time": "2023-05-10T15:09:20.632041",
     "exception": false,
     "start_time": "2023-05-10T15:09:20.625967",
     "status": "completed"
    },
    "tags": []
   },
   "source": [
    "# Introduction\n",
    "\n",
    "Factorization Machines (FM) - is a model used for classification, regression or ranking tasks. It was developed in 2010. It uses latent features of users/items.\n",
    "\n",
    "\n",
    "Source: Factorization Machine models in PyTorch (https://github.com/rixwew/pytorch-fm)"
   ]
  },
  {
   "cell_type": "code",
   "execution_count": 1,
   "id": "97e98383",
   "metadata": {
    "_cell_guid": "b1076dfc-b9ad-4769-8c92-a6c4dae69d19",
    "_uuid": "8f2839f25d086af736a60e9eeb907d3b93b6e0e5",
    "execution": {
     "iopub.execute_input": "2023-05-10T15:09:20.645069Z",
     "iopub.status.busy": "2023-05-10T15:09:20.644695Z",
     "iopub.status.idle": "2023-05-10T15:09:25.679759Z",
     "shell.execute_reply": "2023-05-10T15:09:25.678657Z"
    },
    "papermill": {
     "duration": 5.044892,
     "end_time": "2023-05-10T15:09:25.682722",
     "exception": false,
     "start_time": "2023-05-10T15:09:20.637830",
     "status": "completed"
    },
    "tags": []
   },
   "outputs": [
    {
     "name": "stderr",
     "output_type": "stream",
     "text": [
      "/opt/conda/lib/python3.10/site-packages/scipy/__init__.py:146: UserWarning: A NumPy version >=1.16.5 and <1.23.0 is required for this version of SciPy (detected version 1.23.5\n",
      "  warnings.warn(f\"A NumPy version >={np_minversion} and <{np_maxversion}\"\n"
     ]
    }
   ],
   "source": [
    "import numpy as np\n",
    "import pandas as pd\n",
    "import os\n",
    "import tqdm\n",
    "import torch\n",
    "from torch.utils.data import DataLoader\n",
    "from sklearn.metrics import roc_auc_score, mean_squared_error"
   ]
  },
  {
   "cell_type": "code",
   "execution_count": 2,
   "id": "07829768",
   "metadata": {
    "execution": {
     "iopub.execute_input": "2023-05-10T15:09:25.697332Z",
     "iopub.status.busy": "2023-05-10T15:09:25.696746Z",
     "iopub.status.idle": "2023-05-10T15:09:25.769453Z",
     "shell.execute_reply": "2023-05-10T15:09:25.768340Z"
    },
    "papermill": {
     "duration": 0.082987,
     "end_time": "2023-05-10T15:09:25.772134",
     "exception": false,
     "start_time": "2023-05-10T15:09:25.689147",
     "status": "completed"
    },
    "tags": []
   },
   "outputs": [],
   "source": [
    "from movie_lens_data import MovieLensData\n",
    "from pt_layer import FactorizationMachine, FeaturesEmbedding, FeaturesLinear, MultiLayerPerceptron"
   ]
  },
  {
   "cell_type": "markdown",
   "id": "defa7a29",
   "metadata": {
    "papermill": {
     "duration": 0.005345,
     "end_time": "2023-05-10T15:09:25.783403",
     "exception": false,
     "start_time": "2023-05-10T15:09:25.778058",
     "status": "completed"
    },
    "tags": []
   },
   "source": [
    "# Read the data"
   ]
  },
  {
   "cell_type": "code",
   "execution_count": 3,
   "id": "f4167a24",
   "metadata": {
    "execution": {
     "iopub.execute_input": "2023-05-10T15:09:25.796293Z",
     "iopub.status.busy": "2023-05-10T15:09:25.795893Z",
     "iopub.status.idle": "2023-05-10T15:09:30.643298Z",
     "shell.execute_reply": "2023-05-10T15:09:30.642299Z"
    },
    "papermill": {
     "duration": 4.856722,
     "end_time": "2023-05-10T15:09:30.645709",
     "exception": false,
     "start_time": "2023-05-10T15:09:25.788987",
     "status": "completed"
    },
    "tags": []
   },
   "outputs": [],
   "source": [
    "path = \"/kaggle/input/movielens-100k-dataset/ml-100k\"\n",
    "movie_lens_data = MovieLensData(\n",
    "    users_path = os.path.join(path, \"u.user\"),\n",
    "    ratings_path = os.path.join(path, \"u.data\"), \n",
    "    movies_path = os.path.join(path, \"u.item\"), \n",
    "    genre_path = os.path.join(path, \"u.genre\") \n",
    "    )\n",
    "\n",
    "evaluation_data = movie_lens_data.read_ratings_data()\n",
    "movie_data = movie_lens_data.read_movies_data()\n",
    "popularity_rankings = movie_lens_data.get_popularity_ranks()\n",
    "ratings = movie_lens_data.get_ratings()"
   ]
  },
  {
   "cell_type": "markdown",
   "id": "079d0025",
   "metadata": {
    "papermill": {
     "duration": 0.005485,
     "end_time": "2023-05-10T15:09:30.657006",
     "exception": false,
     "start_time": "2023-05-10T15:09:30.651521",
     "status": "completed"
    },
    "tags": []
   },
   "source": [
    "# Prepare the dataset"
   ]
  },
  {
   "cell_type": "code",
   "execution_count": 4,
   "id": "6f27decf",
   "metadata": {
    "execution": {
     "iopub.execute_input": "2023-05-10T15:09:30.670113Z",
     "iopub.status.busy": "2023-05-10T15:09:30.669710Z",
     "iopub.status.idle": "2023-05-10T15:09:30.677952Z",
     "shell.execute_reply": "2023-05-10T15:09:30.676944Z"
    },
    "papermill": {
     "duration": 0.017669,
     "end_time": "2023-05-10T15:09:30.680436",
     "exception": false,
     "start_time": "2023-05-10T15:09:30.662767",
     "status": "completed"
    },
    "tags": []
   },
   "outputs": [],
   "source": [
    "class MovieLensDataset(torch.utils.data.Dataset):\n",
    "    \"\"\"\n",
    "    MovieLens Dataset\n",
    "    Data preparation\n",
    "        treat samples with a rating less than 3 as negative samples\n",
    "    \"\"\"\n",
    "    def __init__(self, ratings):\n",
    "        data = ratings.copy().to_numpy()\n",
    "        self.items = data[:, :2].astype(np.int32) - 1  # -1 because ID begins from 1\n",
    "        self.targets = self.__preprocess_target(data[:, 2]).astype(np.float32)\n",
    "        self.field_dims = np.max(self.items, axis=0) + 1\n",
    "        self.user_field_idx = np.array((0, ), dtype=np.int64)\n",
    "        self.item_field_idx = np.array((1,), dtype=np.int64)\n",
    "\n",
    "    def __len__(self):\n",
    "        return self.targets.shape[0]\n",
    "\n",
    "    def __getitem__(self, index):\n",
    "        return self.items[index], self.targets[index]\n",
    "\n",
    "    def __preprocess_target(self, target):\n",
    "        target = target / 5.\n",
    "        return target"
   ]
  },
  {
   "cell_type": "code",
   "execution_count": 5,
   "id": "83c32e72",
   "metadata": {
    "execution": {
     "iopub.execute_input": "2023-05-10T15:09:30.694132Z",
     "iopub.status.busy": "2023-05-10T15:09:30.693767Z",
     "iopub.status.idle": "2023-05-10T15:09:30.698024Z",
     "shell.execute_reply": "2023-05-10T15:09:30.697233Z"
    },
    "papermill": {
     "duration": 0.013738,
     "end_time": "2023-05-10T15:09:30.699959",
     "exception": false,
     "start_time": "2023-05-10T15:09:30.686221",
     "status": "completed"
    },
    "tags": []
   },
   "outputs": [],
   "source": [
    "def get_dataset():\n",
    "    return MovieLensDataset(ratings)"
   ]
  },
  {
   "cell_type": "markdown",
   "id": "25bf4575",
   "metadata": {
    "papermill": {
     "duration": 0.005419,
     "end_time": "2023-05-10T15:09:30.711018",
     "exception": false,
     "start_time": "2023-05-10T15:09:30.705599",
     "status": "completed"
    },
    "tags": []
   },
   "source": [
    "# Prepare the algorithm  \n",
    "\n",
    "## The model  "
   ]
  },
  {
   "cell_type": "code",
   "execution_count": 6,
   "id": "7f87e01f",
   "metadata": {
    "execution": {
     "iopub.execute_input": "2023-05-10T15:09:30.724288Z",
     "iopub.status.busy": "2023-05-10T15:09:30.723690Z",
     "iopub.status.idle": "2023-05-10T15:09:30.730004Z",
     "shell.execute_reply": "2023-05-10T15:09:30.728957Z"
    },
    "papermill": {
     "duration": 0.01537,
     "end_time": "2023-05-10T15:09:30.732085",
     "exception": false,
     "start_time": "2023-05-10T15:09:30.716715",
     "status": "completed"
    },
    "tags": []
   },
   "outputs": [],
   "source": [
    "class FactorizationMachineModel(torch.nn.Module):\n",
    "    \"\"\"\n",
    "    A pytorch implementation of Factorization Machine.\n",
    "\n",
    "    Reference:\n",
    "        S Rendle, Factorization Machines, 2010.\n",
    "    \"\"\"\n",
    "\n",
    "    def __init__(self, field_dims, embed_dim):\n",
    "        super().__init__()\n",
    "        self.embedding = FeaturesEmbedding(field_dims, embed_dim)\n",
    "        self.linear = FeaturesLinear(field_dims)\n",
    "        self.fm = FactorizationMachine(reduce_sum=True)\n",
    "\n",
    "    def forward(self, x):\n",
    "        \"\"\"\n",
    "        :param x: Long tensor of size ``(batch_size, num_fields)``\n",
    "        \"\"\"\n",
    "        x = self.linear(x) + self.fm(self.embedding(x))\n",
    "        return torch.sigmoid(x.squeeze(1))"
   ]
  },
  {
   "cell_type": "markdown",
   "id": "cc954e60",
   "metadata": {
    "papermill": {
     "duration": 0.005407,
     "end_time": "2023-05-10T15:09:30.743164",
     "exception": false,
     "start_time": "2023-05-10T15:09:30.737757",
     "status": "completed"
    },
    "tags": []
   },
   "source": [
    "## Early stopper"
   ]
  },
  {
   "cell_type": "code",
   "execution_count": 7,
   "id": "d5308305",
   "metadata": {
    "execution": {
     "iopub.execute_input": "2023-05-10T15:09:30.756535Z",
     "iopub.status.busy": "2023-05-10T15:09:30.755540Z",
     "iopub.status.idle": "2023-05-10T15:09:30.763188Z",
     "shell.execute_reply": "2023-05-10T15:09:30.762326Z"
    },
    "papermill": {
     "duration": 0.016581,
     "end_time": "2023-05-10T15:09:30.765357",
     "exception": false,
     "start_time": "2023-05-10T15:09:30.748776",
     "status": "completed"
    },
    "tags": []
   },
   "outputs": [],
   "source": [
    "class EarlyStopper(object):\n",
    "\n",
    "    def __init__(self, num_trials, save_path, lower_is_better=True):\n",
    "        self.num_trials = num_trials\n",
    "        self.trial_counter = 0\n",
    "        self.lower_is_better = lower_is_better\n",
    "        if self.lower_is_better:\n",
    "            self.best_accuracy = 1_000_000\n",
    "        else:\n",
    "            self.best_accuracy = 0\n",
    "        self.save_path = save_path\n",
    "\n",
    "    def is_continuable(self, model, accuracy):\n",
    "        print(f\"ES accuracy: {accuracy}\")\n",
    "        if (self.lower_is_better and accuracy < self.best_accuracy) or\\\n",
    "           (not self.lower_is_better and accuracy > self.best_accuracy) :\n",
    "            self.best_accuracy = accuracy\n",
    "            self.trial_counter = 0\n",
    "            torch.save(model, self.save_path)\n",
    "            return True\n",
    "        elif self.trial_counter + 1 < self.num_trials:\n",
    "            self.trial_counter += 1\n",
    "            return True\n",
    "        else:\n",
    "            return False"
   ]
  },
  {
   "cell_type": "markdown",
   "id": "51d83f14",
   "metadata": {
    "papermill": {
     "duration": 0.005389,
     "end_time": "2023-05-10T15:09:30.776762",
     "exception": false,
     "start_time": "2023-05-10T15:09:30.771373",
     "status": "completed"
    },
    "tags": []
   },
   "source": [
    "## Get the model"
   ]
  },
  {
   "cell_type": "code",
   "execution_count": 8,
   "id": "d00cd6f9",
   "metadata": {
    "execution": {
     "iopub.execute_input": "2023-05-10T15:09:30.790413Z",
     "iopub.status.busy": "2023-05-10T15:09:30.789638Z",
     "iopub.status.idle": "2023-05-10T15:09:30.794632Z",
     "shell.execute_reply": "2023-05-10T15:09:30.793837Z"
    },
    "papermill": {
     "duration": 0.014347,
     "end_time": "2023-05-10T15:09:30.796924",
     "exception": false,
     "start_time": "2023-05-10T15:09:30.782577",
     "status": "completed"
    },
    "tags": []
   },
   "outputs": [],
   "source": [
    "def get_model(dataset):\n",
    "    field_dims = dataset.field_dims\n",
    "    return FactorizationMachineModel(field_dims, embed_dim=64) "
   ]
  },
  {
   "cell_type": "markdown",
   "id": "5b2ce387",
   "metadata": {
    "papermill": {
     "duration": 0.0054,
     "end_time": "2023-05-10T15:09:30.808033",
     "exception": false,
     "start_time": "2023-05-10T15:09:30.802633",
     "status": "completed"
    },
    "tags": []
   },
   "source": [
    "## Train"
   ]
  },
  {
   "cell_type": "code",
   "execution_count": 9,
   "id": "42060a2a",
   "metadata": {
    "execution": {
     "iopub.execute_input": "2023-05-10T15:09:30.822044Z",
     "iopub.status.busy": "2023-05-10T15:09:30.821414Z",
     "iopub.status.idle": "2023-05-10T15:09:30.828801Z",
     "shell.execute_reply": "2023-05-10T15:09:30.827959Z"
    },
    "papermill": {
     "duration": 0.017047,
     "end_time": "2023-05-10T15:09:30.831115",
     "exception": false,
     "start_time": "2023-05-10T15:09:30.814068",
     "status": "completed"
    },
    "tags": []
   },
   "outputs": [],
   "source": [
    "def train(model, optimizer, data_loader, criterion, device, log_interval=100):\n",
    "    model.train()\n",
    "    total_loss = 0\n",
    "    av_loss = []\n",
    "    tk0 = tqdm.tqdm(data_loader, smoothing=0, mininterval=1.0)\n",
    "    for i, (fields, target) in enumerate(tk0):\n",
    "        fields, target = fields.to(device), target.to(device)\n",
    "        y = model(fields)\n",
    "        loss = criterion(y, target.float())\n",
    "        model.zero_grad()\n",
    "        loss.backward()\n",
    "        optimizer.step()\n",
    "        total_loss += loss.item()\n",
    "        if (i + 1) % log_interval == 0:\n",
    "            loss = total_loss / log_interval\n",
    "            av_loss.append(loss)\n",
    "            tk0.set_postfix(loss=loss)\n",
    "            total_loss = 0\n",
    "    return np.mean(av_loss)   "
   ]
  },
  {
   "cell_type": "markdown",
   "id": "3a9e67f5",
   "metadata": {
    "papermill": {
     "duration": 0.005379,
     "end_time": "2023-05-10T15:09:30.842184",
     "exception": false,
     "start_time": "2023-05-10T15:09:30.836805",
     "status": "completed"
    },
    "tags": []
   },
   "source": [
    "## Test/validation"
   ]
  },
  {
   "cell_type": "code",
   "execution_count": 10,
   "id": "a268c8b9",
   "metadata": {
    "execution": {
     "iopub.execute_input": "2023-05-10T15:09:30.855453Z",
     "iopub.status.busy": "2023-05-10T15:09:30.854833Z",
     "iopub.status.idle": "2023-05-10T15:09:30.861215Z",
     "shell.execute_reply": "2023-05-10T15:09:30.860437Z"
    },
    "papermill": {
     "duration": 0.015465,
     "end_time": "2023-05-10T15:09:30.863300",
     "exception": false,
     "start_time": "2023-05-10T15:09:30.847835",
     "status": "completed"
    },
    "tags": []
   },
   "outputs": [],
   "source": [
    "def test(model, data_loader, device):\n",
    "    model.eval()\n",
    "    targets, predicts = list(), list()\n",
    "    with torch.no_grad():\n",
    "        for fields, target in tqdm.tqdm(data_loader, smoothing=0, mininterval=1.0):\n",
    "            fields, target = fields.to(device), target.to(device)\n",
    "            y = model(fields)\n",
    "            targets.extend(target.tolist())\n",
    "            predicts.extend(y.tolist())\n",
    "    return 5.* mean_squared_error(targets, predicts)"
   ]
  },
  {
   "cell_type": "markdown",
   "id": "0bfcfc5e",
   "metadata": {
    "papermill": {
     "duration": 0.005308,
     "end_time": "2023-05-10T15:09:30.874406",
     "exception": false,
     "start_time": "2023-05-10T15:09:30.869098",
     "status": "completed"
    },
    "tags": []
   },
   "source": [
    "# Settings"
   ]
  },
  {
   "cell_type": "code",
   "execution_count": 11,
   "id": "43484c53",
   "metadata": {
    "execution": {
     "iopub.execute_input": "2023-05-10T15:09:30.887532Z",
     "iopub.status.busy": "2023-05-10T15:09:30.886954Z",
     "iopub.status.idle": "2023-05-10T15:09:30.891823Z",
     "shell.execute_reply": "2023-05-10T15:09:30.891112Z"
    },
    "papermill": {
     "duration": 0.013788,
     "end_time": "2023-05-10T15:09:30.893757",
     "exception": false,
     "start_time": "2023-05-10T15:09:30.879969",
     "status": "completed"
    },
    "tags": []
   },
   "outputs": [],
   "source": [
    "device_cpu = \"cpu\"\n",
    "learning_rate = 0.001\n",
    "weight_decay = 1e-4\n",
    "batch_size = 64\n",
    "epochs = 20\n",
    "model_name = \"DeepFM\"\n",
    "device = torch.device(device_cpu)"
   ]
  },
  {
   "cell_type": "markdown",
   "id": "3d7e8660",
   "metadata": {
    "papermill": {
     "duration": 0.005682,
     "end_time": "2023-05-10T15:09:30.905032",
     "exception": false,
     "start_time": "2023-05-10T15:09:30.899350",
     "status": "completed"
    },
    "tags": []
   },
   "source": [
    "# Prepare train, valid & test datasets"
   ]
  },
  {
   "cell_type": "code",
   "execution_count": 12,
   "id": "49bae753",
   "metadata": {
    "execution": {
     "iopub.execute_input": "2023-05-10T15:09:30.918410Z",
     "iopub.status.busy": "2023-05-10T15:09:30.917345Z",
     "iopub.status.idle": "2023-05-10T15:09:30.965590Z",
     "shell.execute_reply": "2023-05-10T15:09:30.964777Z"
    },
    "papermill": {
     "duration": 0.05743,
     "end_time": "2023-05-10T15:09:30.968008",
     "exception": false,
     "start_time": "2023-05-10T15:09:30.910578",
     "status": "completed"
    },
    "tags": []
   },
   "outputs": [],
   "source": [
    "dataset = get_dataset()\n",
    "train_length = int(len(dataset) * 0.8)\n",
    "valid_length = int(len(dataset) * 0.1)\n",
    "test_length = len(dataset) - train_length - valid_length\n",
    "\n",
    "train_dataset, valid_dataset, test_dataset = torch.utils.data.random_split(\n",
    "        dataset, (train_length, valid_length, test_length))\n",
    "\n",
    "train_data_loader = DataLoader(train_dataset, batch_size=batch_size, num_workers=4)\n",
    "valid_data_loader = DataLoader(valid_dataset, batch_size=batch_size, num_workers=4)\n",
    "test_data_loader = DataLoader(test_dataset, batch_size=batch_size, num_workers=4)"
   ]
  },
  {
   "cell_type": "markdown",
   "id": "6e031805",
   "metadata": {
    "papermill": {
     "duration": 0.005387,
     "end_time": "2023-05-10T15:09:30.979235",
     "exception": false,
     "start_time": "2023-05-10T15:09:30.973848",
     "status": "completed"
    },
    "tags": []
   },
   "source": [
    "# Fit the model"
   ]
  },
  {
   "cell_type": "code",
   "execution_count": 13,
   "id": "2e7e3d6a",
   "metadata": {
    "execution": {
     "iopub.execute_input": "2023-05-10T15:09:30.992872Z",
     "iopub.status.busy": "2023-05-10T15:09:30.992099Z",
     "iopub.status.idle": "2023-05-10T15:09:31.043201Z",
     "shell.execute_reply": "2023-05-10T15:09:31.041994Z"
    },
    "papermill": {
     "duration": 0.060752,
     "end_time": "2023-05-10T15:09:31.045783",
     "exception": false,
     "start_time": "2023-05-10T15:09:30.985031",
     "status": "completed"
    },
    "tags": []
   },
   "outputs": [],
   "source": [
    "model = get_model(dataset).to(device)\n",
    "criterion = torch.nn.BCELoss()\n",
    "optimizer = torch.optim.Adam(params=model.parameters(), lr=learning_rate, weight_decay=weight_decay)\n",
    "early_stopper = EarlyStopper(num_trials=5, save_path=f'{model_name}.pt')"
   ]
  },
  {
   "cell_type": "code",
   "execution_count": 14,
   "id": "6c9ff360",
   "metadata": {
    "execution": {
     "iopub.execute_input": "2023-05-10T15:09:31.059564Z",
     "iopub.status.busy": "2023-05-10T15:09:31.059183Z",
     "iopub.status.idle": "2023-05-10T15:12:36.132121Z",
     "shell.execute_reply": "2023-05-10T15:12:36.130437Z"
    },
    "papermill": {
     "duration": 185.082989,
     "end_time": "2023-05-10T15:12:36.134569",
     "exception": false,
     "start_time": "2023-05-10T15:09:31.051580",
     "status": "completed"
    },
    "tags": []
   },
   "outputs": [
    {
     "name": "stderr",
     "output_type": "stream",
     "text": [
      "100%|██████████| 1250/1250 [00:04<00:00, 266.96it/s, loss=0.668]\n",
      "100%|██████████| 157/157 [00:00<00:00, 359.70it/s]\n"
     ]
    },
    {
     "name": "stdout",
     "output_type": "stream",
     "text": [
      "epoch: 1 validation: mae: 0.33250261994524033\n"
     ]
    },
    {
     "name": "stderr",
     "output_type": "stream",
     "text": [
      "100%|██████████| 1250/1250 [00:02<00:00, 435.16it/s]\n"
     ]
    },
    {
     "name": "stdout",
     "output_type": "stream",
     "text": [
      "train mae: 0.3251075700126443\n"
     ]
    },
    {
     "name": "stderr",
     "output_type": "stream",
     "text": [
      "100%|██████████| 157/157 [00:00<00:00, 352.16it/s]\n"
     ]
    },
    {
     "name": "stdout",
     "output_type": "stream",
     "text": [
      "test mae: 0.3352178845424744\n",
      "ES accuracy: 0.33250261994524033\n"
     ]
    },
    {
     "name": "stderr",
     "output_type": "stream",
     "text": [
      "100%|██████████| 1250/1250 [00:05<00:00, 227.28it/s, loss=0.619]\n",
      "100%|██████████| 157/157 [00:00<00:00, 345.39it/s]\n"
     ]
    },
    {
     "name": "stdout",
     "output_type": "stream",
     "text": [
      "epoch: 2 validation: mae: 0.2592391629264789\n"
     ]
    },
    {
     "name": "stderr",
     "output_type": "stream",
     "text": [
      "100%|██████████| 1250/1250 [00:02<00:00, 435.27it/s]\n"
     ]
    },
    {
     "name": "stdout",
     "output_type": "stream",
     "text": [
      "train mae: 0.249553239379139\n"
     ]
    },
    {
     "name": "stderr",
     "output_type": "stream",
     "text": [
      "100%|██████████| 157/157 [00:00<00:00, 343.03it/s]\n"
     ]
    },
    {
     "name": "stdout",
     "output_type": "stream",
     "text": [
      "test mae: 0.2611566592391922\n",
      "ES accuracy: 0.2592391629264789\n"
     ]
    },
    {
     "name": "stderr",
     "output_type": "stream",
     "text": [
      "100%|██████████| 1250/1250 [00:05<00:00, 245.39it/s, loss=0.601]\n",
      "100%|██████████| 157/157 [00:00<00:00, 346.56it/s]\n"
     ]
    },
    {
     "name": "stdout",
     "output_type": "stream",
     "text": [
      "epoch: 3 validation: mae: 0.23018640143394897\n"
     ]
    },
    {
     "name": "stderr",
     "output_type": "stream",
     "text": [
      "100%|██████████| 1250/1250 [00:02<00:00, 421.52it/s]\n"
     ]
    },
    {
     "name": "stdout",
     "output_type": "stream",
     "text": [
      "train mae: 0.22140436719375994\n"
     ]
    },
    {
     "name": "stderr",
     "output_type": "stream",
     "text": [
      "100%|██████████| 157/157 [00:00<00:00, 339.23it/s]\n"
     ]
    },
    {
     "name": "stdout",
     "output_type": "stream",
     "text": [
      "test mae: 0.23204505204934228\n",
      "ES accuracy: 0.23018640143394897\n"
     ]
    },
    {
     "name": "stderr",
     "output_type": "stream",
     "text": [
      "100%|██████████| 1250/1250 [00:05<00:00, 233.35it/s, loss=0.593]\n",
      "100%|██████████| 157/157 [00:00<00:00, 321.72it/s]\n"
     ]
    },
    {
     "name": "stdout",
     "output_type": "stream",
     "text": [
      "epoch: 4 validation: mae: 0.21462072871908877\n"
     ]
    },
    {
     "name": "stderr",
     "output_type": "stream",
     "text": [
      "100%|██████████| 1250/1250 [00:02<00:00, 435.57it/s]\n"
     ]
    },
    {
     "name": "stdout",
     "output_type": "stream",
     "text": [
      "train mae: 0.207296739127096\n"
     ]
    },
    {
     "name": "stderr",
     "output_type": "stream",
     "text": [
      "100%|██████████| 157/157 [00:00<00:00, 359.06it/s]\n"
     ]
    },
    {
     "name": "stdout",
     "output_type": "stream",
     "text": [
      "test mae: 0.21646137168658564\n",
      "ES accuracy: 0.21462072871908877\n"
     ]
    },
    {
     "name": "stderr",
     "output_type": "stream",
     "text": [
      "100%|██████████| 1250/1250 [00:05<00:00, 245.87it/s, loss=0.587]\n",
      "100%|██████████| 157/157 [00:00<00:00, 335.87it/s]\n"
     ]
    },
    {
     "name": "stdout",
     "output_type": "stream",
     "text": [
      "epoch: 5 validation: mae: 0.2039806406553541\n"
     ]
    },
    {
     "name": "stderr",
     "output_type": "stream",
     "text": [
      "100%|██████████| 1250/1250 [00:02<00:00, 432.28it/s]\n"
     ]
    },
    {
     "name": "stdout",
     "output_type": "stream",
     "text": [
      "train mae: 0.198087032301026\n"
     ]
    },
    {
     "name": "stderr",
     "output_type": "stream",
     "text": [
      "100%|██████████| 157/157 [00:00<00:00, 302.32it/s]\n"
     ]
    },
    {
     "name": "stdout",
     "output_type": "stream",
     "text": [
      "test mae: 0.2058745201566174\n",
      "ES accuracy: 0.2039806406553541\n"
     ]
    },
    {
     "name": "stderr",
     "output_type": "stream",
     "text": [
      "100%|██████████| 1250/1250 [00:05<00:00, 240.22it/s, loss=0.583]\n",
      "100%|██████████| 157/157 [00:00<00:00, 342.99it/s]\n"
     ]
    },
    {
     "name": "stdout",
     "output_type": "stream",
     "text": [
      "epoch: 6 validation: mae: 0.1963502199900319\n"
     ]
    },
    {
     "name": "stderr",
     "output_type": "stream",
     "text": [
      "100%|██████████| 1250/1250 [00:02<00:00, 431.64it/s]\n"
     ]
    },
    {
     "name": "stdout",
     "output_type": "stream",
     "text": [
      "train mae: 0.19155408735961948\n"
     ]
    },
    {
     "name": "stderr",
     "output_type": "stream",
     "text": [
      "100%|██████████| 157/157 [00:00<00:00, 370.59it/s]\n"
     ]
    },
    {
     "name": "stdout",
     "output_type": "stream",
     "text": [
      "test mae: 0.1982924245662668\n",
      "ES accuracy: 0.1963502199900319\n"
     ]
    },
    {
     "name": "stderr",
     "output_type": "stream",
     "text": [
      "100%|██████████| 1250/1250 [00:05<00:00, 243.67it/s, loss=0.58]\n",
      "100%|██████████| 157/157 [00:00<00:00, 327.54it/s]\n"
     ]
    },
    {
     "name": "stdout",
     "output_type": "stream",
     "text": [
      "epoch: 7 validation: mae: 0.19121663998909896\n"
     ]
    },
    {
     "name": "stderr",
     "output_type": "stream",
     "text": [
      "100%|██████████| 1250/1250 [00:03<00:00, 406.42it/s]\n"
     ]
    },
    {
     "name": "stdout",
     "output_type": "stream",
     "text": [
      "train mae: 0.1871097837898754\n"
     ]
    },
    {
     "name": "stderr",
     "output_type": "stream",
     "text": [
      "100%|██████████| 157/157 [00:00<00:00, 348.41it/s]\n"
     ]
    },
    {
     "name": "stdout",
     "output_type": "stream",
     "text": [
      "test mae: 0.19323745282378862\n",
      "ES accuracy: 0.19121663998909896\n"
     ]
    },
    {
     "name": "stderr",
     "output_type": "stream",
     "text": [
      "100%|██████████| 1250/1250 [00:05<00:00, 243.43it/s, loss=0.579]\n",
      "100%|██████████| 157/157 [00:00<00:00, 346.77it/s]\n"
     ]
    },
    {
     "name": "stdout",
     "output_type": "stream",
     "text": [
      "epoch: 8 validation: mae: 0.1880034734212056\n"
     ]
    },
    {
     "name": "stderr",
     "output_type": "stream",
     "text": [
      "100%|██████████| 1250/1250 [00:02<00:00, 443.43it/s]\n"
     ]
    },
    {
     "name": "stdout",
     "output_type": "stream",
     "text": [
      "train mae: 0.18425458891674312\n"
     ]
    },
    {
     "name": "stderr",
     "output_type": "stream",
     "text": [
      "100%|██████████| 157/157 [00:00<00:00, 344.71it/s]\n"
     ]
    },
    {
     "name": "stdout",
     "output_type": "stream",
     "text": [
      "test mae: 0.19015159976010484\n",
      "ES accuracy: 0.1880034734212056\n"
     ]
    },
    {
     "name": "stderr",
     "output_type": "stream",
     "text": [
      "100%|██████████| 1250/1250 [00:05<00:00, 235.01it/s, loss=0.578]\n",
      "100%|██████████| 157/157 [00:00<00:00, 340.60it/s]\n"
     ]
    },
    {
     "name": "stdout",
     "output_type": "stream",
     "text": [
      "epoch: 9 validation: mae: 0.18603541275255764\n"
     ]
    },
    {
     "name": "stderr",
     "output_type": "stream",
     "text": [
      "100%|██████████| 1250/1250 [00:03<00:00, 408.37it/s]\n"
     ]
    },
    {
     "name": "stdout",
     "output_type": "stream",
     "text": [
      "train mae: 0.18240478218190959\n"
     ]
    },
    {
     "name": "stderr",
     "output_type": "stream",
     "text": [
      "100%|██████████| 157/157 [00:00<00:00, 346.59it/s]\n"
     ]
    },
    {
     "name": "stdout",
     "output_type": "stream",
     "text": [
      "test mae: 0.18828905200389626\n",
      "ES accuracy: 0.18603541275255764\n"
     ]
    },
    {
     "name": "stderr",
     "output_type": "stream",
     "text": [
      "100%|██████████| 1250/1250 [00:05<00:00, 237.75it/s, loss=0.577]\n",
      "100%|██████████| 157/157 [00:00<00:00, 324.59it/s]\n"
     ]
    },
    {
     "name": "stdout",
     "output_type": "stream",
     "text": [
      "epoch: 10 validation: mae: 0.18485466424054997\n"
     ]
    },
    {
     "name": "stderr",
     "output_type": "stream",
     "text": [
      "100%|██████████| 1250/1250 [00:02<00:00, 422.54it/s]\n"
     ]
    },
    {
     "name": "stdout",
     "output_type": "stream",
     "text": [
      "train mae: 0.1812270982922487\n"
     ]
    },
    {
     "name": "stderr",
     "output_type": "stream",
     "text": [
      "100%|██████████| 157/157 [00:00<00:00, 336.77it/s]\n"
     ]
    },
    {
     "name": "stdout",
     "output_type": "stream",
     "text": [
      "test mae: 0.18716787868549334\n",
      "ES accuracy: 0.18485466424054997\n"
     ]
    },
    {
     "name": "stderr",
     "output_type": "stream",
     "text": [
      "100%|██████████| 1250/1250 [00:05<00:00, 238.77it/s, loss=0.577]\n",
      "100%|██████████| 157/157 [00:00<00:00, 323.75it/s]\n"
     ]
    },
    {
     "name": "stdout",
     "output_type": "stream",
     "text": [
      "epoch: 11 validation: mae: 0.1841576385010681\n"
     ]
    },
    {
     "name": "stderr",
     "output_type": "stream",
     "text": [
      "100%|██████████| 1250/1250 [00:02<00:00, 420.75it/s]\n"
     ]
    },
    {
     "name": "stdout",
     "output_type": "stream",
     "text": [
      "train mae: 0.18051218296173432\n"
     ]
    },
    {
     "name": "stderr",
     "output_type": "stream",
     "text": [
      "100%|██████████| 157/157 [00:00<00:00, 331.43it/s]\n"
     ]
    },
    {
     "name": "stdout",
     "output_type": "stream",
     "text": [
      "test mae: 0.18650697852761805\n",
      "ES accuracy: 0.1841576385010681\n"
     ]
    },
    {
     "name": "stderr",
     "output_type": "stream",
     "text": [
      "100%|██████████| 1250/1250 [00:05<00:00, 229.54it/s, loss=0.576]\n",
      "100%|██████████| 157/157 [00:00<00:00, 359.21it/s]\n"
     ]
    },
    {
     "name": "stdout",
     "output_type": "stream",
     "text": [
      "epoch: 12 validation: mae: 0.18372041070668937\n"
     ]
    },
    {
     "name": "stderr",
     "output_type": "stream",
     "text": [
      "100%|██████████| 1250/1250 [00:02<00:00, 419.72it/s]\n"
     ]
    },
    {
     "name": "stdout",
     "output_type": "stream",
     "text": [
      "train mae: 0.18005029974004527\n"
     ]
    },
    {
     "name": "stderr",
     "output_type": "stream",
     "text": [
      "100%|██████████| 157/157 [00:00<00:00, 330.11it/s]\n"
     ]
    },
    {
     "name": "stdout",
     "output_type": "stream",
     "text": [
      "test mae: 0.18609099037964938\n",
      "ES accuracy: 0.18372041070668937\n"
     ]
    },
    {
     "name": "stderr",
     "output_type": "stream",
     "text": [
      "100%|██████████| 1250/1250 [00:05<00:00, 239.82it/s, loss=0.576]\n",
      "100%|██████████| 157/157 [00:00<00:00, 346.35it/s]\n"
     ]
    },
    {
     "name": "stdout",
     "output_type": "stream",
     "text": [
      "epoch: 13 validation: mae: 0.1834314877892435\n"
     ]
    },
    {
     "name": "stderr",
     "output_type": "stream",
     "text": [
      "100%|██████████| 1250/1250 [00:02<00:00, 429.88it/s]\n"
     ]
    },
    {
     "name": "stdout",
     "output_type": "stream",
     "text": [
      "train mae: 0.17974544525171446\n"
     ]
    },
    {
     "name": "stderr",
     "output_type": "stream",
     "text": [
      "100%|██████████| 157/157 [00:00<00:00, 328.17it/s]\n"
     ]
    },
    {
     "name": "stdout",
     "output_type": "stream",
     "text": [
      "test mae: 0.18581713863838278\n",
      "ES accuracy: 0.1834314877892435\n"
     ]
    },
    {
     "name": "stderr",
     "output_type": "stream",
     "text": [
      "100%|██████████| 1250/1250 [00:05<00:00, 226.91it/s, loss=0.576]\n",
      "100%|██████████| 157/157 [00:00<00:00, 335.23it/s]\n"
     ]
    },
    {
     "name": "stdout",
     "output_type": "stream",
     "text": [
      "epoch: 14 validation: mae: 0.1832384396595001\n"
     ]
    },
    {
     "name": "stderr",
     "output_type": "stream",
     "text": [
      "100%|██████████| 1250/1250 [00:03<00:00, 388.72it/s]\n"
     ]
    },
    {
     "name": "stdout",
     "output_type": "stream",
     "text": [
      "train mae: 0.17953528020378978\n"
     ]
    },
    {
     "name": "stderr",
     "output_type": "stream",
     "text": [
      "100%|██████████| 157/157 [00:00<00:00, 347.33it/s]\n"
     ]
    },
    {
     "name": "stdout",
     "output_type": "stream",
     "text": [
      "test mae: 0.18563092893583957\n",
      "ES accuracy: 0.1832384396595001\n"
     ]
    },
    {
     "name": "stderr",
     "output_type": "stream",
     "text": [
      "100%|██████████| 1250/1250 [00:05<00:00, 226.72it/s, loss=0.576]\n",
      "100%|██████████| 157/157 [00:00<00:00, 330.79it/s]\n"
     ]
    },
    {
     "name": "stdout",
     "output_type": "stream",
     "text": [
      "epoch: 15 validation: mae: 0.18310953034188224\n"
     ]
    },
    {
     "name": "stderr",
     "output_type": "stream",
     "text": [
      "100%|██████████| 1250/1250 [00:02<00:00, 423.32it/s]\n"
     ]
    },
    {
     "name": "stdout",
     "output_type": "stream",
     "text": [
      "train mae: 0.17939811773654488\n"
     ]
    },
    {
     "name": "stderr",
     "output_type": "stream",
     "text": [
      "100%|██████████| 157/157 [00:00<00:00, 335.58it/s]\n"
     ]
    },
    {
     "name": "stdout",
     "output_type": "stream",
     "text": [
      "test mae: 0.18550990421893182\n",
      "ES accuracy: 0.18310953034188224\n"
     ]
    },
    {
     "name": "stderr",
     "output_type": "stream",
     "text": [
      "100%|██████████| 1250/1250 [00:05<00:00, 222.08it/s, loss=0.576]\n",
      "100%|██████████| 157/157 [00:00<00:00, 336.33it/s]\n"
     ]
    },
    {
     "name": "stdout",
     "output_type": "stream",
     "text": [
      "epoch: 16 validation: mae: 0.18302330702006842\n"
     ]
    },
    {
     "name": "stderr",
     "output_type": "stream",
     "text": [
      "100%|██████████| 1250/1250 [00:03<00:00, 413.68it/s]\n"
     ]
    },
    {
     "name": "stdout",
     "output_type": "stream",
     "text": [
      "train mae: 0.17930491546702926\n"
     ]
    },
    {
     "name": "stderr",
     "output_type": "stream",
     "text": [
      "100%|██████████| 157/157 [00:00<00:00, 332.35it/s]\n"
     ]
    },
    {
     "name": "stdout",
     "output_type": "stream",
     "text": [
      "test mae: 0.18542435749617325\n",
      "ES accuracy: 0.18302330702006842\n"
     ]
    },
    {
     "name": "stderr",
     "output_type": "stream",
     "text": [
      "100%|██████████| 1250/1250 [00:05<00:00, 224.02it/s, loss=0.576]\n",
      "100%|██████████| 157/157 [00:00<00:00, 328.26it/s]\n"
     ]
    },
    {
     "name": "stdout",
     "output_type": "stream",
     "text": [
      "epoch: 17 validation: mae: 0.1829643951946988\n"
     ]
    },
    {
     "name": "stderr",
     "output_type": "stream",
     "text": [
      "100%|██████████| 1250/1250 [00:03<00:00, 403.21it/s]\n"
     ]
    },
    {
     "name": "stdout",
     "output_type": "stream",
     "text": [
      "train mae: 0.17924110576825925\n"
     ]
    },
    {
     "name": "stderr",
     "output_type": "stream",
     "text": [
      "100%|██████████| 157/157 [00:00<00:00, 331.48it/s]\n"
     ]
    },
    {
     "name": "stdout",
     "output_type": "stream",
     "text": [
      "test mae: 0.1853652190230815\n",
      "ES accuracy: 0.1829643951946988\n"
     ]
    },
    {
     "name": "stderr",
     "output_type": "stream",
     "text": [
      "100%|██████████| 1250/1250 [00:05<00:00, 221.99it/s, loss=0.576]\n",
      "100%|██████████| 157/157 [00:00<00:00, 316.21it/s]\n"
     ]
    },
    {
     "name": "stdout",
     "output_type": "stream",
     "text": [
      "epoch: 18 validation: mae: 0.1829231008900929\n"
     ]
    },
    {
     "name": "stderr",
     "output_type": "stream",
     "text": [
      "100%|██████████| 1250/1250 [00:03<00:00, 412.38it/s]\n"
     ]
    },
    {
     "name": "stdout",
     "output_type": "stream",
     "text": [
      "train mae: 0.17919696581683106\n"
     ]
    },
    {
     "name": "stderr",
     "output_type": "stream",
     "text": [
      "100%|██████████| 157/157 [00:00<00:00, 336.99it/s]\n"
     ]
    },
    {
     "name": "stdout",
     "output_type": "stream",
     "text": [
      "test mae: 0.18532381086867372\n",
      "ES accuracy: 0.1829231008900929\n"
     ]
    },
    {
     "name": "stderr",
     "output_type": "stream",
     "text": [
      "100%|██████████| 1250/1250 [00:05<00:00, 224.76it/s, loss=0.576]\n",
      "100%|██████████| 157/157 [00:00<00:00, 347.56it/s]\n"
     ]
    },
    {
     "name": "stdout",
     "output_type": "stream",
     "text": [
      "epoch: 19 validation: mae: 0.18289421251636673\n"
     ]
    },
    {
     "name": "stderr",
     "output_type": "stream",
     "text": [
      "100%|██████████| 1250/1250 [00:02<00:00, 441.45it/s]\n"
     ]
    },
    {
     "name": "stdout",
     "output_type": "stream",
     "text": [
      "train mae: 0.17916546775423747\n"
     ]
    },
    {
     "name": "stderr",
     "output_type": "stream",
     "text": [
      "100%|██████████| 157/157 [00:00<00:00, 350.95it/s]\n"
     ]
    },
    {
     "name": "stdout",
     "output_type": "stream",
     "text": [
      "test mae: 0.18529356830266086\n",
      "ES accuracy: 0.18289421251636673\n"
     ]
    },
    {
     "name": "stderr",
     "output_type": "stream",
     "text": [
      "100%|██████████| 1250/1250 [00:05<00:00, 242.19it/s, loss=0.576]\n",
      "100%|██████████| 157/157 [00:00<00:00, 344.67it/s]\n"
     ]
    },
    {
     "name": "stdout",
     "output_type": "stream",
     "text": [
      "epoch: 20 validation: mae: 0.18287497121003232\n"
     ]
    },
    {
     "name": "stderr",
     "output_type": "stream",
     "text": [
      "100%|██████████| 1250/1250 [00:02<00:00, 422.23it/s]\n"
     ]
    },
    {
     "name": "stdout",
     "output_type": "stream",
     "text": [
      "train mae: 0.17914550226995593\n"
     ]
    },
    {
     "name": "stderr",
     "output_type": "stream",
     "text": [
      "100%|██████████| 157/157 [00:00<00:00, 316.22it/s]"
     ]
    },
    {
     "name": "stdout",
     "output_type": "stream",
     "text": [
      "test mae: 0.18527399813515538\n",
      "ES accuracy: 0.18287497121003232\n"
     ]
    },
    {
     "name": "stderr",
     "output_type": "stream",
     "text": [
      "\n"
     ]
    }
   ],
   "source": [
    "metric_values = []\n",
    "loss_values = []\n",
    "\n",
    "for epoch_i in range(epochs):\n",
    "    loss = train(model, optimizer, train_data_loader, criterion, device)\n",
    "    loss_values.append((epoch_i, loss))\n",
    "    \n",
    "    metric_valid = test(model, valid_data_loader, device)\n",
    "    print('epoch:', epoch_i + 1, 'validation: mae:', metric_valid)\n",
    "    \n",
    "    metric_train = test(model, train_data_loader, device)\n",
    "    print('train mae:', metric_train)\n",
    "    \n",
    "    metric_test = test(model, test_data_loader, device)\n",
    "    print(f'test mae: {metric_test}')\n",
    "    \n",
    "    metric_values.append((epoch_i, metric_train, metric_valid, metric_test))\n",
    "    \n",
    "    if not early_stopper.is_continuable(model, metric_valid):\n",
    "        print(f'validation: best mae: {early_stopper.best_accuracy}')\n",
    "        break"
   ]
  },
  {
   "cell_type": "code",
   "execution_count": 15,
   "id": "13a847c1",
   "metadata": {
    "execution": {
     "iopub.execute_input": "2023-05-10T15:12:36.229982Z",
     "iopub.status.busy": "2023-05-10T15:12:36.229529Z",
     "iopub.status.idle": "2023-05-10T15:12:36.632072Z",
     "shell.execute_reply": "2023-05-10T15:12:36.631027Z"
    },
    "papermill": {
     "duration": 0.453291,
     "end_time": "2023-05-10T15:12:36.634348",
     "exception": false,
     "start_time": "2023-05-10T15:12:36.181057",
     "status": "completed"
    },
    "tags": []
   },
   "outputs": [
    {
     "data": {
      "image/png": "[encoded data removed]",
      "text/plain": [
       "<Figure size 800x400 with 2 Axes>"
      ]
     },
     "metadata": {},
     "output_type": "display_data"
    }
   ],
   "source": [
    "from matplotlib import pyplot as plt\n",
    "metric_values = np.array(metric_values)\n",
    "loss_values = [x[1] for x in loss_values]\n",
    "f, ax = plt.subplots(1,2, figsize=(8,4))\n",
    "ax[0].plot(loss_values, label=\"train loss\")\n",
    "ax[0].legend()\n",
    "ax[0].grid(linestyle=\"--\",which=\"major\")\n",
    "\n",
    "ax[1].plot(metric_values[:, 1], label=\"train mae\")\n",
    "ax[1].plot(metric_values[:, 2], label=\"validation mae\")\n",
    "ax[1].plot(metric_values[:, 3], label=\"test mae\")\n",
    "ax[1].legend()\n",
    "ax[1].grid(linestyle=\"--\",which=\"major\")\n",
    "plt.suptitle(\"Train loss & Train/Validation/Test mae\")\n",
    "plt.show()"
   ]
  }
 ],
 "metadata": {
  "kernelspec": {
   "display_name": "Python 3",
   "language": "python",
   "name": "python3"
  },
  "language_info": {
   "codemirror_mode": {
    "name": "ipython",
    "version": 3
   },
   "file_extension": ".py",
   "mimetype": "text/x-python",
   "name": "python",
   "nbconvert_exporter": "python",
   "pygments_lexer": "ipython3",
   "version": "3.10.10"
  },
  "papermill": {
   "default_parameters": {},
   "duration": 207.99506,
   "end_time": "2023-05-10T15:12:38.207624",
   "environment_variables": {},
   "exception": null,
   "input_path": "__notebook__.ipynb",
   "output_path": "__notebook__.ipynb",
   "parameters": {},
   "start_time": "2023-05-10T15:09:10.212564",
   "version": "2.4.0"
  }
 },
 "nbformat": 4,
 "nbformat_minor": 5
}
