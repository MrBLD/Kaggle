{
 "cells": [
  {
   "cell_type": "markdown",
   "id": "55da7a81",
   "metadata": {
    "papermill": {
     "duration": 0.009217,
     "end_time": "2023-05-10T13:52:10.799016",
     "exception": false,
     "start_time": "2023-05-10T13:52:10.789799",
     "status": "completed"
    },
    "tags": []
   },
   "source": [
    "# Introduction\n",
    "\n",
    "Factorization Machines (FM) - is a model used for classification, regression or ranking tasks. It was developed in 2010. It uses latent features of users/items.\n",
    "\n",
    "\n",
    "Source: Factorization Machine models in PyTorch (https://github.com/rixwew/pytorch-fm)"
   ]
  },
  {
   "cell_type": "code",
   "execution_count": 1,
   "id": "7d55b5ee",
   "metadata": {
    "_cell_guid": "b1076dfc-b9ad-4769-8c92-a6c4dae69d19",
    "_uuid": "8f2839f25d086af736a60e9eeb907d3b93b6e0e5",
    "execution": {
     "iopub.execute_input": "2023-05-10T13:52:10.821470Z",
     "iopub.status.busy": "2023-05-10T13:52:10.820877Z",
     "iopub.status.idle": "2023-05-10T13:52:16.451016Z",
     "shell.execute_reply": "2023-05-10T13:52:16.449785Z"
    },
    "papermill": {
     "duration": 5.645336,
     "end_time": "2023-05-10T13:52:16.453997",
     "exception": false,
     "start_time": "2023-05-10T13:52:10.808661",
     "status": "completed"
    },
    "tags": []
   },
   "outputs": [
    {
     "name": "stderr",
     "output_type": "stream",
     "text": [
      "/opt/conda/lib/python3.10/site-packages/scipy/__init__.py:146: UserWarning: A NumPy version >=1.16.5 and <1.23.0 is required for this version of SciPy (detected version 1.23.5\n",
      "  warnings.warn(f\"A NumPy version >={np_minversion} and <{np_maxversion}\"\n"
     ]
    }
   ],
   "source": [
    "import numpy as np\n",
    "import pandas as pd\n",
    "import os\n",
    "import tqdm\n",
    "import torch\n",
    "from torch.utils.data import DataLoader\n",
    "from sklearn.metrics import roc_auc_score, mean_squared_error"
   ]
  },
  {
   "cell_type": "code",
   "execution_count": 2,
   "id": "a0b75f41",
   "metadata": {
    "execution": {
     "iopub.execute_input": "2023-05-10T13:52:16.472508Z",
     "iopub.status.busy": "2023-05-10T13:52:16.471491Z",
     "iopub.status.idle": "2023-05-10T13:52:16.547124Z",
     "shell.execute_reply": "2023-05-10T13:52:16.545953Z"
    },
    "papermill": {
     "duration": 0.087408,
     "end_time": "2023-05-10T13:52:16.549648",
     "exception": false,
     "start_time": "2023-05-10T13:52:16.462240",
     "status": "completed"
    },
    "tags": []
   },
   "outputs": [],
   "source": [
    "from movie_lens_data import MovieLensData\n",
    "from pt_layer import FactorizationMachine, FeaturesEmbedding, FeaturesLinear, MultiLayerPerceptron"
   ]
  },
  {
   "cell_type": "markdown",
   "id": "d1308e45",
   "metadata": {
    "papermill": {
     "duration": 0.007533,
     "end_time": "2023-05-10T13:52:16.565240",
     "exception": false,
     "start_time": "2023-05-10T13:52:16.557707",
     "status": "completed"
    },
    "tags": []
   },
   "source": [
    "# Read the data"
   ]
  },
  {
   "cell_type": "code",
   "execution_count": 3,
   "id": "9dcf47ec",
   "metadata": {
    "execution": {
     "iopub.execute_input": "2023-05-10T13:52:16.583511Z",
     "iopub.status.busy": "2023-05-10T13:52:16.583110Z",
     "iopub.status.idle": "2023-05-10T13:52:22.448173Z",
     "shell.execute_reply": "2023-05-10T13:52:22.446962Z"
    },
    "papermill": {
     "duration": 5.877387,
     "end_time": "2023-05-10T13:52:22.451086",
     "exception": false,
     "start_time": "2023-05-10T13:52:16.573699",
     "status": "completed"
    },
    "tags": []
   },
   "outputs": [],
   "source": [
    "path = \"/kaggle/input/movielens-100k-dataset/ml-100k\"\n",
    "movie_lens_data = MovieLensData(\n",
    "    users_path = os.path.join(path, \"u.user\"),\n",
    "    ratings_path = os.path.join(path, \"u.data\"), \n",
    "    movies_path = os.path.join(path, \"u.item\"), \n",
    "    genre_path = os.path.join(path, \"u.genre\") \n",
    "    )\n",
    "\n",
    "evaluation_data = movie_lens_data.read_ratings_data()\n",
    "movie_data = movie_lens_data.read_movies_data()\n",
    "popularity_rankings = movie_lens_data.get_popularity_ranks()\n",
    "ratings = movie_lens_data.get_ratings()"
   ]
  },
  {
   "cell_type": "markdown",
   "id": "f75a4ad9",
   "metadata": {
    "papermill": {
     "duration": 0.007613,
     "end_time": "2023-05-10T13:52:22.466747",
     "exception": false,
     "start_time": "2023-05-10T13:52:22.459134",
     "status": "completed"
    },
    "tags": []
   },
   "source": [
    "# Prepare the dataset"
   ]
  },
  {
   "cell_type": "code",
   "execution_count": 4,
   "id": "f039c535",
   "metadata": {
    "execution": {
     "iopub.execute_input": "2023-05-10T13:52:22.484792Z",
     "iopub.status.busy": "2023-05-10T13:52:22.484109Z",
     "iopub.status.idle": "2023-05-10T13:52:22.494032Z",
     "shell.execute_reply": "2023-05-10T13:52:22.492847Z"
    },
    "papermill": {
     "duration": 0.022157,
     "end_time": "2023-05-10T13:52:22.496865",
     "exception": false,
     "start_time": "2023-05-10T13:52:22.474708",
     "status": "completed"
    },
    "tags": []
   },
   "outputs": [],
   "source": [
    "class MovieLensDataset(torch.utils.data.Dataset):\n",
    "    \"\"\"\n",
    "    MovieLens Dataset\n",
    "    Data preparation\n",
    "        treat samples with a rating less than 3 as negative samples\n",
    "    \"\"\"\n",
    "    def __init__(self, ratings):\n",
    "        data = ratings.copy().to_numpy()\n",
    "        self.items = data[:, :2].astype(np.int32) - 1  # -1 because ID begins from 1\n",
    "        self.targets = self.__preprocess_target(data[:, 2]).astype(np.float32)\n",
    "        self.field_dims = np.max(self.items, axis=0) + 1\n",
    "        self.user_field_idx = np.array((0, ), dtype=np.int64)\n",
    "        self.item_field_idx = np.array((1,), dtype=np.int64)\n",
    "\n",
    "    def __len__(self):\n",
    "        return self.targets.shape[0]\n",
    "\n",
    "    def __getitem__(self, index):\n",
    "        return self.items[index], self.targets[index]\n",
    "\n",
    "    def __preprocess_target(self, target):\n",
    "        target = target / 5.\n",
    "        return target"
   ]
  },
  {
   "cell_type": "code",
   "execution_count": 5,
   "id": "cdeeecd2",
   "metadata": {
    "execution": {
     "iopub.execute_input": "2023-05-10T13:52:22.515703Z",
     "iopub.status.busy": "2023-05-10T13:52:22.515266Z",
     "iopub.status.idle": "2023-05-10T13:52:22.519964Z",
     "shell.execute_reply": "2023-05-10T13:52:22.518858Z"
    },
    "papermill": {
     "duration": 0.016904,
     "end_time": "2023-05-10T13:52:22.522409",
     "exception": false,
     "start_time": "2023-05-10T13:52:22.505505",
     "status": "completed"
    },
    "tags": []
   },
   "outputs": [],
   "source": [
    "def get_dataset():\n",
    "    return MovieLensDataset(ratings)"
   ]
  },
  {
   "cell_type": "markdown",
   "id": "1bba6317",
   "metadata": {
    "papermill": {
     "duration": 0.007892,
     "end_time": "2023-05-10T13:52:22.538167",
     "exception": false,
     "start_time": "2023-05-10T13:52:22.530275",
     "status": "completed"
    },
    "tags": []
   },
   "source": [
    "# Prepare the algorithm  \n",
    "\n",
    "## The model  "
   ]
  },
  {
   "cell_type": "code",
   "execution_count": 6,
   "id": "80d5de9c",
   "metadata": {
    "execution": {
     "iopub.execute_input": "2023-05-10T13:52:22.556039Z",
     "iopub.status.busy": "2023-05-10T13:52:22.555658Z",
     "iopub.status.idle": "2023-05-10T13:52:22.563053Z",
     "shell.execute_reply": "2023-05-10T13:52:22.561835Z"
    },
    "papermill": {
     "duration": 0.019171,
     "end_time": "2023-05-10T13:52:22.565423",
     "exception": false,
     "start_time": "2023-05-10T13:52:22.546252",
     "status": "completed"
    },
    "tags": []
   },
   "outputs": [],
   "source": [
    "class FactorizationMachineModel(torch.nn.Module):\n",
    "    \"\"\"\n",
    "    A pytorch implementation of Factorization Machine.\n",
    "\n",
    "    Reference:\n",
    "        S Rendle, Factorization Machines, 2010.\n",
    "    \"\"\"\n",
    "\n",
    "    def __init__(self, field_dims, embed_dim):\n",
    "        super().__init__()\n",
    "        self.embedding = FeaturesEmbedding(field_dims, embed_dim)\n",
    "        self.linear = FeaturesLinear(field_dims)\n",
    "        self.fm = FactorizationMachine(reduce_sum=True)\n",
    "\n",
    "    def forward(self, x):\n",
    "        \"\"\"\n",
    "        :param x: Long tensor of size ``(batch_size, num_fields)``\n",
    "        \"\"\"\n",
    "        x = self.linear(x) + self.fm(self.embedding(x))\n",
    "        return torch.sigmoid(x.squeeze(1))"
   ]
  },
  {
   "cell_type": "markdown",
   "id": "5d0d0af4",
   "metadata": {
    "papermill": {
     "duration": 0.007573,
     "end_time": "2023-05-10T13:52:22.580912",
     "exception": false,
     "start_time": "2023-05-10T13:52:22.573339",
     "status": "completed"
    },
    "tags": []
   },
   "source": [
    "## Early stopper"
   ]
  },
  {
   "cell_type": "code",
   "execution_count": 7,
   "id": "5bc588cb",
   "metadata": {
    "execution": {
     "iopub.execute_input": "2023-05-10T13:52:22.598260Z",
     "iopub.status.busy": "2023-05-10T13:52:22.597884Z",
     "iopub.status.idle": "2023-05-10T13:52:22.606590Z",
     "shell.execute_reply": "2023-05-10T13:52:22.605510Z"
    },
    "papermill": {
     "duration": 0.020069,
     "end_time": "2023-05-10T13:52:22.608704",
     "exception": false,
     "start_time": "2023-05-10T13:52:22.588635",
     "status": "completed"
    },
    "tags": []
   },
   "outputs": [],
   "source": [
    "class EarlyStopper(object):\n",
    "\n",
    "    def __init__(self, num_trials, save_path, lower_is_better=True):\n",
    "        self.num_trials = num_trials\n",
    "        self.trial_counter = 0\n",
    "        self.lower_is_better = lower_is_better\n",
    "        if self.lower_is_better:\n",
    "            self.best_accuracy = 1_000_000\n",
    "        else:\n",
    "            self.best_accuracy = 0\n",
    "        self.save_path = save_path\n",
    "\n",
    "    def is_continuable(self, model, accuracy):\n",
    "        print(f\"ES accuracy: {accuracy}\")\n",
    "        if (self.lower_is_better and accuracy < self.best_accuracy) or\\\n",
    "           (not self.lower_is_better and accuracy > self.best_accuracy) :\n",
    "            self.best_accuracy = accuracy\n",
    "            self.trial_counter = 0\n",
    "            torch.save(model, self.save_path)\n",
    "            return True\n",
    "        elif self.trial_counter + 1 < self.num_trials:\n",
    "            self.trial_counter += 1\n",
    "            return True\n",
    "        else:\n",
    "            return False"
   ]
  },
  {
   "cell_type": "markdown",
   "id": "5b658cb8",
   "metadata": {
    "papermill": {
     "duration": 0.007487,
     "end_time": "2023-05-10T13:52:22.624052",
     "exception": false,
     "start_time": "2023-05-10T13:52:22.616565",
     "status": "completed"
    },
    "tags": []
   },
   "source": [
    "## Get the model"
   ]
  },
  {
   "cell_type": "code",
   "execution_count": 8,
   "id": "76ef0e51",
   "metadata": {
    "execution": {
     "iopub.execute_input": "2023-05-10T13:52:22.642106Z",
     "iopub.status.busy": "2023-05-10T13:52:22.641109Z",
     "iopub.status.idle": "2023-05-10T13:52:22.646278Z",
     "shell.execute_reply": "2023-05-10T13:52:22.645169Z"
    },
    "papermill": {
     "duration": 0.016844,
     "end_time": "2023-05-10T13:52:22.648834",
     "exception": false,
     "start_time": "2023-05-10T13:52:22.631990",
     "status": "completed"
    },
    "tags": []
   },
   "outputs": [],
   "source": [
    "def get_model(dataset):\n",
    "    field_dims = dataset.field_dims\n",
    "    return FactorizationMachineModel(field_dims, embed_dim=64) "
   ]
  },
  {
   "cell_type": "markdown",
   "id": "bcc26e7d",
   "metadata": {
    "papermill": {
     "duration": 0.007624,
     "end_time": "2023-05-10T13:52:22.664427",
     "exception": false,
     "start_time": "2023-05-10T13:52:22.656803",
     "status": "completed"
    },
    "tags": []
   },
   "source": [
    "## Train"
   ]
  },
  {
   "cell_type": "code",
   "execution_count": 9,
   "id": "e66f8cbf",
   "metadata": {
    "execution": {
     "iopub.execute_input": "2023-05-10T13:52:22.682797Z",
     "iopub.status.busy": "2023-05-10T13:52:22.681690Z",
     "iopub.status.idle": "2023-05-10T13:52:22.691069Z",
     "shell.execute_reply": "2023-05-10T13:52:22.689965Z"
    },
    "papermill": {
     "duration": 0.021575,
     "end_time": "2023-05-10T13:52:22.693864",
     "exception": false,
     "start_time": "2023-05-10T13:52:22.672289",
     "status": "completed"
    },
    "tags": []
   },
   "outputs": [],
   "source": [
    "def train(model, optimizer, data_loader, criterion, device, log_interval=100):\n",
    "    model.train()\n",
    "    total_loss = 0\n",
    "    av_loss = []\n",
    "    tk0 = tqdm.tqdm(data_loader, smoothing=0, mininterval=1.0)\n",
    "    for i, (fields, target) in enumerate(tk0):\n",
    "        fields, target = fields.to(device), target.to(device)\n",
    "        y = model(fields)\n",
    "        loss = criterion(y, target.float())\n",
    "        model.zero_grad()\n",
    "        loss.backward()\n",
    "        optimizer.step()\n",
    "        total_loss += loss.item()\n",
    "        if (i + 1) % log_interval == 0:\n",
    "            loss = total_loss / log_interval\n",
    "            av_loss.append(loss)\n",
    "            tk0.set_postfix(loss=loss)\n",
    "            total_loss = 0\n",
    "    return np.mean(av_loss)   "
   ]
  },
  {
   "cell_type": "markdown",
   "id": "fdf5fcf4",
   "metadata": {
    "papermill": {
     "duration": 0.007549,
     "end_time": "2023-05-10T13:52:22.709392",
     "exception": false,
     "start_time": "2023-05-10T13:52:22.701843",
     "status": "completed"
    },
    "tags": []
   },
   "source": [
    "## Test/validation"
   ]
  },
  {
   "cell_type": "code",
   "execution_count": 10,
   "id": "ee58dc62",
   "metadata": {
    "execution": {
     "iopub.execute_input": "2023-05-10T13:52:22.726643Z",
     "iopub.status.busy": "2023-05-10T13:52:22.726209Z",
     "iopub.status.idle": "2023-05-10T13:52:22.733708Z",
     "shell.execute_reply": "2023-05-10T13:52:22.732600Z"
    },
    "papermill": {
     "duration": 0.018756,
     "end_time": "2023-05-10T13:52:22.735910",
     "exception": false,
     "start_time": "2023-05-10T13:52:22.717154",
     "status": "completed"
    },
    "tags": []
   },
   "outputs": [],
   "source": [
    "def test(model, data_loader, device):\n",
    "    model.eval()\n",
    "    targets, predicts = list(), list()\n",
    "    with torch.no_grad():\n",
    "        for fields, target in tqdm.tqdm(data_loader, smoothing=0, mininterval=1.0):\n",
    "            fields, target = fields.to(device), target.to(device)\n",
    "            y = model(fields)\n",
    "            targets.extend(target.tolist())\n",
    "            predicts.extend(y.tolist())\n",
    "    return 5.* mean_squared_error(targets, predicts)"
   ]
  },
  {
   "cell_type": "markdown",
   "id": "99cfae55",
   "metadata": {
    "papermill": {
     "duration": 0.00749,
     "end_time": "2023-05-10T13:52:22.751432",
     "exception": false,
     "start_time": "2023-05-10T13:52:22.743942",
     "status": "completed"
    },
    "tags": []
   },
   "source": [
    "# Settings"
   ]
  },
  {
   "cell_type": "code",
   "execution_count": 11,
   "id": "6bd3161d",
   "metadata": {
    "execution": {
     "iopub.execute_input": "2023-05-10T13:52:22.769232Z",
     "iopub.status.busy": "2023-05-10T13:52:22.768806Z",
     "iopub.status.idle": "2023-05-10T13:52:22.774746Z",
     "shell.execute_reply": "2023-05-10T13:52:22.773543Z"
    },
    "papermill": {
     "duration": 0.018651,
     "end_time": "2023-05-10T13:52:22.777880",
     "exception": false,
     "start_time": "2023-05-10T13:52:22.759229",
     "status": "completed"
    },
    "tags": []
   },
   "outputs": [],
   "source": [
    "device_cpu = \"cpu\"\n",
    "learning_rate = 0.001\n",
    "weight_decay = 1e-4\n",
    "batch_size = 64\n",
    "epochs = 20\n",
    "model_name = \"DeepFM\"\n",
    "device = torch.device(device_cpu)"
   ]
  },
  {
   "cell_type": "markdown",
   "id": "36de12ec",
   "metadata": {
    "papermill": {
     "duration": 0.008087,
     "end_time": "2023-05-10T13:52:22.794054",
     "exception": false,
     "start_time": "2023-05-10T13:52:22.785967",
     "status": "completed"
    },
    "tags": []
   },
   "source": [
    "# Prepare train, valid & test datasets"
   ]
  },
  {
   "cell_type": "code",
   "execution_count": 12,
   "id": "484ea3f7",
   "metadata": {
    "execution": {
     "iopub.execute_input": "2023-05-10T13:52:22.811498Z",
     "iopub.status.busy": "2023-05-10T13:52:22.811101Z",
     "iopub.status.idle": "2023-05-10T13:52:22.869091Z",
     "shell.execute_reply": "2023-05-10T13:52:22.867909Z"
    },
    "papermill": {
     "duration": 0.070056,
     "end_time": "2023-05-10T13:52:22.871966",
     "exception": false,
     "start_time": "2023-05-10T13:52:22.801910",
     "status": "completed"
    },
    "tags": []
   },
   "outputs": [],
   "source": [
    "dataset = get_dataset()\n",
    "train_length = int(len(dataset) * 0.8)\n",
    "valid_length = int(len(dataset) * 0.1)\n",
    "test_length = len(dataset) - train_length - valid_length\n",
    "\n",
    "train_dataset, valid_dataset, test_dataset = torch.utils.data.random_split(\n",
    "        dataset, (train_length, valid_length, test_length))\n",
    "\n",
    "train_data_loader = DataLoader(train_dataset, batch_size=batch_size, num_workers=4)\n",
    "valid_data_loader = DataLoader(valid_dataset, batch_size=batch_size, num_workers=4)\n",
    "test_data_loader = DataLoader(test_dataset, batch_size=batch_size, num_workers=4)"
   ]
  },
  {
   "cell_type": "markdown",
   "id": "3359358c",
   "metadata": {
    "papermill": {
     "duration": 0.007415,
     "end_time": "2023-05-10T13:52:22.887128",
     "exception": false,
     "start_time": "2023-05-10T13:52:22.879713",
     "status": "completed"
    },
    "tags": []
   },
   "source": [
    "# Fit the model"
   ]
  },
  {
   "cell_type": "code",
   "execution_count": 13,
   "id": "7cbfe397",
   "metadata": {
    "execution": {
     "iopub.execute_input": "2023-05-10T13:52:22.904380Z",
     "iopub.status.busy": "2023-05-10T13:52:22.904002Z",
     "iopub.status.idle": "2023-05-10T13:52:22.966078Z",
     "shell.execute_reply": "2023-05-10T13:52:22.965113Z"
    },
    "papermill": {
     "duration": 0.073703,
     "end_time": "2023-05-10T13:52:22.968663",
     "exception": false,
     "start_time": "2023-05-10T13:52:22.894960",
     "status": "completed"
    },
    "tags": []
   },
   "outputs": [],
   "source": [
    "model = get_model(dataset).to(device)\n",
    "criterion = torch.nn.BCELoss()\n",
    "optimizer = torch.optim.Adam(params=model.parameters(), lr=learning_rate, weight_decay=weight_decay)\n",
    "early_stopper = EarlyStopper(num_trials=5, save_path=f'{model_name}.pt')"
   ]
  },
  {
   "cell_type": "code",
   "execution_count": 14,
   "id": "422f52ee",
   "metadata": {
    "execution": {
     "iopub.execute_input": "2023-05-10T13:52:22.986232Z",
     "iopub.status.busy": "2023-05-10T13:52:22.985820Z",
     "iopub.status.idle": "2023-05-10T13:55:56.207952Z",
     "shell.execute_reply": "2023-05-10T13:55:56.206488Z"
    },
    "papermill": {
     "duration": 213.23371,
     "end_time": "2023-05-10T13:55:56.210324",
     "exception": false,
     "start_time": "2023-05-10T13:52:22.976614",
     "status": "completed"
    },
    "tags": []
   },
   "outputs": [
    {
     "name": "stderr",
     "output_type": "stream",
     "text": [
      "100%|██████████| 1250/1250 [00:06<00:00, 192.39it/s, loss=0.663]\n",
      "100%|██████████| 157/157 [00:00<00:00, 272.63it/s]\n"
     ]
    },
    {
     "name": "stdout",
     "output_type": "stream",
     "text": [
      "epoch: 1 validation: mae: 0.34627587778084945\n"
     ]
    },
    {
     "name": "stderr",
     "output_type": "stream",
     "text": [
      "100%|██████████| 1250/1250 [00:03<00:00, 355.45it/s]\n"
     ]
    },
    {
     "name": "stdout",
     "output_type": "stream",
     "text": [
      "train mae: 0.3299587573478449\n"
     ]
    },
    {
     "name": "stderr",
     "output_type": "stream",
     "text": [
      "100%|██████████| 157/157 [00:00<00:00, 276.96it/s]\n"
     ]
    },
    {
     "name": "stdout",
     "output_type": "stream",
     "text": [
      "test mae: 0.3442044047749514\n",
      "ES accuracy: 0.34627587778084945\n"
     ]
    },
    {
     "name": "stderr",
     "output_type": "stream",
     "text": [
      "100%|██████████| 1250/1250 [00:05<00:00, 211.57it/s, loss=0.613]\n",
      "100%|██████████| 157/157 [00:00<00:00, 326.58it/s]\n"
     ]
    },
    {
     "name": "stdout",
     "output_type": "stream",
     "text": [
      "epoch: 2 validation: mae: 0.2740090056490992\n"
     ]
    },
    {
     "name": "stderr",
     "output_type": "stream",
     "text": [
      "100%|██████████| 1250/1250 [00:03<00:00, 406.76it/s]\n"
     ]
    },
    {
     "name": "stdout",
     "output_type": "stream",
     "text": [
      "train mae: 0.2571900029994886\n"
     ]
    },
    {
     "name": "stderr",
     "output_type": "stream",
     "text": [
      "100%|██████████| 157/157 [00:00<00:00, 309.61it/s]\n"
     ]
    },
    {
     "name": "stdout",
     "output_type": "stream",
     "text": [
      "test mae: 0.2705582521754686\n",
      "ES accuracy: 0.2740090056490992\n"
     ]
    },
    {
     "name": "stderr",
     "output_type": "stream",
     "text": [
      "100%|██████████| 1250/1250 [00:06<00:00, 197.35it/s, loss=0.593]\n",
      "100%|██████████| 157/157 [00:00<00:00, 318.44it/s]\n"
     ]
    },
    {
     "name": "stdout",
     "output_type": "stream",
     "text": [
      "epoch: 3 validation: mae: 0.24277233645259633\n"
     ]
    },
    {
     "name": "stderr",
     "output_type": "stream",
     "text": [
      "100%|██████████| 1250/1250 [00:03<00:00, 374.06it/s]\n"
     ]
    },
    {
     "name": "stdout",
     "output_type": "stream",
     "text": [
      "train mae: 0.2269829170622774\n"
     ]
    },
    {
     "name": "stderr",
     "output_type": "stream",
     "text": [
      "100%|██████████| 157/157 [00:00<00:00, 285.33it/s]\n"
     ]
    },
    {
     "name": "stdout",
     "output_type": "stream",
     "text": [
      "test mae: 0.23836750407947482\n",
      "ES accuracy: 0.24277233645259633\n"
     ]
    },
    {
     "name": "stderr",
     "output_type": "stream",
     "text": [
      "100%|██████████| 1250/1250 [00:05<00:00, 215.35it/s, loss=0.584]\n",
      "100%|██████████| 157/157 [00:00<00:00, 281.74it/s]\n"
     ]
    },
    {
     "name": "stdout",
     "output_type": "stream",
     "text": [
      "epoch: 4 validation: mae: 0.2249587919651459\n"
     ]
    },
    {
     "name": "stderr",
     "output_type": "stream",
     "text": [
      "100%|██████████| 1250/1250 [00:03<00:00, 348.53it/s]\n"
     ]
    },
    {
     "name": "stdout",
     "output_type": "stream",
     "text": [
      "train mae: 0.21136929052749515\n"
     ]
    },
    {
     "name": "stderr",
     "output_type": "stream",
     "text": [
      "100%|██████████| 157/157 [00:00<00:00, 284.45it/s]\n"
     ]
    },
    {
     "name": "stdout",
     "output_type": "stream",
     "text": [
      "test mae: 0.22029130444862086\n",
      "ES accuracy: 0.2249587919651459\n"
     ]
    },
    {
     "name": "stderr",
     "output_type": "stream",
     "text": [
      "100%|██████████| 1250/1250 [00:05<00:00, 213.54it/s, loss=0.578]\n",
      "100%|██████████| 157/157 [00:00<00:00, 311.88it/s]\n"
     ]
    },
    {
     "name": "stdout",
     "output_type": "stream",
     "text": [
      "epoch: 5 validation: mae: 0.21209062593315992\n"
     ]
    },
    {
     "name": "stderr",
     "output_type": "stream",
     "text": [
      "100%|██████████| 1250/1250 [00:03<00:00, 395.52it/s]\n"
     ]
    },
    {
     "name": "stdout",
     "output_type": "stream",
     "text": [
      "train mae: 0.20120395152985168\n"
     ]
    },
    {
     "name": "stderr",
     "output_type": "stream",
     "text": [
      "100%|██████████| 157/157 [00:00<00:00, 302.04it/s]\n"
     ]
    },
    {
     "name": "stdout",
     "output_type": "stream",
     "text": [
      "test mae: 0.20738181686822804\n",
      "ES accuracy: 0.21209062593315992\n"
     ]
    },
    {
     "name": "stderr",
     "output_type": "stream",
     "text": [
      "100%|██████████| 1250/1250 [00:05<00:00, 224.22it/s, loss=0.574]\n",
      "100%|██████████| 157/157 [00:00<00:00, 305.86it/s]\n"
     ]
    },
    {
     "name": "stdout",
     "output_type": "stream",
     "text": [
      "epoch: 6 validation: mae: 0.20231754055460338\n"
     ]
    },
    {
     "name": "stderr",
     "output_type": "stream",
     "text": [
      "100%|██████████| 1250/1250 [00:03<00:00, 353.78it/s]\n"
     ]
    },
    {
     "name": "stdout",
     "output_type": "stream",
     "text": [
      "train mae: 0.19389118422213864\n"
     ]
    },
    {
     "name": "stderr",
     "output_type": "stream",
     "text": [
      "100%|██████████| 157/157 [00:00<00:00, 264.87it/s]\n"
     ]
    },
    {
     "name": "stdout",
     "output_type": "stream",
     "text": [
      "test mae: 0.19758755068357614\n",
      "ES accuracy: 0.20231754055460338\n"
     ]
    },
    {
     "name": "stderr",
     "output_type": "stream",
     "text": [
      "100%|██████████| 1250/1250 [00:06<00:00, 196.73it/s, loss=0.571]\n",
      "100%|██████████| 157/157 [00:00<00:00, 296.18it/s]\n"
     ]
    },
    {
     "name": "stdout",
     "output_type": "stream",
     "text": [
      "epoch: 7 validation: mae: 0.19550465279932008\n"
     ]
    },
    {
     "name": "stderr",
     "output_type": "stream",
     "text": [
      "100%|██████████| 1250/1250 [00:03<00:00, 386.33it/s]\n"
     ]
    },
    {
     "name": "stdout",
     "output_type": "stream",
     "text": [
      "train mae: 0.18880506688776544\n"
     ]
    },
    {
     "name": "stderr",
     "output_type": "stream",
     "text": [
      "100%|██████████| 157/157 [00:00<00:00, 319.03it/s]\n"
     ]
    },
    {
     "name": "stdout",
     "output_type": "stream",
     "text": [
      "test mae: 0.19077234887225317\n",
      "ES accuracy: 0.19550465279932008\n"
     ]
    },
    {
     "name": "stderr",
     "output_type": "stream",
     "text": [
      "100%|██████████| 1250/1250 [00:05<00:00, 228.22it/s, loss=0.57]\n",
      "100%|██████████| 157/157 [00:00<00:00, 290.20it/s]\n"
     ]
    },
    {
     "name": "stdout",
     "output_type": "stream",
     "text": [
      "epoch: 8 validation: mae: 0.19130701536276326\n"
     ]
    },
    {
     "name": "stderr",
     "output_type": "stream",
     "text": [
      "100%|██████████| 1250/1250 [00:03<00:00, 353.53it/s]\n"
     ]
    },
    {
     "name": "stdout",
     "output_type": "stream",
     "text": [
      "train mae: 0.1855584994119547\n"
     ]
    },
    {
     "name": "stderr",
     "output_type": "stream",
     "text": [
      "100%|██████████| 157/157 [00:00<00:00, 266.60it/s]\n"
     ]
    },
    {
     "name": "stdout",
     "output_type": "stream",
     "text": [
      "test mae: 0.18660177934104083\n",
      "ES accuracy: 0.19130701536276326\n"
     ]
    },
    {
     "name": "stderr",
     "output_type": "stream",
     "text": [
      "100%|██████████| 1250/1250 [00:06<00:00, 206.91it/s, loss=0.569]\n",
      "100%|██████████| 157/157 [00:00<00:00, 307.87it/s]\n"
     ]
    },
    {
     "name": "stdout",
     "output_type": "stream",
     "text": [
      "epoch: 9 validation: mae: 0.1888831883530256\n"
     ]
    },
    {
     "name": "stderr",
     "output_type": "stream",
     "text": [
      "100%|██████████| 1250/1250 [00:03<00:00, 379.88it/s]\n"
     ]
    },
    {
     "name": "stdout",
     "output_type": "stream",
     "text": [
      "train mae: 0.1835315061838658\n"
     ]
    },
    {
     "name": "stderr",
     "output_type": "stream",
     "text": [
      "100%|██████████| 157/157 [00:00<00:00, 288.83it/s]\n"
     ]
    },
    {
     "name": "stdout",
     "output_type": "stream",
     "text": [
      "test mae: 0.18421459548495653\n",
      "ES accuracy: 0.1888831883530256\n"
     ]
    },
    {
     "name": "stderr",
     "output_type": "stream",
     "text": [
      "100%|██████████| 1250/1250 [00:06<00:00, 207.71it/s, loss=0.568]\n",
      "100%|██████████| 157/157 [00:00<00:00, 287.32it/s]\n"
     ]
    },
    {
     "name": "stdout",
     "output_type": "stream",
     "text": [
      "epoch: 10 validation: mae: 0.1874914338103832\n"
     ]
    },
    {
     "name": "stderr",
     "output_type": "stream",
     "text": [
      "100%|██████████| 1250/1250 [00:03<00:00, 319.86it/s]\n"
     ]
    },
    {
     "name": "stdout",
     "output_type": "stream",
     "text": [
      "train mae: 0.18225073899860422\n"
     ]
    },
    {
     "name": "stderr",
     "output_type": "stream",
     "text": [
      "100%|██████████| 157/157 [00:00<00:00, 258.51it/s]\n"
     ]
    },
    {
     "name": "stdout",
     "output_type": "stream",
     "text": [
      "test mae: 0.18285152767861285\n",
      "ES accuracy: 0.1874914338103832\n"
     ]
    },
    {
     "name": "stderr",
     "output_type": "stream",
     "text": [
      "100%|██████████| 1250/1250 [00:06<00:00, 187.68it/s, loss=0.567]\n",
      "100%|██████████| 157/157 [00:00<00:00, 244.38it/s]\n"
     ]
    },
    {
     "name": "stdout",
     "output_type": "stream",
     "text": [
      "epoch: 11 validation: mae: 0.18668670093137568\n"
     ]
    },
    {
     "name": "stderr",
     "output_type": "stream",
     "text": [
      "100%|██████████| 1250/1250 [00:03<00:00, 378.36it/s]\n"
     ]
    },
    {
     "name": "stdout",
     "output_type": "stream",
     "text": [
      "train mae: 0.18146441107037892\n"
     ]
    },
    {
     "name": "stderr",
     "output_type": "stream",
     "text": [
      "100%|██████████| 157/157 [00:00<00:00, 323.83it/s]\n"
     ]
    },
    {
     "name": "stdout",
     "output_type": "stream",
     "text": [
      "test mae: 0.18206793689201403\n",
      "ES accuracy: 0.18668670093137568\n"
     ]
    },
    {
     "name": "stderr",
     "output_type": "stream",
     "text": [
      "100%|██████████| 1250/1250 [00:06<00:00, 207.33it/s, loss=0.567]\n",
      "100%|██████████| 157/157 [00:00<00:00, 259.64it/s]\n"
     ]
    },
    {
     "name": "stdout",
     "output_type": "stream",
     "text": [
      "epoch: 12 validation: mae: 0.1862011532968388\n"
     ]
    },
    {
     "name": "stderr",
     "output_type": "stream",
     "text": [
      "100%|██████████| 1250/1250 [00:03<00:00, 324.04it/s]\n"
     ]
    },
    {
     "name": "stdout",
     "output_type": "stream",
     "text": [
      "train mae: 0.18097100374962227\n"
     ]
    },
    {
     "name": "stderr",
     "output_type": "stream",
     "text": [
      "100%|██████████| 157/157 [00:00<00:00, 270.66it/s]\n"
     ]
    },
    {
     "name": "stdout",
     "output_type": "stream",
     "text": [
      "test mae: 0.1816008524712851\n",
      "ES accuracy: 0.1862011532968388\n"
     ]
    },
    {
     "name": "stderr",
     "output_type": "stream",
     "text": [
      "100%|██████████| 1250/1250 [00:06<00:00, 203.50it/s, loss=0.567]\n",
      "100%|██████████| 157/157 [00:00<00:00, 310.22it/s]\n"
     ]
    },
    {
     "name": "stdout",
     "output_type": "stream",
     "text": [
      "epoch: 13 validation: mae: 0.1858969927352302\n"
     ]
    },
    {
     "name": "stderr",
     "output_type": "stream",
     "text": [
      "100%|██████████| 1250/1250 [00:03<00:00, 395.92it/s]\n"
     ]
    },
    {
     "name": "stdout",
     "output_type": "stream",
     "text": [
      "train mae: 0.18066340506162698\n"
     ]
    },
    {
     "name": "stderr",
     "output_type": "stream",
     "text": [
      "100%|██████████| 157/157 [00:00<00:00, 331.67it/s]\n"
     ]
    },
    {
     "name": "stdout",
     "output_type": "stream",
     "text": [
      "test mae: 0.1813131781660682\n",
      "ES accuracy: 0.1858969927352302\n"
     ]
    },
    {
     "name": "stderr",
     "output_type": "stream",
     "text": [
      "100%|██████████| 1250/1250 [00:05<00:00, 208.99it/s, loss=0.567]\n",
      "100%|██████████| 157/157 [00:00<00:00, 300.53it/s]\n"
     ]
    },
    {
     "name": "stdout",
     "output_type": "stream",
     "text": [
      "epoch: 14 validation: mae: 0.1857000402596015\n"
     ]
    },
    {
     "name": "stderr",
     "output_type": "stream",
     "text": [
      "100%|██████████| 1250/1250 [00:03<00:00, 337.41it/s]\n"
     ]
    },
    {
     "name": "stdout",
     "output_type": "stream",
     "text": [
      "train mae: 0.18046305977241378\n"
     ]
    },
    {
     "name": "stderr",
     "output_type": "stream",
     "text": [
      "100%|██████████| 157/157 [00:00<00:00, 273.70it/s]\n"
     ]
    },
    {
     "name": "stdout",
     "output_type": "stream",
     "text": [
      "test mae: 0.18113013490466925\n",
      "ES accuracy: 0.1857000402596015\n"
     ]
    },
    {
     "name": "stderr",
     "output_type": "stream",
     "text": [
      "100%|██████████| 1250/1250 [00:06<00:00, 190.04it/s, loss=0.567]\n",
      "100%|██████████| 157/157 [00:00<00:00, 318.02it/s]\n"
     ]
    },
    {
     "name": "stdout",
     "output_type": "stream",
     "text": [
      "epoch: 15 validation: mae: 0.18556660168747918\n"
     ]
    },
    {
     "name": "stderr",
     "output_type": "stream",
     "text": [
      "100%|██████████| 1250/1250 [00:03<00:00, 379.60it/s]\n"
     ]
    },
    {
     "name": "stdout",
     "output_type": "stream",
     "text": [
      "train mae: 0.1803306559850121\n"
     ]
    },
    {
     "name": "stderr",
     "output_type": "stream",
     "text": [
      "100%|██████████| 157/157 [00:00<00:00, 304.67it/s]\n"
     ]
    },
    {
     "name": "stdout",
     "output_type": "stream",
     "text": [
      "test mae: 0.1810113315166635\n",
      "ES accuracy: 0.18556660168747918\n"
     ]
    },
    {
     "name": "stderr",
     "output_type": "stream",
     "text": [
      "100%|██████████| 1250/1250 [00:06<00:00, 200.85it/s, loss=0.567]\n",
      "100%|██████████| 157/157 [00:00<00:00, 287.30it/s]\n"
     ]
    },
    {
     "name": "stdout",
     "output_type": "stream",
     "text": [
      "epoch: 16 validation: mae: 0.18547555051239606\n"
     ]
    },
    {
     "name": "stderr",
     "output_type": "stream",
     "text": [
      "100%|██████████| 1250/1250 [00:03<00:00, 314.02it/s]\n"
     ]
    },
    {
     "name": "stdout",
     "output_type": "stream",
     "text": [
      "train mae: 0.18024054849420568\n"
     ]
    },
    {
     "name": "stderr",
     "output_type": "stream",
     "text": [
      "100%|██████████| 157/157 [00:00<00:00, 277.30it/s]\n"
     ]
    },
    {
     "name": "stdout",
     "output_type": "stream",
     "text": [
      "test mae: 0.18092968943345045\n",
      "ES accuracy: 0.18547555051239606\n"
     ]
    },
    {
     "name": "stderr",
     "output_type": "stream",
     "text": [
      "100%|██████████| 1250/1250 [00:05<00:00, 210.82it/s, loss=0.567]\n",
      "100%|██████████| 157/157 [00:00<00:00, 313.30it/s]\n"
     ]
    },
    {
     "name": "stdout",
     "output_type": "stream",
     "text": [
      "epoch: 17 validation: mae: 0.1854097307102044\n"
     ]
    },
    {
     "name": "stderr",
     "output_type": "stream",
     "text": [
      "100%|██████████| 1250/1250 [00:03<00:00, 354.00it/s]\n"
     ]
    },
    {
     "name": "stdout",
     "output_type": "stream",
     "text": [
      "train mae: 0.18017773681855895\n"
     ]
    },
    {
     "name": "stderr",
     "output_type": "stream",
     "text": [
      "100%|██████████| 157/157 [00:00<00:00, 269.03it/s]\n"
     ]
    },
    {
     "name": "stdout",
     "output_type": "stream",
     "text": [
      "test mae: 0.180872616453281\n",
      "ES accuracy: 0.1854097307102044\n"
     ]
    },
    {
     "name": "stderr",
     "output_type": "stream",
     "text": [
      "100%|██████████| 1250/1250 [00:06<00:00, 199.59it/s, loss=0.567]\n",
      "100%|██████████| 157/157 [00:00<00:00, 277.48it/s]\n"
     ]
    },
    {
     "name": "stdout",
     "output_type": "stream",
     "text": [
      "epoch: 18 validation: mae: 0.18536228288649337\n"
     ]
    },
    {
     "name": "stderr",
     "output_type": "stream",
     "text": [
      "100%|██████████| 1250/1250 [00:03<00:00, 376.99it/s]\n"
     ]
    },
    {
     "name": "stdout",
     "output_type": "stream",
     "text": [
      "train mae: 0.18013371757317206\n"
     ]
    },
    {
     "name": "stderr",
     "output_type": "stream",
     "text": [
      "100%|██████████| 157/157 [00:00<00:00, 299.43it/s]\n"
     ]
    },
    {
     "name": "stdout",
     "output_type": "stream",
     "text": [
      "test mae: 0.18083274800196988\n",
      "ES accuracy: 0.18536228288649337\n"
     ]
    },
    {
     "name": "stderr",
     "output_type": "stream",
     "text": [
      "100%|██████████| 1250/1250 [00:05<00:00, 230.38it/s, loss=0.567]\n",
      "100%|██████████| 157/157 [00:00<00:00, 315.57it/s]\n"
     ]
    },
    {
     "name": "stdout",
     "output_type": "stream",
     "text": [
      "epoch: 19 validation: mae: 0.18532750165694484\n"
     ]
    },
    {
     "name": "stderr",
     "output_type": "stream",
     "text": [
      "100%|██████████| 1250/1250 [00:03<00:00, 351.01it/s]\n"
     ]
    },
    {
     "name": "stdout",
     "output_type": "stream",
     "text": [
      "train mae: 0.18010174691743236\n"
     ]
    },
    {
     "name": "stderr",
     "output_type": "stream",
     "text": [
      "100%|██████████| 157/157 [00:00<00:00, 277.09it/s]\n"
     ]
    },
    {
     "name": "stdout",
     "output_type": "stream",
     "text": [
      "test mae: 0.1808032539234879\n",
      "ES accuracy: 0.18532750165694484\n"
     ]
    },
    {
     "name": "stderr",
     "output_type": "stream",
     "text": [
      "100%|██████████| 1250/1250 [00:06<00:00, 205.50it/s, loss=0.567]\n",
      "100%|██████████| 157/157 [00:00<00:00, 284.83it/s]\n"
     ]
    },
    {
     "name": "stdout",
     "output_type": "stream",
     "text": [
      "epoch: 20 validation: mae: 0.18530127317395675\n"
     ]
    },
    {
     "name": "stderr",
     "output_type": "stream",
     "text": [
      "100%|██████████| 1250/1250 [00:03<00:00, 384.03it/s]\n"
     ]
    },
    {
     "name": "stdout",
     "output_type": "stream",
     "text": [
      "train mae: 0.18007788299235672\n"
     ]
    },
    {
     "name": "stderr",
     "output_type": "stream",
     "text": [
      "100%|██████████| 157/157 [00:00<00:00, 316.39it/s]"
     ]
    },
    {
     "name": "stdout",
     "output_type": "stream",
     "text": [
      "test mae: 0.1807820028529703\n",
      "ES accuracy: 0.18530127317395675\n"
     ]
    },
    {
     "name": "stderr",
     "output_type": "stream",
     "text": [
      "\n"
     ]
    }
   ],
   "source": [
    "metric_values = []\n",
    "loss_values = []\n",
    "\n",
    "for epoch_i in range(epochs):\n",
    "    loss = train(model, optimizer, train_data_loader, criterion, device)\n",
    "    loss_values.append((epoch_i, loss))\n",
    "    \n",
    "    metric_valid = test(model, valid_data_loader, device)\n",
    "    print('epoch:', epoch_i + 1, 'validation: mae:', metric_valid)\n",
    "    \n",
    "    metric_train = test(model, train_data_loader, device)\n",
    "    print('train mae:', metric_train)\n",
    "    \n",
    "    metric_test = test(model, test_data_loader, device)\n",
    "    print(f'test mae: {metric_test}')\n",
    "    \n",
    "    if not early_stopper.is_continuable(model, metric_valid):\n",
    "        print(f'validation: best mae: {early_stopper.best_accuracy}')\n",
    "        break\n",
    "\n",
    "    \n",
    "    metric_values.append((epoch_i, metric_train, metric_valid, metric_test))"
   ]
  },
  {
   "cell_type": "code",
   "execution_count": 15,
   "id": "f7c200e1",
   "metadata": {
    "execution": {
     "iopub.execute_input": "2023-05-10T13:55:56.352969Z",
     "iopub.status.busy": "2023-05-10T13:55:56.351753Z",
     "iopub.status.idle": "2023-05-10T13:55:56.795725Z",
     "shell.execute_reply": "2023-05-10T13:55:56.794619Z"
    },
    "papermill": {
     "duration": 0.518805,
     "end_time": "2023-05-10T13:55:56.798108",
     "exception": false,
     "start_time": "2023-05-10T13:55:56.279303",
     "status": "completed"
    },
    "tags": []
   },
   "outputs": [
    {
     "data": {
      "image/png": "[encoded data removed]",
      "text/plain": [
       "<Figure size 800x400 with 2 Axes>"
      ]
     },
     "metadata": {},
     "output_type": "display_data"
    }
   ],
   "source": [
    "from matplotlib import pyplot as plt\n",
    "metric_values = np.array(metric_values)\n",
    "loss_values = [x[1] for x in loss_values]\n",
    "f, ax = plt.subplots(1,2, figsize=(8,4))\n",
    "ax[0].plot(loss_values, label=\"train loss\")\n",
    "ax[0].legend()\n",
    "ax[0].grid(linestyle=\"--\",which=\"major\")\n",
    "\n",
    "ax[1].plot(metric_values[:, 1], label=\"train mae\")\n",
    "ax[1].plot(metric_values[:, 2], label=\"validation mae\")\n",
    "ax[1].plot(metric_values[:, 3], label=\"test mae\")\n",
    "ax[1].legend()\n",
    "ax[1].grid(linestyle=\"--\",which=\"major\")\n",
    "plt.suptitle(\"Train loss & Train/Validation/Test mae\")\n",
    "plt.show()"
   ]
  }
 ],
 "metadata": {
  "kernelspec": {
   "display_name": "Python 3",
   "language": "python",
   "name": "python3"
  },
  "language_info": {
   "codemirror_mode": {
    "name": "ipython",
    "version": 3
   },
   "file_extension": ".py",
   "mimetype": "text/x-python",
   "name": "python",
   "nbconvert_exporter": "python",
   "pygments_lexer": "ipython3",
   "version": "3.10.10"
  },
  "papermill": {
   "default_parameters": {},
   "duration": 241.316692,
   "end_time": "2023-05-10T13:55:58.496258",
   "environment_variables": {},
   "exception": null,
   "input_path": "__notebook__.ipynb",
   "output_path": "__notebook__.ipynb",
   "parameters": {},
   "start_time": "2023-05-10T13:51:57.179566",
   "version": "2.4.0"
  }
 },
 "nbformat": 4,
 "nbformat_minor": 5
}
