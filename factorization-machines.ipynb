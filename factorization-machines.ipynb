{
 "cells": [
  {
   "cell_type": "markdown",
   "id": "b997d14b",
   "metadata": {
    "papermill": {
     "duration": 0.008362,
     "end_time": "2023-05-10T13:15:51.598967",
     "exception": false,
     "start_time": "2023-05-10T13:15:51.590605",
     "status": "completed"
    },
    "tags": []
   },
   "source": [
    "# Introduction\n",
    "\n",
    "Factorization Machines (FM) - is a model used for classification, regression or ranking tasks. It was developed in 2010. It uses latent features of users/items.\n",
    "\n",
    "\n",
    "Source: Factorization Machine models in PyTorch (https://github.com/rixwew/pytorch-fm)"
   ]
  },
  {
   "cell_type": "code",
   "execution_count": 1,
   "id": "d17c641b",
   "metadata": {
    "_cell_guid": "b1076dfc-b9ad-4769-8c92-a6c4dae69d19",
    "_uuid": "8f2839f25d086af736a60e9eeb907d3b93b6e0e5",
    "execution": {
     "iopub.execute_input": "2023-05-10T13:15:51.617007Z",
     "iopub.status.busy": "2023-05-10T13:15:51.616230Z",
     "iopub.status.idle": "2023-05-10T13:15:57.223152Z",
     "shell.execute_reply": "2023-05-10T13:15:57.222024Z"
    },
    "papermill": {
     "duration": 5.619144,
     "end_time": "2023-05-10T13:15:57.225982",
     "exception": false,
     "start_time": "2023-05-10T13:15:51.606838",
     "status": "completed"
    },
    "tags": []
   },
   "outputs": [
    {
     "name": "stderr",
     "output_type": "stream",
     "text": [
      "/opt/conda/lib/python3.10/site-packages/scipy/__init__.py:146: UserWarning: A NumPy version >=1.16.5 and <1.23.0 is required for this version of SciPy (detected version 1.23.5\n",
      "  warnings.warn(f\"A NumPy version >={np_minversion} and <{np_maxversion}\"\n"
     ]
    }
   ],
   "source": [
    "import numpy as np\n",
    "import pandas as pd\n",
    "import os\n",
    "import tqdm\n",
    "import torch\n",
    "from torch.utils.data import DataLoader\n",
    "from sklearn.metrics import roc_auc_score, mean_squared_error"
   ]
  },
  {
   "cell_type": "code",
   "execution_count": 2,
   "id": "9ee28dea",
   "metadata": {
    "execution": {
     "iopub.execute_input": "2023-05-10T13:15:57.245256Z",
     "iopub.status.busy": "2023-05-10T13:15:57.243784Z",
     "iopub.status.idle": "2023-05-10T13:15:57.439044Z",
     "shell.execute_reply": "2023-05-10T13:15:57.438025Z"
    },
    "papermill": {
     "duration": 0.207548,
     "end_time": "2023-05-10T13:15:57.441867",
     "exception": false,
     "start_time": "2023-05-10T13:15:57.234319",
     "status": "completed"
    },
    "tags": []
   },
   "outputs": [],
   "source": [
    "from movie_lens_data import MovieLensData\n",
    "from pt_layer import FactorizationMachine, FeaturesEmbedding, FeaturesLinear, MultiLayerPerceptron"
   ]
  },
  {
   "cell_type": "markdown",
   "id": "e1476100",
   "metadata": {
    "papermill": {
     "duration": 0.007701,
     "end_time": "2023-05-10T13:15:57.457912",
     "exception": false,
     "start_time": "2023-05-10T13:15:57.450211",
     "status": "completed"
    },
    "tags": []
   },
   "source": [
    "# Read the data"
   ]
  },
  {
   "cell_type": "code",
   "execution_count": 3,
   "id": "24bd0813",
   "metadata": {
    "execution": {
     "iopub.execute_input": "2023-05-10T13:15:57.476058Z",
     "iopub.status.busy": "2023-05-10T13:15:57.475609Z",
     "iopub.status.idle": "2023-05-10T13:16:03.458520Z",
     "shell.execute_reply": "2023-05-10T13:16:03.457329Z"
    },
    "papermill": {
     "duration": 5.995482,
     "end_time": "2023-05-10T13:16:03.461466",
     "exception": false,
     "start_time": "2023-05-10T13:15:57.465984",
     "status": "completed"
    },
    "tags": []
   },
   "outputs": [],
   "source": [
    "path = \"/kaggle/input/movielens-100k-dataset/ml-100k\"\n",
    "movie_lens_data = MovieLensData(\n",
    "    users_path = os.path.join(path, \"u.user\"),\n",
    "    ratings_path = os.path.join(path, \"u.data\"), \n",
    "    movies_path = os.path.join(path, \"u.item\"), \n",
    "    genre_path = os.path.join(path, \"u.genre\") \n",
    "    )\n",
    "\n",
    "evaluation_data = movie_lens_data.read_ratings_data()\n",
    "movie_data = movie_lens_data.read_movies_data()\n",
    "popularity_rankings = movie_lens_data.get_popularity_ranks()\n",
    "ratings = movie_lens_data.get_ratings()"
   ]
  },
  {
   "cell_type": "markdown",
   "id": "cde8f6cb",
   "metadata": {
    "papermill": {
     "duration": 0.007574,
     "end_time": "2023-05-10T13:16:03.476987",
     "exception": false,
     "start_time": "2023-05-10T13:16:03.469413",
     "status": "completed"
    },
    "tags": []
   },
   "source": [
    "# Prepare the dataset"
   ]
  },
  {
   "cell_type": "code",
   "execution_count": 4,
   "id": "c078035d",
   "metadata": {
    "execution": {
     "iopub.execute_input": "2023-05-10T13:16:03.495196Z",
     "iopub.status.busy": "2023-05-10T13:16:03.494510Z",
     "iopub.status.idle": "2023-05-10T13:16:03.504628Z",
     "shell.execute_reply": "2023-05-10T13:16:03.503628Z"
    },
    "papermill": {
     "duration": 0.02214,
     "end_time": "2023-05-10T13:16:03.507160",
     "exception": false,
     "start_time": "2023-05-10T13:16:03.485020",
     "status": "completed"
    },
    "tags": []
   },
   "outputs": [],
   "source": [
    "class MovieLensDataset(torch.utils.data.Dataset):\n",
    "    \"\"\"\n",
    "    MovieLens Dataset\n",
    "    Data preparation\n",
    "        treat samples with a rating less than 3 as negative samples\n",
    "    \"\"\"\n",
    "    def __init__(self, ratings):\n",
    "        data = ratings.copy().to_numpy()\n",
    "        self.items = data[:, :2].astype(np.int32) - 1  # -1 because ID begins from 1\n",
    "        self.targets = self.__preprocess_target(data[:, 2]).astype(np.float32)\n",
    "        self.field_dims = np.max(self.items, axis=0) + 1\n",
    "        self.user_field_idx = np.array((0, ), dtype=np.int64)\n",
    "        self.item_field_idx = np.array((1,), dtype=np.int64)\n",
    "\n",
    "    def __len__(self):\n",
    "        return self.targets.shape[0]\n",
    "\n",
    "    def __getitem__(self, index):\n",
    "        return self.items[index], self.targets[index]\n",
    "\n",
    "    def __preprocess_target(self, target):\n",
    "        target = target / 5.\n",
    "        return target"
   ]
  },
  {
   "cell_type": "code",
   "execution_count": 5,
   "id": "c2cda212",
   "metadata": {
    "execution": {
     "iopub.execute_input": "2023-05-10T13:16:03.525381Z",
     "iopub.status.busy": "2023-05-10T13:16:03.524700Z",
     "iopub.status.idle": "2023-05-10T13:16:03.529831Z",
     "shell.execute_reply": "2023-05-10T13:16:03.528829Z"
    },
    "papermill": {
     "duration": 0.017109,
     "end_time": "2023-05-10T13:16:03.532342",
     "exception": false,
     "start_time": "2023-05-10T13:16:03.515233",
     "status": "completed"
    },
    "tags": []
   },
   "outputs": [],
   "source": [
    "def get_dataset():\n",
    "    return MovieLensDataset(ratings)"
   ]
  },
  {
   "cell_type": "markdown",
   "id": "bbc8b0b1",
   "metadata": {
    "papermill": {
     "duration": 0.007785,
     "end_time": "2023-05-10T13:16:03.548260",
     "exception": false,
     "start_time": "2023-05-10T13:16:03.540475",
     "status": "completed"
    },
    "tags": []
   },
   "source": [
    "# Prepare the algorithm  \n",
    "\n",
    "## The model  "
   ]
  },
  {
   "cell_type": "code",
   "execution_count": 6,
   "id": "92db233e",
   "metadata": {
    "execution": {
     "iopub.execute_input": "2023-05-10T13:16:03.566653Z",
     "iopub.status.busy": "2023-05-10T13:16:03.565999Z",
     "iopub.status.idle": "2023-05-10T13:16:03.573910Z",
     "shell.execute_reply": "2023-05-10T13:16:03.572732Z"
    },
    "papermill": {
     "duration": 0.0201,
     "end_time": "2023-05-10T13:16:03.576560",
     "exception": false,
     "start_time": "2023-05-10T13:16:03.556460",
     "status": "completed"
    },
    "tags": []
   },
   "outputs": [],
   "source": [
    "class FactorizationMachineModel(torch.nn.Module):\n",
    "    \"\"\"\n",
    "    A pytorch implementation of Factorization Machine.\n",
    "\n",
    "    Reference:\n",
    "        S Rendle, Factorization Machines, 2010.\n",
    "    \"\"\"\n",
    "\n",
    "    def __init__(self, field_dims, embed_dim):\n",
    "        super().__init__()\n",
    "        self.embedding = FeaturesEmbedding(field_dims, embed_dim)\n",
    "        self.linear = FeaturesLinear(field_dims)\n",
    "        self.fm = FactorizationMachine(reduce_sum=True)\n",
    "\n",
    "    def forward(self, x):\n",
    "        \"\"\"\n",
    "        :param x: Long tensor of size ``(batch_size, num_fields)``\n",
    "        \"\"\"\n",
    "        x = self.linear(x) + self.fm(self.embedding(x))\n",
    "        return torch.sigmoid(x.squeeze(1))"
   ]
  },
  {
   "cell_type": "markdown",
   "id": "d4180f5b",
   "metadata": {
    "papermill": {
     "duration": 0.007881,
     "end_time": "2023-05-10T13:16:03.592777",
     "exception": false,
     "start_time": "2023-05-10T13:16:03.584896",
     "status": "completed"
    },
    "tags": []
   },
   "source": [
    "## Early stopper"
   ]
  },
  {
   "cell_type": "code",
   "execution_count": 7,
   "id": "7aa46d8e",
   "metadata": {
    "execution": {
     "iopub.execute_input": "2023-05-10T13:16:03.610841Z",
     "iopub.status.busy": "2023-05-10T13:16:03.610193Z",
     "iopub.status.idle": "2023-05-10T13:16:03.618078Z",
     "shell.execute_reply": "2023-05-10T13:16:03.617027Z"
    },
    "papermill": {
     "duration": 0.020256,
     "end_time": "2023-05-10T13:16:03.620947",
     "exception": false,
     "start_time": "2023-05-10T13:16:03.600691",
     "status": "completed"
    },
    "tags": []
   },
   "outputs": [],
   "source": [
    "class EarlyStopper(object):\n",
    "\n",
    "    def __init__(self, num_trials, save_path):\n",
    "        self.num_trials = num_trials\n",
    "        self.trial_counter = 0\n",
    "        self.best_accuracy = 0\n",
    "        self.save_path = save_path\n",
    "\n",
    "    def is_continuable(self, model, accuracy):\n",
    "        if accuracy > self.best_accuracy:\n",
    "            self.best_accuracy = accuracy\n",
    "            self.trial_counter = 0\n",
    "            torch.save(model, self.save_path)\n",
    "            return True\n",
    "        elif self.trial_counter + 1 < self.num_trials:\n",
    "            self.trial_counter += 1\n",
    "            return True\n",
    "        else:\n",
    "            return False"
   ]
  },
  {
   "cell_type": "markdown",
   "id": "2aba9ad3",
   "metadata": {
    "papermill": {
     "duration": 0.007627,
     "end_time": "2023-05-10T13:16:03.636669",
     "exception": false,
     "start_time": "2023-05-10T13:16:03.629042",
     "status": "completed"
    },
    "tags": []
   },
   "source": [
    "## Get the model"
   ]
  },
  {
   "cell_type": "code",
   "execution_count": 8,
   "id": "5d4c9b58",
   "metadata": {
    "execution": {
     "iopub.execute_input": "2023-05-10T13:16:03.654897Z",
     "iopub.status.busy": "2023-05-10T13:16:03.654248Z",
     "iopub.status.idle": "2023-05-10T13:16:03.659540Z",
     "shell.execute_reply": "2023-05-10T13:16:03.658658Z"
    },
    "papermill": {
     "duration": 0.017129,
     "end_time": "2023-05-10T13:16:03.661906",
     "exception": false,
     "start_time": "2023-05-10T13:16:03.644777",
     "status": "completed"
    },
    "tags": []
   },
   "outputs": [],
   "source": [
    "def get_model(dataset):\n",
    "    field_dims = dataset.field_dims\n",
    "    return FactorizationMachineModel(field_dims, embed_dim=64) "
   ]
  },
  {
   "cell_type": "markdown",
   "id": "d865fb41",
   "metadata": {
    "papermill": {
     "duration": 0.007688,
     "end_time": "2023-05-10T13:16:03.677833",
     "exception": false,
     "start_time": "2023-05-10T13:16:03.670145",
     "status": "completed"
    },
    "tags": []
   },
   "source": [
    "## Train"
   ]
  },
  {
   "cell_type": "code",
   "execution_count": 9,
   "id": "279c2105",
   "metadata": {
    "execution": {
     "iopub.execute_input": "2023-05-10T13:16:03.696377Z",
     "iopub.status.busy": "2023-05-10T13:16:03.695640Z",
     "iopub.status.idle": "2023-05-10T13:16:03.704805Z",
     "shell.execute_reply": "2023-05-10T13:16:03.703890Z"
    },
    "papermill": {
     "duration": 0.021601,
     "end_time": "2023-05-10T13:16:03.707308",
     "exception": false,
     "start_time": "2023-05-10T13:16:03.685707",
     "status": "completed"
    },
    "tags": []
   },
   "outputs": [],
   "source": [
    "def train(model, optimizer, data_loader, criterion, device, log_interval=100):\n",
    "    model.train()\n",
    "    total_loss = 0\n",
    "    av_loss = []\n",
    "    tk0 = tqdm.tqdm(data_loader, smoothing=0, mininterval=1.0)\n",
    "    for i, (fields, target) in enumerate(tk0):\n",
    "        fields, target = fields.to(device), target.to(device)\n",
    "        y = model(fields)\n",
    "        loss = criterion(y, target.float())\n",
    "        model.zero_grad()\n",
    "        loss.backward()\n",
    "        optimizer.step()\n",
    "        total_loss += loss.item()\n",
    "        if (i + 1) % log_interval == 0:\n",
    "            loss = total_loss / log_interval\n",
    "            av_loss.append(loss)\n",
    "            tk0.set_postfix(loss=loss)\n",
    "            total_loss = 0\n",
    "    return np.mean(av_loss)   "
   ]
  },
  {
   "cell_type": "markdown",
   "id": "122b7028",
   "metadata": {
    "papermill": {
     "duration": 0.007563,
     "end_time": "2023-05-10T13:16:03.722764",
     "exception": false,
     "start_time": "2023-05-10T13:16:03.715201",
     "status": "completed"
    },
    "tags": []
   },
   "source": [
    "## Test/validation"
   ]
  },
  {
   "cell_type": "code",
   "execution_count": 10,
   "id": "899e2d58",
   "metadata": {
    "execution": {
     "iopub.execute_input": "2023-05-10T13:16:03.740723Z",
     "iopub.status.busy": "2023-05-10T13:16:03.740091Z",
     "iopub.status.idle": "2023-05-10T13:16:03.747593Z",
     "shell.execute_reply": "2023-05-10T13:16:03.746500Z"
    },
    "papermill": {
     "duration": 0.019463,
     "end_time": "2023-05-10T13:16:03.750146",
     "exception": false,
     "start_time": "2023-05-10T13:16:03.730683",
     "status": "completed"
    },
    "tags": []
   },
   "outputs": [],
   "source": [
    "def test(model, data_loader, device):\n",
    "    model.eval()\n",
    "    targets, predicts = list(), list()\n",
    "    with torch.no_grad():\n",
    "        for fields, target in tqdm.tqdm(data_loader, smoothing=0, mininterval=1.0):\n",
    "            fields, target = fields.to(device), target.to(device)\n",
    "            y = model(fields)\n",
    "            targets.extend(target.tolist())\n",
    "            predicts.extend(y.tolist())\n",
    "    return 5.* mean_squared_error(targets, predicts)"
   ]
  },
  {
   "cell_type": "markdown",
   "id": "93b515c2",
   "metadata": {
    "papermill": {
     "duration": 0.007546,
     "end_time": "2023-05-10T13:16:03.765813",
     "exception": false,
     "start_time": "2023-05-10T13:16:03.758267",
     "status": "completed"
    },
    "tags": []
   },
   "source": [
    "# Settings"
   ]
  },
  {
   "cell_type": "code",
   "execution_count": 11,
   "id": "0774eec0",
   "metadata": {
    "execution": {
     "iopub.execute_input": "2023-05-10T13:16:03.784235Z",
     "iopub.status.busy": "2023-05-10T13:16:03.783382Z",
     "iopub.status.idle": "2023-05-10T13:16:03.789692Z",
     "shell.execute_reply": "2023-05-10T13:16:03.788686Z"
    },
    "papermill": {
     "duration": 0.018491,
     "end_time": "2023-05-10T13:16:03.792310",
     "exception": false,
     "start_time": "2023-05-10T13:16:03.773819",
     "status": "completed"
    },
    "tags": []
   },
   "outputs": [],
   "source": [
    "device_cpu = \"cpu\"\n",
    "learning_rate = 0.001\n",
    "weight_decay = 1e-4\n",
    "batch_size = 64\n",
    "epochs = 50\n",
    "model_name = \"DeepFM\"\n",
    "device = torch.device(device_cpu)"
   ]
  },
  {
   "cell_type": "markdown",
   "id": "050187b1",
   "metadata": {
    "papermill": {
     "duration": 0.007884,
     "end_time": "2023-05-10T13:16:03.808156",
     "exception": false,
     "start_time": "2023-05-10T13:16:03.800272",
     "status": "completed"
    },
    "tags": []
   },
   "source": [
    "# Prepare train, valid & test datasets"
   ]
  },
  {
   "cell_type": "code",
   "execution_count": 12,
   "id": "35d76a6f",
   "metadata": {
    "execution": {
     "iopub.execute_input": "2023-05-10T13:16:03.826006Z",
     "iopub.status.busy": "2023-05-10T13:16:03.825559Z",
     "iopub.status.idle": "2023-05-10T13:16:03.887521Z",
     "shell.execute_reply": "2023-05-10T13:16:03.886202Z"
    },
    "papermill": {
     "duration": 0.074285,
     "end_time": "2023-05-10T13:16:03.890389",
     "exception": false,
     "start_time": "2023-05-10T13:16:03.816104",
     "status": "completed"
    },
    "tags": []
   },
   "outputs": [],
   "source": [
    "dataset = get_dataset()\n",
    "train_length = int(len(dataset) * 0.8)\n",
    "valid_length = int(len(dataset) * 0.1)\n",
    "test_length = len(dataset) - train_length - valid_length\n",
    "\n",
    "train_dataset, valid_dataset, test_dataset = torch.utils.data.random_split(\n",
    "        dataset, (train_length, valid_length, test_length))\n",
    "\n",
    "train_data_loader = DataLoader(train_dataset, batch_size=batch_size, num_workers=4)\n",
    "valid_data_loader = DataLoader(valid_dataset, batch_size=batch_size, num_workers=4)\n",
    "test_data_loader = DataLoader(test_dataset, batch_size=batch_size, num_workers=4)"
   ]
  },
  {
   "cell_type": "markdown",
   "id": "80650477",
   "metadata": {
    "papermill": {
     "duration": 0.007672,
     "end_time": "2023-05-10T13:16:03.906359",
     "exception": false,
     "start_time": "2023-05-10T13:16:03.898687",
     "status": "completed"
    },
    "tags": []
   },
   "source": [
    "# Fit the model"
   ]
  },
  {
   "cell_type": "code",
   "execution_count": 13,
   "id": "af0da43e",
   "metadata": {
    "execution": {
     "iopub.execute_input": "2023-05-10T13:16:03.925093Z",
     "iopub.status.busy": "2023-05-10T13:16:03.924620Z",
     "iopub.status.idle": "2023-05-10T13:16:03.984745Z",
     "shell.execute_reply": "2023-05-10T13:16:03.983543Z"
    },
    "papermill": {
     "duration": 0.073072,
     "end_time": "2023-05-10T13:16:03.987542",
     "exception": false,
     "start_time": "2023-05-10T13:16:03.914470",
     "status": "completed"
    },
    "tags": []
   },
   "outputs": [],
   "source": [
    "model = get_model(dataset).to(device)\n",
    "criterion = torch.nn.BCELoss()\n",
    "optimizer = torch.optim.Adam(params=model.parameters(), lr=learning_rate, weight_decay=weight_decay)\n",
    "early_stopper = EarlyStopper(num_trials=5, save_path=f'{model_name}.pt')"
   ]
  },
  {
   "cell_type": "code",
   "execution_count": 14,
   "id": "48296cd2",
   "metadata": {
    "execution": {
     "iopub.execute_input": "2023-05-10T13:16:04.006103Z",
     "iopub.status.busy": "2023-05-10T13:16:04.005668Z",
     "iopub.status.idle": "2023-05-10T13:17:20.207158Z",
     "shell.execute_reply": "2023-05-10T13:17:20.205212Z"
    },
    "papermill": {
     "duration": 76.215084,
     "end_time": "2023-05-10T13:17:20.210952",
     "exception": false,
     "start_time": "2023-05-10T13:16:03.995868",
     "status": "completed"
    },
    "tags": []
   },
   "outputs": [
    {
     "name": "stderr",
     "output_type": "stream",
     "text": [
      "100%|██████████| 1250/1250 [00:06<00:00, 194.68it/s, loss=0.654]\n",
      "100%|██████████| 157/157 [00:00<00:00, 301.26it/s]\n"
     ]
    },
    {
     "name": "stdout",
     "output_type": "stream",
     "text": [
      "epoch: 1 validation: mae: 0.32985866755723686\n"
     ]
    },
    {
     "name": "stderr",
     "output_type": "stream",
     "text": [
      "100%|██████████| 1250/1250 [00:03<00:00, 315.91it/s]\n"
     ]
    },
    {
     "name": "stdout",
     "output_type": "stream",
     "text": [
      "train mae: 0.3275863945776202\n"
     ]
    },
    {
     "name": "stderr",
     "output_type": "stream",
     "text": [
      "100%|██████████| 157/157 [00:00<00:00, 257.37it/s]\n"
     ]
    },
    {
     "name": "stdout",
     "output_type": "stream",
     "text": [
      "test mae: 0.3334513200082826\n"
     ]
    },
    {
     "name": "stderr",
     "output_type": "stream",
     "text": [
      "100%|██████████| 1250/1250 [00:07<00:00, 174.22it/s, loss=0.612]\n",
      "100%|██████████| 157/157 [00:00<00:00, 260.17it/s]\n"
     ]
    },
    {
     "name": "stdout",
     "output_type": "stream",
     "text": [
      "epoch: 2 validation: mae: 0.26400352290583956\n"
     ]
    },
    {
     "name": "stderr",
     "output_type": "stream",
     "text": [
      "100%|██████████| 1250/1250 [00:04<00:00, 291.41it/s]\n"
     ]
    },
    {
     "name": "stdout",
     "output_type": "stream",
     "text": [
      "train mae: 0.2594260134262632\n"
     ]
    },
    {
     "name": "stderr",
     "output_type": "stream",
     "text": [
      "100%|██████████| 157/157 [00:00<00:00, 277.32it/s]\n"
     ]
    },
    {
     "name": "stdout",
     "output_type": "stream",
     "text": [
      "test mae: 0.2672592408897484\n"
     ]
    },
    {
     "name": "stderr",
     "output_type": "stream",
     "text": [
      "100%|██████████| 1250/1250 [00:07<00:00, 174.42it/s, loss=0.595]\n",
      "100%|██████████| 157/157 [00:00<00:00, 225.23it/s]\n"
     ]
    },
    {
     "name": "stdout",
     "output_type": "stream",
     "text": [
      "epoch: 3 validation: mae: 0.23364360995242273\n"
     ]
    },
    {
     "name": "stderr",
     "output_type": "stream",
     "text": [
      "100%|██████████| 1250/1250 [00:04<00:00, 255.25it/s]\n"
     ]
    },
    {
     "name": "stdout",
     "output_type": "stream",
     "text": [
      "train mae: 0.22835877301845722\n"
     ]
    },
    {
     "name": "stderr",
     "output_type": "stream",
     "text": [
      "100%|██████████| 157/157 [00:00<00:00, 234.35it/s]\n"
     ]
    },
    {
     "name": "stdout",
     "output_type": "stream",
     "text": [
      "test mae: 0.23562384958556545\n"
     ]
    },
    {
     "name": "stderr",
     "output_type": "stream",
     "text": [
      "100%|██████████| 1250/1250 [00:07<00:00, 160.22it/s, loss=0.586]\n",
      "100%|██████████| 157/157 [00:00<00:00, 253.58it/s]\n"
     ]
    },
    {
     "name": "stdout",
     "output_type": "stream",
     "text": [
      "epoch: 4 validation: mae: 0.21689995732603534\n"
     ]
    },
    {
     "name": "stderr",
     "output_type": "stream",
     "text": [
      "100%|██████████| 1250/1250 [00:03<00:00, 315.12it/s]\n"
     ]
    },
    {
     "name": "stdout",
     "output_type": "stream",
     "text": [
      "train mae: 0.2118933125852595\n"
     ]
    },
    {
     "name": "stderr",
     "output_type": "stream",
     "text": [
      "100%|██████████| 157/157 [00:00<00:00, 266.54it/s]\n"
     ]
    },
    {
     "name": "stdout",
     "output_type": "stream",
     "text": [
      "test mae: 0.2175644917368147\n"
     ]
    },
    {
     "name": "stderr",
     "output_type": "stream",
     "text": [
      "100%|██████████| 1250/1250 [00:06<00:00, 188.81it/s, loss=0.58]\n",
      "100%|██████████| 157/157 [00:00<00:00, 247.16it/s]\n"
     ]
    },
    {
     "name": "stdout",
     "output_type": "stream",
     "text": [
      "epoch: 5 validation: mae: 0.20575839348002822\n"
     ]
    },
    {
     "name": "stderr",
     "output_type": "stream",
     "text": [
      "100%|██████████| 1250/1250 [00:04<00:00, 302.22it/s]\n"
     ]
    },
    {
     "name": "stdout",
     "output_type": "stream",
     "text": [
      "train mae: 0.20139144620804483\n"
     ]
    },
    {
     "name": "stderr",
     "output_type": "stream",
     "text": [
      "100%|██████████| 157/157 [00:00<00:00, 230.18it/s]\n"
     ]
    },
    {
     "name": "stdout",
     "output_type": "stream",
     "text": [
      "test mae: 0.20530690191334428\n"
     ]
    },
    {
     "name": "stderr",
     "output_type": "stream",
     "text": [
      "100%|██████████| 1250/1250 [00:06<00:00, 179.03it/s, loss=0.576]\n",
      "100%|██████████| 157/157 [00:00<00:00, 251.15it/s]\n"
     ]
    },
    {
     "name": "stdout",
     "output_type": "stream",
     "text": [
      "epoch: 6 validation: mae: 0.19782160688204165\n"
     ]
    },
    {
     "name": "stderr",
     "output_type": "stream",
     "text": [
      "100%|██████████| 1250/1250 [00:04<00:00, 260.78it/s]\n"
     ]
    },
    {
     "name": "stdout",
     "output_type": "stream",
     "text": [
      "train mae: 0.19397487606151853\n"
     ]
    },
    {
     "name": "stderr",
     "output_type": "stream",
     "text": [
      "100%|██████████| 157/157 [00:00<00:00, 209.12it/s]"
     ]
    },
    {
     "name": "stdout",
     "output_type": "stream",
     "text": [
      "test mae: 0.1966853844741729\n",
      "validation: best mae: 0.32985866755723686\n"
     ]
    },
    {
     "name": "stderr",
     "output_type": "stream",
     "text": [
      "\n"
     ]
    }
   ],
   "source": [
    "metric_values = []\n",
    "loss_values = []\n",
    "\n",
    "for epoch_i in range(epochs):\n",
    "    loss = train(model, optimizer, train_data_loader, criterion, device)\n",
    "    loss_values.append((epoch_i, loss))\n",
    "    \n",
    "    metric_valid = test(model, valid_data_loader, device)\n",
    "    print('epoch:', epoch_i + 1, 'validation: mae:', metric_valid)\n",
    "    \n",
    "    metric_train = test(model, train_data_loader, device)\n",
    "    print('train mae:', metric_train)\n",
    "    \n",
    "    metric_test = test(model, test_data_loader, device)\n",
    "    print(f'test mae: {metric_test}')\n",
    "    \n",
    "    if not early_stopper.is_continuable(model, metric_valid):\n",
    "        print(f'validation: best mae: {early_stopper.best_accuracy}')\n",
    "        break\n",
    "\n",
    "    \n",
    "    metric_values.append((epoch_i, metric_train, metric_valid, metric_test))"
   ]
  },
  {
   "cell_type": "code",
   "execution_count": 15,
   "id": "c626362d",
   "metadata": {
    "execution": {
     "iopub.execute_input": "2023-05-10T13:17:20.278448Z",
     "iopub.status.busy": "2023-05-10T13:17:20.276749Z",
     "iopub.status.idle": "2023-05-10T13:17:20.901573Z",
     "shell.execute_reply": "2023-05-10T13:17:20.898532Z"
    },
    "papermill": {
     "duration": 0.662167,
     "end_time": "2023-05-10T13:17:20.905191",
     "exception": false,
     "start_time": "2023-05-10T13:17:20.243024",
     "status": "completed"
    },
    "tags": []
   },
   "outputs": [
    {
     "data": {
      "image/png": "[encoded data removed]",
      "text/plain": [
       "<Figure size 800x400 with 2 Axes>"
      ]
     },
     "metadata": {},
     "output_type": "display_data"
    }
   ],
   "source": [
    "from matplotlib import pyplot as plt\n",
    "metric_values = np.array(metric_values)\n",
    "loss_values = [x[1] for x in loss_values]\n",
    "f, ax = plt.subplots(1,2, figsize=(8,4))\n",
    "ax[0].plot(loss_values, label=\"train loss\")\n",
    "ax[0].legend()\n",
    "ax[0].grid(linestyle=\"--\",which=\"major\")\n",
    "\n",
    "ax[1].plot(metric_values[:, 1], label=\"train mae\")\n",
    "ax[1].plot(metric_values[:, 2], label=\"validation mae\")\n",
    "ax[1].plot(metric_values[:, 3], label=\"test mae\")\n",
    "ax[1].legend()\n",
    "ax[1].grid(linestyle=\"--\",which=\"major\")\n",
    "plt.suptitle(\"Train loss & Train/Validation/Test mae\")\n",
    "plt.show()"
   ]
  }
 ],
 "metadata": {
  "kernelspec": {
   "display_name": "Python 3",
   "language": "python",
   "name": "python3"
  },
  "language_info": {
   "codemirror_mode": {
    "name": "ipython",
    "version": 3
   },
   "file_extension": ".py",
   "mimetype": "text/x-python",
   "name": "python",
   "nbconvert_exporter": "python",
   "pygments_lexer": "ipython3",
   "version": "3.10.10"
  },
  "papermill": {
   "default_parameters": {},
   "duration": 104.666887,
   "end_time": "2023-05-10T13:17:22.867722",
   "environment_variables": {},
   "exception": null,
   "input_path": "__notebook__.ipynb",
   "output_path": "__notebook__.ipynb",
   "parameters": {},
   "start_time": "2023-05-10T13:15:38.200835",
   "version": "2.4.0"
  }
 },
 "nbformat": 4,
 "nbformat_minor": 5
}
