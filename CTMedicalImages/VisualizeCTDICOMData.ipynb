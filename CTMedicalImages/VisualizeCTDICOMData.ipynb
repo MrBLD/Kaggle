{
  "cells": [
    {
      "metadata": {
        "_uuid": "b9f8df29abcd23aa9dad24ab83b0c5d945510ac1"
      },
      "cell_type": "markdown",
      "source": "<h1><center><font size=\"6\">Visualize CT DICOM Data</font></center></h1>\n\n<img src=\"https://kaggle2.blob.core.windows.net/datasets-images/1012/1826/dcf783d7dd5f628dccb49111ade64649/dataset-card.jpg\" width=400></img>  \n\n# <a id='0'>Content</a>\n\n- <a href='#1'>Introduction</a>  \n- <a href='#2'>Load packages</a>  \n- <a href='#3'>Read the data</a> \n    - <a href='#31'>Read overview data</a> \n    - <a href='#32'>Read TIFF data</a> \n    - <a href='#33'>Read DICOM data</a>  \n- <a href='#4'>Data exploration</a>\n    - <a href='#41'>Check data consistency</a> \n    - <a href='#42'>Show TIFF images</a> \n    - <a href='#43'>Show DICOM data</a> \n- <a href='#7'>Conclusions</a>\n- <a href='#8'>References</a>"
    },
    {
      "metadata": {
        "_uuid": "81bd6f76112c3c1367e83675e32c9edb7643b592"
      },
      "cell_type": "markdown",
      "source": "# <a id=\"1\">Introduction<a/>\n\n## Overview  \n\nThe dataset is designed to allow for different methods to be tested for examining the trends in CT image data associated with using contrast and patient age. The basic idea is to identify image textures, statistical patterns and features correlating strongly with these traits and possibly build simple tools for automatically classifying these images when they have been misclassified (or finding outliers which could be suspicious cases, bad measurements, or poorly calibrated machines)\n\n## Data\nThe data are a tiny subset of images from the cancer imaging archive. They consist of the middle slice of all CT images taken where valid age, modality, and contrast tags could be found.   TCIA Archive Link - https://wiki.cancerimagingarchive.net/display/Public/TCGA-LUAD"
    },
    {
      "metadata": {
        "_uuid": "a7c6bc4073084998e31a0883afab0df9bad9c002"
      },
      "cell_type": "markdown",
      "source": "# <a id=\"2\">Load packages</a>\n\nWe will load the packages for showing tiff images and dicom data.   \nFor dicom data, we are loading the **dicom** and **dicom_numpy** packages.   \n"
    },
    {
      "metadata": {
        "_uuid": "8f2839f25d086af736a60e9eeb907d3b93b6e0e5",
        "_cell_guid": "b1076dfc-b9ad-4769-8c92-a6c4dae69d19",
        "trusted": true
      },
      "cell_type": "code",
      "source": "import numpy as np\nimport pandas as pd\nfrom skimage.io import imread\nimport seaborn as sns\nimport matplotlib.pyplot as plt\nfrom glob import glob\nimport dicom #for processing dicom files\nimport dicom_numpy  #for processing dicom files\n\nimport os\nPATH=\"../input/\"\nprint(os.listdir(PATH))",
      "execution_count": 1,
      "outputs": [
        {
          "output_type": "stream",
          "text": "['tiff_images', 'overview.csv', 'dicom_dir', 'full_archive.npz']\n",
          "name": "stdout"
        },
        {
          "output_type": "stream",
          "text": "/opt/conda/lib/python3.6/site-packages/dicom/__init__.py:53: UserWarning: \nThis code is using an older version of pydicom, which is no longer \nmaintained as of Jan 2017.  You can access the new pydicom features and API \nby installing `pydicom` from PyPI.\nSee 'Transitioning to pydicom 1.x' section at pydicom.readthedocs.org \nfor more information.\n\n  warnings.warn(msg)\n",
          "name": "stderr"
        }
      ]
    },
    {
      "metadata": {
        "_uuid": "fad2807533840c0d8e4c7aa93769ef61a7e26a20"
      },
      "cell_type": "markdown",
      "source": "# <a id=\"3\">Read the data</a>\n\n\n## <a id=\"31\">Read overview data</a>"
    },
    {
      "metadata": {
        "trusted": true,
        "_uuid": "99cc4adae372b63b0064a83de84d994489fce161"
      },
      "cell_type": "code",
      "source": "data_df = pd.read_csv(PATH+\"/overview.csv\")",
      "execution_count": 2,
      "outputs": []
    },
    {
      "metadata": {
        "trusted": true,
        "_uuid": "92a4b5b411f3d744878b0ab810f8eaa22eedef57"
      },
      "cell_type": "code",
      "source": "print(\"CT Medical images -  rows:\",data_df.shape[0],\" columns:\", data_df.shape[1])",
      "execution_count": 3,
      "outputs": [
        {
          "output_type": "stream",
          "text": "CT Medical images -  rows: 100  columns: 8\n",
          "name": "stdout"
        }
      ]
    },
    {
      "metadata": {
        "trusted": true,
        "_uuid": "dea7f67191f42c0d510544ad80e98ff4607019e7"
      },
      "cell_type": "code",
      "source": "data_df.head()",
      "execution_count": 4,
      "outputs": [
        {
          "output_type": "execute_result",
          "execution_count": 4,
          "data": {
            "text/plain": "   Unnamed: 0                 ...                                          dicom_name\n0           0                 ...                  ID_0000_AGE_0060_CONTRAST_1_CT.dcm\n1           1                 ...                  ID_0001_AGE_0069_CONTRAST_1_CT.dcm\n2           2                 ...                  ID_0002_AGE_0074_CONTRAST_1_CT.dcm\n3           3                 ...                  ID_0003_AGE_0075_CONTRAST_1_CT.dcm\n4           4                 ...                  ID_0004_AGE_0056_CONTRAST_1_CT.dcm\n\n[5 rows x 8 columns]",
            "text/html": "<div>\n<style scoped>\n    .dataframe tbody tr th:only-of-type {\n        vertical-align: middle;\n    }\n\n    .dataframe tbody tr th {\n        vertical-align: top;\n    }\n\n    .dataframe thead th {\n        text-align: right;\n    }\n</style>\n<table border=\"1\" class=\"dataframe\">\n  <thead>\n    <tr style=\"text-align: right;\">\n      <th></th>\n      <th>Unnamed: 0</th>\n      <th>Age</th>\n      <th>Contrast</th>\n      <th>ContrastTag</th>\n      <th>raw_input_path</th>\n      <th>id</th>\n      <th>tiff_name</th>\n      <th>dicom_name</th>\n    </tr>\n  </thead>\n  <tbody>\n    <tr>\n      <th>0</th>\n      <td>0</td>\n      <td>60</td>\n      <td>True</td>\n      <td>NONE</td>\n      <td>../data/50_50_dicom_cases\\Contrast\\00001 (1).dcm</td>\n      <td>0</td>\n      <td>ID_0000_AGE_0060_CONTRAST_1_CT.tif</td>\n      <td>ID_0000_AGE_0060_CONTRAST_1_CT.dcm</td>\n    </tr>\n    <tr>\n      <th>1</th>\n      <td>1</td>\n      <td>69</td>\n      <td>True</td>\n      <td>NONE</td>\n      <td>../data/50_50_dicom_cases\\Contrast\\00001 (10).dcm</td>\n      <td>1</td>\n      <td>ID_0001_AGE_0069_CONTRAST_1_CT.tif</td>\n      <td>ID_0001_AGE_0069_CONTRAST_1_CT.dcm</td>\n    </tr>\n    <tr>\n      <th>2</th>\n      <td>2</td>\n      <td>74</td>\n      <td>True</td>\n      <td>APPLIED</td>\n      <td>../data/50_50_dicom_cases\\Contrast\\00001 (11).dcm</td>\n      <td>2</td>\n      <td>ID_0002_AGE_0074_CONTRAST_1_CT.tif</td>\n      <td>ID_0002_AGE_0074_CONTRAST_1_CT.dcm</td>\n    </tr>\n    <tr>\n      <th>3</th>\n      <td>3</td>\n      <td>75</td>\n      <td>True</td>\n      <td>NONE</td>\n      <td>../data/50_50_dicom_cases\\Contrast\\00001 (12).dcm</td>\n      <td>3</td>\n      <td>ID_0003_AGE_0075_CONTRAST_1_CT.tif</td>\n      <td>ID_0003_AGE_0075_CONTRAST_1_CT.dcm</td>\n    </tr>\n    <tr>\n      <th>4</th>\n      <td>4</td>\n      <td>56</td>\n      <td>True</td>\n      <td>NONE</td>\n      <td>../data/50_50_dicom_cases\\Contrast\\00001 (13).dcm</td>\n      <td>4</td>\n      <td>ID_0004_AGE_0056_CONTRAST_1_CT.tif</td>\n      <td>ID_0004_AGE_0056_CONTRAST_1_CT.dcm</td>\n    </tr>\n  </tbody>\n</table>\n</div>"
          },
          "metadata": {}
        }
      ]
    },
    {
      "metadata": {
        "_uuid": "b54b42b1427e881ddca331c0847ed0aa9531401e"
      },
      "cell_type": "markdown",
      "source": "## <a id=\"32\">Read TIFF data</a>"
    },
    {
      "metadata": {
        "_cell_guid": "79c7e3d0-c299-4dcb-8224-4455121ee9b0",
        "_uuid": "d629ff2d2480ee46fbb7e2d37f6b5fab8052498a",
        "trusted": true
      },
      "cell_type": "code",
      "source": "print(\"Number of TIFF images:\", len(os.listdir(\"../input/tiff_images\")))",
      "execution_count": null,
      "outputs": []
    },
    {
      "metadata": {
        "trusted": true,
        "_uuid": "a397725cf867215d9172b3fe1aebe0b66659975b"
      },
      "cell_type": "code",
      "source": "tiff_data = pd.DataFrame([{'path': filepath} for filepath in glob('../input/tiff_images/*.tif')])",
      "execution_count": null,
      "outputs": []
    },
    {
      "metadata": {
        "_uuid": "8ec5d46d1b1c984889e6c926899b4dce4173ef52"
      },
      "cell_type": "markdown",
      "source": "### Process TIFF data"
    },
    {
      "metadata": {
        "trusted": true,
        "_uuid": "4c9ddfb0e0a0cda609b6087a934ea3f9d5220a0b"
      },
      "cell_type": "code",
      "source": "def process_data(path):\n    data = pd.DataFrame([{'path': filepath} for filepath in glob(PATH+path)])\n    data['file'] = data['path'].map(os.path.basename)\n    data['ID'] = data['file'].map(lambda x: str(x.split('_')[1]))\n    data['Age'] = data['file'].map(lambda x: int(x.split('_')[3]))\n    data['Contrast'] = data['file'].map(lambda x: bool(int(x.split('_')[5])))\n    data['Modality'] = data['file'].map(lambda x: str(x.split('_')[6].split('.')[-2]))\n    return data",
      "execution_count": null,
      "outputs": []
    },
    {
      "metadata": {
        "trusted": true,
        "_uuid": "655b6c6d44703ec2ae83b899271bde10bccea14b"
      },
      "cell_type": "code",
      "source": "tiff_data = process_data('tiff_images/*.tif')",
      "execution_count": null,
      "outputs": []
    },
    {
      "metadata": {
        "_uuid": "fd3ebdb1822ae76cc6901d887ce55d3d001f9b4b"
      },
      "cell_type": "markdown",
      "source": "### Check TIFF data\n\nLet's check the TIFF data"
    },
    {
      "metadata": {
        "trusted": true,
        "_uuid": "18a906fd2440fd8b11f7f828da4be9e23c59dc49"
      },
      "cell_type": "code",
      "source": "tiff_data.head(10)",
      "execution_count": null,
      "outputs": []
    },
    {
      "metadata": {
        "_uuid": "74931f4ba46dc70eb29862b1fc206c2f657306bf"
      },
      "cell_type": "markdown",
      "source": "## <a id=\"33\">Read DICOM data</a>"
    },
    {
      "metadata": {
        "trusted": true,
        "_uuid": "17b97db593f7c39de49115fea4fe1a1aa13e7e6e"
      },
      "cell_type": "code",
      "source": "print(\"Number of DICOM files:\", len(os.listdir(PATH+\"dicom_dir\")))",
      "execution_count": null,
      "outputs": []
    },
    {
      "metadata": {
        "_uuid": "c302c90e2056602d5e716c77adaba01bb935c62e"
      },
      "cell_type": "markdown",
      "source": "### Process DICOM data"
    },
    {
      "metadata": {
        "trusted": true,
        "_uuid": "fbed1950b89597e71c87e04acee19f08d33e221d"
      },
      "cell_type": "code",
      "source": "dicom_data = process_data('dicom_dir/*.dcm')",
      "execution_count": null,
      "outputs": []
    },
    {
      "metadata": {
        "_uuid": "f3e06cea13faeb2f6ef6e658dad16cfc19eff36d"
      },
      "cell_type": "markdown",
      "source": "### Check DICOM data"
    },
    {
      "metadata": {
        "trusted": true,
        "_uuid": "c104d588cc4f168069fefb93f338e4e2ea026e00"
      },
      "cell_type": "code",
      "source": "dicom_data.head(10)",
      "execution_count": null,
      "outputs": []
    },
    {
      "metadata": {
        "_uuid": "eff59c4fbf9e6434c7f8479af8765ddc602d832c"
      },
      "cell_type": "markdown",
      "source": "# <a id=\"4\">Data exploration</a>"
    },
    {
      "metadata": {
        "_uuid": "df6c63ebefbf737dbd53ae7b75973e5a4dc45c4d"
      },
      "cell_type": "markdown",
      "source": "## <a id=\"41\">Check data consistency</a>\n\nLet's verify if the content in overview.csv is consistent with the data in tiff_images folder."
    },
    {
      "metadata": {
        "trusted": true,
        "_uuid": "dce0621635cf75a3e01c06dbc7d0fc133768b9e5"
      },
      "cell_type": "code",
      "source": "def countplot_comparison(feature):\n    fig, (ax1, ax2, ax3) = plt.subplots(1,3, figsize = (16, 4))\n    s1 = sns.countplot(data_df[feature], ax=ax1)\n    s1.set_title(\"Overview data\")\n    s2 = sns.countplot(tiff_data[feature], ax=ax2)\n    s2.set_title(\"Tiff files data\")\n    s3 = sns.countplot(dicom_data[feature], ax=ax3)\n    s3.set_title(\"Dicom files data\")",
      "execution_count": null,
      "outputs": []
    },
    {
      "metadata": {
        "trusted": true,
        "_uuid": "7f7f7af0073ddadc81482a5982f271978f062a84"
      },
      "cell_type": "code",
      "source": "countplot_comparison('Contrast')",
      "execution_count": null,
      "outputs": []
    },
    {
      "metadata": {
        "trusted": true,
        "_uuid": "7be28c8e3d770cfd530331646bd3b2504e448060"
      },
      "cell_type": "code",
      "source": "countplot_comparison('Age')",
      "execution_count": null,
      "outputs": []
    },
    {
      "metadata": {
        "_uuid": "95da140198f7f7d68e63282dcb323405bfdceae0"
      },
      "cell_type": "markdown",
      "source": "The values in the 3 data sources are consistent."
    },
    {
      "metadata": {
        "_uuid": "d0f1669448a61b36bd31f514918011678359a313"
      },
      "cell_type": "markdown",
      "source": "## <a id=\"42\">Show TIFF images</a>\n\nWe will show a subsample of 16 images from the total of 100 images.     \nWe will select the first 16 images from the data set.   \nWe will use grayscale.   \nWe define here a generic function to represent both TIFF images and DICOM images."
    },
    {
      "metadata": {
        "trusted": true,
        "_uuid": "008814c48075cfd0f63a21f2c7f53992dfa61184"
      },
      "cell_type": "code",
      "source": "def show_images(data, dim=16, imtype='TIFF'):\n    img_data = list(data[:dim].T.to_dict().values())\n    f, ax = plt.subplots(4,4, figsize=(16,20))\n    for i,data_row in enumerate(img_data):\n        if(imtype=='TIFF'): \n            data_row_img = imread(data_row['path'])\n        elif(imtype=='DICOM'):\n            data_row_img = dicom.read_file(data_row['path'])\n        if(imtype=='TIFF'):\n            ax[i//4, i%4].matshow(data_row_img,cmap='gray')\n        elif(imtype=='DICOM'):\n            ax[i//4, i%4].imshow(data_row_img.pixel_array, cmap=plt.cm.bone) \n        ax[i//4, i%4].axis('off')\n        ax[i//4, i%4].set_title('Modality: {Modality} Age: {Age}\\nSlice: {ID} Contrast: {Contrast}'.format(**data_row))\n    plt.show()\n",
      "execution_count": null,
      "outputs": []
    },
    {
      "metadata": {
        "_uuid": "7161716fcb5a0c8fa63170f66b1b20e40ae34c82"
      },
      "cell_type": "markdown",
      "source": "We apply the function to show TIFF images."
    },
    {
      "metadata": {
        "trusted": true,
        "_uuid": "471c1ae53afe689f4a3901e5a86a6692a2fde927"
      },
      "cell_type": "code",
      "source": "show_images(tiff_data,16,'TIFF')",
      "execution_count": null,
      "outputs": []
    },
    {
      "metadata": {
        "_uuid": "b6187cb30c4d1a049eb7683f69bcac6aa73daa14"
      },
      "cell_type": "markdown",
      "source": "## <a id=\"43\">Show DICOM data</a>\n\nWe will show a subsample of 16 images from the total of 100 images.   \nWe will use grayscale.   \nIdeally, if the DICOM images would be a set of slices from a single examen, they could be aggregated using a function like the one shown here: extract_voxel_data - which read the DICOM slices (each in a separate file) and aggregate the image data in a 3D voxel tensor. This will not be the case here, because we are storing slices from different patients and exams (one slice / exam / patient)."
    },
    {
      "metadata": {
        "_uuid": "231c224e3c4f6f776bd0448977453c3d177b90e9"
      },
      "cell_type": "markdown",
      "source": "    # extract voxel data  \n    def extract_voxel_data(list_of_dicom_files):  \n        datasets = [dicom.read_file(f) for f in list_of_dicom_files]  \n         try:  \n             voxel_ndarray, ijk_to_xyz = dicom_numpy.combine_slices(datasets)  \n         except dicom_numpy.DicomImportException as e:  \n         # invalid DICOM data  \n             raise  \n         return voxel_ndarray  "
    },
    {
      "metadata": {
        "trusted": true,
        "_uuid": "d54d5f543553815cf7547f93ff9b72bbad62e0fb"
      },
      "cell_type": "code",
      "source": "show_images(dicom_data,16,'DICOM')",
      "execution_count": null,
      "outputs": []
    },
    {
      "metadata": {
        "_uuid": "b566b5155bc13acb80cf9bb5a98cca3812e30350"
      },
      "cell_type": "markdown",
      "source": "### More about DICOM data\n\nA DICOM file containg much more information than the image itself that we represented. Let's glimpse, for one of the DICOM files, this information. We will read the first dicom file only and show this information."
    },
    {
      "metadata": {
        "trusted": true,
        "_uuid": "2f81a632edc6041b7848de4fc3e121c868ae50a9"
      },
      "cell_type": "code",
      "source": "dicom_file_path = list(dicom_data[:1].T.to_dict().values())[0]['path']\ndicom_file_dataset = dicom.read_file(dicom_file_path)\ndicom_file_dataset",
      "execution_count": null,
      "outputs": []
    },
    {
      "metadata": {
        "_uuid": "c1f0f8e97375826971e90e9992dd10537076007b"
      },
      "cell_type": "markdown",
      "source": "We can extract various fields from the DICOM FileDataset. Here are few examples:  \n* Modality  \n* Manufacturer\n* Patient Age  \n* Patient Sex\n* Patient Name  \n* Patient ID\n\n"
    },
    {
      "metadata": {
        "_uuid": "982aebedb0a999a7145c82133bd28b40f45ead6f",
        "trusted": true
      },
      "cell_type": "code",
      "source": "print(\"Modality: {}\\nManufacturer: {}\\nPatient Age: {}\\nPatient Sex: {}\\nPatient Name: {}\\nPatient ID: {}\".format(\n    dicom_file_dataset.Modality, \n    dicom_file_dataset.Manufacturer,\n    dicom_file_dataset.PatientAge,\n    dicom_file_dataset.PatientSex,\n    dicom_file_dataset.PatientName,\n    dicom_file_dataset.PatientID))",
      "execution_count": null,
      "outputs": []
    },
    {
      "metadata": {
        "_uuid": "1b4ae840c59ee37b70327c6fcb3936e695c6da51"
      },
      "cell_type": "markdown",
      "source": "Some of the information are anonymized (like Name and ID), which is common standard for public medical data.   \n\nWe will modify the visualization function, to show parameters from the DICOM data instead of the parameters extracted from the image name.  \n\n"
    },
    {
      "metadata": {
        "trusted": true,
        "_uuid": "019e702909b3d07aa94e1bcd400fd518383398fa"
      },
      "cell_type": "code",
      "source": "def show_dicom_images(data):\n    img_data = list(data[:16].T.to_dict().values())\n    f, ax = plt.subplots(4,4, figsize=(16,20))\n    for i,data_row in enumerate(img_data):\n\n        data_row_img = dicom.read_file(data_row['path'])\n        modality = data_row_img.Modality\n        age = data_row_img.PatientAge\n        \n        ax[i//4, i%4].imshow(data_row_img.pixel_array, cmap=plt.cm.bone) \n        ax[i//4, i%4].axis('off')\n        ax[i//4, i%4].set_title('Modality: {} Age: {}\\nSlice: {} Contrast: {}'.format(\n         modality, age, data_row['ID'], data_row['Contrast']))\n    plt.show()\n",
      "execution_count": null,
      "outputs": []
    },
    {
      "metadata": {
        "trusted": true,
        "_uuid": "49039555157f3e359e9486b28edb4f22c52c4a3b"
      },
      "cell_type": "code",
      "source": "show_dicom_images(dicom_data)",
      "execution_count": null,
      "outputs": []
    },
    {
      "metadata": {
        "_uuid": "2aa86f986af4707b3bbbceae7d4965c55eb2180b"
      },
      "cell_type": "markdown",
      "source": "# Conclusion\n\nWe demonstrated how we can load and show **TIFF** images.  \nAs well, using **dicom** and **dicom-numpy** packages, we demonstrated how to read and visualize **DICOM** data.  \nWe also explored preliminary the content of a DICOM data file and modified the visualization function to use (partially) DICOM data for the image attributes.\n"
    },
    {
      "metadata": {
        "_uuid": "eaabc61e090354de36dc99f32deee4cc28d460c4"
      },
      "cell_type": "markdown",
      "source": "# References\n\n[1] <a href=\"https://www.kaggle.com/kmader\">Kevin Mader</a>,  <a href=\"https://www.kaggle.com/kmader/show-the-data-in-the-zip-file\">Show the data in the Zip File</a>    \n[2] <a href=\"https://www.kaggle.com/byrachonok\">Vitaly Byrachonok</a>,  <a href=\"https://www.kaggle.com/byrachonok/study-ct-medical-images\">Study CT Medical Images</a>    \n[3] Python package for processing DICOM data, dicom-numpy, https://dicom-numpy.readthedocs.io     \n[4] Viewing DICOM images in Python, https://pydicom.github.io/pydicom/stable/viewing_images.html   \n\n\n"
    },
    {
      "metadata": {
        "_uuid": "6b0871c4e9fe941047f3d76d13009fa16ccbba36"
      },
      "cell_type": "markdown",
      "source": ""
    }
  ],
  "metadata": {
    "kernelspec": {
      "display_name": "Python 3",
      "language": "python",
      "name": "python3"
    },
    "language_info": {
      "name": "python",
      "version": "3.6.6",
      "mimetype": "text/x-python",
      "codemirror_mode": {
        "name": "ipython",
        "version": 3
      },
      "pygments_lexer": "ipython3",
      "nbconvert_exporter": "python",
      "file_extension": ".py"
    }
  },
  "nbformat": 4,
  "nbformat_minor": 1
}