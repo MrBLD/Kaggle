{
 "cells": [
  {
   "cell_type": "markdown",
   "metadata": {
    "_uuid": "805a97911f01abb36ff8414d8d6aec9293e4fb85"
   },
   "source": [
    "<h1><center><font size=\"6\">CNN with Keras for Fashion MNIST</font></center></h1>\n",
    "\n",
    "\n",
    "<img src=\"https://kaggle2.blob.core.windows.net/datasets-images/2243/3791/9384af51de8baa77f6320901f53bd26b/dataset-card.png\" width=\"400\"></img>\n",
    "\n",
    "\n",
    "# <a id='0'>Content</a>\n",
    "\n",
    "- <a href='#1'>Introduction</a>  \n",
    "- <a href='#2'>Load packages</a>  \n",
    "- <a href='#3'>Read and prepare the data</a>  \n",
    "- <a href='#4'>Data exploration</a>\n",
    "- <a href='#5'>Prepare the model</a>  \n",
    "- <a href='#6'>Prediction accuracy</a>  \n",
    "- <a href='#7'>Conclusions</a>\n",
    "- <a href='#8'>References</a>"
   ]
  },
  {
   "cell_type": "markdown",
   "metadata": {
    "_uuid": "1b1c16628c2f62a18e1dc2068e1d67d7003922b1"
   },
   "source": [
    "# <a id=\"1\">Introduction</a>  \n",
    "\n",
    "\n",
    "## Dataset\n",
    "\n",
    "Fashion-MNIST is a dataset of Zalando's article images—consisting of a training set of 60,000 examples and a test set of 10,000 examples. Each example is a 28x28 grayscale image, associated with a label from 10 classes. Zalando intends Fashion-MNIST to serve as a direct drop-in replacement for the original MNIST dataset for benchmarking machine learning algorithms. It shares the same image size and structure of training and testing splits.\n",
    "\n",
    "\n",
    "## Content\n",
    "\n",
    "Each image is 28 pixels in height and 28 pixels in width, for a total of 784 pixels in total.   \n",
    "\n",
    "Each pixel has a single pixel-value associated with it, indicating the lightness or darkness of that pixel, with higher numbers meaning darker. This pixel-value is an integer between 0 and 255.   \n",
    "\n",
    "The training and test data sets have 785 columns.   \n",
    "\n",
    "The first column consists of the class labels (see above), and represents the article of clothing. \n",
    "\n",
    "The rest of 784 columns (1-785) contain the pixel-values of the associated image."
   ]
  },
  {
   "cell_type": "markdown",
   "metadata": {
    "_uuid": "5a708dc52b2e5990e2247ed573d50d0f6933b730"
   },
   "source": [
    "# <a id=\"2\">Load packages</a>"
   ]
  },
  {
   "cell_type": "code",
   "execution_count": 14,
   "metadata": {
    "_uuid": "2defa674e4e6d0e7371df92e7d1f388fc5c14bb6",
    "collapsed": true
   },
   "outputs": [],
   "source": [
    "import numpy as np\n",
    "import pandas as pd\n",
    "from sklearn.model_selection import train_test_split\n",
    "from sklearn.metrics import classification_report\n",
    "from tensorflow.python import keras\n",
    "from tensorflow.python.keras.models import Sequential\n",
    "from tensorflow.python.keras.layers import Dense, Flatten, Conv2D, Dropout, MaxPooling2D"
   ]
  },
  {
   "cell_type": "markdown",
   "metadata": {
    "_uuid": "e17fd2539412442ddb3ecacf84366ddd62faf836"
   },
   "source": [
    "## Parameters"
   ]
  },
  {
   "cell_type": "code",
   "execution_count": 16,
   "metadata": {
    "_uuid": "d7a44bfc7a28df7026241c4a7e047298446f1554"
   },
   "outputs": [
    {
     "name": "stdout",
     "output_type": "stream",
     "text": [
      "['train-images-idx3-ubyte', 'train-labels-idx1-ubyte', 't10k-labels-idx1-ubyte', 'fashion-mnist_train.csv', 't10k-images-idx3-ubyte', 'fashion-mnist_test.csv']\n"
     ]
    }
   ],
   "source": [
    "IMG_ROWS = 28\n",
    "IMG_COLS = 28\n",
    "NUM_CLASSES = 10\n",
    "\n",
    "#Model\n",
    "NO_EPOCHS = 75\n",
    "BATCH_SIZE = 128\n",
    "\n",
    "IS_LOCAL = False\n",
    "\n",
    "import os\n",
    "\n",
    "if(IS_LOCAL):\n",
    "    PATH=\"../input/fashionmnist/\"\n",
    "else:\n",
    "    PATH=\"../input/\"\n",
    "print(os.listdir(PATH))"
   ]
  },
  {
   "cell_type": "markdown",
   "metadata": {
    "_uuid": "f49d65b4af77e87ab34b6854850619911cff1e6d"
   },
   "source": [
    "# <a id=\"3\">Read and prepare the data</a>"
   ]
  },
  {
   "cell_type": "code",
   "execution_count": 6,
   "metadata": {
    "_uuid": "a9c3148fda056ecc88570b302f5185064d5e9fc8",
    "collapsed": true
   },
   "outputs": [],
   "source": [
    "img_rows, img_cols = IMG_ROWS, IMG_COLS\n",
    "num_classes = NUM_CLASSES\n",
    "\n",
    "# data preprocessing\n",
    "def data_preprocessing(raw):\n",
    "    out_y = keras.utils.to_categorical(raw.label, num_classes)\n",
    "    num_images = raw.shape[0]\n",
    "    x_as_array = raw.values[:,1:]\n",
    "    x_shaped_array = x_as_array.reshape(num_images, img_rows, img_cols, 1)\n",
    "    out_x = x_shaped_array / 255\n",
    "    return out_x, out_y\n",
    "\n",
    "train_size = TRAIN_SIZE\n",
    "train_file = PATH+\"fashion-mnist_train.csv\"\n",
    "test_file  = PATH+\"fashion-mnist_test.csv\"\n",
    "\n",
    "train_data = pd.read_csv(train_file)\n",
    "test_data = pd.read_csv(train_file)\n",
    "\n",
    "# prepare the data\n",
    "X, y = data_preprocessing(train_data)\n",
    "X_test, y_test = data_preprocessing(test_data)\n",
    "\n",
    "X_train, X_val, y_train, y_val = train_test_split(X, y, test_size=0.2, random_state=13)\n"
   ]
  },
  {
   "cell_type": "markdown",
   "metadata": {
    "_uuid": "290f8f38b2f64dfd1bd3432eb1e9a101dbbaf4e5"
   },
   "source": [
    "# <a id=\"4\">Data exploration</a>"
   ]
  },
  {
   "cell_type": "markdown",
   "metadata": {
    "_uuid": "41ff999272c27ad5bbc457ea0770590b7a7d6770",
    "collapsed": true
   },
   "source": [
    "This section is not developed yet."
   ]
  },
  {
   "cell_type": "markdown",
   "metadata": {
    "_uuid": "dd9405b5a3fe0c7bd5bebe0616190a8cf26d2811"
   },
   "source": [
    "# <a id=\"3\">Prepare the model</a>"
   ]
  },
  {
   "cell_type": "code",
   "execution_count": 9,
   "metadata": {
    "_uuid": "e31836cd5ec9d86340485404b8f613d1f574aca4",
    "collapsed": true
   },
   "outputs": [],
   "source": [
    "# Model\n",
    "model = Sequential()\n",
    "# use strides = 2 (when applying the convolution, step by 2, not by 1 the kernel)\n",
    "model.add(Conv2D(30, kernel_size=(3, 3),\n",
    "                 strides=2,\n",
    "                 activation='relu',\n",
    "                 input_shape=(img_rows, img_cols, 1)))\n",
    "model.add(MaxPooling2D((2, 2)))\n",
    "# Add dropouts to the model\n",
    "model.add(Dropout(0.25))\n",
    "model.add(Conv2D(30, \n",
    "                 kernel_size=(3, 3), \n",
    "                 strides=2, \n",
    "                 activation='relu'))\n",
    "model.add(MaxPooling2D(pool_size=(2, 2)))\n",
    "# Add dropouts to the model\n",
    "model.add(Dropout(0.25))\n",
    "model.add(Flatten())\n",
    "model.add(Dense(128, activation='relu'))\n",
    "model.add(Dense(num_classes, activation='softmax'))\n",
    "\n",
    "\n",
    "model.compile(loss=keras.losses.categorical_crossentropy,\n",
    "              optimizer='adam',\n",
    "              metrics=['accuracy'])"
   ]
  },
  {
   "cell_type": "markdown",
   "metadata": {
    "_uuid": "ecb450d70539a62fb310bb7ed44849d2d01481ee"
   },
   "source": [
    "## Show the model"
   ]
  },
  {
   "cell_type": "code",
   "execution_count": 10,
   "metadata": {
    "_uuid": "b4b923b11ceaf4a97677f8e24265e3e97ae1653b"
   },
   "outputs": [
    {
     "name": "stdout",
     "output_type": "stream",
     "text": [
      "_________________________________________________________________\n",
      "Layer (type)                 Output Shape              Param #   \n",
      "=================================================================\n",
      "conv2d_2 (Conv2D)            (None, 13, 13, 30)        300       \n",
      "_________________________________________________________________\n",
      "max_pooling2d_1 (MaxPooling2 (None, 6, 6, 30)          0         \n",
      "_________________________________________________________________\n",
      "dropout_1 (Dropout)          (None, 6, 6, 30)          0         \n",
      "_________________________________________________________________\n",
      "conv2d_3 (Conv2D)            (None, 2, 2, 30)          8130      \n",
      "_________________________________________________________________\n",
      "max_pooling2d_2 (MaxPooling2 (None, 1, 1, 30)          0         \n",
      "_________________________________________________________________\n",
      "dropout_2 (Dropout)          (None, 1, 1, 30)          0         \n",
      "_________________________________________________________________\n",
      "flatten_1 (Flatten)          (None, 30)                0         \n",
      "_________________________________________________________________\n",
      "dense_1 (Dense)              (None, 128)               3968      \n",
      "_________________________________________________________________\n",
      "dense_2 (Dense)              (None, 10)                1290      \n",
      "=================================================================\n",
      "Total params: 13,688\n",
      "Trainable params: 13,688\n",
      "Non-trainable params: 0\n",
      "_________________________________________________________________\n"
     ]
    }
   ],
   "source": [
    "model.summary()"
   ]
  },
  {
   "cell_type": "markdown",
   "metadata": {
    "_uuid": "68a2e932241f29e52a3150b3fcf3fe9c21243be2"
   },
   "source": [
    "## Run the model"
   ]
  },
  {
   "cell_type": "code",
   "execution_count": 18,
   "metadata": {
    "_uuid": "400494b7e0525069175625422e8c300bd7b41c51",
    "scrolled": true
   },
   "outputs": [
    {
     "name": "stdout",
     "output_type": "stream",
     "text": [
      "Train on 48000 samples, validate on 12000 samples\n",
      "Epoch 1/75\n",
      "48000/48000 [==============================] - 3s 70us/step - loss: 0.6582 - acc: 0.7616 - val_loss: 0.5469 - val_acc: 0.7986\n",
      "Epoch 2/75\n",
      "48000/48000 [==============================] - 3s 72us/step - loss: 0.6319 - acc: 0.7713 - val_loss: 0.5187 - val_acc: 0.8100\n",
      "Epoch 3/75\n",
      "48000/48000 [==============================] - 3s 72us/step - loss: 0.6113 - acc: 0.7783 - val_loss: 0.4985 - val_acc: 0.8192\n",
      "Epoch 4/75\n",
      "48000/48000 [==============================] - 4s 73us/step - loss: 0.5937 - acc: 0.7841 - val_loss: 0.4860 - val_acc: 0.8209\n",
      "Epoch 5/75\n",
      "48000/48000 [==============================] - 3s 71us/step - loss: 0.5798 - acc: 0.7896 - val_loss: 0.4790 - val_acc: 0.8227\n",
      "Epoch 6/75\n",
      "48000/48000 [==============================] - 3s 72us/step - loss: 0.5648 - acc: 0.7934 - val_loss: 0.4626 - val_acc: 0.8274\n",
      "Epoch 7/75\n",
      "48000/48000 [==============================] - 3s 71us/step - loss: 0.5565 - acc: 0.7988 - val_loss: 0.4556 - val_acc: 0.8308\n",
      "Epoch 8/75\n",
      "48000/48000 [==============================] - 3s 71us/step - loss: 0.5506 - acc: 0.7981 - val_loss: 0.4494 - val_acc: 0.8332\n",
      "Epoch 9/75\n",
      "48000/48000 [==============================] - 3s 71us/step - loss: 0.5397 - acc: 0.8022 - val_loss: 0.4485 - val_acc: 0.8322\n",
      "Epoch 10/75\n",
      "48000/48000 [==============================] - 3s 72us/step - loss: 0.5340 - acc: 0.8044 - val_loss: 0.4418 - val_acc: 0.8374\n",
      "Epoch 11/75\n",
      "48000/48000 [==============================] - 3s 71us/step - loss: 0.5308 - acc: 0.8060 - val_loss: 0.4362 - val_acc: 0.8386\n",
      "Epoch 12/75\n",
      "48000/48000 [==============================] - 3s 71us/step - loss: 0.5277 - acc: 0.8062 - val_loss: 0.4422 - val_acc: 0.8369\n",
      "Epoch 13/75\n",
      "48000/48000 [==============================] - 3s 72us/step - loss: 0.5205 - acc: 0.8087 - val_loss: 0.4344 - val_acc: 0.8406\n",
      "Epoch 14/75\n",
      "48000/48000 [==============================] - 3s 71us/step - loss: 0.5219 - acc: 0.8085 - val_loss: 0.4355 - val_acc: 0.8387\n",
      "Epoch 15/75\n",
      "48000/48000 [==============================] - 3s 72us/step - loss: 0.5160 - acc: 0.8097 - val_loss: 0.4296 - val_acc: 0.8403\n",
      "Epoch 16/75\n",
      "48000/48000 [==============================] - 3s 72us/step - loss: 0.5114 - acc: 0.8121 - val_loss: 0.4244 - val_acc: 0.8417\n",
      "Epoch 17/75\n",
      "48000/48000 [==============================] - 3s 72us/step - loss: 0.5060 - acc: 0.8145 - val_loss: 0.4210 - val_acc: 0.8435\n",
      "Epoch 18/75\n",
      "48000/48000 [==============================] - 3s 71us/step - loss: 0.5019 - acc: 0.8148 - val_loss: 0.4291 - val_acc: 0.8374\n",
      "Epoch 19/75\n",
      "48000/48000 [==============================] - 3s 72us/step - loss: 0.5018 - acc: 0.8162 - val_loss: 0.4149 - val_acc: 0.8466\n",
      "Epoch 20/75\n",
      "48000/48000 [==============================] - 3s 71us/step - loss: 0.4977 - acc: 0.8155 - val_loss: 0.4178 - val_acc: 0.8429\n",
      "Epoch 21/75\n",
      "48000/48000 [==============================] - 3s 71us/step - loss: 0.4979 - acc: 0.8160 - val_loss: 0.4159 - val_acc: 0.8448\n",
      "Epoch 22/75\n",
      "48000/48000 [==============================] - 3s 72us/step - loss: 0.4977 - acc: 0.8168 - val_loss: 0.4118 - val_acc: 0.8493\n",
      "Epoch 23/75\n",
      "48000/48000 [==============================] - 3s 71us/step - loss: 0.4944 - acc: 0.8199 - val_loss: 0.4149 - val_acc: 0.8429\n",
      "Epoch 24/75\n",
      "48000/48000 [==============================] - 3s 72us/step - loss: 0.4915 - acc: 0.8190 - val_loss: 0.4181 - val_acc: 0.8425\n",
      "Epoch 25/75\n",
      "48000/48000 [==============================] - 3s 73us/step - loss: 0.4902 - acc: 0.8211 - val_loss: 0.4061 - val_acc: 0.8495\n",
      "Epoch 26/75\n",
      "48000/48000 [==============================] - 3s 72us/step - loss: 0.4846 - acc: 0.8202 - val_loss: 0.4123 - val_acc: 0.8468\n",
      "Epoch 27/75\n",
      "48000/48000 [==============================] - 3s 73us/step - loss: 0.4865 - acc: 0.8185 - val_loss: 0.4107 - val_acc: 0.8497\n",
      "Epoch 28/75\n",
      "48000/48000 [==============================] - 3s 73us/step - loss: 0.4810 - acc: 0.8238 - val_loss: 0.4046 - val_acc: 0.8486\n",
      "Epoch 29/75\n",
      "48000/48000 [==============================] - 3s 72us/step - loss: 0.4817 - acc: 0.8222 - val_loss: 0.4076 - val_acc: 0.8492\n",
      "Epoch 30/75\n",
      "48000/48000 [==============================] - 3s 71us/step - loss: 0.4831 - acc: 0.8209 - val_loss: 0.4028 - val_acc: 0.8518\n",
      "Epoch 31/75\n",
      "48000/48000 [==============================] - 3s 71us/step - loss: 0.4767 - acc: 0.8241 - val_loss: 0.4048 - val_acc: 0.8501\n",
      "Epoch 32/75\n",
      "48000/48000 [==============================] - 3s 72us/step - loss: 0.4780 - acc: 0.8242 - val_loss: 0.4042 - val_acc: 0.8549\n",
      "Epoch 33/75\n",
      "48000/48000 [==============================] - 3s 73us/step - loss: 0.4714 - acc: 0.8255 - val_loss: 0.4003 - val_acc: 0.8528\n",
      "Epoch 34/75\n",
      "48000/48000 [==============================] - 3s 72us/step - loss: 0.4706 - acc: 0.8269 - val_loss: 0.4107 - val_acc: 0.8443\n",
      "Epoch 35/75\n",
      "48000/48000 [==============================] - 3s 71us/step - loss: 0.4739 - acc: 0.8231 - val_loss: 0.3983 - val_acc: 0.8524\n",
      "Epoch 36/75\n",
      "48000/48000 [==============================] - 3s 72us/step - loss: 0.4708 - acc: 0.8244 - val_loss: 0.3960 - val_acc: 0.8520\n",
      "Epoch 37/75\n",
      "48000/48000 [==============================] - 3s 72us/step - loss: 0.4689 - acc: 0.8275 - val_loss: 0.3980 - val_acc: 0.8546\n",
      "Epoch 38/75\n",
      "48000/48000 [==============================] - 3s 72us/step - loss: 0.4675 - acc: 0.8275 - val_loss: 0.3968 - val_acc: 0.8531\n",
      "Epoch 39/75\n",
      "48000/48000 [==============================] - 3s 72us/step - loss: 0.4657 - acc: 0.8289 - val_loss: 0.3913 - val_acc: 0.8555\n",
      "Epoch 40/75\n",
      "48000/48000 [==============================] - 3s 71us/step - loss: 0.4663 - acc: 0.8277 - val_loss: 0.3961 - val_acc: 0.8542\n",
      "Epoch 41/75\n",
      "48000/48000 [==============================] - 3s 72us/step - loss: 0.4647 - acc: 0.8280 - val_loss: 0.3926 - val_acc: 0.8588\n",
      "Epoch 42/75\n",
      "48000/48000 [==============================] - 3s 71us/step - loss: 0.4651 - acc: 0.8264 - val_loss: 0.3920 - val_acc: 0.8528\n",
      "Epoch 43/75\n",
      "48000/48000 [==============================] - 3s 71us/step - loss: 0.4613 - acc: 0.8278 - val_loss: 0.3897 - val_acc: 0.8599\n",
      "Epoch 44/75\n",
      "48000/48000 [==============================] - 3s 71us/step - loss: 0.4640 - acc: 0.8291 - val_loss: 0.3909 - val_acc: 0.8546\n",
      "Epoch 45/75\n",
      "48000/48000 [==============================] - 3s 71us/step - loss: 0.4613 - acc: 0.8285 - val_loss: 0.3942 - val_acc: 0.8538\n",
      "Epoch 46/75\n",
      "48000/48000 [==============================] - 3s 71us/step - loss: 0.4613 - acc: 0.8286 - val_loss: 0.3863 - val_acc: 0.8585\n",
      "Epoch 47/75\n",
      "48000/48000 [==============================] - 4s 73us/step - loss: 0.4570 - acc: 0.8304 - val_loss: 0.3920 - val_acc: 0.8546\n",
      "Epoch 48/75\n",
      "48000/48000 [==============================] - 3s 72us/step - loss: 0.4590 - acc: 0.8297 - val_loss: 0.3883 - val_acc: 0.8571\n",
      "Epoch 49/75\n",
      "48000/48000 [==============================] - 3s 72us/step - loss: 0.4562 - acc: 0.8314 - val_loss: 0.4000 - val_acc: 0.8463\n",
      "Epoch 50/75\n",
      "48000/48000 [==============================] - 3s 73us/step - loss: 0.4561 - acc: 0.8320 - val_loss: 0.3940 - val_acc: 0.8556\n",
      "Epoch 51/75\n",
      "48000/48000 [==============================] - 3s 72us/step - loss: 0.4516 - acc: 0.8331 - val_loss: 0.3813 - val_acc: 0.8609\n",
      "Epoch 52/75\n",
      "48000/48000 [==============================] - 3s 71us/step - loss: 0.4515 - acc: 0.8335 - val_loss: 0.3832 - val_acc: 0.8589\n",
      "Epoch 53/75\n",
      "48000/48000 [==============================] - 3s 71us/step - loss: 0.4542 - acc: 0.8331 - val_loss: 0.3820 - val_acc: 0.8606\n",
      "Epoch 54/75\n",
      "48000/48000 [==============================] - 3s 71us/step - loss: 0.4526 - acc: 0.8331 - val_loss: 0.3785 - val_acc: 0.8630\n",
      "Epoch 55/75\n",
      "48000/48000 [==============================] - 3s 72us/step - loss: 0.4531 - acc: 0.8322 - val_loss: 0.3830 - val_acc: 0.8598\n",
      "Epoch 56/75\n",
      "48000/48000 [==============================] - 3s 71us/step - loss: 0.4526 - acc: 0.8336 - val_loss: 0.3874 - val_acc: 0.8562\n",
      "Epoch 57/75\n",
      "48000/48000 [==============================] - 3s 72us/step - loss: 0.4562 - acc: 0.8316 - val_loss: 0.3921 - val_acc: 0.8537\n",
      "Epoch 58/75\n",
      "48000/48000 [==============================] - 3s 72us/step - loss: 0.4488 - acc: 0.8332 - val_loss: 0.3843 - val_acc: 0.8589\n",
      "Epoch 59/75\n",
      "48000/48000 [==============================] - 3s 72us/step - loss: 0.4488 - acc: 0.8335 - val_loss: 0.3787 - val_acc: 0.8621\n",
      "Epoch 60/75\n"
     ]
    },
    {
     "name": "stdout",
     "output_type": "stream",
     "text": [
      "48000/48000 [==============================] - 3s 71us/step - loss: 0.4472 - acc: 0.8348 - val_loss: 0.3908 - val_acc: 0.8502\n",
      "Epoch 61/75\n",
      "48000/48000 [==============================] - 3s 71us/step - loss: 0.4487 - acc: 0.8347 - val_loss: 0.3819 - val_acc: 0.8595\n",
      "Epoch 62/75\n",
      "48000/48000 [==============================] - 3s 71us/step - loss: 0.4455 - acc: 0.8337 - val_loss: 0.3806 - val_acc: 0.8611\n",
      "Epoch 63/75\n",
      "48000/48000 [==============================] - 3s 71us/step - loss: 0.4501 - acc: 0.8336 - val_loss: 0.3811 - val_acc: 0.8604\n",
      "Epoch 64/75\n",
      "48000/48000 [==============================] - 3s 71us/step - loss: 0.4456 - acc: 0.8356 - val_loss: 0.3840 - val_acc: 0.8571\n",
      "Epoch 65/75\n",
      "48000/48000 [==============================] - 3s 72us/step - loss: 0.4422 - acc: 0.8356 - val_loss: 0.3882 - val_acc: 0.8562\n",
      "Epoch 66/75\n",
      "48000/48000 [==============================] - 3s 72us/step - loss: 0.4437 - acc: 0.8367 - val_loss: 0.3782 - val_acc: 0.8597\n",
      "Epoch 67/75\n",
      "48000/48000 [==============================] - 3s 72us/step - loss: 0.4470 - acc: 0.8354 - val_loss: 0.3774 - val_acc: 0.8617\n",
      "Epoch 68/75\n",
      "48000/48000 [==============================] - 3s 72us/step - loss: 0.4427 - acc: 0.8364 - val_loss: 0.3833 - val_acc: 0.8573\n",
      "Epoch 69/75\n",
      "48000/48000 [==============================] - 3s 71us/step - loss: 0.4435 - acc: 0.8349 - val_loss: 0.3840 - val_acc: 0.8583\n",
      "Epoch 70/75\n",
      "48000/48000 [==============================] - 3s 71us/step - loss: 0.4425 - acc: 0.8390 - val_loss: 0.3965 - val_acc: 0.8482\n",
      "Epoch 71/75\n",
      "48000/48000 [==============================] - 3s 72us/step - loss: 0.4407 - acc: 0.8366 - val_loss: 0.3775 - val_acc: 0.8640\n",
      "Epoch 72/75\n",
      "48000/48000 [==============================] - 3s 71us/step - loss: 0.4442 - acc: 0.8373 - val_loss: 0.3779 - val_acc: 0.8633\n",
      "Epoch 73/75\n",
      "48000/48000 [==============================] - 3s 72us/step - loss: 0.4390 - acc: 0.8360 - val_loss: 0.3751 - val_acc: 0.8637\n",
      "Epoch 74/75\n",
      "48000/48000 [==============================] - 3s 72us/step - loss: 0.4417 - acc: 0.8385 - val_loss: 0.3787 - val_acc: 0.8630\n",
      "Epoch 75/75\n",
      "48000/48000 [==============================] - 3s 71us/step - loss: 0.4388 - acc: 0.8389 - val_loss: 0.3842 - val_acc: 0.8546\n"
     ]
    }
   ],
   "source": [
    "history = model.fit(X_train, y_train,\n",
    "          batch_size=BATCH_SIZE,\n",
    "          epochs=NO_EPOCHS,\n",
    "          verbose=1,\n",
    "          validation_data=(X_val, y_val))"
   ]
  },
  {
   "cell_type": "markdown",
   "metadata": {
    "_uuid": "8699df44bc0a95f1a43a201d3dd566746d87173f"
   },
   "source": [
    "### Evaluate the model score"
   ]
  },
  {
   "cell_type": "code",
   "execution_count": 19,
   "metadata": {
    "_uuid": "b9e2bb7f25b02d491e34dd0d6d05943e287ae369"
   },
   "outputs": [
    {
     "name": "stdout",
     "output_type": "stream",
     "text": [
      "Test loss: 0.3542315003236135\n",
      "Test accuracy: 0.8670166666666667\n"
     ]
    }
   ],
   "source": [
    "score = model.evaluate(X_test, y_test, verbose=0)\n",
    "print('Test loss:', score[0])\n",
    "print('Test accuracy:', score[1])"
   ]
  },
  {
   "cell_type": "markdown",
   "metadata": {
    "_uuid": "4d779b0e47b8263370031c292a231b69decad374"
   },
   "source": [
    "# <a id=\"6\">Prediction accuracy</a>"
   ]
  },
  {
   "cell_type": "code",
   "execution_count": 20,
   "metadata": {
    "_uuid": "e519f82cc29b0dd8c5145d612da3eb496e2b321d"
   },
   "outputs": [
    {
     "name": "stdout",
     "output_type": "stream",
     "text": [
      "             precision    recall  f1-score   support\n",
      "\n",
      "    Class 0       0.87      0.81      0.83      6000\n",
      "    Class 1       1.00      0.95      0.97      6000\n",
      "    Class 2       0.81      0.80      0.81      6000\n",
      "    Class 3       0.87      0.90      0.88      6000\n",
      "    Class 4       0.82      0.67      0.74      6000\n",
      "    Class 5       0.97      0.94      0.96      6000\n",
      "    Class 6       0.58      0.74      0.65      6000\n",
      "    Class 7       0.94      0.92      0.93      6000\n",
      "    Class 8       0.96      0.97      0.97      6000\n",
      "    Class 9       0.93      0.97      0.95      6000\n",
      "\n",
      "avg / total       0.87      0.87      0.87     60000\n",
      "\n"
     ]
    }
   ],
   "source": [
    "#get the predictions for the test data\n",
    "predicted_classes = model.predict_classes(X_test)\n",
    "\n",
    "#get the indices to be plotted\n",
    "y_true = test_data.iloc[:, 0]\n",
    "correct = np.nonzero(predicted_classes==y_true)[0]\n",
    "incorrect = np.nonzero(predicted_classes!=y_true)[0]\n",
    "\n",
    "\n",
    "\n",
    "target_names = [\"Class {}\".format(i) for i in range(num_classes)]\n",
    "print(classification_report(y_true, predicted_classes, target_names=target_names))"
   ]
  },
  {
   "cell_type": "markdown",
   "metadata": {
    "_uuid": "e24053db4dbfec25fd1b90391586d7ce6bc32988"
   },
   "source": [
    "# <a id=\"7\">Conclusions</a>\n",
    "\n",
    "The best accuracy is obtained for Class 1, followed by Class 5, Class 8 and 7. Worst accuracy is for Class 6.\n",
    "\n",
    "The recall is highest for Class 8, 9 and 1 and smallest for Class 4.\n",
    "\n",
    "f1-score is highest for Class 8 and Class 1 and smallest for Class 5 and Class 4."
   ]
  },
  {
   "cell_type": "markdown",
   "metadata": {
    "_uuid": "1b45e3422fb9507da66ce7af67a97b54e7fa7683"
   },
   "source": [
    "# <a id=\"8\">References</a>\n",
    "\n",
    "[1] Fashion MNIST, An MNIST-like dataset of 70,000 28x28 labeled fashion images, https://www.kaggle.com/zalando-research/fashionmnist  \n",
    "[2] DanB, CollinMoris, Deep Learning From Scratch, https://www.kaggle.com/dansbecker/deep-learning-from-scratch  \n",
    "[3] DanB, Dropout and Strides for Larger Models, https://www.kaggle.com/dansbecker/dropout-and-strides-for-larger-models  \n",
    "[4] BGO, CNN with Keras, https://www.kaggle.com/bugraokcu/cnn-with-keras  \n"
   ]
  }
 ],
 "metadata": {
  "kernelspec": {
   "display_name": "Python 3",
   "language": "python",
   "name": "python3"
  },
  "language_info": {
   "codemirror_mode": {
    "name": "ipython",
    "version": 3
   },
   "file_extension": ".py",
   "mimetype": "text/x-python",
   "name": "python",
   "nbconvert_exporter": "python",
   "pygments_lexer": "ipython3",
   "version": "3.6.2"
  }
 },
 "nbformat": 4,
 "nbformat_minor": 1
}
