{
  "cells": [
    {
      "metadata": {
        "_uuid": "805a97911f01abb36ff8414d8d6aec9293e4fb85"
      },
      "cell_type": "markdown",
      "source": "<h1><center><font size=\"6\">CNN with Keras for Fashion MNIST</font></center></h1>\n\n\n<img src=\"https://kaggle2.blob.core.windows.net/datasets-images/2243/3791/9384af51de8baa77f6320901f53bd26b/dataset-card.png\" width=\"400\"></img>\n\n\n# <a id='0'>Content</a>\n\n- <a href='#1'>Introduction</a>  \n- <a href='#2'>Load packages</a>  \n- <a href='#3'>Read and prepare the data</a>  \n- <a href='#4'>Data exploration</a>\n- <a href='#5'>Prepare the model</a>  \n- <a href='#6'>Prediction accuracy</a>  \n- <a href='#7'>Conclusions</a>\n- <a href='#8'>References</a>"
    },
    {
      "metadata": {
        "_uuid": "1b1c16628c2f62a18e1dc2068e1d67d7003922b1"
      },
      "cell_type": "markdown",
      "source": "# <a id=\"1\">Introduction</a>  \n\n\n## Dataset\n\nFashion-MNIST is a dataset of Zalando's article images—consisting of a training set of 60,000 examples and a test set of 10,000 examples. Each example is a 28x28 grayscale image, associated with a label from 10 classes. Zalando intends Fashion-MNIST to serve as a direct drop-in replacement for the original MNIST dataset for benchmarking machine learning algorithms. It shares the same image size and structure of training and testing splits.\n\n\n## Content\n\nEach image is 28 pixels in height and 28 pixels in width, for a total of 784 pixels in total.   \n\nEach pixel has a single pixel-value associated with it, indicating the lightness or darkness of that pixel, with higher numbers meaning darker. This pixel-value is an integer between 0 and 255.   \n\nThe training and test data sets have 785 columns.   \n\nThe first column consists of the class labels (see above), and represents the article of clothing. \n\nThe rest of 784 columns (1-785) contain the pixel-values of the associated image."
    },
    {
      "metadata": {
        "_uuid": "5a708dc52b2e5990e2247ed573d50d0f6933b730"
      },
      "cell_type": "markdown",
      "source": "# <a id=\"2\">Load packages</a>"
    },
    {
      "metadata": {
        "trusted": true,
        "_uuid": "2defa674e4e6d0e7371df92e7d1f388fc5c14bb6",
        "collapsed": true
      },
      "cell_type": "code",
      "source": "import numpy as np\nimport pandas as pd\nfrom sklearn.model_selection import train_test_split\nfrom sklearn.metrics import classification_report\nfrom tensorflow.python import keras\nfrom tensorflow.python.keras.models import Sequential\nfrom tensorflow.python.keras.layers import Dense, Flatten, Conv2D, Dropout, MaxPooling2D",
      "execution_count": 38,
      "outputs": []
    },
    {
      "metadata": {
        "_uuid": "e17fd2539412442ddb3ecacf84366ddd62faf836"
      },
      "cell_type": "markdown",
      "source": "## Parameters"
    },
    {
      "metadata": {
        "trusted": true,
        "_uuid": "d7a44bfc7a28df7026241c4a7e047298446f1554"
      },
      "cell_type": "code",
      "source": "IMG_ROWS = 28\nIMG_COLS = 28\nNUM_CLASSES = 10\nTEST_SIZE = 0.2\nRANDOM_STATE = 2018\n#Model\nNO_EPOCHS = 100\nBATCH_SIZE = 128\n\nIS_LOCAL = False\n\nimport os\n\nif(IS_LOCAL):\n    PATH=\"../input/fashionmnist/\"\nelse:\n    PATH=\"../input/\"\nprint(os.listdir(PATH))",
      "execution_count": 35,
      "outputs": [
        {
          "output_type": "stream",
          "text": "['train-images-idx3-ubyte', 'train-labels-idx1-ubyte', 't10k-labels-idx1-ubyte', 'fashion-mnist_train.csv', 't10k-images-idx3-ubyte', 'fashion-mnist_test.csv']\n",
          "name": "stdout"
        }
      ]
    },
    {
      "metadata": {
        "_uuid": "f49d65b4af77e87ab34b6854850619911cff1e6d"
      },
      "cell_type": "markdown",
      "source": "# <a id=\"3\">Read and prepare the data</a>"
    },
    {
      "metadata": {
        "trusted": true,
        "_uuid": "a9c3148fda056ecc88570b302f5185064d5e9fc8",
        "collapsed": true
      },
      "cell_type": "code",
      "source": "img_rows, img_cols = IMG_ROWS, IMG_COLS\nnum_classes = NUM_CLASSES\n\n# data preprocessing\ndef data_preprocessing(raw):\n    out_y = keras.utils.to_categorical(raw.label, num_classes)\n    num_images = raw.shape[0]\n    x_as_array = raw.values[:,1:]\n    x_shaped_array = x_as_array.reshape(num_images, img_rows, img_cols, 1)\n    out_x = x_shaped_array / 255\n    return out_x, out_y\n\ntrain_file = PATH+\"fashion-mnist_train.csv\"\ntest_file  = PATH+\"fashion-mnist_test.csv\"\n\ntrain_data = pd.read_csv(train_file)\ntest_data = pd.read_csv(train_file)\n\n# prepare the data\nX, y = data_preprocessing(train_data)\nX_test, y_test = data_preprocessing(test_data)\n\nX_train, X_val, y_train, y_val = train_test_split(X, y, test_size=TEST_SIZE, random_state=RANDOM_STATE)\n",
      "execution_count": 36,
      "outputs": []
    },
    {
      "metadata": {
        "_uuid": "290f8f38b2f64dfd1bd3432eb1e9a101dbbaf4e5"
      },
      "cell_type": "markdown",
      "source": "# <a id=\"4\">Data exploration</a>"
    },
    {
      "metadata": {
        "collapsed": true,
        "trusted": false,
        "_uuid": "41ff999272c27ad5bbc457ea0770590b7a7d6770"
      },
      "cell_type": "markdown",
      "source": "This section is not developed yet."
    },
    {
      "metadata": {
        "_uuid": "dd9405b5a3fe0c7bd5bebe0616190a8cf26d2811"
      },
      "cell_type": "markdown",
      "source": "# <a id=\"3\">Prepare the model</a>"
    },
    {
      "metadata": {
        "trusted": true,
        "_uuid": "e31836cd5ec9d86340485404b8f613d1f574aca4"
      },
      "cell_type": "code",
      "source": "# Model\nmodel = Sequential()\n# Add convolution 2D\nmodel.add(Conv2D(32, kernel_size=(3, 3),\n                 activation='relu',\n                 kernel_initializer='he_normal',\n                 input_shape=(img_rows, img_cols, 1)))\nmodel.add(MaxPooling2D((2, 2)))\n# Add dropouts to the model\nmodel.add(Dropout(0.25))\nmodel.add(Conv2D(64, \n                 kernel_size=(3, 3), \n                 activation='relu'))\nmodel.add(MaxPooling2D(pool_size=(2, 2)))\n# Add dropouts to the model\nmodel.add(Dropout(0.25))\nmodel.add(Conv2D(128, (3, 3), activation='relu'))\n# Add dropouts to the model\nmodel.add(Dropout(0.4))\nmodel.add(Flatten())\nmodel.add(Dense(128, activation='relu'))\n# Add dropouts to the model\nmodel.add(Dropout(0.3))\nmodel.add(Dense(num_classes, activation='softmax'))\n\n\nmodel.compile(loss=keras.losses.categorical_crossentropy,\n              optimizer='adam',\n              metrics=['accuracy'])",
      "execution_count": 43,
      "outputs": []
    },
    {
      "metadata": {
        "_uuid": "ecb450d70539a62fb310bb7ed44849d2d01481ee"
      },
      "cell_type": "markdown",
      "source": "## Show the model"
    },
    {
      "metadata": {
        "trusted": true,
        "_uuid": "b4b923b11ceaf4a97677f8e24265e3e97ae1653b",
        "scrolled": true
      },
      "cell_type": "code",
      "source": "model.summary()",
      "execution_count": 44,
      "outputs": [
        {
          "output_type": "stream",
          "text": "_________________________________________________________________\nLayer (type)                 Output Shape              Param #   \n=================================================================\nconv2d_21 (Conv2D)           (None, 26, 26, 32)        320       \n_________________________________________________________________\nmax_pooling2d_15 (MaxPooling (None, 13, 13, 32)        0         \n_________________________________________________________________\ndropout_17 (Dropout)         (None, 13, 13, 32)        0         \n_________________________________________________________________\nconv2d_22 (Conv2D)           (None, 11, 11, 64)        18496     \n_________________________________________________________________\nmax_pooling2d_16 (MaxPooling (None, 5, 5, 64)          0         \n_________________________________________________________________\ndropout_18 (Dropout)         (None, 5, 5, 64)          0         \n_________________________________________________________________\nconv2d_23 (Conv2D)           (None, 3, 3, 128)         73856     \n_________________________________________________________________\ndropout_19 (Dropout)         (None, 3, 3, 128)         0         \n_________________________________________________________________\nflatten_4 (Flatten)          (None, 1152)              0         \n_________________________________________________________________\ndense_7 (Dense)              (None, 128)               147584    \n_________________________________________________________________\ndropout_20 (Dropout)         (None, 128)               0         \n_________________________________________________________________\ndense_8 (Dense)              (None, 10)                1290      \n=================================================================\nTotal params: 241,546\nTrainable params: 241,546\nNon-trainable params: 0\n_________________________________________________________________\n",
          "name": "stdout"
        }
      ]
    },
    {
      "metadata": {
        "_uuid": "68a2e932241f29e52a3150b3fcf3fe9c21243be2"
      },
      "cell_type": "markdown",
      "source": "## Run the model"
    },
    {
      "metadata": {
        "trusted": true,
        "_uuid": "400494b7e0525069175625422e8c300bd7b41c51",
        "scrolled": true
      },
      "cell_type": "code",
      "source": "history = model.fit(X_train, y_train,\n          batch_size=BATCH_SIZE,\n          epochs=NO_EPOCHS,\n          verbose=1,\n          validation_data=(X_val, y_val))",
      "execution_count": 45,
      "outputs": [
        {
          "output_type": "stream",
          "text": "Train on 48000 samples, validate on 12000 samples\nEpoch 1/100\n48000/48000 [==============================] - 7s 146us/step - loss: 0.7786 - acc: 0.7074 - val_loss: 0.5086 - val_acc: 0.8123\nEpoch 2/100\n48000/48000 [==============================] - 6s 122us/step - loss: 0.5010 - acc: 0.8139 - val_loss: 0.3918 - val_acc: 0.8601\nEpoch 3/100\n48000/48000 [==============================] - 6s 121us/step - loss: 0.4202 - acc: 0.8436 - val_loss: 0.3326 - val_acc: 0.8805\nEpoch 4/100\n48000/48000 [==============================] - 6s 125us/step - loss: 0.3783 - acc: 0.8620 - val_loss: 0.3028 - val_acc: 0.8912\nEpoch 5/100\n48000/48000 [==============================] - 6s 122us/step - loss: 0.3507 - acc: 0.8719 - val_loss: 0.2875 - val_acc: 0.8952\nEpoch 6/100\n48000/48000 [==============================] - 6s 123us/step - loss: 0.3287 - acc: 0.8790 - val_loss: 0.2837 - val_acc: 0.8968\nEpoch 7/100\n48000/48000 [==============================] - 6s 123us/step - loss: 0.3110 - acc: 0.8862 - val_loss: 0.2755 - val_acc: 0.8996\nEpoch 8/100\n48000/48000 [==============================] - 6s 124us/step - loss: 0.3020 - acc: 0.8906 - val_loss: 0.2625 - val_acc: 0.9043\nEpoch 9/100\n48000/48000 [==============================] - 6s 124us/step - loss: 0.2904 - acc: 0.8933 - val_loss: 0.2603 - val_acc: 0.9053\nEpoch 10/100\n48000/48000 [==============================] - 6s 121us/step - loss: 0.2825 - acc: 0.8951 - val_loss: 0.2568 - val_acc: 0.9048\nEpoch 11/100\n48000/48000 [==============================] - 6s 121us/step - loss: 0.2744 - acc: 0.8995 - val_loss: 0.2434 - val_acc: 0.9102\nEpoch 12/100\n48000/48000 [==============================] - 6s 120us/step - loss: 0.2681 - acc: 0.9015 - val_loss: 0.2422 - val_acc: 0.9123\nEpoch 13/100\n48000/48000 [==============================] - 6s 121us/step - loss: 0.2633 - acc: 0.9019 - val_loss: 0.2551 - val_acc: 0.9029\nEpoch 14/100\n48000/48000 [==============================] - 6s 120us/step - loss: 0.2554 - acc: 0.9044 - val_loss: 0.2373 - val_acc: 0.9101\nEpoch 15/100\n48000/48000 [==============================] - 6s 121us/step - loss: 0.2528 - acc: 0.9063 - val_loss: 0.2365 - val_acc: 0.9105\nEpoch 16/100\n48000/48000 [==============================] - 6s 121us/step - loss: 0.2495 - acc: 0.9072 - val_loss: 0.2401 - val_acc: 0.9132\nEpoch 17/100\n48000/48000 [==============================] - 6s 121us/step - loss: 0.2441 - acc: 0.9089 - val_loss: 0.2298 - val_acc: 0.9158\nEpoch 18/100\n48000/48000 [==============================] - 6s 122us/step - loss: 0.2412 - acc: 0.9101 - val_loss: 0.2357 - val_acc: 0.9128\nEpoch 19/100\n48000/48000 [==============================] - 6s 120us/step - loss: 0.2406 - acc: 0.9096 - val_loss: 0.2325 - val_acc: 0.9156\nEpoch 20/100\n48000/48000 [==============================] - 6s 121us/step - loss: 0.2300 - acc: 0.9123 - val_loss: 0.2325 - val_acc: 0.9153\nEpoch 21/100\n48000/48000 [==============================] - 6s 121us/step - loss: 0.2356 - acc: 0.9111 - val_loss: 0.2278 - val_acc: 0.9167\nEpoch 22/100\n48000/48000 [==============================] - 6s 121us/step - loss: 0.2291 - acc: 0.9136 - val_loss: 0.2249 - val_acc: 0.9184\nEpoch 23/100\n48000/48000 [==============================] - 6s 120us/step - loss: 0.2252 - acc: 0.9157 - val_loss: 0.2278 - val_acc: 0.9162\nEpoch 24/100\n48000/48000 [==============================] - 6s 120us/step - loss: 0.2244 - acc: 0.9166 - val_loss: 0.2291 - val_acc: 0.9167\nEpoch 25/100\n48000/48000 [==============================] - 6s 121us/step - loss: 0.2186 - acc: 0.9184 - val_loss: 0.2259 - val_acc: 0.9175\nEpoch 26/100\n48000/48000 [==============================] - 6s 121us/step - loss: 0.2207 - acc: 0.9163 - val_loss: 0.2209 - val_acc: 0.9203\nEpoch 27/100\n48000/48000 [==============================] - 6s 121us/step - loss: 0.2182 - acc: 0.9174 - val_loss: 0.2280 - val_acc: 0.9203\nEpoch 28/100\n48000/48000 [==============================] - 6s 121us/step - loss: 0.2163 - acc: 0.9186 - val_loss: 0.2210 - val_acc: 0.9217\nEpoch 29/100\n48000/48000 [==============================] - 6s 121us/step - loss: 0.2122 - acc: 0.9185 - val_loss: 0.2238 - val_acc: 0.9197\nEpoch 30/100\n48000/48000 [==============================] - 6s 121us/step - loss: 0.2086 - acc: 0.9209 - val_loss: 0.2232 - val_acc: 0.9192\nEpoch 31/100\n48000/48000 [==============================] - 6s 121us/step - loss: 0.2107 - acc: 0.9198 - val_loss: 0.2222 - val_acc: 0.9186\nEpoch 32/100\n48000/48000 [==============================] - 6s 120us/step - loss: 0.2086 - acc: 0.9220 - val_loss: 0.2210 - val_acc: 0.9181\nEpoch 33/100\n48000/48000 [==============================] - 6s 121us/step - loss: 0.2074 - acc: 0.9220 - val_loss: 0.2195 - val_acc: 0.9200\nEpoch 34/100\n48000/48000 [==============================] - 6s 121us/step - loss: 0.2030 - acc: 0.9220 - val_loss: 0.2183 - val_acc: 0.9226\nEpoch 35/100\n48000/48000 [==============================] - 6s 120us/step - loss: 0.2054 - acc: 0.9226 - val_loss: 0.2163 - val_acc: 0.9227\nEpoch 36/100\n48000/48000 [==============================] - 6s 120us/step - loss: 0.2024 - acc: 0.9234 - val_loss: 0.2288 - val_acc: 0.9179\nEpoch 37/100\n48000/48000 [==============================] - 6s 121us/step - loss: 0.1973 - acc: 0.9253 - val_loss: 0.2170 - val_acc: 0.9212\nEpoch 38/100\n48000/48000 [==============================] - 6s 121us/step - loss: 0.2008 - acc: 0.9237 - val_loss: 0.2213 - val_acc: 0.9204\nEpoch 39/100\n48000/48000 [==============================] - 6s 121us/step - loss: 0.1954 - acc: 0.9262 - val_loss: 0.2166 - val_acc: 0.9214\nEpoch 40/100\n48000/48000 [==============================] - 6s 122us/step - loss: 0.1962 - acc: 0.9259 - val_loss: 0.2198 - val_acc: 0.9224\nEpoch 41/100\n48000/48000 [==============================] - 6s 121us/step - loss: 0.1963 - acc: 0.9260 - val_loss: 0.2196 - val_acc: 0.9217\nEpoch 42/100\n48000/48000 [==============================] - 6s 120us/step - loss: 0.1954 - acc: 0.9259 - val_loss: 0.2170 - val_acc: 0.9223\nEpoch 43/100\n48000/48000 [==============================] - 6s 121us/step - loss: 0.1936 - acc: 0.9268 - val_loss: 0.2242 - val_acc: 0.9199\nEpoch 44/100\n48000/48000 [==============================] - 6s 121us/step - loss: 0.1901 - acc: 0.9273 - val_loss: 0.2302 - val_acc: 0.9172\nEpoch 45/100\n48000/48000 [==============================] - 6s 121us/step - loss: 0.1891 - acc: 0.9283 - val_loss: 0.2239 - val_acc: 0.9221\nEpoch 46/100\n48000/48000 [==============================] - 6s 120us/step - loss: 0.1905 - acc: 0.9272 - val_loss: 0.2290 - val_acc: 0.9206\nEpoch 47/100\n48000/48000 [==============================] - 6s 121us/step - loss: 0.1924 - acc: 0.9263 - val_loss: 0.2174 - val_acc: 0.9236\nEpoch 48/100\n48000/48000 [==============================] - 6s 121us/step - loss: 0.1872 - acc: 0.9282 - val_loss: 0.2213 - val_acc: 0.9222\nEpoch 49/100\n48000/48000 [==============================] - 6s 121us/step - loss: 0.1852 - acc: 0.9298 - val_loss: 0.2235 - val_acc: 0.9222\nEpoch 50/100\n48000/48000 [==============================] - 6s 121us/step - loss: 0.1887 - acc: 0.9286 - val_loss: 0.2198 - val_acc: 0.9215\nEpoch 51/100\n48000/48000 [==============================] - 6s 121us/step - loss: 0.1880 - acc: 0.9289 - val_loss: 0.2231 - val_acc: 0.9212\nEpoch 52/100\n48000/48000 [==============================] - 6s 121us/step - loss: 0.1827 - acc: 0.9298 - val_loss: 0.2332 - val_acc: 0.9202\nEpoch 53/100\n48000/48000 [==============================] - 6s 120us/step - loss: 0.1837 - acc: 0.9311 - val_loss: 0.2210 - val_acc: 0.9241\nEpoch 54/100\n48000/48000 [==============================] - 6s 121us/step - loss: 0.1865 - acc: 0.9300 - val_loss: 0.2142 - val_acc: 0.9236\nEpoch 55/100\n48000/48000 [==============================] - 6s 120us/step - loss: 0.1835 - acc: 0.9305 - val_loss: 0.2138 - val_acc: 0.9253\nEpoch 56/100\n48000/48000 [==============================] - 6s 123us/step - loss: 0.1796 - acc: 0.9324 - val_loss: 0.2231 - val_acc: 0.9238\nEpoch 57/100\n48000/48000 [==============================] - 6s 121us/step - loss: 0.1865 - acc: 0.9290 - val_loss: 0.2151 - val_acc: 0.9247\nEpoch 58/100\n48000/48000 [==============================] - 6s 121us/step - loss: 0.1800 - acc: 0.9325 - val_loss: 0.2220 - val_acc: 0.9219\nEpoch 59/100\n",
          "name": "stdout"
        },
        {
          "output_type": "stream",
          "text": "48000/48000 [==============================] - 6s 121us/step - loss: 0.1808 - acc: 0.9317 - val_loss: 0.2181 - val_acc: 0.9236\nEpoch 60/100\n48000/48000 [==============================] - 6s 121us/step - loss: 0.1787 - acc: 0.9313 - val_loss: 0.2234 - val_acc: 0.9229\nEpoch 61/100\n48000/48000 [==============================] - 6s 122us/step - loss: 0.1779 - acc: 0.9321 - val_loss: 0.2253 - val_acc: 0.9215\nEpoch 62/100\n48000/48000 [==============================] - 6s 122us/step - loss: 0.1843 - acc: 0.9313 - val_loss: 0.2171 - val_acc: 0.9240\nEpoch 63/100\n48000/48000 [==============================] - 6s 122us/step - loss: 0.1782 - acc: 0.9317 - val_loss: 0.2210 - val_acc: 0.9209\nEpoch 64/100\n48000/48000 [==============================] - 6s 121us/step - loss: 0.1745 - acc: 0.9324 - val_loss: 0.2242 - val_acc: 0.9233\nEpoch 65/100\n48000/48000 [==============================] - 6s 120us/step - loss: 0.1778 - acc: 0.9321 - val_loss: 0.2203 - val_acc: 0.9241\nEpoch 66/100\n48000/48000 [==============================] - 6s 121us/step - loss: 0.1750 - acc: 0.9337 - val_loss: 0.2192 - val_acc: 0.9243\nEpoch 67/100\n48000/48000 [==============================] - 6s 121us/step - loss: 0.1746 - acc: 0.9334 - val_loss: 0.2244 - val_acc: 0.9257\nEpoch 68/100\n48000/48000 [==============================] - 6s 122us/step - loss: 0.1719 - acc: 0.9337 - val_loss: 0.2231 - val_acc: 0.9237\nEpoch 69/100\n48000/48000 [==============================] - 6s 121us/step - loss: 0.1768 - acc: 0.9331 - val_loss: 0.2289 - val_acc: 0.9211\nEpoch 70/100\n48000/48000 [==============================] - 6s 122us/step - loss: 0.1698 - acc: 0.9345 - val_loss: 0.2205 - val_acc: 0.9237\nEpoch 71/100\n48000/48000 [==============================] - 6s 121us/step - loss: 0.1745 - acc: 0.9346 - val_loss: 0.2238 - val_acc: 0.9211\nEpoch 72/100\n48000/48000 [==============================] - 6s 120us/step - loss: 0.1725 - acc: 0.9349 - val_loss: 0.2231 - val_acc: 0.9235\nEpoch 73/100\n48000/48000 [==============================] - 6s 120us/step - loss: 0.1754 - acc: 0.9344 - val_loss: 0.2174 - val_acc: 0.9243\nEpoch 74/100\n48000/48000 [==============================] - 6s 120us/step - loss: 0.1735 - acc: 0.9342 - val_loss: 0.2226 - val_acc: 0.9226\nEpoch 75/100\n48000/48000 [==============================] - 6s 121us/step - loss: 0.1710 - acc: 0.9359 - val_loss: 0.2186 - val_acc: 0.9240\nEpoch 76/100\n48000/48000 [==============================] - 6s 120us/step - loss: 0.1701 - acc: 0.9349 - val_loss: 0.2167 - val_acc: 0.9255\nEpoch 77/100\n48000/48000 [==============================] - 6s 121us/step - loss: 0.1730 - acc: 0.9351 - val_loss: 0.2186 - val_acc: 0.9226\nEpoch 78/100\n48000/48000 [==============================] - 6s 122us/step - loss: 0.1680 - acc: 0.9358 - val_loss: 0.2148 - val_acc: 0.9249\nEpoch 79/100\n48000/48000 [==============================] - 6s 120us/step - loss: 0.1679 - acc: 0.9357 - val_loss: 0.2152 - val_acc: 0.9263\nEpoch 80/100\n48000/48000 [==============================] - 6s 121us/step - loss: 0.1698 - acc: 0.9364 - val_loss: 0.2145 - val_acc: 0.9242\nEpoch 81/100\n48000/48000 [==============================] - 6s 120us/step - loss: 0.1653 - acc: 0.9370 - val_loss: 0.2165 - val_acc: 0.9264\nEpoch 82/100\n48000/48000 [==============================] - 6s 122us/step - loss: 0.1684 - acc: 0.9369 - val_loss: 0.2229 - val_acc: 0.9261\nEpoch 83/100\n48000/48000 [==============================] - 6s 121us/step - loss: 0.1707 - acc: 0.9353 - val_loss: 0.2191 - val_acc: 0.9243\nEpoch 84/100\n48000/48000 [==============================] - 6s 122us/step - loss: 0.1665 - acc: 0.9374 - val_loss: 0.2248 - val_acc: 0.9228\nEpoch 85/100\n48000/48000 [==============================] - 6s 121us/step - loss: 0.1668 - acc: 0.9374 - val_loss: 0.2180 - val_acc: 0.9235\nEpoch 86/100\n48000/48000 [==============================] - 6s 120us/step - loss: 0.1642 - acc: 0.9371 - val_loss: 0.2199 - val_acc: 0.9249\nEpoch 87/100\n48000/48000 [==============================] - 6s 121us/step - loss: 0.1637 - acc: 0.9374 - val_loss: 0.2240 - val_acc: 0.9228\nEpoch 88/100\n48000/48000 [==============================] - 6s 121us/step - loss: 0.1661 - acc: 0.9362 - val_loss: 0.2188 - val_acc: 0.9245\nEpoch 89/100\n48000/48000 [==============================] - 6s 121us/step - loss: 0.1672 - acc: 0.9361 - val_loss: 0.2189 - val_acc: 0.9218\nEpoch 90/100\n48000/48000 [==============================] - 6s 120us/step - loss: 0.1651 - acc: 0.9377 - val_loss: 0.2347 - val_acc: 0.9172\nEpoch 91/100\n48000/48000 [==============================] - 6s 120us/step - loss: 0.1671 - acc: 0.9378 - val_loss: 0.2168 - val_acc: 0.9247\nEpoch 92/100\n48000/48000 [==============================] - 6s 121us/step - loss: 0.1627 - acc: 0.9386 - val_loss: 0.2176 - val_acc: 0.9251\nEpoch 93/100\n48000/48000 [==============================] - 6s 120us/step - loss: 0.1637 - acc: 0.9380 - val_loss: 0.2182 - val_acc: 0.9264\nEpoch 94/100\n48000/48000 [==============================] - 6s 121us/step - loss: 0.1604 - acc: 0.9384 - val_loss: 0.2245 - val_acc: 0.9245\nEpoch 95/100\n48000/48000 [==============================] - 6s 120us/step - loss: 0.1642 - acc: 0.9380 - val_loss: 0.2177 - val_acc: 0.9244\nEpoch 96/100\n48000/48000 [==============================] - 6s 121us/step - loss: 0.1617 - acc: 0.9400 - val_loss: 0.2192 - val_acc: 0.9231\nEpoch 97/100\n48000/48000 [==============================] - 6s 121us/step - loss: 0.1621 - acc: 0.9386 - val_loss: 0.2152 - val_acc: 0.9241\nEpoch 98/100\n48000/48000 [==============================] - 6s 120us/step - loss: 0.1600 - acc: 0.9393 - val_loss: 0.2157 - val_acc: 0.9246\nEpoch 99/100\n48000/48000 [==============================] - 6s 121us/step - loss: 0.1584 - acc: 0.9395 - val_loss: 0.2172 - val_acc: 0.9239\nEpoch 100/100\n48000/48000 [==============================] - 6s 121us/step - loss: 0.1568 - acc: 0.9392 - val_loss: 0.2179 - val_acc: 0.9243\n",
          "name": "stdout"
        }
      ]
    },
    {
      "metadata": {
        "_uuid": "8699df44bc0a95f1a43a201d3dd566746d87173f"
      },
      "cell_type": "markdown",
      "source": "### Evaluate the model score"
    },
    {
      "metadata": {
        "trusted": true,
        "_uuid": "b9e2bb7f25b02d491e34dd0d6d05943e287ae369"
      },
      "cell_type": "code",
      "source": "score = model.evaluate(X_test, y_test, verbose=0)\nprint('Test loss:', score[0])\nprint('Test accuracy:', score[1])",
      "execution_count": 46,
      "outputs": [
        {
          "output_type": "stream",
          "text": "Test loss: 0.100464833015576\nTest accuracy: 0.96715\n",
          "name": "stdout"
        }
      ]
    },
    {
      "metadata": {
        "_uuid": "4d779b0e47b8263370031c292a231b69decad374"
      },
      "cell_type": "markdown",
      "source": "# <a id=\"6\">Prediction accuracy</a>"
    },
    {
      "metadata": {
        "trusted": true,
        "_uuid": "e519f82cc29b0dd8c5145d612da3eb496e2b321d"
      },
      "cell_type": "code",
      "source": "#get the predictions for the test data\npredicted_classes = model.predict_classes(X_test)\n\n#get the indices to be plotted\ny_true = test_data.iloc[:, 0]\ncorrect = np.nonzero(predicted_classes==y_true)[0]\nincorrect = np.nonzero(predicted_classes!=y_true)[0]\n\n\n\ntarget_names = [\"Class {}\".format(i) for i in range(num_classes)]\nprint(classification_report(y_true, predicted_classes, target_names=target_names))",
      "execution_count": 47,
      "outputs": [
        {
          "output_type": "stream",
          "text": "             precision    recall  f1-score   support\n\n    Class 0       0.94      0.94      0.94      6000\n    Class 1       1.00      0.99      1.00      6000\n    Class 2       0.94      0.96      0.95      6000\n    Class 3       0.96      0.98      0.97      6000\n    Class 4       0.96      0.94      0.95      6000\n    Class 5       1.00      1.00      1.00      6000\n    Class 6       0.91      0.89      0.90      6000\n    Class 7       0.98      0.99      0.99      6000\n    Class 8       1.00      1.00      1.00      6000\n    Class 9       0.99      0.98      0.99      6000\n\navg / total       0.97      0.97      0.97     60000\n\n",
          "name": "stdout"
        }
      ]
    },
    {
      "metadata": {
        "_uuid": "e24053db4dbfec25fd1b90391586d7ce6bc32988"
      },
      "cell_type": "markdown",
      "source": "# <a id=\"7\">Conclusions</a>\n\nThe best accuracy is obtained for Class 1,Class 5, Class 8, Class 9  and Class 7. Worst accuracy is for Class 6.\n\nThe recall is highest for Class 8, Class 5 and smallest for Class 6 and Class 4.\n\nf1-score is highest for Class 1, Class 5 and Class 8 and smallest for Class 6 followed by Class 4 and Class 2."
    },
    {
      "metadata": {
        "_uuid": "1b45e3422fb9507da66ce7af67a97b54e7fa7683"
      },
      "cell_type": "markdown",
      "source": "# <a id=\"8\">References</a>\n\n[1] Fashion MNIST, An MNIST-like dataset of 70,000 28x28 labeled fashion images, https://www.kaggle.com/zalando-research/fashionmnist  \n[2] DanB, CollinMoris, Deep Learning From Scratch, https://www.kaggle.com/dansbecker/deep-learning-from-scratch  \n[3] DanB, Dropout and Strides for Larger Models, https://www.kaggle.com/dansbecker/dropout-and-strides-for-larger-models  \n[4] BGO, CNN with Keras, https://www.kaggle.com/bugraokcu/cnn-with-keras  \n"
    }
  ],
  "metadata": {
    "kernelspec": {
      "display_name": "Python 3",
      "language": "python",
      "name": "python3"
    },
    "language_info": {
      "name": "python",
      "version": "3.6.4",
      "mimetype": "text/x-python",
      "codemirror_mode": {
        "name": "ipython",
        "version": 3
      },
      "pygments_lexer": "ipython3",
      "nbconvert_exporter": "python",
      "file_extension": ".py"
    }
  },
  "nbformat": 4,
  "nbformat_minor": 1
}