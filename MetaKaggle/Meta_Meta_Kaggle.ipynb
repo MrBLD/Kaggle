{
  "cells": [
    {
      "metadata": {
        "_uuid": "5c3e1b7b53a431f7fe240d4e03d57f31827ea09c"
      },
      "cell_type": "markdown",
      "source": "<h1><center><font size=\"6\">Meta Kaggle: What happened to the team size?</font></center></h1>\n\n\n# <a id='0'>Content</a>\n\n- <a href='#1'>Introduction</a>  \n- <a href='#2'>Competitions</a>  \n- <a href='#3'>Teams</a>  \n"
    },
    {
      "metadata": {
        "_uuid": "5c0426aa6fad5c9a340706196c97932da88f1a6e"
      },
      "cell_type": "markdown",
      "source": "# <a id=\"1\">Introduction</a>  \n\nThis Kernel objective is to investigate how the team sizes (limited by competitions and formed) evolved in time.   \n\nWe will try to understand how many competitions limited the team size each year.    \n\nThen, we will look to the number of teams per year and the number of teams, grouped by year and team size.    \n\n**Note**: the data is last updated on **Aug 24, 2018**.\n"
    },
    {
      "metadata": {
        "_uuid": "11e53b71064ba4067ae973f5405490065b9c6dd4"
      },
      "cell_type": "markdown",
      "source": "## Load packages"
    },
    {
      "metadata": {
        "trusted": true,
        "_uuid": "652bb234884ca9c582b0667d81b808ff56575b46"
      },
      "cell_type": "code",
      "source": "import pandas as pd \nimport numpy as np\nimport matplotlib\nimport matplotlib.pyplot as plt\nimport seaborn as sns\n%matplotlib inline \nIS_LOCAL = False\nimport os\nif(IS_LOCAL):\n    PATH=\"../input/meta-kaggle\"\nelse:\n    PATH=\"../input\"\nprint(os.listdir(PATH))",
      "execution_count": null,
      "outputs": []
    },
    {
      "metadata": {
        "_uuid": "e86ecf9a18ebd2f109b9ccbc7ca74400d6f5b000"
      },
      "cell_type": "markdown",
      "source": "## Read the data"
    },
    {
      "metadata": {
        "trusted": true,
        "_uuid": "a4299a1b59cc8a71090a61c880e83d45d59c727d"
      },
      "cell_type": "code",
      "source": "competition_df = pd.read_csv(PATH+\"/Competitions.csv\")\nteams_df = pd.read_csv(PATH+\"/Teams.csv\")\nteam_membership_df = pd.read_csv(PATH+\"/TeamMemberships.csv\")",
      "execution_count": null,
      "outputs": []
    },
    {
      "metadata": {
        "_uuid": "0ad0fa7738bca4cedc203b071a02bfb6db5f24a8"
      },
      "cell_type": "markdown",
      "source": "## Check the data"
    },
    {
      "metadata": {
        "trusted": true,
        "_uuid": "7911723f7f5eca898108e086493d4425e80613b0"
      },
      "cell_type": "code",
      "source": "print(\"Meta Kaggle competition data -  rows:\",competition_df.shape[0],\" columns:\", competition_df.shape[1])\nprint(\"Meta Kaggle teams data -  rows:\",teams_df.shape[0],\" columns:\", teams_df.shape[1])\nprint(\"Meta Kaggle team memberships data -  rows:\",team_membership_df.shape[0],\" columns:\", team_membership_df.shape[1])",
      "execution_count": null,
      "outputs": []
    },
    {
      "metadata": {
        "_uuid": "f799e1f7c85483c3b673ec211cd9035d0576a0fa"
      },
      "cell_type": "markdown",
      "source": "## <a id=\"2\">Competitions</a>"
    },
    {
      "metadata": {
        "_uuid": "3057b3361b97257da26e5f9769419c3e49384999"
      },
      "cell_type": "markdown",
      "source": "Let's inspect the competition data. We will also look to the columns for missing data."
    },
    {
      "metadata": {
        "trusted": true,
        "_uuid": "9fc73c35747c936f24fe1011c55849d4d217d587"
      },
      "cell_type": "code",
      "source": "competition_df.describe()",
      "execution_count": null,
      "outputs": []
    },
    {
      "metadata": {
        "_uuid": "5d4a2b4a914e9a976acbb6c55479aa25c4490be7"
      },
      "cell_type": "markdown",
      "source": "We will extract the **Deadline Year** from the **Deadline Date**."
    },
    {
      "metadata": {
        "trusted": true,
        "_uuid": "d48feef01012ec49a18e1e22e0d970aac13b8988"
      },
      "cell_type": "code",
      "source": "competition_df[\"DeadlineYear\"] = pd.to_datetime(competition_df['DeadlineDate']).dt.year",
      "execution_count": null,
      "outputs": []
    },
    {
      "metadata": {
        "trusted": true,
        "_uuid": "75d2df10d24008e928a38246e85d46f8e8927eb4"
      },
      "cell_type": "code",
      "source": "var = [\"DeadlineDate\", \"DeadlineYear\", \"TeamMergerDeadlineDate\", \"TeamModelDeadlineDate\", \"MaxTeamSize\", \"BanTeamMergers\"]\ncompetition_df[var].head(5)",
      "execution_count": null,
      "outputs": []
    },
    {
      "metadata": {
        "_uuid": "a32f465b60d6b03cf9d41651b44e976de93984b4"
      },
      "cell_type": "markdown",
      "source": "Let's also check missing data."
    },
    {
      "metadata": {
        "trusted": true,
        "_uuid": "a271eb021161ae9ad86e868bb9270969fbf6ec6c"
      },
      "cell_type": "code",
      "source": "def missing_data(data):\n    total = data.isnull().sum().sort_values(ascending = False)\n    percent = (data.isnull().sum()/data.isnull().count()*100).sort_values(ascending = False)\n    return pd.concat([total, percent], axis=1, keys=['Total', 'Percent'])\nmissing_data(competition_df[var])",
      "execution_count": null,
      "outputs": []
    },
    {
      "metadata": {
        "_uuid": "f0f2f9f8fa3084882224f404d6ec28acd5cf495f"
      },
      "cell_type": "markdown",
      "source": "We can see that in 74.8% of the cases, **MaxTeamSize** is not set. This means that the team size is not restricted.\n\nWe extract the competition Deadline Year from the Deadline Date."
    },
    {
      "metadata": {
        "collapsed": true,
        "_uuid": "c418f15e0c64b41934d3535c9f4f48a19af39c55"
      },
      "cell_type": "markdown",
      "source": "Let's show the number of competitions having a certain MaxTeamSize, grouped by year."
    },
    {
      "metadata": {
        "trusted": true,
        "_uuid": "1cff254e283860242d63444c50f4e846d90527f0"
      },
      "cell_type": "code",
      "source": "tmp = competition_df.groupby('DeadlineYear')['MaxTeamSize'].value_counts()\ndf = pd.DataFrame(data={'Competitions': tmp.values}, index=tmp.index).reset_index()",
      "execution_count": null,
      "outputs": []
    },
    {
      "metadata": {
        "trusted": true,
        "_uuid": "c15684613a2221d6bfb7fabfa6732b5b05756d1a"
      },
      "cell_type": "code",
      "source": "d2 = competition_df[pd.notnull(competition_df['MaxTeamSize'])]\nfig, (ax1, ax2, ax3) = plt.subplots(nrows=3,figsize=(16,16))\ns1 = sns.barplot(ax=ax1, x = 'DeadlineYear', y='Competitions',hue='MaxTeamSize',data=df)\ns1.set_title(\"Number of competitions with size of max team set per year\")\ns2 = sns.countplot(competition_df[pd.notnull(competition_df['MaxTeamSize'])]['DeadlineYear'],ax=ax2)\ns2.set_title(\"Total number of competitions with size of max team set per year\")\ns3 = sns.countplot(competition_df['DeadlineYear'])\ns3.set_title(\"Total number of competitions per year\")\nplt.show();",
      "execution_count": null,
      "outputs": []
    },
    {
      "metadata": {
        "_uuid": "577830d74895f7ae30e0217542c3f3d2ff67558e"
      },
      "cell_type": "markdown",
      "source": "We can observe few interesting things:    \n* In 2017, the number of competitions increased to more than double the number in the previous year, 2016;  \n* Also in 2017 the number of competition limiting the number of team members increased to more than double  the number in the previous year, 2016; also the number of competitions limiting to only one team member in a team was very large (70% of all competitions);   \n* In 2018, the number of competitions was larger (until **Aug 24**, when the data was updated) than in 2017 (for whole year); in the same time, the number of competitions with limited number of team members decreased to a number smaller than the one in 2016.  \n\n"
    },
    {
      "metadata": {
        "_uuid": "397b611b65e2606f65576b748783cd1453ab13d8"
      },
      "cell_type": "markdown",
      "source": "# <a id=\"3\">Teams</a>\n\n## Check the data\n\nLet's inspect now the team and team membership datasets."
    },
    {
      "metadata": {
        "trusted": true,
        "_uuid": "c6320c21eaef427ef0879ff1b5de55a34bcb5fa8"
      },
      "cell_type": "code",
      "source": "teams_df.head(5)",
      "execution_count": null,
      "outputs": []
    },
    {
      "metadata": {
        "trusted": true,
        "_uuid": "27fef954420abce70f66417ed05e5683ee42dbba"
      },
      "cell_type": "code",
      "source": "missing_data(teams_df)",
      "execution_count": null,
      "outputs": []
    },
    {
      "metadata": {
        "_uuid": "b95cfee0ef56d3b8b9d5de718dfb55b66950768a"
      },
      "cell_type": "markdown",
      "source": "We can see that we have over **1M** teams registered. Let's look now to the team membership. We can merge team data with competition data (we do not have missing **CompetitionId**, which is the merge field."
    },
    {
      "metadata": {
        "trusted": true,
        "_uuid": "7cb9bfb79c88df10fe8bf0f5db1aad575b65c87c"
      },
      "cell_type": "code",
      "source": "team_membership_df.head(5)",
      "execution_count": null,
      "outputs": []
    },
    {
      "metadata": {
        "trusted": true,
        "_uuid": "ca92f9419bd889aff858a348788c62836cc6efe8"
      },
      "cell_type": "code",
      "source": "missing_data(team_membership_df)",
      "execution_count": null,
      "outputs": []
    },
    {
      "metadata": {
        "_uuid": "90ed74e3db6f9926664d015b2b5250910f79f419"
      },
      "cell_type": "markdown",
      "source": "We can merge team membership data with team data (we do not have missing **TeamId**, which is the merge field."
    },
    {
      "metadata": {
        "_uuid": "41833b359db831529bdcb5b75b3a66d1627b5536"
      },
      "cell_type": "markdown",
      "source": "## Teams per year and teams per year and team size\n\nLet's check now the number of teams per year. We will merge Competitions, Teams and Team Membership data."
    },
    {
      "metadata": {
        "trusted": true,
        "_uuid": "fa0ef00735f6ac488b1383063db942ec0fa366c5"
      },
      "cell_type": "code",
      "source": "comp_team_df = competition_df.merge(teams_df, left_on='Id', right_on='CompetitionId', how='inner')\ncomp_team_membership_df = comp_team_df.merge(team_membership_df, left_on='Id_y', right_on='TeamId', how='inner')",
      "execution_count": null,
      "outputs": []
    },
    {
      "metadata": {
        "_uuid": "c50d4f2481ae6bc04d28ab6bd17a78d1899c9641"
      },
      "cell_type": "markdown",
      "source": "Let's plot the number of teams per year and also the number of teams per year and per number of team members.  \nWe prepare the dataframe with the number of teams per year and team size."
    },
    {
      "metadata": {
        "trusted": true,
        "_uuid": "2a0721f91543865a9fc9005f6003a971c4d37f34"
      },
      "cell_type": "code",
      "source": "tmp = comp_team_membership_df.groupby(['DeadlineYear','TeamId'])['Id'].count()\ndf = pd.DataFrame(data={'Teams': tmp.values}, index=tmp.index).reset_index()\ntmp = df.groupby(['DeadlineYear','Teams']).count()\ndf2 = pd.DataFrame(data=tmp.values, index=tmp.index).reset_index()\ndf2.columns = ['Year', 'Team size','Teams']",
      "execution_count": null,
      "outputs": []
    },
    {
      "metadata": {
        "trusted": true,
        "_uuid": "144dd97c756fb0759237985f03fa7f58b9039638"
      },
      "cell_type": "code",
      "source": "def plot_heatmap_count(data_df,feature1, feature2, color, title):\n    #tmp = data_df.groupby([feature1, feature2])['Teams'].count()\n    #df1 = tmp.reset_index()\n    matrix = data_df.pivot(feature1, feature2, 'Teams')\n    fig, (ax1) = plt.subplots(ncols=1, figsize=(16,6))\n    sns.heatmap(matrix, \n        xticklabels=matrix.columns,\n        yticklabels=matrix.index,ax=ax1,linewidths=.1,linecolor='darkblue',annot=True,cmap=color)\n    plt.title(title, fontsize=14)\n    plt.show()",
      "execution_count": null,
      "outputs": []
    },
    {
      "metadata": {
        "_uuid": "c842e1020e36147f98041691904a05ca5669853f"
      },
      "cell_type": "markdown",
      "source": "Let's show now the number of teams per year."
    },
    {
      "metadata": {
        "trusted": true,
        "_uuid": "3d1c890aebfe3c388db9de11d051ffbed4df9f7c"
      },
      "cell_type": "code",
      "source": "fig, ax = plt.subplots(nrows=1,figsize=(16,6))\ns1 = sns.countplot(comp_team_df['DeadlineYear'], ax=ax)\ns1.set_title(\"Total number of teams per year\")\nplt.show();",
      "execution_count": null,
      "outputs": []
    },
    {
      "metadata": {
        "_uuid": "99d2574d64e3bbdc36337a8139401bd60842e558"
      },
      "cell_type": "markdown",
      "source": "Let's show now the number of teams per year and per number of team members."
    },
    {
      "metadata": {
        "trusted": true,
        "_uuid": "20e2f841b3aa4b01ba8ecee4a8ff6c15295162cc"
      },
      "cell_type": "code",
      "source": "plot_heatmap_count(df2,'Team size','Year', 'Blues', \"Number of teams grouped by year and by team size\")",
      "execution_count": null,
      "outputs": []
    },
    {
      "metadata": {
        "_uuid": "f18db467588a9879ffab2b0025a376c60ff766e5"
      },
      "cell_type": "markdown",
      "source": "We can see that large teams were not restricted to 2018. The largest team were actually in:\n\n* 2012 (40 and 23 team members);  \n* 2017 (34 team members);\n* 2014 (24, 25 team members);   \n* 2013 (24 team members);  \n\nWhat happens in 2017 and 2018 is that sudden increases the number of teams (2017) and of medium-sized teams (4-8 team members).\n\nWhen checking the number of competition per year we also notice that what happens in 2018 is that the number of competitions without limit of team size increased, as a percent from the total number of competitions. This will explain in part the pattern we observed, that we do have more and more teams (with large size) in 2018. Of course, these findings will have to be revisited after Meta Kaggle is updated with all 2018 data.  \n\n\n**Note**: This Kernel is still under heavy construction. I will appreciate your feedback and suggestions for improvements.\n"
    }
  ],
  "metadata": {
    "kernelspec": {
      "display_name": "Python 3",
      "language": "python",
      "name": "python3"
    },
    "language_info": {
      "name": "python",
      "version": "3.6.6",
      "mimetype": "text/x-python",
      "codemirror_mode": {
        "name": "ipython",
        "version": 3
      },
      "pygments_lexer": "ipython3",
      "nbconvert_exporter": "python",
      "file_extension": ".py"
    }
  },
  "nbformat": 4,
  "nbformat_minor": 1
}