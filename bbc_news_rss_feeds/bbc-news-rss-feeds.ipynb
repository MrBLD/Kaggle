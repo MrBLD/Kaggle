{
 "cells": [
  {
   "cell_type": "markdown",
   "id": "7fca6515",
   "metadata": {
    "papermill": {
     "duration": 0.016585,
     "end_time": "2022-03-09T06:13:50.898526",
     "exception": false,
     "start_time": "2022-03-09T06:13:50.881941",
     "status": "completed"
    },
    "tags": []
   },
   "source": [
    "# Introduction\n",
    "\n",
    "This is a Notebook used to collect data from BBC News RSS Feeds.\n",
    "\n",
    "The Notebook is run with a certain frequency to collect new data.\n",
    "Existing data (read from database) is merged (removing duplicates) with the new data.\n",
    "Then the resulting updated data is saved as new version of the database."
   ]
  },
  {
   "cell_type": "markdown",
   "id": "5a433676",
   "metadata": {
    "papermill": {
     "duration": 0.01443,
     "end_time": "2022-03-09T06:13:50.927973",
     "exception": false,
     "start_time": "2022-03-09T06:13:50.913543",
     "status": "completed"
    },
    "tags": []
   },
   "source": [
    "# Install and import packages"
   ]
  },
  {
   "cell_type": "code",
   "execution_count": 1,
   "id": "1163a989",
   "metadata": {
    "execution": {
     "iopub.execute_input": "2022-03-09T06:13:50.963190Z",
     "iopub.status.busy": "2022-03-09T06:13:50.961503Z",
     "iopub.status.idle": "2022-03-09T06:14:06.821707Z",
     "shell.execute_reply": "2022-03-09T06:14:06.820938Z",
     "shell.execute_reply.started": "2022-03-08T08:49:28.414713Z"
    },
    "papermill": {
     "duration": 15.879261,
     "end_time": "2022-03-09T06:14:06.821865",
     "exception": false,
     "start_time": "2022-03-09T06:13:50.942604",
     "status": "completed"
    },
    "tags": []
   },
   "outputs": [
    {
     "name": "stdout",
     "output_type": "stream",
     "text": [
      "Collecting requests_html\r\n",
      "  Downloading requests_html-0.10.0-py3-none-any.whl (13 kB)\r\n",
      "Requirement already satisfied: requests in /opt/conda/lib/python3.7/site-packages (from requests_html) (2.26.0)\r\n",
      "Collecting parse\r\n",
      "  Downloading parse-1.19.0.tar.gz (30 kB)\r\n",
      "  Preparing metadata (setup.py) ... \u001b[?25l-\b \bdone\r\n",
      "\u001b[?25hCollecting w3lib\r\n",
      "  Downloading w3lib-1.22.0-py2.py3-none-any.whl (20 kB)\r\n",
      "Collecting pyquery\r\n",
      "  Downloading pyquery-1.4.3-py3-none-any.whl (22 kB)\r\n",
      "Collecting pyppeteer>=0.0.14\r\n",
      "  Downloading pyppeteer-1.0.2-py3-none-any.whl (83 kB)\r\n",
      "     |████████████████████████████████| 83 kB 707 kB/s            \r\n",
      "\u001b[?25hCollecting bs4\r\n",
      "  Downloading bs4-0.0.1.tar.gz (1.1 kB)\r\n",
      "  Preparing metadata (setup.py) ... \u001b[?25l-\b \bdone\r\n",
      "\u001b[?25hCollecting fake-useragent\r\n",
      "  Downloading fake-useragent-0.1.11.tar.gz (13 kB)\r\n",
      "  Preparing metadata (setup.py) ... \u001b[?25l-\b \bdone\r\n",
      "\u001b[?25hRequirement already satisfied: tqdm<5.0.0,>=4.42.1 in /opt/conda/lib/python3.7/site-packages (from pyppeteer>=0.0.14->requests_html) (4.62.3)\r\n",
      "Requirement already satisfied: websockets<11.0,>=10.0 in /opt/conda/lib/python3.7/site-packages (from pyppeteer>=0.0.14->requests_html) (10.2)\r\n",
      "Requirement already satisfied: importlib-metadata>=1.4 in /opt/conda/lib/python3.7/site-packages (from pyppeteer>=0.0.14->requests_html) (4.11.2)\r\n",
      "Requirement already satisfied: appdirs<2.0.0,>=1.4.3 in /opt/conda/lib/python3.7/site-packages (from pyppeteer>=0.0.14->requests_html) (1.4.4)\r\n",
      "Collecting pyee<9.0.0,>=8.1.0\r\n",
      "  Downloading pyee-8.2.2-py2.py3-none-any.whl (12 kB)\r\n",
      "Requirement already satisfied: urllib3<2.0.0,>=1.25.8 in /opt/conda/lib/python3.7/site-packages (from pyppeteer>=0.0.14->requests_html) (1.26.7)\r\n",
      "Requirement already satisfied: certifi>=2021 in /opt/conda/lib/python3.7/site-packages (from pyppeteer>=0.0.14->requests_html) (2021.10.8)\r\n",
      "Requirement already satisfied: beautifulsoup4 in /opt/conda/lib/python3.7/site-packages (from bs4->requests_html) (4.10.0)\r\n",
      "Collecting cssselect>0.7.9\r\n",
      "  Downloading cssselect-1.1.0-py2.py3-none-any.whl (16 kB)\r\n",
      "Requirement already satisfied: lxml>=2.1 in /opt/conda/lib/python3.7/site-packages (from pyquery->requests_html) (4.8.0)\r\n",
      "Requirement already satisfied: idna<4,>=2.5 in /opt/conda/lib/python3.7/site-packages (from requests->requests_html) (3.1)\r\n",
      "Requirement already satisfied: charset-normalizer~=2.0.0 in /opt/conda/lib/python3.7/site-packages (from requests->requests_html) (2.0.9)\r\n",
      "Requirement already satisfied: six>=1.4.1 in /opt/conda/lib/python3.7/site-packages (from w3lib->requests_html) (1.16.0)\r\n",
      "Requirement already satisfied: zipp>=0.5 in /opt/conda/lib/python3.7/site-packages (from importlib-metadata>=1.4->pyppeteer>=0.0.14->requests_html) (3.6.0)\r\n",
      "Requirement already satisfied: typing-extensions>=3.6.4 in /opt/conda/lib/python3.7/site-packages (from importlib-metadata>=1.4->pyppeteer>=0.0.14->requests_html) (4.1.1)\r\n",
      "Requirement already satisfied: soupsieve>1.2 in /opt/conda/lib/python3.7/site-packages (from beautifulsoup4->bs4->requests_html) (2.3.1)\r\n",
      "Building wheels for collected packages: bs4, fake-useragent, parse\r\n",
      "  Building wheel for bs4 (setup.py) ... \u001b[?25l-\b \b\\\b \bdone\r\n",
      "\u001b[?25h  Created wheel for bs4: filename=bs4-0.0.1-py3-none-any.whl size=1271 sha256=e21ed94fb41dbe0d476bc0c0618ba91e9c2be0a4d23d53b8be1df45b49b4b20c\r\n",
      "  Stored in directory: /root/.cache/pip/wheels/0a/9e/ba/20e5bbc1afef3a491f0b3bb74d508f99403aabe76eda2167ca\r\n",
      "  Building wheel for fake-useragent (setup.py) ... \u001b[?25l-\b \bdone\r\n",
      "\u001b[?25h  Created wheel for fake-useragent: filename=fake_useragent-0.1.11-py3-none-any.whl size=13502 sha256=04fb946b7a6da966bfc1463dd73766e95b4cd80a00117631ac12d9d4df50733c\r\n",
      "  Stored in directory: /root/.cache/pip/wheels/ed/f7/62/50ab6c9a0b5567267ab76a9daa9d06315704209b2c5d032031\r\n",
      "  Building wheel for parse (setup.py) ... \u001b[?25l-\b \bdone\r\n",
      "\u001b[?25h  Created wheel for parse: filename=parse-1.19.0-py3-none-any.whl size=24591 sha256=d56a64b76d88de5d4cc5c2c9136f9090b75f25603637b671c80d3d8975528282\r\n",
      "  Stored in directory: /root/.cache/pip/wheels/9c/aa/cc/f2228050ccb40f22144b073f15a2c84f11204f29fc0dce028e\r\n",
      "Successfully built bs4 fake-useragent parse\r\n",
      "Installing collected packages: pyee, cssselect, w3lib, pyquery, pyppeteer, parse, fake-useragent, bs4, requests-html\r\n",
      "Successfully installed bs4-0.0.1 cssselect-1.1.0 fake-useragent-0.1.11 parse-1.19.0 pyee-8.2.2 pyppeteer-1.0.2 pyquery-1.4.3 requests-html-0.10.0 w3lib-1.22.0\r\n",
      "\u001b[33mWARNING: Running pip as the 'root' user can result in broken permissions and conflicting behaviour with the system package manager. It is recommended to use a virtual environment instead: https://pip.pypa.io/warnings/venv\u001b[0m\r\n"
     ]
    }
   ],
   "source": [
    "!pip3 install requests_html"
   ]
  },
  {
   "cell_type": "code",
   "execution_count": 2,
   "id": "175fe43c",
   "metadata": {
    "execution": {
     "iopub.execute_input": "2022-03-09T06:14:06.877113Z",
     "iopub.status.busy": "2022-03-09T06:14:06.876532Z",
     "iopub.status.idle": "2022-03-09T06:14:07.304290Z",
     "shell.execute_reply": "2022-03-09T06:14:07.304881Z",
     "shell.execute_reply.started": "2022-03-08T08:49:46.553326Z"
    },
    "papermill": {
     "duration": 0.457183,
     "end_time": "2022-03-09T06:14:07.305057",
     "exception": false,
     "start_time": "2022-03-09T06:14:06.847874",
     "status": "completed"
    },
    "tags": []
   },
   "outputs": [],
   "source": [
    "import requests\n",
    "import pandas as pd\n",
    "from requests_html import HTML\n",
    "from requests_html import HTMLSession\n",
    "from bs4 import BeautifulSoup"
   ]
  },
  {
   "cell_type": "markdown",
   "id": "4e2cde0c",
   "metadata": {
    "papermill": {
     "duration": 0.02624,
     "end_time": "2022-03-09T06:14:07.358500",
     "exception": false,
     "start_time": "2022-03-09T06:14:07.332260",
     "status": "completed"
    },
    "tags": []
   },
   "source": [
    "# RSS Feed Parsing Functions"
   ]
  },
  {
   "cell_type": "code",
   "execution_count": 3,
   "id": "d31e7700",
   "metadata": {
    "execution": {
     "iopub.execute_input": "2022-03-09T06:14:07.419234Z",
     "iopub.status.busy": "2022-03-09T06:14:07.418334Z",
     "iopub.status.idle": "2022-03-09T06:14:07.422664Z",
     "shell.execute_reply": "2022-03-09T06:14:07.423364Z",
     "shell.execute_reply.started": "2022-03-08T08:49:46.994832Z"
    },
    "papermill": {
     "duration": 0.033507,
     "end_time": "2022-03-09T06:14:07.423579",
     "exception": false,
     "start_time": "2022-03-09T06:14:07.390072",
     "status": "completed"
    },
    "tags": []
   },
   "outputs": [],
   "source": [
    "def get_html_source(url):\n",
    "    \"\"\"\n",
    "        Return the source code for the provided URL. \n",
    "        source: https://practicaldatascience.co.uk/data-science/how-to-read-an-rss-feed-in-python\n",
    "    Args: \n",
    "        url (string): URL of the page to scrape.\n",
    "\n",
    "    Returns:\n",
    "        response (object): HTTP response object from requests_html. \n",
    "    \"\"\"\n",
    "\n",
    "    try:\n",
    "        session = HTMLSession()\n",
    "        response = session.get(url)\n",
    "        return response\n",
    "\n",
    "    except requests.exceptions.RequestException as ex:\n",
    "        print(ex)"
   ]
  },
  {
   "cell_type": "code",
   "execution_count": 4,
   "id": "9da0df7e",
   "metadata": {
    "execution": {
     "iopub.execute_input": "2022-03-09T06:14:07.486019Z",
     "iopub.status.busy": "2022-03-09T06:14:07.485062Z",
     "iopub.status.idle": "2022-03-09T06:14:07.493411Z",
     "shell.execute_reply": "2022-03-09T06:14:07.494109Z",
     "shell.execute_reply.started": "2022-03-08T08:49:47.002365Z"
    },
    "papermill": {
     "duration": 0.039822,
     "end_time": "2022-03-09T06:14:07.494373",
     "exception": false,
     "start_time": "2022-03-09T06:14:07.454551",
     "status": "completed"
    },
    "tags": []
   },
   "outputs": [],
   "source": [
    "def get_rss_feed(url):\n",
    "    \"\"\"\n",
    "       Return a Pandas dataframe containing the RSS feed contents.\n",
    "       Source: https://practicaldatascience.co.uk/data-science/how-to-read-an-rss-feed-in-python\n",
    "       Modified to use BeautifulSoup (b4)\n",
    "       \n",
    "    Args: \n",
    "        url (string): URL of the RSS feed to read.\n",
    "\n",
    "    Returns:\n",
    "        df (dataframe): Pandas dataframe containing the RSS feed contents.\n",
    "    \"\"\"\n",
    "    \n",
    "    response = get_html_source(url)\n",
    "    \n",
    "    df = pd.DataFrame(columns = ['title', 'pubDate', 'guid', 'link', 'description'])\n",
    "\n",
    "    with response as r:   \n",
    "        # we use BeautifulSoup with `lxml-xml` type to parse the rss feed\n",
    "        soup = BeautifulSoup(r.text , 'lxml-xml')\n",
    "        items = soup.find_all('item')\n",
    "\n",
    "        for item in items:   \n",
    "            try:\n",
    "                title = item.find('title').text\n",
    "                pubDate = item.find('pubDate').text\n",
    "                guid = item.find('guid').text\n",
    "                link = item.find('link').text\n",
    "                description = item.find('description').text\n",
    "\n",
    "                row = {'title': title, 'pubDate': pubDate, 'guid': guid, 'link': link, 'description': description}\n",
    "                df = df.append(row, ignore_index=True)\n",
    "            except Exception as ex:\n",
    "                print(ex)\n",
    "                continue\n",
    "    return df"
   ]
  },
  {
   "cell_type": "markdown",
   "id": "fd24cb0c",
   "metadata": {
    "papermill": {
     "duration": 0.025412,
     "end_time": "2022-03-09T06:14:07.554881",
     "exception": false,
     "start_time": "2022-03-09T06:14:07.529469",
     "status": "completed"
    },
    "tags": []
   },
   "source": [
    "# Read BBC News RSS Feeds"
   ]
  },
  {
   "cell_type": "markdown",
   "id": "1ae7ed20",
   "metadata": {
    "papermill": {
     "duration": 0.025322,
     "end_time": "2022-03-09T06:14:07.605789",
     "exception": false,
     "start_time": "2022-03-09T06:14:07.580467",
     "status": "completed"
    },
    "tags": []
   },
   "source": [
    "Initialize the RSS Feed url."
   ]
  },
  {
   "cell_type": "code",
   "execution_count": 5,
   "id": "4f0ad438",
   "metadata": {
    "execution": {
     "iopub.execute_input": "2022-03-09T06:14:07.661636Z",
     "iopub.status.busy": "2022-03-09T06:14:07.661008Z",
     "iopub.status.idle": "2022-03-09T06:14:07.665007Z",
     "shell.execute_reply": "2022-03-09T06:14:07.665589Z",
     "shell.execute_reply.started": "2022-03-08T08:49:47.017298Z"
    },
    "papermill": {
     "duration": 0.034334,
     "end_time": "2022-03-09T06:14:07.665752",
     "exception": false,
     "start_time": "2022-03-09T06:14:07.631418",
     "status": "completed"
    },
    "tags": []
   },
   "outputs": [],
   "source": [
    "url = \"http://feeds.bbci.co.uk/news/rss.xml\""
   ]
  },
  {
   "cell_type": "markdown",
   "id": "f40e9d96",
   "metadata": {
    "papermill": {
     "duration": 0.025274,
     "end_time": "2022-03-09T06:14:07.717361",
     "exception": false,
     "start_time": "2022-03-09T06:14:07.692087",
     "status": "completed"
    },
    "tags": []
   },
   "source": [
    "Get the RSS Feed."
   ]
  },
  {
   "cell_type": "code",
   "execution_count": 6,
   "id": "4a96b901",
   "metadata": {
    "execution": {
     "iopub.execute_input": "2022-03-09T06:14:07.771438Z",
     "iopub.status.busy": "2022-03-09T06:14:07.770847Z",
     "iopub.status.idle": "2022-03-09T06:14:08.539417Z",
     "shell.execute_reply": "2022-03-09T06:14:08.539863Z",
     "shell.execute_reply.started": "2022-03-08T08:49:47.029731Z"
    },
    "papermill": {
     "duration": 0.796834,
     "end_time": "2022-03-09T06:14:08.540021",
     "exception": false,
     "start_time": "2022-03-09T06:14:07.743187",
     "status": "completed"
    },
    "tags": []
   },
   "outputs": [
    {
     "name": "stdout",
     "output_type": "stream",
     "text": [
      "New data collected: 55\n"
     ]
    },
    {
     "data": {
      "text/html": [
       "<div>\n",
       "<style scoped>\n",
       "    .dataframe tbody tr th:only-of-type {\n",
       "        vertical-align: middle;\n",
       "    }\n",
       "\n",
       "    .dataframe tbody tr th {\n",
       "        vertical-align: top;\n",
       "    }\n",
       "\n",
       "    .dataframe thead th {\n",
       "        text-align: right;\n",
       "    }\n",
       "</style>\n",
       "<table border=\"1\" class=\"dataframe\">\n",
       "  <thead>\n",
       "    <tr style=\"text-align: right;\">\n",
       "      <th></th>\n",
       "      <th>title</th>\n",
       "      <th>pubDate</th>\n",
       "      <th>guid</th>\n",
       "      <th>link</th>\n",
       "      <th>description</th>\n",
       "    </tr>\n",
       "  </thead>\n",
       "  <tbody>\n",
       "    <tr>\n",
       "      <th>0</th>\n",
       "      <td>War in Ukraine: West hits Russia with oil bans...</td>\n",
       "      <td>Wed, 09 Mar 2022 01:57:37 GMT</td>\n",
       "      <td>https://www.bbc.co.uk/news/world-us-canada-606...</td>\n",
       "      <td>https://www.bbc.co.uk/news/world-us-canada-606...</td>\n",
       "      <td>The US bans Russian oil, targeting the Russian...</td>\n",
       "    </tr>\n",
       "    <tr>\n",
       "      <th>1</th>\n",
       "      <td>War in Ukraine: Troops dig in near Kyiv</td>\n",
       "      <td>Wed, 09 Mar 2022 00:00:25 GMT</td>\n",
       "      <td>https://www.bbc.co.uk/news/world-europe-60671329</td>\n",
       "      <td>https://www.bbc.co.uk/news/world-europe-606713...</td>\n",
       "      <td>Ukrainians are determined to defend their capi...</td>\n",
       "    </tr>\n",
       "    <tr>\n",
       "      <th>2</th>\n",
       "      <td>Ros Atkins on… The UK’s refugee response</td>\n",
       "      <td>Tue, 08 Mar 2022 21:57:50 GMT</td>\n",
       "      <td>https://www.bbc.co.uk/news/uk-60668779</td>\n",
       "      <td>https://www.bbc.co.uk/news/uk-60668779?at_medi...</td>\n",
       "      <td>Ros Atkins looks at the UK's response to refug...</td>\n",
       "    </tr>\n",
       "    <tr>\n",
       "      <th>3</th>\n",
       "      <td>War in Ukraine: McDonald’s, Coca-Cola and Star...</td>\n",
       "      <td>Wed, 09 Mar 2022 02:56:24 GMT</td>\n",
       "      <td>https://www.bbc.co.uk/news/business-60665877</td>\n",
       "      <td>https://www.bbc.co.uk/news/business-60665877?a...</td>\n",
       "      <td>Western companies are turning their backs on R...</td>\n",
       "    </tr>\n",
       "    <tr>\n",
       "      <th>4</th>\n",
       "      <td>War in Ukraine: Warning oil sanctions will fur...</td>\n",
       "      <td>Wed, 09 Mar 2022 01:29:26 GMT</td>\n",
       "      <td>https://www.bbc.co.uk/news/business-60670120</td>\n",
       "      <td>https://www.bbc.co.uk/news/business-60670120?a...</td>\n",
       "      <td>Plans to ban or curb Russian oil and gas impor...</td>\n",
       "    </tr>\n",
       "  </tbody>\n",
       "</table>\n",
       "</div>"
      ],
      "text/plain": [
       "                                               title  \\\n",
       "0  War in Ukraine: West hits Russia with oil bans...   \n",
       "1            War in Ukraine: Troops dig in near Kyiv   \n",
       "2           Ros Atkins on… The UK’s refugee response   \n",
       "3  War in Ukraine: McDonald’s, Coca-Cola and Star...   \n",
       "4  War in Ukraine: Warning oil sanctions will fur...   \n",
       "\n",
       "                         pubDate  \\\n",
       "0  Wed, 09 Mar 2022 01:57:37 GMT   \n",
       "1  Wed, 09 Mar 2022 00:00:25 GMT   \n",
       "2  Tue, 08 Mar 2022 21:57:50 GMT   \n",
       "3  Wed, 09 Mar 2022 02:56:24 GMT   \n",
       "4  Wed, 09 Mar 2022 01:29:26 GMT   \n",
       "\n",
       "                                                guid  \\\n",
       "0  https://www.bbc.co.uk/news/world-us-canada-606...   \n",
       "1   https://www.bbc.co.uk/news/world-europe-60671329   \n",
       "2             https://www.bbc.co.uk/news/uk-60668779   \n",
       "3       https://www.bbc.co.uk/news/business-60665877   \n",
       "4       https://www.bbc.co.uk/news/business-60670120   \n",
       "\n",
       "                                                link  \\\n",
       "0  https://www.bbc.co.uk/news/world-us-canada-606...   \n",
       "1  https://www.bbc.co.uk/news/world-europe-606713...   \n",
       "2  https://www.bbc.co.uk/news/uk-60668779?at_medi...   \n",
       "3  https://www.bbc.co.uk/news/business-60665877?a...   \n",
       "4  https://www.bbc.co.uk/news/business-60670120?a...   \n",
       "\n",
       "                                         description  \n",
       "0  The US bans Russian oil, targeting the Russian...  \n",
       "1  Ukrainians are determined to defend their capi...  \n",
       "2  Ros Atkins looks at the UK's response to refug...  \n",
       "3  Western companies are turning their backs on R...  \n",
       "4  Plans to ban or curb Russian oil and gas impor...  "
      ]
     },
     "execution_count": 6,
     "metadata": {},
     "output_type": "execute_result"
    }
   ],
   "source": [
    "data_df = get_rss_feed(url)\n",
    "print(f\"New data collected: {data_df.shape[0]}\")\n",
    "data_df.head()"
   ]
  },
  {
   "cell_type": "markdown",
   "id": "17fe4d41",
   "metadata": {
    "papermill": {
     "duration": 0.025704,
     "end_time": "2022-03-09T06:14:08.591540",
     "exception": false,
     "start_time": "2022-03-09T06:14:08.565836",
     "status": "completed"
    },
    "tags": []
   },
   "source": [
    "# Load data from database and concatenate old and new data"
   ]
  },
  {
   "cell_type": "markdown",
   "id": "3cdf78a4",
   "metadata": {
    "papermill": {
     "duration": 0.025622,
     "end_time": "2022-03-09T06:14:08.643171",
     "exception": false,
     "start_time": "2022-03-09T06:14:08.617549",
     "status": "completed"
    },
    "tags": []
   },
   "source": [
    "Load the data from database."
   ]
  },
  {
   "cell_type": "code",
   "execution_count": 7,
   "id": "2fde8b2d",
   "metadata": {
    "execution": {
     "iopub.execute_input": "2022-03-09T06:14:08.699153Z",
     "iopub.status.busy": "2022-03-09T06:14:08.698241Z",
     "iopub.status.idle": "2022-03-09T06:14:08.724192Z",
     "shell.execute_reply": "2022-03-09T06:14:08.724719Z",
     "shell.execute_reply.started": "2022-03-08T08:49:47.788311Z"
    },
    "papermill": {
     "duration": 0.055528,
     "end_time": "2022-03-09T06:14:08.724891",
     "exception": false,
     "start_time": "2022-03-09T06:14:08.669363",
     "status": "completed"
    },
    "tags": []
   },
   "outputs": [
    {
     "name": "stdout",
     "output_type": "stream",
     "text": [
      "Old data: 165\n"
     ]
    },
    {
     "data": {
      "text/html": [
       "<div>\n",
       "<style scoped>\n",
       "    .dataframe tbody tr th:only-of-type {\n",
       "        vertical-align: middle;\n",
       "    }\n",
       "\n",
       "    .dataframe tbody tr th {\n",
       "        vertical-align: top;\n",
       "    }\n",
       "\n",
       "    .dataframe thead th {\n",
       "        text-align: right;\n",
       "    }\n",
       "</style>\n",
       "<table border=\"1\" class=\"dataframe\">\n",
       "  <thead>\n",
       "    <tr style=\"text-align: right;\">\n",
       "      <th></th>\n",
       "      <th>title</th>\n",
       "      <th>pubDate</th>\n",
       "      <th>guid</th>\n",
       "      <th>link</th>\n",
       "      <th>description</th>\n",
       "    </tr>\n",
       "  </thead>\n",
       "  <tbody>\n",
       "    <tr>\n",
       "      <th>0</th>\n",
       "      <td>Ukraine: Angry Zelensky vows to punish Russian...</td>\n",
       "      <td>Mon, 07 Mar 2022 08:01:56 GMT</td>\n",
       "      <td>https://www.bbc.co.uk/news/world-europe-60638042</td>\n",
       "      <td>https://www.bbc.co.uk/news/world-europe-606380...</td>\n",
       "      <td>The Ukrainian president says the country will ...</td>\n",
       "    </tr>\n",
       "    <tr>\n",
       "      <th>1</th>\n",
       "      <td>War in Ukraine: Taking cover in a town under a...</td>\n",
       "      <td>Sun, 06 Mar 2022 22:49:58 GMT</td>\n",
       "      <td>https://www.bbc.co.uk/news/world-europe-60641873</td>\n",
       "      <td>https://www.bbc.co.uk/news/world-europe-606418...</td>\n",
       "      <td>Jeremy Bowen was on the frontline in Irpin, as...</td>\n",
       "    </tr>\n",
       "    <tr>\n",
       "      <th>2</th>\n",
       "      <td>Ukraine war 'catastrophic for global food'</td>\n",
       "      <td>Mon, 07 Mar 2022 00:14:42 GMT</td>\n",
       "      <td>https://www.bbc.co.uk/news/business-60623941</td>\n",
       "      <td>https://www.bbc.co.uk/news/business-60623941?a...</td>\n",
       "      <td>One of the world's biggest fertiliser firms sa...</td>\n",
       "    </tr>\n",
       "    <tr>\n",
       "      <th>3</th>\n",
       "      <td>Manchester Arena bombing: Saffie Roussos's par...</td>\n",
       "      <td>Mon, 07 Mar 2022 00:05:40 GMT</td>\n",
       "      <td>https://www.bbc.co.uk/news/uk-60579079</td>\n",
       "      <td>https://www.bbc.co.uk/news/uk-60579079?at_medi...</td>\n",
       "      <td>The parents of the Manchester Arena bombing's ...</td>\n",
       "    </tr>\n",
       "    <tr>\n",
       "      <th>4</th>\n",
       "      <td>Ukraine conflict: Oil price soars to highest l...</td>\n",
       "      <td>Mon, 07 Mar 2022 08:15:53 GMT</td>\n",
       "      <td>https://www.bbc.co.uk/news/business-60642786</td>\n",
       "      <td>https://www.bbc.co.uk/news/business-60642786?a...</td>\n",
       "      <td>Consumers are feeling the impact of higher ene...</td>\n",
       "    </tr>\n",
       "  </tbody>\n",
       "</table>\n",
       "</div>"
      ],
      "text/plain": [
       "                                               title  \\\n",
       "0  Ukraine: Angry Zelensky vows to punish Russian...   \n",
       "1  War in Ukraine: Taking cover in a town under a...   \n",
       "2         Ukraine war 'catastrophic for global food'   \n",
       "3  Manchester Arena bombing: Saffie Roussos's par...   \n",
       "4  Ukraine conflict: Oil price soars to highest l...   \n",
       "\n",
       "                         pubDate  \\\n",
       "0  Mon, 07 Mar 2022 08:01:56 GMT   \n",
       "1  Sun, 06 Mar 2022 22:49:58 GMT   \n",
       "2  Mon, 07 Mar 2022 00:14:42 GMT   \n",
       "3  Mon, 07 Mar 2022 00:05:40 GMT   \n",
       "4  Mon, 07 Mar 2022 08:15:53 GMT   \n",
       "\n",
       "                                               guid  \\\n",
       "0  https://www.bbc.co.uk/news/world-europe-60638042   \n",
       "1  https://www.bbc.co.uk/news/world-europe-60641873   \n",
       "2      https://www.bbc.co.uk/news/business-60623941   \n",
       "3            https://www.bbc.co.uk/news/uk-60579079   \n",
       "4      https://www.bbc.co.uk/news/business-60642786   \n",
       "\n",
       "                                                link  \\\n",
       "0  https://www.bbc.co.uk/news/world-europe-606380...   \n",
       "1  https://www.bbc.co.uk/news/world-europe-606418...   \n",
       "2  https://www.bbc.co.uk/news/business-60623941?a...   \n",
       "3  https://www.bbc.co.uk/news/uk-60579079?at_medi...   \n",
       "4  https://www.bbc.co.uk/news/business-60642786?a...   \n",
       "\n",
       "                                         description  \n",
       "0  The Ukrainian president says the country will ...  \n",
       "1  Jeremy Bowen was on the frontline in Irpin, as...  \n",
       "2  One of the world's biggest fertiliser firms sa...  \n",
       "3  The parents of the Manchester Arena bombing's ...  \n",
       "4  Consumers are feeling the impact of higher ene...  "
      ]
     },
     "execution_count": 7,
     "metadata": {},
     "output_type": "execute_result"
    }
   ],
   "source": [
    "old_data_df = pd.read_csv(\"/kaggle/input/bbc-news/bbc_news.csv\")\n",
    "print(f\"Old data: {old_data_df.shape[0]}\")\n",
    "old_data_df.head()"
   ]
  },
  {
   "cell_type": "markdown",
   "id": "4aaa26f4",
   "metadata": {
    "papermill": {
     "duration": 0.026219,
     "end_time": "2022-03-09T06:14:08.777845",
     "exception": false,
     "start_time": "2022-03-09T06:14:08.751626",
     "status": "completed"
    },
    "tags": []
   },
   "source": [
    "Let's look also to the dataset tail."
   ]
  },
  {
   "cell_type": "code",
   "execution_count": 8,
   "id": "8e8c3c8e",
   "metadata": {
    "execution": {
     "iopub.execute_input": "2022-03-09T06:14:08.841932Z",
     "iopub.status.busy": "2022-03-09T06:14:08.841043Z",
     "iopub.status.idle": "2022-03-09T06:14:08.844297Z",
     "shell.execute_reply": "2022-03-09T06:14:08.844747Z",
     "shell.execute_reply.started": "2022-03-08T08:51:39.026314Z"
    },
    "papermill": {
     "duration": 0.040293,
     "end_time": "2022-03-09T06:14:08.844907",
     "exception": false,
     "start_time": "2022-03-09T06:14:08.804614",
     "status": "completed"
    },
    "tags": []
   },
   "outputs": [
    {
     "data": {
      "text/html": [
       "<div>\n",
       "<style scoped>\n",
       "    .dataframe tbody tr th:only-of-type {\n",
       "        vertical-align: middle;\n",
       "    }\n",
       "\n",
       "    .dataframe tbody tr th {\n",
       "        vertical-align: top;\n",
       "    }\n",
       "\n",
       "    .dataframe thead th {\n",
       "        text-align: right;\n",
       "    }\n",
       "</style>\n",
       "<table border=\"1\" class=\"dataframe\">\n",
       "  <thead>\n",
       "    <tr style=\"text-align: right;\">\n",
       "      <th></th>\n",
       "      <th>title</th>\n",
       "      <th>pubDate</th>\n",
       "      <th>guid</th>\n",
       "      <th>link</th>\n",
       "      <th>description</th>\n",
       "    </tr>\n",
       "  </thead>\n",
       "  <tbody>\n",
       "    <tr>\n",
       "      <th>160</th>\n",
       "      <td>Ukraine war: UK can and will do more for refug...</td>\n",
       "      <td>Tue, 08 Mar 2022 08:23:59 GMT</td>\n",
       "      <td>https://www.bbc.co.uk/news/uk-60655788</td>\n",
       "      <td>https://www.bbc.co.uk/news/uk-60655788?at_medi...</td>\n",
       "      <td>The UK has granted visas to 300 refugees fleei...</td>\n",
       "    </tr>\n",
       "    <tr>\n",
       "      <th>161</th>\n",
       "      <td>Covid: Vaccines not linked to deaths, says stu...</td>\n",
       "      <td>Tue, 08 Mar 2022 07:53:27 GMT</td>\n",
       "      <td>https://www.bbc.co.uk/news/uk-60652743</td>\n",
       "      <td>https://www.bbc.co.uk/news/uk-60652743?at_medi...</td>\n",
       "      <td>Five things you need to know about the coronav...</td>\n",
       "    </tr>\n",
       "    <tr>\n",
       "      <th>162</th>\n",
       "      <td>Shane Warne: Do liquid diets work and are they...</td>\n",
       "      <td>Tue, 08 Mar 2022 08:10:30 GMT</td>\n",
       "      <td>https://www.bbc.co.uk/news/health-60647276</td>\n",
       "      <td>https://www.bbc.co.uk/news/health-60647276?at_...</td>\n",
       "      <td>What do experts make of the diet Shane Warne w...</td>\n",
       "    </tr>\n",
       "    <tr>\n",
       "      <th>163</th>\n",
       "      <td>Fury's future plans, AJ's new coach and Khan's...</td>\n",
       "      <td>Tue, 08 Mar 2022 08:06:41 GMT</td>\n",
       "      <td>https://www.bbc.co.uk/sport/boxing/60549538</td>\n",
       "      <td>https://www.bbc.co.uk/sport/boxing/60549538?at...</td>\n",
       "      <td>Will Tyson Fury hang up his gloves after facin...</td>\n",
       "    </tr>\n",
       "    <tr>\n",
       "      <th>164</th>\n",
       "      <td>Healy helps Australia beat Pakistan at World Cup</td>\n",
       "      <td>Tue, 08 Mar 2022 08:16:28 GMT</td>\n",
       "      <td>https://www.bbc.co.uk/sport/cricket/60658487</td>\n",
       "      <td>https://www.bbc.co.uk/sport/cricket/60658487?a...</td>\n",
       "      <td>Alyssa Healy helps Australia secure a comforta...</td>\n",
       "    </tr>\n",
       "  </tbody>\n",
       "</table>\n",
       "</div>"
      ],
      "text/plain": [
       "                                                 title  \\\n",
       "160  Ukraine war: UK can and will do more for refug...   \n",
       "161  Covid: Vaccines not linked to deaths, says stu...   \n",
       "162  Shane Warne: Do liquid diets work and are they...   \n",
       "163  Fury's future plans, AJ's new coach and Khan's...   \n",
       "164   Healy helps Australia beat Pakistan at World Cup   \n",
       "\n",
       "                           pubDate  \\\n",
       "160  Tue, 08 Mar 2022 08:23:59 GMT   \n",
       "161  Tue, 08 Mar 2022 07:53:27 GMT   \n",
       "162  Tue, 08 Mar 2022 08:10:30 GMT   \n",
       "163  Tue, 08 Mar 2022 08:06:41 GMT   \n",
       "164  Tue, 08 Mar 2022 08:16:28 GMT   \n",
       "\n",
       "                                             guid  \\\n",
       "160        https://www.bbc.co.uk/news/uk-60655788   \n",
       "161        https://www.bbc.co.uk/news/uk-60652743   \n",
       "162    https://www.bbc.co.uk/news/health-60647276   \n",
       "163   https://www.bbc.co.uk/sport/boxing/60549538   \n",
       "164  https://www.bbc.co.uk/sport/cricket/60658487   \n",
       "\n",
       "                                                  link  \\\n",
       "160  https://www.bbc.co.uk/news/uk-60655788?at_medi...   \n",
       "161  https://www.bbc.co.uk/news/uk-60652743?at_medi...   \n",
       "162  https://www.bbc.co.uk/news/health-60647276?at_...   \n",
       "163  https://www.bbc.co.uk/sport/boxing/60549538?at...   \n",
       "164  https://www.bbc.co.uk/sport/cricket/60658487?a...   \n",
       "\n",
       "                                           description  \n",
       "160  The UK has granted visas to 300 refugees fleei...  \n",
       "161  Five things you need to know about the coronav...  \n",
       "162  What do experts make of the diet Shane Warne w...  \n",
       "163  Will Tyson Fury hang up his gloves after facin...  \n",
       "164  Alyssa Healy helps Australia secure a comforta...  "
      ]
     },
     "execution_count": 8,
     "metadata": {},
     "output_type": "execute_result"
    }
   ],
   "source": [
    "old_data_df.tail()"
   ]
  },
  {
   "cell_type": "markdown",
   "id": "897d1ab0",
   "metadata": {
    "papermill": {
     "duration": 0.026996,
     "end_time": "2022-03-09T06:14:08.899181",
     "exception": false,
     "start_time": "2022-03-09T06:14:08.872185",
     "status": "completed"
    },
    "tags": []
   },
   "source": [
    "Merge the newly parsed data with existing one.\n",
    "Remove duplicates."
   ]
  },
  {
   "cell_type": "code",
   "execution_count": 9,
   "id": "fa66e0d7",
   "metadata": {
    "execution": {
     "iopub.execute_input": "2022-03-09T06:14:08.966518Z",
     "iopub.status.busy": "2022-03-09T06:14:08.965877Z",
     "iopub.status.idle": "2022-03-09T06:14:08.980093Z",
     "shell.execute_reply": "2022-03-09T06:14:08.980609Z",
     "shell.execute_reply.started": "2022-03-08T08:49:47.815081Z"
    },
    "papermill": {
     "duration": 0.05391,
     "end_time": "2022-03-09T06:14:08.980781",
     "exception": false,
     "start_time": "2022-03-09T06:14:08.926871",
     "status": "completed"
    },
    "tags": []
   },
   "outputs": [
    {
     "name": "stdout",
     "output_type": "stream",
     "text": [
      "Data after concatenation: 220\n",
      "Data after droping duplicates: 205\n"
     ]
    },
    {
     "data": {
      "text/html": [
       "<div>\n",
       "<style scoped>\n",
       "    .dataframe tbody tr th:only-of-type {\n",
       "        vertical-align: middle;\n",
       "    }\n",
       "\n",
       "    .dataframe tbody tr th {\n",
       "        vertical-align: top;\n",
       "    }\n",
       "\n",
       "    .dataframe thead th {\n",
       "        text-align: right;\n",
       "    }\n",
       "</style>\n",
       "<table border=\"1\" class=\"dataframe\">\n",
       "  <thead>\n",
       "    <tr style=\"text-align: right;\">\n",
       "      <th></th>\n",
       "      <th>title</th>\n",
       "      <th>pubDate</th>\n",
       "      <th>guid</th>\n",
       "      <th>link</th>\n",
       "      <th>description</th>\n",
       "    </tr>\n",
       "  </thead>\n",
       "  <tbody>\n",
       "    <tr>\n",
       "      <th>0</th>\n",
       "      <td>Ukraine: Angry Zelensky vows to punish Russian...</td>\n",
       "      <td>Mon, 07 Mar 2022 08:01:56 GMT</td>\n",
       "      <td>https://www.bbc.co.uk/news/world-europe-60638042</td>\n",
       "      <td>https://www.bbc.co.uk/news/world-europe-606380...</td>\n",
       "      <td>The Ukrainian president says the country will ...</td>\n",
       "    </tr>\n",
       "    <tr>\n",
       "      <th>1</th>\n",
       "      <td>War in Ukraine: Taking cover in a town under a...</td>\n",
       "      <td>Sun, 06 Mar 2022 22:49:58 GMT</td>\n",
       "      <td>https://www.bbc.co.uk/news/world-europe-60641873</td>\n",
       "      <td>https://www.bbc.co.uk/news/world-europe-606418...</td>\n",
       "      <td>Jeremy Bowen was on the frontline in Irpin, as...</td>\n",
       "    </tr>\n",
       "    <tr>\n",
       "      <th>2</th>\n",
       "      <td>Ukraine war 'catastrophic for global food'</td>\n",
       "      <td>Mon, 07 Mar 2022 00:14:42 GMT</td>\n",
       "      <td>https://www.bbc.co.uk/news/business-60623941</td>\n",
       "      <td>https://www.bbc.co.uk/news/business-60623941?a...</td>\n",
       "      <td>One of the world's biggest fertiliser firms sa...</td>\n",
       "    </tr>\n",
       "    <tr>\n",
       "      <th>3</th>\n",
       "      <td>Manchester Arena bombing: Saffie Roussos's par...</td>\n",
       "      <td>Mon, 07 Mar 2022 00:05:40 GMT</td>\n",
       "      <td>https://www.bbc.co.uk/news/uk-60579079</td>\n",
       "      <td>https://www.bbc.co.uk/news/uk-60579079?at_medi...</td>\n",
       "      <td>The parents of the Manchester Arena bombing's ...</td>\n",
       "    </tr>\n",
       "    <tr>\n",
       "      <th>4</th>\n",
       "      <td>Ukraine conflict: Oil price soars to highest l...</td>\n",
       "      <td>Mon, 07 Mar 2022 08:15:53 GMT</td>\n",
       "      <td>https://www.bbc.co.uk/news/business-60642786</td>\n",
       "      <td>https://www.bbc.co.uk/news/business-60642786?a...</td>\n",
       "      <td>Consumers are feeling the impact of higher ene...</td>\n",
       "    </tr>\n",
       "  </tbody>\n",
       "</table>\n",
       "</div>"
      ],
      "text/plain": [
       "                                               title  \\\n",
       "0  Ukraine: Angry Zelensky vows to punish Russian...   \n",
       "1  War in Ukraine: Taking cover in a town under a...   \n",
       "2         Ukraine war 'catastrophic for global food'   \n",
       "3  Manchester Arena bombing: Saffie Roussos's par...   \n",
       "4  Ukraine conflict: Oil price soars to highest l...   \n",
       "\n",
       "                         pubDate  \\\n",
       "0  Mon, 07 Mar 2022 08:01:56 GMT   \n",
       "1  Sun, 06 Mar 2022 22:49:58 GMT   \n",
       "2  Mon, 07 Mar 2022 00:14:42 GMT   \n",
       "3  Mon, 07 Mar 2022 00:05:40 GMT   \n",
       "4  Mon, 07 Mar 2022 08:15:53 GMT   \n",
       "\n",
       "                                               guid  \\\n",
       "0  https://www.bbc.co.uk/news/world-europe-60638042   \n",
       "1  https://www.bbc.co.uk/news/world-europe-60641873   \n",
       "2      https://www.bbc.co.uk/news/business-60623941   \n",
       "3            https://www.bbc.co.uk/news/uk-60579079   \n",
       "4      https://www.bbc.co.uk/news/business-60642786   \n",
       "\n",
       "                                                link  \\\n",
       "0  https://www.bbc.co.uk/news/world-europe-606380...   \n",
       "1  https://www.bbc.co.uk/news/world-europe-606418...   \n",
       "2  https://www.bbc.co.uk/news/business-60623941?a...   \n",
       "3  https://www.bbc.co.uk/news/uk-60579079?at_medi...   \n",
       "4  https://www.bbc.co.uk/news/business-60642786?a...   \n",
       "\n",
       "                                         description  \n",
       "0  The Ukrainian president says the country will ...  \n",
       "1  Jeremy Bowen was on the frontline in Irpin, as...  \n",
       "2  One of the world's biggest fertiliser firms sa...  \n",
       "3  The parents of the Manchester Arena bombing's ...  \n",
       "4  Consumers are feeling the impact of higher ene...  "
      ]
     },
     "execution_count": 9,
     "metadata": {},
     "output_type": "execute_result"
    }
   ],
   "source": [
    "new_data_df = pd.concat([old_data_df, data_df], axis=0)\n",
    "print(f\"Data after concatenation: {new_data_df.shape[0]}\")\n",
    "new_data_df = new_data_df.drop_duplicates()\n",
    "print(f\"Data after droping duplicates: {new_data_df.shape[0]}\")\n",
    "new_data_df.head()"
   ]
  },
  {
   "cell_type": "markdown",
   "id": "a81cc654",
   "metadata": {
    "papermill": {
     "duration": 0.028058,
     "end_time": "2022-03-09T06:14:09.037149",
     "exception": false,
     "start_time": "2022-03-09T06:14:09.009091",
     "status": "completed"
    },
    "tags": []
   },
   "source": [
    "Let's look also to new dataset tail."
   ]
  },
  {
   "cell_type": "code",
   "execution_count": 10,
   "id": "62ad19cb",
   "metadata": {
    "execution": {
     "iopub.execute_input": "2022-03-09T06:14:09.103911Z",
     "iopub.status.busy": "2022-03-09T06:14:09.098330Z",
     "iopub.status.idle": "2022-03-09T06:14:09.108084Z",
     "shell.execute_reply": "2022-03-09T06:14:09.107612Z",
     "shell.execute_reply.started": "2022-03-08T08:51:49.642479Z"
    },
    "papermill": {
     "duration": 0.042981,
     "end_time": "2022-03-09T06:14:09.108214",
     "exception": false,
     "start_time": "2022-03-09T06:14:09.065233",
     "status": "completed"
    },
    "tags": []
   },
   "outputs": [
    {
     "data": {
      "text/html": [
       "<div>\n",
       "<style scoped>\n",
       "    .dataframe tbody tr th:only-of-type {\n",
       "        vertical-align: middle;\n",
       "    }\n",
       "\n",
       "    .dataframe tbody tr th {\n",
       "        vertical-align: top;\n",
       "    }\n",
       "\n",
       "    .dataframe thead th {\n",
       "        text-align: right;\n",
       "    }\n",
       "</style>\n",
       "<table border=\"1\" class=\"dataframe\">\n",
       "  <thead>\n",
       "    <tr style=\"text-align: right;\">\n",
       "      <th></th>\n",
       "      <th>title</th>\n",
       "      <th>pubDate</th>\n",
       "      <th>guid</th>\n",
       "      <th>link</th>\n",
       "      <th>description</th>\n",
       "    </tr>\n",
       "  </thead>\n",
       "  <tbody>\n",
       "    <tr>\n",
       "      <th>50</th>\n",
       "      <td>Bairstow ton rescues England against West Indies</td>\n",
       "      <td>Tue, 08 Mar 2022 22:41:57 GMT</td>\n",
       "      <td>https://www.bbc.co.uk/sport/cricket/60665827</td>\n",
       "      <td>https://www.bbc.co.uk/sport/cricket/60665827?a...</td>\n",
       "      <td>Jonny Bairstow's hundred rescues England after...</td>\n",
       "    </tr>\n",
       "    <tr>\n",
       "      <th>51</th>\n",
       "      <td>Lewandowski scores earliest Champions League h...</td>\n",
       "      <td>Tue, 08 Mar 2022 23:04:53 GMT</td>\n",
       "      <td>https://www.bbc.co.uk/sport/football/60667847</td>\n",
       "      <td>https://www.bbc.co.uk/sport/football/60667847?...</td>\n",
       "      <td>Robert Lewandowski scores the earliest ever Ch...</td>\n",
       "    </tr>\n",
       "    <tr>\n",
       "      <th>52</th>\n",
       "      <td>Andy Murray pledges to donate prize money to h...</td>\n",
       "      <td>Tue, 08 Mar 2022 20:42:38 GMT</td>\n",
       "      <td>https://www.bbc.co.uk/sport/tennis/60667095</td>\n",
       "      <td>https://www.bbc.co.uk/sport/tennis/60667095?at...</td>\n",
       "      <td>Andy Murray pledges to donate his earnings fro...</td>\n",
       "    </tr>\n",
       "    <tr>\n",
       "      <th>53</th>\n",
       "      <td>World Cup 2022: Wales' play-off with Austria t...</td>\n",
       "      <td>Tue, 08 Mar 2022 19:11:57 GMT</td>\n",
       "      <td>https://www.bbc.co.uk/sport/football/60648692</td>\n",
       "      <td>https://www.bbc.co.uk/sport/football/60648692?...</td>\n",
       "      <td>Wales' World Cup play-off semi-final against A...</td>\n",
       "    </tr>\n",
       "    <tr>\n",
       "      <th>54</th>\n",
       "      <td>Women's World Cup: Deandra Dottin takes sensat...</td>\n",
       "      <td>Wed, 09 Mar 2022 02:44:31 GMT</td>\n",
       "      <td>https://www.bbc.co.uk/sport/av/cricket/60672395</td>\n",
       "      <td>https://www.bbc.co.uk/sport/av/cricket/6067239...</td>\n",
       "      <td>West Indies' Deandra Dottin takes a sensationa...</td>\n",
       "    </tr>\n",
       "  </tbody>\n",
       "</table>\n",
       "</div>"
      ],
      "text/plain": [
       "                                                title  \\\n",
       "50   Bairstow ton rescues England against West Indies   \n",
       "51  Lewandowski scores earliest Champions League h...   \n",
       "52  Andy Murray pledges to donate prize money to h...   \n",
       "53  World Cup 2022: Wales' play-off with Austria t...   \n",
       "54  Women's World Cup: Deandra Dottin takes sensat...   \n",
       "\n",
       "                          pubDate  \\\n",
       "50  Tue, 08 Mar 2022 22:41:57 GMT   \n",
       "51  Tue, 08 Mar 2022 23:04:53 GMT   \n",
       "52  Tue, 08 Mar 2022 20:42:38 GMT   \n",
       "53  Tue, 08 Mar 2022 19:11:57 GMT   \n",
       "54  Wed, 09 Mar 2022 02:44:31 GMT   \n",
       "\n",
       "                                               guid  \\\n",
       "50     https://www.bbc.co.uk/sport/cricket/60665827   \n",
       "51    https://www.bbc.co.uk/sport/football/60667847   \n",
       "52      https://www.bbc.co.uk/sport/tennis/60667095   \n",
       "53    https://www.bbc.co.uk/sport/football/60648692   \n",
       "54  https://www.bbc.co.uk/sport/av/cricket/60672395   \n",
       "\n",
       "                                                 link  \\\n",
       "50  https://www.bbc.co.uk/sport/cricket/60665827?a...   \n",
       "51  https://www.bbc.co.uk/sport/football/60667847?...   \n",
       "52  https://www.bbc.co.uk/sport/tennis/60667095?at...   \n",
       "53  https://www.bbc.co.uk/sport/football/60648692?...   \n",
       "54  https://www.bbc.co.uk/sport/av/cricket/6067239...   \n",
       "\n",
       "                                          description  \n",
       "50  Jonny Bairstow's hundred rescues England after...  \n",
       "51  Robert Lewandowski scores the earliest ever Ch...  \n",
       "52  Andy Murray pledges to donate his earnings fro...  \n",
       "53  Wales' World Cup play-off semi-final against A...  \n",
       "54  West Indies' Deandra Dottin takes a sensationa...  "
      ]
     },
     "execution_count": 10,
     "metadata": {},
     "output_type": "execute_result"
    }
   ],
   "source": [
    "new_data_df.tail()"
   ]
  },
  {
   "cell_type": "markdown",
   "id": "dda6b758",
   "metadata": {
    "papermill": {
     "duration": 0.028703,
     "end_time": "2022-03-09T06:14:09.165702",
     "exception": false,
     "start_time": "2022-03-09T06:14:09.136999",
     "status": "completed"
    },
    "tags": []
   },
   "source": [
    "# Save merged data"
   ]
  },
  {
   "cell_type": "markdown",
   "id": "a13448bd",
   "metadata": {
    "papermill": {
     "duration": 0.028415,
     "end_time": "2022-03-09T06:14:09.223040",
     "exception": false,
     "start_time": "2022-03-09T06:14:09.194625",
     "status": "completed"
    },
    "tags": []
   },
   "source": [
    "After merging the data, save it (this will populate the next version of dataset)."
   ]
  },
  {
   "cell_type": "code",
   "execution_count": 11,
   "id": "5cb6425c",
   "metadata": {
    "execution": {
     "iopub.execute_input": "2022-03-09T06:14:09.285553Z",
     "iopub.status.busy": "2022-03-09T06:14:09.284730Z",
     "iopub.status.idle": "2022-03-09T06:14:09.290972Z",
     "shell.execute_reply": "2022-03-09T06:14:09.291550Z",
     "shell.execute_reply.started": "2022-03-08T08:49:47.84344Z"
    },
    "papermill": {
     "duration": 0.039863,
     "end_time": "2022-03-09T06:14:09.291726",
     "exception": false,
     "start_time": "2022-03-09T06:14:09.251863",
     "status": "completed"
    },
    "tags": []
   },
   "outputs": [],
   "source": [
    "new_data_df.to_csv(\"bbc_news.csv\", index=False)"
   ]
  }
 ],
 "metadata": {
  "kernelspec": {
   "display_name": "Python 3",
   "language": "python",
   "name": "python3"
  },
  "language_info": {
   "codemirror_mode": {
    "name": "ipython",
    "version": 3
   },
   "file_extension": ".py",
   "mimetype": "text/x-python",
   "name": "python",
   "nbconvert_exporter": "python",
   "pygments_lexer": "ipython3",
   "version": "3.7.12"
  },
  "papermill": {
   "default_parameters": {},
   "duration": 27.794374,
   "end_time": "2022-03-09T06:14:09.929917",
   "environment_variables": {},
   "exception": null,
   "input_path": "__notebook__.ipynb",
   "output_path": "__notebook__.ipynb",
   "parameters": {},
   "start_time": "2022-03-09T06:13:42.135543",
   "version": "2.3.3"
  }
 },
 "nbformat": 4,
 "nbformat_minor": 5
}
