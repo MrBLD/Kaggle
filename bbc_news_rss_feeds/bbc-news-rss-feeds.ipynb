{
 "cells": [
  {
   "cell_type": "markdown",
   "id": "d871e22f",
   "metadata": {
    "papermill": {
     "duration": 0.020596,
     "end_time": "2022-03-30T22:19:51.859060",
     "exception": false,
     "start_time": "2022-03-30T22:19:51.838464",
     "status": "completed"
    },
    "tags": []
   },
   "source": [
    "# Introduction\n",
    "\n",
    "This is a Notebook used to collect data from BBC News RSS Feeds.\n",
    "\n",
    "The Notebook is run with a certain frequency to collect new data.\n",
    "Existing data (read from database) is merged (removing duplicates) with the new data.\n",
    "Then the resulting updated data is saved as new version of the database."
   ]
  },
  {
   "cell_type": "markdown",
   "id": "f661b4a8",
   "metadata": {
    "papermill": {
     "duration": 0.01918,
     "end_time": "2022-03-30T22:19:51.898059",
     "exception": false,
     "start_time": "2022-03-30T22:19:51.878879",
     "status": "completed"
    },
    "tags": []
   },
   "source": [
    "# Install and import packages"
   ]
  },
  {
   "cell_type": "code",
   "execution_count": 1,
   "id": "14f3e3aa",
   "metadata": {
    "execution": {
     "iopub.execute_input": "2022-03-30T22:19:51.946424Z",
     "iopub.status.busy": "2022-03-30T22:19:51.945694Z",
     "iopub.status.idle": "2022-03-30T22:20:09.282119Z",
     "shell.execute_reply": "2022-03-30T22:20:09.281310Z",
     "shell.execute_reply.started": "2022-03-08T08:49:28.414713Z"
    },
    "papermill": {
     "duration": 17.364941,
     "end_time": "2022-03-30T22:20:09.282283",
     "exception": false,
     "start_time": "2022-03-30T22:19:51.917342",
     "status": "completed"
    },
    "tags": []
   },
   "outputs": [
    {
     "name": "stdout",
     "output_type": "stream",
     "text": [
      "Collecting requests_html\r\n",
      "  Downloading requests_html-0.10.0-py3-none-any.whl (13 kB)\r\n",
      "Collecting parse\r\n",
      "  Downloading parse-1.19.0.tar.gz (30 kB)\r\n",
      "  Preparing metadata (setup.py) ... \u001b[?25l-\b \bdone\r\n",
      "\u001b[?25hRequirement already satisfied: requests in /opt/conda/lib/python3.7/site-packages (from requests_html) (2.26.0)\r\n",
      "Collecting bs4\r\n",
      "  Downloading bs4-0.0.1.tar.gz (1.1 kB)\r\n",
      "  Preparing metadata (setup.py) ... \u001b[?25l-\b \bdone\r\n",
      "\u001b[?25hCollecting w3lib\r\n",
      "  Downloading w3lib-1.22.0-py2.py3-none-any.whl (20 kB)\r\n",
      "Collecting pyquery\r\n",
      "  Downloading pyquery-1.4.3-py3-none-any.whl (22 kB)\r\n",
      "Collecting pyppeteer>=0.0.14\r\n",
      "  Downloading pyppeteer-1.0.2-py3-none-any.whl (83 kB)\r\n",
      "     |████████████████████████████████| 83 kB 709 kB/s            \r\n",
      "\u001b[?25hCollecting fake-useragent\r\n",
      "  Downloading fake-useragent-0.1.11.tar.gz (13 kB)\r\n",
      "  Preparing metadata (setup.py) ... \u001b[?25l-\b \bdone\r\n",
      "\u001b[?25hRequirement already satisfied: websockets<11.0,>=10.0 in /opt/conda/lib/python3.7/site-packages (from pyppeteer>=0.0.14->requests_html) (10.2)\r\n",
      "Requirement already satisfied: certifi>=2021 in /opt/conda/lib/python3.7/site-packages (from pyppeteer>=0.0.14->requests_html) (2021.10.8)\r\n",
      "Requirement already satisfied: appdirs<2.0.0,>=1.4.3 in /opt/conda/lib/python3.7/site-packages (from pyppeteer>=0.0.14->requests_html) (1.4.4)\r\n",
      "Collecting pyee<9.0.0,>=8.1.0\r\n",
      "  Downloading pyee-8.2.2-py2.py3-none-any.whl (12 kB)\r\n",
      "Requirement already satisfied: tqdm<5.0.0,>=4.42.1 in /opt/conda/lib/python3.7/site-packages (from pyppeteer>=0.0.14->requests_html) (4.62.3)\r\n",
      "Requirement already satisfied: importlib-metadata>=1.4 in /opt/conda/lib/python3.7/site-packages (from pyppeteer>=0.0.14->requests_html) (4.11.2)\r\n",
      "Requirement already satisfied: urllib3<2.0.0,>=1.25.8 in /opt/conda/lib/python3.7/site-packages (from pyppeteer>=0.0.14->requests_html) (1.26.7)\r\n",
      "Requirement already satisfied: beautifulsoup4 in /opt/conda/lib/python3.7/site-packages (from bs4->requests_html) (4.10.0)\r\n",
      "Collecting cssselect>0.7.9\r\n",
      "  Downloading cssselect-1.1.0-py2.py3-none-any.whl (16 kB)\r\n",
      "Requirement already satisfied: lxml>=2.1 in /opt/conda/lib/python3.7/site-packages (from pyquery->requests_html) (4.8.0)\r\n",
      "Requirement already satisfied: idna<4,>=2.5 in /opt/conda/lib/python3.7/site-packages (from requests->requests_html) (3.1)\r\n",
      "Requirement already satisfied: charset-normalizer~=2.0.0 in /opt/conda/lib/python3.7/site-packages (from requests->requests_html) (2.0.9)\r\n",
      "Requirement already satisfied: six>=1.4.1 in /opt/conda/lib/python3.7/site-packages (from w3lib->requests_html) (1.16.0)\r\n",
      "Requirement already satisfied: typing-extensions>=3.6.4 in /opt/conda/lib/python3.7/site-packages (from importlib-metadata>=1.4->pyppeteer>=0.0.14->requests_html) (4.1.1)\r\n",
      "Requirement already satisfied: zipp>=0.5 in /opt/conda/lib/python3.7/site-packages (from importlib-metadata>=1.4->pyppeteer>=0.0.14->requests_html) (3.6.0)\r\n",
      "Requirement already satisfied: soupsieve>1.2 in /opt/conda/lib/python3.7/site-packages (from beautifulsoup4->bs4->requests_html) (2.3.1)\r\n",
      "Building wheels for collected packages: bs4, fake-useragent, parse\r\n",
      "  Building wheel for bs4 (setup.py) ... \u001b[?25l-\b \b\\\b \bdone\r\n",
      "\u001b[?25h  Created wheel for bs4: filename=bs4-0.0.1-py3-none-any.whl size=1271 sha256=8d45df66353ac80dde15435a2d247f4adc5af80bd81f1060d816ac727fc0d7ed\r\n",
      "  Stored in directory: /root/.cache/pip/wheels/0a/9e/ba/20e5bbc1afef3a491f0b3bb74d508f99403aabe76eda2167ca\r\n",
      "  Building wheel for fake-useragent (setup.py) ... \u001b[?25l-\b \bdone\r\n",
      "\u001b[?25h  Created wheel for fake-useragent: filename=fake_useragent-0.1.11-py3-none-any.whl size=13502 sha256=8b4e5b85966ed0b81926337597c833a312c5ba03b3843f5f904388442f822d05\r\n",
      "  Stored in directory: /root/.cache/pip/wheels/ed/f7/62/50ab6c9a0b5567267ab76a9daa9d06315704209b2c5d032031\r\n",
      "  Building wheel for parse (setup.py) ... \u001b[?25l-\b \bdone\r\n",
      "\u001b[?25h  Created wheel for parse: filename=parse-1.19.0-py3-none-any.whl size=24591 sha256=57d375e734835838cf5077d56cd410ad45154b9490ca82a105136c28b192373b\r\n",
      "  Stored in directory: /root/.cache/pip/wheels/9c/aa/cc/f2228050ccb40f22144b073f15a2c84f11204f29fc0dce028e\r\n",
      "Successfully built bs4 fake-useragent parse\r\n",
      "Installing collected packages: pyee, cssselect, w3lib, pyquery, pyppeteer, parse, fake-useragent, bs4, requests-html\r\n",
      "Successfully installed bs4-0.0.1 cssselect-1.1.0 fake-useragent-0.1.11 parse-1.19.0 pyee-8.2.2 pyppeteer-1.0.2 pyquery-1.4.3 requests-html-0.10.0 w3lib-1.22.0\r\n",
      "\u001b[33mWARNING: Running pip as the 'root' user can result in broken permissions and conflicting behaviour with the system package manager. It is recommended to use a virtual environment instead: https://pip.pypa.io/warnings/venv\u001b[0m\r\n"
     ]
    }
   ],
   "source": [
    "!pip3 install requests_html"
   ]
  },
  {
   "cell_type": "code",
   "execution_count": 2,
   "id": "22bb701b",
   "metadata": {
    "execution": {
     "iopub.execute_input": "2022-03-30T22:20:09.353089Z",
     "iopub.status.busy": "2022-03-30T22:20:09.352487Z",
     "iopub.status.idle": "2022-03-30T22:20:09.769552Z",
     "shell.execute_reply": "2022-03-30T22:20:09.768815Z",
     "shell.execute_reply.started": "2022-03-08T08:49:46.553326Z"
    },
    "papermill": {
     "duration": 0.454387,
     "end_time": "2022-03-30T22:20:09.769738",
     "exception": false,
     "start_time": "2022-03-30T22:20:09.315351",
     "status": "completed"
    },
    "tags": []
   },
   "outputs": [],
   "source": [
    "import requests\n",
    "import pandas as pd\n",
    "from requests_html import HTML\n",
    "from requests_html import HTMLSession\n",
    "from bs4 import BeautifulSoup"
   ]
  },
  {
   "cell_type": "markdown",
   "id": "33282f9d",
   "metadata": {
    "papermill": {
     "duration": 0.032931,
     "end_time": "2022-03-30T22:20:09.836535",
     "exception": false,
     "start_time": "2022-03-30T22:20:09.803604",
     "status": "completed"
    },
    "tags": []
   },
   "source": [
    "# RSS Feed Parsing Functions"
   ]
  },
  {
   "cell_type": "code",
   "execution_count": 3,
   "id": "a08d25e3",
   "metadata": {
    "execution": {
     "iopub.execute_input": "2022-03-30T22:20:09.908823Z",
     "iopub.status.busy": "2022-03-30T22:20:09.907808Z",
     "iopub.status.idle": "2022-03-30T22:20:09.910586Z",
     "shell.execute_reply": "2022-03-30T22:20:09.910090Z",
     "shell.execute_reply.started": "2022-03-08T08:49:46.994832Z"
    },
    "papermill": {
     "duration": 0.0415,
     "end_time": "2022-03-30T22:20:09.910728",
     "exception": false,
     "start_time": "2022-03-30T22:20:09.869228",
     "status": "completed"
    },
    "tags": []
   },
   "outputs": [],
   "source": [
    "def get_html_source(url):\n",
    "    \"\"\"\n",
    "        Return the source code for the provided URL. \n",
    "        source: https://practicaldatascience.co.uk/data-science/how-to-read-an-rss-feed-in-python\n",
    "    Args: \n",
    "        url (string): URL of the page to scrape.\n",
    "\n",
    "    Returns:\n",
    "        response (object): HTTP response object from requests_html. \n",
    "    \"\"\"\n",
    "\n",
    "    try:\n",
    "        session = HTMLSession()\n",
    "        response = session.get(url)\n",
    "        return response\n",
    "\n",
    "    except requests.exceptions.RequestException as ex:\n",
    "        print(ex)"
   ]
  },
  {
   "cell_type": "code",
   "execution_count": 4,
   "id": "c6d47fa9",
   "metadata": {
    "execution": {
     "iopub.execute_input": "2022-03-30T22:20:09.988581Z",
     "iopub.status.busy": "2022-03-30T22:20:09.987566Z",
     "iopub.status.idle": "2022-03-30T22:20:09.991023Z",
     "shell.execute_reply": "2022-03-30T22:20:09.991630Z",
     "shell.execute_reply.started": "2022-03-08T08:49:47.002365Z"
    },
    "papermill": {
     "duration": 0.04768,
     "end_time": "2022-03-30T22:20:09.991793",
     "exception": false,
     "start_time": "2022-03-30T22:20:09.944113",
     "status": "completed"
    },
    "tags": []
   },
   "outputs": [],
   "source": [
    "def get_rss_feed(url):\n",
    "    \"\"\"\n",
    "       Return a Pandas dataframe containing the RSS feed contents.\n",
    "       Source: https://practicaldatascience.co.uk/data-science/how-to-read-an-rss-feed-in-python\n",
    "       Modified to use BeautifulSoup (b4)\n",
    "       \n",
    "    Args: \n",
    "        url (string): URL of the RSS feed to read.\n",
    "\n",
    "    Returns:\n",
    "        df (dataframe): Pandas dataframe containing the RSS feed contents.\n",
    "    \"\"\"\n",
    "    \n",
    "    response = get_html_source(url)\n",
    "    \n",
    "    df = pd.DataFrame(columns = ['title', 'pubDate', 'guid', 'link', 'description'])\n",
    "\n",
    "    with response as r:   \n",
    "        # we use BeautifulSoup with `lxml-xml` type to parse the rss feed\n",
    "        soup = BeautifulSoup(r.text , 'lxml-xml')\n",
    "        items = soup.find_all('item')\n",
    "\n",
    "        for item in items:   \n",
    "            try:\n",
    "                title = item.find('title').text\n",
    "                pubDate = item.find('pubDate').text\n",
    "                guid = item.find('guid').text\n",
    "                link = item.find('link').text\n",
    "                description = item.find('description').text\n",
    "\n",
    "                row = {'title': title, 'pubDate': pubDate, 'guid': guid, 'link': link, 'description': description}\n",
    "                df = df.append(row, ignore_index=True)\n",
    "            except Exception as ex:\n",
    "                print(ex)\n",
    "                continue\n",
    "    return df"
   ]
  },
  {
   "cell_type": "markdown",
   "id": "f27eb524",
   "metadata": {
    "papermill": {
     "duration": 0.032289,
     "end_time": "2022-03-30T22:20:10.056851",
     "exception": false,
     "start_time": "2022-03-30T22:20:10.024562",
     "status": "completed"
    },
    "tags": []
   },
   "source": [
    "# Read BBC News RSS Feeds"
   ]
  },
  {
   "cell_type": "markdown",
   "id": "496ef16d",
   "metadata": {
    "papermill": {
     "duration": 0.032397,
     "end_time": "2022-03-30T22:20:10.122966",
     "exception": false,
     "start_time": "2022-03-30T22:20:10.090569",
     "status": "completed"
    },
    "tags": []
   },
   "source": [
    "Initialize the RSS Feed url."
   ]
  },
  {
   "cell_type": "code",
   "execution_count": 5,
   "id": "841b016c",
   "metadata": {
    "execution": {
     "iopub.execute_input": "2022-03-30T22:20:10.191984Z",
     "iopub.status.busy": "2022-03-30T22:20:10.191365Z",
     "iopub.status.idle": "2022-03-30T22:20:10.194215Z",
     "shell.execute_reply": "2022-03-30T22:20:10.194794Z",
     "shell.execute_reply.started": "2022-03-08T08:49:47.017298Z"
    },
    "papermill": {
     "duration": 0.039243,
     "end_time": "2022-03-30T22:20:10.194945",
     "exception": false,
     "start_time": "2022-03-30T22:20:10.155702",
     "status": "completed"
    },
    "tags": []
   },
   "outputs": [],
   "source": [
    "url = \"http://feeds.bbci.co.uk/news/rss.xml\""
   ]
  },
  {
   "cell_type": "markdown",
   "id": "b7005206",
   "metadata": {
    "papermill": {
     "duration": 0.032147,
     "end_time": "2022-03-30T22:20:10.259827",
     "exception": false,
     "start_time": "2022-03-30T22:20:10.227680",
     "status": "completed"
    },
    "tags": []
   },
   "source": [
    "Get the RSS Feed."
   ]
  },
  {
   "cell_type": "code",
   "execution_count": 6,
   "id": "87d1b347",
   "metadata": {
    "execution": {
     "iopub.execute_input": "2022-03-30T22:20:10.329670Z",
     "iopub.status.busy": "2022-03-30T22:20:10.329031Z",
     "iopub.status.idle": "2022-03-30T22:20:11.107281Z",
     "shell.execute_reply": "2022-03-30T22:20:11.107770Z",
     "shell.execute_reply.started": "2022-03-08T08:49:47.029731Z"
    },
    "papermill": {
     "duration": 0.815559,
     "end_time": "2022-03-30T22:20:11.107932",
     "exception": false,
     "start_time": "2022-03-30T22:20:10.292373",
     "status": "completed"
    },
    "tags": []
   },
   "outputs": [
    {
     "name": "stdout",
     "output_type": "stream",
     "text": [
      "New data collected: 53\n"
     ]
    },
    {
     "data": {
      "text/html": [
       "<div>\n",
       "<style scoped>\n",
       "    .dataframe tbody tr th:only-of-type {\n",
       "        vertical-align: middle;\n",
       "    }\n",
       "\n",
       "    .dataframe tbody tr th {\n",
       "        vertical-align: top;\n",
       "    }\n",
       "\n",
       "    .dataframe thead th {\n",
       "        text-align: right;\n",
       "    }\n",
       "</style>\n",
       "<table border=\"1\" class=\"dataframe\">\n",
       "  <thead>\n",
       "    <tr style=\"text-align: right;\">\n",
       "      <th></th>\n",
       "      <th>title</th>\n",
       "      <th>pubDate</th>\n",
       "      <th>guid</th>\n",
       "      <th>link</th>\n",
       "      <th>description</th>\n",
       "    </tr>\n",
       "  </thead>\n",
       "  <tbody>\n",
       "    <tr>\n",
       "      <th>0</th>\n",
       "      <td>Shrewsbury maternity deaths scandal will spark...</td>\n",
       "      <td>Wed, 30 Mar 2022 19:50:37 GMT</td>\n",
       "      <td>https://www.bbc.co.uk/news/uk-england-shropshi...</td>\n",
       "      <td>https://www.bbc.co.uk/news/uk-england-shropshi...</td>\n",
       "      <td>Sajid Javid apologises over the maternity scan...</td>\n",
       "    </tr>\n",
       "    <tr>\n",
       "      <th>1</th>\n",
       "      <td>Ukraine War: Putin demands Mariupol surrender ...</td>\n",
       "      <td>Wed, 30 Mar 2022 21:50:03 GMT</td>\n",
       "      <td>https://www.bbc.co.uk/news/world-europe-60926470</td>\n",
       "      <td>https://www.bbc.co.uk/news/world-europe-609264...</td>\n",
       "      <td>Russia's defence ministry has since announced ...</td>\n",
       "    </tr>\n",
       "    <tr>\n",
       "      <th>2</th>\n",
       "      <td>Germany and Austria take step towards gas rati...</td>\n",
       "      <td>Wed, 30 Mar 2022 16:48:46 GMT</td>\n",
       "      <td>https://www.bbc.co.uk/news/business-60925016</td>\n",
       "      <td>https://www.bbc.co.uk/news/business-60925016?a...</td>\n",
       "      <td>Germany and Austria have both issued gas suppl...</td>\n",
       "    </tr>\n",
       "    <tr>\n",
       "      <th>3</th>\n",
       "      <td>Tom Parker: The Wanted singer dies aged 33</td>\n",
       "      <td>Wed, 30 Mar 2022 19:27:37 GMT</td>\n",
       "      <td>https://www.bbc.co.uk/news/entertainment-arts-...</td>\n",
       "      <td>https://www.bbc.co.uk/news/entertainment-arts-...</td>\n",
       "      <td>The British boy band star told fans in 2020 he...</td>\n",
       "    </tr>\n",
       "    <tr>\n",
       "      <th>4</th>\n",
       "      <td>Boris Johnson must resign over lawbreaking at ...</td>\n",
       "      <td>Wed, 30 Mar 2022 15:17:18 GMT</td>\n",
       "      <td>https://www.bbc.co.uk/news/uk-politics-60928083</td>\n",
       "      <td>https://www.bbc.co.uk/news/uk-politics-6092808...</td>\n",
       "      <td>The Labour leader accuses Boris Johnson of mis...</td>\n",
       "    </tr>\n",
       "  </tbody>\n",
       "</table>\n",
       "</div>"
      ],
      "text/plain": [
       "                                               title  \\\n",
       "0  Shrewsbury maternity deaths scandal will spark...   \n",
       "1  Ukraine War: Putin demands Mariupol surrender ...   \n",
       "2  Germany and Austria take step towards gas rati...   \n",
       "3         Tom Parker: The Wanted singer dies aged 33   \n",
       "4  Boris Johnson must resign over lawbreaking at ...   \n",
       "\n",
       "                         pubDate  \\\n",
       "0  Wed, 30 Mar 2022 19:50:37 GMT   \n",
       "1  Wed, 30 Mar 2022 21:50:03 GMT   \n",
       "2  Wed, 30 Mar 2022 16:48:46 GMT   \n",
       "3  Wed, 30 Mar 2022 19:27:37 GMT   \n",
       "4  Wed, 30 Mar 2022 15:17:18 GMT   \n",
       "\n",
       "                                                guid  \\\n",
       "0  https://www.bbc.co.uk/news/uk-england-shropshi...   \n",
       "1   https://www.bbc.co.uk/news/world-europe-60926470   \n",
       "2       https://www.bbc.co.uk/news/business-60925016   \n",
       "3  https://www.bbc.co.uk/news/entertainment-arts-...   \n",
       "4    https://www.bbc.co.uk/news/uk-politics-60928083   \n",
       "\n",
       "                                                link  \\\n",
       "0  https://www.bbc.co.uk/news/uk-england-shropshi...   \n",
       "1  https://www.bbc.co.uk/news/world-europe-609264...   \n",
       "2  https://www.bbc.co.uk/news/business-60925016?a...   \n",
       "3  https://www.bbc.co.uk/news/entertainment-arts-...   \n",
       "4  https://www.bbc.co.uk/news/uk-politics-6092808...   \n",
       "\n",
       "                                         description  \n",
       "0  Sajid Javid apologises over the maternity scan...  \n",
       "1  Russia's defence ministry has since announced ...  \n",
       "2  Germany and Austria have both issued gas suppl...  \n",
       "3  The British boy band star told fans in 2020 he...  \n",
       "4  The Labour leader accuses Boris Johnson of mis...  "
      ]
     },
     "execution_count": 6,
     "metadata": {},
     "output_type": "execute_result"
    }
   ],
   "source": [
    "data_df = get_rss_feed(url)\n",
    "print(f\"New data collected: {data_df.shape[0]}\")\n",
    "data_df.head()"
   ]
  },
  {
   "cell_type": "markdown",
   "id": "1abdb953",
   "metadata": {
    "papermill": {
     "duration": 0.033251,
     "end_time": "2022-03-30T22:20:11.174897",
     "exception": false,
     "start_time": "2022-03-30T22:20:11.141646",
     "status": "completed"
    },
    "tags": []
   },
   "source": [
    "# Load data from database and concatenate old and new data"
   ]
  },
  {
   "cell_type": "markdown",
   "id": "52b25325",
   "metadata": {
    "papermill": {
     "duration": 0.033203,
     "end_time": "2022-03-30T22:20:11.242215",
     "exception": false,
     "start_time": "2022-03-30T22:20:11.209012",
     "status": "completed"
    },
    "tags": []
   },
   "source": [
    "Load the data from database."
   ]
  },
  {
   "cell_type": "code",
   "execution_count": 7,
   "id": "6059ed24",
   "metadata": {
    "execution": {
     "iopub.execute_input": "2022-03-30T22:20:11.313244Z",
     "iopub.status.busy": "2022-03-30T22:20:11.312287Z",
     "iopub.status.idle": "2022-03-30T22:20:11.355420Z",
     "shell.execute_reply": "2022-03-30T22:20:11.356044Z",
     "shell.execute_reply.started": "2022-03-08T08:49:47.788311Z"
    },
    "papermill": {
     "duration": 0.0807,
     "end_time": "2022-03-30T22:20:11.356207",
     "exception": false,
     "start_time": "2022-03-30T22:20:11.275507",
     "status": "completed"
    },
    "tags": []
   },
   "outputs": [
    {
     "name": "stdout",
     "output_type": "stream",
     "text": [
      "Old data: 1070\n"
     ]
    },
    {
     "data": {
      "text/html": [
       "<div>\n",
       "<style scoped>\n",
       "    .dataframe tbody tr th:only-of-type {\n",
       "        vertical-align: middle;\n",
       "    }\n",
       "\n",
       "    .dataframe tbody tr th {\n",
       "        vertical-align: top;\n",
       "    }\n",
       "\n",
       "    .dataframe thead th {\n",
       "        text-align: right;\n",
       "    }\n",
       "</style>\n",
       "<table border=\"1\" class=\"dataframe\">\n",
       "  <thead>\n",
       "    <tr style=\"text-align: right;\">\n",
       "      <th></th>\n",
       "      <th>title</th>\n",
       "      <th>pubDate</th>\n",
       "      <th>guid</th>\n",
       "      <th>link</th>\n",
       "      <th>description</th>\n",
       "    </tr>\n",
       "  </thead>\n",
       "  <tbody>\n",
       "    <tr>\n",
       "      <th>0</th>\n",
       "      <td>Ukraine: Angry Zelensky vows to punish Russian...</td>\n",
       "      <td>Mon, 07 Mar 2022 08:01:56 GMT</td>\n",
       "      <td>https://www.bbc.co.uk/news/world-europe-60638042</td>\n",
       "      <td>https://www.bbc.co.uk/news/world-europe-606380...</td>\n",
       "      <td>The Ukrainian president says the country will ...</td>\n",
       "    </tr>\n",
       "    <tr>\n",
       "      <th>1</th>\n",
       "      <td>War in Ukraine: Taking cover in a town under a...</td>\n",
       "      <td>Sun, 06 Mar 2022 22:49:58 GMT</td>\n",
       "      <td>https://www.bbc.co.uk/news/world-europe-60641873</td>\n",
       "      <td>https://www.bbc.co.uk/news/world-europe-606418...</td>\n",
       "      <td>Jeremy Bowen was on the frontline in Irpin, as...</td>\n",
       "    </tr>\n",
       "    <tr>\n",
       "      <th>2</th>\n",
       "      <td>Ukraine war 'catastrophic for global food'</td>\n",
       "      <td>Mon, 07 Mar 2022 00:14:42 GMT</td>\n",
       "      <td>https://www.bbc.co.uk/news/business-60623941</td>\n",
       "      <td>https://www.bbc.co.uk/news/business-60623941?a...</td>\n",
       "      <td>One of the world's biggest fertiliser firms sa...</td>\n",
       "    </tr>\n",
       "    <tr>\n",
       "      <th>3</th>\n",
       "      <td>Manchester Arena bombing: Saffie Roussos's par...</td>\n",
       "      <td>Mon, 07 Mar 2022 00:05:40 GMT</td>\n",
       "      <td>https://www.bbc.co.uk/news/uk-60579079</td>\n",
       "      <td>https://www.bbc.co.uk/news/uk-60579079?at_medi...</td>\n",
       "      <td>The parents of the Manchester Arena bombing's ...</td>\n",
       "    </tr>\n",
       "    <tr>\n",
       "      <th>4</th>\n",
       "      <td>Ukraine conflict: Oil price soars to highest l...</td>\n",
       "      <td>Mon, 07 Mar 2022 08:15:53 GMT</td>\n",
       "      <td>https://www.bbc.co.uk/news/business-60642786</td>\n",
       "      <td>https://www.bbc.co.uk/news/business-60642786?a...</td>\n",
       "      <td>Consumers are feeling the impact of higher ene...</td>\n",
       "    </tr>\n",
       "  </tbody>\n",
       "</table>\n",
       "</div>"
      ],
      "text/plain": [
       "                                               title  \\\n",
       "0  Ukraine: Angry Zelensky vows to punish Russian...   \n",
       "1  War in Ukraine: Taking cover in a town under a...   \n",
       "2         Ukraine war 'catastrophic for global food'   \n",
       "3  Manchester Arena bombing: Saffie Roussos's par...   \n",
       "4  Ukraine conflict: Oil price soars to highest l...   \n",
       "\n",
       "                         pubDate  \\\n",
       "0  Mon, 07 Mar 2022 08:01:56 GMT   \n",
       "1  Sun, 06 Mar 2022 22:49:58 GMT   \n",
       "2  Mon, 07 Mar 2022 00:14:42 GMT   \n",
       "3  Mon, 07 Mar 2022 00:05:40 GMT   \n",
       "4  Mon, 07 Mar 2022 08:15:53 GMT   \n",
       "\n",
       "                                               guid  \\\n",
       "0  https://www.bbc.co.uk/news/world-europe-60638042   \n",
       "1  https://www.bbc.co.uk/news/world-europe-60641873   \n",
       "2      https://www.bbc.co.uk/news/business-60623941   \n",
       "3            https://www.bbc.co.uk/news/uk-60579079   \n",
       "4      https://www.bbc.co.uk/news/business-60642786   \n",
       "\n",
       "                                                link  \\\n",
       "0  https://www.bbc.co.uk/news/world-europe-606380...   \n",
       "1  https://www.bbc.co.uk/news/world-europe-606418...   \n",
       "2  https://www.bbc.co.uk/news/business-60623941?a...   \n",
       "3  https://www.bbc.co.uk/news/uk-60579079?at_medi...   \n",
       "4  https://www.bbc.co.uk/news/business-60642786?a...   \n",
       "\n",
       "                                         description  \n",
       "0  The Ukrainian president says the country will ...  \n",
       "1  Jeremy Bowen was on the frontline in Irpin, as...  \n",
       "2  One of the world's biggest fertiliser firms sa...  \n",
       "3  The parents of the Manchester Arena bombing's ...  \n",
       "4  Consumers are feeling the impact of higher ene...  "
      ]
     },
     "execution_count": 7,
     "metadata": {},
     "output_type": "execute_result"
    }
   ],
   "source": [
    "old_data_df = pd.read_csv(\"/kaggle/input/bbc-news/bbc_news.csv\")\n",
    "print(f\"Old data: {old_data_df.shape[0]}\")\n",
    "old_data_df.head()"
   ]
  },
  {
   "cell_type": "markdown",
   "id": "244174f6",
   "metadata": {
    "papermill": {
     "duration": 0.034606,
     "end_time": "2022-03-30T22:20:11.425423",
     "exception": false,
     "start_time": "2022-03-30T22:20:11.390817",
     "status": "completed"
    },
    "tags": []
   },
   "source": [
    "Let's look also to the dataset tail."
   ]
  },
  {
   "cell_type": "code",
   "execution_count": 8,
   "id": "d6eacc96",
   "metadata": {
    "execution": {
     "iopub.execute_input": "2022-03-30T22:20:11.498153Z",
     "iopub.status.busy": "2022-03-30T22:20:11.497209Z",
     "iopub.status.idle": "2022-03-30T22:20:11.511694Z",
     "shell.execute_reply": "2022-03-30T22:20:11.511080Z",
     "shell.execute_reply.started": "2022-03-08T08:51:39.026314Z"
    },
    "papermill": {
     "duration": 0.052047,
     "end_time": "2022-03-30T22:20:11.511845",
     "exception": false,
     "start_time": "2022-03-30T22:20:11.459798",
     "status": "completed"
    },
    "tags": []
   },
   "outputs": [
    {
     "data": {
      "text/html": [
       "<div>\n",
       "<style scoped>\n",
       "    .dataframe tbody tr th:only-of-type {\n",
       "        vertical-align: middle;\n",
       "    }\n",
       "\n",
       "    .dataframe tbody tr th {\n",
       "        vertical-align: top;\n",
       "    }\n",
       "\n",
       "    .dataframe thead th {\n",
       "        text-align: right;\n",
       "    }\n",
       "</style>\n",
       "<table border=\"1\" class=\"dataframe\">\n",
       "  <thead>\n",
       "    <tr style=\"text-align: right;\">\n",
       "      <th></th>\n",
       "      <th>title</th>\n",
       "      <th>pubDate</th>\n",
       "      <th>guid</th>\n",
       "      <th>link</th>\n",
       "      <th>description</th>\n",
       "    </tr>\n",
       "  </thead>\n",
       "  <tbody>\n",
       "    <tr>\n",
       "      <th>1065</th>\n",
       "      <td>Portugal 2-0 North Macedonia: Bruno Fernandes ...</td>\n",
       "      <td>Tue, 29 Mar 2022 21:07:28 GMT</td>\n",
       "      <td>https://www.bbc.co.uk/sport/football/60907078</td>\n",
       "      <td>https://www.bbc.co.uk/sport/football/60907078?...</td>\n",
       "      <td>Bruno Fernandes sent Portugal to the World Cup...</td>\n",
       "    </tr>\n",
       "    <tr>\n",
       "      <th>1066</th>\n",
       "      <td>Ex-speed skater Christie set for new e-scooter...</td>\n",
       "      <td>Tue, 29 Mar 2022 20:03:36 GMT</td>\n",
       "      <td>https://www.bbc.co.uk/sport/motorsport/60922046</td>\n",
       "      <td>https://www.bbc.co.uk/sport/motorsport/6092204...</td>\n",
       "      <td>Former speed skater Elise Christie is amongst ...</td>\n",
       "    </tr>\n",
       "    <tr>\n",
       "      <th>1067</th>\n",
       "      <td>Miami Open: Cameron Norrie loses to Casper Ruu...</td>\n",
       "      <td>Tue, 29 Mar 2022 21:14:40 GMT</td>\n",
       "      <td>https://www.bbc.co.uk/sport/tennis/60920528</td>\n",
       "      <td>https://www.bbc.co.uk/sport/tennis/60920528?at...</td>\n",
       "      <td>British number one Cameron Norrie is hampered ...</td>\n",
       "    </tr>\n",
       "    <tr>\n",
       "      <th>1068</th>\n",
       "      <td>Transgender cyclist Bridges set to race in fir...</td>\n",
       "      <td>Tue, 29 Mar 2022 20:28:27 GMT</td>\n",
       "      <td>https://www.bbc.co.uk/sport/cycling/60911823</td>\n",
       "      <td>https://www.bbc.co.uk/sport/cycling/60911823?a...</td>\n",
       "      <td>Transgender athlete Emily Bridges may compete ...</td>\n",
       "    </tr>\n",
       "    <tr>\n",
       "      <th>1069</th>\n",
       "      <td>Election 2022: Is there an election in my area?</td>\n",
       "      <td>Thu, 17 Mar 2022 17:42:01 GMT</td>\n",
       "      <td>https://www.bbc.co.uk/news/uk-politics-60695244</td>\n",
       "      <td>https://www.bbc.co.uk/news/uk-politics-6069524...</td>\n",
       "      <td>National elections in Northern Ireland and loc...</td>\n",
       "    </tr>\n",
       "  </tbody>\n",
       "</table>\n",
       "</div>"
      ],
      "text/plain": [
       "                                                  title  \\\n",
       "1065  Portugal 2-0 North Macedonia: Bruno Fernandes ...   \n",
       "1066  Ex-speed skater Christie set for new e-scooter...   \n",
       "1067  Miami Open: Cameron Norrie loses to Casper Ruu...   \n",
       "1068  Transgender cyclist Bridges set to race in fir...   \n",
       "1069    Election 2022: Is there an election in my area?   \n",
       "\n",
       "                            pubDate  \\\n",
       "1065  Tue, 29 Mar 2022 21:07:28 GMT   \n",
       "1066  Tue, 29 Mar 2022 20:03:36 GMT   \n",
       "1067  Tue, 29 Mar 2022 21:14:40 GMT   \n",
       "1068  Tue, 29 Mar 2022 20:28:27 GMT   \n",
       "1069  Thu, 17 Mar 2022 17:42:01 GMT   \n",
       "\n",
       "                                                 guid  \\\n",
       "1065    https://www.bbc.co.uk/sport/football/60907078   \n",
       "1066  https://www.bbc.co.uk/sport/motorsport/60922046   \n",
       "1067      https://www.bbc.co.uk/sport/tennis/60920528   \n",
       "1068     https://www.bbc.co.uk/sport/cycling/60911823   \n",
       "1069  https://www.bbc.co.uk/news/uk-politics-60695244   \n",
       "\n",
       "                                                   link  \\\n",
       "1065  https://www.bbc.co.uk/sport/football/60907078?...   \n",
       "1066  https://www.bbc.co.uk/sport/motorsport/6092204...   \n",
       "1067  https://www.bbc.co.uk/sport/tennis/60920528?at...   \n",
       "1068  https://www.bbc.co.uk/sport/cycling/60911823?a...   \n",
       "1069  https://www.bbc.co.uk/news/uk-politics-6069524...   \n",
       "\n",
       "                                            description  \n",
       "1065  Bruno Fernandes sent Portugal to the World Cup...  \n",
       "1066  Former speed skater Elise Christie is amongst ...  \n",
       "1067  British number one Cameron Norrie is hampered ...  \n",
       "1068  Transgender athlete Emily Bridges may compete ...  \n",
       "1069  National elections in Northern Ireland and loc...  "
      ]
     },
     "execution_count": 8,
     "metadata": {},
     "output_type": "execute_result"
    }
   ],
   "source": [
    "old_data_df.tail()"
   ]
  },
  {
   "cell_type": "markdown",
   "id": "5e0550fa",
   "metadata": {
    "papermill": {
     "duration": 0.03478,
     "end_time": "2022-03-30T22:20:11.582438",
     "exception": false,
     "start_time": "2022-03-30T22:20:11.547658",
     "status": "completed"
    },
    "tags": []
   },
   "source": [
    "Merge the newly parsed data with existing one.\n",
    "Remove duplicates."
   ]
  },
  {
   "cell_type": "code",
   "execution_count": 9,
   "id": "d36fab57",
   "metadata": {
    "execution": {
     "iopub.execute_input": "2022-03-30T22:20:11.656089Z",
     "iopub.status.busy": "2022-03-30T22:20:11.655472Z",
     "iopub.status.idle": "2022-03-30T22:20:11.680386Z",
     "shell.execute_reply": "2022-03-30T22:20:11.680865Z",
     "shell.execute_reply.started": "2022-03-08T08:49:47.815081Z"
    },
    "papermill": {
     "duration": 0.063156,
     "end_time": "2022-03-30T22:20:11.681025",
     "exception": false,
     "start_time": "2022-03-30T22:20:11.617869",
     "status": "completed"
    },
    "tags": []
   },
   "outputs": [
    {
     "name": "stdout",
     "output_type": "stream",
     "text": [
      "Data after concatenation: 1123\n",
      "Data after droping duplicates: 1112\n"
     ]
    },
    {
     "data": {
      "text/html": [
       "<div>\n",
       "<style scoped>\n",
       "    .dataframe tbody tr th:only-of-type {\n",
       "        vertical-align: middle;\n",
       "    }\n",
       "\n",
       "    .dataframe tbody tr th {\n",
       "        vertical-align: top;\n",
       "    }\n",
       "\n",
       "    .dataframe thead th {\n",
       "        text-align: right;\n",
       "    }\n",
       "</style>\n",
       "<table border=\"1\" class=\"dataframe\">\n",
       "  <thead>\n",
       "    <tr style=\"text-align: right;\">\n",
       "      <th></th>\n",
       "      <th>title</th>\n",
       "      <th>pubDate</th>\n",
       "      <th>guid</th>\n",
       "      <th>link</th>\n",
       "      <th>description</th>\n",
       "    </tr>\n",
       "  </thead>\n",
       "  <tbody>\n",
       "    <tr>\n",
       "      <th>0</th>\n",
       "      <td>Ukraine: Angry Zelensky vows to punish Russian...</td>\n",
       "      <td>Mon, 07 Mar 2022 08:01:56 GMT</td>\n",
       "      <td>https://www.bbc.co.uk/news/world-europe-60638042</td>\n",
       "      <td>https://www.bbc.co.uk/news/world-europe-606380...</td>\n",
       "      <td>The Ukrainian president says the country will ...</td>\n",
       "    </tr>\n",
       "    <tr>\n",
       "      <th>1</th>\n",
       "      <td>War in Ukraine: Taking cover in a town under a...</td>\n",
       "      <td>Sun, 06 Mar 2022 22:49:58 GMT</td>\n",
       "      <td>https://www.bbc.co.uk/news/world-europe-60641873</td>\n",
       "      <td>https://www.bbc.co.uk/news/world-europe-606418...</td>\n",
       "      <td>Jeremy Bowen was on the frontline in Irpin, as...</td>\n",
       "    </tr>\n",
       "    <tr>\n",
       "      <th>2</th>\n",
       "      <td>Ukraine war 'catastrophic for global food'</td>\n",
       "      <td>Mon, 07 Mar 2022 00:14:42 GMT</td>\n",
       "      <td>https://www.bbc.co.uk/news/business-60623941</td>\n",
       "      <td>https://www.bbc.co.uk/news/business-60623941?a...</td>\n",
       "      <td>One of the world's biggest fertiliser firms sa...</td>\n",
       "    </tr>\n",
       "    <tr>\n",
       "      <th>3</th>\n",
       "      <td>Manchester Arena bombing: Saffie Roussos's par...</td>\n",
       "      <td>Mon, 07 Mar 2022 00:05:40 GMT</td>\n",
       "      <td>https://www.bbc.co.uk/news/uk-60579079</td>\n",
       "      <td>https://www.bbc.co.uk/news/uk-60579079?at_medi...</td>\n",
       "      <td>The parents of the Manchester Arena bombing's ...</td>\n",
       "    </tr>\n",
       "    <tr>\n",
       "      <th>4</th>\n",
       "      <td>Ukraine conflict: Oil price soars to highest l...</td>\n",
       "      <td>Mon, 07 Mar 2022 08:15:53 GMT</td>\n",
       "      <td>https://www.bbc.co.uk/news/business-60642786</td>\n",
       "      <td>https://www.bbc.co.uk/news/business-60642786?a...</td>\n",
       "      <td>Consumers are feeling the impact of higher ene...</td>\n",
       "    </tr>\n",
       "  </tbody>\n",
       "</table>\n",
       "</div>"
      ],
      "text/plain": [
       "                                               title  \\\n",
       "0  Ukraine: Angry Zelensky vows to punish Russian...   \n",
       "1  War in Ukraine: Taking cover in a town under a...   \n",
       "2         Ukraine war 'catastrophic for global food'   \n",
       "3  Manchester Arena bombing: Saffie Roussos's par...   \n",
       "4  Ukraine conflict: Oil price soars to highest l...   \n",
       "\n",
       "                         pubDate  \\\n",
       "0  Mon, 07 Mar 2022 08:01:56 GMT   \n",
       "1  Sun, 06 Mar 2022 22:49:58 GMT   \n",
       "2  Mon, 07 Mar 2022 00:14:42 GMT   \n",
       "3  Mon, 07 Mar 2022 00:05:40 GMT   \n",
       "4  Mon, 07 Mar 2022 08:15:53 GMT   \n",
       "\n",
       "                                               guid  \\\n",
       "0  https://www.bbc.co.uk/news/world-europe-60638042   \n",
       "1  https://www.bbc.co.uk/news/world-europe-60641873   \n",
       "2      https://www.bbc.co.uk/news/business-60623941   \n",
       "3            https://www.bbc.co.uk/news/uk-60579079   \n",
       "4      https://www.bbc.co.uk/news/business-60642786   \n",
       "\n",
       "                                                link  \\\n",
       "0  https://www.bbc.co.uk/news/world-europe-606380...   \n",
       "1  https://www.bbc.co.uk/news/world-europe-606418...   \n",
       "2  https://www.bbc.co.uk/news/business-60623941?a...   \n",
       "3  https://www.bbc.co.uk/news/uk-60579079?at_medi...   \n",
       "4  https://www.bbc.co.uk/news/business-60642786?a...   \n",
       "\n",
       "                                         description  \n",
       "0  The Ukrainian president says the country will ...  \n",
       "1  Jeremy Bowen was on the frontline in Irpin, as...  \n",
       "2  One of the world's biggest fertiliser firms sa...  \n",
       "3  The parents of the Manchester Arena bombing's ...  \n",
       "4  Consumers are feeling the impact of higher ene...  "
      ]
     },
     "execution_count": 9,
     "metadata": {},
     "output_type": "execute_result"
    }
   ],
   "source": [
    "new_data_df = pd.concat([old_data_df, data_df], axis=0)\n",
    "print(f\"Data after concatenation: {new_data_df.shape[0]}\")\n",
    "new_data_df = new_data_df.drop_duplicates()\n",
    "print(f\"Data after droping duplicates: {new_data_df.shape[0]}\")\n",
    "new_data_df.head()"
   ]
  },
  {
   "cell_type": "markdown",
   "id": "d75324ce",
   "metadata": {
    "papermill": {
     "duration": 0.036701,
     "end_time": "2022-03-30T22:20:11.753812",
     "exception": false,
     "start_time": "2022-03-30T22:20:11.717111",
     "status": "completed"
    },
    "tags": []
   },
   "source": [
    "Let's look also to new dataset tail."
   ]
  },
  {
   "cell_type": "code",
   "execution_count": 10,
   "id": "5d8aac81",
   "metadata": {
    "execution": {
     "iopub.execute_input": "2022-03-30T22:20:11.832179Z",
     "iopub.status.busy": "2022-03-30T22:20:11.831570Z",
     "iopub.status.idle": "2022-03-30T22:20:11.841859Z",
     "shell.execute_reply": "2022-03-30T22:20:11.842368Z",
     "shell.execute_reply.started": "2022-03-08T08:51:49.642479Z"
    },
    "papermill": {
     "duration": 0.050463,
     "end_time": "2022-03-30T22:20:11.842537",
     "exception": false,
     "start_time": "2022-03-30T22:20:11.792074",
     "status": "completed"
    },
    "tags": []
   },
   "outputs": [
    {
     "data": {
      "text/html": [
       "<div>\n",
       "<style scoped>\n",
       "    .dataframe tbody tr th:only-of-type {\n",
       "        vertical-align: middle;\n",
       "    }\n",
       "\n",
       "    .dataframe tbody tr th {\n",
       "        vertical-align: top;\n",
       "    }\n",
       "\n",
       "    .dataframe thead th {\n",
       "        text-align: right;\n",
       "    }\n",
       "</style>\n",
       "<table border=\"1\" class=\"dataframe\">\n",
       "  <thead>\n",
       "    <tr style=\"text-align: right;\">\n",
       "      <th></th>\n",
       "      <th>title</th>\n",
       "      <th>pubDate</th>\n",
       "      <th>guid</th>\n",
       "      <th>link</th>\n",
       "      <th>description</th>\n",
       "    </tr>\n",
       "  </thead>\n",
       "  <tbody>\n",
       "    <tr>\n",
       "      <th>42</th>\n",
       "      <td>Women's World Cup: Australia's Beth Mooney tak...</td>\n",
       "      <td>Wed, 30 Mar 2022 04:14:00 GMT</td>\n",
       "      <td>https://www.bbc.co.uk/sport/av/cricket/60923258</td>\n",
       "      <td>https://www.bbc.co.uk/sport/av/cricket/6092325...</td>\n",
       "      <td>Australia's Beth Mooney takes a superb diving ...</td>\n",
       "    </tr>\n",
       "    <tr>\n",
       "      <th>43</th>\n",
       "      <td>Roman Abramovich sanctions: Chelsea can't be '...</td>\n",
       "      <td>Wed, 30 Mar 2022 14:26:02 GMT</td>\n",
       "      <td>https://www.bbc.co.uk/sport/football/60931486</td>\n",
       "      <td>https://www.bbc.co.uk/sport/football/60931486?...</td>\n",
       "      <td>Chelsea cannot be allowed to operate like it i...</td>\n",
       "    </tr>\n",
       "    <tr>\n",
       "      <th>44</th>\n",
       "      <td>Women's World Cup: England set to face South A...</td>\n",
       "      <td>Wed, 30 Mar 2022 09:28:33 GMT</td>\n",
       "      <td>https://www.bbc.co.uk/sport/cricket/60923228</td>\n",
       "      <td>https://www.bbc.co.uk/sport/cricket/60923228?a...</td>\n",
       "      <td>England will look to book a Women's World Cup ...</td>\n",
       "    </tr>\n",
       "    <tr>\n",
       "      <th>45</th>\n",
       "      <td>Paris St-Germain president Nasser Al-Khelaifi ...</td>\n",
       "      <td>Wed, 30 Mar 2022 17:35:45 GMT</td>\n",
       "      <td>https://www.bbc.co.uk/sport/football/60929239</td>\n",
       "      <td>https://www.bbc.co.uk/sport/football/60929239?...</td>\n",
       "      <td>Almost a year on from the European Super Leagu...</td>\n",
       "    </tr>\n",
       "    <tr>\n",
       "      <th>46</th>\n",
       "      <td>Barcelona Femenino 5-2 Real Madrid Femenino (8...</td>\n",
       "      <td>Wed, 30 Mar 2022 19:07:28 GMT</td>\n",
       "      <td>https://www.bbc.co.uk/sport/football/60934500</td>\n",
       "      <td>https://www.bbc.co.uk/sport/football/60934500?...</td>\n",
       "      <td>Barcelona beat Real Madrid to reach the Women'...</td>\n",
       "    </tr>\n",
       "  </tbody>\n",
       "</table>\n",
       "</div>"
      ],
      "text/plain": [
       "                                                title  \\\n",
       "42  Women's World Cup: Australia's Beth Mooney tak...   \n",
       "43  Roman Abramovich sanctions: Chelsea can't be '...   \n",
       "44  Women's World Cup: England set to face South A...   \n",
       "45  Paris St-Germain president Nasser Al-Khelaifi ...   \n",
       "46  Barcelona Femenino 5-2 Real Madrid Femenino (8...   \n",
       "\n",
       "                          pubDate  \\\n",
       "42  Wed, 30 Mar 2022 04:14:00 GMT   \n",
       "43  Wed, 30 Mar 2022 14:26:02 GMT   \n",
       "44  Wed, 30 Mar 2022 09:28:33 GMT   \n",
       "45  Wed, 30 Mar 2022 17:35:45 GMT   \n",
       "46  Wed, 30 Mar 2022 19:07:28 GMT   \n",
       "\n",
       "                                               guid  \\\n",
       "42  https://www.bbc.co.uk/sport/av/cricket/60923258   \n",
       "43    https://www.bbc.co.uk/sport/football/60931486   \n",
       "44     https://www.bbc.co.uk/sport/cricket/60923228   \n",
       "45    https://www.bbc.co.uk/sport/football/60929239   \n",
       "46    https://www.bbc.co.uk/sport/football/60934500   \n",
       "\n",
       "                                                 link  \\\n",
       "42  https://www.bbc.co.uk/sport/av/cricket/6092325...   \n",
       "43  https://www.bbc.co.uk/sport/football/60931486?...   \n",
       "44  https://www.bbc.co.uk/sport/cricket/60923228?a...   \n",
       "45  https://www.bbc.co.uk/sport/football/60929239?...   \n",
       "46  https://www.bbc.co.uk/sport/football/60934500?...   \n",
       "\n",
       "                                          description  \n",
       "42  Australia's Beth Mooney takes a superb diving ...  \n",
       "43  Chelsea cannot be allowed to operate like it i...  \n",
       "44  England will look to book a Women's World Cup ...  \n",
       "45  Almost a year on from the European Super Leagu...  \n",
       "46  Barcelona beat Real Madrid to reach the Women'...  "
      ]
     },
     "execution_count": 10,
     "metadata": {},
     "output_type": "execute_result"
    }
   ],
   "source": [
    "new_data_df.tail()"
   ]
  },
  {
   "cell_type": "markdown",
   "id": "3f605f4c",
   "metadata": {
    "papermill": {
     "duration": 0.036621,
     "end_time": "2022-03-30T22:20:11.915942",
     "exception": false,
     "start_time": "2022-03-30T22:20:11.879321",
     "status": "completed"
    },
    "tags": []
   },
   "source": [
    "# Save merged data"
   ]
  },
  {
   "cell_type": "markdown",
   "id": "adf71deb",
   "metadata": {
    "papermill": {
     "duration": 0.036611,
     "end_time": "2022-03-30T22:20:11.989154",
     "exception": false,
     "start_time": "2022-03-30T22:20:11.952543",
     "status": "completed"
    },
    "tags": []
   },
   "source": [
    "After merging the data, save it (this will populate the next version of dataset)."
   ]
  },
  {
   "cell_type": "code",
   "execution_count": 11,
   "id": "7295d22c",
   "metadata": {
    "execution": {
     "iopub.execute_input": "2022-03-30T22:20:12.065937Z",
     "iopub.status.busy": "2022-03-30T22:20:12.065339Z",
     "iopub.status.idle": "2022-03-30T22:20:12.088657Z",
     "shell.execute_reply": "2022-03-30T22:20:12.089184Z",
     "shell.execute_reply.started": "2022-03-08T08:49:47.84344Z"
    },
    "papermill": {
     "duration": 0.063541,
     "end_time": "2022-03-30T22:20:12.089370",
     "exception": false,
     "start_time": "2022-03-30T22:20:12.025829",
     "status": "completed"
    },
    "tags": []
   },
   "outputs": [],
   "source": [
    "new_data_df.to_csv(\"bbc_news.csv\", index=False)"
   ]
  }
 ],
 "metadata": {
  "kernelspec": {
   "display_name": "Python 3",
   "language": "python",
   "name": "python3"
  },
  "language_info": {
   "codemirror_mode": {
    "name": "ipython",
    "version": 3
   },
   "file_extension": ".py",
   "mimetype": "text/x-python",
   "name": "python",
   "nbconvert_exporter": "python",
   "pygments_lexer": "ipython3",
   "version": "3.7.12"
  },
  "papermill": {
   "default_parameters": {},
   "duration": 30.520628,
   "end_time": "2022-03-30T22:20:12.735508",
   "environment_variables": {},
   "exception": null,
   "input_path": "__notebook__.ipynb",
   "output_path": "__notebook__.ipynb",
   "parameters": {},
   "start_time": "2022-03-30T22:19:42.214880",
   "version": "2.3.3"
  }
 },
 "nbformat": 4,
 "nbformat_minor": 5
}
