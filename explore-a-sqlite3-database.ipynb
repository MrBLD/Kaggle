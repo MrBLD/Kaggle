{
 "cells": [
  {
   "cell_type": "markdown",
   "id": "8dbebdcb",
   "metadata": {
    "papermill": {
     "duration": 0.003907,
     "end_time": "2023-10-29T08:30:43.166186",
     "exception": false,
     "start_time": "2023-10-29T08:30:43.162279",
     "status": "completed"
    },
    "tags": []
   },
   "source": [
    "# Introduction\n",
    "\n",
    "\n",
    "This Notebook introduces you to exploration of a sqlite3 database using simple Python."
   ]
  },
  {
   "cell_type": "code",
   "execution_count": 1,
   "id": "3f3ea0d1",
   "metadata": {
    "execution": {
     "iopub.execute_input": "2023-10-29T08:30:43.176485Z",
     "iopub.status.busy": "2023-10-29T08:30:43.175918Z",
     "iopub.status.idle": "2023-10-29T08:30:43.183292Z",
     "shell.execute_reply": "2023-10-29T08:30:43.182718Z"
    },
    "papermill": {
     "duration": 0.013795,
     "end_time": "2023-10-29T08:30:43.184687",
     "exception": false,
     "start_time": "2023-10-29T08:30:43.170892",
     "status": "completed"
    },
    "tags": []
   },
   "outputs": [],
   "source": [
    "import sqlite3"
   ]
  },
  {
   "cell_type": "markdown",
   "id": "33fcd726",
   "metadata": {
    "papermill": {
     "duration": 0.003286,
     "end_time": "2023-10-29T08:30:43.191417",
     "exception": false,
     "start_time": "2023-10-29T08:30:43.188131",
     "status": "completed"
    },
    "tags": []
   },
   "source": [
    "# Define the query function"
   ]
  },
  {
   "cell_type": "code",
   "execution_count": 2,
   "id": "ee9b2f57",
   "metadata": {
    "execution": {
     "iopub.execute_input": "2023-10-29T08:30:43.199242Z",
     "iopub.status.busy": "2023-10-29T08:30:43.199007Z",
     "iopub.status.idle": "2023-10-29T08:30:43.202285Z",
     "shell.execute_reply": "2023-10-29T08:30:43.201497Z"
    },
    "papermill": {
     "duration": 0.008873,
     "end_time": "2023-10-29T08:30:43.203701",
     "exception": false,
     "start_time": "2023-10-29T08:30:43.194828",
     "status": "completed"
    },
    "tags": []
   },
   "outputs": [],
   "source": [
    "path = '/kaggle/input/24169-pitchfork-reviews/data.sqlite3'"
   ]
  },
  {
   "cell_type": "code",
   "execution_count": 3,
   "id": "a7530576",
   "metadata": {
    "execution": {
     "iopub.execute_input": "2023-10-29T08:30:43.211512Z",
     "iopub.status.busy": "2023-10-29T08:30:43.211288Z",
     "iopub.status.idle": "2023-10-29T08:30:43.216273Z",
     "shell.execute_reply": "2023-10-29T08:30:43.215510Z"
    },
    "papermill": {
     "duration": 0.010501,
     "end_time": "2023-10-29T08:30:43.217659",
     "exception": false,
     "start_time": "2023-10-29T08:30:43.207158",
     "status": "completed"
    },
    "tags": []
   },
   "outputs": [],
   "source": [
    "def run_query(sqlite_select_query, sqlite_path=path):\n",
    "    try:\n",
    "        sqlite_connection = sqlite3.connect(sqlite_path)\n",
    "        cursor = sqlite_connection.cursor()\n",
    "        print(\"succesful connection to sqlite\")\n",
    "\n",
    "        cursor.execute(sqlite_select_query)\n",
    "        record = cursor.fetchall()\n",
    "        print(\"your query: \", sqlite_select_query)\n",
    "        print(\"query result: \", record)\n",
    "        cursor.close()\n",
    "\n",
    "    except sqlite3.Error as error:\n",
    "        print(\"error while connecting to sqlite\", error)\n",
    "    finally:\n",
    "        if sqlite_connection:\n",
    "            sqlite_connection.close()\n",
    "            print(\"the sqlite connection is closed\")    "
   ]
  },
  {
   "cell_type": "markdown",
   "id": "1da931e7",
   "metadata": {
    "papermill": {
     "duration": 0.00344,
     "end_time": "2023-10-29T08:30:43.224549",
     "exception": false,
     "start_time": "2023-10-29T08:30:43.221109",
     "status": "completed"
    },
    "tags": []
   },
   "source": [
    "# Perform few tests"
   ]
  },
  {
   "cell_type": "markdown",
   "id": "b2087570",
   "metadata": {
    "papermill": {
     "duration": 0.003357,
     "end_time": "2023-10-29T08:30:43.231473",
     "exception": false,
     "start_time": "2023-10-29T08:30:43.228116",
     "status": "completed"
    },
    "tags": []
   },
   "source": [
    "Check database version."
   ]
  },
  {
   "cell_type": "code",
   "execution_count": 4,
   "id": "133dc20b",
   "metadata": {
    "execution": {
     "iopub.execute_input": "2023-10-29T08:30:43.239250Z",
     "iopub.status.busy": "2023-10-29T08:30:43.239022Z",
     "iopub.status.idle": "2023-10-29T08:30:43.248921Z",
     "shell.execute_reply": "2023-10-29T08:30:43.247757Z"
    },
    "papermill": {
     "duration": 0.015731,
     "end_time": "2023-10-29T08:30:43.250689",
     "exception": false,
     "start_time": "2023-10-29T08:30:43.234958",
     "status": "completed"
    },
    "tags": []
   },
   "outputs": [
    {
     "name": "stdout",
     "output_type": "stream",
     "text": [
      "succesful connection to sqlite\n",
      "error while connecting to sqlite near \"select\": syntax error\n",
      "the sqlite connection is closed\n"
     ]
    }
   ],
   "source": [
    "run_query(\"SELECT select sqlite_version();\")"
   ]
  },
  {
   "cell_type": "markdown",
   "id": "671442f7",
   "metadata": {
    "papermill": {
     "duration": 0.003414,
     "end_time": "2023-10-29T08:30:43.257710",
     "exception": false,
     "start_time": "2023-10-29T08:30:43.254296",
     "status": "completed"
    },
    "tags": []
   },
   "source": [
    "Show tables list."
   ]
  },
  {
   "cell_type": "code",
   "execution_count": 5,
   "id": "3efaf83b",
   "metadata": {
    "execution": {
     "iopub.execute_input": "2023-10-29T08:30:43.265738Z",
     "iopub.status.busy": "2023-10-29T08:30:43.265335Z",
     "iopub.status.idle": "2023-10-29T08:30:43.280035Z",
     "shell.execute_reply": "2023-10-29T08:30:43.279201Z"
    },
    "papermill": {
     "duration": 0.020416,
     "end_time": "2023-10-29T08:30:43.281611",
     "exception": false,
     "start_time": "2023-10-29T08:30:43.261195",
     "status": "completed"
    },
    "tags": []
   },
   "outputs": [
    {
     "name": "stdout",
     "output_type": "stream",
     "text": [
      "succesful connection to sqlite\n",
      "your query:  SELECT name FROM sqlite_master WHERE type='table';\n",
      "query result:  [('artists',), ('reviews',), ('artist_review_map',), ('author_review_map',), ('genre_review_map',), ('label_review_map',), ('tombstones',), ('tombstone_release_year_map',)]\n",
      "the sqlite connection is closed\n"
     ]
    }
   ],
   "source": [
    "run_query(\"SELECT name FROM sqlite_master WHERE type='table';\")"
   ]
  },
  {
   "cell_type": "markdown",
   "id": "e4b278bc",
   "metadata": {
    "papermill": {
     "duration": 0.003524,
     "end_time": "2023-10-29T08:30:43.288973",
     "exception": false,
     "start_time": "2023-10-29T08:30:43.285449",
     "status": "completed"
    },
    "tags": []
   },
   "source": [
    "Show index list."
   ]
  },
  {
   "cell_type": "code",
   "execution_count": 6,
   "id": "85c28369",
   "metadata": {
    "execution": {
     "iopub.execute_input": "2023-10-29T08:30:43.297235Z",
     "iopub.status.busy": "2023-10-29T08:30:43.297005Z",
     "iopub.status.idle": "2023-10-29T08:30:43.309149Z",
     "shell.execute_reply": "2023-10-29T08:30:43.308236Z"
    },
    "papermill": {
     "duration": 0.018108,
     "end_time": "2023-10-29T08:30:43.310675",
     "exception": false,
     "start_time": "2023-10-29T08:30:43.292567",
     "status": "completed"
    },
    "tags": []
   },
   "outputs": [
    {
     "name": "stdout",
     "output_type": "stream",
     "text": [
      "succesful connection to sqlite\n",
      "your query:  SELECT name FROM sqlite_master WHERE type='index';\n",
      "query result:  [('sqlite_autoindex_artists_1',), ('idx_artist',), ('sqlite_autoindex_reviews_1',), ('idx_review',), ('sqlite_autoindex_artist_review_map_1',), ('idx_artist_review',), ('sqlite_autoindex_author_review_map_1',), ('idx_author_review',), ('sqlite_autoindex_genre_review_map_1',), ('idx_genre_review',), ('sqlite_autoindex_label_review_map_1',), ('idx_label_review',), ('sqlite_autoindex_tombstones_1',), ('idx_review_tombstone',), ('sqlite_autoindex_tombstone_release_year_map_1',), ('idx_tombstone_year',)]\n",
      "the sqlite connection is closed\n"
     ]
    }
   ],
   "source": [
    "run_query(\"SELECT name FROM sqlite_master WHERE type='index';\")"
   ]
  },
  {
   "cell_type": "markdown",
   "id": "8a3e222a",
   "metadata": {
    "papermill": {
     "duration": 0.003511,
     "end_time": "2023-10-29T08:30:43.317904",
     "exception": false,
     "start_time": "2023-10-29T08:30:43.314393",
     "status": "completed"
    },
    "tags": []
   },
   "source": [
    "Show columns list for a certain table."
   ]
  },
  {
   "cell_type": "code",
   "execution_count": 7,
   "id": "34f283f6",
   "metadata": {
    "execution": {
     "iopub.execute_input": "2023-10-29T08:30:43.326246Z",
     "iopub.status.busy": "2023-10-29T08:30:43.325998Z",
     "iopub.status.idle": "2023-10-29T08:30:43.336879Z",
     "shell.execute_reply": "2023-10-29T08:30:43.336046Z"
    },
    "papermill": {
     "duration": 0.016732,
     "end_time": "2023-10-29T08:30:43.338256",
     "exception": false,
     "start_time": "2023-10-29T08:30:43.321524",
     "status": "completed"
    },
    "tags": []
   },
   "outputs": [
    {
     "name": "stdout",
     "output_type": "stream",
     "text": [
      "succesful connection to sqlite\n",
      "your query:  PRAGMA table_info('artists');\n",
      "query result:  [(0, 'artist_id', 'varchar', 1, None, 1), (1, 'name', 'varchar', 1, None, 0), (2, 'artist_url', 'varchar', 0, None, 0)]\n",
      "the sqlite connection is closed\n"
     ]
    }
   ],
   "source": [
    "run_query(\"PRAGMA table_info('artists');\")"
   ]
  },
  {
   "cell_type": "code",
   "execution_count": 8,
   "id": "3c10741b",
   "metadata": {
    "execution": {
     "iopub.execute_input": "2023-10-29T08:30:43.346637Z",
     "iopub.status.busy": "2023-10-29T08:30:43.346372Z",
     "iopub.status.idle": "2023-10-29T08:30:43.357583Z",
     "shell.execute_reply": "2023-10-29T08:30:43.356803Z"
    },
    "papermill": {
     "duration": 0.017084,
     "end_time": "2023-10-29T08:30:43.359054",
     "exception": false,
     "start_time": "2023-10-29T08:30:43.341970",
     "status": "completed"
    },
    "tags": []
   },
   "outputs": [
    {
     "name": "stdout",
     "output_type": "stream",
     "text": [
      "succesful connection to sqlite\n",
      "your query:  PRAGMA table_info('tombstones');\n",
      "query result:  [(0, 'review_tombstone_id', 'varchar', 0, None, 1), (1, 'review_url', 'varchar', 1, None, 0), (2, 'picker_index', 'INT', 1, None, 0), (3, 'title', 'varchar', 1, None, 0), (4, 'score', 'REAL', 1, None, 0), (5, 'best_new_music', 'boolean', 0, None, 0), (6, 'best_new_reissue', 'boolean', 0, None, 0)]\n",
      "the sqlite connection is closed\n"
     ]
    }
   ],
   "source": [
    "run_query(\"PRAGMA table_info('tombstones');\")"
   ]
  },
  {
   "cell_type": "markdown",
   "id": "18674236",
   "metadata": {
    "papermill": {
     "duration": 0.003689,
     "end_time": "2023-10-29T08:30:43.366561",
     "exception": false,
     "start_time": "2023-10-29T08:30:43.362872",
     "status": "completed"
    },
    "tags": []
   },
   "source": [
    "Browse some tables."
   ]
  },
  {
   "cell_type": "code",
   "execution_count": 9,
   "id": "d0eb7b07",
   "metadata": {
    "execution": {
     "iopub.execute_input": "2023-10-29T08:30:43.375211Z",
     "iopub.status.busy": "2023-10-29T08:30:43.374975Z",
     "iopub.status.idle": "2023-10-29T08:30:43.691082Z",
     "shell.execute_reply": "2023-10-29T08:30:43.690275Z"
    },
    "papermill": {
     "duration": 0.322394,
     "end_time": "2023-10-29T08:30:43.692784",
     "exception": false,
     "start_time": "2023-10-29T08:30:43.370390",
     "status": "completed"
    },
    "tags": []
   },
   "outputs": [
    {
     "name": "stdout",
     "output_type": "stream",
     "text": [
      "succesful connection to sqlite\n",
      "your query:  SELECT * FROM artists ORDER BY name ASC LIMIT 5;\n",
      "query result:  [('916-chk-chk-chk', '!!!', '/artists/916-chk-chk-chk/'), ('llmind', '!llmind', '/artists/llmind/'), ('not', '$NOT', '/artists/snot/'), ('dollaruicideboydollar', '$uicideboy$', '/artists/dollaruicideboydollar/'), ('3341--', '+/-', '/artists/3341--/')]\n",
      "the sqlite connection is closed\n"
     ]
    }
   ],
   "source": [
    "run_query(\"SELECT * FROM artists ORDER BY name ASC LIMIT 5;\")"
   ]
  },
  {
   "cell_type": "code",
   "execution_count": 10,
   "id": "7e5368e9",
   "metadata": {
    "execution": {
     "iopub.execute_input": "2023-10-29T08:30:43.702339Z",
     "iopub.status.busy": "2023-10-29T08:30:43.702013Z",
     "iopub.status.idle": "2023-10-29T08:30:43.720774Z",
     "shell.execute_reply": "2023-10-29T08:30:43.719993Z"
    },
    "papermill": {
     "duration": 0.025227,
     "end_time": "2023-10-29T08:30:43.722281",
     "exception": false,
     "start_time": "2023-10-29T08:30:43.697054",
     "status": "completed"
    },
    "tags": []
   },
   "outputs": [
    {
     "name": "stdout",
     "output_type": "stream",
     "text": [
      "succesful connection to sqlite\n",
      "your query:  SELECT * FROM artists WHERE name LIKE 'A%' LIMIT 5;\n",
      "query result:  [('4847-avarus', 'Avarus', '/artists/4847-avarus/'), ('4117-alina-simone', 'Alina Simone', '/artists/4117-alina-simone/'), ('5541-a-mountain-of-one', 'A Mountain of One', '/artists/5541-a-mountain-of-one/'), ('28963-allo-darlin', \"Allo Darlin'\", '/artists/28963-allo-darlin/'), ('104-anti-pop-consortium', 'Anti-Pop Consortium', '/artists/104-anti-pop-consortium/')]\n",
      "the sqlite connection is closed\n"
     ]
    }
   ],
   "source": [
    "run_query(\"SELECT * FROM artists WHERE name LIKE 'A%' LIMIT 5;\")"
   ]
  },
  {
   "cell_type": "code",
   "execution_count": 11,
   "id": "14f3e020",
   "metadata": {
    "execution": {
     "iopub.execute_input": "2023-10-29T08:30:43.731538Z",
     "iopub.status.busy": "2023-10-29T08:30:43.731341Z",
     "iopub.status.idle": "2023-10-29T08:30:43.746937Z",
     "shell.execute_reply": "2023-10-29T08:30:43.746067Z"
    },
    "papermill": {
     "duration": 0.022644,
     "end_time": "2023-10-29T08:30:43.749008",
     "exception": false,
     "start_time": "2023-10-29T08:30:43.726364",
     "status": "completed"
    },
    "tags": []
   },
   "outputs": [
    {
     "name": "stdout",
     "output_type": "stream",
     "text": [
      "succesful connection to sqlite\n",
      "your query:  SELECT * FROM reviews DESC LIMIT 1;\n",
      "query result:  [('/reviews/albums/9232-vesikansi/', 1, '2006-07-27 06:00:04', 'Over the past few years, several of Finland\\'s various interrelated underground acts-- Kemialliset Ystävät, ES, Kuupuu, the Anaksimandros-- have engaged in what seems an unspoken competition to see who could craft the wildest and most singularly damaged psychedelic utterance. And though the contest is hardly yet settled, it appears that scene linchpins Avarus have once again brought out the heavy lumber. On their latest release Vesikansi, the avant-rock collective attain new peaks/depths of crude free-form bewilderment, plunging the listener into a sonic wilderness so dense and impenetrable that one must fight the urge to begin foraging for food and building a treehouse.\\n\\nIt\\'s the second Avarus album to be released by Secret Eye in conjunction with the group\\'s own Lal Lal Lal imprint, following 2005\\'s Jattilaisrotta. Last year, the San Francisco-based tUMUlt label also released Ruskeatimantti, a generous 2xCD set that collected material from several of Avarus\\' earlier self-released recordings. And while Vesikansi is no match for that collection in terms of bulk or general diversified clamor, it does showcase Avarus working with a heightened degree of focus and communal potency. The album was recorded live in 2005 at the Lazybird Club in Dublin, although it should be noted that Avarus\\' lo-fi improvisations can make the distinction between studio vs. live recording seem somewhat moot.\\n\\nAs with most of their loose-knit Finnish compatriots, Avarus\\' lineup is in a regular state of flux, with most of their work roughly organized around the dexterous noisemaking talents of Roope Eronen and Arttu Partinen. Guest vocalist Tara Burke (aka Fursaxa) joins on two extended tracks here, but her contributions-- along with the rest of the group\\'s individual voices--are typically submerged within the wider currents of Avarus\\' continual hive activity.\\n\\nAvarus have previously been proclaimed to be Finland\\'s most \"regressive\" musical export, and judging from the evidence on Vesikansi it\\'s hard to disagree. The color-saturated electronic wails of the opening \"Lapsivesi\" sound like they could be the amplified love cries of the walrus that peer out from the album\\'s cover. Though it lacks the percussion of some of Avarus\\' earlier tribal jams, the piece does manage to pick up a faint, ghostly pulse along the way and patiently builds to some sort of near-invisible waveformed climax. Somehow the group are able to pick up this slender thread again on the tumultuous \"Loylyvesi\", a track that pieces together slurred vocal effects, growling tape machines and the occasional recognizable snatch of guitar or keyboard in a manner that resembles Excepter at their most lost and drugged.\\n\\nAlthough Avarus do occasionally incorporate acoustic instruments into their cyclonic din, their work on Vesikansi is wholly divorced from anything that even remotely approaches folk. This fact is brought home vigorously on the two-part, Burke-aided closer \"Vissyvesi,\" a boundless epic that bears close ancestry to the howling, full-scale noise manipulations of the Dead C or American contemporaries like Double Leopards. Occasionally Avarus take a detour from the ongoing maelstrom to indulge in a brief mantric campfire rhythm or goofy synth interjection, but then it\\'s quickly back into the fray with little concern for continuity or structure. Instead, Avarus seem to take an almost child-like interest in the imaginative possibilities of pure sound, creating on Vesikansi another immersive Finnish environment of endless surprise and discovery.')]\n",
      "the sqlite connection is closed\n"
     ]
    }
   ],
   "source": [
    "run_query(\"SELECT * FROM reviews DESC LIMIT 1;\")"
   ]
  }
 ],
 "metadata": {
  "kernelspec": {
   "display_name": "Python 3",
   "language": "python",
   "name": "python3"
  },
  "language_info": {
   "codemirror_mode": {
    "name": "ipython",
    "version": 3
   },
   "file_extension": ".py",
   "mimetype": "text/x-python",
   "name": "python",
   "nbconvert_exporter": "python",
   "pygments_lexer": "ipython3",
   "version": "3.10.12"
  },
  "papermill": {
   "default_parameters": {},
   "duration": 3.205761,
   "end_time": "2023-10-29T08:30:43.970479",
   "environment_variables": {},
   "exception": null,
   "input_path": "__notebook__.ipynb",
   "output_path": "__notebook__.ipynb",
   "parameters": {},
   "start_time": "2023-10-29T08:30:40.764718",
   "version": "2.4.0"
  }
 },
 "nbformat": 4,
 "nbformat_minor": 5
}
