{
 "cells": [
  {
   "cell_type": "markdown",
   "metadata": {
    "papermill": {
     "duration": 0.017185,
     "end_time": "2020-10-18T22:36:49.076299",
     "exception": false,
     "start_time": "2020-10-18T22:36:49.059114",
     "status": "completed"
    },
    "tags": []
   },
   "source": [
    "# Introduction\n",
    "\n",
    "We explore the forest surfaces evolution in Romania between 1990 and 2019."
   ]
  },
  {
   "cell_type": "markdown",
   "metadata": {
    "papermill": {
     "duration": 0.014585,
     "end_time": "2020-10-18T22:36:49.106581",
     "exception": false,
     "start_time": "2020-10-18T22:36:49.091996",
     "status": "completed"
    },
    "tags": []
   },
   "source": [
    "# Data preparation\n",
    "\n",
    "## Load packages"
   ]
  },
  {
   "cell_type": "code",
   "execution_count": 1,
   "metadata": {
    "_cell_guid": "b1076dfc-b9ad-4769-8c92-a6c4dae69d19",
    "_kg_hide-input": true,
    "_uuid": "8f2839f25d086af736a60e9eeb907d3b93b6e0e5",
    "execution": {
     "iopub.execute_input": "2020-10-18T22:36:49.152087Z",
     "iopub.status.busy": "2020-10-18T22:36:49.151276Z",
     "iopub.status.idle": "2020-10-18T22:36:53.294530Z",
     "shell.execute_reply": "2020-10-18T22:36:53.293746Z"
    },
    "papermill": {
     "duration": 4.171894,
     "end_time": "2020-10-18T22:36:53.294672",
     "exception": false,
     "start_time": "2020-10-18T22:36:49.122778",
     "status": "completed"
    },
    "tags": []
   },
   "outputs": [
    {
     "data": {
      "text/html": [
       "        <script type=\"text/javascript\">\n",
       "        window.PlotlyConfig = {MathJaxConfig: 'local'};\n",
       "        if (window.MathJax) {MathJax.Hub.Config({SVG: {font: \"STIX-Web\"}});}\n",
       "        if (typeof require !== 'undefined') {\n",
       "        require.undef(\"plotly\");\n",
       "        requirejs.config({\n",
       "            paths: {\n",
       "                'plotly': ['https://cdn.plot.ly/plotly-latest.min']\n",
       "            }\n",
       "        });\n",
       "        require(['plotly'], function(Plotly) {\n",
       "            window._Plotly = Plotly;\n",
       "        });\n",
       "        }\n",
       "        </script>\n",
       "        "
      ]
     },
     "metadata": {},
     "output_type": "display_data"
    }
   ],
   "source": [
    "import numpy as np \n",
    "import pandas as pd\n",
    "import os\n",
    "import matplotlib.pyplot as plt\n",
    "import seaborn as sns \n",
    "import datetime as dt\n",
    "%matplotlib inline\n",
    "import datetime as dt\n",
    "import plotly.graph_objs as go\n",
    "import plotly.figure_factory as ff\n",
    "from plotly import tools\n",
    "from plotly.offline import download_plotlyjs, init_notebook_mode, plot, iplot\n",
    "from shapely.geometry import shape, Point, Polygon\n",
    "import folium\n",
    "from folium.plugins import HeatMap, HeatMapWithTime\n",
    "init_notebook_mode(connected=True)"
   ]
  },
  {
   "cell_type": "markdown",
   "metadata": {
    "papermill": {
     "duration": 0.016194,
     "end_time": "2020-10-18T22:36:53.328925",
     "exception": false,
     "start_time": "2020-10-18T22:36:53.312731",
     "status": "completed"
    },
    "tags": []
   },
   "source": [
    "## Load the data"
   ]
  },
  {
   "cell_type": "code",
   "execution_count": 2,
   "metadata": {
    "_cell_guid": "79c7e3d0-c299-4dcb-8224-4455121ee9b0",
    "_kg_hide-input": true,
    "_uuid": "d629ff2d2480ee46fbb7e2d37f6b5fab8052498a",
    "execution": {
     "iopub.execute_input": "2020-10-18T22:36:53.372797Z",
     "iopub.status.busy": "2020-10-18T22:36:53.371972Z",
     "iopub.status.idle": "2020-10-18T22:36:53.409945Z",
     "shell.execute_reply": "2020-10-18T22:36:53.409098Z"
    },
    "papermill": {
     "duration": 0.065285,
     "end_time": "2020-10-18T22:36:53.410081",
     "exception": false,
     "start_time": "2020-10-18T22:36:53.344796",
     "status": "completed"
    },
    "tags": []
   },
   "outputs": [],
   "source": [
    "data_df = pd.read_csv(\"/kaggle/input/forest-surfaces-evolution-in-romania-19902019/forest_surfaces_romania_en_1990_2019.csv\")"
   ]
  },
  {
   "cell_type": "markdown",
   "metadata": {
    "papermill": {
     "duration": 0.015642,
     "end_time": "2020-10-18T22:36:53.441967",
     "exception": false,
     "start_time": "2020-10-18T22:36:53.426325",
     "status": "completed"
    },
    "tags": []
   },
   "source": [
    "We check the data shape, and we glimpse the data."
   ]
  },
  {
   "cell_type": "code",
   "execution_count": 3,
   "metadata": {
    "_kg_hide-input": true,
    "execution": {
     "iopub.execute_input": "2020-10-18T22:36:53.482297Z",
     "iopub.status.busy": "2020-10-18T22:36:53.481339Z",
     "iopub.status.idle": "2020-10-18T22:36:53.486383Z",
     "shell.execute_reply": "2020-10-18T22:36:53.485587Z"
    },
    "papermill": {
     "duration": 0.028316,
     "end_time": "2020-10-18T22:36:53.486517",
     "exception": false,
     "start_time": "2020-10-18T22:36:53.458201",
     "status": "completed"
    },
    "tags": []
   },
   "outputs": [
    {
     "data": {
      "text/plain": [
       "(8111, 5)"
      ]
     },
     "execution_count": 3,
     "metadata": {},
     "output_type": "execute_result"
    }
   ],
   "source": [
    "data_df.shape"
   ]
  },
  {
   "cell_type": "code",
   "execution_count": 4,
   "metadata": {
    "_kg_hide-input": true,
    "execution": {
     "iopub.execute_input": "2020-10-18T22:36:53.537919Z",
     "iopub.status.busy": "2020-10-18T22:36:53.537087Z",
     "iopub.status.idle": "2020-10-18T22:36:53.548310Z",
     "shell.execute_reply": "2020-10-18T22:36:53.547540Z"
    },
    "papermill": {
     "duration": 0.045035,
     "end_time": "2020-10-18T22:36:53.548478",
     "exception": false,
     "start_time": "2020-10-18T22:36:53.503443",
     "status": "completed"
    },
    "tags": []
   },
   "outputs": [
    {
     "data": {
      "text/html": [
       "<div>\n",
       "<style scoped>\n",
       "    .dataframe tbody tr th:only-of-type {\n",
       "        vertical-align: middle;\n",
       "    }\n",
       "\n",
       "    .dataframe tbody tr th {\n",
       "        vertical-align: top;\n",
       "    }\n",
       "\n",
       "    .dataframe thead th {\n",
       "        text-align: right;\n",
       "    }\n",
       "</style>\n",
       "<table border=\"1\" class=\"dataframe\">\n",
       "  <thead>\n",
       "    <tr style=\"text-align: right;\">\n",
       "      <th></th>\n",
       "      <th>Category</th>\n",
       "      <th>Region</th>\n",
       "      <th>Year</th>\n",
       "      <th>Unit</th>\n",
       "      <th>Value</th>\n",
       "    </tr>\n",
       "  </thead>\n",
       "  <tbody>\n",
       "    <tr>\n",
       "      <th>0</th>\n",
       "      <td>Total</td>\n",
       "      <td>TOTAL</td>\n",
       "      <td>1990</td>\n",
       "      <td>Thousands hectares</td>\n",
       "      <td>6371.0</td>\n",
       "    </tr>\n",
       "    <tr>\n",
       "      <th>1</th>\n",
       "      <td>Total</td>\n",
       "      <td>TOTAL</td>\n",
       "      <td>1991</td>\n",
       "      <td>Thousands hectares</td>\n",
       "      <td>6367.6</td>\n",
       "    </tr>\n",
       "    <tr>\n",
       "      <th>2</th>\n",
       "      <td>Total</td>\n",
       "      <td>TOTAL</td>\n",
       "      <td>1992</td>\n",
       "      <td>Thousands hectares</td>\n",
       "      <td>6368.2</td>\n",
       "    </tr>\n",
       "    <tr>\n",
       "      <th>3</th>\n",
       "      <td>Total</td>\n",
       "      <td>TOTAL</td>\n",
       "      <td>1993</td>\n",
       "      <td>Thousands hectares</td>\n",
       "      <td>6366.9</td>\n",
       "    </tr>\n",
       "    <tr>\n",
       "      <th>4</th>\n",
       "      <td>Total</td>\n",
       "      <td>TOTAL</td>\n",
       "      <td>1994</td>\n",
       "      <td>Thousands hectares</td>\n",
       "      <td>6369.0</td>\n",
       "    </tr>\n",
       "  </tbody>\n",
       "</table>\n",
       "</div>"
      ],
      "text/plain": [
       "  Category Region  Year                 Unit   Value\n",
       "0    Total  TOTAL  1990   Thousands hectares  6371.0\n",
       "1    Total  TOTAL  1991   Thousands hectares  6367.6\n",
       "2    Total  TOTAL  1992   Thousands hectares  6368.2\n",
       "3    Total  TOTAL  1993   Thousands hectares  6366.9\n",
       "4    Total  TOTAL  1994   Thousands hectares  6369.0"
      ]
     },
     "execution_count": 4,
     "metadata": {},
     "output_type": "execute_result"
    }
   ],
   "source": [
    "data_df.head()"
   ]
  },
  {
   "cell_type": "code",
   "execution_count": 5,
   "metadata": {
    "_kg_hide-input": true,
    "execution": {
     "iopub.execute_input": "2020-10-18T22:36:53.594215Z",
     "iopub.status.busy": "2020-10-18T22:36:53.592945Z",
     "iopub.status.idle": "2020-10-18T22:36:53.607457Z",
     "shell.execute_reply": "2020-10-18T22:36:53.606773Z"
    },
    "papermill": {
     "duration": 0.041521,
     "end_time": "2020-10-18T22:36:53.607613",
     "exception": false,
     "start_time": "2020-10-18T22:36:53.566092",
     "status": "completed"
    },
    "tags": []
   },
   "outputs": [
    {
     "name": "stdout",
     "output_type": "stream",
     "text": [
      "<class 'pandas.core.frame.DataFrame'>\n",
      "RangeIndex: 8111 entries, 0 to 8110\n",
      "Data columns (total 5 columns):\n",
      " #   Column    Non-Null Count  Dtype  \n",
      "---  ------    --------------  -----  \n",
      " 0   Category  8111 non-null   object \n",
      " 1   Region    8111 non-null   object \n",
      " 2   Year      8111 non-null   int64  \n",
      " 3   Unit      8111 non-null   object \n",
      " 4   Value     8111 non-null   float64\n",
      "dtypes: float64(1), int64(1), object(3)\n",
      "memory usage: 317.0+ KB\n"
     ]
    }
   ],
   "source": [
    "data_df.info()"
   ]
  },
  {
   "cell_type": "markdown",
   "metadata": {
    "papermill": {
     "duration": 0.017506,
     "end_time": "2020-10-18T22:36:53.644280",
     "exception": false,
     "start_time": "2020-10-18T22:36:53.626774",
     "status": "completed"
    },
    "tags": []
   },
   "source": [
    "We look to the values of `Category` and of `Region`."
   ]
  },
  {
   "cell_type": "code",
   "execution_count": 6,
   "metadata": {
    "_kg_hide-input": true,
    "execution": {
     "iopub.execute_input": "2020-10-18T22:36:53.688218Z",
     "iopub.status.busy": "2020-10-18T22:36:53.687121Z",
     "iopub.status.idle": "2020-10-18T22:36:53.692386Z",
     "shell.execute_reply": "2020-10-18T22:36:53.691605Z"
    },
    "papermill": {
     "duration": 0.030428,
     "end_time": "2020-10-18T22:36:53.692517",
     "exception": false,
     "start_time": "2020-10-18T22:36:53.662089",
     "status": "completed"
    },
    "tags": []
   },
   "outputs": [
    {
     "data": {
      "text/plain": [
       "array(['Total', 'Wood', 'Softwood', 'Hardwood', 'Others'], dtype=object)"
      ]
     },
     "execution_count": 6,
     "metadata": {},
     "output_type": "execute_result"
    }
   ],
   "source": [
    "data_df.Category.unique()"
   ]
  },
  {
   "cell_type": "code",
   "execution_count": 7,
   "metadata": {
    "_kg_hide-input": true,
    "execution": {
     "iopub.execute_input": "2020-10-18T22:36:53.737199Z",
     "iopub.status.busy": "2020-10-18T22:36:53.736195Z",
     "iopub.status.idle": "2020-10-18T22:36:53.740580Z",
     "shell.execute_reply": "2020-10-18T22:36:53.741136Z"
    },
    "papermill": {
     "duration": 0.029759,
     "end_time": "2020-10-18T22:36:53.741304",
     "exception": false,
     "start_time": "2020-10-18T22:36:53.711545",
     "status": "completed"
    },
    "tags": []
   },
   "outputs": [
    {
     "name": "stdout",
     "output_type": "stream",
     "text": [
      "['TOTAL', 'MACROREGIUNEA UNU', 'Regiunea NORD-VEST', 'Bihor', 'Bistrita-Nasaud', 'Cluj', 'Maramures', 'Satu Mare', 'Salaj', 'Regiunea CENTRU', 'Alba', 'Brasov', 'Covasna', 'Harghita', 'Mures', 'Sibiu', 'MACROREGIUNEA DOI', 'Regiunea NORD-EST', 'Bacau', 'Botosani', 'Iasi', 'Neamt', 'Suceava', 'Vaslui', 'Regiunea SUD-EST', 'Braila', 'Buzau', 'Constanta', 'Galati', 'Tulcea', 'Vrancea', 'MACROREGIUNEA TREI', 'Regiunea SUD-MUNTENIA', 'Arges', 'Calarasi', 'Dambovita', 'Giurgiu', 'Ialomita', 'Prahova', 'Teleorman', 'Regiunea BUCURESTI - ILFOV', 'Ilfov', 'Bucuresti', 'MACROREGIUNEA PATRU', 'Regiunea SUD-VEST OLTENIA', 'Dolj', 'Gorj', 'Mehedinti', 'Olt', 'Valcea', 'Regiunea VEST', 'Arad', 'Caras-Severin', 'Hunedoara', 'Timis']\n"
     ]
    }
   ],
   "source": [
    "print(list(data_df.Region.unique()))"
   ]
  },
  {
   "cell_type": "markdown",
   "metadata": {
    "papermill": {
     "duration": 0.018645,
     "end_time": "2020-10-18T22:36:53.778974",
     "exception": false,
     "start_time": "2020-10-18T22:36:53.760329",
     "status": "completed"
    },
    "tags": []
   },
   "source": [
    "# Data exploration\n",
    "\n",
    "\n",
    "Let's plot the total (i.e for all Romania) forest surface evolution from 1990 to 2019 (as total surface, surface with Hardwood, surface with Softwood and Other forest surfaces)."
   ]
  },
  {
   "cell_type": "code",
   "execution_count": 8,
   "metadata": {
    "_kg_hide-input": true,
    "execution": {
     "iopub.execute_input": "2020-10-18T22:36:53.842424Z",
     "iopub.status.busy": "2020-10-18T22:36:53.841599Z",
     "iopub.status.idle": "2020-10-18T22:36:54.881258Z",
     "shell.execute_reply": "2020-10-18T22:36:54.881890Z"
    },
    "papermill": {
     "duration": 1.083599,
     "end_time": "2020-10-18T22:36:54.882047",
     "exception": false,
     "start_time": "2020-10-18T22:36:53.798448",
     "status": "completed"
    },
    "tags": []
   },
   "outputs": [
    {
     "data": {
      "application/vnd.plotly.v1+json": {
       "config": {
        "linkText": "Export to plot.ly",
        "plotlyServerURL": "https://plot.ly",
        "showLink": false
       },
       "data": [
        {
         "marker": {
          "color": "Green"
         },
         "mode": "markers+lines",
         "name": "Total surface",
         "text": [
          6371.0,
          6367.6,
          6368.2,
          6366.9,
          6369.0,
          6368.8,
          6365.7,
          6367.3,
          6367.1,
          6367.3,
          6366.5,
          6366.8,
          6387.8,
          6368.5,
          6382.2,
          6390.6,
          6427.7,
          6484.6,
          6469.9,
          6494.7,
          6515.1,
          6521.8,
          6529.1,
          6538.5,
          6544.6,
          6555.1,
          6559.0,
          6564.9,
          6583.1,
          6592.2
         ],
         "type": "scatter",
         "x": [
          1990,
          1991,
          1992,
          1993,
          1994,
          1995,
          1996,
          1997,
          1998,
          1999,
          2000,
          2001,
          2002,
          2003,
          2004,
          2005,
          2006,
          2007,
          2008,
          2009,
          2010,
          2011,
          2012,
          2013,
          2014,
          2015,
          2016,
          2017,
          2018,
          2019
         ],
         "y": [
          6371.0,
          6367.6,
          6368.2,
          6366.9,
          6369.0,
          6368.8,
          6365.7,
          6367.3,
          6367.1,
          6367.3,
          6366.5,
          6366.8,
          6387.8,
          6368.5,
          6382.2,
          6390.6,
          6427.7,
          6484.6,
          6469.9,
          6494.7,
          6515.1,
          6521.8,
          6529.1,
          6538.5,
          6544.6,
          6555.1,
          6559.0,
          6564.9,
          6583.1,
          6592.2
         ]
        },
        {
         "marker": {
          "color": "Lightgreen"
         },
         "mode": "markers+lines",
         "name": "Hardwood",
         "text": [
          4323.5,
          4323.5,
          4327.5,
          4333.5,
          4332.7,
          4341.8,
          4350.1,
          4353.6,
          4359.4,
          4364.4,
          4366.9,
          4372.2,
          4383.2,
          4382.3,
          4370.0,
          4360.3,
          4379.5,
          4394.7,
          4370.5,
          4399.2,
          4412.8,
          4416.3,
          4428.1,
          4444.3,
          4457.6,
          4468.1,
          4475.0,
          4481.8,
          4500.7,
          4512.3
         ],
         "type": "scatter",
         "x": [
          1990,
          1991,
          1992,
          1993,
          1994,
          1995,
          1996,
          1997,
          1998,
          1999,
          2000,
          2001,
          2002,
          2003,
          2004,
          2005,
          2006,
          2007,
          2008,
          2009,
          2010,
          2011,
          2012,
          2013,
          2014,
          2015,
          2016,
          2017,
          2018,
          2019
         ],
         "y": [
          4323.5,
          4323.5,
          4327.5,
          4333.5,
          4332.7,
          4341.8,
          4350.1,
          4353.6,
          4359.4,
          4364.4,
          4366.9,
          4372.2,
          4383.2,
          4382.3,
          4370.0,
          4360.3,
          4379.5,
          4394.7,
          4370.5,
          4399.2,
          4412.8,
          4416.3,
          4428.1,
          4444.3,
          4457.6,
          4468.1,
          4475.0,
          4481.8,
          4500.7,
          4512.3
         ]
        },
        {
         "marker": {
          "color": "Darkgreen"
         },
         "mode": "markers+lines",
         "name": "Softwood",
         "text": [
          1928.8,
          1929.9,
          1925.9,
          1915.8,
          1913.1,
          1902.9,
          1890.1,
          1883.0,
          1867.9,
          1861.4,
          1856.2,
          1852.8,
          1856.3,
          1839.0,
          1852.5,
          1872.7,
          1892.8,
          1920.2,
          1938.4,
          1934.8,
          1940.9,
          1948.6,
          1944.7,
          1936.3,
          1929.7,
          1930.7,
          1929.4,
          1924.0,
          1917.5,
          1915.0
         ],
         "type": "scatter",
         "x": [
          1990,
          1991,
          1992,
          1993,
          1994,
          1995,
          1996,
          1997,
          1998,
          1999,
          2000,
          2001,
          2002,
          2003,
          2004,
          2005,
          2006,
          2007,
          2008,
          2009,
          2010,
          2011,
          2012,
          2013,
          2014,
          2015,
          2016,
          2017,
          2018,
          2019
         ],
         "y": [
          1928.8,
          1929.9,
          1925.9,
          1915.8,
          1913.1,
          1902.9,
          1890.1,
          1883.0,
          1867.9,
          1861.4,
          1856.2,
          1852.8,
          1856.3,
          1839.0,
          1852.5,
          1872.7,
          1892.8,
          1920.2,
          1938.4,
          1934.8,
          1940.9,
          1948.6,
          1944.7,
          1936.3,
          1929.7,
          1930.7,
          1929.4,
          1924.0,
          1917.5,
          1915.0
         ]
        },
        {
         "marker": {
          "color": "Brown"
         },
         "mode": "markers+lines",
         "name": "Other surfaces",
         "text": [
          118.8,
          114.2,
          114.7,
          117.7,
          123.2,
          124.1,
          125.5,
          130.7,
          139.7,
          141.4,
          143.4,
          141.7,
          148.3,
          147.2,
          159.6,
          157.6,
          155.4,
          169.6,
          161.0,
          160.7,
          161.4,
          156.9,
          156.3,
          157.9,
          157.3,
          156.3,
          154.6,
          159.1,
          164.9,
          164.9
         ],
         "type": "scatter",
         "x": [
          1990,
          1991,
          1992,
          1993,
          1994,
          1995,
          1996,
          1997,
          1998,
          1999,
          2000,
          2001,
          2002,
          2003,
          2004,
          2005,
          2006,
          2007,
          2008,
          2009,
          2010,
          2011,
          2012,
          2013,
          2014,
          2015,
          2016,
          2017,
          2018,
          2019
         ],
         "y": [
          118.8,
          114.2,
          114.7,
          117.7,
          123.2,
          124.1,
          125.5,
          130.7,
          139.7,
          141.4,
          143.4,
          141.7,
          148.3,
          147.2,
          159.6,
          157.6,
          155.4,
          169.6,
          161.0,
          160.7,
          161.4,
          156.9,
          156.3,
          157.9,
          157.3,
          156.3,
          154.6,
          159.1,
          164.9,
          164.9
         ]
        }
       ],
       "layout": {
        "hovermode": "closest",
        "template": {
         "data": {
          "bar": [
           {
            "error_x": {
             "color": "#2a3f5f"
            },
            "error_y": {
             "color": "#2a3f5f"
            },
            "marker": {
             "line": {
              "color": "#E5ECF6",
              "width": 0.5
             }
            },
            "type": "bar"
           }
          ],
          "barpolar": [
           {
            "marker": {
             "line": {
              "color": "#E5ECF6",
              "width": 0.5
             }
            },
            "type": "barpolar"
           }
          ],
          "carpet": [
           {
            "aaxis": {
             "endlinecolor": "#2a3f5f",
             "gridcolor": "white",
             "linecolor": "white",
             "minorgridcolor": "white",
             "startlinecolor": "#2a3f5f"
            },
            "baxis": {
             "endlinecolor": "#2a3f5f",
             "gridcolor": "white",
             "linecolor": "white",
             "minorgridcolor": "white",
             "startlinecolor": "#2a3f5f"
            },
            "type": "carpet"
           }
          ],
          "choropleth": [
           {
            "colorbar": {
             "outlinewidth": 0,
             "ticks": ""
            },
            "type": "choropleth"
           }
          ],
          "contour": [
           {
            "colorbar": {
             "outlinewidth": 0,
             "ticks": ""
            },
            "colorscale": [
             [
              0.0,
              "#0d0887"
             ],
             [
              0.1111111111111111,
              "#46039f"
             ],
             [
              0.2222222222222222,
              "#7201a8"
             ],
             [
              0.3333333333333333,
              "#9c179e"
             ],
             [
              0.4444444444444444,
              "#bd3786"
             ],
             [
              0.5555555555555556,
              "#d8576b"
             ],
             [
              0.6666666666666666,
              "#ed7953"
             ],
             [
              0.7777777777777778,
              "#fb9f3a"
             ],
             [
              0.8888888888888888,
              "#fdca26"
             ],
             [
              1.0,
              "#f0f921"
             ]
            ],
            "type": "contour"
           }
          ],
          "contourcarpet": [
           {
            "colorbar": {
             "outlinewidth": 0,
             "ticks": ""
            },
            "type": "contourcarpet"
           }
          ],
          "heatmap": [
           {
            "colorbar": {
             "outlinewidth": 0,
             "ticks": ""
            },
            "colorscale": [
             [
              0.0,
              "#0d0887"
             ],
             [
              0.1111111111111111,
              "#46039f"
             ],
             [
              0.2222222222222222,
              "#7201a8"
             ],
             [
              0.3333333333333333,
              "#9c179e"
             ],
             [
              0.4444444444444444,
              "#bd3786"
             ],
             [
              0.5555555555555556,
              "#d8576b"
             ],
             [
              0.6666666666666666,
              "#ed7953"
             ],
             [
              0.7777777777777778,
              "#fb9f3a"
             ],
             [
              0.8888888888888888,
              "#fdca26"
             ],
             [
              1.0,
              "#f0f921"
             ]
            ],
            "type": "heatmap"
           }
          ],
          "heatmapgl": [
           {
            "colorbar": {
             "outlinewidth": 0,
             "ticks": ""
            },
            "colorscale": [
             [
              0.0,
              "#0d0887"
             ],
             [
              0.1111111111111111,
              "#46039f"
             ],
             [
              0.2222222222222222,
              "#7201a8"
             ],
             [
              0.3333333333333333,
              "#9c179e"
             ],
             [
              0.4444444444444444,
              "#bd3786"
             ],
             [
              0.5555555555555556,
              "#d8576b"
             ],
             [
              0.6666666666666666,
              "#ed7953"
             ],
             [
              0.7777777777777778,
              "#fb9f3a"
             ],
             [
              0.8888888888888888,
              "#fdca26"
             ],
             [
              1.0,
              "#f0f921"
             ]
            ],
            "type": "heatmapgl"
           }
          ],
          "histogram": [
           {
            "marker": {
             "colorbar": {
              "outlinewidth": 0,
              "ticks": ""
             }
            },
            "type": "histogram"
           }
          ],
          "histogram2d": [
           {
            "colorbar": {
             "outlinewidth": 0,
             "ticks": ""
            },
            "colorscale": [
             [
              0.0,
              "#0d0887"
             ],
             [
              0.1111111111111111,
              "#46039f"
             ],
             [
              0.2222222222222222,
              "#7201a8"
             ],
             [
              0.3333333333333333,
              "#9c179e"
             ],
             [
              0.4444444444444444,
              "#bd3786"
             ],
             [
              0.5555555555555556,
              "#d8576b"
             ],
             [
              0.6666666666666666,
              "#ed7953"
             ],
             [
              0.7777777777777778,
              "#fb9f3a"
             ],
             [
              0.8888888888888888,
              "#fdca26"
             ],
             [
              1.0,
              "#f0f921"
             ]
            ],
            "type": "histogram2d"
           }
          ],
          "histogram2dcontour": [
           {
            "colorbar": {
             "outlinewidth": 0,
             "ticks": ""
            },
            "colorscale": [
             [
              0.0,
              "#0d0887"
             ],
             [
              0.1111111111111111,
              "#46039f"
             ],
             [
              0.2222222222222222,
              "#7201a8"
             ],
             [
              0.3333333333333333,
              "#9c179e"
             ],
             [
              0.4444444444444444,
              "#bd3786"
             ],
             [
              0.5555555555555556,
              "#d8576b"
             ],
             [
              0.6666666666666666,
              "#ed7953"
             ],
             [
              0.7777777777777778,
              "#fb9f3a"
             ],
             [
              0.8888888888888888,
              "#fdca26"
             ],
             [
              1.0,
              "#f0f921"
             ]
            ],
            "type": "histogram2dcontour"
           }
          ],
          "mesh3d": [
           {
            "colorbar": {
             "outlinewidth": 0,
             "ticks": ""
            },
            "type": "mesh3d"
           }
          ],
          "parcoords": [
           {
            "line": {
             "colorbar": {
              "outlinewidth": 0,
              "ticks": ""
             }
            },
            "type": "parcoords"
           }
          ],
          "pie": [
           {
            "automargin": true,
            "type": "pie"
           }
          ],
          "scatter": [
           {
            "marker": {
             "colorbar": {
              "outlinewidth": 0,
              "ticks": ""
             }
            },
            "type": "scatter"
           }
          ],
          "scatter3d": [
           {
            "line": {
             "colorbar": {
              "outlinewidth": 0,
              "ticks": ""
             }
            },
            "marker": {
             "colorbar": {
              "outlinewidth": 0,
              "ticks": ""
             }
            },
            "type": "scatter3d"
           }
          ],
          "scattercarpet": [
           {
            "marker": {
             "colorbar": {
              "outlinewidth": 0,
              "ticks": ""
             }
            },
            "type": "scattercarpet"
           }
          ],
          "scattergeo": [
           {
            "marker": {
             "colorbar": {
              "outlinewidth": 0,
              "ticks": ""
             }
            },
            "type": "scattergeo"
           }
          ],
          "scattergl": [
           {
            "marker": {
             "colorbar": {
              "outlinewidth": 0,
              "ticks": ""
             }
            },
            "type": "scattergl"
           }
          ],
          "scattermapbox": [
           {
            "marker": {
             "colorbar": {
              "outlinewidth": 0,
              "ticks": ""
             }
            },
            "type": "scattermapbox"
           }
          ],
          "scatterpolar": [
           {
            "marker": {
             "colorbar": {
              "outlinewidth": 0,
              "ticks": ""
             }
            },
            "type": "scatterpolar"
           }
          ],
          "scatterpolargl": [
           {
            "marker": {
             "colorbar": {
              "outlinewidth": 0,
              "ticks": ""
             }
            },
            "type": "scatterpolargl"
           }
          ],
          "scatterternary": [
           {
            "marker": {
             "colorbar": {
              "outlinewidth": 0,
              "ticks": ""
             }
            },
            "type": "scatterternary"
           }
          ],
          "surface": [
           {
            "colorbar": {
             "outlinewidth": 0,
             "ticks": ""
            },
            "colorscale": [
             [
              0.0,
              "#0d0887"
             ],
             [
              0.1111111111111111,
              "#46039f"
             ],
             [
              0.2222222222222222,
              "#7201a8"
             ],
             [
              0.3333333333333333,
              "#9c179e"
             ],
             [
              0.4444444444444444,
              "#bd3786"
             ],
             [
              0.5555555555555556,
              "#d8576b"
             ],
             [
              0.6666666666666666,
              "#ed7953"
             ],
             [
              0.7777777777777778,
              "#fb9f3a"
             ],
             [
              0.8888888888888888,
              "#fdca26"
             ],
             [
              1.0,
              "#f0f921"
             ]
            ],
            "type": "surface"
           }
          ],
          "table": [
           {
            "cells": {
             "fill": {
              "color": "#EBF0F8"
             },
             "line": {
              "color": "white"
             }
            },
            "header": {
             "fill": {
              "color": "#C8D4E3"
             },
             "line": {
              "color": "white"
             }
            },
            "type": "table"
           }
          ]
         },
         "layout": {
          "annotationdefaults": {
           "arrowcolor": "#2a3f5f",
           "arrowhead": 0,
           "arrowwidth": 1
          },
          "coloraxis": {
           "colorbar": {
            "outlinewidth": 0,
            "ticks": ""
           }
          },
          "colorscale": {
           "diverging": [
            [
             0,
             "#8e0152"
            ],
            [
             0.1,
             "#c51b7d"
            ],
            [
             0.2,
             "#de77ae"
            ],
            [
             0.3,
             "#f1b6da"
            ],
            [
             0.4,
             "#fde0ef"
            ],
            [
             0.5,
             "#f7f7f7"
            ],
            [
             0.6,
             "#e6f5d0"
            ],
            [
             0.7,
             "#b8e186"
            ],
            [
             0.8,
             "#7fbc41"
            ],
            [
             0.9,
             "#4d9221"
            ],
            [
             1,
             "#276419"
            ]
           ],
           "sequential": [
            [
             0.0,
             "#0d0887"
            ],
            [
             0.1111111111111111,
             "#46039f"
            ],
            [
             0.2222222222222222,
             "#7201a8"
            ],
            [
             0.3333333333333333,
             "#9c179e"
            ],
            [
             0.4444444444444444,
             "#bd3786"
            ],
            [
             0.5555555555555556,
             "#d8576b"
            ],
            [
             0.6666666666666666,
             "#ed7953"
            ],
            [
             0.7777777777777778,
             "#fb9f3a"
            ],
            [
             0.8888888888888888,
             "#fdca26"
            ],
            [
             1.0,
             "#f0f921"
            ]
           ],
           "sequentialminus": [
            [
             0.0,
             "#0d0887"
            ],
            [
             0.1111111111111111,
             "#46039f"
            ],
            [
             0.2222222222222222,
             "#7201a8"
            ],
            [
             0.3333333333333333,
             "#9c179e"
            ],
            [
             0.4444444444444444,
             "#bd3786"
            ],
            [
             0.5555555555555556,
             "#d8576b"
            ],
            [
             0.6666666666666666,
             "#ed7953"
            ],
            [
             0.7777777777777778,
             "#fb9f3a"
            ],
            [
             0.8888888888888888,
             "#fdca26"
            ],
            [
             1.0,
             "#f0f921"
            ]
           ]
          },
          "colorway": [
           "#636efa",
           "#EF553B",
           "#00cc96",
           "#ab63fa",
           "#FFA15A",
           "#19d3f3",
           "#FF6692",
           "#B6E880",
           "#FF97FF",
           "#FECB52"
          ],
          "font": {
           "color": "#2a3f5f"
          },
          "geo": {
           "bgcolor": "white",
           "lakecolor": "white",
           "landcolor": "#E5ECF6",
           "showlakes": true,
           "showland": true,
           "subunitcolor": "white"
          },
          "hoverlabel": {
           "align": "left"
          },
          "hovermode": "closest",
          "mapbox": {
           "style": "light"
          },
          "paper_bgcolor": "white",
          "plot_bgcolor": "#E5ECF6",
          "polar": {
           "angularaxis": {
            "gridcolor": "white",
            "linecolor": "white",
            "ticks": ""
           },
           "bgcolor": "#E5ECF6",
           "radialaxis": {
            "gridcolor": "white",
            "linecolor": "white",
            "ticks": ""
           }
          },
          "scene": {
           "xaxis": {
            "backgroundcolor": "#E5ECF6",
            "gridcolor": "white",
            "gridwidth": 2,
            "linecolor": "white",
            "showbackground": true,
            "ticks": "",
            "zerolinecolor": "white"
           },
           "yaxis": {
            "backgroundcolor": "#E5ECF6",
            "gridcolor": "white",
            "gridwidth": 2,
            "linecolor": "white",
            "showbackground": true,
            "ticks": "",
            "zerolinecolor": "white"
           },
           "zaxis": {
            "backgroundcolor": "#E5ECF6",
            "gridcolor": "white",
            "gridwidth": 2,
            "linecolor": "white",
            "showbackground": true,
            "ticks": "",
            "zerolinecolor": "white"
           }
          },
          "shapedefaults": {
           "line": {
            "color": "#2a3f5f"
           }
          },
          "ternary": {
           "aaxis": {
            "gridcolor": "white",
            "linecolor": "white",
            "ticks": ""
           },
           "baxis": {
            "gridcolor": "white",
            "linecolor": "white",
            "ticks": ""
           },
           "bgcolor": "#E5ECF6",
           "caxis": {
            "gridcolor": "white",
            "linecolor": "white",
            "ticks": ""
           }
          },
          "title": {
           "x": 0.05
          },
          "xaxis": {
           "automargin": true,
           "gridcolor": "white",
           "linecolor": "white",
           "ticks": "",
           "title": {
            "standoff": 15
           },
           "zerolinecolor": "white",
           "zerolinewidth": 2
          },
          "yaxis": {
           "automargin": true,
           "gridcolor": "white",
           "linecolor": "white",
           "ticks": "",
           "title": {
            "standoff": 15
           },
           "zerolinecolor": "white",
           "zerolinewidth": 2
          }
         }
        },
        "title": {
         "text": "Total surfaces, Hardwood, Softwood and other surfaces - forest Romania 1990-2019"
        },
        "xaxis": {
         "showticklabels": true,
         "title": {
          "text": "Year"
         }
        },
        "yaxis": {
         "title": {
          "text": "Surface [Thousands hectares]"
         }
        }
       }
      },
      "text/html": [
       "<div>                            <div id=\"1fd3917c-9b79-414a-b7fa-1fcb3bc7530a\" class=\"plotly-graph-div\" style=\"height:525px; width:100%;\"></div>            <script type=\"text/javascript\">                require([\"plotly\"], function(Plotly) {                    window.PLOTLYENV=window.PLOTLYENV || {};                                    if (document.getElementById(\"1fd3917c-9b79-414a-b7fa-1fcb3bc7530a\")) {                    Plotly.newPlot(                        \"1fd3917c-9b79-414a-b7fa-1fcb3bc7530a\",                        [{\"marker\": {\"color\": \"Green\"}, \"mode\": \"markers+lines\", \"name\": \"Total surface\", \"text\": [6371.0, 6367.6, 6368.2, 6366.9, 6369.0, 6368.8, 6365.7, 6367.3, 6367.1, 6367.3, 6366.5, 6366.8, 6387.8, 6368.5, 6382.2, 6390.6, 6427.7, 6484.6, 6469.9, 6494.7, 6515.1, 6521.8, 6529.1, 6538.5, 6544.6, 6555.1, 6559.0, 6564.9, 6583.1, 6592.2], \"type\": \"scatter\", \"x\": [1990, 1991, 1992, 1993, 1994, 1995, 1996, 1997, 1998, 1999, 2000, 2001, 2002, 2003, 2004, 2005, 2006, 2007, 2008, 2009, 2010, 2011, 2012, 2013, 2014, 2015, 2016, 2017, 2018, 2019], \"y\": [6371.0, 6367.6, 6368.2, 6366.9, 6369.0, 6368.8, 6365.7, 6367.3, 6367.1, 6367.3, 6366.5, 6366.8, 6387.8, 6368.5, 6382.2, 6390.6, 6427.7, 6484.6, 6469.9, 6494.7, 6515.1, 6521.8, 6529.1, 6538.5, 6544.6, 6555.1, 6559.0, 6564.9, 6583.1, 6592.2]}, {\"marker\": {\"color\": \"Lightgreen\"}, \"mode\": \"markers+lines\", \"name\": \"Hardwood\", \"text\": [4323.5, 4323.5, 4327.5, 4333.5, 4332.7, 4341.8, 4350.1, 4353.6, 4359.4, 4364.4, 4366.9, 4372.2, 4383.2, 4382.3, 4370.0, 4360.3, 4379.5, 4394.7, 4370.5, 4399.2, 4412.8, 4416.3, 4428.1, 4444.3, 4457.6, 4468.1, 4475.0, 4481.8, 4500.7, 4512.3], \"type\": \"scatter\", \"x\": [1990, 1991, 1992, 1993, 1994, 1995, 1996, 1997, 1998, 1999, 2000, 2001, 2002, 2003, 2004, 2005, 2006, 2007, 2008, 2009, 2010, 2011, 2012, 2013, 2014, 2015, 2016, 2017, 2018, 2019], \"y\": [4323.5, 4323.5, 4327.5, 4333.5, 4332.7, 4341.8, 4350.1, 4353.6, 4359.4, 4364.4, 4366.9, 4372.2, 4383.2, 4382.3, 4370.0, 4360.3, 4379.5, 4394.7, 4370.5, 4399.2, 4412.8, 4416.3, 4428.1, 4444.3, 4457.6, 4468.1, 4475.0, 4481.8, 4500.7, 4512.3]}, {\"marker\": {\"color\": \"Darkgreen\"}, \"mode\": \"markers+lines\", \"name\": \"Softwood\", \"text\": [1928.8, 1929.9, 1925.9, 1915.8, 1913.1, 1902.9, 1890.1, 1883.0, 1867.9, 1861.4, 1856.2, 1852.8, 1856.3, 1839.0, 1852.5, 1872.7, 1892.8, 1920.2, 1938.4, 1934.8, 1940.9, 1948.6, 1944.7, 1936.3, 1929.7, 1930.7, 1929.4, 1924.0, 1917.5, 1915.0], \"type\": \"scatter\", \"x\": [1990, 1991, 1992, 1993, 1994, 1995, 1996, 1997, 1998, 1999, 2000, 2001, 2002, 2003, 2004, 2005, 2006, 2007, 2008, 2009, 2010, 2011, 2012, 2013, 2014, 2015, 2016, 2017, 2018, 2019], \"y\": [1928.8, 1929.9, 1925.9, 1915.8, 1913.1, 1902.9, 1890.1, 1883.0, 1867.9, 1861.4, 1856.2, 1852.8, 1856.3, 1839.0, 1852.5, 1872.7, 1892.8, 1920.2, 1938.4, 1934.8, 1940.9, 1948.6, 1944.7, 1936.3, 1929.7, 1930.7, 1929.4, 1924.0, 1917.5, 1915.0]}, {\"marker\": {\"color\": \"Brown\"}, \"mode\": \"markers+lines\", \"name\": \"Other surfaces\", \"text\": [118.8, 114.2, 114.7, 117.7, 123.2, 124.1, 125.5, 130.7, 139.7, 141.4, 143.4, 141.7, 148.3, 147.2, 159.6, 157.6, 155.4, 169.6, 161.0, 160.7, 161.4, 156.9, 156.3, 157.9, 157.3, 156.3, 154.6, 159.1, 164.9, 164.9], \"type\": \"scatter\", \"x\": [1990, 1991, 1992, 1993, 1994, 1995, 1996, 1997, 1998, 1999, 2000, 2001, 2002, 2003, 2004, 2005, 2006, 2007, 2008, 2009, 2010, 2011, 2012, 2013, 2014, 2015, 2016, 2017, 2018, 2019], \"y\": [118.8, 114.2, 114.7, 117.7, 123.2, 124.1, 125.5, 130.7, 139.7, 141.4, 143.4, 141.7, 148.3, 147.2, 159.6, 157.6, 155.4, 169.6, 161.0, 160.7, 161.4, 156.9, 156.3, 157.9, 157.3, 156.3, 154.6, 159.1, 164.9, 164.9]}],                        {\"hovermode\": \"closest\", \"template\": {\"data\": {\"bar\": [{\"error_x\": {\"color\": \"#2a3f5f\"}, \"error_y\": {\"color\": \"#2a3f5f\"}, \"marker\": {\"line\": {\"color\": \"#E5ECF6\", \"width\": 0.5}}, \"type\": \"bar\"}], \"barpolar\": [{\"marker\": {\"line\": {\"color\": \"#E5ECF6\", \"width\": 0.5}}, \"type\": \"barpolar\"}], \"carpet\": [{\"aaxis\": {\"endlinecolor\": \"#2a3f5f\", \"gridcolor\": \"white\", \"linecolor\": \"white\", \"minorgridcolor\": \"white\", \"startlinecolor\": \"#2a3f5f\"}, \"baxis\": {\"endlinecolor\": \"#2a3f5f\", \"gridcolor\": \"white\", \"linecolor\": \"white\", \"minorgridcolor\": \"white\", \"startlinecolor\": \"#2a3f5f\"}, \"type\": \"carpet\"}], \"choropleth\": [{\"colorbar\": {\"outlinewidth\": 0, \"ticks\": \"\"}, \"type\": \"choropleth\"}], \"contour\": [{\"colorbar\": {\"outlinewidth\": 0, \"ticks\": \"\"}, \"colorscale\": [[0.0, \"#0d0887\"], [0.1111111111111111, \"#46039f\"], [0.2222222222222222, \"#7201a8\"], [0.3333333333333333, \"#9c179e\"], [0.4444444444444444, \"#bd3786\"], [0.5555555555555556, \"#d8576b\"], [0.6666666666666666, \"#ed7953\"], [0.7777777777777778, \"#fb9f3a\"], [0.8888888888888888, \"#fdca26\"], [1.0, \"#f0f921\"]], \"type\": \"contour\"}], \"contourcarpet\": [{\"colorbar\": {\"outlinewidth\": 0, \"ticks\": \"\"}, \"type\": \"contourcarpet\"}], \"heatmap\": [{\"colorbar\": {\"outlinewidth\": 0, \"ticks\": \"\"}, \"colorscale\": [[0.0, \"#0d0887\"], [0.1111111111111111, \"#46039f\"], [0.2222222222222222, \"#7201a8\"], [0.3333333333333333, \"#9c179e\"], [0.4444444444444444, \"#bd3786\"], [0.5555555555555556, \"#d8576b\"], [0.6666666666666666, \"#ed7953\"], [0.7777777777777778, \"#fb9f3a\"], [0.8888888888888888, \"#fdca26\"], [1.0, \"#f0f921\"]], \"type\": \"heatmap\"}], \"heatmapgl\": [{\"colorbar\": {\"outlinewidth\": 0, \"ticks\": \"\"}, \"colorscale\": [[0.0, \"#0d0887\"], [0.1111111111111111, \"#46039f\"], [0.2222222222222222, \"#7201a8\"], [0.3333333333333333, \"#9c179e\"], [0.4444444444444444, \"#bd3786\"], [0.5555555555555556, \"#d8576b\"], [0.6666666666666666, \"#ed7953\"], [0.7777777777777778, \"#fb9f3a\"], [0.8888888888888888, \"#fdca26\"], [1.0, \"#f0f921\"]], \"type\": \"heatmapgl\"}], \"histogram\": [{\"marker\": {\"colorbar\": {\"outlinewidth\": 0, \"ticks\": \"\"}}, \"type\": \"histogram\"}], \"histogram2d\": [{\"colorbar\": {\"outlinewidth\": 0, \"ticks\": \"\"}, \"colorscale\": [[0.0, \"#0d0887\"], [0.1111111111111111, \"#46039f\"], [0.2222222222222222, \"#7201a8\"], [0.3333333333333333, \"#9c179e\"], [0.4444444444444444, \"#bd3786\"], [0.5555555555555556, \"#d8576b\"], [0.6666666666666666, \"#ed7953\"], [0.7777777777777778, \"#fb9f3a\"], [0.8888888888888888, \"#fdca26\"], [1.0, \"#f0f921\"]], \"type\": \"histogram2d\"}], \"histogram2dcontour\": [{\"colorbar\": {\"outlinewidth\": 0, \"ticks\": \"\"}, \"colorscale\": [[0.0, \"#0d0887\"], [0.1111111111111111, \"#46039f\"], [0.2222222222222222, \"#7201a8\"], [0.3333333333333333, \"#9c179e\"], [0.4444444444444444, \"#bd3786\"], [0.5555555555555556, \"#d8576b\"], [0.6666666666666666, \"#ed7953\"], [0.7777777777777778, \"#fb9f3a\"], [0.8888888888888888, \"#fdca26\"], [1.0, \"#f0f921\"]], \"type\": \"histogram2dcontour\"}], \"mesh3d\": [{\"colorbar\": {\"outlinewidth\": 0, \"ticks\": \"\"}, \"type\": \"mesh3d\"}], \"parcoords\": [{\"line\": {\"colorbar\": {\"outlinewidth\": 0, \"ticks\": \"\"}}, \"type\": \"parcoords\"}], \"pie\": [{\"automargin\": true, \"type\": \"pie\"}], \"scatter\": [{\"marker\": {\"colorbar\": {\"outlinewidth\": 0, \"ticks\": \"\"}}, \"type\": \"scatter\"}], \"scatter3d\": [{\"line\": {\"colorbar\": {\"outlinewidth\": 0, \"ticks\": \"\"}}, \"marker\": {\"colorbar\": {\"outlinewidth\": 0, \"ticks\": \"\"}}, \"type\": \"scatter3d\"}], \"scattercarpet\": [{\"marker\": {\"colorbar\": {\"outlinewidth\": 0, \"ticks\": \"\"}}, \"type\": \"scattercarpet\"}], \"scattergeo\": [{\"marker\": {\"colorbar\": {\"outlinewidth\": 0, \"ticks\": \"\"}}, \"type\": \"scattergeo\"}], \"scattergl\": [{\"marker\": {\"colorbar\": {\"outlinewidth\": 0, \"ticks\": \"\"}}, \"type\": \"scattergl\"}], \"scattermapbox\": [{\"marker\": {\"colorbar\": {\"outlinewidth\": 0, \"ticks\": \"\"}}, \"type\": \"scattermapbox\"}], \"scatterpolar\": [{\"marker\": {\"colorbar\": {\"outlinewidth\": 0, \"ticks\": \"\"}}, \"type\": \"scatterpolar\"}], \"scatterpolargl\": [{\"marker\": {\"colorbar\": {\"outlinewidth\": 0, \"ticks\": \"\"}}, \"type\": \"scatterpolargl\"}], \"scatterternary\": [{\"marker\": {\"colorbar\": {\"outlinewidth\": 0, \"ticks\": \"\"}}, \"type\": \"scatterternary\"}], \"surface\": [{\"colorbar\": {\"outlinewidth\": 0, \"ticks\": \"\"}, \"colorscale\": [[0.0, \"#0d0887\"], [0.1111111111111111, \"#46039f\"], [0.2222222222222222, \"#7201a8\"], [0.3333333333333333, \"#9c179e\"], [0.4444444444444444, \"#bd3786\"], [0.5555555555555556, \"#d8576b\"], [0.6666666666666666, \"#ed7953\"], [0.7777777777777778, \"#fb9f3a\"], [0.8888888888888888, \"#fdca26\"], [1.0, \"#f0f921\"]], \"type\": \"surface\"}], \"table\": [{\"cells\": {\"fill\": {\"color\": \"#EBF0F8\"}, \"line\": {\"color\": \"white\"}}, \"header\": {\"fill\": {\"color\": \"#C8D4E3\"}, \"line\": {\"color\": \"white\"}}, \"type\": \"table\"}]}, \"layout\": {\"annotationdefaults\": {\"arrowcolor\": \"#2a3f5f\", \"arrowhead\": 0, \"arrowwidth\": 1}, \"coloraxis\": {\"colorbar\": {\"outlinewidth\": 0, \"ticks\": \"\"}}, \"colorscale\": {\"diverging\": [[0, \"#8e0152\"], [0.1, \"#c51b7d\"], [0.2, \"#de77ae\"], [0.3, \"#f1b6da\"], [0.4, \"#fde0ef\"], [0.5, \"#f7f7f7\"], [0.6, \"#e6f5d0\"], [0.7, \"#b8e186\"], [0.8, \"#7fbc41\"], [0.9, \"#4d9221\"], [1, \"#276419\"]], \"sequential\": [[0.0, \"#0d0887\"], [0.1111111111111111, \"#46039f\"], [0.2222222222222222, \"#7201a8\"], [0.3333333333333333, \"#9c179e\"], [0.4444444444444444, \"#bd3786\"], [0.5555555555555556, \"#d8576b\"], [0.6666666666666666, \"#ed7953\"], [0.7777777777777778, \"#fb9f3a\"], [0.8888888888888888, \"#fdca26\"], [1.0, \"#f0f921\"]], \"sequentialminus\": [[0.0, \"#0d0887\"], [0.1111111111111111, \"#46039f\"], [0.2222222222222222, \"#7201a8\"], [0.3333333333333333, \"#9c179e\"], [0.4444444444444444, \"#bd3786\"], [0.5555555555555556, \"#d8576b\"], [0.6666666666666666, \"#ed7953\"], [0.7777777777777778, \"#fb9f3a\"], [0.8888888888888888, \"#fdca26\"], [1.0, \"#f0f921\"]]}, \"colorway\": [\"#636efa\", \"#EF553B\", \"#00cc96\", \"#ab63fa\", \"#FFA15A\", \"#19d3f3\", \"#FF6692\", \"#B6E880\", \"#FF97FF\", \"#FECB52\"], \"font\": {\"color\": \"#2a3f5f\"}, \"geo\": {\"bgcolor\": \"white\", \"lakecolor\": \"white\", \"landcolor\": \"#E5ECF6\", \"showlakes\": true, \"showland\": true, \"subunitcolor\": \"white\"}, \"hoverlabel\": {\"align\": \"left\"}, \"hovermode\": \"closest\", \"mapbox\": {\"style\": \"light\"}, \"paper_bgcolor\": \"white\", \"plot_bgcolor\": \"#E5ECF6\", \"polar\": {\"angularaxis\": {\"gridcolor\": \"white\", \"linecolor\": \"white\", \"ticks\": \"\"}, \"bgcolor\": \"#E5ECF6\", \"radialaxis\": {\"gridcolor\": \"white\", \"linecolor\": \"white\", \"ticks\": \"\"}}, \"scene\": {\"xaxis\": {\"backgroundcolor\": \"#E5ECF6\", \"gridcolor\": \"white\", \"gridwidth\": 2, \"linecolor\": \"white\", \"showbackground\": true, \"ticks\": \"\", \"zerolinecolor\": \"white\"}, \"yaxis\": {\"backgroundcolor\": \"#E5ECF6\", \"gridcolor\": \"white\", \"gridwidth\": 2, \"linecolor\": \"white\", \"showbackground\": true, \"ticks\": \"\", \"zerolinecolor\": \"white\"}, \"zaxis\": {\"backgroundcolor\": \"#E5ECF6\", \"gridcolor\": \"white\", \"gridwidth\": 2, \"linecolor\": \"white\", \"showbackground\": true, \"ticks\": \"\", \"zerolinecolor\": \"white\"}}, \"shapedefaults\": {\"line\": {\"color\": \"#2a3f5f\"}}, \"ternary\": {\"aaxis\": {\"gridcolor\": \"white\", \"linecolor\": \"white\", \"ticks\": \"\"}, \"baxis\": {\"gridcolor\": \"white\", \"linecolor\": \"white\", \"ticks\": \"\"}, \"bgcolor\": \"#E5ECF6\", \"caxis\": {\"gridcolor\": \"white\", \"linecolor\": \"white\", \"ticks\": \"\"}}, \"title\": {\"x\": 0.05}, \"xaxis\": {\"automargin\": true, \"gridcolor\": \"white\", \"linecolor\": \"white\", \"ticks\": \"\", \"title\": {\"standoff\": 15}, \"zerolinecolor\": \"white\", \"zerolinewidth\": 2}, \"yaxis\": {\"automargin\": true, \"gridcolor\": \"white\", \"linecolor\": \"white\", \"ticks\": \"\", \"title\": {\"standoff\": 15}, \"zerolinecolor\": \"white\", \"zerolinewidth\": 2}}}, \"title\": {\"text\": \"Total surfaces, Hardwood, Softwood and other surfaces - forest Romania 1990-2019\"}, \"xaxis\": {\"showticklabels\": true, \"title\": {\"text\": \"Year\"}}, \"yaxis\": {\"title\": {\"text\": \"Surface [Thousands hectares]\"}}},                        {\"responsive\": true}                    ).then(function(){\n",
       "                            \n",
       "var gd = document.getElementById('1fd3917c-9b79-414a-b7fa-1fcb3bc7530a');\n",
       "var x = new MutationObserver(function (mutations, observer) {{\n",
       "        var display = window.getComputedStyle(gd).display;\n",
       "        if (!display || display === 'none') {{\n",
       "            console.log([gd, 'removed!']);\n",
       "            Plotly.purge(gd);\n",
       "            observer.disconnect();\n",
       "        }}\n",
       "}});\n",
       "\n",
       "// Listen for the removal of the full notebook cells\n",
       "var notebookContainer = gd.closest('#notebook-container');\n",
       "if (notebookContainer) {{\n",
       "    x.observe(notebookContainer, {childList: true});\n",
       "}}\n",
       "\n",
       "// Listen for the clearing of the current output cell\n",
       "var outputEl = gd.closest('.output');\n",
       "if (outputEl) {{\n",
       "    x.observe(outputEl, {childList: true});\n",
       "}}\n",
       "\n",
       "                        })                };                });            </script>        </div>"
      ]
     },
     "metadata": {},
     "output_type": "display_data"
    }
   ],
   "source": [
    "total = data_df.loc[data_df.Region=='TOTAL']\n",
    "totalT = total.loc[total.Category=='Total']\n",
    "totalH = total.loc[total.Category=='Hardwood']\n",
    "totalS = total.loc[total.Category=='Softwood']\n",
    "totalO = total.loc[total.Category=='Others']\n",
    "\n",
    "traceT = go.Scatter(\n",
    "    x = totalT['Year'],y = totalT['Value'],\n",
    "    name=\"Total surface\",\n",
    "    marker=dict(color=\"Green\"),\n",
    "    mode = \"markers+lines\",\n",
    "    text=totalT['Value']\n",
    ")\n",
    "\n",
    "traceH = go.Scatter(\n",
    "    x = totalH['Year'],y = totalH['Value'],\n",
    "    name=\"Hardwood\",\n",
    "    marker=dict(color=\"Lightgreen\"),\n",
    "    mode = \"markers+lines\",\n",
    "    text=totalH['Value']\n",
    ")\n",
    "\n",
    "traceS = go.Scatter(\n",
    "    x = totalS['Year'],y = totalS['Value'],\n",
    "    name=\"Softwood\",\n",
    "    marker=dict(color=\"Darkgreen\"),\n",
    "    mode = \"markers+lines\",\n",
    "    text=totalS['Value']\n",
    ")\n",
    "\n",
    "traceO = go.Scatter(\n",
    "    x = totalO['Year'],y = totalO['Value'],\n",
    "    name=\"Other surfaces\",\n",
    "    marker=dict(color=\"Brown\"),\n",
    "    mode = \"markers+lines\",\n",
    "    text=totalO['Value']\n",
    ")\n",
    "\n",
    "data = [traceT, traceH, traceS, traceO]\n",
    "\n",
    "layout = dict(title = 'Total surfaces, Hardwood, Softwood and other surfaces - forest Romania 1990-2019',\n",
    "          xaxis = dict(title = 'Year', showticklabels=True), \n",
    "          yaxis = dict(title = 'Surface [Thousands hectares]'),\n",
    "          hovermode = 'closest'\n",
    "         )\n",
    "fig = dict(data=data, layout=layout)\n",
    "iplot(fig, filename='forest-surface')"
   ]
  },
  {
   "cell_type": "markdown",
   "metadata": {
    "papermill": {
     "duration": 0.028389,
     "end_time": "2020-10-18T22:36:54.940193",
     "exception": false,
     "start_time": "2020-10-18T22:36:54.911804",
     "status": "completed"
    },
    "tags": []
   },
   "source": [
    "We can observe that overall, the forest surface increased in Romania from 1990 to 2019. Mostly the Hardwood surface increased, from 4.32 Million hectares to 4.51 Million hectares. The total surface increased from 6.37 Million hectares to 6.59 Million hectares. The Softwood surface decreased from 1.92 Million hectares to 1.91 Million hectares.\n",
    "\n",
    "\n",
    "Let's explore now the same values split per regions and per county."
   ]
  },
  {
   "cell_type": "code",
   "execution_count": 9,
   "metadata": {
    "_kg_hide-input": true,
    "execution": {
     "iopub.execute_input": "2020-10-18T22:36:55.010616Z",
     "iopub.status.busy": "2020-10-18T22:36:55.009443Z",
     "iopub.status.idle": "2020-10-18T22:36:55.016273Z",
     "shell.execute_reply": "2020-10-18T22:36:55.015347Z"
    },
    "papermill": {
     "duration": 0.047808,
     "end_time": "2020-10-18T22:36:55.016495",
     "exception": false,
     "start_time": "2020-10-18T22:36:54.968687",
     "status": "completed"
    },
    "tags": []
   },
   "outputs": [],
   "source": [
    "county_list = ['Bihor', 'Bistrita-Nasaud', 'Cluj', 'Maramures', 'Satu Mare', 'Salaj', 'Alba', 'Brasov', 'Covasna', 'Harghita', 'Mures', 'Sibiu', \n",
    "               'Bacau', 'Botosani', 'Iasi', 'Neamt', 'Suceava', 'Vaslui', 'Braila', 'Buzau', 'Constanta', 'Galati', 'Tulcea', 'Vrancea', \n",
    "               'Arges', 'Calarasi', 'Dambovita', 'Giurgiu', 'Ialomita', 'Prahova', 'Teleorman', 'Ilfov', 'Bucuresti', \n",
    "               'Dolj', 'Gorj', 'Mehedinti', 'Olt', 'Valcea', 'Arad', 'Caras-Severin', 'Hunedoara', 'Timis']\n",
    "data_county_df = data_df.loc[data_df.Region.isin(county_list)]"
   ]
  },
  {
   "cell_type": "code",
   "execution_count": 10,
   "metadata": {
    "_kg_hide-input": true,
    "execution": {
     "iopub.execute_input": "2020-10-18T22:36:55.092733Z",
     "iopub.status.busy": "2020-10-18T22:36:55.090096Z",
     "iopub.status.idle": "2020-10-18T22:36:55.480842Z",
     "shell.execute_reply": "2020-10-18T22:36:55.481573Z"
    },
    "papermill": {
     "duration": 0.435413,
     "end_time": "2020-10-18T22:36:55.481755",
     "exception": false,
     "start_time": "2020-10-18T22:36:55.046342",
     "status": "completed"
    },
    "tags": []
   },
   "outputs": [
    {
     "data": {
      "application/vnd.plotly.v1+json": {
       "config": {
        "plotlyServerURL": "https://plot.ly"
       },
       "data": [
        {
         "alignmentgroup": "True",
         "hovertemplate": "Year=1990<br>Value=%{x}<br>Region=%{y}<extra></extra>",
         "legendgroup": "",
         "marker": {
          "color": "#636efa"
         },
         "name": "",
         "offsetgroup": "",
         "orientation": "h",
         "showlegend": false,
         "textposition": "auto",
         "type": "bar",
         "x": [
          195.4,
          189.5,
          152.8,
          262.2,
          68.6,
          95.0,
          206.9,
          190.2,
          162.1,
          231.2,
          208.3,
          186.4,
          266.7,
          55.7,
          97.2,
          260.4,
          436.1,
          70.5,
          24.2,
          158.4,
          37.6,
          36.5,
          101.8,
          183.4,
          278.0,
          21.3,
          118.7,
          39.6,
          25.8,
          149.3,
          28.2,
          26.3,
          81.7,
          253.8,
          146.2,
          53.3,
          271.5,
          203.4,
          391.2,
          304.7,
          100.9
         ],
         "xaxis": "x",
         "y": [
          "Bihor",
          "Bistrita-Nasaud",
          "Cluj",
          "Maramures",
          "Satu Mare",
          "Salaj",
          "Alba",
          "Brasov",
          "Covasna",
          "Harghita",
          "Mures",
          "Sibiu",
          "Bacau",
          "Botosani",
          "Iasi",
          "Neamt",
          "Suceava",
          "Vaslui",
          "Braila",
          "Buzau",
          "Constanta",
          "Galati",
          "Tulcea",
          "Vrancea",
          "Arges",
          "Calarasi",
          "Dambovita",
          "Giurgiu",
          "Ialomita",
          "Prahova",
          "Teleorman",
          "Ilfov",
          "Dolj",
          "Gorj",
          "Mehedinti",
          "Olt",
          "Valcea",
          "Arad",
          "Caras-Severin",
          "Hunedoara",
          "Timis"
         ],
         "yaxis": "y"
        }
       ],
       "frames": [
        {
         "data": [
          {
           "alignmentgroup": "True",
           "hovertemplate": "Year=1990<br>Value=%{x}<br>Region=%{y}<extra></extra>",
           "legendgroup": "",
           "marker": {
            "color": "#636efa"
           },
           "name": "",
           "offsetgroup": "",
           "orientation": "h",
           "showlegend": false,
           "textposition": "auto",
           "type": "bar",
           "x": [
            195.4,
            189.5,
            152.8,
            262.2,
            68.6,
            95.0,
            206.9,
            190.2,
            162.1,
            231.2,
            208.3,
            186.4,
            266.7,
            55.7,
            97.2,
            260.4,
            436.1,
            70.5,
            24.2,
            158.4,
            37.6,
            36.5,
            101.8,
            183.4,
            278.0,
            21.3,
            118.7,
            39.6,
            25.8,
            149.3,
            28.2,
            26.3,
            81.7,
            253.8,
            146.2,
            53.3,
            271.5,
            203.4,
            391.2,
            304.7,
            100.9
           ],
           "xaxis": "x",
           "y": [
            "Bihor",
            "Bistrita-Nasaud",
            "Cluj",
            "Maramures",
            "Satu Mare",
            "Salaj",
            "Alba",
            "Brasov",
            "Covasna",
            "Harghita",
            "Mures",
            "Sibiu",
            "Bacau",
            "Botosani",
            "Iasi",
            "Neamt",
            "Suceava",
            "Vaslui",
            "Braila",
            "Buzau",
            "Constanta",
            "Galati",
            "Tulcea",
            "Vrancea",
            "Arges",
            "Calarasi",
            "Dambovita",
            "Giurgiu",
            "Ialomita",
            "Prahova",
            "Teleorman",
            "Ilfov",
            "Dolj",
            "Gorj",
            "Mehedinti",
            "Olt",
            "Valcea",
            "Arad",
            "Caras-Severin",
            "Hunedoara",
            "Timis"
           ],
           "yaxis": "y"
          }
         ],
         "name": "1990"
        },
        {
         "data": [
          {
           "alignmentgroup": "True",
           "hovertemplate": "Year=1991<br>Value=%{x}<br>Region=%{y}<extra></extra>",
           "legendgroup": "",
           "marker": {
            "color": "#636efa"
           },
           "name": "",
           "offsetgroup": "",
           "orientation": "h",
           "showlegend": false,
           "textposition": "auto",
           "type": "bar",
           "x": [
            195.4,
            189.9,
            152.8,
            262.2,
            68.6,
            95.1,
            206.9,
            190.1,
            162.1,
            231.3,
            208.3,
            186.5,
            266.3,
            55.7,
            96.8,
            260.6,
            435.8,
            70.5,
            24.2,
            158.2,
            35.5,
            36.5,
            102.0,
            183.2,
            278.0,
            21.3,
            118.6,
            46.0,
            25.8,
            149.1,
            28.1,
            19.9,
            81.7,
            253.4,
            146.2,
            53.3,
            271.5,
            203.4,
            391.2,
            304.7,
            100.9
           ],
           "xaxis": "x",
           "y": [
            "Bihor",
            "Bistrita-Nasaud",
            "Cluj",
            "Maramures",
            "Satu Mare",
            "Salaj",
            "Alba",
            "Brasov",
            "Covasna",
            "Harghita",
            "Mures",
            "Sibiu",
            "Bacau",
            "Botosani",
            "Iasi",
            "Neamt",
            "Suceava",
            "Vaslui",
            "Braila",
            "Buzau",
            "Constanta",
            "Galati",
            "Tulcea",
            "Vrancea",
            "Arges",
            "Calarasi",
            "Dambovita",
            "Giurgiu",
            "Ialomita",
            "Prahova",
            "Teleorman",
            "Ilfov",
            "Dolj",
            "Gorj",
            "Mehedinti",
            "Olt",
            "Valcea",
            "Arad",
            "Caras-Severin",
            "Hunedoara",
            "Timis"
           ],
           "yaxis": "y"
          }
         ],
         "name": "1991"
        },
        {
         "data": [
          {
           "alignmentgroup": "True",
           "hovertemplate": "Year=1992<br>Value=%{x}<br>Region=%{y}<extra></extra>",
           "legendgroup": "",
           "marker": {
            "color": "#636efa"
           },
           "name": "",
           "offsetgroup": "",
           "orientation": "h",
           "showlegend": false,
           "textposition": "auto",
           "type": "bar",
           "x": [
            195.4,
            189.9,
            152.9,
            262.7,
            68.5,
            95.2,
            206.8,
            190.1,
            162.4,
            231.3,
            208.3,
            186.7,
            284.3,
            55.7,
            96.6,
            242.8,
            435.6,
            70.4,
            24.2,
            158.2,
            35.5,
            36.5,
            102.0,
            183.3,
            278.1,
            21.3,
            118.7,
            39.5,
            25.7,
            149.0,
            28.1,
            26.3,
            81.7,
            253.5,
            146.4,
            53.3,
            271.0,
            203.4,
            391.1,
            304.7,
            101.1
           ],
           "xaxis": "x",
           "y": [
            "Bihor",
            "Bistrita-Nasaud",
            "Cluj",
            "Maramures",
            "Satu Mare",
            "Salaj",
            "Alba",
            "Brasov",
            "Covasna",
            "Harghita",
            "Mures",
            "Sibiu",
            "Bacau",
            "Botosani",
            "Iasi",
            "Neamt",
            "Suceava",
            "Vaslui",
            "Braila",
            "Buzau",
            "Constanta",
            "Galati",
            "Tulcea",
            "Vrancea",
            "Arges",
            "Calarasi",
            "Dambovita",
            "Giurgiu",
            "Ialomita",
            "Prahova",
            "Teleorman",
            "Ilfov",
            "Dolj",
            "Gorj",
            "Mehedinti",
            "Olt",
            "Valcea",
            "Arad",
            "Caras-Severin",
            "Hunedoara",
            "Timis"
           ],
           "yaxis": "y"
          }
         ],
         "name": "1992"
        },
        {
         "data": [
          {
           "alignmentgroup": "True",
           "hovertemplate": "Year=1993<br>Value=%{x}<br>Region=%{y}<extra></extra>",
           "legendgroup": "",
           "marker": {
            "color": "#636efa"
           },
           "name": "",
           "offsetgroup": "",
           "orientation": "h",
           "showlegend": false,
           "textposition": "auto",
           "type": "bar",
           "x": [
            191.7,
            189.9,
            152.9,
            262.6,
            68.5,
            95.2,
            206.5,
            190.1,
            161.7,
            231.3,
            208.2,
            186.7,
            266.7,
            55.7,
            96.6,
            260.5,
            435.6,
            70.3,
            24.2,
            158.9,
            35.5,
            36.5,
            101.8,
            183.1,
            277.9,
            21.1,
            118.8,
            39.7,
            25.7,
            148.6,
            28.1,
            26.2,
            81.7,
            255.0,
            146.4,
            53.3,
            271.2,
            207.2,
            391.2,
            303.0,
            101.1
           ],
           "xaxis": "x",
           "y": [
            "Bihor",
            "Bistrita-Nasaud",
            "Cluj",
            "Maramures",
            "Satu Mare",
            "Salaj",
            "Alba",
            "Brasov",
            "Covasna",
            "Harghita",
            "Mures",
            "Sibiu",
            "Bacau",
            "Botosani",
            "Iasi",
            "Neamt",
            "Suceava",
            "Vaslui",
            "Braila",
            "Buzau",
            "Constanta",
            "Galati",
            "Tulcea",
            "Vrancea",
            "Arges",
            "Calarasi",
            "Dambovita",
            "Giurgiu",
            "Ialomita",
            "Prahova",
            "Teleorman",
            "Ilfov",
            "Dolj",
            "Gorj",
            "Mehedinti",
            "Olt",
            "Valcea",
            "Arad",
            "Caras-Severin",
            "Hunedoara",
            "Timis"
           ],
           "yaxis": "y"
          }
         ],
         "name": "1993"
        },
        {
         "data": [
          {
           "alignmentgroup": "True",
           "hovertemplate": "Year=1994<br>Value=%{x}<br>Region=%{y}<extra></extra>",
           "legendgroup": "",
           "marker": {
            "color": "#636efa"
           },
           "name": "",
           "offsetgroup": "",
           "orientation": "h",
           "showlegend": false,
           "textposition": "auto",
           "type": "bar",
           "x": [
            194.7,
            190.0,
            153.6,
            263.2,
            68.0,
            95.2,
            206.6,
            190.2,
            162.0,
            230.8,
            208.4,
            186.6,
            267.0,
            55.9,
            97.0,
            260.5,
            435.5,
            70.5,
            25.7,
            159.7,
            35.5,
            36.6,
            102.1,
            183.1,
            279.4,
            20.6,
            118.6,
            38.2,
            25.7,
            147.5,
            29.4,
            26.5,
            81.7,
            254.9,
            146.5,
            51.9,
            271.6,
            203.7,
            390.5,
            302.9,
            101.0
           ],
           "xaxis": "x",
           "y": [
            "Bihor",
            "Bistrita-Nasaud",
            "Cluj",
            "Maramures",
            "Satu Mare",
            "Salaj",
            "Alba",
            "Brasov",
            "Covasna",
            "Harghita",
            "Mures",
            "Sibiu",
            "Bacau",
            "Botosani",
            "Iasi",
            "Neamt",
            "Suceava",
            "Vaslui",
            "Braila",
            "Buzau",
            "Constanta",
            "Galati",
            "Tulcea",
            "Vrancea",
            "Arges",
            "Calarasi",
            "Dambovita",
            "Giurgiu",
            "Ialomita",
            "Prahova",
            "Teleorman",
            "Ilfov",
            "Dolj",
            "Gorj",
            "Mehedinti",
            "Olt",
            "Valcea",
            "Arad",
            "Caras-Severin",
            "Hunedoara",
            "Timis"
           ],
           "yaxis": "y"
          }
         ],
         "name": "1994"
        },
        {
         "data": [
          {
           "alignmentgroup": "True",
           "hovertemplate": "Year=1995<br>Value=%{x}<br>Region=%{y}<extra></extra>",
           "legendgroup": "",
           "marker": {
            "color": "#636efa"
           },
           "name": "",
           "offsetgroup": "",
           "orientation": "h",
           "showlegend": false,
           "textposition": "auto",
           "type": "bar",
           "x": [
            195.3,
            189.8,
            152.8,
            263.1,
            68.0,
            95.5,
            206.9,
            189.7,
            162.2,
            231.1,
            208.2,
            186.2,
            266.9,
            55.8,
            96.8,
            260.5,
            435.2,
            70.5,
            25.5,
            158.8,
            35.5,
            36.4,
            101.6,
            185.5,
            280.0,
            21.2,
            118.8,
            38.2,
            25.8,
            147.7,
            29.2,
            26.3,
            82.0,
            248.9,
            146.3,
            51.8,
            270.5,
            203.4,
            390.6,
            309.2,
            101.1
           ],
           "xaxis": "x",
           "y": [
            "Bihor",
            "Bistrita-Nasaud",
            "Cluj",
            "Maramures",
            "Satu Mare",
            "Salaj",
            "Alba",
            "Brasov",
            "Covasna",
            "Harghita",
            "Mures",
            "Sibiu",
            "Bacau",
            "Botosani",
            "Iasi",
            "Neamt",
            "Suceava",
            "Vaslui",
            "Braila",
            "Buzau",
            "Constanta",
            "Galati",
            "Tulcea",
            "Vrancea",
            "Arges",
            "Calarasi",
            "Dambovita",
            "Giurgiu",
            "Ialomita",
            "Prahova",
            "Teleorman",
            "Ilfov",
            "Dolj",
            "Gorj",
            "Mehedinti",
            "Olt",
            "Valcea",
            "Arad",
            "Caras-Severin",
            "Hunedoara",
            "Timis"
           ],
           "yaxis": "y"
          }
         ],
         "name": "1995"
        },
        {
         "data": [
          {
           "alignmentgroup": "True",
           "hovertemplate": "Year=1996<br>Value=%{x}<br>Region=%{y}<extra></extra>",
           "legendgroup": "",
           "marker": {
            "color": "#636efa"
           },
           "name": "",
           "offsetgroup": "",
           "orientation": "h",
           "showlegend": false,
           "textposition": "auto",
           "type": "bar",
           "x": [
            195.3,
            188.6,
            152.6,
            263.1,
            68.0,
            95.4,
            207.1,
            189.9,
            161.9,
            231.3,
            208.2,
            186.4,
            266.5,
            55.8,
            96.8,
            260.4,
            435.2,
            70.5,
            25.9,
            158.4,
            35.5,
            36.4,
            101.6,
            183.5,
            280.0,
            21.2,
            118.8,
            38.2,
            25.7,
            148.2,
            29.1,
            26.3,
            82.0,
            249.0,
            146.3,
            51.8,
            270.5,
            203.5,
            390.6,
            309.1,
            101.1
           ],
           "xaxis": "x",
           "y": [
            "Bihor",
            "Bistrita-Nasaud",
            "Cluj",
            "Maramures",
            "Satu Mare",
            "Salaj",
            "Alba",
            "Brasov",
            "Covasna",
            "Harghita",
            "Mures",
            "Sibiu",
            "Bacau",
            "Botosani",
            "Iasi",
            "Neamt",
            "Suceava",
            "Vaslui",
            "Braila",
            "Buzau",
            "Constanta",
            "Galati",
            "Tulcea",
            "Vrancea",
            "Arges",
            "Calarasi",
            "Dambovita",
            "Giurgiu",
            "Ialomita",
            "Prahova",
            "Teleorman",
            "Ilfov",
            "Dolj",
            "Gorj",
            "Mehedinti",
            "Olt",
            "Valcea",
            "Arad",
            "Caras-Severin",
            "Hunedoara",
            "Timis"
           ],
           "yaxis": "y"
          }
         ],
         "name": "1996"
        },
        {
         "data": [
          {
           "alignmentgroup": "True",
           "hovertemplate": "Year=1997<br>Value=%{x}<br>Region=%{y}<extra></extra>",
           "legendgroup": "",
           "marker": {
            "color": "#636efa"
           },
           "name": "",
           "offsetgroup": "",
           "orientation": "h",
           "showlegend": false,
           "textposition": "auto",
           "type": "bar",
           "x": [
            195.3,
            189.7,
            152.6,
            263.2,
            68.0,
            95.4,
            207.0,
            189.9,
            162.0,
            231.4,
            208.1,
            186.4,
            266.6,
            55.8,
            96.9,
            260.4,
            435.1,
            70.5,
            25.9,
            158.3,
            35.5,
            36.2,
            102.2,
            183.9,
            279.7,
            21.2,
            118.7,
            38.1,
            25.7,
            148.1,
            28.9,
            26.4,
            81.9,
            248.8,
            146.3,
            52.1,
            270.8,
            203.5,
            390.4,
            309.1,
            101.3
           ],
           "xaxis": "x",
           "y": [
            "Bihor",
            "Bistrita-Nasaud",
            "Cluj",
            "Maramures",
            "Satu Mare",
            "Salaj",
            "Alba",
            "Brasov",
            "Covasna",
            "Harghita",
            "Mures",
            "Sibiu",
            "Bacau",
            "Botosani",
            "Iasi",
            "Neamt",
            "Suceava",
            "Vaslui",
            "Braila",
            "Buzau",
            "Constanta",
            "Galati",
            "Tulcea",
            "Vrancea",
            "Arges",
            "Calarasi",
            "Dambovita",
            "Giurgiu",
            "Ialomita",
            "Prahova",
            "Teleorman",
            "Ilfov",
            "Dolj",
            "Gorj",
            "Mehedinti",
            "Olt",
            "Valcea",
            "Arad",
            "Caras-Severin",
            "Hunedoara",
            "Timis"
           ],
           "yaxis": "y"
          }
         ],
         "name": "1997"
        },
        {
         "data": [
          {
           "alignmentgroup": "True",
           "hovertemplate": "Year=1998<br>Value=%{x}<br>Region=%{y}<extra></extra>",
           "legendgroup": "",
           "marker": {
            "color": "#636efa"
           },
           "name": "",
           "offsetgroup": "",
           "orientation": "h",
           "showlegend": false,
           "textposition": "auto",
           "type": "bar",
           "x": [
            195.5,
            189.6,
            152.6,
            263.0,
            67.9,
            95.4,
            207.0,
            190.0,
            161.9,
            231.5,
            208.1,
            186.4,
            267.0,
            55.8,
            96.6,
            260.1,
            435.3,
            70.8,
            25.9,
            158.3,
            35.2,
            36.3,
            102.2,
            183.7,
            279.6,
            21.3,
            118.4,
            38.0,
            25.7,
            148.1,
            28.9,
            26.4,
            83.2,
            248.8,
            146.2,
            52.1,
            271.1,
            203.5,
            389.4,
            309.0,
            101.3
           ],
           "xaxis": "x",
           "y": [
            "Bihor",
            "Bistrita-Nasaud",
            "Cluj",
            "Maramures",
            "Satu Mare",
            "Salaj",
            "Alba",
            "Brasov",
            "Covasna",
            "Harghita",
            "Mures",
            "Sibiu",
            "Bacau",
            "Botosani",
            "Iasi",
            "Neamt",
            "Suceava",
            "Vaslui",
            "Braila",
            "Buzau",
            "Constanta",
            "Galati",
            "Tulcea",
            "Vrancea",
            "Arges",
            "Calarasi",
            "Dambovita",
            "Giurgiu",
            "Ialomita",
            "Prahova",
            "Teleorman",
            "Ilfov",
            "Dolj",
            "Gorj",
            "Mehedinti",
            "Olt",
            "Valcea",
            "Arad",
            "Caras-Severin",
            "Hunedoara",
            "Timis"
           ],
           "yaxis": "y"
          }
         ],
         "name": "1998"
        },
        {
         "data": [
          {
           "alignmentgroup": "True",
           "hovertemplate": "Year=1999<br>Value=%{x}<br>Region=%{y}<extra></extra>",
           "legendgroup": "",
           "marker": {
            "color": "#636efa"
           },
           "name": "",
           "offsetgroup": "",
           "orientation": "h",
           "showlegend": false,
           "textposition": "auto",
           "type": "bar",
           "x": [
            195.5,
            189.6,
            152.6,
            263.1,
            67.9,
            95.4,
            207.0,
            190.0,
            161.9,
            231.5,
            208.1,
            186.5,
            266.8,
            55.8,
            96.9,
            260.0,
            435.3,
            70.5,
            25.9,
            158.2,
            35.3,
            36.3,
            102.2,
            183.7,
            279.6,
            21.3,
            118.6,
            38.1,
            25.7,
            148.1,
            28.7,
            26.2,
            83.5,
            248.8,
            146.2,
            52.1,
            271.1,
            203.6,
            389.1,
            309.3,
            101.3
           ],
           "xaxis": "x",
           "y": [
            "Bihor",
            "Bistrita-Nasaud",
            "Cluj",
            "Maramures",
            "Satu Mare",
            "Salaj",
            "Alba",
            "Brasov",
            "Covasna",
            "Harghita",
            "Mures",
            "Sibiu",
            "Bacau",
            "Botosani",
            "Iasi",
            "Neamt",
            "Suceava",
            "Vaslui",
            "Braila",
            "Buzau",
            "Constanta",
            "Galati",
            "Tulcea",
            "Vrancea",
            "Arges",
            "Calarasi",
            "Dambovita",
            "Giurgiu",
            "Ialomita",
            "Prahova",
            "Teleorman",
            "Ilfov",
            "Dolj",
            "Gorj",
            "Mehedinti",
            "Olt",
            "Valcea",
            "Arad",
            "Caras-Severin",
            "Hunedoara",
            "Timis"
           ],
           "yaxis": "y"
          }
         ],
         "name": "1999"
        },
        {
         "data": [
          {
           "alignmentgroup": "True",
           "hovertemplate": "Year=2000<br>Value=%{x}<br>Region=%{y}<extra></extra>",
           "legendgroup": "",
           "marker": {
            "color": "#636efa"
           },
           "name": "",
           "offsetgroup": "",
           "orientation": "h",
           "showlegend": false,
           "textposition": "auto",
           "type": "bar",
           "x": [
            195.5,
            189.8,
            152.4,
            263.0,
            68.0,
            95.6,
            207.1,
            190.0,
            161.9,
            231.4,
            208.4,
            186.4,
            266.6,
            55.8,
            97.2,
            259.9,
            434.8,
            70.5,
            25.8,
            158.2,
            35.4,
            36.3,
            102.2,
            183.6,
            279.1,
            21.3,
            118.4,
            38.1,
            25.7,
            148.0,
            28.7,
            26.5,
            83.5,
            248.7,
            146.2,
            52.1,
            271.1,
            203.4,
            389.0,
            309.1,
            101.8
           ],
           "xaxis": "x",
           "y": [
            "Bihor",
            "Bistrita-Nasaud",
            "Cluj",
            "Maramures",
            "Satu Mare",
            "Salaj",
            "Alba",
            "Brasov",
            "Covasna",
            "Harghita",
            "Mures",
            "Sibiu",
            "Bacau",
            "Botosani",
            "Iasi",
            "Neamt",
            "Suceava",
            "Vaslui",
            "Braila",
            "Buzau",
            "Constanta",
            "Galati",
            "Tulcea",
            "Vrancea",
            "Arges",
            "Calarasi",
            "Dambovita",
            "Giurgiu",
            "Ialomita",
            "Prahova",
            "Teleorman",
            "Ilfov",
            "Dolj",
            "Gorj",
            "Mehedinti",
            "Olt",
            "Valcea",
            "Arad",
            "Caras-Severin",
            "Hunedoara",
            "Timis"
           ],
           "yaxis": "y"
          }
         ],
         "name": "2000"
        },
        {
         "data": [
          {
           "alignmentgroup": "True",
           "hovertemplate": "Year=2001<br>Value=%{x}<br>Region=%{y}<extra></extra>",
           "legendgroup": "",
           "marker": {
            "color": "#636efa"
           },
           "name": "",
           "offsetgroup": "",
           "orientation": "h",
           "showlegend": false,
           "textposition": "auto",
           "type": "bar",
           "x": [
            195.6,
            189.8,
            152.3,
            263.0,
            68.0,
            95.6,
            207.1,
            190.1,
            161.7,
            231.4,
            208.4,
            186.4,
            266.6,
            55.8,
            97.2,
            259.8,
            434.8,
            70.6,
            25.5,
            158.0,
            35.4,
            36.3,
            102.2,
            183.8,
            279.2,
            21.3,
            118.4,
            38.1,
            25.7,
            148.0,
            28.7,
            26.0,
            0.6,
            83.5,
            248.9,
            146.4,
            52.0,
            271.1,
            203.5,
            389.1,
            309.1,
            101.8
           ],
           "xaxis": "x",
           "y": [
            "Bihor",
            "Bistrita-Nasaud",
            "Cluj",
            "Maramures",
            "Satu Mare",
            "Salaj",
            "Alba",
            "Brasov",
            "Covasna",
            "Harghita",
            "Mures",
            "Sibiu",
            "Bacau",
            "Botosani",
            "Iasi",
            "Neamt",
            "Suceava",
            "Vaslui",
            "Braila",
            "Buzau",
            "Constanta",
            "Galati",
            "Tulcea",
            "Vrancea",
            "Arges",
            "Calarasi",
            "Dambovita",
            "Giurgiu",
            "Ialomita",
            "Prahova",
            "Teleorman",
            "Ilfov",
            "Bucuresti",
            "Dolj",
            "Gorj",
            "Mehedinti",
            "Olt",
            "Valcea",
            "Arad",
            "Caras-Severin",
            "Hunedoara",
            "Timis"
           ],
           "yaxis": "y"
          }
         ],
         "name": "2001"
        },
        {
         "data": [
          {
           "alignmentgroup": "True",
           "hovertemplate": "Year=2002<br>Value=%{x}<br>Region=%{y}<extra></extra>",
           "legendgroup": "",
           "marker": {
            "color": "#636efa"
           },
           "name": "",
           "offsetgroup": "",
           "orientation": "h",
           "showlegend": false,
           "textposition": "auto",
           "type": "bar",
           "x": [
            198.2,
            200.8,
            152.1,
            263.0,
            68.0,
            95.6,
            206.9,
            190.6,
            161.0,
            226.9,
            208.4,
            186.8,
            266.6,
            56.0,
            97.2,
            260.1,
            434.9,
            70.4,
            26.0,
            157.6,
            35.4,
            36.5,
            103.0,
            191.7,
            279.3,
            21.3,
            118.4,
            38.1,
            25.9,
            147.5,
            28.7,
            26.0,
            0.6,
            85.7,
            248.0,
            146.2,
            53.1,
            271.1,
            204.0,
            389.1,
            309.6,
            101.5
           ],
           "xaxis": "x",
           "y": [
            "Bihor",
            "Bistrita-Nasaud",
            "Cluj",
            "Maramures",
            "Satu Mare",
            "Salaj",
            "Alba",
            "Brasov",
            "Covasna",
            "Harghita",
            "Mures",
            "Sibiu",
            "Bacau",
            "Botosani",
            "Iasi",
            "Neamt",
            "Suceava",
            "Vaslui",
            "Braila",
            "Buzau",
            "Constanta",
            "Galati",
            "Tulcea",
            "Vrancea",
            "Arges",
            "Calarasi",
            "Dambovita",
            "Giurgiu",
            "Ialomita",
            "Prahova",
            "Teleorman",
            "Ilfov",
            "Bucuresti",
            "Dolj",
            "Gorj",
            "Mehedinti",
            "Olt",
            "Valcea",
            "Arad",
            "Caras-Severin",
            "Hunedoara",
            "Timis"
           ],
           "yaxis": "y"
          }
         ],
         "name": "2002"
        },
        {
         "data": [
          {
           "alignmentgroup": "True",
           "hovertemplate": "Year=2003<br>Value=%{x}<br>Region=%{y}<extra></extra>",
           "legendgroup": "",
           "marker": {
            "color": "#636efa"
           },
           "name": "",
           "offsetgroup": "",
           "orientation": "h",
           "showlegend": false,
           "textposition": "auto",
           "type": "bar",
           "x": [
            195.4,
            190.3,
            152.3,
            265.0,
            67.8,
            95.5,
            206.1,
            190.2,
            161.8,
            231.0,
            208.3,
            186.8,
            269.6,
            56.0,
            97.2,
            259.2,
            435.1,
            70.9,
            25.9,
            157.8,
            35.4,
            36.5,
            103.0,
            184.0,
            276.8,
            21.2,
            118.5,
            38.0,
            26.0,
            146.5,
            28.8,
            26.0,
            0.6,
            85.6,
            247.9,
            146.4,
            53.0,
            269.1,
            201.7,
            388.8,
            309.7,
            102.8
           ],
           "xaxis": "x",
           "y": [
            "Bihor",
            "Bistrita-Nasaud",
            "Cluj",
            "Maramures",
            "Satu Mare",
            "Salaj",
            "Alba",
            "Brasov",
            "Covasna",
            "Harghita",
            "Mures",
            "Sibiu",
            "Bacau",
            "Botosani",
            "Iasi",
            "Neamt",
            "Suceava",
            "Vaslui",
            "Braila",
            "Buzau",
            "Constanta",
            "Galati",
            "Tulcea",
            "Vrancea",
            "Arges",
            "Calarasi",
            "Dambovita",
            "Giurgiu",
            "Ialomita",
            "Prahova",
            "Teleorman",
            "Ilfov",
            "Bucuresti",
            "Dolj",
            "Gorj",
            "Mehedinti",
            "Olt",
            "Valcea",
            "Arad",
            "Caras-Severin",
            "Hunedoara",
            "Timis"
           ],
           "yaxis": "y"
          }
         ],
         "name": "2003"
        },
        {
         "data": [
          {
           "alignmentgroup": "True",
           "hovertemplate": "Year=2004<br>Value=%{x}<br>Region=%{y}<extra></extra>",
           "legendgroup": "",
           "marker": {
            "color": "#636efa"
           },
           "name": "",
           "offsetgroup": "",
           "orientation": "h",
           "showlegend": false,
           "textposition": "auto",
           "type": "bar",
           "x": [
            195.3,
            190.3,
            152.3,
            262.7,
            67.8,
            95.5,
            206.1,
            190.1,
            161.2,
            234.9,
            208.3,
            186.4,
            271.5,
            56.0,
            97.6,
            259.0,
            435.1,
            71.6,
            27.2,
            158.0,
            39.9,
            37.0,
            103.3,
            185.8,
            276.9,
            21.2,
            118.6,
            38.0,
            26.0,
            146.5,
            28.8,
            26.0,
            0.6,
            85.6,
            247.7,
            146.6,
            53.4,
            270.3,
            201.7,
            388.9,
            309.8,
            102.7
           ],
           "xaxis": "x",
           "y": [
            "Bihor",
            "Bistrita-Nasaud",
            "Cluj",
            "Maramures",
            "Satu Mare",
            "Salaj",
            "Alba",
            "Brasov",
            "Covasna",
            "Harghita",
            "Mures",
            "Sibiu",
            "Bacau",
            "Botosani",
            "Iasi",
            "Neamt",
            "Suceava",
            "Vaslui",
            "Braila",
            "Buzau",
            "Constanta",
            "Galati",
            "Tulcea",
            "Vrancea",
            "Arges",
            "Calarasi",
            "Dambovita",
            "Giurgiu",
            "Ialomita",
            "Prahova",
            "Teleorman",
            "Ilfov",
            "Bucuresti",
            "Dolj",
            "Gorj",
            "Mehedinti",
            "Olt",
            "Valcea",
            "Arad",
            "Caras-Severin",
            "Hunedoara",
            "Timis"
           ],
           "yaxis": "y"
          }
         ],
         "name": "2004"
        },
        {
         "data": [
          {
           "alignmentgroup": "True",
           "hovertemplate": "Year=2005<br>Value=%{x}<br>Region=%{y}<extra></extra>",
           "legendgroup": "",
           "marker": {
            "color": "#636efa"
           },
           "name": "",
           "offsetgroup": "",
           "orientation": "h",
           "showlegend": false,
           "textposition": "auto",
           "type": "bar",
           "x": [
            193.4,
            192.7,
            155.6,
            263.3,
            68.0,
            95.2,
            206.1,
            190.2,
            161.4,
            237.4,
            208.5,
            186.8,
            271.3,
            56.1,
            97.7,
            261.3,
            435.0,
            71.9,
            27.2,
            158.3,
            39.9,
            36.9,
            103.8,
            184.5,
            276.9,
            21.3,
            118.4,
            38.1,
            26.0,
            147.7,
            28.7,
            26.0,
            0.6,
            85.7,
            247.3,
            146.9,
            53.0,
            268.8,
            200.8,
            389.1,
            309.9,
            102.9
           ],
           "xaxis": "x",
           "y": [
            "Bihor",
            "Bistrita-Nasaud",
            "Cluj",
            "Maramures",
            "Satu Mare",
            "Salaj",
            "Alba",
            "Brasov",
            "Covasna",
            "Harghita",
            "Mures",
            "Sibiu",
            "Bacau",
            "Botosani",
            "Iasi",
            "Neamt",
            "Suceava",
            "Vaslui",
            "Braila",
            "Buzau",
            "Constanta",
            "Galati",
            "Tulcea",
            "Vrancea",
            "Arges",
            "Calarasi",
            "Dambovita",
            "Giurgiu",
            "Ialomita",
            "Prahova",
            "Teleorman",
            "Ilfov",
            "Bucuresti",
            "Dolj",
            "Gorj",
            "Mehedinti",
            "Olt",
            "Valcea",
            "Arad",
            "Caras-Severin",
            "Hunedoara",
            "Timis"
           ],
           "yaxis": "y"
          }
         ],
         "name": "2005"
        },
        {
         "data": [
          {
           "alignmentgroup": "True",
           "hovertemplate": "Year=2006<br>Value=%{x}<br>Region=%{y}<extra></extra>",
           "legendgroup": "",
           "marker": {
            "color": "#636efa"
           },
           "name": "",
           "offsetgroup": "",
           "orientation": "h",
           "showlegend": false,
           "textposition": "auto",
           "type": "bar",
           "x": [
            200.3,
            191.8,
            145.7,
            260.0,
            70.2,
            95.9,
            206.3,
            197.7,
            162.4,
            265.4,
            208.5,
            186.5,
            267.9,
            56.3,
            97.5,
            258.5,
            435.0,
            73.9,
            27.1,
            152.0,
            39.0,
            36.3,
            104.2,
            184.2,
            276.9,
            21.9,
            119.0,
            38.0,
            26.2,
            147.3,
            29.7,
            26.0,
            0.6,
            86.4,
            248.1,
            146.9,
            52.9,
            267.0,
            200.8,
            403.4,
            310.9,
            103.1
           ],
           "xaxis": "x",
           "y": [
            "Bihor",
            "Bistrita-Nasaud",
            "Cluj",
            "Maramures",
            "Satu Mare",
            "Salaj",
            "Alba",
            "Brasov",
            "Covasna",
            "Harghita",
            "Mures",
            "Sibiu",
            "Bacau",
            "Botosani",
            "Iasi",
            "Neamt",
            "Suceava",
            "Vaslui",
            "Braila",
            "Buzau",
            "Constanta",
            "Galati",
            "Tulcea",
            "Vrancea",
            "Arges",
            "Calarasi",
            "Dambovita",
            "Giurgiu",
            "Ialomita",
            "Prahova",
            "Teleorman",
            "Ilfov",
            "Bucuresti",
            "Dolj",
            "Gorj",
            "Mehedinti",
            "Olt",
            "Valcea",
            "Arad",
            "Caras-Severin",
            "Hunedoara",
            "Timis"
           ],
           "yaxis": "y"
          }
         ],
         "name": "2006"
        },
        {
         "data": [
          {
           "alignmentgroup": "True",
           "hovertemplate": "Year=2007<br>Value=%{x}<br>Region=%{y}<extra></extra>",
           "legendgroup": "",
           "marker": {
            "color": "#636efa"
           },
           "name": "",
           "offsetgroup": "",
           "orientation": "h",
           "showlegend": false,
           "textposition": "auto",
           "type": "bar",
           "x": [
            206.7,
            192.1,
            147.5,
            255.3,
            70.2,
            95.9,
            206.8,
            202.9,
            175.1,
            272.8,
            208.5,
            198.4,
            268.8,
            56.4,
            97.4,
            258.4,
            435.0,
            72.4,
            26.9,
            159.5,
            39.0,
            37.1,
            104.2,
            185.2,
            277.5,
            21.9,
            118.3,
            38.1,
            26.1,
            146.5,
            28.9,
            25.9,
            0.6,
            86.2,
            249.8,
            147.8,
            53.7,
            267.4,
            204.4,
            403.6,
            310.9,
            104.5
           ],
           "xaxis": "x",
           "y": [
            "Bihor",
            "Bistrita-Nasaud",
            "Cluj",
            "Maramures",
            "Satu Mare",
            "Salaj",
            "Alba",
            "Brasov",
            "Covasna",
            "Harghita",
            "Mures",
            "Sibiu",
            "Bacau",
            "Botosani",
            "Iasi",
            "Neamt",
            "Suceava",
            "Vaslui",
            "Braila",
            "Buzau",
            "Constanta",
            "Galati",
            "Tulcea",
            "Vrancea",
            "Arges",
            "Calarasi",
            "Dambovita",
            "Giurgiu",
            "Ialomita",
            "Prahova",
            "Teleorman",
            "Ilfov",
            "Bucuresti",
            "Dolj",
            "Gorj",
            "Mehedinti",
            "Olt",
            "Valcea",
            "Arad",
            "Caras-Severin",
            "Hunedoara",
            "Timis"
           ],
           "yaxis": "y"
          }
         ],
         "name": "2007"
        },
        {
         "data": [
          {
           "alignmentgroup": "True",
           "hovertemplate": "Year=2008<br>Value=%{x}<br>Region=%{y}<extra></extra>",
           "legendgroup": "",
           "marker": {
            "color": "#636efa"
           },
           "name": "",
           "offsetgroup": "",
           "orientation": "h",
           "showlegend": false,
           "textposition": "auto",
           "type": "bar",
           "x": [
            208.1,
            190.9,
            149.8,
            260.0,
            72.5,
            95.9,
            206.9,
            202.9,
            162.6,
            264.8,
            225.2,
            190.0,
            268.8,
            56.4,
            97.8,
            259.0,
            435.2,
            64.0,
            24.9,
            159.6,
            39.0,
            37.7,
            104.2,
            181.7,
            276.8,
            21.9,
            118.6,
            38.2,
            26.1,
            146.7,
            28.9,
            25.9,
            0.6,
            86.5,
            247.8,
            148.0,
            54.4,
            267.4,
            205.1,
            403.0,
            311.0,
            105.1
           ],
           "xaxis": "x",
           "y": [
            "Bihor",
            "Bistrita-Nasaud",
            "Cluj",
            "Maramures",
            "Satu Mare",
            "Salaj",
            "Alba",
            "Brasov",
            "Covasna",
            "Harghita",
            "Mures",
            "Sibiu",
            "Bacau",
            "Botosani",
            "Iasi",
            "Neamt",
            "Suceava",
            "Vaslui",
            "Braila",
            "Buzau",
            "Constanta",
            "Galati",
            "Tulcea",
            "Vrancea",
            "Arges",
            "Calarasi",
            "Dambovita",
            "Giurgiu",
            "Ialomita",
            "Prahova",
            "Teleorman",
            "Ilfov",
            "Bucuresti",
            "Dolj",
            "Gorj",
            "Mehedinti",
            "Olt",
            "Valcea",
            "Arad",
            "Caras-Severin",
            "Hunedoara",
            "Timis"
           ],
           "yaxis": "y"
          }
         ],
         "name": "2008"
        },
        {
         "data": [
          {
           "alignmentgroup": "True",
           "hovertemplate": "Year=2009<br>Value=%{x}<br>Region=%{y}<extra></extra>",
           "legendgroup": "",
           "marker": {
            "color": "#636efa"
           },
           "name": "",
           "offsetgroup": "",
           "orientation": "h",
           "showlegend": false,
           "textposition": "auto",
           "type": "bar",
           "x": [
            209.2,
            192.3,
            149.5,
            259.8,
            72.6,
            95.9,
            206.4,
            204.3,
            168.7,
            264.1,
            219.4,
            194.4,
            269.1,
            56.4,
            97.6,
            258.9,
            435.3,
            72.5,
            27.3,
            158.2,
            38.9,
            37.7,
            104.5,
            185.2,
            276.8,
            22.0,
            117.9,
            38.9,
            26.0,
            146.5,
            28.9,
            25.7,
            0.6,
            86.4,
            247.8,
            148.0,
            53.6,
            270.3,
            207.7,
            403.3,
            311.6,
            104.5
           ],
           "xaxis": "x",
           "y": [
            "Bihor",
            "Bistrita-Nasaud",
            "Cluj",
            "Maramures",
            "Satu Mare",
            "Salaj",
            "Alba",
            "Brasov",
            "Covasna",
            "Harghita",
            "Mures",
            "Sibiu",
            "Bacau",
            "Botosani",
            "Iasi",
            "Neamt",
            "Suceava",
            "Vaslui",
            "Braila",
            "Buzau",
            "Constanta",
            "Galati",
            "Tulcea",
            "Vrancea",
            "Arges",
            "Calarasi",
            "Dambovita",
            "Giurgiu",
            "Ialomita",
            "Prahova",
            "Teleorman",
            "Ilfov",
            "Bucuresti",
            "Dolj",
            "Gorj",
            "Mehedinti",
            "Olt",
            "Valcea",
            "Arad",
            "Caras-Severin",
            "Hunedoara",
            "Timis"
           ],
           "yaxis": "y"
          }
         ],
         "name": "2009"
        },
        {
         "data": [
          {
           "alignmentgroup": "True",
           "hovertemplate": "Year=2010<br>Value=%{x}<br>Region=%{y}<extra></extra>",
           "legendgroup": "",
           "marker": {
            "color": "#636efa"
           },
           "name": "",
           "offsetgroup": "",
           "orientation": "h",
           "showlegend": false,
           "textposition": "auto",
           "type": "bar",
           "x": [
            209.2,
            192.4,
            157.7,
            258.9,
            72.5,
            95.9,
            206.3,
            204.3,
            167.2,
            262.3,
            219.6,
            195.9,
            269.9,
            56.4,
            97.6,
            259.0,
            435.3,
            72.5,
            27.2,
            158.5,
            39.0,
            37.7,
            104.6,
            185.2,
            277.0,
            21.9,
            119.2,
            37.8,
            26.0,
            147.3,
            29.9,
            25.8,
            0.6,
            86.5,
            248.0,
            148.0,
            53.6,
            270.4,
            210.4,
            409.7,
            313.1,
            104.8
           ],
           "xaxis": "x",
           "y": [
            "Bihor",
            "Bistrita-Nasaud",
            "Cluj",
            "Maramures",
            "Satu Mare",
            "Salaj",
            "Alba",
            "Brasov",
            "Covasna",
            "Harghita",
            "Mures",
            "Sibiu",
            "Bacau",
            "Botosani",
            "Iasi",
            "Neamt",
            "Suceava",
            "Vaslui",
            "Braila",
            "Buzau",
            "Constanta",
            "Galati",
            "Tulcea",
            "Vrancea",
            "Arges",
            "Calarasi",
            "Dambovita",
            "Giurgiu",
            "Ialomita",
            "Prahova",
            "Teleorman",
            "Ilfov",
            "Bucuresti",
            "Dolj",
            "Gorj",
            "Mehedinti",
            "Olt",
            "Valcea",
            "Arad",
            "Caras-Severin",
            "Hunedoara",
            "Timis"
           ],
           "yaxis": "y"
          }
         ],
         "name": "2010"
        },
        {
         "data": [
          {
           "alignmentgroup": "True",
           "hovertemplate": "Year=2011<br>Value=%{x}<br>Region=%{y}<extra></extra>",
           "legendgroup": "",
           "marker": {
            "color": "#636efa"
           },
           "name": "",
           "offsetgroup": "",
           "orientation": "h",
           "showlegend": false,
           "textposition": "auto",
           "type": "bar",
           "x": [
            209.2,
            192.3,
            159.9,
            258.6,
            72.6,
            95.9,
            206.6,
            204.4,
            170.2,
            262.4,
            219.7,
            196.3,
            270.2,
            56.4,
            97.7,
            259.0,
            436.1,
            72.6,
            27.2,
            159.6,
            39.0,
            37.6,
            104.6,
            180.7,
            276.8,
            21.9,
            119.6,
            38.1,
            26.1,
            147.3,
            28.8,
            25.8,
            0.6,
            86.9,
            248.1,
            148.1,
            54.0,
            270.4,
            211.5,
            410.4,
            313.7,
            104.9
           ],
           "xaxis": "x",
           "y": [
            "Bihor",
            "Bistrita-Nasaud",
            "Cluj",
            "Maramures",
            "Satu Mare",
            "Salaj",
            "Alba",
            "Brasov",
            "Covasna",
            "Harghita",
            "Mures",
            "Sibiu",
            "Bacau",
            "Botosani",
            "Iasi",
            "Neamt",
            "Suceava",
            "Vaslui",
            "Braila",
            "Buzau",
            "Constanta",
            "Galati",
            "Tulcea",
            "Vrancea",
            "Arges",
            "Calarasi",
            "Dambovita",
            "Giurgiu",
            "Ialomita",
            "Prahova",
            "Teleorman",
            "Ilfov",
            "Bucuresti",
            "Dolj",
            "Gorj",
            "Mehedinti",
            "Olt",
            "Valcea",
            "Arad",
            "Caras-Severin",
            "Hunedoara",
            "Timis"
           ],
           "yaxis": "y"
          }
         ],
         "name": "2011"
        },
        {
         "data": [
          {
           "alignmentgroup": "True",
           "hovertemplate": "Year=2012<br>Value=%{x}<br>Region=%{y}<extra></extra>",
           "legendgroup": "",
           "marker": {
            "color": "#636efa"
           },
           "name": "",
           "offsetgroup": "",
           "orientation": "h",
           "showlegend": false,
           "textposition": "auto",
           "type": "bar",
           "x": [
            209.2,
            192.4,
            160.7,
            259.0,
            72.6,
            95.8,
            206.1,
            204.7,
            170.2,
            262.4,
            219.8,
            196.7,
            270.2,
            56.4,
            97.6,
            259.3,
            436.4,
            72.5,
            27.9,
            160.8,
            38.9,
            37.7,
            104.6,
            181.5,
            276.8,
            22.1,
            119.2,
            38.8,
            26.3,
            146.5,
            29.0,
            25.8,
            0.6,
            86.9,
            248.1,
            148.5,
            54.0,
            271.0,
            211.5,
            410.9,
            314.5,
            105.2
           ],
           "xaxis": "x",
           "y": [
            "Bihor",
            "Bistrita-Nasaud",
            "Cluj",
            "Maramures",
            "Satu Mare",
            "Salaj",
            "Alba",
            "Brasov",
            "Covasna",
            "Harghita",
            "Mures",
            "Sibiu",
            "Bacau",
            "Botosani",
            "Iasi",
            "Neamt",
            "Suceava",
            "Vaslui",
            "Braila",
            "Buzau",
            "Constanta",
            "Galati",
            "Tulcea",
            "Vrancea",
            "Arges",
            "Calarasi",
            "Dambovita",
            "Giurgiu",
            "Ialomita",
            "Prahova",
            "Teleorman",
            "Ilfov",
            "Bucuresti",
            "Dolj",
            "Gorj",
            "Mehedinti",
            "Olt",
            "Valcea",
            "Arad",
            "Caras-Severin",
            "Hunedoara",
            "Timis"
           ],
           "yaxis": "y"
          }
         ],
         "name": "2012"
        },
        {
         "data": [
          {
           "alignmentgroup": "True",
           "hovertemplate": "Year=2013<br>Value=%{x}<br>Region=%{y}<extra></extra>",
           "legendgroup": "",
           "marker": {
            "color": "#636efa"
           },
           "name": "",
           "offsetgroup": "",
           "orientation": "h",
           "showlegend": false,
           "textposition": "auto",
           "type": "bar",
           "x": [
            209.2,
            192.5,
            161.3,
            259.1,
            72.6,
            95.9,
            206.2,
            205.0,
            171.3,
            264.1,
            219.7,
            197.7,
            270.2,
            56.5,
            97.7,
            259.2,
            436.7,
            72.2,
            27.9,
            160.4,
            38.9,
            37.1,
            104.6,
            179.2,
            276.8,
            22.1,
            119.2,
            38.8,
            26.2,
            146.5,
            28.9,
            26.0,
            0.6,
            88.8,
            248.1,
            148.5,
            54.1,
            271.0,
            211.5,
            415.7,
            315.2,
            105.3
           ],
           "xaxis": "x",
           "y": [
            "Bihor",
            "Bistrita-Nasaud",
            "Cluj",
            "Maramures",
            "Satu Mare",
            "Salaj",
            "Alba",
            "Brasov",
            "Covasna",
            "Harghita",
            "Mures",
            "Sibiu",
            "Bacau",
            "Botosani",
            "Iasi",
            "Neamt",
            "Suceava",
            "Vaslui",
            "Braila",
            "Buzau",
            "Constanta",
            "Galati",
            "Tulcea",
            "Vrancea",
            "Arges",
            "Calarasi",
            "Dambovita",
            "Giurgiu",
            "Ialomita",
            "Prahova",
            "Teleorman",
            "Ilfov",
            "Bucuresti",
            "Dolj",
            "Gorj",
            "Mehedinti",
            "Olt",
            "Valcea",
            "Arad",
            "Caras-Severin",
            "Hunedoara",
            "Timis"
           ],
           "yaxis": "y"
          }
         ],
         "name": "2013"
        },
        {
         "data": [
          {
           "alignmentgroup": "True",
           "hovertemplate": "Year=2014<br>Value=%{x}<br>Region=%{y}<extra></extra>",
           "legendgroup": "",
           "marker": {
            "color": "#636efa"
           },
           "name": "",
           "offsetgroup": "",
           "orientation": "h",
           "showlegend": false,
           "textposition": "auto",
           "type": "bar",
           "x": [
            209.3,
            192.5,
            161.3,
            259.3,
            72.6,
            95.9,
            206.5,
            205.0,
            171.3,
            264.1,
            219.8,
            198.5,
            270.2,
            56.8,
            97.6,
            260.1,
            437.1,
            72.3,
            27.9,
            160.1,
            39.0,
            37.2,
            104.8,
            179.3,
            276.8,
            22.0,
            119.2,
            38.8,
            26.2,
            146.5,
            29.1,
            26.0,
            0.6,
            88.9,
            248.4,
            148.5,
            54.1,
            271.4,
            211.5,
            416.2,
            316.6,
            105.3
           ],
           "xaxis": "x",
           "y": [
            "Bihor",
            "Bistrita-Nasaud",
            "Cluj",
            "Maramures",
            "Satu Mare",
            "Salaj",
            "Alba",
            "Brasov",
            "Covasna",
            "Harghita",
            "Mures",
            "Sibiu",
            "Bacau",
            "Botosani",
            "Iasi",
            "Neamt",
            "Suceava",
            "Vaslui",
            "Braila",
            "Buzau",
            "Constanta",
            "Galati",
            "Tulcea",
            "Vrancea",
            "Arges",
            "Calarasi",
            "Dambovita",
            "Giurgiu",
            "Ialomita",
            "Prahova",
            "Teleorman",
            "Ilfov",
            "Bucuresti",
            "Dolj",
            "Gorj",
            "Mehedinti",
            "Olt",
            "Valcea",
            "Arad",
            "Caras-Severin",
            "Hunedoara",
            "Timis"
           ],
           "yaxis": "y"
          }
         ],
         "name": "2014"
        },
        {
         "data": [
          {
           "alignmentgroup": "True",
           "hovertemplate": "Year=2015<br>Value=%{x}<br>Region=%{y}<extra></extra>",
           "legendgroup": "",
           "marker": {
            "color": "#636efa"
           },
           "name": "",
           "offsetgroup": "",
           "orientation": "h",
           "showlegend": false,
           "textposition": "auto",
           "type": "bar",
           "x": [
            209.3,
            192.5,
            162.7,
            259.6,
            72.6,
            95.9,
            203.7,
            205.2,
            171.4,
            264.1,
            220.1,
            198.9,
            269.9,
            57.0,
            97.8,
            261.8,
            437.5,
            72.4,
            28.0,
            160.2,
            39.1,
            37.2,
            104.9,
            181.2,
            276.8,
            22.0,
            119.2,
            38.9,
            26.2,
            146.5,
            29.0,
            26.0,
            0.6,
            89.0,
            249.2,
            149.1,
            54.1,
            271.4,
            211.5,
            420.4,
            317.0,
            105.2
           ],
           "xaxis": "x",
           "y": [
            "Bihor",
            "Bistrita-Nasaud",
            "Cluj",
            "Maramures",
            "Satu Mare",
            "Salaj",
            "Alba",
            "Brasov",
            "Covasna",
            "Harghita",
            "Mures",
            "Sibiu",
            "Bacau",
            "Botosani",
            "Iasi",
            "Neamt",
            "Suceava",
            "Vaslui",
            "Braila",
            "Buzau",
            "Constanta",
            "Galati",
            "Tulcea",
            "Vrancea",
            "Arges",
            "Calarasi",
            "Dambovita",
            "Giurgiu",
            "Ialomita",
            "Prahova",
            "Teleorman",
            "Ilfov",
            "Bucuresti",
            "Dolj",
            "Gorj",
            "Mehedinti",
            "Olt",
            "Valcea",
            "Arad",
            "Caras-Severin",
            "Hunedoara",
            "Timis"
           ],
           "yaxis": "y"
          }
         ],
         "name": "2015"
        },
        {
         "data": [
          {
           "alignmentgroup": "True",
           "hovertemplate": "Year=2016<br>Value=%{x}<br>Region=%{y}<extra></extra>",
           "legendgroup": "",
           "marker": {
            "color": "#636efa"
           },
           "name": "",
           "offsetgroup": "",
           "orientation": "h",
           "showlegend": false,
           "textposition": "auto",
           "type": "bar",
           "x": [
            209.3,
            192.5,
            164.1,
            259.6,
            72.5,
            95.9,
            203.9,
            205.2,
            171.5,
            264.1,
            220.1,
            198.9,
            270.2,
            57.0,
            97.8,
            262.0,
            437.8,
            72.6,
            28.0,
            160.5,
            39.2,
            37.2,
            105.0,
            181.1,
            276.8,
            22.0,
            119.2,
            38.9,
            26.2,
            146.6,
            29.0,
            26.0,
            0.6,
            89.0,
            249.3,
            149.1,
            54.1,
            271.4,
            211.5,
            421.0,
            317.1,
            105.2
           ],
           "xaxis": "x",
           "y": [
            "Bihor",
            "Bistrita-Nasaud",
            "Cluj",
            "Maramures",
            "Satu Mare",
            "Salaj",
            "Alba",
            "Brasov",
            "Covasna",
            "Harghita",
            "Mures",
            "Sibiu",
            "Bacau",
            "Botosani",
            "Iasi",
            "Neamt",
            "Suceava",
            "Vaslui",
            "Braila",
            "Buzau",
            "Constanta",
            "Galati",
            "Tulcea",
            "Vrancea",
            "Arges",
            "Calarasi",
            "Dambovita",
            "Giurgiu",
            "Ialomita",
            "Prahova",
            "Teleorman",
            "Ilfov",
            "Bucuresti",
            "Dolj",
            "Gorj",
            "Mehedinti",
            "Olt",
            "Valcea",
            "Arad",
            "Caras-Severin",
            "Hunedoara",
            "Timis"
           ],
           "yaxis": "y"
          }
         ],
         "name": "2016"
        },
        {
         "data": [
          {
           "alignmentgroup": "True",
           "hovertemplate": "Year=2017<br>Value=%{x}<br>Region=%{y}<extra></extra>",
           "legendgroup": "",
           "marker": {
            "color": "#636efa"
           },
           "name": "",
           "offsetgroup": "",
           "orientation": "h",
           "showlegend": false,
           "textposition": "auto",
           "type": "bar",
           "x": [
            209.4,
            192.4,
            164.6,
            259.8,
            72.5,
            95.9,
            204.3,
            205.1,
            171.4,
            264.1,
            220.1,
            200.1,
            270.4,
            57.0,
            97.9,
            262.2,
            437.8,
            72.8,
            28.1,
            160.5,
            39.4,
            37.1,
            104.9,
            181.3,
            277.3,
            22.4,
            119.2,
            38.7,
            26.1,
            146.5,
            29.1,
            26.0,
            0.6,
            88.4,
            249.7,
            149.8,
            54.1,
            271.6,
            211.5,
            421.3,
            317.5,
            106.0
           ],
           "xaxis": "x",
           "y": [
            "Bihor",
            "Bistrita-Nasaud",
            "Cluj",
            "Maramures",
            "Satu Mare",
            "Salaj",
            "Alba",
            "Brasov",
            "Covasna",
            "Harghita",
            "Mures",
            "Sibiu",
            "Bacau",
            "Botosani",
            "Iasi",
            "Neamt",
            "Suceava",
            "Vaslui",
            "Braila",
            "Buzau",
            "Constanta",
            "Galati",
            "Tulcea",
            "Vrancea",
            "Arges",
            "Calarasi",
            "Dambovita",
            "Giurgiu",
            "Ialomita",
            "Prahova",
            "Teleorman",
            "Ilfov",
            "Bucuresti",
            "Dolj",
            "Gorj",
            "Mehedinti",
            "Olt",
            "Valcea",
            "Arad",
            "Caras-Severin",
            "Hunedoara",
            "Timis"
           ],
           "yaxis": "y"
          }
         ],
         "name": "2017"
        },
        {
         "data": [
          {
           "alignmentgroup": "True",
           "hovertemplate": "Year=2018<br>Value=%{x}<br>Region=%{y}<extra></extra>",
           "legendgroup": "",
           "marker": {
            "color": "#636efa"
           },
           "name": "",
           "offsetgroup": "",
           "orientation": "h",
           "showlegend": false,
           "textposition": "auto",
           "type": "bar",
           "x": [
            211.2,
            192.6,
            168.1,
            260.0,
            72.6,
            95.9,
            206.8,
            205.2,
            171.4,
            264.1,
            220.0,
            201.6,
            271.7,
            57.0,
            98.0,
            262.4,
            437.8,
            73.0,
            28.1,
            160.8,
            39.4,
            37.2,
            105.0,
            181.3,
            276.7,
            22.3,
            119.2,
            38.8,
            26.1,
            146.5,
            29.0,
            26.0,
            0.6,
            88.5,
            249.7,
            149.9,
            54.1,
            271.7,
            211.7,
            427.7,
            317.5,
            105.9
           ],
           "xaxis": "x",
           "y": [
            "Bihor",
            "Bistrita-Nasaud",
            "Cluj",
            "Maramures",
            "Satu Mare",
            "Salaj",
            "Alba",
            "Brasov",
            "Covasna",
            "Harghita",
            "Mures",
            "Sibiu",
            "Bacau",
            "Botosani",
            "Iasi",
            "Neamt",
            "Suceava",
            "Vaslui",
            "Braila",
            "Buzau",
            "Constanta",
            "Galati",
            "Tulcea",
            "Vrancea",
            "Arges",
            "Calarasi",
            "Dambovita",
            "Giurgiu",
            "Ialomita",
            "Prahova",
            "Teleorman",
            "Ilfov",
            "Bucuresti",
            "Dolj",
            "Gorj",
            "Mehedinti",
            "Olt",
            "Valcea",
            "Arad",
            "Caras-Severin",
            "Hunedoara",
            "Timis"
           ],
           "yaxis": "y"
          }
         ],
         "name": "2018"
        },
        {
         "data": [
          {
           "alignmentgroup": "True",
           "hovertemplate": "Year=2019<br>Value=%{x}<br>Region=%{y}<extra></extra>",
           "legendgroup": "",
           "marker": {
            "color": "#636efa"
           },
           "name": "",
           "offsetgroup": "",
           "orientation": "h",
           "showlegend": false,
           "textposition": "auto",
           "type": "bar",
           "x": [
            211.2,
            192.6,
            169.6,
            260.0,
            72.6,
            95.9,
            206.9,
            205.2,
            171.4,
            264.1,
            220.7,
            201.9,
            272.2,
            57.0,
            98.0,
            262.5,
            437.9,
            72.7,
            28.1,
            160.8,
            39.5,
            37.1,
            105.0,
            183.0,
            276.6,
            22.3,
            119.0,
            38.9,
            26.1,
            146.5,
            29.3,
            26.1,
            0.6,
            88.5,
            249.5,
            149.4,
            54.1,
            272.3,
            211.7,
            430.8,
            317.5,
            107.1
           ],
           "xaxis": "x",
           "y": [
            "Bihor",
            "Bistrita-Nasaud",
            "Cluj",
            "Maramures",
            "Satu Mare",
            "Salaj",
            "Alba",
            "Brasov",
            "Covasna",
            "Harghita",
            "Mures",
            "Sibiu",
            "Bacau",
            "Botosani",
            "Iasi",
            "Neamt",
            "Suceava",
            "Vaslui",
            "Braila",
            "Buzau",
            "Constanta",
            "Galati",
            "Tulcea",
            "Vrancea",
            "Arges",
            "Calarasi",
            "Dambovita",
            "Giurgiu",
            "Ialomita",
            "Prahova",
            "Teleorman",
            "Ilfov",
            "Bucuresti",
            "Dolj",
            "Gorj",
            "Mehedinti",
            "Olt",
            "Valcea",
            "Arad",
            "Caras-Severin",
            "Hunedoara",
            "Timis"
           ],
           "yaxis": "y"
          }
         ],
         "name": "2019"
        }
       ],
       "layout": {
        "barmode": "relative",
        "font": {
         "color": "#7f7f7f",
         "family": "Courier New, monospace",
         "size": 10
        },
        "height": 800,
        "legend": {
         "tracegroupgap": 0
        },
        "sliders": [
         {
          "active": 0,
          "currentvalue": {
           "prefix": "Year="
          },
          "len": 0.9,
          "pad": {
           "b": 10,
           "t": 60
          },
          "steps": [
           {
            "args": [
             [
              "1990"
             ],
             {
              "frame": {
               "duration": 0,
               "redraw": true
              },
              "fromcurrent": true,
              "mode": "immediate",
              "transition": {
               "duration": 0,
               "easing": "linear"
              }
             }
            ],
            "label": "1990",
            "method": "animate"
           },
           {
            "args": [
             [
              "1991"
             ],
             {
              "frame": {
               "duration": 0,
               "redraw": true
              },
              "fromcurrent": true,
              "mode": "immediate",
              "transition": {
               "duration": 0,
               "easing": "linear"
              }
             }
            ],
            "label": "1991",
            "method": "animate"
           },
           {
            "args": [
             [
              "1992"
             ],
             {
              "frame": {
               "duration": 0,
               "redraw": true
              },
              "fromcurrent": true,
              "mode": "immediate",
              "transition": {
               "duration": 0,
               "easing": "linear"
              }
             }
            ],
            "label": "1992",
            "method": "animate"
           },
           {
            "args": [
             [
              "1993"
             ],
             {
              "frame": {
               "duration": 0,
               "redraw": true
              },
              "fromcurrent": true,
              "mode": "immediate",
              "transition": {
               "duration": 0,
               "easing": "linear"
              }
             }
            ],
            "label": "1993",
            "method": "animate"
           },
           {
            "args": [
             [
              "1994"
             ],
             {
              "frame": {
               "duration": 0,
               "redraw": true
              },
              "fromcurrent": true,
              "mode": "immediate",
              "transition": {
               "duration": 0,
               "easing": "linear"
              }
             }
            ],
            "label": "1994",
            "method": "animate"
           },
           {
            "args": [
             [
              "1995"
             ],
             {
              "frame": {
               "duration": 0,
               "redraw": true
              },
              "fromcurrent": true,
              "mode": "immediate",
              "transition": {
               "duration": 0,
               "easing": "linear"
              }
             }
            ],
            "label": "1995",
            "method": "animate"
           },
           {
            "args": [
             [
              "1996"
             ],
             {
              "frame": {
               "duration": 0,
               "redraw": true
              },
              "fromcurrent": true,
              "mode": "immediate",
              "transition": {
               "duration": 0,
               "easing": "linear"
              }
             }
            ],
            "label": "1996",
            "method": "animate"
           },
           {
            "args": [
             [
              "1997"
             ],
             {
              "frame": {
               "duration": 0,
               "redraw": true
              },
              "fromcurrent": true,
              "mode": "immediate",
              "transition": {
               "duration": 0,
               "easing": "linear"
              }
             }
            ],
            "label": "1997",
            "method": "animate"
           },
           {
            "args": [
             [
              "1998"
             ],
             {
              "frame": {
               "duration": 0,
               "redraw": true
              },
              "fromcurrent": true,
              "mode": "immediate",
              "transition": {
               "duration": 0,
               "easing": "linear"
              }
             }
            ],
            "label": "1998",
            "method": "animate"
           },
           {
            "args": [
             [
              "1999"
             ],
             {
              "frame": {
               "duration": 0,
               "redraw": true
              },
              "fromcurrent": true,
              "mode": "immediate",
              "transition": {
               "duration": 0,
               "easing": "linear"
              }
             }
            ],
            "label": "1999",
            "method": "animate"
           },
           {
            "args": [
             [
              "2000"
             ],
             {
              "frame": {
               "duration": 0,
               "redraw": true
              },
              "fromcurrent": true,
              "mode": "immediate",
              "transition": {
               "duration": 0,
               "easing": "linear"
              }
             }
            ],
            "label": "2000",
            "method": "animate"
           },
           {
            "args": [
             [
              "2001"
             ],
             {
              "frame": {
               "duration": 0,
               "redraw": true
              },
              "fromcurrent": true,
              "mode": "immediate",
              "transition": {
               "duration": 0,
               "easing": "linear"
              }
             }
            ],
            "label": "2001",
            "method": "animate"
           },
           {
            "args": [
             [
              "2002"
             ],
             {
              "frame": {
               "duration": 0,
               "redraw": true
              },
              "fromcurrent": true,
              "mode": "immediate",
              "transition": {
               "duration": 0,
               "easing": "linear"
              }
             }
            ],
            "label": "2002",
            "method": "animate"
           },
           {
            "args": [
             [
              "2003"
             ],
             {
              "frame": {
               "duration": 0,
               "redraw": true
              },
              "fromcurrent": true,
              "mode": "immediate",
              "transition": {
               "duration": 0,
               "easing": "linear"
              }
             }
            ],
            "label": "2003",
            "method": "animate"
           },
           {
            "args": [
             [
              "2004"
             ],
             {
              "frame": {
               "duration": 0,
               "redraw": true
              },
              "fromcurrent": true,
              "mode": "immediate",
              "transition": {
               "duration": 0,
               "easing": "linear"
              }
             }
            ],
            "label": "2004",
            "method": "animate"
           },
           {
            "args": [
             [
              "2005"
             ],
             {
              "frame": {
               "duration": 0,
               "redraw": true
              },
              "fromcurrent": true,
              "mode": "immediate",
              "transition": {
               "duration": 0,
               "easing": "linear"
              }
             }
            ],
            "label": "2005",
            "method": "animate"
           },
           {
            "args": [
             [
              "2006"
             ],
             {
              "frame": {
               "duration": 0,
               "redraw": true
              },
              "fromcurrent": true,
              "mode": "immediate",
              "transition": {
               "duration": 0,
               "easing": "linear"
              }
             }
            ],
            "label": "2006",
            "method": "animate"
           },
           {
            "args": [
             [
              "2007"
             ],
             {
              "frame": {
               "duration": 0,
               "redraw": true
              },
              "fromcurrent": true,
              "mode": "immediate",
              "transition": {
               "duration": 0,
               "easing": "linear"
              }
             }
            ],
            "label": "2007",
            "method": "animate"
           },
           {
            "args": [
             [
              "2008"
             ],
             {
              "frame": {
               "duration": 0,
               "redraw": true
              },
              "fromcurrent": true,
              "mode": "immediate",
              "transition": {
               "duration": 0,
               "easing": "linear"
              }
             }
            ],
            "label": "2008",
            "method": "animate"
           },
           {
            "args": [
             [
              "2009"
             ],
             {
              "frame": {
               "duration": 0,
               "redraw": true
              },
              "fromcurrent": true,
              "mode": "immediate",
              "transition": {
               "duration": 0,
               "easing": "linear"
              }
             }
            ],
            "label": "2009",
            "method": "animate"
           },
           {
            "args": [
             [
              "2010"
             ],
             {
              "frame": {
               "duration": 0,
               "redraw": true
              },
              "fromcurrent": true,
              "mode": "immediate",
              "transition": {
               "duration": 0,
               "easing": "linear"
              }
             }
            ],
            "label": "2010",
            "method": "animate"
           },
           {
            "args": [
             [
              "2011"
             ],
             {
              "frame": {
               "duration": 0,
               "redraw": true
              },
              "fromcurrent": true,
              "mode": "immediate",
              "transition": {
               "duration": 0,
               "easing": "linear"
              }
             }
            ],
            "label": "2011",
            "method": "animate"
           },
           {
            "args": [
             [
              "2012"
             ],
             {
              "frame": {
               "duration": 0,
               "redraw": true
              },
              "fromcurrent": true,
              "mode": "immediate",
              "transition": {
               "duration": 0,
               "easing": "linear"
              }
             }
            ],
            "label": "2012",
            "method": "animate"
           },
           {
            "args": [
             [
              "2013"
             ],
             {
              "frame": {
               "duration": 0,
               "redraw": true
              },
              "fromcurrent": true,
              "mode": "immediate",
              "transition": {
               "duration": 0,
               "easing": "linear"
              }
             }
            ],
            "label": "2013",
            "method": "animate"
           },
           {
            "args": [
             [
              "2014"
             ],
             {
              "frame": {
               "duration": 0,
               "redraw": true
              },
              "fromcurrent": true,
              "mode": "immediate",
              "transition": {
               "duration": 0,
               "easing": "linear"
              }
             }
            ],
            "label": "2014",
            "method": "animate"
           },
           {
            "args": [
             [
              "2015"
             ],
             {
              "frame": {
               "duration": 0,
               "redraw": true
              },
              "fromcurrent": true,
              "mode": "immediate",
              "transition": {
               "duration": 0,
               "easing": "linear"
              }
             }
            ],
            "label": "2015",
            "method": "animate"
           },
           {
            "args": [
             [
              "2016"
             ],
             {
              "frame": {
               "duration": 0,
               "redraw": true
              },
              "fromcurrent": true,
              "mode": "immediate",
              "transition": {
               "duration": 0,
               "easing": "linear"
              }
             }
            ],
            "label": "2016",
            "method": "animate"
           },
           {
            "args": [
             [
              "2017"
             ],
             {
              "frame": {
               "duration": 0,
               "redraw": true
              },
              "fromcurrent": true,
              "mode": "immediate",
              "transition": {
               "duration": 0,
               "easing": "linear"
              }
             }
            ],
            "label": "2017",
            "method": "animate"
           },
           {
            "args": [
             [
              "2018"
             ],
             {
              "frame": {
               "duration": 0,
               "redraw": true
              },
              "fromcurrent": true,
              "mode": "immediate",
              "transition": {
               "duration": 0,
               "easing": "linear"
              }
             }
            ],
            "label": "2018",
            "method": "animate"
           },
           {
            "args": [
             [
              "2019"
             ],
             {
              "frame": {
               "duration": 0,
               "redraw": true
              },
              "fromcurrent": true,
              "mode": "immediate",
              "transition": {
               "duration": 0,
               "easing": "linear"
              }
             }
            ],
            "label": "2019",
            "method": "animate"
           }
          ],
          "x": 0.1,
          "xanchor": "left",
          "y": 0,
          "yanchor": "top"
         }
        ],
        "template": {
         "data": {
          "bar": [
           {
            "error_x": {
             "color": "#2a3f5f"
            },
            "error_y": {
             "color": "#2a3f5f"
            },
            "marker": {
             "line": {
              "color": "#E5ECF6",
              "width": 0.5
             }
            },
            "type": "bar"
           }
          ],
          "barpolar": [
           {
            "marker": {
             "line": {
              "color": "#E5ECF6",
              "width": 0.5
             }
            },
            "type": "barpolar"
           }
          ],
          "carpet": [
           {
            "aaxis": {
             "endlinecolor": "#2a3f5f",
             "gridcolor": "white",
             "linecolor": "white",
             "minorgridcolor": "white",
             "startlinecolor": "#2a3f5f"
            },
            "baxis": {
             "endlinecolor": "#2a3f5f",
             "gridcolor": "white",
             "linecolor": "white",
             "minorgridcolor": "white",
             "startlinecolor": "#2a3f5f"
            },
            "type": "carpet"
           }
          ],
          "choropleth": [
           {
            "colorbar": {
             "outlinewidth": 0,
             "ticks": ""
            },
            "type": "choropleth"
           }
          ],
          "contour": [
           {
            "colorbar": {
             "outlinewidth": 0,
             "ticks": ""
            },
            "colorscale": [
             [
              0.0,
              "#0d0887"
             ],
             [
              0.1111111111111111,
              "#46039f"
             ],
             [
              0.2222222222222222,
              "#7201a8"
             ],
             [
              0.3333333333333333,
              "#9c179e"
             ],
             [
              0.4444444444444444,
              "#bd3786"
             ],
             [
              0.5555555555555556,
              "#d8576b"
             ],
             [
              0.6666666666666666,
              "#ed7953"
             ],
             [
              0.7777777777777778,
              "#fb9f3a"
             ],
             [
              0.8888888888888888,
              "#fdca26"
             ],
             [
              1.0,
              "#f0f921"
             ]
            ],
            "type": "contour"
           }
          ],
          "contourcarpet": [
           {
            "colorbar": {
             "outlinewidth": 0,
             "ticks": ""
            },
            "type": "contourcarpet"
           }
          ],
          "heatmap": [
           {
            "colorbar": {
             "outlinewidth": 0,
             "ticks": ""
            },
            "colorscale": [
             [
              0.0,
              "#0d0887"
             ],
             [
              0.1111111111111111,
              "#46039f"
             ],
             [
              0.2222222222222222,
              "#7201a8"
             ],
             [
              0.3333333333333333,
              "#9c179e"
             ],
             [
              0.4444444444444444,
              "#bd3786"
             ],
             [
              0.5555555555555556,
              "#d8576b"
             ],
             [
              0.6666666666666666,
              "#ed7953"
             ],
             [
              0.7777777777777778,
              "#fb9f3a"
             ],
             [
              0.8888888888888888,
              "#fdca26"
             ],
             [
              1.0,
              "#f0f921"
             ]
            ],
            "type": "heatmap"
           }
          ],
          "heatmapgl": [
           {
            "colorbar": {
             "outlinewidth": 0,
             "ticks": ""
            },
            "colorscale": [
             [
              0.0,
              "#0d0887"
             ],
             [
              0.1111111111111111,
              "#46039f"
             ],
             [
              0.2222222222222222,
              "#7201a8"
             ],
             [
              0.3333333333333333,
              "#9c179e"
             ],
             [
              0.4444444444444444,
              "#bd3786"
             ],
             [
              0.5555555555555556,
              "#d8576b"
             ],
             [
              0.6666666666666666,
              "#ed7953"
             ],
             [
              0.7777777777777778,
              "#fb9f3a"
             ],
             [
              0.8888888888888888,
              "#fdca26"
             ],
             [
              1.0,
              "#f0f921"
             ]
            ],
            "type": "heatmapgl"
           }
          ],
          "histogram": [
           {
            "marker": {
             "colorbar": {
              "outlinewidth": 0,
              "ticks": ""
             }
            },
            "type": "histogram"
           }
          ],
          "histogram2d": [
           {
            "colorbar": {
             "outlinewidth": 0,
             "ticks": ""
            },
            "colorscale": [
             [
              0.0,
              "#0d0887"
             ],
             [
              0.1111111111111111,
              "#46039f"
             ],
             [
              0.2222222222222222,
              "#7201a8"
             ],
             [
              0.3333333333333333,
              "#9c179e"
             ],
             [
              0.4444444444444444,
              "#bd3786"
             ],
             [
              0.5555555555555556,
              "#d8576b"
             ],
             [
              0.6666666666666666,
              "#ed7953"
             ],
             [
              0.7777777777777778,
              "#fb9f3a"
             ],
             [
              0.8888888888888888,
              "#fdca26"
             ],
             [
              1.0,
              "#f0f921"
             ]
            ],
            "type": "histogram2d"
           }
          ],
          "histogram2dcontour": [
           {
            "colorbar": {
             "outlinewidth": 0,
             "ticks": ""
            },
            "colorscale": [
             [
              0.0,
              "#0d0887"
             ],
             [
              0.1111111111111111,
              "#46039f"
             ],
             [
              0.2222222222222222,
              "#7201a8"
             ],
             [
              0.3333333333333333,
              "#9c179e"
             ],
             [
              0.4444444444444444,
              "#bd3786"
             ],
             [
              0.5555555555555556,
              "#d8576b"
             ],
             [
              0.6666666666666666,
              "#ed7953"
             ],
             [
              0.7777777777777778,
              "#fb9f3a"
             ],
             [
              0.8888888888888888,
              "#fdca26"
             ],
             [
              1.0,
              "#f0f921"
             ]
            ],
            "type": "histogram2dcontour"
           }
          ],
          "mesh3d": [
           {
            "colorbar": {
             "outlinewidth": 0,
             "ticks": ""
            },
            "type": "mesh3d"
           }
          ],
          "parcoords": [
           {
            "line": {
             "colorbar": {
              "outlinewidth": 0,
              "ticks": ""
             }
            },
            "type": "parcoords"
           }
          ],
          "pie": [
           {
            "automargin": true,
            "type": "pie"
           }
          ],
          "scatter": [
           {
            "marker": {
             "colorbar": {
              "outlinewidth": 0,
              "ticks": ""
             }
            },
            "type": "scatter"
           }
          ],
          "scatter3d": [
           {
            "line": {
             "colorbar": {
              "outlinewidth": 0,
              "ticks": ""
             }
            },
            "marker": {
             "colorbar": {
              "outlinewidth": 0,
              "ticks": ""
             }
            },
            "type": "scatter3d"
           }
          ],
          "scattercarpet": [
           {
            "marker": {
             "colorbar": {
              "outlinewidth": 0,
              "ticks": ""
             }
            },
            "type": "scattercarpet"
           }
          ],
          "scattergeo": [
           {
            "marker": {
             "colorbar": {
              "outlinewidth": 0,
              "ticks": ""
             }
            },
            "type": "scattergeo"
           }
          ],
          "scattergl": [
           {
            "marker": {
             "colorbar": {
              "outlinewidth": 0,
              "ticks": ""
             }
            },
            "type": "scattergl"
           }
          ],
          "scattermapbox": [
           {
            "marker": {
             "colorbar": {
              "outlinewidth": 0,
              "ticks": ""
             }
            },
            "type": "scattermapbox"
           }
          ],
          "scatterpolar": [
           {
            "marker": {
             "colorbar": {
              "outlinewidth": 0,
              "ticks": ""
             }
            },
            "type": "scatterpolar"
           }
          ],
          "scatterpolargl": [
           {
            "marker": {
             "colorbar": {
              "outlinewidth": 0,
              "ticks": ""
             }
            },
            "type": "scatterpolargl"
           }
          ],
          "scatterternary": [
           {
            "marker": {
             "colorbar": {
              "outlinewidth": 0,
              "ticks": ""
             }
            },
            "type": "scatterternary"
           }
          ],
          "surface": [
           {
            "colorbar": {
             "outlinewidth": 0,
             "ticks": ""
            },
            "colorscale": [
             [
              0.0,
              "#0d0887"
             ],
             [
              0.1111111111111111,
              "#46039f"
             ],
             [
              0.2222222222222222,
              "#7201a8"
             ],
             [
              0.3333333333333333,
              "#9c179e"
             ],
             [
              0.4444444444444444,
              "#bd3786"
             ],
             [
              0.5555555555555556,
              "#d8576b"
             ],
             [
              0.6666666666666666,
              "#ed7953"
             ],
             [
              0.7777777777777778,
              "#fb9f3a"
             ],
             [
              0.8888888888888888,
              "#fdca26"
             ],
             [
              1.0,
              "#f0f921"
             ]
            ],
            "type": "surface"
           }
          ],
          "table": [
           {
            "cells": {
             "fill": {
              "color": "#EBF0F8"
             },
             "line": {
              "color": "white"
             }
            },
            "header": {
             "fill": {
              "color": "#C8D4E3"
             },
             "line": {
              "color": "white"
             }
            },
            "type": "table"
           }
          ]
         },
         "layout": {
          "annotationdefaults": {
           "arrowcolor": "#2a3f5f",
           "arrowhead": 0,
           "arrowwidth": 1
          },
          "coloraxis": {
           "colorbar": {
            "outlinewidth": 0,
            "ticks": ""
           }
          },
          "colorscale": {
           "diverging": [
            [
             0,
             "#8e0152"
            ],
            [
             0.1,
             "#c51b7d"
            ],
            [
             0.2,
             "#de77ae"
            ],
            [
             0.3,
             "#f1b6da"
            ],
            [
             0.4,
             "#fde0ef"
            ],
            [
             0.5,
             "#f7f7f7"
            ],
            [
             0.6,
             "#e6f5d0"
            ],
            [
             0.7,
             "#b8e186"
            ],
            [
             0.8,
             "#7fbc41"
            ],
            [
             0.9,
             "#4d9221"
            ],
            [
             1,
             "#276419"
            ]
           ],
           "sequential": [
            [
             0.0,
             "#0d0887"
            ],
            [
             0.1111111111111111,
             "#46039f"
            ],
            [
             0.2222222222222222,
             "#7201a8"
            ],
            [
             0.3333333333333333,
             "#9c179e"
            ],
            [
             0.4444444444444444,
             "#bd3786"
            ],
            [
             0.5555555555555556,
             "#d8576b"
            ],
            [
             0.6666666666666666,
             "#ed7953"
            ],
            [
             0.7777777777777778,
             "#fb9f3a"
            ],
            [
             0.8888888888888888,
             "#fdca26"
            ],
            [
             1.0,
             "#f0f921"
            ]
           ],
           "sequentialminus": [
            [
             0.0,
             "#0d0887"
            ],
            [
             0.1111111111111111,
             "#46039f"
            ],
            [
             0.2222222222222222,
             "#7201a8"
            ],
            [
             0.3333333333333333,
             "#9c179e"
            ],
            [
             0.4444444444444444,
             "#bd3786"
            ],
            [
             0.5555555555555556,
             "#d8576b"
            ],
            [
             0.6666666666666666,
             "#ed7953"
            ],
            [
             0.7777777777777778,
             "#fb9f3a"
            ],
            [
             0.8888888888888888,
             "#fdca26"
            ],
            [
             1.0,
             "#f0f921"
            ]
           ]
          },
          "colorway": [
           "#636efa",
           "#EF553B",
           "#00cc96",
           "#ab63fa",
           "#FFA15A",
           "#19d3f3",
           "#FF6692",
           "#B6E880",
           "#FF97FF",
           "#FECB52"
          ],
          "font": {
           "color": "#2a3f5f"
          },
          "geo": {
           "bgcolor": "white",
           "lakecolor": "white",
           "landcolor": "#E5ECF6",
           "showlakes": true,
           "showland": true,
           "subunitcolor": "white"
          },
          "hoverlabel": {
           "align": "left"
          },
          "hovermode": "closest",
          "mapbox": {
           "style": "light"
          },
          "paper_bgcolor": "white",
          "plot_bgcolor": "#E5ECF6",
          "polar": {
           "angularaxis": {
            "gridcolor": "white",
            "linecolor": "white",
            "ticks": ""
           },
           "bgcolor": "#E5ECF6",
           "radialaxis": {
            "gridcolor": "white",
            "linecolor": "white",
            "ticks": ""
           }
          },
          "scene": {
           "xaxis": {
            "backgroundcolor": "#E5ECF6",
            "gridcolor": "white",
            "gridwidth": 2,
            "linecolor": "white",
            "showbackground": true,
            "ticks": "",
            "zerolinecolor": "white"
           },
           "yaxis": {
            "backgroundcolor": "#E5ECF6",
            "gridcolor": "white",
            "gridwidth": 2,
            "linecolor": "white",
            "showbackground": true,
            "ticks": "",
            "zerolinecolor": "white"
           },
           "zaxis": {
            "backgroundcolor": "#E5ECF6",
            "gridcolor": "white",
            "gridwidth": 2,
            "linecolor": "white",
            "showbackground": true,
            "ticks": "",
            "zerolinecolor": "white"
           }
          },
          "shapedefaults": {
           "line": {
            "color": "#2a3f5f"
           }
          },
          "ternary": {
           "aaxis": {
            "gridcolor": "white",
            "linecolor": "white",
            "ticks": ""
           },
           "baxis": {
            "gridcolor": "white",
            "linecolor": "white",
            "ticks": ""
           },
           "bgcolor": "#E5ECF6",
           "caxis": {
            "gridcolor": "white",
            "linecolor": "white",
            "ticks": ""
           }
          },
          "title": {
           "x": 0.05
          },
          "xaxis": {
           "automargin": true,
           "gridcolor": "white",
           "linecolor": "white",
           "ticks": "",
           "title": {
            "standoff": 15
           },
           "zerolinecolor": "white",
           "zerolinewidth": 2
          },
          "yaxis": {
           "automargin": true,
           "gridcolor": "white",
           "linecolor": "white",
           "ticks": "",
           "title": {
            "standoff": 15
           },
           "zerolinecolor": "white",
           "zerolinewidth": 2
          }
         }
        },
        "title": {
         "text": "Surface evolution/county 1990-2019 - Total"
        },
        "updatemenus": [
         {
          "buttons": [
           {
            "args": [
             null,
             {
              "frame": {
               "duration": 500,
               "redraw": true
              },
              "fromcurrent": true,
              "mode": "immediate",
              "transition": {
               "duration": 500,
               "easing": "linear"
              }
             }
            ],
            "label": "&#9654;",
            "method": "animate"
           },
           {
            "args": [
             [
              null
             ],
             {
              "frame": {
               "duration": 0,
               "redraw": true
              },
              "fromcurrent": true,
              "mode": "immediate",
              "transition": {
               "duration": 0,
               "easing": "linear"
              }
             }
            ],
            "label": "&#9724;",
            "method": "animate"
           }
          ],
          "direction": "left",
          "pad": {
           "r": 10,
           "t": 70
          },
          "showactive": false,
          "type": "buttons",
          "x": 0.1,
          "xanchor": "right",
          "y": 0,
          "yanchor": "top"
         }
        ],
        "width": 600,
        "xaxis": {
         "anchor": "y",
         "domain": [
          0.0,
          1.0
         ],
         "range": [
          0.6,
          437.9
         ],
         "title": {
          "text": "Value"
         }
        },
        "yaxis": {
         "anchor": "x",
         "domain": [
          0.0,
          1.0
         ],
         "title": {
          "text": "Region"
         }
        }
       }
      },
      "text/html": [
       "<div>                            <div id=\"7b23da6f-af74-44af-a173-93e763355862\" class=\"plotly-graph-div\" style=\"height:800px; width:600px;\"></div>            <script type=\"text/javascript\">                require([\"plotly\"], function(Plotly) {                    window.PLOTLYENV=window.PLOTLYENV || {};                                    if (document.getElementById(\"7b23da6f-af74-44af-a173-93e763355862\")) {                    Plotly.newPlot(                        \"7b23da6f-af74-44af-a173-93e763355862\",                        [{\"alignmentgroup\": \"True\", \"hovertemplate\": \"Year=1990<br>Value=%{x}<br>Region=%{y}<extra></extra>\", \"legendgroup\": \"\", \"marker\": {\"color\": \"#636efa\"}, \"name\": \"\", \"offsetgroup\": \"\", \"orientation\": \"h\", \"showlegend\": false, \"textposition\": \"auto\", \"type\": \"bar\", \"x\": [195.4, 189.5, 152.8, 262.2, 68.6, 95.0, 206.9, 190.2, 162.1, 231.2, 208.3, 186.4, 266.7, 55.7, 97.2, 260.4, 436.1, 70.5, 24.2, 158.4, 37.6, 36.5, 101.8, 183.4, 278.0, 21.3, 118.7, 39.6, 25.8, 149.3, 28.2, 26.3, 81.7, 253.8, 146.2, 53.3, 271.5, 203.4, 391.2, 304.7, 100.9], \"xaxis\": \"x\", \"y\": [\"Bihor\", \"Bistrita-Nasaud\", \"Cluj\", \"Maramures\", \"Satu Mare\", \"Salaj\", \"Alba\", \"Brasov\", \"Covasna\", \"Harghita\", \"Mures\", \"Sibiu\", \"Bacau\", \"Botosani\", \"Iasi\", \"Neamt\", \"Suceava\", \"Vaslui\", \"Braila\", \"Buzau\", \"Constanta\", \"Galati\", \"Tulcea\", \"Vrancea\", \"Arges\", \"Calarasi\", \"Dambovita\", \"Giurgiu\", \"Ialomita\", \"Prahova\", \"Teleorman\", \"Ilfov\", \"Dolj\", \"Gorj\", \"Mehedinti\", \"Olt\", \"Valcea\", \"Arad\", \"Caras-Severin\", \"Hunedoara\", \"Timis\"], \"yaxis\": \"y\"}],                        {\"barmode\": \"relative\", \"font\": {\"color\": \"#7f7f7f\", \"family\": \"Courier New, monospace\", \"size\": 10}, \"height\": 800, \"legend\": {\"tracegroupgap\": 0}, \"sliders\": [{\"active\": 0, \"currentvalue\": {\"prefix\": \"Year=\"}, \"len\": 0.9, \"pad\": {\"b\": 10, \"t\": 60}, \"steps\": [{\"args\": [[\"1990\"], {\"frame\": {\"duration\": 0, \"redraw\": true}, \"fromcurrent\": true, \"mode\": \"immediate\", \"transition\": {\"duration\": 0, \"easing\": \"linear\"}}], \"label\": \"1990\", \"method\": \"animate\"}, {\"args\": [[\"1991\"], {\"frame\": {\"duration\": 0, \"redraw\": true}, \"fromcurrent\": true, \"mode\": \"immediate\", \"transition\": {\"duration\": 0, \"easing\": \"linear\"}}], \"label\": \"1991\", \"method\": \"animate\"}, {\"args\": [[\"1992\"], {\"frame\": {\"duration\": 0, \"redraw\": true}, \"fromcurrent\": true, \"mode\": \"immediate\", \"transition\": {\"duration\": 0, \"easing\": \"linear\"}}], \"label\": \"1992\", \"method\": \"animate\"}, {\"args\": [[\"1993\"], {\"frame\": {\"duration\": 0, \"redraw\": true}, \"fromcurrent\": true, \"mode\": \"immediate\", \"transition\": {\"duration\": 0, \"easing\": \"linear\"}}], \"label\": \"1993\", \"method\": \"animate\"}, {\"args\": [[\"1994\"], {\"frame\": {\"duration\": 0, \"redraw\": true}, \"fromcurrent\": true, \"mode\": \"immediate\", \"transition\": {\"duration\": 0, \"easing\": \"linear\"}}], \"label\": \"1994\", \"method\": \"animate\"}, {\"args\": [[\"1995\"], {\"frame\": {\"duration\": 0, \"redraw\": true}, \"fromcurrent\": true, \"mode\": \"immediate\", \"transition\": {\"duration\": 0, \"easing\": \"linear\"}}], \"label\": \"1995\", \"method\": \"animate\"}, {\"args\": [[\"1996\"], {\"frame\": {\"duration\": 0, \"redraw\": true}, \"fromcurrent\": true, \"mode\": \"immediate\", \"transition\": {\"duration\": 0, \"easing\": \"linear\"}}], \"label\": \"1996\", \"method\": \"animate\"}, {\"args\": [[\"1997\"], {\"frame\": {\"duration\": 0, \"redraw\": true}, \"fromcurrent\": true, \"mode\": \"immediate\", \"transition\": {\"duration\": 0, \"easing\": \"linear\"}}], \"label\": \"1997\", \"method\": \"animate\"}, {\"args\": [[\"1998\"], {\"frame\": {\"duration\": 0, \"redraw\": true}, \"fromcurrent\": true, \"mode\": \"immediate\", \"transition\": {\"duration\": 0, \"easing\": \"linear\"}}], \"label\": \"1998\", \"method\": \"animate\"}, {\"args\": [[\"1999\"], {\"frame\": {\"duration\": 0, \"redraw\": true}, \"fromcurrent\": true, \"mode\": \"immediate\", \"transition\": {\"duration\": 0, \"easing\": \"linear\"}}], \"label\": \"1999\", \"method\": \"animate\"}, {\"args\": [[\"2000\"], {\"frame\": {\"duration\": 0, \"redraw\": true}, \"fromcurrent\": true, \"mode\": \"immediate\", \"transition\": {\"duration\": 0, \"easing\": \"linear\"}}], \"label\": \"2000\", \"method\": \"animate\"}, {\"args\": [[\"2001\"], {\"frame\": {\"duration\": 0, \"redraw\": true}, \"fromcurrent\": true, \"mode\": \"immediate\", \"transition\": {\"duration\": 0, \"easing\": \"linear\"}}], \"label\": \"2001\", \"method\": \"animate\"}, {\"args\": [[\"2002\"], {\"frame\": {\"duration\": 0, \"redraw\": true}, \"fromcurrent\": true, \"mode\": \"immediate\", \"transition\": {\"duration\": 0, \"easing\": \"linear\"}}], \"label\": \"2002\", \"method\": \"animate\"}, {\"args\": [[\"2003\"], {\"frame\": {\"duration\": 0, \"redraw\": true}, \"fromcurrent\": true, \"mode\": \"immediate\", \"transition\": {\"duration\": 0, \"easing\": \"linear\"}}], \"label\": \"2003\", \"method\": \"animate\"}, {\"args\": [[\"2004\"], {\"frame\": {\"duration\": 0, \"redraw\": true}, \"fromcurrent\": true, \"mode\": \"immediate\", \"transition\": {\"duration\": 0, \"easing\": \"linear\"}}], \"label\": \"2004\", \"method\": \"animate\"}, {\"args\": [[\"2005\"], {\"frame\": {\"duration\": 0, \"redraw\": true}, \"fromcurrent\": true, \"mode\": \"immediate\", \"transition\": {\"duration\": 0, \"easing\": \"linear\"}}], \"label\": \"2005\", \"method\": \"animate\"}, {\"args\": [[\"2006\"], {\"frame\": {\"duration\": 0, \"redraw\": true}, \"fromcurrent\": true, \"mode\": \"immediate\", \"transition\": {\"duration\": 0, \"easing\": \"linear\"}}], \"label\": \"2006\", \"method\": \"animate\"}, {\"args\": [[\"2007\"], {\"frame\": {\"duration\": 0, \"redraw\": true}, \"fromcurrent\": true, \"mode\": \"immediate\", \"transition\": {\"duration\": 0, \"easing\": \"linear\"}}], \"label\": \"2007\", \"method\": \"animate\"}, {\"args\": [[\"2008\"], {\"frame\": {\"duration\": 0, \"redraw\": true}, \"fromcurrent\": true, \"mode\": \"immediate\", \"transition\": {\"duration\": 0, \"easing\": \"linear\"}}], \"label\": \"2008\", \"method\": \"animate\"}, {\"args\": [[\"2009\"], {\"frame\": {\"duration\": 0, \"redraw\": true}, \"fromcurrent\": true, \"mode\": \"immediate\", \"transition\": {\"duration\": 0, \"easing\": \"linear\"}}], \"label\": \"2009\", \"method\": \"animate\"}, {\"args\": [[\"2010\"], {\"frame\": {\"duration\": 0, \"redraw\": true}, \"fromcurrent\": true, \"mode\": \"immediate\", \"transition\": {\"duration\": 0, \"easing\": \"linear\"}}], \"label\": \"2010\", \"method\": \"animate\"}, {\"args\": [[\"2011\"], {\"frame\": {\"duration\": 0, \"redraw\": true}, \"fromcurrent\": true, \"mode\": \"immediate\", \"transition\": {\"duration\": 0, \"easing\": \"linear\"}}], \"label\": \"2011\", \"method\": \"animate\"}, {\"args\": [[\"2012\"], {\"frame\": {\"duration\": 0, \"redraw\": true}, \"fromcurrent\": true, \"mode\": \"immediate\", \"transition\": {\"duration\": 0, \"easing\": \"linear\"}}], \"label\": \"2012\", \"method\": \"animate\"}, {\"args\": [[\"2013\"], {\"frame\": {\"duration\": 0, \"redraw\": true}, \"fromcurrent\": true, \"mode\": \"immediate\", \"transition\": {\"duration\": 0, \"easing\": \"linear\"}}], \"label\": \"2013\", \"method\": \"animate\"}, {\"args\": [[\"2014\"], {\"frame\": {\"duration\": 0, \"redraw\": true}, \"fromcurrent\": true, \"mode\": \"immediate\", \"transition\": {\"duration\": 0, \"easing\": \"linear\"}}], \"label\": \"2014\", \"method\": \"animate\"}, {\"args\": [[\"2015\"], {\"frame\": {\"duration\": 0, \"redraw\": true}, \"fromcurrent\": true, \"mode\": \"immediate\", \"transition\": {\"duration\": 0, \"easing\": \"linear\"}}], \"label\": \"2015\", \"method\": \"animate\"}, {\"args\": [[\"2016\"], {\"frame\": {\"duration\": 0, \"redraw\": true}, \"fromcurrent\": true, \"mode\": \"immediate\", \"transition\": {\"duration\": 0, \"easing\": \"linear\"}}], \"label\": \"2016\", \"method\": \"animate\"}, {\"args\": [[\"2017\"], {\"frame\": {\"duration\": 0, \"redraw\": true}, \"fromcurrent\": true, \"mode\": \"immediate\", \"transition\": {\"duration\": 0, \"easing\": \"linear\"}}], \"label\": \"2017\", \"method\": \"animate\"}, {\"args\": [[\"2018\"], {\"frame\": {\"duration\": 0, \"redraw\": true}, \"fromcurrent\": true, \"mode\": \"immediate\", \"transition\": {\"duration\": 0, \"easing\": \"linear\"}}], \"label\": \"2018\", \"method\": \"animate\"}, {\"args\": [[\"2019\"], {\"frame\": {\"duration\": 0, \"redraw\": true}, \"fromcurrent\": true, \"mode\": \"immediate\", \"transition\": {\"duration\": 0, \"easing\": \"linear\"}}], \"label\": \"2019\", \"method\": \"animate\"}], \"x\": 0.1, \"xanchor\": \"left\", \"y\": 0, \"yanchor\": \"top\"}], \"template\": {\"data\": {\"bar\": [{\"error_x\": {\"color\": \"#2a3f5f\"}, \"error_y\": {\"color\": \"#2a3f5f\"}, \"marker\": {\"line\": {\"color\": \"#E5ECF6\", \"width\": 0.5}}, \"type\": \"bar\"}], \"barpolar\": [{\"marker\": {\"line\": {\"color\": \"#E5ECF6\", \"width\": 0.5}}, \"type\": \"barpolar\"}], \"carpet\": [{\"aaxis\": {\"endlinecolor\": \"#2a3f5f\", \"gridcolor\": \"white\", \"linecolor\": \"white\", \"minorgridcolor\": \"white\", \"startlinecolor\": \"#2a3f5f\"}, \"baxis\": {\"endlinecolor\": \"#2a3f5f\", \"gridcolor\": \"white\", \"linecolor\": \"white\", \"minorgridcolor\": \"white\", \"startlinecolor\": \"#2a3f5f\"}, \"type\": \"carpet\"}], \"choropleth\": [{\"colorbar\": {\"outlinewidth\": 0, \"ticks\": \"\"}, \"type\": \"choropleth\"}], \"contour\": [{\"colorbar\": {\"outlinewidth\": 0, \"ticks\": \"\"}, \"colorscale\": [[0.0, \"#0d0887\"], [0.1111111111111111, \"#46039f\"], [0.2222222222222222, \"#7201a8\"], [0.3333333333333333, \"#9c179e\"], [0.4444444444444444, \"#bd3786\"], [0.5555555555555556, \"#d8576b\"], [0.6666666666666666, \"#ed7953\"], [0.7777777777777778, \"#fb9f3a\"], [0.8888888888888888, \"#fdca26\"], [1.0, \"#f0f921\"]], \"type\": \"contour\"}], \"contourcarpet\": [{\"colorbar\": {\"outlinewidth\": 0, \"ticks\": \"\"}, \"type\": \"contourcarpet\"}], \"heatmap\": [{\"colorbar\": {\"outlinewidth\": 0, \"ticks\": \"\"}, \"colorscale\": [[0.0, \"#0d0887\"], [0.1111111111111111, \"#46039f\"], [0.2222222222222222, \"#7201a8\"], [0.3333333333333333, \"#9c179e\"], [0.4444444444444444, \"#bd3786\"], [0.5555555555555556, \"#d8576b\"], [0.6666666666666666, \"#ed7953\"], [0.7777777777777778, \"#fb9f3a\"], [0.8888888888888888, \"#fdca26\"], [1.0, \"#f0f921\"]], \"type\": \"heatmap\"}], \"heatmapgl\": [{\"colorbar\": {\"outlinewidth\": 0, \"ticks\": \"\"}, \"colorscale\": [[0.0, \"#0d0887\"], [0.1111111111111111, \"#46039f\"], [0.2222222222222222, \"#7201a8\"], [0.3333333333333333, \"#9c179e\"], [0.4444444444444444, \"#bd3786\"], [0.5555555555555556, \"#d8576b\"], [0.6666666666666666, \"#ed7953\"], [0.7777777777777778, \"#fb9f3a\"], [0.8888888888888888, \"#fdca26\"], [1.0, \"#f0f921\"]], \"type\": \"heatmapgl\"}], \"histogram\": [{\"marker\": {\"colorbar\": {\"outlinewidth\": 0, \"ticks\": \"\"}}, \"type\": \"histogram\"}], \"histogram2d\": [{\"colorbar\": {\"outlinewidth\": 0, \"ticks\": \"\"}, \"colorscale\": [[0.0, \"#0d0887\"], [0.1111111111111111, \"#46039f\"], [0.2222222222222222, \"#7201a8\"], [0.3333333333333333, \"#9c179e\"], [0.4444444444444444, \"#bd3786\"], [0.5555555555555556, \"#d8576b\"], [0.6666666666666666, \"#ed7953\"], [0.7777777777777778, \"#fb9f3a\"], [0.8888888888888888, \"#fdca26\"], [1.0, \"#f0f921\"]], \"type\": \"histogram2d\"}], \"histogram2dcontour\": [{\"colorbar\": {\"outlinewidth\": 0, \"ticks\": \"\"}, \"colorscale\": [[0.0, \"#0d0887\"], [0.1111111111111111, \"#46039f\"], [0.2222222222222222, \"#7201a8\"], [0.3333333333333333, \"#9c179e\"], [0.4444444444444444, \"#bd3786\"], [0.5555555555555556, \"#d8576b\"], [0.6666666666666666, \"#ed7953\"], [0.7777777777777778, \"#fb9f3a\"], [0.8888888888888888, \"#fdca26\"], [1.0, \"#f0f921\"]], \"type\": \"histogram2dcontour\"}], \"mesh3d\": [{\"colorbar\": {\"outlinewidth\": 0, \"ticks\": \"\"}, \"type\": \"mesh3d\"}], \"parcoords\": [{\"line\": {\"colorbar\": {\"outlinewidth\": 0, \"ticks\": \"\"}}, \"type\": \"parcoords\"}], \"pie\": [{\"automargin\": true, \"type\": \"pie\"}], \"scatter\": [{\"marker\": {\"colorbar\": {\"outlinewidth\": 0, \"ticks\": \"\"}}, \"type\": \"scatter\"}], \"scatter3d\": [{\"line\": {\"colorbar\": {\"outlinewidth\": 0, \"ticks\": \"\"}}, \"marker\": {\"colorbar\": {\"outlinewidth\": 0, \"ticks\": \"\"}}, \"type\": \"scatter3d\"}], \"scattercarpet\": [{\"marker\": {\"colorbar\": {\"outlinewidth\": 0, \"ticks\": \"\"}}, \"type\": \"scattercarpet\"}], \"scattergeo\": [{\"marker\": {\"colorbar\": {\"outlinewidth\": 0, \"ticks\": \"\"}}, \"type\": \"scattergeo\"}], \"scattergl\": [{\"marker\": {\"colorbar\": {\"outlinewidth\": 0, \"ticks\": \"\"}}, \"type\": \"scattergl\"}], \"scattermapbox\": [{\"marker\": {\"colorbar\": {\"outlinewidth\": 0, \"ticks\": \"\"}}, \"type\": \"scattermapbox\"}], \"scatterpolar\": [{\"marker\": {\"colorbar\": {\"outlinewidth\": 0, \"ticks\": \"\"}}, \"type\": \"scatterpolar\"}], \"scatterpolargl\": [{\"marker\": {\"colorbar\": {\"outlinewidth\": 0, \"ticks\": \"\"}}, \"type\": \"scatterpolargl\"}], \"scatterternary\": [{\"marker\": {\"colorbar\": {\"outlinewidth\": 0, \"ticks\": \"\"}}, \"type\": \"scatterternary\"}], \"surface\": [{\"colorbar\": {\"outlinewidth\": 0, \"ticks\": \"\"}, \"colorscale\": [[0.0, \"#0d0887\"], [0.1111111111111111, \"#46039f\"], [0.2222222222222222, \"#7201a8\"], [0.3333333333333333, \"#9c179e\"], [0.4444444444444444, \"#bd3786\"], [0.5555555555555556, \"#d8576b\"], [0.6666666666666666, \"#ed7953\"], [0.7777777777777778, \"#fb9f3a\"], [0.8888888888888888, \"#fdca26\"], [1.0, \"#f0f921\"]], \"type\": \"surface\"}], \"table\": [{\"cells\": {\"fill\": {\"color\": \"#EBF0F8\"}, \"line\": {\"color\": \"white\"}}, \"header\": {\"fill\": {\"color\": \"#C8D4E3\"}, \"line\": {\"color\": \"white\"}}, \"type\": \"table\"}]}, \"layout\": {\"annotationdefaults\": {\"arrowcolor\": \"#2a3f5f\", \"arrowhead\": 0, \"arrowwidth\": 1}, \"coloraxis\": {\"colorbar\": {\"outlinewidth\": 0, \"ticks\": \"\"}}, \"colorscale\": {\"diverging\": [[0, \"#8e0152\"], [0.1, \"#c51b7d\"], [0.2, \"#de77ae\"], [0.3, \"#f1b6da\"], [0.4, \"#fde0ef\"], [0.5, \"#f7f7f7\"], [0.6, \"#e6f5d0\"], [0.7, \"#b8e186\"], [0.8, \"#7fbc41\"], [0.9, \"#4d9221\"], [1, \"#276419\"]], \"sequential\": [[0.0, \"#0d0887\"], [0.1111111111111111, \"#46039f\"], [0.2222222222222222, \"#7201a8\"], [0.3333333333333333, \"#9c179e\"], [0.4444444444444444, \"#bd3786\"], [0.5555555555555556, \"#d8576b\"], [0.6666666666666666, \"#ed7953\"], [0.7777777777777778, \"#fb9f3a\"], [0.8888888888888888, \"#fdca26\"], [1.0, \"#f0f921\"]], \"sequentialminus\": [[0.0, \"#0d0887\"], [0.1111111111111111, \"#46039f\"], [0.2222222222222222, \"#7201a8\"], [0.3333333333333333, \"#9c179e\"], [0.4444444444444444, \"#bd3786\"], [0.5555555555555556, \"#d8576b\"], [0.6666666666666666, \"#ed7953\"], [0.7777777777777778, \"#fb9f3a\"], [0.8888888888888888, \"#fdca26\"], [1.0, \"#f0f921\"]]}, \"colorway\": [\"#636efa\", \"#EF553B\", \"#00cc96\", \"#ab63fa\", \"#FFA15A\", \"#19d3f3\", \"#FF6692\", \"#B6E880\", \"#FF97FF\", \"#FECB52\"], \"font\": {\"color\": \"#2a3f5f\"}, \"geo\": {\"bgcolor\": \"white\", \"lakecolor\": \"white\", \"landcolor\": \"#E5ECF6\", \"showlakes\": true, \"showland\": true, \"subunitcolor\": \"white\"}, \"hoverlabel\": {\"align\": \"left\"}, \"hovermode\": \"closest\", \"mapbox\": {\"style\": \"light\"}, \"paper_bgcolor\": \"white\", \"plot_bgcolor\": \"#E5ECF6\", \"polar\": {\"angularaxis\": {\"gridcolor\": \"white\", \"linecolor\": \"white\", \"ticks\": \"\"}, \"bgcolor\": \"#E5ECF6\", \"radialaxis\": {\"gridcolor\": \"white\", \"linecolor\": \"white\", \"ticks\": \"\"}}, \"scene\": {\"xaxis\": {\"backgroundcolor\": \"#E5ECF6\", \"gridcolor\": \"white\", \"gridwidth\": 2, \"linecolor\": \"white\", \"showbackground\": true, \"ticks\": \"\", \"zerolinecolor\": \"white\"}, \"yaxis\": {\"backgroundcolor\": \"#E5ECF6\", \"gridcolor\": \"white\", \"gridwidth\": 2, \"linecolor\": \"white\", \"showbackground\": true, \"ticks\": \"\", \"zerolinecolor\": \"white\"}, \"zaxis\": {\"backgroundcolor\": \"#E5ECF6\", \"gridcolor\": \"white\", \"gridwidth\": 2, \"linecolor\": \"white\", \"showbackground\": true, \"ticks\": \"\", \"zerolinecolor\": \"white\"}}, \"shapedefaults\": {\"line\": {\"color\": \"#2a3f5f\"}}, \"ternary\": {\"aaxis\": {\"gridcolor\": \"white\", \"linecolor\": \"white\", \"ticks\": \"\"}, \"baxis\": {\"gridcolor\": \"white\", \"linecolor\": \"white\", \"ticks\": \"\"}, \"bgcolor\": \"#E5ECF6\", \"caxis\": {\"gridcolor\": \"white\", \"linecolor\": \"white\", \"ticks\": \"\"}}, \"title\": {\"x\": 0.05}, \"xaxis\": {\"automargin\": true, \"gridcolor\": \"white\", \"linecolor\": \"white\", \"ticks\": \"\", \"title\": {\"standoff\": 15}, \"zerolinecolor\": \"white\", \"zerolinewidth\": 2}, \"yaxis\": {\"automargin\": true, \"gridcolor\": \"white\", \"linecolor\": \"white\", \"ticks\": \"\", \"title\": {\"standoff\": 15}, \"zerolinecolor\": \"white\", \"zerolinewidth\": 2}}}, \"title\": {\"text\": \"Surface evolution/county 1990-2019 - Total\"}, \"updatemenus\": [{\"buttons\": [{\"args\": [null, {\"frame\": {\"duration\": 500, \"redraw\": true}, \"fromcurrent\": true, \"mode\": \"immediate\", \"transition\": {\"duration\": 500, \"easing\": \"linear\"}}], \"label\": \"&#9654;\", \"method\": \"animate\"}, {\"args\": [[null], {\"frame\": {\"duration\": 0, \"redraw\": true}, \"fromcurrent\": true, \"mode\": \"immediate\", \"transition\": {\"duration\": 0, \"easing\": \"linear\"}}], \"label\": \"&#9724;\", \"method\": \"animate\"}], \"direction\": \"left\", \"pad\": {\"r\": 10, \"t\": 70}, \"showactive\": false, \"type\": \"buttons\", \"x\": 0.1, \"xanchor\": \"right\", \"y\": 0, \"yanchor\": \"top\"}], \"width\": 600, \"xaxis\": {\"anchor\": \"y\", \"domain\": [0.0, 1.0], \"range\": [0.6, 437.9], \"title\": {\"text\": \"Value\"}}, \"yaxis\": {\"anchor\": \"x\", \"domain\": [0.0, 1.0], \"title\": {\"text\": \"Region\"}}},                        {\"responsive\": true}                    ).then(function(){\n",
       "                            Plotly.addFrames('7b23da6f-af74-44af-a173-93e763355862', [{\"data\": [{\"alignmentgroup\": \"True\", \"hovertemplate\": \"Year=1990<br>Value=%{x}<br>Region=%{y}<extra></extra>\", \"legendgroup\": \"\", \"marker\": {\"color\": \"#636efa\"}, \"name\": \"\", \"offsetgroup\": \"\", \"orientation\": \"h\", \"showlegend\": false, \"textposition\": \"auto\", \"x\": [195.4, 189.5, 152.8, 262.2, 68.6, 95.0, 206.9, 190.2, 162.1, 231.2, 208.3, 186.4, 266.7, 55.7, 97.2, 260.4, 436.1, 70.5, 24.2, 158.4, 37.6, 36.5, 101.8, 183.4, 278.0, 21.3, 118.7, 39.6, 25.8, 149.3, 28.2, 26.3, 81.7, 253.8, 146.2, 53.3, 271.5, 203.4, 391.2, 304.7, 100.9], \"xaxis\": \"x\", \"y\": [\"Bihor\", \"Bistrita-Nasaud\", \"Cluj\", \"Maramures\", \"Satu Mare\", \"Salaj\", \"Alba\", \"Brasov\", \"Covasna\", \"Harghita\", \"Mures\", \"Sibiu\", \"Bacau\", \"Botosani\", \"Iasi\", \"Neamt\", \"Suceava\", \"Vaslui\", \"Braila\", \"Buzau\", \"Constanta\", \"Galati\", \"Tulcea\", \"Vrancea\", \"Arges\", \"Calarasi\", \"Dambovita\", \"Giurgiu\", \"Ialomita\", \"Prahova\", \"Teleorman\", \"Ilfov\", \"Dolj\", \"Gorj\", \"Mehedinti\", \"Olt\", \"Valcea\", \"Arad\", \"Caras-Severin\", \"Hunedoara\", \"Timis\"], \"yaxis\": \"y\", \"type\": \"bar\"}], \"name\": \"1990\"}, {\"data\": [{\"alignmentgroup\": \"True\", \"hovertemplate\": \"Year=1991<br>Value=%{x}<br>Region=%{y}<extra></extra>\", \"legendgroup\": \"\", \"marker\": {\"color\": \"#636efa\"}, \"name\": \"\", \"offsetgroup\": \"\", \"orientation\": \"h\", \"showlegend\": false, \"textposition\": \"auto\", \"x\": [195.4, 189.9, 152.8, 262.2, 68.6, 95.1, 206.9, 190.1, 162.1, 231.3, 208.3, 186.5, 266.3, 55.7, 96.8, 260.6, 435.8, 70.5, 24.2, 158.2, 35.5, 36.5, 102.0, 183.2, 278.0, 21.3, 118.6, 46.0, 25.8, 149.1, 28.1, 19.9, 81.7, 253.4, 146.2, 53.3, 271.5, 203.4, 391.2, 304.7, 100.9], \"xaxis\": \"x\", \"y\": [\"Bihor\", \"Bistrita-Nasaud\", \"Cluj\", \"Maramures\", \"Satu Mare\", \"Salaj\", \"Alba\", \"Brasov\", \"Covasna\", \"Harghita\", \"Mures\", \"Sibiu\", \"Bacau\", \"Botosani\", \"Iasi\", \"Neamt\", \"Suceava\", \"Vaslui\", \"Braila\", \"Buzau\", \"Constanta\", \"Galati\", \"Tulcea\", \"Vrancea\", \"Arges\", \"Calarasi\", \"Dambovita\", \"Giurgiu\", \"Ialomita\", \"Prahova\", \"Teleorman\", \"Ilfov\", \"Dolj\", \"Gorj\", \"Mehedinti\", \"Olt\", \"Valcea\", \"Arad\", \"Caras-Severin\", \"Hunedoara\", \"Timis\"], \"yaxis\": \"y\", \"type\": \"bar\"}], \"name\": \"1991\"}, {\"data\": [{\"alignmentgroup\": \"True\", \"hovertemplate\": \"Year=1992<br>Value=%{x}<br>Region=%{y}<extra></extra>\", \"legendgroup\": \"\", \"marker\": {\"color\": \"#636efa\"}, \"name\": \"\", \"offsetgroup\": \"\", \"orientation\": \"h\", \"showlegend\": false, \"textposition\": \"auto\", \"x\": [195.4, 189.9, 152.9, 262.7, 68.5, 95.2, 206.8, 190.1, 162.4, 231.3, 208.3, 186.7, 284.3, 55.7, 96.6, 242.8, 435.6, 70.4, 24.2, 158.2, 35.5, 36.5, 102.0, 183.3, 278.1, 21.3, 118.7, 39.5, 25.7, 149.0, 28.1, 26.3, 81.7, 253.5, 146.4, 53.3, 271.0, 203.4, 391.1, 304.7, 101.1], \"xaxis\": \"x\", \"y\": [\"Bihor\", \"Bistrita-Nasaud\", \"Cluj\", \"Maramures\", \"Satu Mare\", \"Salaj\", \"Alba\", \"Brasov\", \"Covasna\", \"Harghita\", \"Mures\", \"Sibiu\", \"Bacau\", \"Botosani\", \"Iasi\", \"Neamt\", \"Suceava\", \"Vaslui\", \"Braila\", \"Buzau\", \"Constanta\", \"Galati\", \"Tulcea\", \"Vrancea\", \"Arges\", \"Calarasi\", \"Dambovita\", \"Giurgiu\", \"Ialomita\", \"Prahova\", \"Teleorman\", \"Ilfov\", \"Dolj\", \"Gorj\", \"Mehedinti\", \"Olt\", \"Valcea\", \"Arad\", \"Caras-Severin\", \"Hunedoara\", \"Timis\"], \"yaxis\": \"y\", \"type\": \"bar\"}], \"name\": \"1992\"}, {\"data\": [{\"alignmentgroup\": \"True\", \"hovertemplate\": \"Year=1993<br>Value=%{x}<br>Region=%{y}<extra></extra>\", \"legendgroup\": \"\", \"marker\": {\"color\": \"#636efa\"}, \"name\": \"\", \"offsetgroup\": \"\", \"orientation\": \"h\", \"showlegend\": false, \"textposition\": \"auto\", \"x\": [191.7, 189.9, 152.9, 262.6, 68.5, 95.2, 206.5, 190.1, 161.7, 231.3, 208.2, 186.7, 266.7, 55.7, 96.6, 260.5, 435.6, 70.3, 24.2, 158.9, 35.5, 36.5, 101.8, 183.1, 277.9, 21.1, 118.8, 39.7, 25.7, 148.6, 28.1, 26.2, 81.7, 255.0, 146.4, 53.3, 271.2, 207.2, 391.2, 303.0, 101.1], \"xaxis\": \"x\", \"y\": [\"Bihor\", \"Bistrita-Nasaud\", \"Cluj\", \"Maramures\", \"Satu Mare\", \"Salaj\", \"Alba\", \"Brasov\", \"Covasna\", \"Harghita\", \"Mures\", \"Sibiu\", \"Bacau\", \"Botosani\", \"Iasi\", \"Neamt\", \"Suceava\", \"Vaslui\", \"Braila\", \"Buzau\", \"Constanta\", \"Galati\", \"Tulcea\", \"Vrancea\", \"Arges\", \"Calarasi\", \"Dambovita\", \"Giurgiu\", \"Ialomita\", \"Prahova\", \"Teleorman\", \"Ilfov\", \"Dolj\", \"Gorj\", \"Mehedinti\", \"Olt\", \"Valcea\", \"Arad\", \"Caras-Severin\", \"Hunedoara\", \"Timis\"], \"yaxis\": \"y\", \"type\": \"bar\"}], \"name\": \"1993\"}, {\"data\": [{\"alignmentgroup\": \"True\", \"hovertemplate\": \"Year=1994<br>Value=%{x}<br>Region=%{y}<extra></extra>\", \"legendgroup\": \"\", \"marker\": {\"color\": \"#636efa\"}, \"name\": \"\", \"offsetgroup\": \"\", \"orientation\": \"h\", \"showlegend\": false, \"textposition\": \"auto\", \"x\": [194.7, 190.0, 153.6, 263.2, 68.0, 95.2, 206.6, 190.2, 162.0, 230.8, 208.4, 186.6, 267.0, 55.9, 97.0, 260.5, 435.5, 70.5, 25.7, 159.7, 35.5, 36.6, 102.1, 183.1, 279.4, 20.6, 118.6, 38.2, 25.7, 147.5, 29.4, 26.5, 81.7, 254.9, 146.5, 51.9, 271.6, 203.7, 390.5, 302.9, 101.0], \"xaxis\": \"x\", \"y\": [\"Bihor\", \"Bistrita-Nasaud\", \"Cluj\", \"Maramures\", \"Satu Mare\", \"Salaj\", \"Alba\", \"Brasov\", \"Covasna\", \"Harghita\", \"Mures\", \"Sibiu\", \"Bacau\", \"Botosani\", \"Iasi\", \"Neamt\", \"Suceava\", \"Vaslui\", \"Braila\", \"Buzau\", \"Constanta\", \"Galati\", \"Tulcea\", \"Vrancea\", \"Arges\", \"Calarasi\", \"Dambovita\", \"Giurgiu\", \"Ialomita\", \"Prahova\", \"Teleorman\", \"Ilfov\", \"Dolj\", \"Gorj\", \"Mehedinti\", \"Olt\", \"Valcea\", \"Arad\", \"Caras-Severin\", \"Hunedoara\", \"Timis\"], \"yaxis\": \"y\", \"type\": \"bar\"}], \"name\": \"1994\"}, {\"data\": [{\"alignmentgroup\": \"True\", \"hovertemplate\": \"Year=1995<br>Value=%{x}<br>Region=%{y}<extra></extra>\", \"legendgroup\": \"\", \"marker\": {\"color\": \"#636efa\"}, \"name\": \"\", \"offsetgroup\": \"\", \"orientation\": \"h\", \"showlegend\": false, \"textposition\": \"auto\", \"x\": [195.3, 189.8, 152.8, 263.1, 68.0, 95.5, 206.9, 189.7, 162.2, 231.1, 208.2, 186.2, 266.9, 55.8, 96.8, 260.5, 435.2, 70.5, 25.5, 158.8, 35.5, 36.4, 101.6, 185.5, 280.0, 21.2, 118.8, 38.2, 25.8, 147.7, 29.2, 26.3, 82.0, 248.9, 146.3, 51.8, 270.5, 203.4, 390.6, 309.2, 101.1], \"xaxis\": \"x\", \"y\": [\"Bihor\", \"Bistrita-Nasaud\", \"Cluj\", \"Maramures\", \"Satu Mare\", \"Salaj\", \"Alba\", \"Brasov\", \"Covasna\", \"Harghita\", \"Mures\", \"Sibiu\", \"Bacau\", \"Botosani\", \"Iasi\", \"Neamt\", \"Suceava\", \"Vaslui\", \"Braila\", \"Buzau\", \"Constanta\", \"Galati\", \"Tulcea\", \"Vrancea\", \"Arges\", \"Calarasi\", \"Dambovita\", \"Giurgiu\", \"Ialomita\", \"Prahova\", \"Teleorman\", \"Ilfov\", \"Dolj\", \"Gorj\", \"Mehedinti\", \"Olt\", \"Valcea\", \"Arad\", \"Caras-Severin\", \"Hunedoara\", \"Timis\"], \"yaxis\": \"y\", \"type\": \"bar\"}], \"name\": \"1995\"}, {\"data\": [{\"alignmentgroup\": \"True\", \"hovertemplate\": \"Year=1996<br>Value=%{x}<br>Region=%{y}<extra></extra>\", \"legendgroup\": \"\", \"marker\": {\"color\": \"#636efa\"}, \"name\": \"\", \"offsetgroup\": \"\", \"orientation\": \"h\", \"showlegend\": false, \"textposition\": \"auto\", \"x\": [195.3, 188.6, 152.6, 263.1, 68.0, 95.4, 207.1, 189.9, 161.9, 231.3, 208.2, 186.4, 266.5, 55.8, 96.8, 260.4, 435.2, 70.5, 25.9, 158.4, 35.5, 36.4, 101.6, 183.5, 280.0, 21.2, 118.8, 38.2, 25.7, 148.2, 29.1, 26.3, 82.0, 249.0, 146.3, 51.8, 270.5, 203.5, 390.6, 309.1, 101.1], \"xaxis\": \"x\", \"y\": [\"Bihor\", \"Bistrita-Nasaud\", \"Cluj\", \"Maramures\", \"Satu Mare\", \"Salaj\", \"Alba\", \"Brasov\", \"Covasna\", \"Harghita\", \"Mures\", \"Sibiu\", \"Bacau\", \"Botosani\", \"Iasi\", \"Neamt\", \"Suceava\", \"Vaslui\", \"Braila\", \"Buzau\", \"Constanta\", \"Galati\", \"Tulcea\", \"Vrancea\", \"Arges\", \"Calarasi\", \"Dambovita\", \"Giurgiu\", \"Ialomita\", \"Prahova\", \"Teleorman\", \"Ilfov\", \"Dolj\", \"Gorj\", \"Mehedinti\", \"Olt\", \"Valcea\", \"Arad\", \"Caras-Severin\", \"Hunedoara\", \"Timis\"], \"yaxis\": \"y\", \"type\": \"bar\"}], \"name\": \"1996\"}, {\"data\": [{\"alignmentgroup\": \"True\", \"hovertemplate\": \"Year=1997<br>Value=%{x}<br>Region=%{y}<extra></extra>\", \"legendgroup\": \"\", \"marker\": {\"color\": \"#636efa\"}, \"name\": \"\", \"offsetgroup\": \"\", \"orientation\": \"h\", \"showlegend\": false, \"textposition\": \"auto\", \"x\": [195.3, 189.7, 152.6, 263.2, 68.0, 95.4, 207.0, 189.9, 162.0, 231.4, 208.1, 186.4, 266.6, 55.8, 96.9, 260.4, 435.1, 70.5, 25.9, 158.3, 35.5, 36.2, 102.2, 183.9, 279.7, 21.2, 118.7, 38.1, 25.7, 148.1, 28.9, 26.4, 81.9, 248.8, 146.3, 52.1, 270.8, 203.5, 390.4, 309.1, 101.3], \"xaxis\": \"x\", \"y\": [\"Bihor\", \"Bistrita-Nasaud\", \"Cluj\", \"Maramures\", \"Satu Mare\", \"Salaj\", \"Alba\", \"Brasov\", \"Covasna\", \"Harghita\", \"Mures\", \"Sibiu\", \"Bacau\", \"Botosani\", \"Iasi\", \"Neamt\", \"Suceava\", \"Vaslui\", \"Braila\", \"Buzau\", \"Constanta\", \"Galati\", \"Tulcea\", \"Vrancea\", \"Arges\", \"Calarasi\", \"Dambovita\", \"Giurgiu\", \"Ialomita\", \"Prahova\", \"Teleorman\", \"Ilfov\", \"Dolj\", \"Gorj\", \"Mehedinti\", \"Olt\", \"Valcea\", \"Arad\", \"Caras-Severin\", \"Hunedoara\", \"Timis\"], \"yaxis\": \"y\", \"type\": \"bar\"}], \"name\": \"1997\"}, {\"data\": [{\"alignmentgroup\": \"True\", \"hovertemplate\": \"Year=1998<br>Value=%{x}<br>Region=%{y}<extra></extra>\", \"legendgroup\": \"\", \"marker\": {\"color\": \"#636efa\"}, \"name\": \"\", \"offsetgroup\": \"\", \"orientation\": \"h\", \"showlegend\": false, \"textposition\": \"auto\", \"x\": [195.5, 189.6, 152.6, 263.0, 67.9, 95.4, 207.0, 190.0, 161.9, 231.5, 208.1, 186.4, 267.0, 55.8, 96.6, 260.1, 435.3, 70.8, 25.9, 158.3, 35.2, 36.3, 102.2, 183.7, 279.6, 21.3, 118.4, 38.0, 25.7, 148.1, 28.9, 26.4, 83.2, 248.8, 146.2, 52.1, 271.1, 203.5, 389.4, 309.0, 101.3], \"xaxis\": \"x\", \"y\": [\"Bihor\", \"Bistrita-Nasaud\", \"Cluj\", \"Maramures\", \"Satu Mare\", \"Salaj\", \"Alba\", \"Brasov\", \"Covasna\", \"Harghita\", \"Mures\", \"Sibiu\", \"Bacau\", \"Botosani\", \"Iasi\", \"Neamt\", \"Suceava\", \"Vaslui\", \"Braila\", \"Buzau\", \"Constanta\", \"Galati\", \"Tulcea\", \"Vrancea\", \"Arges\", \"Calarasi\", \"Dambovita\", \"Giurgiu\", \"Ialomita\", \"Prahova\", \"Teleorman\", \"Ilfov\", \"Dolj\", \"Gorj\", \"Mehedinti\", \"Olt\", \"Valcea\", \"Arad\", \"Caras-Severin\", \"Hunedoara\", \"Timis\"], \"yaxis\": \"y\", \"type\": \"bar\"}], \"name\": \"1998\"}, {\"data\": [{\"alignmentgroup\": \"True\", \"hovertemplate\": \"Year=1999<br>Value=%{x}<br>Region=%{y}<extra></extra>\", \"legendgroup\": \"\", \"marker\": {\"color\": \"#636efa\"}, \"name\": \"\", \"offsetgroup\": \"\", \"orientation\": \"h\", \"showlegend\": false, \"textposition\": \"auto\", \"x\": [195.5, 189.6, 152.6, 263.1, 67.9, 95.4, 207.0, 190.0, 161.9, 231.5, 208.1, 186.5, 266.8, 55.8, 96.9, 260.0, 435.3, 70.5, 25.9, 158.2, 35.3, 36.3, 102.2, 183.7, 279.6, 21.3, 118.6, 38.1, 25.7, 148.1, 28.7, 26.2, 83.5, 248.8, 146.2, 52.1, 271.1, 203.6, 389.1, 309.3, 101.3], \"xaxis\": \"x\", \"y\": [\"Bihor\", \"Bistrita-Nasaud\", \"Cluj\", \"Maramures\", \"Satu Mare\", \"Salaj\", \"Alba\", \"Brasov\", \"Covasna\", \"Harghita\", \"Mures\", \"Sibiu\", \"Bacau\", \"Botosani\", \"Iasi\", \"Neamt\", \"Suceava\", \"Vaslui\", \"Braila\", \"Buzau\", \"Constanta\", \"Galati\", \"Tulcea\", \"Vrancea\", \"Arges\", \"Calarasi\", \"Dambovita\", \"Giurgiu\", \"Ialomita\", \"Prahova\", \"Teleorman\", \"Ilfov\", \"Dolj\", \"Gorj\", \"Mehedinti\", \"Olt\", \"Valcea\", \"Arad\", \"Caras-Severin\", \"Hunedoara\", \"Timis\"], \"yaxis\": \"y\", \"type\": \"bar\"}], \"name\": \"1999\"}, {\"data\": [{\"alignmentgroup\": \"True\", \"hovertemplate\": \"Year=2000<br>Value=%{x}<br>Region=%{y}<extra></extra>\", \"legendgroup\": \"\", \"marker\": {\"color\": \"#636efa\"}, \"name\": \"\", \"offsetgroup\": \"\", \"orientation\": \"h\", \"showlegend\": false, \"textposition\": \"auto\", \"x\": [195.5, 189.8, 152.4, 263.0, 68.0, 95.6, 207.1, 190.0, 161.9, 231.4, 208.4, 186.4, 266.6, 55.8, 97.2, 259.9, 434.8, 70.5, 25.8, 158.2, 35.4, 36.3, 102.2, 183.6, 279.1, 21.3, 118.4, 38.1, 25.7, 148.0, 28.7, 26.5, 83.5, 248.7, 146.2, 52.1, 271.1, 203.4, 389.0, 309.1, 101.8], \"xaxis\": \"x\", \"y\": [\"Bihor\", \"Bistrita-Nasaud\", \"Cluj\", \"Maramures\", \"Satu Mare\", \"Salaj\", \"Alba\", \"Brasov\", \"Covasna\", \"Harghita\", \"Mures\", \"Sibiu\", \"Bacau\", \"Botosani\", \"Iasi\", \"Neamt\", \"Suceava\", \"Vaslui\", \"Braila\", \"Buzau\", \"Constanta\", \"Galati\", \"Tulcea\", \"Vrancea\", \"Arges\", \"Calarasi\", \"Dambovita\", \"Giurgiu\", \"Ialomita\", \"Prahova\", \"Teleorman\", \"Ilfov\", \"Dolj\", \"Gorj\", \"Mehedinti\", \"Olt\", \"Valcea\", \"Arad\", \"Caras-Severin\", \"Hunedoara\", \"Timis\"], \"yaxis\": \"y\", \"type\": \"bar\"}], \"name\": \"2000\"}, {\"data\": [{\"alignmentgroup\": \"True\", \"hovertemplate\": \"Year=2001<br>Value=%{x}<br>Region=%{y}<extra></extra>\", \"legendgroup\": \"\", \"marker\": {\"color\": \"#636efa\"}, \"name\": \"\", \"offsetgroup\": \"\", \"orientation\": \"h\", \"showlegend\": false, \"textposition\": \"auto\", \"x\": [195.6, 189.8, 152.3, 263.0, 68.0, 95.6, 207.1, 190.1, 161.7, 231.4, 208.4, 186.4, 266.6, 55.8, 97.2, 259.8, 434.8, 70.6, 25.5, 158.0, 35.4, 36.3, 102.2, 183.8, 279.2, 21.3, 118.4, 38.1, 25.7, 148.0, 28.7, 26.0, 0.6, 83.5, 248.9, 146.4, 52.0, 271.1, 203.5, 389.1, 309.1, 101.8], \"xaxis\": \"x\", \"y\": [\"Bihor\", \"Bistrita-Nasaud\", \"Cluj\", \"Maramures\", \"Satu Mare\", \"Salaj\", \"Alba\", \"Brasov\", \"Covasna\", \"Harghita\", \"Mures\", \"Sibiu\", \"Bacau\", \"Botosani\", \"Iasi\", \"Neamt\", \"Suceava\", \"Vaslui\", \"Braila\", \"Buzau\", \"Constanta\", \"Galati\", \"Tulcea\", \"Vrancea\", \"Arges\", \"Calarasi\", \"Dambovita\", \"Giurgiu\", \"Ialomita\", \"Prahova\", \"Teleorman\", \"Ilfov\", \"Bucuresti\", \"Dolj\", \"Gorj\", \"Mehedinti\", \"Olt\", \"Valcea\", \"Arad\", \"Caras-Severin\", \"Hunedoara\", \"Timis\"], \"yaxis\": \"y\", \"type\": \"bar\"}], \"name\": \"2001\"}, {\"data\": [{\"alignmentgroup\": \"True\", \"hovertemplate\": \"Year=2002<br>Value=%{x}<br>Region=%{y}<extra></extra>\", \"legendgroup\": \"\", \"marker\": {\"color\": \"#636efa\"}, \"name\": \"\", \"offsetgroup\": \"\", \"orientation\": \"h\", \"showlegend\": false, \"textposition\": \"auto\", \"x\": [198.2, 200.8, 152.1, 263.0, 68.0, 95.6, 206.9, 190.6, 161.0, 226.9, 208.4, 186.8, 266.6, 56.0, 97.2, 260.1, 434.9, 70.4, 26.0, 157.6, 35.4, 36.5, 103.0, 191.7, 279.3, 21.3, 118.4, 38.1, 25.9, 147.5, 28.7, 26.0, 0.6, 85.7, 248.0, 146.2, 53.1, 271.1, 204.0, 389.1, 309.6, 101.5], \"xaxis\": \"x\", \"y\": [\"Bihor\", \"Bistrita-Nasaud\", \"Cluj\", \"Maramures\", \"Satu Mare\", \"Salaj\", \"Alba\", \"Brasov\", \"Covasna\", \"Harghita\", \"Mures\", \"Sibiu\", \"Bacau\", \"Botosani\", \"Iasi\", \"Neamt\", \"Suceava\", \"Vaslui\", \"Braila\", \"Buzau\", \"Constanta\", \"Galati\", \"Tulcea\", \"Vrancea\", \"Arges\", \"Calarasi\", \"Dambovita\", \"Giurgiu\", \"Ialomita\", \"Prahova\", \"Teleorman\", \"Ilfov\", \"Bucuresti\", \"Dolj\", \"Gorj\", \"Mehedinti\", \"Olt\", \"Valcea\", \"Arad\", \"Caras-Severin\", \"Hunedoara\", \"Timis\"], \"yaxis\": \"y\", \"type\": \"bar\"}], \"name\": \"2002\"}, {\"data\": [{\"alignmentgroup\": \"True\", \"hovertemplate\": \"Year=2003<br>Value=%{x}<br>Region=%{y}<extra></extra>\", \"legendgroup\": \"\", \"marker\": {\"color\": \"#636efa\"}, \"name\": \"\", \"offsetgroup\": \"\", \"orientation\": \"h\", \"showlegend\": false, \"textposition\": \"auto\", \"x\": [195.4, 190.3, 152.3, 265.0, 67.8, 95.5, 206.1, 190.2, 161.8, 231.0, 208.3, 186.8, 269.6, 56.0, 97.2, 259.2, 435.1, 70.9, 25.9, 157.8, 35.4, 36.5, 103.0, 184.0, 276.8, 21.2, 118.5, 38.0, 26.0, 146.5, 28.8, 26.0, 0.6, 85.6, 247.9, 146.4, 53.0, 269.1, 201.7, 388.8, 309.7, 102.8], \"xaxis\": \"x\", \"y\": [\"Bihor\", \"Bistrita-Nasaud\", \"Cluj\", \"Maramures\", \"Satu Mare\", \"Salaj\", \"Alba\", \"Brasov\", \"Covasna\", \"Harghita\", \"Mures\", \"Sibiu\", \"Bacau\", \"Botosani\", \"Iasi\", \"Neamt\", \"Suceava\", \"Vaslui\", \"Braila\", \"Buzau\", \"Constanta\", \"Galati\", \"Tulcea\", \"Vrancea\", \"Arges\", \"Calarasi\", \"Dambovita\", \"Giurgiu\", \"Ialomita\", \"Prahova\", \"Teleorman\", \"Ilfov\", \"Bucuresti\", \"Dolj\", \"Gorj\", \"Mehedinti\", \"Olt\", \"Valcea\", \"Arad\", \"Caras-Severin\", \"Hunedoara\", \"Timis\"], \"yaxis\": \"y\", \"type\": \"bar\"}], \"name\": \"2003\"}, {\"data\": [{\"alignmentgroup\": \"True\", \"hovertemplate\": \"Year=2004<br>Value=%{x}<br>Region=%{y}<extra></extra>\", \"legendgroup\": \"\", \"marker\": {\"color\": \"#636efa\"}, \"name\": \"\", \"offsetgroup\": \"\", \"orientation\": \"h\", \"showlegend\": false, \"textposition\": \"auto\", \"x\": [195.3, 190.3, 152.3, 262.7, 67.8, 95.5, 206.1, 190.1, 161.2, 234.9, 208.3, 186.4, 271.5, 56.0, 97.6, 259.0, 435.1, 71.6, 27.2, 158.0, 39.9, 37.0, 103.3, 185.8, 276.9, 21.2, 118.6, 38.0, 26.0, 146.5, 28.8, 26.0, 0.6, 85.6, 247.7, 146.6, 53.4, 270.3, 201.7, 388.9, 309.8, 102.7], \"xaxis\": \"x\", \"y\": [\"Bihor\", \"Bistrita-Nasaud\", \"Cluj\", \"Maramures\", \"Satu Mare\", \"Salaj\", \"Alba\", \"Brasov\", \"Covasna\", \"Harghita\", \"Mures\", \"Sibiu\", \"Bacau\", \"Botosani\", \"Iasi\", \"Neamt\", \"Suceava\", \"Vaslui\", \"Braila\", \"Buzau\", \"Constanta\", \"Galati\", \"Tulcea\", \"Vrancea\", \"Arges\", \"Calarasi\", \"Dambovita\", \"Giurgiu\", \"Ialomita\", \"Prahova\", \"Teleorman\", \"Ilfov\", \"Bucuresti\", \"Dolj\", \"Gorj\", \"Mehedinti\", \"Olt\", \"Valcea\", \"Arad\", \"Caras-Severin\", \"Hunedoara\", \"Timis\"], \"yaxis\": \"y\", \"type\": \"bar\"}], \"name\": \"2004\"}, {\"data\": [{\"alignmentgroup\": \"True\", \"hovertemplate\": \"Year=2005<br>Value=%{x}<br>Region=%{y}<extra></extra>\", \"legendgroup\": \"\", \"marker\": {\"color\": \"#636efa\"}, \"name\": \"\", \"offsetgroup\": \"\", \"orientation\": \"h\", \"showlegend\": false, \"textposition\": \"auto\", \"x\": [193.4, 192.7, 155.6, 263.3, 68.0, 95.2, 206.1, 190.2, 161.4, 237.4, 208.5, 186.8, 271.3, 56.1, 97.7, 261.3, 435.0, 71.9, 27.2, 158.3, 39.9, 36.9, 103.8, 184.5, 276.9, 21.3, 118.4, 38.1, 26.0, 147.7, 28.7, 26.0, 0.6, 85.7, 247.3, 146.9, 53.0, 268.8, 200.8, 389.1, 309.9, 102.9], \"xaxis\": \"x\", \"y\": [\"Bihor\", \"Bistrita-Nasaud\", \"Cluj\", \"Maramures\", \"Satu Mare\", \"Salaj\", \"Alba\", \"Brasov\", \"Covasna\", \"Harghita\", \"Mures\", \"Sibiu\", \"Bacau\", \"Botosani\", \"Iasi\", \"Neamt\", \"Suceava\", \"Vaslui\", \"Braila\", \"Buzau\", \"Constanta\", \"Galati\", \"Tulcea\", \"Vrancea\", \"Arges\", \"Calarasi\", \"Dambovita\", \"Giurgiu\", \"Ialomita\", \"Prahova\", \"Teleorman\", \"Ilfov\", \"Bucuresti\", \"Dolj\", \"Gorj\", \"Mehedinti\", \"Olt\", \"Valcea\", \"Arad\", \"Caras-Severin\", \"Hunedoara\", \"Timis\"], \"yaxis\": \"y\", \"type\": \"bar\"}], \"name\": \"2005\"}, {\"data\": [{\"alignmentgroup\": \"True\", \"hovertemplate\": \"Year=2006<br>Value=%{x}<br>Region=%{y}<extra></extra>\", \"legendgroup\": \"\", \"marker\": {\"color\": \"#636efa\"}, \"name\": \"\", \"offsetgroup\": \"\", \"orientation\": \"h\", \"showlegend\": false, \"textposition\": \"auto\", \"x\": [200.3, 191.8, 145.7, 260.0, 70.2, 95.9, 206.3, 197.7, 162.4, 265.4, 208.5, 186.5, 267.9, 56.3, 97.5, 258.5, 435.0, 73.9, 27.1, 152.0, 39.0, 36.3, 104.2, 184.2, 276.9, 21.9, 119.0, 38.0, 26.2, 147.3, 29.7, 26.0, 0.6, 86.4, 248.1, 146.9, 52.9, 267.0, 200.8, 403.4, 310.9, 103.1], \"xaxis\": \"x\", \"y\": [\"Bihor\", \"Bistrita-Nasaud\", \"Cluj\", \"Maramures\", \"Satu Mare\", \"Salaj\", \"Alba\", \"Brasov\", \"Covasna\", \"Harghita\", \"Mures\", \"Sibiu\", \"Bacau\", \"Botosani\", \"Iasi\", \"Neamt\", \"Suceava\", \"Vaslui\", \"Braila\", \"Buzau\", \"Constanta\", \"Galati\", \"Tulcea\", \"Vrancea\", \"Arges\", \"Calarasi\", \"Dambovita\", \"Giurgiu\", \"Ialomita\", \"Prahova\", \"Teleorman\", \"Ilfov\", \"Bucuresti\", \"Dolj\", \"Gorj\", \"Mehedinti\", \"Olt\", \"Valcea\", \"Arad\", \"Caras-Severin\", \"Hunedoara\", \"Timis\"], \"yaxis\": \"y\", \"type\": \"bar\"}], \"name\": \"2006\"}, {\"data\": [{\"alignmentgroup\": \"True\", \"hovertemplate\": \"Year=2007<br>Value=%{x}<br>Region=%{y}<extra></extra>\", \"legendgroup\": \"\", \"marker\": {\"color\": \"#636efa\"}, \"name\": \"\", \"offsetgroup\": \"\", \"orientation\": \"h\", \"showlegend\": false, \"textposition\": \"auto\", \"x\": [206.7, 192.1, 147.5, 255.3, 70.2, 95.9, 206.8, 202.9, 175.1, 272.8, 208.5, 198.4, 268.8, 56.4, 97.4, 258.4, 435.0, 72.4, 26.9, 159.5, 39.0, 37.1, 104.2, 185.2, 277.5, 21.9, 118.3, 38.1, 26.1, 146.5, 28.9, 25.9, 0.6, 86.2, 249.8, 147.8, 53.7, 267.4, 204.4, 403.6, 310.9, 104.5], \"xaxis\": \"x\", \"y\": [\"Bihor\", \"Bistrita-Nasaud\", \"Cluj\", \"Maramures\", \"Satu Mare\", \"Salaj\", \"Alba\", \"Brasov\", \"Covasna\", \"Harghita\", \"Mures\", \"Sibiu\", \"Bacau\", \"Botosani\", \"Iasi\", \"Neamt\", \"Suceava\", \"Vaslui\", \"Braila\", \"Buzau\", \"Constanta\", \"Galati\", \"Tulcea\", \"Vrancea\", \"Arges\", \"Calarasi\", \"Dambovita\", \"Giurgiu\", \"Ialomita\", \"Prahova\", \"Teleorman\", \"Ilfov\", \"Bucuresti\", \"Dolj\", \"Gorj\", \"Mehedinti\", \"Olt\", \"Valcea\", \"Arad\", \"Caras-Severin\", \"Hunedoara\", \"Timis\"], \"yaxis\": \"y\", \"type\": \"bar\"}], \"name\": \"2007\"}, {\"data\": [{\"alignmentgroup\": \"True\", \"hovertemplate\": \"Year=2008<br>Value=%{x}<br>Region=%{y}<extra></extra>\", \"legendgroup\": \"\", \"marker\": {\"color\": \"#636efa\"}, \"name\": \"\", \"offsetgroup\": \"\", \"orientation\": \"h\", \"showlegend\": false, \"textposition\": \"auto\", \"x\": [208.1, 190.9, 149.8, 260.0, 72.5, 95.9, 206.9, 202.9, 162.6, 264.8, 225.2, 190.0, 268.8, 56.4, 97.8, 259.0, 435.2, 64.0, 24.9, 159.6, 39.0, 37.7, 104.2, 181.7, 276.8, 21.9, 118.6, 38.2, 26.1, 146.7, 28.9, 25.9, 0.6, 86.5, 247.8, 148.0, 54.4, 267.4, 205.1, 403.0, 311.0, 105.1], \"xaxis\": \"x\", \"y\": [\"Bihor\", \"Bistrita-Nasaud\", \"Cluj\", \"Maramures\", \"Satu Mare\", \"Salaj\", \"Alba\", \"Brasov\", \"Covasna\", \"Harghita\", \"Mures\", \"Sibiu\", \"Bacau\", \"Botosani\", \"Iasi\", \"Neamt\", \"Suceava\", \"Vaslui\", \"Braila\", \"Buzau\", \"Constanta\", \"Galati\", \"Tulcea\", \"Vrancea\", \"Arges\", \"Calarasi\", \"Dambovita\", \"Giurgiu\", \"Ialomita\", \"Prahova\", \"Teleorman\", \"Ilfov\", \"Bucuresti\", \"Dolj\", \"Gorj\", \"Mehedinti\", \"Olt\", \"Valcea\", \"Arad\", \"Caras-Severin\", \"Hunedoara\", \"Timis\"], \"yaxis\": \"y\", \"type\": \"bar\"}], \"name\": \"2008\"}, {\"data\": [{\"alignmentgroup\": \"True\", \"hovertemplate\": \"Year=2009<br>Value=%{x}<br>Region=%{y}<extra></extra>\", \"legendgroup\": \"\", \"marker\": {\"color\": \"#636efa\"}, \"name\": \"\", \"offsetgroup\": \"\", \"orientation\": \"h\", \"showlegend\": false, \"textposition\": \"auto\", \"x\": [209.2, 192.3, 149.5, 259.8, 72.6, 95.9, 206.4, 204.3, 168.7, 264.1, 219.4, 194.4, 269.1, 56.4, 97.6, 258.9, 435.3, 72.5, 27.3, 158.2, 38.9, 37.7, 104.5, 185.2, 276.8, 22.0, 117.9, 38.9, 26.0, 146.5, 28.9, 25.7, 0.6, 86.4, 247.8, 148.0, 53.6, 270.3, 207.7, 403.3, 311.6, 104.5], \"xaxis\": \"x\", \"y\": [\"Bihor\", \"Bistrita-Nasaud\", \"Cluj\", \"Maramures\", \"Satu Mare\", \"Salaj\", \"Alba\", \"Brasov\", \"Covasna\", \"Harghita\", \"Mures\", \"Sibiu\", \"Bacau\", \"Botosani\", \"Iasi\", \"Neamt\", \"Suceava\", \"Vaslui\", \"Braila\", \"Buzau\", \"Constanta\", \"Galati\", \"Tulcea\", \"Vrancea\", \"Arges\", \"Calarasi\", \"Dambovita\", \"Giurgiu\", \"Ialomita\", \"Prahova\", \"Teleorman\", \"Ilfov\", \"Bucuresti\", \"Dolj\", \"Gorj\", \"Mehedinti\", \"Olt\", \"Valcea\", \"Arad\", \"Caras-Severin\", \"Hunedoara\", \"Timis\"], \"yaxis\": \"y\", \"type\": \"bar\"}], \"name\": \"2009\"}, {\"data\": [{\"alignmentgroup\": \"True\", \"hovertemplate\": \"Year=2010<br>Value=%{x}<br>Region=%{y}<extra></extra>\", \"legendgroup\": \"\", \"marker\": {\"color\": \"#636efa\"}, \"name\": \"\", \"offsetgroup\": \"\", \"orientation\": \"h\", \"showlegend\": false, \"textposition\": \"auto\", \"x\": [209.2, 192.4, 157.7, 258.9, 72.5, 95.9, 206.3, 204.3, 167.2, 262.3, 219.6, 195.9, 269.9, 56.4, 97.6, 259.0, 435.3, 72.5, 27.2, 158.5, 39.0, 37.7, 104.6, 185.2, 277.0, 21.9, 119.2, 37.8, 26.0, 147.3, 29.9, 25.8, 0.6, 86.5, 248.0, 148.0, 53.6, 270.4, 210.4, 409.7, 313.1, 104.8], \"xaxis\": \"x\", \"y\": [\"Bihor\", \"Bistrita-Nasaud\", \"Cluj\", \"Maramures\", \"Satu Mare\", \"Salaj\", \"Alba\", \"Brasov\", \"Covasna\", \"Harghita\", \"Mures\", \"Sibiu\", \"Bacau\", \"Botosani\", \"Iasi\", \"Neamt\", \"Suceava\", \"Vaslui\", \"Braila\", \"Buzau\", \"Constanta\", \"Galati\", \"Tulcea\", \"Vrancea\", \"Arges\", \"Calarasi\", \"Dambovita\", \"Giurgiu\", \"Ialomita\", \"Prahova\", \"Teleorman\", \"Ilfov\", \"Bucuresti\", \"Dolj\", \"Gorj\", \"Mehedinti\", \"Olt\", \"Valcea\", \"Arad\", \"Caras-Severin\", \"Hunedoara\", \"Timis\"], \"yaxis\": \"y\", \"type\": \"bar\"}], \"name\": \"2010\"}, {\"data\": [{\"alignmentgroup\": \"True\", \"hovertemplate\": \"Year=2011<br>Value=%{x}<br>Region=%{y}<extra></extra>\", \"legendgroup\": \"\", \"marker\": {\"color\": \"#636efa\"}, \"name\": \"\", \"offsetgroup\": \"\", \"orientation\": \"h\", \"showlegend\": false, \"textposition\": \"auto\", \"x\": [209.2, 192.3, 159.9, 258.6, 72.6, 95.9, 206.6, 204.4, 170.2, 262.4, 219.7, 196.3, 270.2, 56.4, 97.7, 259.0, 436.1, 72.6, 27.2, 159.6, 39.0, 37.6, 104.6, 180.7, 276.8, 21.9, 119.6, 38.1, 26.1, 147.3, 28.8, 25.8, 0.6, 86.9, 248.1, 148.1, 54.0, 270.4, 211.5, 410.4, 313.7, 104.9], \"xaxis\": \"x\", \"y\": [\"Bihor\", \"Bistrita-Nasaud\", \"Cluj\", \"Maramures\", \"Satu Mare\", \"Salaj\", \"Alba\", \"Brasov\", \"Covasna\", \"Harghita\", \"Mures\", \"Sibiu\", \"Bacau\", \"Botosani\", \"Iasi\", \"Neamt\", \"Suceava\", \"Vaslui\", \"Braila\", \"Buzau\", \"Constanta\", \"Galati\", \"Tulcea\", \"Vrancea\", \"Arges\", \"Calarasi\", \"Dambovita\", \"Giurgiu\", \"Ialomita\", \"Prahova\", \"Teleorman\", \"Ilfov\", \"Bucuresti\", \"Dolj\", \"Gorj\", \"Mehedinti\", \"Olt\", \"Valcea\", \"Arad\", \"Caras-Severin\", \"Hunedoara\", \"Timis\"], \"yaxis\": \"y\", \"type\": \"bar\"}], \"name\": \"2011\"}, {\"data\": [{\"alignmentgroup\": \"True\", \"hovertemplate\": \"Year=2012<br>Value=%{x}<br>Region=%{y}<extra></extra>\", \"legendgroup\": \"\", \"marker\": {\"color\": \"#636efa\"}, \"name\": \"\", \"offsetgroup\": \"\", \"orientation\": \"h\", \"showlegend\": false, \"textposition\": \"auto\", \"x\": [209.2, 192.4, 160.7, 259.0, 72.6, 95.8, 206.1, 204.7, 170.2, 262.4, 219.8, 196.7, 270.2, 56.4, 97.6, 259.3, 436.4, 72.5, 27.9, 160.8, 38.9, 37.7, 104.6, 181.5, 276.8, 22.1, 119.2, 38.8, 26.3, 146.5, 29.0, 25.8, 0.6, 86.9, 248.1, 148.5, 54.0, 271.0, 211.5, 410.9, 314.5, 105.2], \"xaxis\": \"x\", \"y\": [\"Bihor\", \"Bistrita-Nasaud\", \"Cluj\", \"Maramures\", \"Satu Mare\", \"Salaj\", \"Alba\", \"Brasov\", \"Covasna\", \"Harghita\", \"Mures\", \"Sibiu\", \"Bacau\", \"Botosani\", \"Iasi\", \"Neamt\", \"Suceava\", \"Vaslui\", \"Braila\", \"Buzau\", \"Constanta\", \"Galati\", \"Tulcea\", \"Vrancea\", \"Arges\", \"Calarasi\", \"Dambovita\", \"Giurgiu\", \"Ialomita\", \"Prahova\", \"Teleorman\", \"Ilfov\", \"Bucuresti\", \"Dolj\", \"Gorj\", \"Mehedinti\", \"Olt\", \"Valcea\", \"Arad\", \"Caras-Severin\", \"Hunedoara\", \"Timis\"], \"yaxis\": \"y\", \"type\": \"bar\"}], \"name\": \"2012\"}, {\"data\": [{\"alignmentgroup\": \"True\", \"hovertemplate\": \"Year=2013<br>Value=%{x}<br>Region=%{y}<extra></extra>\", \"legendgroup\": \"\", \"marker\": {\"color\": \"#636efa\"}, \"name\": \"\", \"offsetgroup\": \"\", \"orientation\": \"h\", \"showlegend\": false, \"textposition\": \"auto\", \"x\": [209.2, 192.5, 161.3, 259.1, 72.6, 95.9, 206.2, 205.0, 171.3, 264.1, 219.7, 197.7, 270.2, 56.5, 97.7, 259.2, 436.7, 72.2, 27.9, 160.4, 38.9, 37.1, 104.6, 179.2, 276.8, 22.1, 119.2, 38.8, 26.2, 146.5, 28.9, 26.0, 0.6, 88.8, 248.1, 148.5, 54.1, 271.0, 211.5, 415.7, 315.2, 105.3], \"xaxis\": \"x\", \"y\": [\"Bihor\", \"Bistrita-Nasaud\", \"Cluj\", \"Maramures\", \"Satu Mare\", \"Salaj\", \"Alba\", \"Brasov\", \"Covasna\", \"Harghita\", \"Mures\", \"Sibiu\", \"Bacau\", \"Botosani\", \"Iasi\", \"Neamt\", \"Suceava\", \"Vaslui\", \"Braila\", \"Buzau\", \"Constanta\", \"Galati\", \"Tulcea\", \"Vrancea\", \"Arges\", \"Calarasi\", \"Dambovita\", \"Giurgiu\", \"Ialomita\", \"Prahova\", \"Teleorman\", \"Ilfov\", \"Bucuresti\", \"Dolj\", \"Gorj\", \"Mehedinti\", \"Olt\", \"Valcea\", \"Arad\", \"Caras-Severin\", \"Hunedoara\", \"Timis\"], \"yaxis\": \"y\", \"type\": \"bar\"}], \"name\": \"2013\"}, {\"data\": [{\"alignmentgroup\": \"True\", \"hovertemplate\": \"Year=2014<br>Value=%{x}<br>Region=%{y}<extra></extra>\", \"legendgroup\": \"\", \"marker\": {\"color\": \"#636efa\"}, \"name\": \"\", \"offsetgroup\": \"\", \"orientation\": \"h\", \"showlegend\": false, \"textposition\": \"auto\", \"x\": [209.3, 192.5, 161.3, 259.3, 72.6, 95.9, 206.5, 205.0, 171.3, 264.1, 219.8, 198.5, 270.2, 56.8, 97.6, 260.1, 437.1, 72.3, 27.9, 160.1, 39.0, 37.2, 104.8, 179.3, 276.8, 22.0, 119.2, 38.8, 26.2, 146.5, 29.1, 26.0, 0.6, 88.9, 248.4, 148.5, 54.1, 271.4, 211.5, 416.2, 316.6, 105.3], \"xaxis\": \"x\", \"y\": [\"Bihor\", \"Bistrita-Nasaud\", \"Cluj\", \"Maramures\", \"Satu Mare\", \"Salaj\", \"Alba\", \"Brasov\", \"Covasna\", \"Harghita\", \"Mures\", \"Sibiu\", \"Bacau\", \"Botosani\", \"Iasi\", \"Neamt\", \"Suceava\", \"Vaslui\", \"Braila\", \"Buzau\", \"Constanta\", \"Galati\", \"Tulcea\", \"Vrancea\", \"Arges\", \"Calarasi\", \"Dambovita\", \"Giurgiu\", \"Ialomita\", \"Prahova\", \"Teleorman\", \"Ilfov\", \"Bucuresti\", \"Dolj\", \"Gorj\", \"Mehedinti\", \"Olt\", \"Valcea\", \"Arad\", \"Caras-Severin\", \"Hunedoara\", \"Timis\"], \"yaxis\": \"y\", \"type\": \"bar\"}], \"name\": \"2014\"}, {\"data\": [{\"alignmentgroup\": \"True\", \"hovertemplate\": \"Year=2015<br>Value=%{x}<br>Region=%{y}<extra></extra>\", \"legendgroup\": \"\", \"marker\": {\"color\": \"#636efa\"}, \"name\": \"\", \"offsetgroup\": \"\", \"orientation\": \"h\", \"showlegend\": false, \"textposition\": \"auto\", \"x\": [209.3, 192.5, 162.7, 259.6, 72.6, 95.9, 203.7, 205.2, 171.4, 264.1, 220.1, 198.9, 269.9, 57.0, 97.8, 261.8, 437.5, 72.4, 28.0, 160.2, 39.1, 37.2, 104.9, 181.2, 276.8, 22.0, 119.2, 38.9, 26.2, 146.5, 29.0, 26.0, 0.6, 89.0, 249.2, 149.1, 54.1, 271.4, 211.5, 420.4, 317.0, 105.2], \"xaxis\": \"x\", \"y\": [\"Bihor\", \"Bistrita-Nasaud\", \"Cluj\", \"Maramures\", \"Satu Mare\", \"Salaj\", \"Alba\", \"Brasov\", \"Covasna\", \"Harghita\", \"Mures\", \"Sibiu\", \"Bacau\", \"Botosani\", \"Iasi\", \"Neamt\", \"Suceava\", \"Vaslui\", \"Braila\", \"Buzau\", \"Constanta\", \"Galati\", \"Tulcea\", \"Vrancea\", \"Arges\", \"Calarasi\", \"Dambovita\", \"Giurgiu\", \"Ialomita\", \"Prahova\", \"Teleorman\", \"Ilfov\", \"Bucuresti\", \"Dolj\", \"Gorj\", \"Mehedinti\", \"Olt\", \"Valcea\", \"Arad\", \"Caras-Severin\", \"Hunedoara\", \"Timis\"], \"yaxis\": \"y\", \"type\": \"bar\"}], \"name\": \"2015\"}, {\"data\": [{\"alignmentgroup\": \"True\", \"hovertemplate\": \"Year=2016<br>Value=%{x}<br>Region=%{y}<extra></extra>\", \"legendgroup\": \"\", \"marker\": {\"color\": \"#636efa\"}, \"name\": \"\", \"offsetgroup\": \"\", \"orientation\": \"h\", \"showlegend\": false, \"textposition\": \"auto\", \"x\": [209.3, 192.5, 164.1, 259.6, 72.5, 95.9, 203.9, 205.2, 171.5, 264.1, 220.1, 198.9, 270.2, 57.0, 97.8, 262.0, 437.8, 72.6, 28.0, 160.5, 39.2, 37.2, 105.0, 181.1, 276.8, 22.0, 119.2, 38.9, 26.2, 146.6, 29.0, 26.0, 0.6, 89.0, 249.3, 149.1, 54.1, 271.4, 211.5, 421.0, 317.1, 105.2], \"xaxis\": \"x\", \"y\": [\"Bihor\", \"Bistrita-Nasaud\", \"Cluj\", \"Maramures\", \"Satu Mare\", \"Salaj\", \"Alba\", \"Brasov\", \"Covasna\", \"Harghita\", \"Mures\", \"Sibiu\", \"Bacau\", \"Botosani\", \"Iasi\", \"Neamt\", \"Suceava\", \"Vaslui\", \"Braila\", \"Buzau\", \"Constanta\", \"Galati\", \"Tulcea\", \"Vrancea\", \"Arges\", \"Calarasi\", \"Dambovita\", \"Giurgiu\", \"Ialomita\", \"Prahova\", \"Teleorman\", \"Ilfov\", \"Bucuresti\", \"Dolj\", \"Gorj\", \"Mehedinti\", \"Olt\", \"Valcea\", \"Arad\", \"Caras-Severin\", \"Hunedoara\", \"Timis\"], \"yaxis\": \"y\", \"type\": \"bar\"}], \"name\": \"2016\"}, {\"data\": [{\"alignmentgroup\": \"True\", \"hovertemplate\": \"Year=2017<br>Value=%{x}<br>Region=%{y}<extra></extra>\", \"legendgroup\": \"\", \"marker\": {\"color\": \"#636efa\"}, \"name\": \"\", \"offsetgroup\": \"\", \"orientation\": \"h\", \"showlegend\": false, \"textposition\": \"auto\", \"x\": [209.4, 192.4, 164.6, 259.8, 72.5, 95.9, 204.3, 205.1, 171.4, 264.1, 220.1, 200.1, 270.4, 57.0, 97.9, 262.2, 437.8, 72.8, 28.1, 160.5, 39.4, 37.1, 104.9, 181.3, 277.3, 22.4, 119.2, 38.7, 26.1, 146.5, 29.1, 26.0, 0.6, 88.4, 249.7, 149.8, 54.1, 271.6, 211.5, 421.3, 317.5, 106.0], \"xaxis\": \"x\", \"y\": [\"Bihor\", \"Bistrita-Nasaud\", \"Cluj\", \"Maramures\", \"Satu Mare\", \"Salaj\", \"Alba\", \"Brasov\", \"Covasna\", \"Harghita\", \"Mures\", \"Sibiu\", \"Bacau\", \"Botosani\", \"Iasi\", \"Neamt\", \"Suceava\", \"Vaslui\", \"Braila\", \"Buzau\", \"Constanta\", \"Galati\", \"Tulcea\", \"Vrancea\", \"Arges\", \"Calarasi\", \"Dambovita\", \"Giurgiu\", \"Ialomita\", \"Prahova\", \"Teleorman\", \"Ilfov\", \"Bucuresti\", \"Dolj\", \"Gorj\", \"Mehedinti\", \"Olt\", \"Valcea\", \"Arad\", \"Caras-Severin\", \"Hunedoara\", \"Timis\"], \"yaxis\": \"y\", \"type\": \"bar\"}], \"name\": \"2017\"}, {\"data\": [{\"alignmentgroup\": \"True\", \"hovertemplate\": \"Year=2018<br>Value=%{x}<br>Region=%{y}<extra></extra>\", \"legendgroup\": \"\", \"marker\": {\"color\": \"#636efa\"}, \"name\": \"\", \"offsetgroup\": \"\", \"orientation\": \"h\", \"showlegend\": false, \"textposition\": \"auto\", \"x\": [211.2, 192.6, 168.1, 260.0, 72.6, 95.9, 206.8, 205.2, 171.4, 264.1, 220.0, 201.6, 271.7, 57.0, 98.0, 262.4, 437.8, 73.0, 28.1, 160.8, 39.4, 37.2, 105.0, 181.3, 276.7, 22.3, 119.2, 38.8, 26.1, 146.5, 29.0, 26.0, 0.6, 88.5, 249.7, 149.9, 54.1, 271.7, 211.7, 427.7, 317.5, 105.9], \"xaxis\": \"x\", \"y\": [\"Bihor\", \"Bistrita-Nasaud\", \"Cluj\", \"Maramures\", \"Satu Mare\", \"Salaj\", \"Alba\", \"Brasov\", \"Covasna\", \"Harghita\", \"Mures\", \"Sibiu\", \"Bacau\", \"Botosani\", \"Iasi\", \"Neamt\", \"Suceava\", \"Vaslui\", \"Braila\", \"Buzau\", \"Constanta\", \"Galati\", \"Tulcea\", \"Vrancea\", \"Arges\", \"Calarasi\", \"Dambovita\", \"Giurgiu\", \"Ialomita\", \"Prahova\", \"Teleorman\", \"Ilfov\", \"Bucuresti\", \"Dolj\", \"Gorj\", \"Mehedinti\", \"Olt\", \"Valcea\", \"Arad\", \"Caras-Severin\", \"Hunedoara\", \"Timis\"], \"yaxis\": \"y\", \"type\": \"bar\"}], \"name\": \"2018\"}, {\"data\": [{\"alignmentgroup\": \"True\", \"hovertemplate\": \"Year=2019<br>Value=%{x}<br>Region=%{y}<extra></extra>\", \"legendgroup\": \"\", \"marker\": {\"color\": \"#636efa\"}, \"name\": \"\", \"offsetgroup\": \"\", \"orientation\": \"h\", \"showlegend\": false, \"textposition\": \"auto\", \"x\": [211.2, 192.6, 169.6, 260.0, 72.6, 95.9, 206.9, 205.2, 171.4, 264.1, 220.7, 201.9, 272.2, 57.0, 98.0, 262.5, 437.9, 72.7, 28.1, 160.8, 39.5, 37.1, 105.0, 183.0, 276.6, 22.3, 119.0, 38.9, 26.1, 146.5, 29.3, 26.1, 0.6, 88.5, 249.5, 149.4, 54.1, 272.3, 211.7, 430.8, 317.5, 107.1], \"xaxis\": \"x\", \"y\": [\"Bihor\", \"Bistrita-Nasaud\", \"Cluj\", \"Maramures\", \"Satu Mare\", \"Salaj\", \"Alba\", \"Brasov\", \"Covasna\", \"Harghita\", \"Mures\", \"Sibiu\", \"Bacau\", \"Botosani\", \"Iasi\", \"Neamt\", \"Suceava\", \"Vaslui\", \"Braila\", \"Buzau\", \"Constanta\", \"Galati\", \"Tulcea\", \"Vrancea\", \"Arges\", \"Calarasi\", \"Dambovita\", \"Giurgiu\", \"Ialomita\", \"Prahova\", \"Teleorman\", \"Ilfov\", \"Bucuresti\", \"Dolj\", \"Gorj\", \"Mehedinti\", \"Olt\", \"Valcea\", \"Arad\", \"Caras-Severin\", \"Hunedoara\", \"Timis\"], \"yaxis\": \"y\", \"type\": \"bar\"}], \"name\": \"2019\"}]);\n",
       "                        }).then(function(){\n",
       "                            \n",
       "var gd = document.getElementById('7b23da6f-af74-44af-a173-93e763355862');\n",
       "var x = new MutationObserver(function (mutations, observer) {{\n",
       "        var display = window.getComputedStyle(gd).display;\n",
       "        if (!display || display === 'none') {{\n",
       "            console.log([gd, 'removed!']);\n",
       "            Plotly.purge(gd);\n",
       "            observer.disconnect();\n",
       "        }}\n",
       "}});\n",
       "\n",
       "// Listen for the removal of the full notebook cells\n",
       "var notebookContainer = gd.closest('#notebook-container');\n",
       "if (notebookContainer) {{\n",
       "    x.observe(notebookContainer, {childList: true});\n",
       "}}\n",
       "\n",
       "// Listen for the clearing of the current output cell\n",
       "var outputEl = gd.closest('.output');\n",
       "if (outputEl) {{\n",
       "    x.observe(outputEl, {childList: true});\n",
       "}}\n",
       "\n",
       "                        })                };                });            </script>        </div>"
      ]
     },
     "metadata": {},
     "output_type": "display_data"
    }
   ],
   "source": [
    "selection_df = data_county_df.loc[data_county_df.Category==\"Total\"]\n",
    "min_value = selection_df.Value.min()\n",
    "max_value = selection_df.Value.max()\n",
    "import plotly.express as px\n",
    "fig = px.bar(selection_df, x=\"Value\", y=\"Region\", animation_frame='Year', orientation='h',\n",
    "             range_color =[min_value,max_value],\n",
    "             width=600, height=800, range_x = [min_value,max_value],\n",
    "            title='Surface evolution/county 1990-2019 - Total')\n",
    "fig.update_layout(font=dict(family=\"Courier New, monospace\",size=10,color=\"#7f7f7f\"))\n",
    "fig.show()"
   ]
  },
  {
   "cell_type": "code",
   "execution_count": 11,
   "metadata": {
    "_kg_hide-input": true,
    "execution": {
     "iopub.execute_input": "2020-10-18T22:36:55.619787Z",
     "iopub.status.busy": "2020-10-18T22:36:55.618506Z",
     "iopub.status.idle": "2020-10-18T22:36:55.873808Z",
     "shell.execute_reply": "2020-10-18T22:36:55.874511Z"
    },
    "papermill": {
     "duration": 0.330632,
     "end_time": "2020-10-18T22:36:55.874678",
     "exception": false,
     "start_time": "2020-10-18T22:36:55.544046",
     "status": "completed"
    },
    "tags": []
   },
   "outputs": [
    {
     "data": {
      "application/vnd.plotly.v1+json": {
       "config": {
        "plotlyServerURL": "https://plot.ly"
       },
       "data": [
        {
         "alignmentgroup": "True",
         "hovertemplate": "Year=1990<br>Value=%{x}<br>Region=%{y}<extra></extra>",
         "legendgroup": "",
         "marker": {
          "color": "#636efa"
         },
         "name": "",
         "offsetgroup": "",
         "orientation": "h",
         "showlegend": false,
         "textposition": "auto",
         "type": "bar",
         "x": [
          158.2,
          98.4,
          92.3,
          157.3,
          63.2,
          87.7,
          134.3,
          122.0,
          95.2,
          58.7,
          126.6,
          114.5,
          167.7,
          53.6,
          91.1,
          111.4,
          94.1,
          68.6,
          20.5,
          109.6,
          30.4,
          34.6,
          91.7,
          121.7,
          193.4,
          20.3,
          100.9,
          38.1,
          24.8,
          113.4,
          26.2,
          25.3,
          77.4,
          218.8,
          133.4,
          50.9,
          185.9,
          182.3,
          323.9,
          213.0,
          92.1
         ],
         "xaxis": "x",
         "y": [
          "Bihor",
          "Bistrita-Nasaud",
          "Cluj",
          "Maramures",
          "Satu Mare",
          "Salaj",
          "Alba",
          "Brasov",
          "Covasna",
          "Harghita",
          "Mures",
          "Sibiu",
          "Bacau",
          "Botosani",
          "Iasi",
          "Neamt",
          "Suceava",
          "Vaslui",
          "Braila",
          "Buzau",
          "Constanta",
          "Galati",
          "Tulcea",
          "Vrancea",
          "Arges",
          "Calarasi",
          "Dambovita",
          "Giurgiu",
          "Ialomita",
          "Prahova",
          "Teleorman",
          "Ilfov",
          "Dolj",
          "Gorj",
          "Mehedinti",
          "Olt",
          "Valcea",
          "Arad",
          "Caras-Severin",
          "Hunedoara",
          "Timis"
         ],
         "yaxis": "y"
        }
       ],
       "frames": [
        {
         "data": [
          {
           "alignmentgroup": "True",
           "hovertemplate": "Year=1990<br>Value=%{x}<br>Region=%{y}<extra></extra>",
           "legendgroup": "",
           "marker": {
            "color": "#636efa"
           },
           "name": "",
           "offsetgroup": "",
           "orientation": "h",
           "showlegend": false,
           "textposition": "auto",
           "type": "bar",
           "x": [
            158.2,
            98.4,
            92.3,
            157.3,
            63.2,
            87.7,
            134.3,
            122.0,
            95.2,
            58.7,
            126.6,
            114.5,
            167.7,
            53.6,
            91.1,
            111.4,
            94.1,
            68.6,
            20.5,
            109.6,
            30.4,
            34.6,
            91.7,
            121.7,
            193.4,
            20.3,
            100.9,
            38.1,
            24.8,
            113.4,
            26.2,
            25.3,
            77.4,
            218.8,
            133.4,
            50.9,
            185.9,
            182.3,
            323.9,
            213.0,
            92.1
           ],
           "xaxis": "x",
           "y": [
            "Bihor",
            "Bistrita-Nasaud",
            "Cluj",
            "Maramures",
            "Satu Mare",
            "Salaj",
            "Alba",
            "Brasov",
            "Covasna",
            "Harghita",
            "Mures",
            "Sibiu",
            "Bacau",
            "Botosani",
            "Iasi",
            "Neamt",
            "Suceava",
            "Vaslui",
            "Braila",
            "Buzau",
            "Constanta",
            "Galati",
            "Tulcea",
            "Vrancea",
            "Arges",
            "Calarasi",
            "Dambovita",
            "Giurgiu",
            "Ialomita",
            "Prahova",
            "Teleorman",
            "Ilfov",
            "Dolj",
            "Gorj",
            "Mehedinti",
            "Olt",
            "Valcea",
            "Arad",
            "Caras-Severin",
            "Hunedoara",
            "Timis"
           ],
           "yaxis": "y"
          }
         ],
         "name": "1990"
        },
        {
         "data": [
          {
           "alignmentgroup": "True",
           "hovertemplate": "Year=1991<br>Value=%{x}<br>Region=%{y}<extra></extra>",
           "legendgroup": "",
           "marker": {
            "color": "#636efa"
           },
           "name": "",
           "offsetgroup": "",
           "orientation": "h",
           "showlegend": false,
           "textposition": "auto",
           "type": "bar",
           "x": [
            158.1,
            98.5,
            92.7,
            157.2,
            63.2,
            88.0,
            134.0,
            122.1,
            95.2,
            58.4,
            127.1,
            114.5,
            167.6,
            53.7,
            91.3,
            112.4,
            94.5,
            68.5,
            20.4,
            109.4,
            28.9,
            34.8,
            92.4,
            121.4,
            193.3,
            20.4,
            100.8,
            44.2,
            24.8,
            113.2,
            26.5,
            19.2,
            77.7,
            218.6,
            133.5,
            50.7,
            185.3,
            182.3,
            323.7,
            212.9,
            92.1
           ],
           "xaxis": "x",
           "y": [
            "Bihor",
            "Bistrita-Nasaud",
            "Cluj",
            "Maramures",
            "Satu Mare",
            "Salaj",
            "Alba",
            "Brasov",
            "Covasna",
            "Harghita",
            "Mures",
            "Sibiu",
            "Bacau",
            "Botosani",
            "Iasi",
            "Neamt",
            "Suceava",
            "Vaslui",
            "Braila",
            "Buzau",
            "Constanta",
            "Galati",
            "Tulcea",
            "Vrancea",
            "Arges",
            "Calarasi",
            "Dambovita",
            "Giurgiu",
            "Ialomita",
            "Prahova",
            "Teleorman",
            "Ilfov",
            "Dolj",
            "Gorj",
            "Mehedinti",
            "Olt",
            "Valcea",
            "Arad",
            "Caras-Severin",
            "Hunedoara",
            "Timis"
           ],
           "yaxis": "y"
          }
         ],
         "name": "1991"
        },
        {
         "data": [
          {
           "alignmentgroup": "True",
           "hovertemplate": "Year=1992<br>Value=%{x}<br>Region=%{y}<extra></extra>",
           "legendgroup": "",
           "marker": {
            "color": "#636efa"
           },
           "name": "",
           "offsetgroup": "",
           "orientation": "h",
           "showlegend": false,
           "textposition": "auto",
           "type": "bar",
           "x": [
            158.1,
            98.5,
            93.4,
            158.3,
            63.1,
            88.3,
            133.7,
            122.5,
            95.1,
            58.7,
            127.3,
            115.1,
            177.2,
            53.5,
            90.9,
            102.2,
            94.4,
            68.4,
            20.3,
            110.3,
            28.9,
            34.7,
            92.5,
            122.1,
            193.5,
            20.5,
            101.0,
            37.8,
            24.7,
            113.1,
            26.2,
            25.3,
            77.1,
            219.6,
            133.9,
            50.5,
            185.1,
            182.4,
            323.8,
            213.0,
            92.5
           ],
           "xaxis": "x",
           "y": [
            "Bihor",
            "Bistrita-Nasaud",
            "Cluj",
            "Maramures",
            "Satu Mare",
            "Salaj",
            "Alba",
            "Brasov",
            "Covasna",
            "Harghita",
            "Mures",
            "Sibiu",
            "Bacau",
            "Botosani",
            "Iasi",
            "Neamt",
            "Suceava",
            "Vaslui",
            "Braila",
            "Buzau",
            "Constanta",
            "Galati",
            "Tulcea",
            "Vrancea",
            "Arges",
            "Calarasi",
            "Dambovita",
            "Giurgiu",
            "Ialomita",
            "Prahova",
            "Teleorman",
            "Ilfov",
            "Dolj",
            "Gorj",
            "Mehedinti",
            "Olt",
            "Valcea",
            "Arad",
            "Caras-Severin",
            "Hunedoara",
            "Timis"
           ],
           "yaxis": "y"
          }
         ],
         "name": "1992"
        },
        {
         "data": [
          {
           "alignmentgroup": "True",
           "hovertemplate": "Year=1993<br>Value=%{x}<br>Region=%{y}<extra></extra>",
           "legendgroup": "",
           "marker": {
            "color": "#636efa"
           },
           "name": "",
           "offsetgroup": "",
           "orientation": "h",
           "showlegend": false,
           "textposition": "auto",
           "type": "bar",
           "x": [
            155.7,
            98.6,
            93.3,
            158.2,
            63.3,
            88.3,
            133.6,
            123.2,
            95.1,
            58.3,
            127.6,
            115.0,
            167.8,
            53.4,
            91.1,
            111.8,
            94.6,
            68.5,
            19.7,
            110.5,
            28.0,
            34.8,
            92.2,
            120.5,
            193.2,
            20.0,
            101.1,
            37.5,
            24.5,
            112.9,
            25.2,
            24.8,
            76.7,
            223.4,
            135.4,
            50.4,
            186.8,
            184.7,
            326.5,
            214.8,
            92.5
           ],
           "xaxis": "x",
           "y": [
            "Bihor",
            "Bistrita-Nasaud",
            "Cluj",
            "Maramures",
            "Satu Mare",
            "Salaj",
            "Alba",
            "Brasov",
            "Covasna",
            "Harghita",
            "Mures",
            "Sibiu",
            "Bacau",
            "Botosani",
            "Iasi",
            "Neamt",
            "Suceava",
            "Vaslui",
            "Braila",
            "Buzau",
            "Constanta",
            "Galati",
            "Tulcea",
            "Vrancea",
            "Arges",
            "Calarasi",
            "Dambovita",
            "Giurgiu",
            "Ialomita",
            "Prahova",
            "Teleorman",
            "Ilfov",
            "Dolj",
            "Gorj",
            "Mehedinti",
            "Olt",
            "Valcea",
            "Arad",
            "Caras-Severin",
            "Hunedoara",
            "Timis"
           ],
           "yaxis": "y"
          }
         ],
         "name": "1993"
        },
        {
         "data": [
          {
           "alignmentgroup": "True",
           "hovertemplate": "Year=1994<br>Value=%{x}<br>Region=%{y}<extra></extra>",
           "legendgroup": "",
           "marker": {
            "color": "#636efa"
           },
           "name": "",
           "offsetgroup": "",
           "orientation": "h",
           "showlegend": false,
           "textposition": "auto",
           "type": "bar",
           "x": [
            158.3,
            98.0,
            93.4,
            158.7,
            60.7,
            88.2,
            134.0,
            122.8,
            95.1,
            57.2,
            128.1,
            115.1,
            167.2,
            53.4,
            91.5,
            112.3,
            94.6,
            68.6,
            19.7,
            111.4,
            28.2,
            34.9,
            92.5,
            121.2,
            195.1,
            19.5,
            100.3,
            35.8,
            24.2,
            111.1,
            27.1,
            25.0,
            77.0,
            224.7,
            135.4,
            49.5,
            186.8,
            182.6,
            326.0,
            214.7,
            92.8
           ],
           "xaxis": "x",
           "y": [
            "Bihor",
            "Bistrita-Nasaud",
            "Cluj",
            "Maramures",
            "Satu Mare",
            "Salaj",
            "Alba",
            "Brasov",
            "Covasna",
            "Harghita",
            "Mures",
            "Sibiu",
            "Bacau",
            "Botosani",
            "Iasi",
            "Neamt",
            "Suceava",
            "Vaslui",
            "Braila",
            "Buzau",
            "Constanta",
            "Galati",
            "Tulcea",
            "Vrancea",
            "Arges",
            "Calarasi",
            "Dambovita",
            "Giurgiu",
            "Ialomita",
            "Prahova",
            "Teleorman",
            "Ilfov",
            "Dolj",
            "Gorj",
            "Mehedinti",
            "Olt",
            "Valcea",
            "Arad",
            "Caras-Severin",
            "Hunedoara",
            "Timis"
           ],
           "yaxis": "y"
          }
         ],
         "name": "1994"
        },
        {
         "data": [
          {
           "alignmentgroup": "True",
           "hovertemplate": "Year=1995<br>Value=%{x}<br>Region=%{y}<extra></extra>",
           "legendgroup": "",
           "marker": {
            "color": "#636efa"
           },
           "name": "",
           "offsetgroup": "",
           "orientation": "h",
           "showlegend": false,
           "textposition": "auto",
           "type": "bar",
           "x": [
            158.6,
            98.2,
            93.2,
            158.7,
            60.9,
            88.5,
            134.2,
            122.7,
            95.8,
            59.3,
            127.9,
            115.3,
            168.0,
            53.3,
            91.6,
            112.5,
            94.4,
            68.5,
            19.3,
            111.2,
            28.2,
            34.3,
            92.0,
            124.0,
            195.7,
            20.2,
            101.7,
            35.7,
            24.5,
            111.2,
            26.8,
            24.7,
            77.4,
            219.4,
            135.2,
            49.5,
            186.1,
            182.7,
            327.0,
            220.6,
            92.8
           ],
           "xaxis": "x",
           "y": [
            "Bihor",
            "Bistrita-Nasaud",
            "Cluj",
            "Maramures",
            "Satu Mare",
            "Salaj",
            "Alba",
            "Brasov",
            "Covasna",
            "Harghita",
            "Mures",
            "Sibiu",
            "Bacau",
            "Botosani",
            "Iasi",
            "Neamt",
            "Suceava",
            "Vaslui",
            "Braila",
            "Buzau",
            "Constanta",
            "Galati",
            "Tulcea",
            "Vrancea",
            "Arges",
            "Calarasi",
            "Dambovita",
            "Giurgiu",
            "Ialomita",
            "Prahova",
            "Teleorman",
            "Ilfov",
            "Dolj",
            "Gorj",
            "Mehedinti",
            "Olt",
            "Valcea",
            "Arad",
            "Caras-Severin",
            "Hunedoara",
            "Timis"
           ],
           "yaxis": "y"
          }
         ],
         "name": "1995"
        },
        {
         "data": [
          {
           "alignmentgroup": "True",
           "hovertemplate": "Year=1996<br>Value=%{x}<br>Region=%{y}<extra></extra>",
           "legendgroup": "",
           "marker": {
            "color": "#636efa"
           },
           "name": "",
           "offsetgroup": "",
           "orientation": "h",
           "showlegend": false,
           "textposition": "auto",
           "type": "bar",
           "x": [
            158.9,
            97.2,
            93.1,
            158.8,
            62.8,
            88.4,
            134.2,
            122.9,
            96.7,
            59.1,
            128.1,
            115.7,
            168.6,
            53.3,
            91.6,
            112.7,
            94.4,
            68.6,
            19.9,
            110.7,
            28.2,
            34.5,
            92.1,
            122.1,
            195.9,
            20.2,
            100.7,
            35.8,
            24.4,
            111.7,
            26.5,
            24.8,
            77.1,
            219.4,
            135.2,
            49.4,
            185.9,
            184.3,
            331.7,
            221.7,
            92.8
           ],
           "xaxis": "x",
           "y": [
            "Bihor",
            "Bistrita-Nasaud",
            "Cluj",
            "Maramures",
            "Satu Mare",
            "Salaj",
            "Alba",
            "Brasov",
            "Covasna",
            "Harghita",
            "Mures",
            "Sibiu",
            "Bacau",
            "Botosani",
            "Iasi",
            "Neamt",
            "Suceava",
            "Vaslui",
            "Braila",
            "Buzau",
            "Constanta",
            "Galati",
            "Tulcea",
            "Vrancea",
            "Arges",
            "Calarasi",
            "Dambovita",
            "Giurgiu",
            "Ialomita",
            "Prahova",
            "Teleorman",
            "Ilfov",
            "Dolj",
            "Gorj",
            "Mehedinti",
            "Olt",
            "Valcea",
            "Arad",
            "Caras-Severin",
            "Hunedoara",
            "Timis"
           ],
           "yaxis": "y"
          }
         ],
         "name": "1996"
        },
        {
         "data": [
          {
           "alignmentgroup": "True",
           "hovertemplate": "Year=1997<br>Value=%{x}<br>Region=%{y}<extra></extra>",
           "legendgroup": "",
           "marker": {
            "color": "#636efa"
           },
           "name": "",
           "offsetgroup": "",
           "orientation": "h",
           "showlegend": false,
           "textposition": "auto",
           "type": "bar",
           "x": [
            159.0,
            99.0,
            93.1,
            161.2,
            62.8,
            88.5,
            134.2,
            121.9,
            96.8,
            59.1,
            128.0,
            115.7,
            168.3,
            53.4,
            91.3,
            112.1,
            95.3,
            68.5,
            20.2,
            111.4,
            27.7,
            33.5,
            91.8,
            122.3,
            195.6,
            20.2,
            100.4,
            35.7,
            23.8,
            112.5,
            26.5,
            24.6,
            77.1,
            219.4,
            135.1,
            49.6,
            186.5,
            184.9,
            331.9,
            221.7,
            93.0
           ],
           "xaxis": "x",
           "y": [
            "Bihor",
            "Bistrita-Nasaud",
            "Cluj",
            "Maramures",
            "Satu Mare",
            "Salaj",
            "Alba",
            "Brasov",
            "Covasna",
            "Harghita",
            "Mures",
            "Sibiu",
            "Bacau",
            "Botosani",
            "Iasi",
            "Neamt",
            "Suceava",
            "Vaslui",
            "Braila",
            "Buzau",
            "Constanta",
            "Galati",
            "Tulcea",
            "Vrancea",
            "Arges",
            "Calarasi",
            "Dambovita",
            "Giurgiu",
            "Ialomita",
            "Prahova",
            "Teleorman",
            "Ilfov",
            "Dolj",
            "Gorj",
            "Mehedinti",
            "Olt",
            "Valcea",
            "Arad",
            "Caras-Severin",
            "Hunedoara",
            "Timis"
           ],
           "yaxis": "y"
          }
         ],
         "name": "1997"
        },
        {
         "data": [
          {
           "alignmentgroup": "True",
           "hovertemplate": "Year=1998<br>Value=%{x}<br>Region=%{y}<extra></extra>",
           "legendgroup": "",
           "marker": {
            "color": "#636efa"
           },
           "name": "",
           "offsetgroup": "",
           "orientation": "h",
           "showlegend": false,
           "textposition": "auto",
           "type": "bar",
           "x": [
            159.3,
            98.6,
            93.1,
            163.0,
            62.7,
            88.5,
            134.2,
            122.5,
            97.1,
            58.8,
            128.3,
            115.7,
            169.7,
            53.4,
            90.8,
            111.9,
            95.2,
            68.8,
            20.1,
            111.4,
            28.0,
            33.6,
            91.8,
            123.0,
            195.4,
            20.2,
            100.3,
            35.6,
            23.8,
            112.5,
            26.2,
            24.6,
            77.1,
            218.8,
            135.2,
            49.6,
            187.6,
            185.0,
            332.3,
            222.7,
            93.0
           ],
           "xaxis": "x",
           "y": [
            "Bihor",
            "Bistrita-Nasaud",
            "Cluj",
            "Maramures",
            "Satu Mare",
            "Salaj",
            "Alba",
            "Brasov",
            "Covasna",
            "Harghita",
            "Mures",
            "Sibiu",
            "Bacau",
            "Botosani",
            "Iasi",
            "Neamt",
            "Suceava",
            "Vaslui",
            "Braila",
            "Buzau",
            "Constanta",
            "Galati",
            "Tulcea",
            "Vrancea",
            "Arges",
            "Calarasi",
            "Dambovita",
            "Giurgiu",
            "Ialomita",
            "Prahova",
            "Teleorman",
            "Ilfov",
            "Dolj",
            "Gorj",
            "Mehedinti",
            "Olt",
            "Valcea",
            "Arad",
            "Caras-Severin",
            "Hunedoara",
            "Timis"
           ],
           "yaxis": "y"
          }
         ],
         "name": "1998"
        },
        {
         "data": [
          {
           "alignmentgroup": "True",
           "hovertemplate": "Year=1999<br>Value=%{x}<br>Region=%{y}<extra></extra>",
           "legendgroup": "",
           "marker": {
            "color": "#636efa"
           },
           "name": "",
           "offsetgroup": "",
           "orientation": "h",
           "showlegend": false,
           "textposition": "auto",
           "type": "bar",
           "x": [
            159.3,
            98.3,
            93.1,
            162.9,
            62.7,
            88.6,
            134.2,
            122.5,
            97.2,
            58.7,
            128.3,
            116.2,
            171.4,
            53.3,
            90.9,
            111.9,
            95.6,
            68.5,
            20.6,
            111.6,
            28.3,
            34.0,
            92.0,
            123.0,
            195.4,
            20.1,
            100.7,
            35.5,
            24.0,
            112.1,
            26.0,
            24.4,
            77.9,
            219.3,
            135.3,
            49.8,
            187.8,
            185.1,
            332.3,
            222.5,
            93.1
           ],
           "xaxis": "x",
           "y": [
            "Bihor",
            "Bistrita-Nasaud",
            "Cluj",
            "Maramures",
            "Satu Mare",
            "Salaj",
            "Alba",
            "Brasov",
            "Covasna",
            "Harghita",
            "Mures",
            "Sibiu",
            "Bacau",
            "Botosani",
            "Iasi",
            "Neamt",
            "Suceava",
            "Vaslui",
            "Braila",
            "Buzau",
            "Constanta",
            "Galati",
            "Tulcea",
            "Vrancea",
            "Arges",
            "Calarasi",
            "Dambovita",
            "Giurgiu",
            "Ialomita",
            "Prahova",
            "Teleorman",
            "Ilfov",
            "Dolj",
            "Gorj",
            "Mehedinti",
            "Olt",
            "Valcea",
            "Arad",
            "Caras-Severin",
            "Hunedoara",
            "Timis"
           ],
           "yaxis": "y"
          }
         ],
         "name": "1999"
        },
        {
         "data": [
          {
           "alignmentgroup": "True",
           "hovertemplate": "Year=2000<br>Value=%{x}<br>Region=%{y}<extra></extra>",
           "legendgroup": "",
           "marker": {
            "color": "#636efa"
           },
           "name": "",
           "offsetgroup": "",
           "orientation": "h",
           "showlegend": false,
           "textposition": "auto",
           "type": "bar",
           "x": [
            159.7,
            98.4,
            92.9,
            162.8,
            62.7,
            88.7,
            134.5,
            122.5,
            97.6,
            59.0,
            128.0,
            116.1,
            172.4,
            53.4,
            91.2,
            111.8,
            95.1,
            68.7,
            20.6,
            111.6,
            28.3,
            34.0,
            91.8,
            123.1,
            195.0,
            20.1,
            100.5,
            35.4,
            23.9,
            112.0,
            25.9,
            24.7,
            78.1,
            219.3,
            136.5,
            49.7,
            187.8,
            184.9,
            332.2,
            222.3,
            93.7
           ],
           "xaxis": "x",
           "y": [
            "Bihor",
            "Bistrita-Nasaud",
            "Cluj",
            "Maramures",
            "Satu Mare",
            "Salaj",
            "Alba",
            "Brasov",
            "Covasna",
            "Harghita",
            "Mures",
            "Sibiu",
            "Bacau",
            "Botosani",
            "Iasi",
            "Neamt",
            "Suceava",
            "Vaslui",
            "Braila",
            "Buzau",
            "Constanta",
            "Galati",
            "Tulcea",
            "Vrancea",
            "Arges",
            "Calarasi",
            "Dambovita",
            "Giurgiu",
            "Ialomita",
            "Prahova",
            "Teleorman",
            "Ilfov",
            "Dolj",
            "Gorj",
            "Mehedinti",
            "Olt",
            "Valcea",
            "Arad",
            "Caras-Severin",
            "Hunedoara",
            "Timis"
           ],
           "yaxis": "y"
          }
         ],
         "name": "2000"
        },
        {
         "data": [
          {
           "alignmentgroup": "True",
           "hovertemplate": "Year=2001<br>Value=%{x}<br>Region=%{y}<extra></extra>",
           "legendgroup": "",
           "marker": {
            "color": "#636efa"
           },
           "name": "",
           "offsetgroup": "",
           "orientation": "h",
           "showlegend": false,
           "textposition": "auto",
           "type": "bar",
           "x": [
            159.6,
            98.7,
            92.8,
            162.8,
            62.8,
            88.7,
            134.5,
            122.4,
            98.4,
            59.1,
            129.0,
            116.2,
            172.4,
            53.2,
            91.1,
            111.8,
            94.8,
            68.6,
            20.7,
            112.0,
            28.5,
            34.0,
            91.9,
            123.5,
            195.0,
            20.1,
            100.6,
            35.6,
            23.9,
            112.1,
            25.9,
            24.2,
            0.6,
            78.9,
            219.6,
            136.9,
            49.3,
            187.9,
            184.9,
            332.2,
            222.8,
            94.2
           ],
           "xaxis": "x",
           "y": [
            "Bihor",
            "Bistrita-Nasaud",
            "Cluj",
            "Maramures",
            "Satu Mare",
            "Salaj",
            "Alba",
            "Brasov",
            "Covasna",
            "Harghita",
            "Mures",
            "Sibiu",
            "Bacau",
            "Botosani",
            "Iasi",
            "Neamt",
            "Suceava",
            "Vaslui",
            "Braila",
            "Buzau",
            "Constanta",
            "Galati",
            "Tulcea",
            "Vrancea",
            "Arges",
            "Calarasi",
            "Dambovita",
            "Giurgiu",
            "Ialomita",
            "Prahova",
            "Teleorman",
            "Ilfov",
            "Bucuresti",
            "Dolj",
            "Gorj",
            "Mehedinti",
            "Olt",
            "Valcea",
            "Arad",
            "Caras-Severin",
            "Hunedoara",
            "Timis"
           ],
           "yaxis": "y"
          }
         ],
         "name": "2001"
        },
        {
         "data": [
          {
           "alignmentgroup": "True",
           "hovertemplate": "Year=2002<br>Value=%{x}<br>Region=%{y}<extra></extra>",
           "legendgroup": "",
           "marker": {
            "color": "#636efa"
           },
           "name": "",
           "offsetgroup": "",
           "orientation": "h",
           "showlegend": false,
           "textposition": "auto",
           "type": "bar",
           "x": [
            161.6,
            104.5,
            92.7,
            162.9,
            62.9,
            88.7,
            134.4,
            123.0,
            98.1,
            59.2,
            129.3,
            116.1,
            172.7,
            53.4,
            91.0,
            109.9,
            95.2,
            68.3,
            20.9,
            111.7,
            28.7,
            33.6,
            90.2,
            131.4,
            195.1,
            20.2,
            100.6,
            35.7,
            24.2,
            112.2,
            26.3,
            24.3,
            0.6,
            79.3,
            219.3,
            136.6,
            49.1,
            187.9,
            184.8,
            329.4,
            222.9,
            94.3
           ],
           "xaxis": "x",
           "y": [
            "Bihor",
            "Bistrita-Nasaud",
            "Cluj",
            "Maramures",
            "Satu Mare",
            "Salaj",
            "Alba",
            "Brasov",
            "Covasna",
            "Harghita",
            "Mures",
            "Sibiu",
            "Bacau",
            "Botosani",
            "Iasi",
            "Neamt",
            "Suceava",
            "Vaslui",
            "Braila",
            "Buzau",
            "Constanta",
            "Galati",
            "Tulcea",
            "Vrancea",
            "Arges",
            "Calarasi",
            "Dambovita",
            "Giurgiu",
            "Ialomita",
            "Prahova",
            "Teleorman",
            "Ilfov",
            "Bucuresti",
            "Dolj",
            "Gorj",
            "Mehedinti",
            "Olt",
            "Valcea",
            "Arad",
            "Caras-Severin",
            "Hunedoara",
            "Timis"
           ],
           "yaxis": "y"
          }
         ],
         "name": "2002"
        },
        {
         "data": [
          {
           "alignmentgroup": "True",
           "hovertemplate": "Year=2003<br>Value=%{x}<br>Region=%{y}<extra></extra>",
           "legendgroup": "",
           "marker": {
            "color": "#636efa"
           },
           "name": "",
           "offsetgroup": "",
           "orientation": "h",
           "showlegend": false,
           "textposition": "auto",
           "type": "bar",
           "x": [
            159.5,
            101.1,
            92.7,
            162.6,
            62.9,
            88.6,
            133.4,
            123.1,
            99.6,
            67.1,
            129.4,
            115.9,
            178.5,
            53.5,
            91.1,
            110.4,
            95.5,
            69.0,
            21.5,
            111.8,
            28.9,
            34.0,
            91.0,
            123.2,
            192.9,
            20.1,
            101.2,
            35.1,
            24.3,
            111.9,
            25.9,
            24.1,
            0.6,
            80.1,
            219.8,
            137.3,
            49.0,
            186.2,
            183.2,
            328.0,
            222.7,
            95.6
           ],
           "xaxis": "x",
           "y": [
            "Bihor",
            "Bistrita-Nasaud",
            "Cluj",
            "Maramures",
            "Satu Mare",
            "Salaj",
            "Alba",
            "Brasov",
            "Covasna",
            "Harghita",
            "Mures",
            "Sibiu",
            "Bacau",
            "Botosani",
            "Iasi",
            "Neamt",
            "Suceava",
            "Vaslui",
            "Braila",
            "Buzau",
            "Constanta",
            "Galati",
            "Tulcea",
            "Vrancea",
            "Arges",
            "Calarasi",
            "Dambovita",
            "Giurgiu",
            "Ialomita",
            "Prahova",
            "Teleorman",
            "Ilfov",
            "Bucuresti",
            "Dolj",
            "Gorj",
            "Mehedinti",
            "Olt",
            "Valcea",
            "Arad",
            "Caras-Severin",
            "Hunedoara",
            "Timis"
           ],
           "yaxis": "y"
          }
         ],
         "name": "2003"
        },
        {
         "data": [
          {
           "alignmentgroup": "True",
           "hovertemplate": "Year=2004<br>Value=%{x}<br>Region=%{y}<extra></extra>",
           "legendgroup": "",
           "marker": {
            "color": "#636efa"
           },
           "name": "",
           "offsetgroup": "",
           "orientation": "h",
           "showlegend": false,
           "textposition": "auto",
           "type": "bar",
           "x": [
            159.9,
            100.6,
            92.5,
            162.4,
            62.9,
            87.9,
            132.2,
            121.0,
            99.1,
            59.8,
            129.5,
            115.2,
            176.1,
            53.6,
            91.6,
            112.0,
            95.2,
            69.4,
            22.6,
            111.8,
            29.7,
            34.5,
            89.8,
            126.1,
            186.6,
            19.9,
            101.0,
            35.9,
            24.1,
            111.9,
            25.9,
            24.3,
            0.6,
            80.8,
            219.7,
            137.3,
            49.4,
            187.2,
            182.2,
            329.6,
            222.7,
            95.5
           ],
           "xaxis": "x",
           "y": [
            "Bihor",
            "Bistrita-Nasaud",
            "Cluj",
            "Maramures",
            "Satu Mare",
            "Salaj",
            "Alba",
            "Brasov",
            "Covasna",
            "Harghita",
            "Mures",
            "Sibiu",
            "Bacau",
            "Botosani",
            "Iasi",
            "Neamt",
            "Suceava",
            "Vaslui",
            "Braila",
            "Buzau",
            "Constanta",
            "Galati",
            "Tulcea",
            "Vrancea",
            "Arges",
            "Calarasi",
            "Dambovita",
            "Giurgiu",
            "Ialomita",
            "Prahova",
            "Teleorman",
            "Ilfov",
            "Bucuresti",
            "Dolj",
            "Gorj",
            "Mehedinti",
            "Olt",
            "Valcea",
            "Arad",
            "Caras-Severin",
            "Hunedoara",
            "Timis"
           ],
           "yaxis": "y"
          }
         ],
         "name": "2004"
        },
        {
         "data": [
          {
           "alignmentgroup": "True",
           "hovertemplate": "Year=2005<br>Value=%{x}<br>Region=%{y}<extra></extra>",
           "legendgroup": "",
           "marker": {
            "color": "#636efa"
           },
           "name": "",
           "offsetgroup": "",
           "orientation": "h",
           "showlegend": false,
           "textposition": "auto",
           "type": "bar",
           "x": [
            158.8,
            102.6,
            91.9,
            163.8,
            63.0,
            88.2,
            129.6,
            123.1,
            98.7,
            60.0,
            129.9,
            116.3,
            175.5,
            53.7,
            91.8,
            112.2,
            95.7,
            69.9,
            22.8,
            111.9,
            30.4,
            34.5,
            90.1,
            123.5,
            186.6,
            19.9,
            100.8,
            35.9,
            24.1,
            113.0,
            26.0,
            24.3,
            0.6,
            81.2,
            220.5,
            137.9,
            49.7,
            171.4,
            181.7,
            330.5,
            222.7,
            95.6
           ],
           "xaxis": "x",
           "y": [
            "Bihor",
            "Bistrita-Nasaud",
            "Cluj",
            "Maramures",
            "Satu Mare",
            "Salaj",
            "Alba",
            "Brasov",
            "Covasna",
            "Harghita",
            "Mures",
            "Sibiu",
            "Bacau",
            "Botosani",
            "Iasi",
            "Neamt",
            "Suceava",
            "Vaslui",
            "Braila",
            "Buzau",
            "Constanta",
            "Galati",
            "Tulcea",
            "Vrancea",
            "Arges",
            "Calarasi",
            "Dambovita",
            "Giurgiu",
            "Ialomita",
            "Prahova",
            "Teleorman",
            "Ilfov",
            "Bucuresti",
            "Dolj",
            "Gorj",
            "Mehedinti",
            "Olt",
            "Valcea",
            "Arad",
            "Caras-Severin",
            "Hunedoara",
            "Timis"
           ],
           "yaxis": "y"
          }
         ],
         "name": "2005"
        },
        {
         "data": [
          {
           "alignmentgroup": "True",
           "hovertemplate": "Year=2006<br>Value=%{x}<br>Region=%{y}<extra></extra>",
           "legendgroup": "",
           "marker": {
            "color": "#636efa"
           },
           "name": "",
           "offsetgroup": "",
           "orientation": "h",
           "showlegend": false,
           "textposition": "auto",
           "type": "bar",
           "x": [
            164.7,
            104.0,
            79.1,
            161.7,
            65.3,
            88.2,
            130.5,
            127.1,
            96.9,
            63.5,
            129.6,
            116.2,
            174.0,
            53.8,
            91.9,
            111.9,
            96.2,
            72.0,
            22.5,
            107.7,
            32.1,
            34.2,
            90.8,
            123.5,
            186.6,
            20.3,
            101.3,
            35.8,
            24.3,
            112.6,
            26.5,
            24.3,
            0.6,
            81.1,
            219.5,
            137.8,
            48.6,
            170.4,
            182.5,
            351.5,
            222.9,
            95.5
           ],
           "xaxis": "x",
           "y": [
            "Bihor",
            "Bistrita-Nasaud",
            "Cluj",
            "Maramures",
            "Satu Mare",
            "Salaj",
            "Alba",
            "Brasov",
            "Covasna",
            "Harghita",
            "Mures",
            "Sibiu",
            "Bacau",
            "Botosani",
            "Iasi",
            "Neamt",
            "Suceava",
            "Vaslui",
            "Braila",
            "Buzau",
            "Constanta",
            "Galati",
            "Tulcea",
            "Vrancea",
            "Arges",
            "Calarasi",
            "Dambovita",
            "Giurgiu",
            "Ialomita",
            "Prahova",
            "Teleorman",
            "Ilfov",
            "Bucuresti",
            "Dolj",
            "Gorj",
            "Mehedinti",
            "Olt",
            "Valcea",
            "Arad",
            "Caras-Severin",
            "Hunedoara",
            "Timis"
           ],
           "yaxis": "y"
          }
         ],
         "name": "2006"
        },
        {
         "data": [
          {
           "alignmentgroup": "True",
           "hovertemplate": "Year=2007<br>Value=%{x}<br>Region=%{y}<extra></extra>",
           "legendgroup": "",
           "marker": {
            "color": "#636efa"
           },
           "name": "",
           "offsetgroup": "",
           "orientation": "h",
           "showlegend": false,
           "textposition": "auto",
           "type": "bar",
           "x": [
            168.7,
            104.0,
            79.6,
            147.2,
            65.4,
            88.2,
            126.9,
            130.1,
            101.9,
            68.2,
            130.2,
            120.7,
            173.1,
            53.7,
            91.9,
            111.9,
            95.6,
            70.4,
            22.5,
            111.0,
            32.3,
            35.0,
            90.7,
            124.0,
            193.6,
            20.6,
            100.5,
            35.6,
            24.2,
            111.9,
            25.8,
            24.2,
            0.6,
            80.7,
            221.0,
            138.9,
            49.2,
            170.2,
            186.7,
            350.5,
            220.3,
            97.0
           ],
           "xaxis": "x",
           "y": [
            "Bihor",
            "Bistrita-Nasaud",
            "Cluj",
            "Maramures",
            "Satu Mare",
            "Salaj",
            "Alba",
            "Brasov",
            "Covasna",
            "Harghita",
            "Mures",
            "Sibiu",
            "Bacau",
            "Botosani",
            "Iasi",
            "Neamt",
            "Suceava",
            "Vaslui",
            "Braila",
            "Buzau",
            "Constanta",
            "Galati",
            "Tulcea",
            "Vrancea",
            "Arges",
            "Calarasi",
            "Dambovita",
            "Giurgiu",
            "Ialomita",
            "Prahova",
            "Teleorman",
            "Ilfov",
            "Bucuresti",
            "Dolj",
            "Gorj",
            "Mehedinti",
            "Olt",
            "Valcea",
            "Arad",
            "Caras-Severin",
            "Hunedoara",
            "Timis"
           ],
           "yaxis": "y"
          }
         ],
         "name": "2007"
        },
        {
         "data": [
          {
           "alignmentgroup": "True",
           "hovertemplate": "Year=2008<br>Value=%{x}<br>Region=%{y}<extra></extra>",
           "legendgroup": "",
           "marker": {
            "color": "#636efa"
           },
           "name": "",
           "offsetgroup": "",
           "orientation": "h",
           "showlegend": false,
           "textposition": "auto",
           "type": "bar",
           "x": [
            169.4,
            102.5,
            80.9,
            142.9,
            67.7,
            88.1,
            130.7,
            131.9,
            96.3,
            65.9,
            137.0,
            117.3,
            164.6,
            53.9,
            93.0,
            112.0,
            95.6,
            62.2,
            20.8,
            108.8,
            32.1,
            35.5,
            90.4,
            120.3,
            192.9,
            20.7,
            101.3,
            35.7,
            24.2,
            112.2,
            25.8,
            24.3,
            0.6,
            80.8,
            218.4,
            139.1,
            50.0,
            170.4,
            187.4,
            348.7,
            220.7,
            97.5
           ],
           "xaxis": "x",
           "y": [
            "Bihor",
            "Bistrita-Nasaud",
            "Cluj",
            "Maramures",
            "Satu Mare",
            "Salaj",
            "Alba",
            "Brasov",
            "Covasna",
            "Harghita",
            "Mures",
            "Sibiu",
            "Bacau",
            "Botosani",
            "Iasi",
            "Neamt",
            "Suceava",
            "Vaslui",
            "Braila",
            "Buzau",
            "Constanta",
            "Galati",
            "Tulcea",
            "Vrancea",
            "Arges",
            "Calarasi",
            "Dambovita",
            "Giurgiu",
            "Ialomita",
            "Prahova",
            "Teleorman",
            "Ilfov",
            "Bucuresti",
            "Dolj",
            "Gorj",
            "Mehedinti",
            "Olt",
            "Valcea",
            "Arad",
            "Caras-Severin",
            "Hunedoara",
            "Timis"
           ],
           "yaxis": "y"
          }
         ],
         "name": "2008"
        },
        {
         "data": [
          {
           "alignmentgroup": "True",
           "hovertemplate": "Year=2009<br>Value=%{x}<br>Region=%{y}<extra></extra>",
           "legendgroup": "",
           "marker": {
            "color": "#636efa"
           },
           "name": "",
           "offsetgroup": "",
           "orientation": "h",
           "showlegend": false,
           "textposition": "auto",
           "type": "bar",
           "x": [
            171.1,
            102.9,
            82.1,
            142.6,
            67.7,
            88.1,
            128.3,
            131.2,
            100.8,
            66.3,
            133.4,
            119.2,
            172.9,
            54.0,
            92.0,
            112.4,
            95.5,
            70.7,
            23.3,
            109.2,
            31.8,
            35.7,
            90.5,
            123.6,
            194.5,
            20.8,
            100.5,
            36.3,
            24.2,
            112.0,
            26.0,
            24.1,
            0.6,
            80.6,
            218.4,
            138.6,
            49.5,
            171.4,
            190.2,
            350.0,
            219.1,
            97.1
           ],
           "xaxis": "x",
           "y": [
            "Bihor",
            "Bistrita-Nasaud",
            "Cluj",
            "Maramures",
            "Satu Mare",
            "Salaj",
            "Alba",
            "Brasov",
            "Covasna",
            "Harghita",
            "Mures",
            "Sibiu",
            "Bacau",
            "Botosani",
            "Iasi",
            "Neamt",
            "Suceava",
            "Vaslui",
            "Braila",
            "Buzau",
            "Constanta",
            "Galati",
            "Tulcea",
            "Vrancea",
            "Arges",
            "Calarasi",
            "Dambovita",
            "Giurgiu",
            "Ialomita",
            "Prahova",
            "Teleorman",
            "Ilfov",
            "Bucuresti",
            "Dolj",
            "Gorj",
            "Mehedinti",
            "Olt",
            "Valcea",
            "Arad",
            "Caras-Severin",
            "Hunedoara",
            "Timis"
           ],
           "yaxis": "y"
          }
         ],
         "name": "2009"
        },
        {
         "data": [
          {
           "alignmentgroup": "True",
           "hovertemplate": "Year=2010<br>Value=%{x}<br>Region=%{y}<extra></extra>",
           "legendgroup": "",
           "marker": {
            "color": "#636efa"
           },
           "name": "",
           "offsetgroup": "",
           "orientation": "h",
           "showlegend": false,
           "textposition": "auto",
           "type": "bar",
           "x": [
            171.1,
            103.4,
            84.7,
            142.6,
            68.4,
            87.9,
            128.1,
            131.6,
            100.2,
            63.6,
            134.3,
            120.1,
            174.1,
            54.0,
            92.0,
            112.8,
            94.8,
            70.8,
            23.0,
            108.3,
            31.6,
            35.6,
            90.8,
            122.5,
            194.5,
            20.7,
            101.8,
            35.6,
            24.0,
            112.7,
            27.1,
            24.2,
            0.6,
            80.6,
            217.2,
            138.6,
            49.6,
            171.4,
            193.5,
            354.5,
            222.5,
            97.4
           ],
           "xaxis": "x",
           "y": [
            "Bihor",
            "Bistrita-Nasaud",
            "Cluj",
            "Maramures",
            "Satu Mare",
            "Salaj",
            "Alba",
            "Brasov",
            "Covasna",
            "Harghita",
            "Mures",
            "Sibiu",
            "Bacau",
            "Botosani",
            "Iasi",
            "Neamt",
            "Suceava",
            "Vaslui",
            "Braila",
            "Buzau",
            "Constanta",
            "Galati",
            "Tulcea",
            "Vrancea",
            "Arges",
            "Calarasi",
            "Dambovita",
            "Giurgiu",
            "Ialomita",
            "Prahova",
            "Teleorman",
            "Ilfov",
            "Bucuresti",
            "Dolj",
            "Gorj",
            "Mehedinti",
            "Olt",
            "Valcea",
            "Arad",
            "Caras-Severin",
            "Hunedoara",
            "Timis"
           ],
           "yaxis": "y"
          }
         ],
         "name": "2010"
        },
        {
         "data": [
          {
           "alignmentgroup": "True",
           "hovertemplate": "Year=2011<br>Value=%{x}<br>Region=%{y}<extra></extra>",
           "legendgroup": "",
           "marker": {
            "color": "#636efa"
           },
           "name": "",
           "offsetgroup": "",
           "orientation": "h",
           "showlegend": false,
           "textposition": "auto",
           "type": "bar",
           "x": [
            172.0,
            104.2,
            85.6,
            143.2,
            68.3,
            87.9,
            127.5,
            131.2,
            101.0,
            64.5,
            132.2,
            120.3,
            174.7,
            54.2,
            92.1,
            114.1,
            95.4,
            71.0,
            23.4,
            103.6,
            31.7,
            35.7,
            91.0,
            118.3,
            194.4,
            20.8,
            102.2,
            35.9,
            24.4,
            112.7,
            26.3,
            24.2,
            0.6,
            81.6,
            217.3,
            138.7,
            50.9,
            171.7,
            194.7,
            355.4,
            223.7,
            97.7
           ],
           "xaxis": "x",
           "y": [
            "Bihor",
            "Bistrita-Nasaud",
            "Cluj",
            "Maramures",
            "Satu Mare",
            "Salaj",
            "Alba",
            "Brasov",
            "Covasna",
            "Harghita",
            "Mures",
            "Sibiu",
            "Bacau",
            "Botosani",
            "Iasi",
            "Neamt",
            "Suceava",
            "Vaslui",
            "Braila",
            "Buzau",
            "Constanta",
            "Galati",
            "Tulcea",
            "Vrancea",
            "Arges",
            "Calarasi",
            "Dambovita",
            "Giurgiu",
            "Ialomita",
            "Prahova",
            "Teleorman",
            "Ilfov",
            "Bucuresti",
            "Dolj",
            "Gorj",
            "Mehedinti",
            "Olt",
            "Valcea",
            "Arad",
            "Caras-Severin",
            "Hunedoara",
            "Timis"
           ],
           "yaxis": "y"
          }
         ],
         "name": "2011"
        },
        {
         "data": [
          {
           "alignmentgroup": "True",
           "hovertemplate": "Year=2012<br>Value=%{x}<br>Region=%{y}<extra></extra>",
           "legendgroup": "",
           "marker": {
            "color": "#636efa"
           },
           "name": "",
           "offsetgroup": "",
           "orientation": "h",
           "showlegend": false,
           "textposition": "auto",
           "type": "bar",
           "x": [
            172.6,
            103.8,
            86.3,
            143.8,
            68.3,
            87.8,
            127.6,
            131.6,
            100.9,
            62.3,
            132.1,
            120.6,
            174.8,
            54.2,
            92.0,
            115.2,
            95.9,
            70.9,
            24.5,
            107.5,
            32.1,
            35.7,
            91.0,
            119.0,
            194.5,
            20.9,
            101.8,
            36.5,
            24.8,
            111.9,
            26.2,
            24.2,
            0.6,
            81.5,
            217.3,
            139.0,
            50.9,
            172.2,
            194.7,
            356.2,
            226.0,
            98.4
           ],
           "xaxis": "x",
           "y": [
            "Bihor",
            "Bistrita-Nasaud",
            "Cluj",
            "Maramures",
            "Satu Mare",
            "Salaj",
            "Alba",
            "Brasov",
            "Covasna",
            "Harghita",
            "Mures",
            "Sibiu",
            "Bacau",
            "Botosani",
            "Iasi",
            "Neamt",
            "Suceava",
            "Vaslui",
            "Braila",
            "Buzau",
            "Constanta",
            "Galati",
            "Tulcea",
            "Vrancea",
            "Arges",
            "Calarasi",
            "Dambovita",
            "Giurgiu",
            "Ialomita",
            "Prahova",
            "Teleorman",
            "Ilfov",
            "Bucuresti",
            "Dolj",
            "Gorj",
            "Mehedinti",
            "Olt",
            "Valcea",
            "Arad",
            "Caras-Severin",
            "Hunedoara",
            "Timis"
           ],
           "yaxis": "y"
          }
         ],
         "name": "2012"
        },
        {
         "data": [
          {
           "alignmentgroup": "True",
           "hovertemplate": "Year=2013<br>Value=%{x}<br>Region=%{y}<extra></extra>",
           "legendgroup": "",
           "marker": {
            "color": "#636efa"
           },
           "name": "",
           "offsetgroup": "",
           "orientation": "h",
           "showlegend": false,
           "textposition": "auto",
           "type": "bar",
           "x": [
            173.1,
            105.5,
            88.0,
            145.0,
            68.5,
            87.8,
            128.1,
            132.3,
            102.1,
            66.5,
            128.6,
            120.7,
            174.7,
            54.3,
            92.2,
            115.2,
            96.7,
            70.7,
            24.7,
            109.8,
            32.2,
            35.1,
            90.9,
            116.6,
            194.5,
            20.9,
            101.8,
            36.6,
            24.7,
            111.9,
            26.3,
            24.4,
            0.6,
            83.2,
            216.7,
            139.0,
            51.1,
            172.3,
            194.7,
            361.3,
            226.6,
            98.4
           ],
           "xaxis": "x",
           "y": [
            "Bihor",
            "Bistrita-Nasaud",
            "Cluj",
            "Maramures",
            "Satu Mare",
            "Salaj",
            "Alba",
            "Brasov",
            "Covasna",
            "Harghita",
            "Mures",
            "Sibiu",
            "Bacau",
            "Botosani",
            "Iasi",
            "Neamt",
            "Suceava",
            "Vaslui",
            "Braila",
            "Buzau",
            "Constanta",
            "Galati",
            "Tulcea",
            "Vrancea",
            "Arges",
            "Calarasi",
            "Dambovita",
            "Giurgiu",
            "Ialomita",
            "Prahova",
            "Teleorman",
            "Ilfov",
            "Bucuresti",
            "Dolj",
            "Gorj",
            "Mehedinti",
            "Olt",
            "Valcea",
            "Arad",
            "Caras-Severin",
            "Hunedoara",
            "Timis"
           ],
           "yaxis": "y"
          }
         ],
         "name": "2013"
        },
        {
         "data": [
          {
           "alignmentgroup": "True",
           "hovertemplate": "Year=2014<br>Value=%{x}<br>Region=%{y}<extra></extra>",
           "legendgroup": "",
           "marker": {
            "color": "#636efa"
           },
           "name": "",
           "offsetgroup": "",
           "orientation": "h",
           "showlegend": false,
           "textposition": "auto",
           "type": "bar",
           "x": [
            172.3,
            106.5,
            86.9,
            145.6,
            68.6,
            87.8,
            128.8,
            133.3,
            102.2,
            67.1,
            128.1,
            122.0,
            175.2,
            54.8,
            92.2,
            116.6,
            97.1,
            70.8,
            24.7,
            111.5,
            32.2,
            35.1,
            91.4,
            116.6,
            194.5,
            20.9,
            101.6,
            36.6,
            24.7,
            111.5,
            26.5,
            24.4,
            0.6,
            83.4,
            217.0,
            137.9,
            51.3,
            172.4,
            195.0,
            364.4,
            229.0,
            98.5
           ],
           "xaxis": "x",
           "y": [
            "Bihor",
            "Bistrita-Nasaud",
            "Cluj",
            "Maramures",
            "Satu Mare",
            "Salaj",
            "Alba",
            "Brasov",
            "Covasna",
            "Harghita",
            "Mures",
            "Sibiu",
            "Bacau",
            "Botosani",
            "Iasi",
            "Neamt",
            "Suceava",
            "Vaslui",
            "Braila",
            "Buzau",
            "Constanta",
            "Galati",
            "Tulcea",
            "Vrancea",
            "Arges",
            "Calarasi",
            "Dambovita",
            "Giurgiu",
            "Ialomita",
            "Prahova",
            "Teleorman",
            "Ilfov",
            "Bucuresti",
            "Dolj",
            "Gorj",
            "Mehedinti",
            "Olt",
            "Valcea",
            "Arad",
            "Caras-Severin",
            "Hunedoara",
            "Timis"
           ],
           "yaxis": "y"
          }
         ],
         "name": "2014"
        },
        {
         "data": [
          {
           "alignmentgroup": "True",
           "hovertemplate": "Year=2015<br>Value=%{x}<br>Region=%{y}<extra></extra>",
           "legendgroup": "",
           "marker": {
            "color": "#636efa"
           },
           "name": "",
           "offsetgroup": "",
           "orientation": "h",
           "showlegend": false,
           "textposition": "auto",
           "type": "bar",
           "x": [
            172.7,
            106.3,
            85.8,
            145.0,
            68.5,
            88.0,
            129.9,
            132.2,
            103.9,
            69.5,
            129.7,
            122.4,
            175.6,
            55.2,
            92.6,
            117.0,
            98.7,
            71.0,
            25.0,
            109.5,
            32.4,
            35.2,
            91.6,
            119.0,
            188.7,
            20.9,
            101.9,
            36.6,
            24.8,
            111.6,
            26.5,
            24.4,
            0.5,
            83.6,
            217.5,
            138.4,
            51.6,
            172.4,
            194.8,
            369.1,
            229.7,
            98.4
           ],
           "xaxis": "x",
           "y": [
            "Bihor",
            "Bistrita-Nasaud",
            "Cluj",
            "Maramures",
            "Satu Mare",
            "Salaj",
            "Alba",
            "Brasov",
            "Covasna",
            "Harghita",
            "Mures",
            "Sibiu",
            "Bacau",
            "Botosani",
            "Iasi",
            "Neamt",
            "Suceava",
            "Vaslui",
            "Braila",
            "Buzau",
            "Constanta",
            "Galati",
            "Tulcea",
            "Vrancea",
            "Arges",
            "Calarasi",
            "Dambovita",
            "Giurgiu",
            "Ialomita",
            "Prahova",
            "Teleorman",
            "Ilfov",
            "Bucuresti",
            "Dolj",
            "Gorj",
            "Mehedinti",
            "Olt",
            "Valcea",
            "Arad",
            "Caras-Severin",
            "Hunedoara",
            "Timis"
           ],
           "yaxis": "y"
          }
         ],
         "name": "2015"
        },
        {
         "data": [
          {
           "alignmentgroup": "True",
           "hovertemplate": "Year=2016<br>Value=%{x}<br>Region=%{y}<extra></extra>",
           "legendgroup": "",
           "marker": {
            "color": "#636efa"
           },
           "name": "",
           "offsetgroup": "",
           "orientation": "h",
           "showlegend": false,
           "textposition": "auto",
           "type": "bar",
           "x": [
            171.9,
            106.1,
            87.2,
            146.0,
            68.3,
            88.1,
            130.2,
            131.7,
            104.2,
            69.7,
            131.3,
            122.3,
            176.9,
            55.4,
            92.8,
            117.1,
            100.0,
            71.0,
            24.9,
            110.2,
            32.7,
            35.2,
            92.7,
            118.3,
            187.7,
            20.9,
            101.9,
            36.6,
            24.8,
            111.6,
            26.4,
            24.4,
            0.5,
            83.6,
            217.6,
            138.5,
            51.6,
            171.9,
            194.5,
            369.9,
            230.0,
            98.4
           ],
           "xaxis": "x",
           "y": [
            "Bihor",
            "Bistrita-Nasaud",
            "Cluj",
            "Maramures",
            "Satu Mare",
            "Salaj",
            "Alba",
            "Brasov",
            "Covasna",
            "Harghita",
            "Mures",
            "Sibiu",
            "Bacau",
            "Botosani",
            "Iasi",
            "Neamt",
            "Suceava",
            "Vaslui",
            "Braila",
            "Buzau",
            "Constanta",
            "Galati",
            "Tulcea",
            "Vrancea",
            "Arges",
            "Calarasi",
            "Dambovita",
            "Giurgiu",
            "Ialomita",
            "Prahova",
            "Teleorman",
            "Ilfov",
            "Bucuresti",
            "Dolj",
            "Gorj",
            "Mehedinti",
            "Olt",
            "Valcea",
            "Arad",
            "Caras-Severin",
            "Hunedoara",
            "Timis"
           ],
           "yaxis": "y"
          }
         ],
         "name": "2016"
        },
        {
         "data": [
          {
           "alignmentgroup": "True",
           "hovertemplate": "Year=2017<br>Value=%{x}<br>Region=%{y}<extra></extra>",
           "legendgroup": "",
           "marker": {
            "color": "#636efa"
           },
           "name": "",
           "offsetgroup": "",
           "orientation": "h",
           "showlegend": false,
           "textposition": "auto",
           "type": "bar",
           "x": [
            171.7,
            106.3,
            87.0,
            146.5,
            68.3,
            88.5,
            130.4,
            132.3,
            105.6,
            71.7,
            129.3,
            123.1,
            177.6,
            55.5,
            93.0,
            117.4,
            99.8,
            71.1,
            25.1,
            110.6,
            32.9,
            35.2,
            92.9,
            118.2,
            188.1,
            21.2,
            101.9,
            36.5,
            24.8,
            111.6,
            26.5,
            24.3,
            0.5,
            80.7,
            217.9,
            139.9,
            51.0,
            172.0,
            194.4,
            370.8,
            230.5,
            99.2
           ],
           "xaxis": "x",
           "y": [
            "Bihor",
            "Bistrita-Nasaud",
            "Cluj",
            "Maramures",
            "Satu Mare",
            "Salaj",
            "Alba",
            "Brasov",
            "Covasna",
            "Harghita",
            "Mures",
            "Sibiu",
            "Bacau",
            "Botosani",
            "Iasi",
            "Neamt",
            "Suceava",
            "Vaslui",
            "Braila",
            "Buzau",
            "Constanta",
            "Galati",
            "Tulcea",
            "Vrancea",
            "Arges",
            "Calarasi",
            "Dambovita",
            "Giurgiu",
            "Ialomita",
            "Prahova",
            "Teleorman",
            "Ilfov",
            "Bucuresti",
            "Dolj",
            "Gorj",
            "Mehedinti",
            "Olt",
            "Valcea",
            "Arad",
            "Caras-Severin",
            "Hunedoara",
            "Timis"
           ],
           "yaxis": "y"
          }
         ],
         "name": "2017"
        },
        {
         "data": [
          {
           "alignmentgroup": "True",
           "hovertemplate": "Year=2018<br>Value=%{x}<br>Region=%{y}<extra></extra>",
           "legendgroup": "",
           "marker": {
            "color": "#636efa"
           },
           "name": "",
           "offsetgroup": "",
           "orientation": "h",
           "showlegend": false,
           "textposition": "auto",
           "type": "bar",
           "x": [
            173.3,
            106.5,
            90.3,
            145.7,
            68.0,
            88.3,
            132.6,
            132.3,
            106.1,
            71.2,
            131.6,
            124.6,
            178.6,
            55.5,
            93.2,
            117.6,
            100.2,
            71.3,
            24.9,
            110.5,
            33.0,
            35.3,
            92.9,
            118.8,
            187.1,
            21.1,
            101.9,
            36.5,
            24.8,
            111.6,
            26.4,
            24.3,
            0.5,
            80.9,
            218.1,
            140.0,
            51.1,
            171.9,
            194.7,
            377.0,
            231.4,
            99.1
           ],
           "xaxis": "x",
           "y": [
            "Bihor",
            "Bistrita-Nasaud",
            "Cluj",
            "Maramures",
            "Satu Mare",
            "Salaj",
            "Alba",
            "Brasov",
            "Covasna",
            "Harghita",
            "Mures",
            "Sibiu",
            "Bacau",
            "Botosani",
            "Iasi",
            "Neamt",
            "Suceava",
            "Vaslui",
            "Braila",
            "Buzau",
            "Constanta",
            "Galati",
            "Tulcea",
            "Vrancea",
            "Arges",
            "Calarasi",
            "Dambovita",
            "Giurgiu",
            "Ialomita",
            "Prahova",
            "Teleorman",
            "Ilfov",
            "Bucuresti",
            "Dolj",
            "Gorj",
            "Mehedinti",
            "Olt",
            "Valcea",
            "Arad",
            "Caras-Severin",
            "Hunedoara",
            "Timis"
           ],
           "yaxis": "y"
          }
         ],
         "name": "2018"
        },
        {
         "data": [
          {
           "alignmentgroup": "True",
           "hovertemplate": "Year=2019<br>Value=%{x}<br>Region=%{y}<extra></extra>",
           "legendgroup": "",
           "marker": {
            "color": "#636efa"
           },
           "name": "",
           "offsetgroup": "",
           "orientation": "h",
           "showlegend": false,
           "textposition": "auto",
           "type": "bar",
           "x": [
            173.1,
            106.8,
            91.4,
            146.3,
            68.0,
            88.9,
            132.8,
            132.6,
            106.2,
            71.3,
            132.0,
            124.8,
            178.7,
            55.5,
            93.2,
            117.6,
            100.8,
            70.8,
            25.0,
            110.0,
            33.3,
            35.4,
            92.8,
            120.9,
            187.7,
            21.1,
            101.6,
            36.6,
            24.8,
            111.5,
            26.7,
            24.5,
            0.5,
            80.8,
            217.8,
            139.8,
            51.2,
            172.4,
            195.5,
            379.7,
            231.7,
            100.2
           ],
           "xaxis": "x",
           "y": [
            "Bihor",
            "Bistrita-Nasaud",
            "Cluj",
            "Maramures",
            "Satu Mare",
            "Salaj",
            "Alba",
            "Brasov",
            "Covasna",
            "Harghita",
            "Mures",
            "Sibiu",
            "Bacau",
            "Botosani",
            "Iasi",
            "Neamt",
            "Suceava",
            "Vaslui",
            "Braila",
            "Buzau",
            "Constanta",
            "Galati",
            "Tulcea",
            "Vrancea",
            "Arges",
            "Calarasi",
            "Dambovita",
            "Giurgiu",
            "Ialomita",
            "Prahova",
            "Teleorman",
            "Ilfov",
            "Bucuresti",
            "Dolj",
            "Gorj",
            "Mehedinti",
            "Olt",
            "Valcea",
            "Arad",
            "Caras-Severin",
            "Hunedoara",
            "Timis"
           ],
           "yaxis": "y"
          }
         ],
         "name": "2019"
        }
       ],
       "layout": {
        "barmode": "relative",
        "font": {
         "color": "#7f7f7f",
         "family": "Courier New, monospace",
         "size": 10
        },
        "height": 800,
        "legend": {
         "tracegroupgap": 0
        },
        "sliders": [
         {
          "active": 0,
          "currentvalue": {
           "prefix": "Year="
          },
          "len": 0.9,
          "pad": {
           "b": 10,
           "t": 60
          },
          "steps": [
           {
            "args": [
             [
              "1990"
             ],
             {
              "frame": {
               "duration": 0,
               "redraw": true
              },
              "fromcurrent": true,
              "mode": "immediate",
              "transition": {
               "duration": 0,
               "easing": "linear"
              }
             }
            ],
            "label": "1990",
            "method": "animate"
           },
           {
            "args": [
             [
              "1991"
             ],
             {
              "frame": {
               "duration": 0,
               "redraw": true
              },
              "fromcurrent": true,
              "mode": "immediate",
              "transition": {
               "duration": 0,
               "easing": "linear"
              }
             }
            ],
            "label": "1991",
            "method": "animate"
           },
           {
            "args": [
             [
              "1992"
             ],
             {
              "frame": {
               "duration": 0,
               "redraw": true
              },
              "fromcurrent": true,
              "mode": "immediate",
              "transition": {
               "duration": 0,
               "easing": "linear"
              }
             }
            ],
            "label": "1992",
            "method": "animate"
           },
           {
            "args": [
             [
              "1993"
             ],
             {
              "frame": {
               "duration": 0,
               "redraw": true
              },
              "fromcurrent": true,
              "mode": "immediate",
              "transition": {
               "duration": 0,
               "easing": "linear"
              }
             }
            ],
            "label": "1993",
            "method": "animate"
           },
           {
            "args": [
             [
              "1994"
             ],
             {
              "frame": {
               "duration": 0,
               "redraw": true
              },
              "fromcurrent": true,
              "mode": "immediate",
              "transition": {
               "duration": 0,
               "easing": "linear"
              }
             }
            ],
            "label": "1994",
            "method": "animate"
           },
           {
            "args": [
             [
              "1995"
             ],
             {
              "frame": {
               "duration": 0,
               "redraw": true
              },
              "fromcurrent": true,
              "mode": "immediate",
              "transition": {
               "duration": 0,
               "easing": "linear"
              }
             }
            ],
            "label": "1995",
            "method": "animate"
           },
           {
            "args": [
             [
              "1996"
             ],
             {
              "frame": {
               "duration": 0,
               "redraw": true
              },
              "fromcurrent": true,
              "mode": "immediate",
              "transition": {
               "duration": 0,
               "easing": "linear"
              }
             }
            ],
            "label": "1996",
            "method": "animate"
           },
           {
            "args": [
             [
              "1997"
             ],
             {
              "frame": {
               "duration": 0,
               "redraw": true
              },
              "fromcurrent": true,
              "mode": "immediate",
              "transition": {
               "duration": 0,
               "easing": "linear"
              }
             }
            ],
            "label": "1997",
            "method": "animate"
           },
           {
            "args": [
             [
              "1998"
             ],
             {
              "frame": {
               "duration": 0,
               "redraw": true
              },
              "fromcurrent": true,
              "mode": "immediate",
              "transition": {
               "duration": 0,
               "easing": "linear"
              }
             }
            ],
            "label": "1998",
            "method": "animate"
           },
           {
            "args": [
             [
              "1999"
             ],
             {
              "frame": {
               "duration": 0,
               "redraw": true
              },
              "fromcurrent": true,
              "mode": "immediate",
              "transition": {
               "duration": 0,
               "easing": "linear"
              }
             }
            ],
            "label": "1999",
            "method": "animate"
           },
           {
            "args": [
             [
              "2000"
             ],
             {
              "frame": {
               "duration": 0,
               "redraw": true
              },
              "fromcurrent": true,
              "mode": "immediate",
              "transition": {
               "duration": 0,
               "easing": "linear"
              }
             }
            ],
            "label": "2000",
            "method": "animate"
           },
           {
            "args": [
             [
              "2001"
             ],
             {
              "frame": {
               "duration": 0,
               "redraw": true
              },
              "fromcurrent": true,
              "mode": "immediate",
              "transition": {
               "duration": 0,
               "easing": "linear"
              }
             }
            ],
            "label": "2001",
            "method": "animate"
           },
           {
            "args": [
             [
              "2002"
             ],
             {
              "frame": {
               "duration": 0,
               "redraw": true
              },
              "fromcurrent": true,
              "mode": "immediate",
              "transition": {
               "duration": 0,
               "easing": "linear"
              }
             }
            ],
            "label": "2002",
            "method": "animate"
           },
           {
            "args": [
             [
              "2003"
             ],
             {
              "frame": {
               "duration": 0,
               "redraw": true
              },
              "fromcurrent": true,
              "mode": "immediate",
              "transition": {
               "duration": 0,
               "easing": "linear"
              }
             }
            ],
            "label": "2003",
            "method": "animate"
           },
           {
            "args": [
             [
              "2004"
             ],
             {
              "frame": {
               "duration": 0,
               "redraw": true
              },
              "fromcurrent": true,
              "mode": "immediate",
              "transition": {
               "duration": 0,
               "easing": "linear"
              }
             }
            ],
            "label": "2004",
            "method": "animate"
           },
           {
            "args": [
             [
              "2005"
             ],
             {
              "frame": {
               "duration": 0,
               "redraw": true
              },
              "fromcurrent": true,
              "mode": "immediate",
              "transition": {
               "duration": 0,
               "easing": "linear"
              }
             }
            ],
            "label": "2005",
            "method": "animate"
           },
           {
            "args": [
             [
              "2006"
             ],
             {
              "frame": {
               "duration": 0,
               "redraw": true
              },
              "fromcurrent": true,
              "mode": "immediate",
              "transition": {
               "duration": 0,
               "easing": "linear"
              }
             }
            ],
            "label": "2006",
            "method": "animate"
           },
           {
            "args": [
             [
              "2007"
             ],
             {
              "frame": {
               "duration": 0,
               "redraw": true
              },
              "fromcurrent": true,
              "mode": "immediate",
              "transition": {
               "duration": 0,
               "easing": "linear"
              }
             }
            ],
            "label": "2007",
            "method": "animate"
           },
           {
            "args": [
             [
              "2008"
             ],
             {
              "frame": {
               "duration": 0,
               "redraw": true
              },
              "fromcurrent": true,
              "mode": "immediate",
              "transition": {
               "duration": 0,
               "easing": "linear"
              }
             }
            ],
            "label": "2008",
            "method": "animate"
           },
           {
            "args": [
             [
              "2009"
             ],
             {
              "frame": {
               "duration": 0,
               "redraw": true
              },
              "fromcurrent": true,
              "mode": "immediate",
              "transition": {
               "duration": 0,
               "easing": "linear"
              }
             }
            ],
            "label": "2009",
            "method": "animate"
           },
           {
            "args": [
             [
              "2010"
             ],
             {
              "frame": {
               "duration": 0,
               "redraw": true
              },
              "fromcurrent": true,
              "mode": "immediate",
              "transition": {
               "duration": 0,
               "easing": "linear"
              }
             }
            ],
            "label": "2010",
            "method": "animate"
           },
           {
            "args": [
             [
              "2011"
             ],
             {
              "frame": {
               "duration": 0,
               "redraw": true
              },
              "fromcurrent": true,
              "mode": "immediate",
              "transition": {
               "duration": 0,
               "easing": "linear"
              }
             }
            ],
            "label": "2011",
            "method": "animate"
           },
           {
            "args": [
             [
              "2012"
             ],
             {
              "frame": {
               "duration": 0,
               "redraw": true
              },
              "fromcurrent": true,
              "mode": "immediate",
              "transition": {
               "duration": 0,
               "easing": "linear"
              }
             }
            ],
            "label": "2012",
            "method": "animate"
           },
           {
            "args": [
             [
              "2013"
             ],
             {
              "frame": {
               "duration": 0,
               "redraw": true
              },
              "fromcurrent": true,
              "mode": "immediate",
              "transition": {
               "duration": 0,
               "easing": "linear"
              }
             }
            ],
            "label": "2013",
            "method": "animate"
           },
           {
            "args": [
             [
              "2014"
             ],
             {
              "frame": {
               "duration": 0,
               "redraw": true
              },
              "fromcurrent": true,
              "mode": "immediate",
              "transition": {
               "duration": 0,
               "easing": "linear"
              }
             }
            ],
            "label": "2014",
            "method": "animate"
           },
           {
            "args": [
             [
              "2015"
             ],
             {
              "frame": {
               "duration": 0,
               "redraw": true
              },
              "fromcurrent": true,
              "mode": "immediate",
              "transition": {
               "duration": 0,
               "easing": "linear"
              }
             }
            ],
            "label": "2015",
            "method": "animate"
           },
           {
            "args": [
             [
              "2016"
             ],
             {
              "frame": {
               "duration": 0,
               "redraw": true
              },
              "fromcurrent": true,
              "mode": "immediate",
              "transition": {
               "duration": 0,
               "easing": "linear"
              }
             }
            ],
            "label": "2016",
            "method": "animate"
           },
           {
            "args": [
             [
              "2017"
             ],
             {
              "frame": {
               "duration": 0,
               "redraw": true
              },
              "fromcurrent": true,
              "mode": "immediate",
              "transition": {
               "duration": 0,
               "easing": "linear"
              }
             }
            ],
            "label": "2017",
            "method": "animate"
           },
           {
            "args": [
             [
              "2018"
             ],
             {
              "frame": {
               "duration": 0,
               "redraw": true
              },
              "fromcurrent": true,
              "mode": "immediate",
              "transition": {
               "duration": 0,
               "easing": "linear"
              }
             }
            ],
            "label": "2018",
            "method": "animate"
           },
           {
            "args": [
             [
              "2019"
             ],
             {
              "frame": {
               "duration": 0,
               "redraw": true
              },
              "fromcurrent": true,
              "mode": "immediate",
              "transition": {
               "duration": 0,
               "easing": "linear"
              }
             }
            ],
            "label": "2019",
            "method": "animate"
           }
          ],
          "x": 0.1,
          "xanchor": "left",
          "y": 0,
          "yanchor": "top"
         }
        ],
        "template": {
         "data": {
          "bar": [
           {
            "error_x": {
             "color": "#2a3f5f"
            },
            "error_y": {
             "color": "#2a3f5f"
            },
            "marker": {
             "line": {
              "color": "#E5ECF6",
              "width": 0.5
             }
            },
            "type": "bar"
           }
          ],
          "barpolar": [
           {
            "marker": {
             "line": {
              "color": "#E5ECF6",
              "width": 0.5
             }
            },
            "type": "barpolar"
           }
          ],
          "carpet": [
           {
            "aaxis": {
             "endlinecolor": "#2a3f5f",
             "gridcolor": "white",
             "linecolor": "white",
             "minorgridcolor": "white",
             "startlinecolor": "#2a3f5f"
            },
            "baxis": {
             "endlinecolor": "#2a3f5f",
             "gridcolor": "white",
             "linecolor": "white",
             "minorgridcolor": "white",
             "startlinecolor": "#2a3f5f"
            },
            "type": "carpet"
           }
          ],
          "choropleth": [
           {
            "colorbar": {
             "outlinewidth": 0,
             "ticks": ""
            },
            "type": "choropleth"
           }
          ],
          "contour": [
           {
            "colorbar": {
             "outlinewidth": 0,
             "ticks": ""
            },
            "colorscale": [
             [
              0.0,
              "#0d0887"
             ],
             [
              0.1111111111111111,
              "#46039f"
             ],
             [
              0.2222222222222222,
              "#7201a8"
             ],
             [
              0.3333333333333333,
              "#9c179e"
             ],
             [
              0.4444444444444444,
              "#bd3786"
             ],
             [
              0.5555555555555556,
              "#d8576b"
             ],
             [
              0.6666666666666666,
              "#ed7953"
             ],
             [
              0.7777777777777778,
              "#fb9f3a"
             ],
             [
              0.8888888888888888,
              "#fdca26"
             ],
             [
              1.0,
              "#f0f921"
             ]
            ],
            "type": "contour"
           }
          ],
          "contourcarpet": [
           {
            "colorbar": {
             "outlinewidth": 0,
             "ticks": ""
            },
            "type": "contourcarpet"
           }
          ],
          "heatmap": [
           {
            "colorbar": {
             "outlinewidth": 0,
             "ticks": ""
            },
            "colorscale": [
             [
              0.0,
              "#0d0887"
             ],
             [
              0.1111111111111111,
              "#46039f"
             ],
             [
              0.2222222222222222,
              "#7201a8"
             ],
             [
              0.3333333333333333,
              "#9c179e"
             ],
             [
              0.4444444444444444,
              "#bd3786"
             ],
             [
              0.5555555555555556,
              "#d8576b"
             ],
             [
              0.6666666666666666,
              "#ed7953"
             ],
             [
              0.7777777777777778,
              "#fb9f3a"
             ],
             [
              0.8888888888888888,
              "#fdca26"
             ],
             [
              1.0,
              "#f0f921"
             ]
            ],
            "type": "heatmap"
           }
          ],
          "heatmapgl": [
           {
            "colorbar": {
             "outlinewidth": 0,
             "ticks": ""
            },
            "colorscale": [
             [
              0.0,
              "#0d0887"
             ],
             [
              0.1111111111111111,
              "#46039f"
             ],
             [
              0.2222222222222222,
              "#7201a8"
             ],
             [
              0.3333333333333333,
              "#9c179e"
             ],
             [
              0.4444444444444444,
              "#bd3786"
             ],
             [
              0.5555555555555556,
              "#d8576b"
             ],
             [
              0.6666666666666666,
              "#ed7953"
             ],
             [
              0.7777777777777778,
              "#fb9f3a"
             ],
             [
              0.8888888888888888,
              "#fdca26"
             ],
             [
              1.0,
              "#f0f921"
             ]
            ],
            "type": "heatmapgl"
           }
          ],
          "histogram": [
           {
            "marker": {
             "colorbar": {
              "outlinewidth": 0,
              "ticks": ""
             }
            },
            "type": "histogram"
           }
          ],
          "histogram2d": [
           {
            "colorbar": {
             "outlinewidth": 0,
             "ticks": ""
            },
            "colorscale": [
             [
              0.0,
              "#0d0887"
             ],
             [
              0.1111111111111111,
              "#46039f"
             ],
             [
              0.2222222222222222,
              "#7201a8"
             ],
             [
              0.3333333333333333,
              "#9c179e"
             ],
             [
              0.4444444444444444,
              "#bd3786"
             ],
             [
              0.5555555555555556,
              "#d8576b"
             ],
             [
              0.6666666666666666,
              "#ed7953"
             ],
             [
              0.7777777777777778,
              "#fb9f3a"
             ],
             [
              0.8888888888888888,
              "#fdca26"
             ],
             [
              1.0,
              "#f0f921"
             ]
            ],
            "type": "histogram2d"
           }
          ],
          "histogram2dcontour": [
           {
            "colorbar": {
             "outlinewidth": 0,
             "ticks": ""
            },
            "colorscale": [
             [
              0.0,
              "#0d0887"
             ],
             [
              0.1111111111111111,
              "#46039f"
             ],
             [
              0.2222222222222222,
              "#7201a8"
             ],
             [
              0.3333333333333333,
              "#9c179e"
             ],
             [
              0.4444444444444444,
              "#bd3786"
             ],
             [
              0.5555555555555556,
              "#d8576b"
             ],
             [
              0.6666666666666666,
              "#ed7953"
             ],
             [
              0.7777777777777778,
              "#fb9f3a"
             ],
             [
              0.8888888888888888,
              "#fdca26"
             ],
             [
              1.0,
              "#f0f921"
             ]
            ],
            "type": "histogram2dcontour"
           }
          ],
          "mesh3d": [
           {
            "colorbar": {
             "outlinewidth": 0,
             "ticks": ""
            },
            "type": "mesh3d"
           }
          ],
          "parcoords": [
           {
            "line": {
             "colorbar": {
              "outlinewidth": 0,
              "ticks": ""
             }
            },
            "type": "parcoords"
           }
          ],
          "pie": [
           {
            "automargin": true,
            "type": "pie"
           }
          ],
          "scatter": [
           {
            "marker": {
             "colorbar": {
              "outlinewidth": 0,
              "ticks": ""
             }
            },
            "type": "scatter"
           }
          ],
          "scatter3d": [
           {
            "line": {
             "colorbar": {
              "outlinewidth": 0,
              "ticks": ""
             }
            },
            "marker": {
             "colorbar": {
              "outlinewidth": 0,
              "ticks": ""
             }
            },
            "type": "scatter3d"
           }
          ],
          "scattercarpet": [
           {
            "marker": {
             "colorbar": {
              "outlinewidth": 0,
              "ticks": ""
             }
            },
            "type": "scattercarpet"
           }
          ],
          "scattergeo": [
           {
            "marker": {
             "colorbar": {
              "outlinewidth": 0,
              "ticks": ""
             }
            },
            "type": "scattergeo"
           }
          ],
          "scattergl": [
           {
            "marker": {
             "colorbar": {
              "outlinewidth": 0,
              "ticks": ""
             }
            },
            "type": "scattergl"
           }
          ],
          "scattermapbox": [
           {
            "marker": {
             "colorbar": {
              "outlinewidth": 0,
              "ticks": ""
             }
            },
            "type": "scattermapbox"
           }
          ],
          "scatterpolar": [
           {
            "marker": {
             "colorbar": {
              "outlinewidth": 0,
              "ticks": ""
             }
            },
            "type": "scatterpolar"
           }
          ],
          "scatterpolargl": [
           {
            "marker": {
             "colorbar": {
              "outlinewidth": 0,
              "ticks": ""
             }
            },
            "type": "scatterpolargl"
           }
          ],
          "scatterternary": [
           {
            "marker": {
             "colorbar": {
              "outlinewidth": 0,
              "ticks": ""
             }
            },
            "type": "scatterternary"
           }
          ],
          "surface": [
           {
            "colorbar": {
             "outlinewidth": 0,
             "ticks": ""
            },
            "colorscale": [
             [
              0.0,
              "#0d0887"
             ],
             [
              0.1111111111111111,
              "#46039f"
             ],
             [
              0.2222222222222222,
              "#7201a8"
             ],
             [
              0.3333333333333333,
              "#9c179e"
             ],
             [
              0.4444444444444444,
              "#bd3786"
             ],
             [
              0.5555555555555556,
              "#d8576b"
             ],
             [
              0.6666666666666666,
              "#ed7953"
             ],
             [
              0.7777777777777778,
              "#fb9f3a"
             ],
             [
              0.8888888888888888,
              "#fdca26"
             ],
             [
              1.0,
              "#f0f921"
             ]
            ],
            "type": "surface"
           }
          ],
          "table": [
           {
            "cells": {
             "fill": {
              "color": "#EBF0F8"
             },
             "line": {
              "color": "white"
             }
            },
            "header": {
             "fill": {
              "color": "#C8D4E3"
             },
             "line": {
              "color": "white"
             }
            },
            "type": "table"
           }
          ]
         },
         "layout": {
          "annotationdefaults": {
           "arrowcolor": "#2a3f5f",
           "arrowhead": 0,
           "arrowwidth": 1
          },
          "coloraxis": {
           "colorbar": {
            "outlinewidth": 0,
            "ticks": ""
           }
          },
          "colorscale": {
           "diverging": [
            [
             0,
             "#8e0152"
            ],
            [
             0.1,
             "#c51b7d"
            ],
            [
             0.2,
             "#de77ae"
            ],
            [
             0.3,
             "#f1b6da"
            ],
            [
             0.4,
             "#fde0ef"
            ],
            [
             0.5,
             "#f7f7f7"
            ],
            [
             0.6,
             "#e6f5d0"
            ],
            [
             0.7,
             "#b8e186"
            ],
            [
             0.8,
             "#7fbc41"
            ],
            [
             0.9,
             "#4d9221"
            ],
            [
             1,
             "#276419"
            ]
           ],
           "sequential": [
            [
             0.0,
             "#0d0887"
            ],
            [
             0.1111111111111111,
             "#46039f"
            ],
            [
             0.2222222222222222,
             "#7201a8"
            ],
            [
             0.3333333333333333,
             "#9c179e"
            ],
            [
             0.4444444444444444,
             "#bd3786"
            ],
            [
             0.5555555555555556,
             "#d8576b"
            ],
            [
             0.6666666666666666,
             "#ed7953"
            ],
            [
             0.7777777777777778,
             "#fb9f3a"
            ],
            [
             0.8888888888888888,
             "#fdca26"
            ],
            [
             1.0,
             "#f0f921"
            ]
           ],
           "sequentialminus": [
            [
             0.0,
             "#0d0887"
            ],
            [
             0.1111111111111111,
             "#46039f"
            ],
            [
             0.2222222222222222,
             "#7201a8"
            ],
            [
             0.3333333333333333,
             "#9c179e"
            ],
            [
             0.4444444444444444,
             "#bd3786"
            ],
            [
             0.5555555555555556,
             "#d8576b"
            ],
            [
             0.6666666666666666,
             "#ed7953"
            ],
            [
             0.7777777777777778,
             "#fb9f3a"
            ],
            [
             0.8888888888888888,
             "#fdca26"
            ],
            [
             1.0,
             "#f0f921"
            ]
           ]
          },
          "colorway": [
           "#636efa",
           "#EF553B",
           "#00cc96",
           "#ab63fa",
           "#FFA15A",
           "#19d3f3",
           "#FF6692",
           "#B6E880",
           "#FF97FF",
           "#FECB52"
          ],
          "font": {
           "color": "#2a3f5f"
          },
          "geo": {
           "bgcolor": "white",
           "lakecolor": "white",
           "landcolor": "#E5ECF6",
           "showlakes": true,
           "showland": true,
           "subunitcolor": "white"
          },
          "hoverlabel": {
           "align": "left"
          },
          "hovermode": "closest",
          "mapbox": {
           "style": "light"
          },
          "paper_bgcolor": "white",
          "plot_bgcolor": "#E5ECF6",
          "polar": {
           "angularaxis": {
            "gridcolor": "white",
            "linecolor": "white",
            "ticks": ""
           },
           "bgcolor": "#E5ECF6",
           "radialaxis": {
            "gridcolor": "white",
            "linecolor": "white",
            "ticks": ""
           }
          },
          "scene": {
           "xaxis": {
            "backgroundcolor": "#E5ECF6",
            "gridcolor": "white",
            "gridwidth": 2,
            "linecolor": "white",
            "showbackground": true,
            "ticks": "",
            "zerolinecolor": "white"
           },
           "yaxis": {
            "backgroundcolor": "#E5ECF6",
            "gridcolor": "white",
            "gridwidth": 2,
            "linecolor": "white",
            "showbackground": true,
            "ticks": "",
            "zerolinecolor": "white"
           },
           "zaxis": {
            "backgroundcolor": "#E5ECF6",
            "gridcolor": "white",
            "gridwidth": 2,
            "linecolor": "white",
            "showbackground": true,
            "ticks": "",
            "zerolinecolor": "white"
           }
          },
          "shapedefaults": {
           "line": {
            "color": "#2a3f5f"
           }
          },
          "ternary": {
           "aaxis": {
            "gridcolor": "white",
            "linecolor": "white",
            "ticks": ""
           },
           "baxis": {
            "gridcolor": "white",
            "linecolor": "white",
            "ticks": ""
           },
           "bgcolor": "#E5ECF6",
           "caxis": {
            "gridcolor": "white",
            "linecolor": "white",
            "ticks": ""
           }
          },
          "title": {
           "x": 0.05
          },
          "xaxis": {
           "automargin": true,
           "gridcolor": "white",
           "linecolor": "white",
           "ticks": "",
           "title": {
            "standoff": 15
           },
           "zerolinecolor": "white",
           "zerolinewidth": 2
          },
          "yaxis": {
           "automargin": true,
           "gridcolor": "white",
           "linecolor": "white",
           "ticks": "",
           "title": {
            "standoff": 15
           },
           "zerolinecolor": "white",
           "zerolinewidth": 2
          }
         }
        },
        "title": {
         "text": "Surface evolution/county 1990-2019 - Hardwood"
        },
        "updatemenus": [
         {
          "buttons": [
           {
            "args": [
             null,
             {
              "frame": {
               "duration": 500,
               "redraw": true
              },
              "fromcurrent": true,
              "mode": "immediate",
              "transition": {
               "duration": 500,
               "easing": "linear"
              }
             }
            ],
            "label": "&#9654;",
            "method": "animate"
           },
           {
            "args": [
             [
              null
             ],
             {
              "frame": {
               "duration": 0,
               "redraw": true
              },
              "fromcurrent": true,
              "mode": "immediate",
              "transition": {
               "duration": 0,
               "easing": "linear"
              }
             }
            ],
            "label": "&#9724;",
            "method": "animate"
           }
          ],
          "direction": "left",
          "pad": {
           "r": 10,
           "t": 70
          },
          "showactive": false,
          "type": "buttons",
          "x": 0.1,
          "xanchor": "right",
          "y": 0,
          "yanchor": "top"
         }
        ],
        "width": 600,
        "xaxis": {
         "anchor": "y",
         "domain": [
          0.0,
          1.0
         ],
         "range": [
          0.5,
          379.7
         ],
         "title": {
          "text": "Value"
         }
        },
        "yaxis": {
         "anchor": "x",
         "domain": [
          0.0,
          1.0
         ],
         "title": {
          "text": "Region"
         }
        }
       }
      },
      "text/html": [
       "<div>                            <div id=\"83cea567-38a0-4224-b438-64784857094a\" class=\"plotly-graph-div\" style=\"height:800px; width:600px;\"></div>            <script type=\"text/javascript\">                require([\"plotly\"], function(Plotly) {                    window.PLOTLYENV=window.PLOTLYENV || {};                                    if (document.getElementById(\"83cea567-38a0-4224-b438-64784857094a\")) {                    Plotly.newPlot(                        \"83cea567-38a0-4224-b438-64784857094a\",                        [{\"alignmentgroup\": \"True\", \"hovertemplate\": \"Year=1990<br>Value=%{x}<br>Region=%{y}<extra></extra>\", \"legendgroup\": \"\", \"marker\": {\"color\": \"#636efa\"}, \"name\": \"\", \"offsetgroup\": \"\", \"orientation\": \"h\", \"showlegend\": false, \"textposition\": \"auto\", \"type\": \"bar\", \"x\": [158.2, 98.4, 92.3, 157.3, 63.2, 87.7, 134.3, 122.0, 95.2, 58.7, 126.6, 114.5, 167.7, 53.6, 91.1, 111.4, 94.1, 68.6, 20.5, 109.6, 30.4, 34.6, 91.7, 121.7, 193.4, 20.3, 100.9, 38.1, 24.8, 113.4, 26.2, 25.3, 77.4, 218.8, 133.4, 50.9, 185.9, 182.3, 323.9, 213.0, 92.1], \"xaxis\": \"x\", \"y\": [\"Bihor\", \"Bistrita-Nasaud\", \"Cluj\", \"Maramures\", \"Satu Mare\", \"Salaj\", \"Alba\", \"Brasov\", \"Covasna\", \"Harghita\", \"Mures\", \"Sibiu\", \"Bacau\", \"Botosani\", \"Iasi\", \"Neamt\", \"Suceava\", \"Vaslui\", \"Braila\", \"Buzau\", \"Constanta\", \"Galati\", \"Tulcea\", \"Vrancea\", \"Arges\", \"Calarasi\", \"Dambovita\", \"Giurgiu\", \"Ialomita\", \"Prahova\", \"Teleorman\", \"Ilfov\", \"Dolj\", \"Gorj\", \"Mehedinti\", \"Olt\", \"Valcea\", \"Arad\", \"Caras-Severin\", \"Hunedoara\", \"Timis\"], \"yaxis\": \"y\"}],                        {\"barmode\": \"relative\", \"font\": {\"color\": \"#7f7f7f\", \"family\": \"Courier New, monospace\", \"size\": 10}, \"height\": 800, \"legend\": {\"tracegroupgap\": 0}, \"sliders\": [{\"active\": 0, \"currentvalue\": {\"prefix\": \"Year=\"}, \"len\": 0.9, \"pad\": {\"b\": 10, \"t\": 60}, \"steps\": [{\"args\": [[\"1990\"], {\"frame\": {\"duration\": 0, \"redraw\": true}, \"fromcurrent\": true, \"mode\": \"immediate\", \"transition\": {\"duration\": 0, \"easing\": \"linear\"}}], \"label\": \"1990\", \"method\": \"animate\"}, {\"args\": [[\"1991\"], {\"frame\": {\"duration\": 0, \"redraw\": true}, \"fromcurrent\": true, \"mode\": \"immediate\", \"transition\": {\"duration\": 0, \"easing\": \"linear\"}}], \"label\": \"1991\", \"method\": \"animate\"}, {\"args\": [[\"1992\"], {\"frame\": {\"duration\": 0, \"redraw\": true}, \"fromcurrent\": true, \"mode\": \"immediate\", \"transition\": {\"duration\": 0, \"easing\": \"linear\"}}], \"label\": \"1992\", \"method\": \"animate\"}, {\"args\": [[\"1993\"], {\"frame\": {\"duration\": 0, \"redraw\": true}, \"fromcurrent\": true, \"mode\": \"immediate\", \"transition\": {\"duration\": 0, \"easing\": \"linear\"}}], \"label\": \"1993\", \"method\": \"animate\"}, {\"args\": [[\"1994\"], {\"frame\": {\"duration\": 0, \"redraw\": true}, \"fromcurrent\": true, \"mode\": \"immediate\", \"transition\": {\"duration\": 0, \"easing\": \"linear\"}}], \"label\": \"1994\", \"method\": \"animate\"}, {\"args\": [[\"1995\"], {\"frame\": {\"duration\": 0, \"redraw\": true}, \"fromcurrent\": true, \"mode\": \"immediate\", \"transition\": {\"duration\": 0, \"easing\": \"linear\"}}], \"label\": \"1995\", \"method\": \"animate\"}, {\"args\": [[\"1996\"], {\"frame\": {\"duration\": 0, \"redraw\": true}, \"fromcurrent\": true, \"mode\": \"immediate\", \"transition\": {\"duration\": 0, \"easing\": \"linear\"}}], \"label\": \"1996\", \"method\": \"animate\"}, {\"args\": [[\"1997\"], {\"frame\": {\"duration\": 0, \"redraw\": true}, \"fromcurrent\": true, \"mode\": \"immediate\", \"transition\": {\"duration\": 0, \"easing\": \"linear\"}}], \"label\": \"1997\", \"method\": \"animate\"}, {\"args\": [[\"1998\"], {\"frame\": {\"duration\": 0, \"redraw\": true}, \"fromcurrent\": true, \"mode\": \"immediate\", \"transition\": {\"duration\": 0, \"easing\": \"linear\"}}], \"label\": \"1998\", \"method\": \"animate\"}, {\"args\": [[\"1999\"], {\"frame\": {\"duration\": 0, \"redraw\": true}, \"fromcurrent\": true, \"mode\": \"immediate\", \"transition\": {\"duration\": 0, \"easing\": \"linear\"}}], \"label\": \"1999\", \"method\": \"animate\"}, {\"args\": [[\"2000\"], {\"frame\": {\"duration\": 0, \"redraw\": true}, \"fromcurrent\": true, \"mode\": \"immediate\", \"transition\": {\"duration\": 0, \"easing\": \"linear\"}}], \"label\": \"2000\", \"method\": \"animate\"}, {\"args\": [[\"2001\"], {\"frame\": {\"duration\": 0, \"redraw\": true}, \"fromcurrent\": true, \"mode\": \"immediate\", \"transition\": {\"duration\": 0, \"easing\": \"linear\"}}], \"label\": \"2001\", \"method\": \"animate\"}, {\"args\": [[\"2002\"], {\"frame\": {\"duration\": 0, \"redraw\": true}, \"fromcurrent\": true, \"mode\": \"immediate\", \"transition\": {\"duration\": 0, \"easing\": \"linear\"}}], \"label\": \"2002\", \"method\": \"animate\"}, {\"args\": [[\"2003\"], {\"frame\": {\"duration\": 0, \"redraw\": true}, \"fromcurrent\": true, \"mode\": \"immediate\", \"transition\": {\"duration\": 0, \"easing\": \"linear\"}}], \"label\": \"2003\", \"method\": \"animate\"}, {\"args\": [[\"2004\"], {\"frame\": {\"duration\": 0, \"redraw\": true}, \"fromcurrent\": true, \"mode\": \"immediate\", \"transition\": {\"duration\": 0, \"easing\": \"linear\"}}], \"label\": \"2004\", \"method\": \"animate\"}, {\"args\": [[\"2005\"], {\"frame\": {\"duration\": 0, \"redraw\": true}, \"fromcurrent\": true, \"mode\": \"immediate\", \"transition\": {\"duration\": 0, \"easing\": \"linear\"}}], \"label\": \"2005\", \"method\": \"animate\"}, {\"args\": [[\"2006\"], {\"frame\": {\"duration\": 0, \"redraw\": true}, \"fromcurrent\": true, \"mode\": \"immediate\", \"transition\": {\"duration\": 0, \"easing\": \"linear\"}}], \"label\": \"2006\", \"method\": \"animate\"}, {\"args\": [[\"2007\"], {\"frame\": {\"duration\": 0, \"redraw\": true}, \"fromcurrent\": true, \"mode\": \"immediate\", \"transition\": {\"duration\": 0, \"easing\": \"linear\"}}], \"label\": \"2007\", \"method\": \"animate\"}, {\"args\": [[\"2008\"], {\"frame\": {\"duration\": 0, \"redraw\": true}, \"fromcurrent\": true, \"mode\": \"immediate\", \"transition\": {\"duration\": 0, \"easing\": \"linear\"}}], \"label\": \"2008\", \"method\": \"animate\"}, {\"args\": [[\"2009\"], {\"frame\": {\"duration\": 0, \"redraw\": true}, \"fromcurrent\": true, \"mode\": \"immediate\", \"transition\": {\"duration\": 0, \"easing\": \"linear\"}}], \"label\": \"2009\", \"method\": \"animate\"}, {\"args\": [[\"2010\"], {\"frame\": {\"duration\": 0, \"redraw\": true}, \"fromcurrent\": true, \"mode\": \"immediate\", \"transition\": {\"duration\": 0, \"easing\": \"linear\"}}], \"label\": \"2010\", \"method\": \"animate\"}, {\"args\": [[\"2011\"], {\"frame\": {\"duration\": 0, \"redraw\": true}, \"fromcurrent\": true, \"mode\": \"immediate\", \"transition\": {\"duration\": 0, \"easing\": \"linear\"}}], \"label\": \"2011\", \"method\": \"animate\"}, {\"args\": [[\"2012\"], {\"frame\": {\"duration\": 0, \"redraw\": true}, \"fromcurrent\": true, \"mode\": \"immediate\", \"transition\": {\"duration\": 0, \"easing\": \"linear\"}}], \"label\": \"2012\", \"method\": \"animate\"}, {\"args\": [[\"2013\"], {\"frame\": {\"duration\": 0, \"redraw\": true}, \"fromcurrent\": true, \"mode\": \"immediate\", \"transition\": {\"duration\": 0, \"easing\": \"linear\"}}], \"label\": \"2013\", \"method\": \"animate\"}, {\"args\": [[\"2014\"], {\"frame\": {\"duration\": 0, \"redraw\": true}, \"fromcurrent\": true, \"mode\": \"immediate\", \"transition\": {\"duration\": 0, \"easing\": \"linear\"}}], \"label\": \"2014\", \"method\": \"animate\"}, {\"args\": [[\"2015\"], {\"frame\": {\"duration\": 0, \"redraw\": true}, \"fromcurrent\": true, \"mode\": \"immediate\", \"transition\": {\"duration\": 0, \"easing\": \"linear\"}}], \"label\": \"2015\", \"method\": \"animate\"}, {\"args\": [[\"2016\"], {\"frame\": {\"duration\": 0, \"redraw\": true}, \"fromcurrent\": true, \"mode\": \"immediate\", \"transition\": {\"duration\": 0, \"easing\": \"linear\"}}], \"label\": \"2016\", \"method\": \"animate\"}, {\"args\": [[\"2017\"], {\"frame\": {\"duration\": 0, \"redraw\": true}, \"fromcurrent\": true, \"mode\": \"immediate\", \"transition\": {\"duration\": 0, \"easing\": \"linear\"}}], \"label\": \"2017\", \"method\": \"animate\"}, {\"args\": [[\"2018\"], {\"frame\": {\"duration\": 0, \"redraw\": true}, \"fromcurrent\": true, \"mode\": \"immediate\", \"transition\": {\"duration\": 0, \"easing\": \"linear\"}}], \"label\": \"2018\", \"method\": \"animate\"}, {\"args\": [[\"2019\"], {\"frame\": {\"duration\": 0, \"redraw\": true}, \"fromcurrent\": true, \"mode\": \"immediate\", \"transition\": {\"duration\": 0, \"easing\": \"linear\"}}], \"label\": \"2019\", \"method\": \"animate\"}], \"x\": 0.1, \"xanchor\": \"left\", \"y\": 0, \"yanchor\": \"top\"}], \"template\": {\"data\": {\"bar\": [{\"error_x\": {\"color\": \"#2a3f5f\"}, \"error_y\": {\"color\": \"#2a3f5f\"}, \"marker\": {\"line\": {\"color\": \"#E5ECF6\", \"width\": 0.5}}, \"type\": \"bar\"}], \"barpolar\": [{\"marker\": {\"line\": {\"color\": \"#E5ECF6\", \"width\": 0.5}}, \"type\": \"barpolar\"}], \"carpet\": [{\"aaxis\": {\"endlinecolor\": \"#2a3f5f\", \"gridcolor\": \"white\", \"linecolor\": \"white\", \"minorgridcolor\": \"white\", \"startlinecolor\": \"#2a3f5f\"}, \"baxis\": {\"endlinecolor\": \"#2a3f5f\", \"gridcolor\": \"white\", \"linecolor\": \"white\", \"minorgridcolor\": \"white\", \"startlinecolor\": \"#2a3f5f\"}, \"type\": \"carpet\"}], \"choropleth\": [{\"colorbar\": {\"outlinewidth\": 0, \"ticks\": \"\"}, \"type\": \"choropleth\"}], \"contour\": [{\"colorbar\": {\"outlinewidth\": 0, \"ticks\": \"\"}, \"colorscale\": [[0.0, \"#0d0887\"], [0.1111111111111111, \"#46039f\"], [0.2222222222222222, \"#7201a8\"], [0.3333333333333333, \"#9c179e\"], [0.4444444444444444, \"#bd3786\"], [0.5555555555555556, \"#d8576b\"], [0.6666666666666666, \"#ed7953\"], [0.7777777777777778, \"#fb9f3a\"], [0.8888888888888888, \"#fdca26\"], [1.0, \"#f0f921\"]], \"type\": \"contour\"}], \"contourcarpet\": [{\"colorbar\": {\"outlinewidth\": 0, \"ticks\": \"\"}, \"type\": \"contourcarpet\"}], \"heatmap\": [{\"colorbar\": {\"outlinewidth\": 0, \"ticks\": \"\"}, \"colorscale\": [[0.0, \"#0d0887\"], [0.1111111111111111, \"#46039f\"], [0.2222222222222222, \"#7201a8\"], [0.3333333333333333, \"#9c179e\"], [0.4444444444444444, \"#bd3786\"], [0.5555555555555556, \"#d8576b\"], [0.6666666666666666, \"#ed7953\"], [0.7777777777777778, \"#fb9f3a\"], [0.8888888888888888, \"#fdca26\"], [1.0, \"#f0f921\"]], \"type\": \"heatmap\"}], \"heatmapgl\": [{\"colorbar\": {\"outlinewidth\": 0, \"ticks\": \"\"}, \"colorscale\": [[0.0, \"#0d0887\"], [0.1111111111111111, \"#46039f\"], [0.2222222222222222, \"#7201a8\"], [0.3333333333333333, \"#9c179e\"], [0.4444444444444444, \"#bd3786\"], [0.5555555555555556, \"#d8576b\"], [0.6666666666666666, \"#ed7953\"], [0.7777777777777778, \"#fb9f3a\"], [0.8888888888888888, \"#fdca26\"], [1.0, \"#f0f921\"]], \"type\": \"heatmapgl\"}], \"histogram\": [{\"marker\": {\"colorbar\": {\"outlinewidth\": 0, \"ticks\": \"\"}}, \"type\": \"histogram\"}], \"histogram2d\": [{\"colorbar\": {\"outlinewidth\": 0, \"ticks\": \"\"}, \"colorscale\": [[0.0, \"#0d0887\"], [0.1111111111111111, \"#46039f\"], [0.2222222222222222, \"#7201a8\"], [0.3333333333333333, \"#9c179e\"], [0.4444444444444444, \"#bd3786\"], [0.5555555555555556, \"#d8576b\"], [0.6666666666666666, \"#ed7953\"], [0.7777777777777778, \"#fb9f3a\"], [0.8888888888888888, \"#fdca26\"], [1.0, \"#f0f921\"]], \"type\": \"histogram2d\"}], \"histogram2dcontour\": [{\"colorbar\": {\"outlinewidth\": 0, \"ticks\": \"\"}, \"colorscale\": [[0.0, \"#0d0887\"], [0.1111111111111111, \"#46039f\"], [0.2222222222222222, \"#7201a8\"], [0.3333333333333333, \"#9c179e\"], [0.4444444444444444, \"#bd3786\"], [0.5555555555555556, \"#d8576b\"], [0.6666666666666666, \"#ed7953\"], [0.7777777777777778, \"#fb9f3a\"], [0.8888888888888888, \"#fdca26\"], [1.0, \"#f0f921\"]], \"type\": \"histogram2dcontour\"}], \"mesh3d\": [{\"colorbar\": {\"outlinewidth\": 0, \"ticks\": \"\"}, \"type\": \"mesh3d\"}], \"parcoords\": [{\"line\": {\"colorbar\": {\"outlinewidth\": 0, \"ticks\": \"\"}}, \"type\": \"parcoords\"}], \"pie\": [{\"automargin\": true, \"type\": \"pie\"}], \"scatter\": [{\"marker\": {\"colorbar\": {\"outlinewidth\": 0, \"ticks\": \"\"}}, \"type\": \"scatter\"}], \"scatter3d\": [{\"line\": {\"colorbar\": {\"outlinewidth\": 0, \"ticks\": \"\"}}, \"marker\": {\"colorbar\": {\"outlinewidth\": 0, \"ticks\": \"\"}}, \"type\": \"scatter3d\"}], \"scattercarpet\": [{\"marker\": {\"colorbar\": {\"outlinewidth\": 0, \"ticks\": \"\"}}, \"type\": \"scattercarpet\"}], \"scattergeo\": [{\"marker\": {\"colorbar\": {\"outlinewidth\": 0, \"ticks\": \"\"}}, \"type\": \"scattergeo\"}], \"scattergl\": [{\"marker\": {\"colorbar\": {\"outlinewidth\": 0, \"ticks\": \"\"}}, \"type\": \"scattergl\"}], \"scattermapbox\": [{\"marker\": {\"colorbar\": {\"outlinewidth\": 0, \"ticks\": \"\"}}, \"type\": \"scattermapbox\"}], \"scatterpolar\": [{\"marker\": {\"colorbar\": {\"outlinewidth\": 0, \"ticks\": \"\"}}, \"type\": \"scatterpolar\"}], \"scatterpolargl\": [{\"marker\": {\"colorbar\": {\"outlinewidth\": 0, \"ticks\": \"\"}}, \"type\": \"scatterpolargl\"}], \"scatterternary\": [{\"marker\": {\"colorbar\": {\"outlinewidth\": 0, \"ticks\": \"\"}}, \"type\": \"scatterternary\"}], \"surface\": [{\"colorbar\": {\"outlinewidth\": 0, \"ticks\": \"\"}, \"colorscale\": [[0.0, \"#0d0887\"], [0.1111111111111111, \"#46039f\"], [0.2222222222222222, \"#7201a8\"], [0.3333333333333333, \"#9c179e\"], [0.4444444444444444, \"#bd3786\"], [0.5555555555555556, \"#d8576b\"], [0.6666666666666666, \"#ed7953\"], [0.7777777777777778, \"#fb9f3a\"], [0.8888888888888888, \"#fdca26\"], [1.0, \"#f0f921\"]], \"type\": \"surface\"}], \"table\": [{\"cells\": {\"fill\": {\"color\": \"#EBF0F8\"}, \"line\": {\"color\": \"white\"}}, \"header\": {\"fill\": {\"color\": \"#C8D4E3\"}, \"line\": {\"color\": \"white\"}}, \"type\": \"table\"}]}, \"layout\": {\"annotationdefaults\": {\"arrowcolor\": \"#2a3f5f\", \"arrowhead\": 0, \"arrowwidth\": 1}, \"coloraxis\": {\"colorbar\": {\"outlinewidth\": 0, \"ticks\": \"\"}}, \"colorscale\": {\"diverging\": [[0, \"#8e0152\"], [0.1, \"#c51b7d\"], [0.2, \"#de77ae\"], [0.3, \"#f1b6da\"], [0.4, \"#fde0ef\"], [0.5, \"#f7f7f7\"], [0.6, \"#e6f5d0\"], [0.7, \"#b8e186\"], [0.8, \"#7fbc41\"], [0.9, \"#4d9221\"], [1, \"#276419\"]], \"sequential\": [[0.0, \"#0d0887\"], [0.1111111111111111, \"#46039f\"], [0.2222222222222222, \"#7201a8\"], [0.3333333333333333, \"#9c179e\"], [0.4444444444444444, \"#bd3786\"], [0.5555555555555556, \"#d8576b\"], [0.6666666666666666, \"#ed7953\"], [0.7777777777777778, \"#fb9f3a\"], [0.8888888888888888, \"#fdca26\"], [1.0, \"#f0f921\"]], \"sequentialminus\": [[0.0, \"#0d0887\"], [0.1111111111111111, \"#46039f\"], [0.2222222222222222, \"#7201a8\"], [0.3333333333333333, \"#9c179e\"], [0.4444444444444444, \"#bd3786\"], [0.5555555555555556, \"#d8576b\"], [0.6666666666666666, \"#ed7953\"], [0.7777777777777778, \"#fb9f3a\"], [0.8888888888888888, \"#fdca26\"], [1.0, \"#f0f921\"]]}, \"colorway\": [\"#636efa\", \"#EF553B\", \"#00cc96\", \"#ab63fa\", \"#FFA15A\", \"#19d3f3\", \"#FF6692\", \"#B6E880\", \"#FF97FF\", \"#FECB52\"], \"font\": {\"color\": \"#2a3f5f\"}, \"geo\": {\"bgcolor\": \"white\", \"lakecolor\": \"white\", \"landcolor\": \"#E5ECF6\", \"showlakes\": true, \"showland\": true, \"subunitcolor\": \"white\"}, \"hoverlabel\": {\"align\": \"left\"}, \"hovermode\": \"closest\", \"mapbox\": {\"style\": \"light\"}, \"paper_bgcolor\": \"white\", \"plot_bgcolor\": \"#E5ECF6\", \"polar\": {\"angularaxis\": {\"gridcolor\": \"white\", \"linecolor\": \"white\", \"ticks\": \"\"}, \"bgcolor\": \"#E5ECF6\", \"radialaxis\": {\"gridcolor\": \"white\", \"linecolor\": \"white\", \"ticks\": \"\"}}, \"scene\": {\"xaxis\": {\"backgroundcolor\": \"#E5ECF6\", \"gridcolor\": \"white\", \"gridwidth\": 2, \"linecolor\": \"white\", \"showbackground\": true, \"ticks\": \"\", \"zerolinecolor\": \"white\"}, \"yaxis\": {\"backgroundcolor\": \"#E5ECF6\", \"gridcolor\": \"white\", \"gridwidth\": 2, \"linecolor\": \"white\", \"showbackground\": true, \"ticks\": \"\", \"zerolinecolor\": \"white\"}, \"zaxis\": {\"backgroundcolor\": \"#E5ECF6\", \"gridcolor\": \"white\", \"gridwidth\": 2, \"linecolor\": \"white\", \"showbackground\": true, \"ticks\": \"\", \"zerolinecolor\": \"white\"}}, \"shapedefaults\": {\"line\": {\"color\": \"#2a3f5f\"}}, \"ternary\": {\"aaxis\": {\"gridcolor\": \"white\", \"linecolor\": \"white\", \"ticks\": \"\"}, \"baxis\": {\"gridcolor\": \"white\", \"linecolor\": \"white\", \"ticks\": \"\"}, \"bgcolor\": \"#E5ECF6\", \"caxis\": {\"gridcolor\": \"white\", \"linecolor\": \"white\", \"ticks\": \"\"}}, \"title\": {\"x\": 0.05}, \"xaxis\": {\"automargin\": true, \"gridcolor\": \"white\", \"linecolor\": \"white\", \"ticks\": \"\", \"title\": {\"standoff\": 15}, \"zerolinecolor\": \"white\", \"zerolinewidth\": 2}, \"yaxis\": {\"automargin\": true, \"gridcolor\": \"white\", \"linecolor\": \"white\", \"ticks\": \"\", \"title\": {\"standoff\": 15}, \"zerolinecolor\": \"white\", \"zerolinewidth\": 2}}}, \"title\": {\"text\": \"Surface evolution/county 1990-2019 - Hardwood\"}, \"updatemenus\": [{\"buttons\": [{\"args\": [null, {\"frame\": {\"duration\": 500, \"redraw\": true}, \"fromcurrent\": true, \"mode\": \"immediate\", \"transition\": {\"duration\": 500, \"easing\": \"linear\"}}], \"label\": \"&#9654;\", \"method\": \"animate\"}, {\"args\": [[null], {\"frame\": {\"duration\": 0, \"redraw\": true}, \"fromcurrent\": true, \"mode\": \"immediate\", \"transition\": {\"duration\": 0, \"easing\": \"linear\"}}], \"label\": \"&#9724;\", \"method\": \"animate\"}], \"direction\": \"left\", \"pad\": {\"r\": 10, \"t\": 70}, \"showactive\": false, \"type\": \"buttons\", \"x\": 0.1, \"xanchor\": \"right\", \"y\": 0, \"yanchor\": \"top\"}], \"width\": 600, \"xaxis\": {\"anchor\": \"y\", \"domain\": [0.0, 1.0], \"range\": [0.5, 379.7], \"title\": {\"text\": \"Value\"}}, \"yaxis\": {\"anchor\": \"x\", \"domain\": [0.0, 1.0], \"title\": {\"text\": \"Region\"}}},                        {\"responsive\": true}                    ).then(function(){\n",
       "                            Plotly.addFrames('83cea567-38a0-4224-b438-64784857094a', [{\"data\": [{\"alignmentgroup\": \"True\", \"hovertemplate\": \"Year=1990<br>Value=%{x}<br>Region=%{y}<extra></extra>\", \"legendgroup\": \"\", \"marker\": {\"color\": \"#636efa\"}, \"name\": \"\", \"offsetgroup\": \"\", \"orientation\": \"h\", \"showlegend\": false, \"textposition\": \"auto\", \"x\": [158.2, 98.4, 92.3, 157.3, 63.2, 87.7, 134.3, 122.0, 95.2, 58.7, 126.6, 114.5, 167.7, 53.6, 91.1, 111.4, 94.1, 68.6, 20.5, 109.6, 30.4, 34.6, 91.7, 121.7, 193.4, 20.3, 100.9, 38.1, 24.8, 113.4, 26.2, 25.3, 77.4, 218.8, 133.4, 50.9, 185.9, 182.3, 323.9, 213.0, 92.1], \"xaxis\": \"x\", \"y\": [\"Bihor\", \"Bistrita-Nasaud\", \"Cluj\", \"Maramures\", \"Satu Mare\", \"Salaj\", \"Alba\", \"Brasov\", \"Covasna\", \"Harghita\", \"Mures\", \"Sibiu\", \"Bacau\", \"Botosani\", \"Iasi\", \"Neamt\", \"Suceava\", \"Vaslui\", \"Braila\", \"Buzau\", \"Constanta\", \"Galati\", \"Tulcea\", \"Vrancea\", \"Arges\", \"Calarasi\", \"Dambovita\", \"Giurgiu\", \"Ialomita\", \"Prahova\", \"Teleorman\", \"Ilfov\", \"Dolj\", \"Gorj\", \"Mehedinti\", \"Olt\", \"Valcea\", \"Arad\", \"Caras-Severin\", \"Hunedoara\", \"Timis\"], \"yaxis\": \"y\", \"type\": \"bar\"}], \"name\": \"1990\"}, {\"data\": [{\"alignmentgroup\": \"True\", \"hovertemplate\": \"Year=1991<br>Value=%{x}<br>Region=%{y}<extra></extra>\", \"legendgroup\": \"\", \"marker\": {\"color\": \"#636efa\"}, \"name\": \"\", \"offsetgroup\": \"\", \"orientation\": \"h\", \"showlegend\": false, \"textposition\": \"auto\", \"x\": [158.1, 98.5, 92.7, 157.2, 63.2, 88.0, 134.0, 122.1, 95.2, 58.4, 127.1, 114.5, 167.6, 53.7, 91.3, 112.4, 94.5, 68.5, 20.4, 109.4, 28.9, 34.8, 92.4, 121.4, 193.3, 20.4, 100.8, 44.2, 24.8, 113.2, 26.5, 19.2, 77.7, 218.6, 133.5, 50.7, 185.3, 182.3, 323.7, 212.9, 92.1], \"xaxis\": \"x\", \"y\": [\"Bihor\", \"Bistrita-Nasaud\", \"Cluj\", \"Maramures\", \"Satu Mare\", \"Salaj\", \"Alba\", \"Brasov\", \"Covasna\", \"Harghita\", \"Mures\", \"Sibiu\", \"Bacau\", \"Botosani\", \"Iasi\", \"Neamt\", \"Suceava\", \"Vaslui\", \"Braila\", \"Buzau\", \"Constanta\", \"Galati\", \"Tulcea\", \"Vrancea\", \"Arges\", \"Calarasi\", \"Dambovita\", \"Giurgiu\", \"Ialomita\", \"Prahova\", \"Teleorman\", \"Ilfov\", \"Dolj\", \"Gorj\", \"Mehedinti\", \"Olt\", \"Valcea\", \"Arad\", \"Caras-Severin\", \"Hunedoara\", \"Timis\"], \"yaxis\": \"y\", \"type\": \"bar\"}], \"name\": \"1991\"}, {\"data\": [{\"alignmentgroup\": \"True\", \"hovertemplate\": \"Year=1992<br>Value=%{x}<br>Region=%{y}<extra></extra>\", \"legendgroup\": \"\", \"marker\": {\"color\": \"#636efa\"}, \"name\": \"\", \"offsetgroup\": \"\", \"orientation\": \"h\", \"showlegend\": false, \"textposition\": \"auto\", \"x\": [158.1, 98.5, 93.4, 158.3, 63.1, 88.3, 133.7, 122.5, 95.1, 58.7, 127.3, 115.1, 177.2, 53.5, 90.9, 102.2, 94.4, 68.4, 20.3, 110.3, 28.9, 34.7, 92.5, 122.1, 193.5, 20.5, 101.0, 37.8, 24.7, 113.1, 26.2, 25.3, 77.1, 219.6, 133.9, 50.5, 185.1, 182.4, 323.8, 213.0, 92.5], \"xaxis\": \"x\", \"y\": [\"Bihor\", \"Bistrita-Nasaud\", \"Cluj\", \"Maramures\", \"Satu Mare\", \"Salaj\", \"Alba\", \"Brasov\", \"Covasna\", \"Harghita\", \"Mures\", \"Sibiu\", \"Bacau\", \"Botosani\", \"Iasi\", \"Neamt\", \"Suceava\", \"Vaslui\", \"Braila\", \"Buzau\", \"Constanta\", \"Galati\", \"Tulcea\", \"Vrancea\", \"Arges\", \"Calarasi\", \"Dambovita\", \"Giurgiu\", \"Ialomita\", \"Prahova\", \"Teleorman\", \"Ilfov\", \"Dolj\", \"Gorj\", \"Mehedinti\", \"Olt\", \"Valcea\", \"Arad\", \"Caras-Severin\", \"Hunedoara\", \"Timis\"], \"yaxis\": \"y\", \"type\": \"bar\"}], \"name\": \"1992\"}, {\"data\": [{\"alignmentgroup\": \"True\", \"hovertemplate\": \"Year=1993<br>Value=%{x}<br>Region=%{y}<extra></extra>\", \"legendgroup\": \"\", \"marker\": {\"color\": \"#636efa\"}, \"name\": \"\", \"offsetgroup\": \"\", \"orientation\": \"h\", \"showlegend\": false, \"textposition\": \"auto\", \"x\": [155.7, 98.6, 93.3, 158.2, 63.3, 88.3, 133.6, 123.2, 95.1, 58.3, 127.6, 115.0, 167.8, 53.4, 91.1, 111.8, 94.6, 68.5, 19.7, 110.5, 28.0, 34.8, 92.2, 120.5, 193.2, 20.0, 101.1, 37.5, 24.5, 112.9, 25.2, 24.8, 76.7, 223.4, 135.4, 50.4, 186.8, 184.7, 326.5, 214.8, 92.5], \"xaxis\": \"x\", \"y\": [\"Bihor\", \"Bistrita-Nasaud\", \"Cluj\", \"Maramures\", \"Satu Mare\", \"Salaj\", \"Alba\", \"Brasov\", \"Covasna\", \"Harghita\", \"Mures\", \"Sibiu\", \"Bacau\", \"Botosani\", \"Iasi\", \"Neamt\", \"Suceava\", \"Vaslui\", \"Braila\", \"Buzau\", \"Constanta\", \"Galati\", \"Tulcea\", \"Vrancea\", \"Arges\", \"Calarasi\", \"Dambovita\", \"Giurgiu\", \"Ialomita\", \"Prahova\", \"Teleorman\", \"Ilfov\", \"Dolj\", \"Gorj\", \"Mehedinti\", \"Olt\", \"Valcea\", \"Arad\", \"Caras-Severin\", \"Hunedoara\", \"Timis\"], \"yaxis\": \"y\", \"type\": \"bar\"}], \"name\": \"1993\"}, {\"data\": [{\"alignmentgroup\": \"True\", \"hovertemplate\": \"Year=1994<br>Value=%{x}<br>Region=%{y}<extra></extra>\", \"legendgroup\": \"\", \"marker\": {\"color\": \"#636efa\"}, \"name\": \"\", \"offsetgroup\": \"\", \"orientation\": \"h\", \"showlegend\": false, \"textposition\": \"auto\", \"x\": [158.3, 98.0, 93.4, 158.7, 60.7, 88.2, 134.0, 122.8, 95.1, 57.2, 128.1, 115.1, 167.2, 53.4, 91.5, 112.3, 94.6, 68.6, 19.7, 111.4, 28.2, 34.9, 92.5, 121.2, 195.1, 19.5, 100.3, 35.8, 24.2, 111.1, 27.1, 25.0, 77.0, 224.7, 135.4, 49.5, 186.8, 182.6, 326.0, 214.7, 92.8], \"xaxis\": \"x\", \"y\": [\"Bihor\", \"Bistrita-Nasaud\", \"Cluj\", \"Maramures\", \"Satu Mare\", \"Salaj\", \"Alba\", \"Brasov\", \"Covasna\", \"Harghita\", \"Mures\", \"Sibiu\", \"Bacau\", \"Botosani\", \"Iasi\", \"Neamt\", \"Suceava\", \"Vaslui\", \"Braila\", \"Buzau\", \"Constanta\", \"Galati\", \"Tulcea\", \"Vrancea\", \"Arges\", \"Calarasi\", \"Dambovita\", \"Giurgiu\", \"Ialomita\", \"Prahova\", \"Teleorman\", \"Ilfov\", \"Dolj\", \"Gorj\", \"Mehedinti\", \"Olt\", \"Valcea\", \"Arad\", \"Caras-Severin\", \"Hunedoara\", \"Timis\"], \"yaxis\": \"y\", \"type\": \"bar\"}], \"name\": \"1994\"}, {\"data\": [{\"alignmentgroup\": \"True\", \"hovertemplate\": \"Year=1995<br>Value=%{x}<br>Region=%{y}<extra></extra>\", \"legendgroup\": \"\", \"marker\": {\"color\": \"#636efa\"}, \"name\": \"\", \"offsetgroup\": \"\", \"orientation\": \"h\", \"showlegend\": false, \"textposition\": \"auto\", \"x\": [158.6, 98.2, 93.2, 158.7, 60.9, 88.5, 134.2, 122.7, 95.8, 59.3, 127.9, 115.3, 168.0, 53.3, 91.6, 112.5, 94.4, 68.5, 19.3, 111.2, 28.2, 34.3, 92.0, 124.0, 195.7, 20.2, 101.7, 35.7, 24.5, 111.2, 26.8, 24.7, 77.4, 219.4, 135.2, 49.5, 186.1, 182.7, 327.0, 220.6, 92.8], \"xaxis\": \"x\", \"y\": [\"Bihor\", \"Bistrita-Nasaud\", \"Cluj\", \"Maramures\", \"Satu Mare\", \"Salaj\", \"Alba\", \"Brasov\", \"Covasna\", \"Harghita\", \"Mures\", \"Sibiu\", \"Bacau\", \"Botosani\", \"Iasi\", \"Neamt\", \"Suceava\", \"Vaslui\", \"Braila\", \"Buzau\", \"Constanta\", \"Galati\", \"Tulcea\", \"Vrancea\", \"Arges\", \"Calarasi\", \"Dambovita\", \"Giurgiu\", \"Ialomita\", \"Prahova\", \"Teleorman\", \"Ilfov\", \"Dolj\", \"Gorj\", \"Mehedinti\", \"Olt\", \"Valcea\", \"Arad\", \"Caras-Severin\", \"Hunedoara\", \"Timis\"], \"yaxis\": \"y\", \"type\": \"bar\"}], \"name\": \"1995\"}, {\"data\": [{\"alignmentgroup\": \"True\", \"hovertemplate\": \"Year=1996<br>Value=%{x}<br>Region=%{y}<extra></extra>\", \"legendgroup\": \"\", \"marker\": {\"color\": \"#636efa\"}, \"name\": \"\", \"offsetgroup\": \"\", \"orientation\": \"h\", \"showlegend\": false, \"textposition\": \"auto\", \"x\": [158.9, 97.2, 93.1, 158.8, 62.8, 88.4, 134.2, 122.9, 96.7, 59.1, 128.1, 115.7, 168.6, 53.3, 91.6, 112.7, 94.4, 68.6, 19.9, 110.7, 28.2, 34.5, 92.1, 122.1, 195.9, 20.2, 100.7, 35.8, 24.4, 111.7, 26.5, 24.8, 77.1, 219.4, 135.2, 49.4, 185.9, 184.3, 331.7, 221.7, 92.8], \"xaxis\": \"x\", \"y\": [\"Bihor\", \"Bistrita-Nasaud\", \"Cluj\", \"Maramures\", \"Satu Mare\", \"Salaj\", \"Alba\", \"Brasov\", \"Covasna\", \"Harghita\", \"Mures\", \"Sibiu\", \"Bacau\", \"Botosani\", \"Iasi\", \"Neamt\", \"Suceava\", \"Vaslui\", \"Braila\", \"Buzau\", \"Constanta\", \"Galati\", \"Tulcea\", \"Vrancea\", \"Arges\", \"Calarasi\", \"Dambovita\", \"Giurgiu\", \"Ialomita\", \"Prahova\", \"Teleorman\", \"Ilfov\", \"Dolj\", \"Gorj\", \"Mehedinti\", \"Olt\", \"Valcea\", \"Arad\", \"Caras-Severin\", \"Hunedoara\", \"Timis\"], \"yaxis\": \"y\", \"type\": \"bar\"}], \"name\": \"1996\"}, {\"data\": [{\"alignmentgroup\": \"True\", \"hovertemplate\": \"Year=1997<br>Value=%{x}<br>Region=%{y}<extra></extra>\", \"legendgroup\": \"\", \"marker\": {\"color\": \"#636efa\"}, \"name\": \"\", \"offsetgroup\": \"\", \"orientation\": \"h\", \"showlegend\": false, \"textposition\": \"auto\", \"x\": [159.0, 99.0, 93.1, 161.2, 62.8, 88.5, 134.2, 121.9, 96.8, 59.1, 128.0, 115.7, 168.3, 53.4, 91.3, 112.1, 95.3, 68.5, 20.2, 111.4, 27.7, 33.5, 91.8, 122.3, 195.6, 20.2, 100.4, 35.7, 23.8, 112.5, 26.5, 24.6, 77.1, 219.4, 135.1, 49.6, 186.5, 184.9, 331.9, 221.7, 93.0], \"xaxis\": \"x\", \"y\": [\"Bihor\", \"Bistrita-Nasaud\", \"Cluj\", \"Maramures\", \"Satu Mare\", \"Salaj\", \"Alba\", \"Brasov\", \"Covasna\", \"Harghita\", \"Mures\", \"Sibiu\", \"Bacau\", \"Botosani\", \"Iasi\", \"Neamt\", \"Suceava\", \"Vaslui\", \"Braila\", \"Buzau\", \"Constanta\", \"Galati\", \"Tulcea\", \"Vrancea\", \"Arges\", \"Calarasi\", \"Dambovita\", \"Giurgiu\", \"Ialomita\", \"Prahova\", \"Teleorman\", \"Ilfov\", \"Dolj\", \"Gorj\", \"Mehedinti\", \"Olt\", \"Valcea\", \"Arad\", \"Caras-Severin\", \"Hunedoara\", \"Timis\"], \"yaxis\": \"y\", \"type\": \"bar\"}], \"name\": \"1997\"}, {\"data\": [{\"alignmentgroup\": \"True\", \"hovertemplate\": \"Year=1998<br>Value=%{x}<br>Region=%{y}<extra></extra>\", \"legendgroup\": \"\", \"marker\": {\"color\": \"#636efa\"}, \"name\": \"\", \"offsetgroup\": \"\", \"orientation\": \"h\", \"showlegend\": false, \"textposition\": \"auto\", \"x\": [159.3, 98.6, 93.1, 163.0, 62.7, 88.5, 134.2, 122.5, 97.1, 58.8, 128.3, 115.7, 169.7, 53.4, 90.8, 111.9, 95.2, 68.8, 20.1, 111.4, 28.0, 33.6, 91.8, 123.0, 195.4, 20.2, 100.3, 35.6, 23.8, 112.5, 26.2, 24.6, 77.1, 218.8, 135.2, 49.6, 187.6, 185.0, 332.3, 222.7, 93.0], \"xaxis\": \"x\", \"y\": [\"Bihor\", \"Bistrita-Nasaud\", \"Cluj\", \"Maramures\", \"Satu Mare\", \"Salaj\", \"Alba\", \"Brasov\", \"Covasna\", \"Harghita\", \"Mures\", \"Sibiu\", \"Bacau\", \"Botosani\", \"Iasi\", \"Neamt\", \"Suceava\", \"Vaslui\", \"Braila\", \"Buzau\", \"Constanta\", \"Galati\", \"Tulcea\", \"Vrancea\", \"Arges\", \"Calarasi\", \"Dambovita\", \"Giurgiu\", \"Ialomita\", \"Prahova\", \"Teleorman\", \"Ilfov\", \"Dolj\", \"Gorj\", \"Mehedinti\", \"Olt\", \"Valcea\", \"Arad\", \"Caras-Severin\", \"Hunedoara\", \"Timis\"], \"yaxis\": \"y\", \"type\": \"bar\"}], \"name\": \"1998\"}, {\"data\": [{\"alignmentgroup\": \"True\", \"hovertemplate\": \"Year=1999<br>Value=%{x}<br>Region=%{y}<extra></extra>\", \"legendgroup\": \"\", \"marker\": {\"color\": \"#636efa\"}, \"name\": \"\", \"offsetgroup\": \"\", \"orientation\": \"h\", \"showlegend\": false, \"textposition\": \"auto\", \"x\": [159.3, 98.3, 93.1, 162.9, 62.7, 88.6, 134.2, 122.5, 97.2, 58.7, 128.3, 116.2, 171.4, 53.3, 90.9, 111.9, 95.6, 68.5, 20.6, 111.6, 28.3, 34.0, 92.0, 123.0, 195.4, 20.1, 100.7, 35.5, 24.0, 112.1, 26.0, 24.4, 77.9, 219.3, 135.3, 49.8, 187.8, 185.1, 332.3, 222.5, 93.1], \"xaxis\": \"x\", \"y\": [\"Bihor\", \"Bistrita-Nasaud\", \"Cluj\", \"Maramures\", \"Satu Mare\", \"Salaj\", \"Alba\", \"Brasov\", \"Covasna\", \"Harghita\", \"Mures\", \"Sibiu\", \"Bacau\", \"Botosani\", \"Iasi\", \"Neamt\", \"Suceava\", \"Vaslui\", \"Braila\", \"Buzau\", \"Constanta\", \"Galati\", \"Tulcea\", \"Vrancea\", \"Arges\", \"Calarasi\", \"Dambovita\", \"Giurgiu\", \"Ialomita\", \"Prahova\", \"Teleorman\", \"Ilfov\", \"Dolj\", \"Gorj\", \"Mehedinti\", \"Olt\", \"Valcea\", \"Arad\", \"Caras-Severin\", \"Hunedoara\", \"Timis\"], \"yaxis\": \"y\", \"type\": \"bar\"}], \"name\": \"1999\"}, {\"data\": [{\"alignmentgroup\": \"True\", \"hovertemplate\": \"Year=2000<br>Value=%{x}<br>Region=%{y}<extra></extra>\", \"legendgroup\": \"\", \"marker\": {\"color\": \"#636efa\"}, \"name\": \"\", \"offsetgroup\": \"\", \"orientation\": \"h\", \"showlegend\": false, \"textposition\": \"auto\", \"x\": [159.7, 98.4, 92.9, 162.8, 62.7, 88.7, 134.5, 122.5, 97.6, 59.0, 128.0, 116.1, 172.4, 53.4, 91.2, 111.8, 95.1, 68.7, 20.6, 111.6, 28.3, 34.0, 91.8, 123.1, 195.0, 20.1, 100.5, 35.4, 23.9, 112.0, 25.9, 24.7, 78.1, 219.3, 136.5, 49.7, 187.8, 184.9, 332.2, 222.3, 93.7], \"xaxis\": \"x\", \"y\": [\"Bihor\", \"Bistrita-Nasaud\", \"Cluj\", \"Maramures\", \"Satu Mare\", \"Salaj\", \"Alba\", \"Brasov\", \"Covasna\", \"Harghita\", \"Mures\", \"Sibiu\", \"Bacau\", \"Botosani\", \"Iasi\", \"Neamt\", \"Suceava\", \"Vaslui\", \"Braila\", \"Buzau\", \"Constanta\", \"Galati\", \"Tulcea\", \"Vrancea\", \"Arges\", \"Calarasi\", \"Dambovita\", \"Giurgiu\", \"Ialomita\", \"Prahova\", \"Teleorman\", \"Ilfov\", \"Dolj\", \"Gorj\", \"Mehedinti\", \"Olt\", \"Valcea\", \"Arad\", \"Caras-Severin\", \"Hunedoara\", \"Timis\"], \"yaxis\": \"y\", \"type\": \"bar\"}], \"name\": \"2000\"}, {\"data\": [{\"alignmentgroup\": \"True\", \"hovertemplate\": \"Year=2001<br>Value=%{x}<br>Region=%{y}<extra></extra>\", \"legendgroup\": \"\", \"marker\": {\"color\": \"#636efa\"}, \"name\": \"\", \"offsetgroup\": \"\", \"orientation\": \"h\", \"showlegend\": false, \"textposition\": \"auto\", \"x\": [159.6, 98.7, 92.8, 162.8, 62.8, 88.7, 134.5, 122.4, 98.4, 59.1, 129.0, 116.2, 172.4, 53.2, 91.1, 111.8, 94.8, 68.6, 20.7, 112.0, 28.5, 34.0, 91.9, 123.5, 195.0, 20.1, 100.6, 35.6, 23.9, 112.1, 25.9, 24.2, 0.6, 78.9, 219.6, 136.9, 49.3, 187.9, 184.9, 332.2, 222.8, 94.2], \"xaxis\": \"x\", \"y\": [\"Bihor\", \"Bistrita-Nasaud\", \"Cluj\", \"Maramures\", \"Satu Mare\", \"Salaj\", \"Alba\", \"Brasov\", \"Covasna\", \"Harghita\", \"Mures\", \"Sibiu\", \"Bacau\", \"Botosani\", \"Iasi\", \"Neamt\", \"Suceava\", \"Vaslui\", \"Braila\", \"Buzau\", \"Constanta\", \"Galati\", \"Tulcea\", \"Vrancea\", \"Arges\", \"Calarasi\", \"Dambovita\", \"Giurgiu\", \"Ialomita\", \"Prahova\", \"Teleorman\", \"Ilfov\", \"Bucuresti\", \"Dolj\", \"Gorj\", \"Mehedinti\", \"Olt\", \"Valcea\", \"Arad\", \"Caras-Severin\", \"Hunedoara\", \"Timis\"], \"yaxis\": \"y\", \"type\": \"bar\"}], \"name\": \"2001\"}, {\"data\": [{\"alignmentgroup\": \"True\", \"hovertemplate\": \"Year=2002<br>Value=%{x}<br>Region=%{y}<extra></extra>\", \"legendgroup\": \"\", \"marker\": {\"color\": \"#636efa\"}, \"name\": \"\", \"offsetgroup\": \"\", \"orientation\": \"h\", \"showlegend\": false, \"textposition\": \"auto\", \"x\": [161.6, 104.5, 92.7, 162.9, 62.9, 88.7, 134.4, 123.0, 98.1, 59.2, 129.3, 116.1, 172.7, 53.4, 91.0, 109.9, 95.2, 68.3, 20.9, 111.7, 28.7, 33.6, 90.2, 131.4, 195.1, 20.2, 100.6, 35.7, 24.2, 112.2, 26.3, 24.3, 0.6, 79.3, 219.3, 136.6, 49.1, 187.9, 184.8, 329.4, 222.9, 94.3], \"xaxis\": \"x\", \"y\": [\"Bihor\", \"Bistrita-Nasaud\", \"Cluj\", \"Maramures\", \"Satu Mare\", \"Salaj\", \"Alba\", \"Brasov\", \"Covasna\", \"Harghita\", \"Mures\", \"Sibiu\", \"Bacau\", \"Botosani\", \"Iasi\", \"Neamt\", \"Suceava\", \"Vaslui\", \"Braila\", \"Buzau\", \"Constanta\", \"Galati\", \"Tulcea\", \"Vrancea\", \"Arges\", \"Calarasi\", \"Dambovita\", \"Giurgiu\", \"Ialomita\", \"Prahova\", \"Teleorman\", \"Ilfov\", \"Bucuresti\", \"Dolj\", \"Gorj\", \"Mehedinti\", \"Olt\", \"Valcea\", \"Arad\", \"Caras-Severin\", \"Hunedoara\", \"Timis\"], \"yaxis\": \"y\", \"type\": \"bar\"}], \"name\": \"2002\"}, {\"data\": [{\"alignmentgroup\": \"True\", \"hovertemplate\": \"Year=2003<br>Value=%{x}<br>Region=%{y}<extra></extra>\", \"legendgroup\": \"\", \"marker\": {\"color\": \"#636efa\"}, \"name\": \"\", \"offsetgroup\": \"\", \"orientation\": \"h\", \"showlegend\": false, \"textposition\": \"auto\", \"x\": [159.5, 101.1, 92.7, 162.6, 62.9, 88.6, 133.4, 123.1, 99.6, 67.1, 129.4, 115.9, 178.5, 53.5, 91.1, 110.4, 95.5, 69.0, 21.5, 111.8, 28.9, 34.0, 91.0, 123.2, 192.9, 20.1, 101.2, 35.1, 24.3, 111.9, 25.9, 24.1, 0.6, 80.1, 219.8, 137.3, 49.0, 186.2, 183.2, 328.0, 222.7, 95.6], \"xaxis\": \"x\", \"y\": [\"Bihor\", \"Bistrita-Nasaud\", \"Cluj\", \"Maramures\", \"Satu Mare\", \"Salaj\", \"Alba\", \"Brasov\", \"Covasna\", \"Harghita\", \"Mures\", \"Sibiu\", \"Bacau\", \"Botosani\", \"Iasi\", \"Neamt\", \"Suceava\", \"Vaslui\", \"Braila\", \"Buzau\", \"Constanta\", \"Galati\", \"Tulcea\", \"Vrancea\", \"Arges\", \"Calarasi\", \"Dambovita\", \"Giurgiu\", \"Ialomita\", \"Prahova\", \"Teleorman\", \"Ilfov\", \"Bucuresti\", \"Dolj\", \"Gorj\", \"Mehedinti\", \"Olt\", \"Valcea\", \"Arad\", \"Caras-Severin\", \"Hunedoara\", \"Timis\"], \"yaxis\": \"y\", \"type\": \"bar\"}], \"name\": \"2003\"}, {\"data\": [{\"alignmentgroup\": \"True\", \"hovertemplate\": \"Year=2004<br>Value=%{x}<br>Region=%{y}<extra></extra>\", \"legendgroup\": \"\", \"marker\": {\"color\": \"#636efa\"}, \"name\": \"\", \"offsetgroup\": \"\", \"orientation\": \"h\", \"showlegend\": false, \"textposition\": \"auto\", \"x\": [159.9, 100.6, 92.5, 162.4, 62.9, 87.9, 132.2, 121.0, 99.1, 59.8, 129.5, 115.2, 176.1, 53.6, 91.6, 112.0, 95.2, 69.4, 22.6, 111.8, 29.7, 34.5, 89.8, 126.1, 186.6, 19.9, 101.0, 35.9, 24.1, 111.9, 25.9, 24.3, 0.6, 80.8, 219.7, 137.3, 49.4, 187.2, 182.2, 329.6, 222.7, 95.5], \"xaxis\": \"x\", \"y\": [\"Bihor\", \"Bistrita-Nasaud\", \"Cluj\", \"Maramures\", \"Satu Mare\", \"Salaj\", \"Alba\", \"Brasov\", \"Covasna\", \"Harghita\", \"Mures\", \"Sibiu\", \"Bacau\", \"Botosani\", \"Iasi\", \"Neamt\", \"Suceava\", \"Vaslui\", \"Braila\", \"Buzau\", \"Constanta\", \"Galati\", \"Tulcea\", \"Vrancea\", \"Arges\", \"Calarasi\", \"Dambovita\", \"Giurgiu\", \"Ialomita\", \"Prahova\", \"Teleorman\", \"Ilfov\", \"Bucuresti\", \"Dolj\", \"Gorj\", \"Mehedinti\", \"Olt\", \"Valcea\", \"Arad\", \"Caras-Severin\", \"Hunedoara\", \"Timis\"], \"yaxis\": \"y\", \"type\": \"bar\"}], \"name\": \"2004\"}, {\"data\": [{\"alignmentgroup\": \"True\", \"hovertemplate\": \"Year=2005<br>Value=%{x}<br>Region=%{y}<extra></extra>\", \"legendgroup\": \"\", \"marker\": {\"color\": \"#636efa\"}, \"name\": \"\", \"offsetgroup\": \"\", \"orientation\": \"h\", \"showlegend\": false, \"textposition\": \"auto\", \"x\": [158.8, 102.6, 91.9, 163.8, 63.0, 88.2, 129.6, 123.1, 98.7, 60.0, 129.9, 116.3, 175.5, 53.7, 91.8, 112.2, 95.7, 69.9, 22.8, 111.9, 30.4, 34.5, 90.1, 123.5, 186.6, 19.9, 100.8, 35.9, 24.1, 113.0, 26.0, 24.3, 0.6, 81.2, 220.5, 137.9, 49.7, 171.4, 181.7, 330.5, 222.7, 95.6], \"xaxis\": \"x\", \"y\": [\"Bihor\", \"Bistrita-Nasaud\", \"Cluj\", \"Maramures\", \"Satu Mare\", \"Salaj\", \"Alba\", \"Brasov\", \"Covasna\", \"Harghita\", \"Mures\", \"Sibiu\", \"Bacau\", \"Botosani\", \"Iasi\", \"Neamt\", \"Suceava\", \"Vaslui\", \"Braila\", \"Buzau\", \"Constanta\", \"Galati\", \"Tulcea\", \"Vrancea\", \"Arges\", \"Calarasi\", \"Dambovita\", \"Giurgiu\", \"Ialomita\", \"Prahova\", \"Teleorman\", \"Ilfov\", \"Bucuresti\", \"Dolj\", \"Gorj\", \"Mehedinti\", \"Olt\", \"Valcea\", \"Arad\", \"Caras-Severin\", \"Hunedoara\", \"Timis\"], \"yaxis\": \"y\", \"type\": \"bar\"}], \"name\": \"2005\"}, {\"data\": [{\"alignmentgroup\": \"True\", \"hovertemplate\": \"Year=2006<br>Value=%{x}<br>Region=%{y}<extra></extra>\", \"legendgroup\": \"\", \"marker\": {\"color\": \"#636efa\"}, \"name\": \"\", \"offsetgroup\": \"\", \"orientation\": \"h\", \"showlegend\": false, \"textposition\": \"auto\", \"x\": [164.7, 104.0, 79.1, 161.7, 65.3, 88.2, 130.5, 127.1, 96.9, 63.5, 129.6, 116.2, 174.0, 53.8, 91.9, 111.9, 96.2, 72.0, 22.5, 107.7, 32.1, 34.2, 90.8, 123.5, 186.6, 20.3, 101.3, 35.8, 24.3, 112.6, 26.5, 24.3, 0.6, 81.1, 219.5, 137.8, 48.6, 170.4, 182.5, 351.5, 222.9, 95.5], \"xaxis\": \"x\", \"y\": [\"Bihor\", \"Bistrita-Nasaud\", \"Cluj\", \"Maramures\", \"Satu Mare\", \"Salaj\", \"Alba\", \"Brasov\", \"Covasna\", \"Harghita\", \"Mures\", \"Sibiu\", \"Bacau\", \"Botosani\", \"Iasi\", \"Neamt\", \"Suceava\", \"Vaslui\", \"Braila\", \"Buzau\", \"Constanta\", \"Galati\", \"Tulcea\", \"Vrancea\", \"Arges\", \"Calarasi\", \"Dambovita\", \"Giurgiu\", \"Ialomita\", \"Prahova\", \"Teleorman\", \"Ilfov\", \"Bucuresti\", \"Dolj\", \"Gorj\", \"Mehedinti\", \"Olt\", \"Valcea\", \"Arad\", \"Caras-Severin\", \"Hunedoara\", \"Timis\"], \"yaxis\": \"y\", \"type\": \"bar\"}], \"name\": \"2006\"}, {\"data\": [{\"alignmentgroup\": \"True\", \"hovertemplate\": \"Year=2007<br>Value=%{x}<br>Region=%{y}<extra></extra>\", \"legendgroup\": \"\", \"marker\": {\"color\": \"#636efa\"}, \"name\": \"\", \"offsetgroup\": \"\", \"orientation\": \"h\", \"showlegend\": false, \"textposition\": \"auto\", \"x\": [168.7, 104.0, 79.6, 147.2, 65.4, 88.2, 126.9, 130.1, 101.9, 68.2, 130.2, 120.7, 173.1, 53.7, 91.9, 111.9, 95.6, 70.4, 22.5, 111.0, 32.3, 35.0, 90.7, 124.0, 193.6, 20.6, 100.5, 35.6, 24.2, 111.9, 25.8, 24.2, 0.6, 80.7, 221.0, 138.9, 49.2, 170.2, 186.7, 350.5, 220.3, 97.0], \"xaxis\": \"x\", \"y\": [\"Bihor\", \"Bistrita-Nasaud\", \"Cluj\", \"Maramures\", \"Satu Mare\", \"Salaj\", \"Alba\", \"Brasov\", \"Covasna\", \"Harghita\", \"Mures\", \"Sibiu\", \"Bacau\", \"Botosani\", \"Iasi\", \"Neamt\", \"Suceava\", \"Vaslui\", \"Braila\", \"Buzau\", \"Constanta\", \"Galati\", \"Tulcea\", \"Vrancea\", \"Arges\", \"Calarasi\", \"Dambovita\", \"Giurgiu\", \"Ialomita\", \"Prahova\", \"Teleorman\", \"Ilfov\", \"Bucuresti\", \"Dolj\", \"Gorj\", \"Mehedinti\", \"Olt\", \"Valcea\", \"Arad\", \"Caras-Severin\", \"Hunedoara\", \"Timis\"], \"yaxis\": \"y\", \"type\": \"bar\"}], \"name\": \"2007\"}, {\"data\": [{\"alignmentgroup\": \"True\", \"hovertemplate\": \"Year=2008<br>Value=%{x}<br>Region=%{y}<extra></extra>\", \"legendgroup\": \"\", \"marker\": {\"color\": \"#636efa\"}, \"name\": \"\", \"offsetgroup\": \"\", \"orientation\": \"h\", \"showlegend\": false, \"textposition\": \"auto\", \"x\": [169.4, 102.5, 80.9, 142.9, 67.7, 88.1, 130.7, 131.9, 96.3, 65.9, 137.0, 117.3, 164.6, 53.9, 93.0, 112.0, 95.6, 62.2, 20.8, 108.8, 32.1, 35.5, 90.4, 120.3, 192.9, 20.7, 101.3, 35.7, 24.2, 112.2, 25.8, 24.3, 0.6, 80.8, 218.4, 139.1, 50.0, 170.4, 187.4, 348.7, 220.7, 97.5], \"xaxis\": \"x\", \"y\": [\"Bihor\", \"Bistrita-Nasaud\", \"Cluj\", \"Maramures\", \"Satu Mare\", \"Salaj\", \"Alba\", \"Brasov\", \"Covasna\", \"Harghita\", \"Mures\", \"Sibiu\", \"Bacau\", \"Botosani\", \"Iasi\", \"Neamt\", \"Suceava\", \"Vaslui\", \"Braila\", \"Buzau\", \"Constanta\", \"Galati\", \"Tulcea\", \"Vrancea\", \"Arges\", \"Calarasi\", \"Dambovita\", \"Giurgiu\", \"Ialomita\", \"Prahova\", \"Teleorman\", \"Ilfov\", \"Bucuresti\", \"Dolj\", \"Gorj\", \"Mehedinti\", \"Olt\", \"Valcea\", \"Arad\", \"Caras-Severin\", \"Hunedoara\", \"Timis\"], \"yaxis\": \"y\", \"type\": \"bar\"}], \"name\": \"2008\"}, {\"data\": [{\"alignmentgroup\": \"True\", \"hovertemplate\": \"Year=2009<br>Value=%{x}<br>Region=%{y}<extra></extra>\", \"legendgroup\": \"\", \"marker\": {\"color\": \"#636efa\"}, \"name\": \"\", \"offsetgroup\": \"\", \"orientation\": \"h\", \"showlegend\": false, \"textposition\": \"auto\", \"x\": [171.1, 102.9, 82.1, 142.6, 67.7, 88.1, 128.3, 131.2, 100.8, 66.3, 133.4, 119.2, 172.9, 54.0, 92.0, 112.4, 95.5, 70.7, 23.3, 109.2, 31.8, 35.7, 90.5, 123.6, 194.5, 20.8, 100.5, 36.3, 24.2, 112.0, 26.0, 24.1, 0.6, 80.6, 218.4, 138.6, 49.5, 171.4, 190.2, 350.0, 219.1, 97.1], \"xaxis\": \"x\", \"y\": [\"Bihor\", \"Bistrita-Nasaud\", \"Cluj\", \"Maramures\", \"Satu Mare\", \"Salaj\", \"Alba\", \"Brasov\", \"Covasna\", \"Harghita\", \"Mures\", \"Sibiu\", \"Bacau\", \"Botosani\", \"Iasi\", \"Neamt\", \"Suceava\", \"Vaslui\", \"Braila\", \"Buzau\", \"Constanta\", \"Galati\", \"Tulcea\", \"Vrancea\", \"Arges\", \"Calarasi\", \"Dambovita\", \"Giurgiu\", \"Ialomita\", \"Prahova\", \"Teleorman\", \"Ilfov\", \"Bucuresti\", \"Dolj\", \"Gorj\", \"Mehedinti\", \"Olt\", \"Valcea\", \"Arad\", \"Caras-Severin\", \"Hunedoara\", \"Timis\"], \"yaxis\": \"y\", \"type\": \"bar\"}], \"name\": \"2009\"}, {\"data\": [{\"alignmentgroup\": \"True\", \"hovertemplate\": \"Year=2010<br>Value=%{x}<br>Region=%{y}<extra></extra>\", \"legendgroup\": \"\", \"marker\": {\"color\": \"#636efa\"}, \"name\": \"\", \"offsetgroup\": \"\", \"orientation\": \"h\", \"showlegend\": false, \"textposition\": \"auto\", \"x\": [171.1, 103.4, 84.7, 142.6, 68.4, 87.9, 128.1, 131.6, 100.2, 63.6, 134.3, 120.1, 174.1, 54.0, 92.0, 112.8, 94.8, 70.8, 23.0, 108.3, 31.6, 35.6, 90.8, 122.5, 194.5, 20.7, 101.8, 35.6, 24.0, 112.7, 27.1, 24.2, 0.6, 80.6, 217.2, 138.6, 49.6, 171.4, 193.5, 354.5, 222.5, 97.4], \"xaxis\": \"x\", \"y\": [\"Bihor\", \"Bistrita-Nasaud\", \"Cluj\", \"Maramures\", \"Satu Mare\", \"Salaj\", \"Alba\", \"Brasov\", \"Covasna\", \"Harghita\", \"Mures\", \"Sibiu\", \"Bacau\", \"Botosani\", \"Iasi\", \"Neamt\", \"Suceava\", \"Vaslui\", \"Braila\", \"Buzau\", \"Constanta\", \"Galati\", \"Tulcea\", \"Vrancea\", \"Arges\", \"Calarasi\", \"Dambovita\", \"Giurgiu\", \"Ialomita\", \"Prahova\", \"Teleorman\", \"Ilfov\", \"Bucuresti\", \"Dolj\", \"Gorj\", \"Mehedinti\", \"Olt\", \"Valcea\", \"Arad\", \"Caras-Severin\", \"Hunedoara\", \"Timis\"], \"yaxis\": \"y\", \"type\": \"bar\"}], \"name\": \"2010\"}, {\"data\": [{\"alignmentgroup\": \"True\", \"hovertemplate\": \"Year=2011<br>Value=%{x}<br>Region=%{y}<extra></extra>\", \"legendgroup\": \"\", \"marker\": {\"color\": \"#636efa\"}, \"name\": \"\", \"offsetgroup\": \"\", \"orientation\": \"h\", \"showlegend\": false, \"textposition\": \"auto\", \"x\": [172.0, 104.2, 85.6, 143.2, 68.3, 87.9, 127.5, 131.2, 101.0, 64.5, 132.2, 120.3, 174.7, 54.2, 92.1, 114.1, 95.4, 71.0, 23.4, 103.6, 31.7, 35.7, 91.0, 118.3, 194.4, 20.8, 102.2, 35.9, 24.4, 112.7, 26.3, 24.2, 0.6, 81.6, 217.3, 138.7, 50.9, 171.7, 194.7, 355.4, 223.7, 97.7], \"xaxis\": \"x\", \"y\": [\"Bihor\", \"Bistrita-Nasaud\", \"Cluj\", \"Maramures\", \"Satu Mare\", \"Salaj\", \"Alba\", \"Brasov\", \"Covasna\", \"Harghita\", \"Mures\", \"Sibiu\", \"Bacau\", \"Botosani\", \"Iasi\", \"Neamt\", \"Suceava\", \"Vaslui\", \"Braila\", \"Buzau\", \"Constanta\", \"Galati\", \"Tulcea\", \"Vrancea\", \"Arges\", \"Calarasi\", \"Dambovita\", \"Giurgiu\", \"Ialomita\", \"Prahova\", \"Teleorman\", \"Ilfov\", \"Bucuresti\", \"Dolj\", \"Gorj\", \"Mehedinti\", \"Olt\", \"Valcea\", \"Arad\", \"Caras-Severin\", \"Hunedoara\", \"Timis\"], \"yaxis\": \"y\", \"type\": \"bar\"}], \"name\": \"2011\"}, {\"data\": [{\"alignmentgroup\": \"True\", \"hovertemplate\": \"Year=2012<br>Value=%{x}<br>Region=%{y}<extra></extra>\", \"legendgroup\": \"\", \"marker\": {\"color\": \"#636efa\"}, \"name\": \"\", \"offsetgroup\": \"\", \"orientation\": \"h\", \"showlegend\": false, \"textposition\": \"auto\", \"x\": [172.6, 103.8, 86.3, 143.8, 68.3, 87.8, 127.6, 131.6, 100.9, 62.3, 132.1, 120.6, 174.8, 54.2, 92.0, 115.2, 95.9, 70.9, 24.5, 107.5, 32.1, 35.7, 91.0, 119.0, 194.5, 20.9, 101.8, 36.5, 24.8, 111.9, 26.2, 24.2, 0.6, 81.5, 217.3, 139.0, 50.9, 172.2, 194.7, 356.2, 226.0, 98.4], \"xaxis\": \"x\", \"y\": [\"Bihor\", \"Bistrita-Nasaud\", \"Cluj\", \"Maramures\", \"Satu Mare\", \"Salaj\", \"Alba\", \"Brasov\", \"Covasna\", \"Harghita\", \"Mures\", \"Sibiu\", \"Bacau\", \"Botosani\", \"Iasi\", \"Neamt\", \"Suceava\", \"Vaslui\", \"Braila\", \"Buzau\", \"Constanta\", \"Galati\", \"Tulcea\", \"Vrancea\", \"Arges\", \"Calarasi\", \"Dambovita\", \"Giurgiu\", \"Ialomita\", \"Prahova\", \"Teleorman\", \"Ilfov\", \"Bucuresti\", \"Dolj\", \"Gorj\", \"Mehedinti\", \"Olt\", \"Valcea\", \"Arad\", \"Caras-Severin\", \"Hunedoara\", \"Timis\"], \"yaxis\": \"y\", \"type\": \"bar\"}], \"name\": \"2012\"}, {\"data\": [{\"alignmentgroup\": \"True\", \"hovertemplate\": \"Year=2013<br>Value=%{x}<br>Region=%{y}<extra></extra>\", \"legendgroup\": \"\", \"marker\": {\"color\": \"#636efa\"}, \"name\": \"\", \"offsetgroup\": \"\", \"orientation\": \"h\", \"showlegend\": false, \"textposition\": \"auto\", \"x\": [173.1, 105.5, 88.0, 145.0, 68.5, 87.8, 128.1, 132.3, 102.1, 66.5, 128.6, 120.7, 174.7, 54.3, 92.2, 115.2, 96.7, 70.7, 24.7, 109.8, 32.2, 35.1, 90.9, 116.6, 194.5, 20.9, 101.8, 36.6, 24.7, 111.9, 26.3, 24.4, 0.6, 83.2, 216.7, 139.0, 51.1, 172.3, 194.7, 361.3, 226.6, 98.4], \"xaxis\": \"x\", \"y\": [\"Bihor\", \"Bistrita-Nasaud\", \"Cluj\", \"Maramures\", \"Satu Mare\", \"Salaj\", \"Alba\", \"Brasov\", \"Covasna\", \"Harghita\", \"Mures\", \"Sibiu\", \"Bacau\", \"Botosani\", \"Iasi\", \"Neamt\", \"Suceava\", \"Vaslui\", \"Braila\", \"Buzau\", \"Constanta\", \"Galati\", \"Tulcea\", \"Vrancea\", \"Arges\", \"Calarasi\", \"Dambovita\", \"Giurgiu\", \"Ialomita\", \"Prahova\", \"Teleorman\", \"Ilfov\", \"Bucuresti\", \"Dolj\", \"Gorj\", \"Mehedinti\", \"Olt\", \"Valcea\", \"Arad\", \"Caras-Severin\", \"Hunedoara\", \"Timis\"], \"yaxis\": \"y\", \"type\": \"bar\"}], \"name\": \"2013\"}, {\"data\": [{\"alignmentgroup\": \"True\", \"hovertemplate\": \"Year=2014<br>Value=%{x}<br>Region=%{y}<extra></extra>\", \"legendgroup\": \"\", \"marker\": {\"color\": \"#636efa\"}, \"name\": \"\", \"offsetgroup\": \"\", \"orientation\": \"h\", \"showlegend\": false, \"textposition\": \"auto\", \"x\": [172.3, 106.5, 86.9, 145.6, 68.6, 87.8, 128.8, 133.3, 102.2, 67.1, 128.1, 122.0, 175.2, 54.8, 92.2, 116.6, 97.1, 70.8, 24.7, 111.5, 32.2, 35.1, 91.4, 116.6, 194.5, 20.9, 101.6, 36.6, 24.7, 111.5, 26.5, 24.4, 0.6, 83.4, 217.0, 137.9, 51.3, 172.4, 195.0, 364.4, 229.0, 98.5], \"xaxis\": \"x\", \"y\": [\"Bihor\", \"Bistrita-Nasaud\", \"Cluj\", \"Maramures\", \"Satu Mare\", \"Salaj\", \"Alba\", \"Brasov\", \"Covasna\", \"Harghita\", \"Mures\", \"Sibiu\", \"Bacau\", \"Botosani\", \"Iasi\", \"Neamt\", \"Suceava\", \"Vaslui\", \"Braila\", \"Buzau\", \"Constanta\", \"Galati\", \"Tulcea\", \"Vrancea\", \"Arges\", \"Calarasi\", \"Dambovita\", \"Giurgiu\", \"Ialomita\", \"Prahova\", \"Teleorman\", \"Ilfov\", \"Bucuresti\", \"Dolj\", \"Gorj\", \"Mehedinti\", \"Olt\", \"Valcea\", \"Arad\", \"Caras-Severin\", \"Hunedoara\", \"Timis\"], \"yaxis\": \"y\", \"type\": \"bar\"}], \"name\": \"2014\"}, {\"data\": [{\"alignmentgroup\": \"True\", \"hovertemplate\": \"Year=2015<br>Value=%{x}<br>Region=%{y}<extra></extra>\", \"legendgroup\": \"\", \"marker\": {\"color\": \"#636efa\"}, \"name\": \"\", \"offsetgroup\": \"\", \"orientation\": \"h\", \"showlegend\": false, \"textposition\": \"auto\", \"x\": [172.7, 106.3, 85.8, 145.0, 68.5, 88.0, 129.9, 132.2, 103.9, 69.5, 129.7, 122.4, 175.6, 55.2, 92.6, 117.0, 98.7, 71.0, 25.0, 109.5, 32.4, 35.2, 91.6, 119.0, 188.7, 20.9, 101.9, 36.6, 24.8, 111.6, 26.5, 24.4, 0.5, 83.6, 217.5, 138.4, 51.6, 172.4, 194.8, 369.1, 229.7, 98.4], \"xaxis\": \"x\", \"y\": [\"Bihor\", \"Bistrita-Nasaud\", \"Cluj\", \"Maramures\", \"Satu Mare\", \"Salaj\", \"Alba\", \"Brasov\", \"Covasna\", \"Harghita\", \"Mures\", \"Sibiu\", \"Bacau\", \"Botosani\", \"Iasi\", \"Neamt\", \"Suceava\", \"Vaslui\", \"Braila\", \"Buzau\", \"Constanta\", \"Galati\", \"Tulcea\", \"Vrancea\", \"Arges\", \"Calarasi\", \"Dambovita\", \"Giurgiu\", \"Ialomita\", \"Prahova\", \"Teleorman\", \"Ilfov\", \"Bucuresti\", \"Dolj\", \"Gorj\", \"Mehedinti\", \"Olt\", \"Valcea\", \"Arad\", \"Caras-Severin\", \"Hunedoara\", \"Timis\"], \"yaxis\": \"y\", \"type\": \"bar\"}], \"name\": \"2015\"}, {\"data\": [{\"alignmentgroup\": \"True\", \"hovertemplate\": \"Year=2016<br>Value=%{x}<br>Region=%{y}<extra></extra>\", \"legendgroup\": \"\", \"marker\": {\"color\": \"#636efa\"}, \"name\": \"\", \"offsetgroup\": \"\", \"orientation\": \"h\", \"showlegend\": false, \"textposition\": \"auto\", \"x\": [171.9, 106.1, 87.2, 146.0, 68.3, 88.1, 130.2, 131.7, 104.2, 69.7, 131.3, 122.3, 176.9, 55.4, 92.8, 117.1, 100.0, 71.0, 24.9, 110.2, 32.7, 35.2, 92.7, 118.3, 187.7, 20.9, 101.9, 36.6, 24.8, 111.6, 26.4, 24.4, 0.5, 83.6, 217.6, 138.5, 51.6, 171.9, 194.5, 369.9, 230.0, 98.4], \"xaxis\": \"x\", \"y\": [\"Bihor\", \"Bistrita-Nasaud\", \"Cluj\", \"Maramures\", \"Satu Mare\", \"Salaj\", \"Alba\", \"Brasov\", \"Covasna\", \"Harghita\", \"Mures\", \"Sibiu\", \"Bacau\", \"Botosani\", \"Iasi\", \"Neamt\", \"Suceava\", \"Vaslui\", \"Braila\", \"Buzau\", \"Constanta\", \"Galati\", \"Tulcea\", \"Vrancea\", \"Arges\", \"Calarasi\", \"Dambovita\", \"Giurgiu\", \"Ialomita\", \"Prahova\", \"Teleorman\", \"Ilfov\", \"Bucuresti\", \"Dolj\", \"Gorj\", \"Mehedinti\", \"Olt\", \"Valcea\", \"Arad\", \"Caras-Severin\", \"Hunedoara\", \"Timis\"], \"yaxis\": \"y\", \"type\": \"bar\"}], \"name\": \"2016\"}, {\"data\": [{\"alignmentgroup\": \"True\", \"hovertemplate\": \"Year=2017<br>Value=%{x}<br>Region=%{y}<extra></extra>\", \"legendgroup\": \"\", \"marker\": {\"color\": \"#636efa\"}, \"name\": \"\", \"offsetgroup\": \"\", \"orientation\": \"h\", \"showlegend\": false, \"textposition\": \"auto\", \"x\": [171.7, 106.3, 87.0, 146.5, 68.3, 88.5, 130.4, 132.3, 105.6, 71.7, 129.3, 123.1, 177.6, 55.5, 93.0, 117.4, 99.8, 71.1, 25.1, 110.6, 32.9, 35.2, 92.9, 118.2, 188.1, 21.2, 101.9, 36.5, 24.8, 111.6, 26.5, 24.3, 0.5, 80.7, 217.9, 139.9, 51.0, 172.0, 194.4, 370.8, 230.5, 99.2], \"xaxis\": \"x\", \"y\": [\"Bihor\", \"Bistrita-Nasaud\", \"Cluj\", \"Maramures\", \"Satu Mare\", \"Salaj\", \"Alba\", \"Brasov\", \"Covasna\", \"Harghita\", \"Mures\", \"Sibiu\", \"Bacau\", \"Botosani\", \"Iasi\", \"Neamt\", \"Suceava\", \"Vaslui\", \"Braila\", \"Buzau\", \"Constanta\", \"Galati\", \"Tulcea\", \"Vrancea\", \"Arges\", \"Calarasi\", \"Dambovita\", \"Giurgiu\", \"Ialomita\", \"Prahova\", \"Teleorman\", \"Ilfov\", \"Bucuresti\", \"Dolj\", \"Gorj\", \"Mehedinti\", \"Olt\", \"Valcea\", \"Arad\", \"Caras-Severin\", \"Hunedoara\", \"Timis\"], \"yaxis\": \"y\", \"type\": \"bar\"}], \"name\": \"2017\"}, {\"data\": [{\"alignmentgroup\": \"True\", \"hovertemplate\": \"Year=2018<br>Value=%{x}<br>Region=%{y}<extra></extra>\", \"legendgroup\": \"\", \"marker\": {\"color\": \"#636efa\"}, \"name\": \"\", \"offsetgroup\": \"\", \"orientation\": \"h\", \"showlegend\": false, \"textposition\": \"auto\", \"x\": [173.3, 106.5, 90.3, 145.7, 68.0, 88.3, 132.6, 132.3, 106.1, 71.2, 131.6, 124.6, 178.6, 55.5, 93.2, 117.6, 100.2, 71.3, 24.9, 110.5, 33.0, 35.3, 92.9, 118.8, 187.1, 21.1, 101.9, 36.5, 24.8, 111.6, 26.4, 24.3, 0.5, 80.9, 218.1, 140.0, 51.1, 171.9, 194.7, 377.0, 231.4, 99.1], \"xaxis\": \"x\", \"y\": [\"Bihor\", \"Bistrita-Nasaud\", \"Cluj\", \"Maramures\", \"Satu Mare\", \"Salaj\", \"Alba\", \"Brasov\", \"Covasna\", \"Harghita\", \"Mures\", \"Sibiu\", \"Bacau\", \"Botosani\", \"Iasi\", \"Neamt\", \"Suceava\", \"Vaslui\", \"Braila\", \"Buzau\", \"Constanta\", \"Galati\", \"Tulcea\", \"Vrancea\", \"Arges\", \"Calarasi\", \"Dambovita\", \"Giurgiu\", \"Ialomita\", \"Prahova\", \"Teleorman\", \"Ilfov\", \"Bucuresti\", \"Dolj\", \"Gorj\", \"Mehedinti\", \"Olt\", \"Valcea\", \"Arad\", \"Caras-Severin\", \"Hunedoara\", \"Timis\"], \"yaxis\": \"y\", \"type\": \"bar\"}], \"name\": \"2018\"}, {\"data\": [{\"alignmentgroup\": \"True\", \"hovertemplate\": \"Year=2019<br>Value=%{x}<br>Region=%{y}<extra></extra>\", \"legendgroup\": \"\", \"marker\": {\"color\": \"#636efa\"}, \"name\": \"\", \"offsetgroup\": \"\", \"orientation\": \"h\", \"showlegend\": false, \"textposition\": \"auto\", \"x\": [173.1, 106.8, 91.4, 146.3, 68.0, 88.9, 132.8, 132.6, 106.2, 71.3, 132.0, 124.8, 178.7, 55.5, 93.2, 117.6, 100.8, 70.8, 25.0, 110.0, 33.3, 35.4, 92.8, 120.9, 187.7, 21.1, 101.6, 36.6, 24.8, 111.5, 26.7, 24.5, 0.5, 80.8, 217.8, 139.8, 51.2, 172.4, 195.5, 379.7, 231.7, 100.2], \"xaxis\": \"x\", \"y\": [\"Bihor\", \"Bistrita-Nasaud\", \"Cluj\", \"Maramures\", \"Satu Mare\", \"Salaj\", \"Alba\", \"Brasov\", \"Covasna\", \"Harghita\", \"Mures\", \"Sibiu\", \"Bacau\", \"Botosani\", \"Iasi\", \"Neamt\", \"Suceava\", \"Vaslui\", \"Braila\", \"Buzau\", \"Constanta\", \"Galati\", \"Tulcea\", \"Vrancea\", \"Arges\", \"Calarasi\", \"Dambovita\", \"Giurgiu\", \"Ialomita\", \"Prahova\", \"Teleorman\", \"Ilfov\", \"Bucuresti\", \"Dolj\", \"Gorj\", \"Mehedinti\", \"Olt\", \"Valcea\", \"Arad\", \"Caras-Severin\", \"Hunedoara\", \"Timis\"], \"yaxis\": \"y\", \"type\": \"bar\"}], \"name\": \"2019\"}]);\n",
       "                        }).then(function(){\n",
       "                            \n",
       "var gd = document.getElementById('83cea567-38a0-4224-b438-64784857094a');\n",
       "var x = new MutationObserver(function (mutations, observer) {{\n",
       "        var display = window.getComputedStyle(gd).display;\n",
       "        if (!display || display === 'none') {{\n",
       "            console.log([gd, 'removed!']);\n",
       "            Plotly.purge(gd);\n",
       "            observer.disconnect();\n",
       "        }}\n",
       "}});\n",
       "\n",
       "// Listen for the removal of the full notebook cells\n",
       "var notebookContainer = gd.closest('#notebook-container');\n",
       "if (notebookContainer) {{\n",
       "    x.observe(notebookContainer, {childList: true});\n",
       "}}\n",
       "\n",
       "// Listen for the clearing of the current output cell\n",
       "var outputEl = gd.closest('.output');\n",
       "if (outputEl) {{\n",
       "    x.observe(outputEl, {childList: true});\n",
       "}}\n",
       "\n",
       "                        })                };                });            </script>        </div>"
      ]
     },
     "metadata": {},
     "output_type": "display_data"
    }
   ],
   "source": [
    "selection_df = data_county_df.loc[data_county_df.Category==\"Hardwood\"]\n",
    "min_value = selection_df.Value.min()\n",
    "max_value = selection_df.Value.max()\n",
    "import plotly.express as px\n",
    "fig = px.bar(selection_df, x=\"Value\", y=\"Region\", animation_frame='Year', orientation='h',\n",
    "             range_color =[min_value,max_value],\n",
    "             width=600, height=800, range_x = [min_value,max_value],\n",
    "            title='Surface evolution/county 1990-2019 - Hardwood')\n",
    "fig.update_layout(font=dict(family=\"Courier New, monospace\",size=10,color=\"#7f7f7f\"))\n",
    "fig.show()"
   ]
  },
  {
   "cell_type": "code",
   "execution_count": 12,
   "metadata": {
    "execution": {
     "iopub.execute_input": "2020-10-18T22:36:56.082763Z",
     "iopub.status.busy": "2020-10-18T22:36:56.079222Z",
     "iopub.status.idle": "2020-10-18T22:36:56.322613Z",
     "shell.execute_reply": "2020-10-18T22:36:56.323271Z"
    },
    "papermill": {
     "duration": 0.355289,
     "end_time": "2020-10-18T22:36:56.323458",
     "exception": false,
     "start_time": "2020-10-18T22:36:55.968169",
     "status": "completed"
    },
    "tags": []
   },
   "outputs": [
    {
     "data": {
      "application/vnd.plotly.v1+json": {
       "config": {
        "plotlyServerURL": "https://plot.ly"
       },
       "data": [
        {
         "alignmentgroup": "True",
         "hovertemplate": "Year=1990<br>Value=%{x}<br>Region=%{y}<extra></extra>",
         "legendgroup": "",
         "marker": {
          "color": "#636efa"
         },
         "name": "",
         "offsetgroup": "",
         "orientation": "h",
         "showlegend": false,
         "textposition": "auto",
         "type": "bar",
         "x": [
          34.2,
          89.5,
          58.6,
          100.2,
          3.9,
          6.6,
          69.3,
          65.7,
          64.8,
          169.3,
          79.7,
          69.7,
          96.1,
          1.2,
          3.9,
          145.3,
          334.1,
          0.9,
          46.8,
          5.2,
          0.2,
          1.8,
          57.3,
          79.7,
          0.1,
          15.3,
          0.4,
          0.1,
          33.6,
          0.3,
          0.1,
          1.1,
          31.1,
          9.1,
          0.4,
          82.0,
          17.7,
          60.1,
          86.8,
          6.6
         ],
         "xaxis": "x",
         "y": [
          "Bihor",
          "Bistrita-Nasaud",
          "Cluj",
          "Maramures",
          "Satu Mare",
          "Salaj",
          "Alba",
          "Brasov",
          "Covasna",
          "Harghita",
          "Mures",
          "Sibiu",
          "Bacau",
          "Botosani",
          "Iasi",
          "Neamt",
          "Suceava",
          "Vaslui",
          "Buzau",
          "Constanta",
          "Galati",
          "Tulcea",
          "Vrancea",
          "Arges",
          "Calarasi",
          "Dambovita",
          "Giurgiu",
          "Ialomita",
          "Prahova",
          "Teleorman",
          "Ilfov",
          "Dolj",
          "Gorj",
          "Mehedinti",
          "Olt",
          "Valcea",
          "Arad",
          "Caras-Severin",
          "Hunedoara",
          "Timis"
         ],
         "yaxis": "y"
        }
       ],
       "frames": [
        {
         "data": [
          {
           "alignmentgroup": "True",
           "hovertemplate": "Year=1990<br>Value=%{x}<br>Region=%{y}<extra></extra>",
           "legendgroup": "",
           "marker": {
            "color": "#636efa"
           },
           "name": "",
           "offsetgroup": "",
           "orientation": "h",
           "showlegend": false,
           "textposition": "auto",
           "type": "bar",
           "x": [
            34.2,
            89.5,
            58.6,
            100.2,
            3.9,
            6.6,
            69.3,
            65.7,
            64.8,
            169.3,
            79.7,
            69.7,
            96.1,
            1.2,
            3.9,
            145.3,
            334.1,
            0.9,
            46.8,
            5.2,
            0.2,
            1.8,
            57.3,
            79.7,
            0.1,
            15.3,
            0.4,
            0.1,
            33.6,
            0.3,
            0.1,
            1.1,
            31.1,
            9.1,
            0.4,
            82.0,
            17.7,
            60.1,
            86.8,
            6.6
           ],
           "xaxis": "x",
           "y": [
            "Bihor",
            "Bistrita-Nasaud",
            "Cluj",
            "Maramures",
            "Satu Mare",
            "Salaj",
            "Alba",
            "Brasov",
            "Covasna",
            "Harghita",
            "Mures",
            "Sibiu",
            "Bacau",
            "Botosani",
            "Iasi",
            "Neamt",
            "Suceava",
            "Vaslui",
            "Buzau",
            "Constanta",
            "Galati",
            "Tulcea",
            "Vrancea",
            "Arges",
            "Calarasi",
            "Dambovita",
            "Giurgiu",
            "Ialomita",
            "Prahova",
            "Teleorman",
            "Ilfov",
            "Dolj",
            "Gorj",
            "Mehedinti",
            "Olt",
            "Valcea",
            "Arad",
            "Caras-Severin",
            "Hunedoara",
            "Timis"
           ],
           "yaxis": "y"
          }
         ],
         "name": "1990"
        },
        {
         "data": [
          {
           "alignmentgroup": "True",
           "hovertemplate": "Year=1991<br>Value=%{x}<br>Region=%{y}<extra></extra>",
           "legendgroup": "",
           "marker": {
            "color": "#636efa"
           },
           "name": "",
           "offsetgroup": "",
           "orientation": "h",
           "showlegend": false,
           "textposition": "auto",
           "type": "bar",
           "x": [
            34.1,
            89.8,
            58.3,
            100.5,
            3.9,
            6.1,
            69.7,
            65.8,
            64.9,
            169.6,
            79.3,
            69.8,
            96.0,
            1.2,
            3.9,
            144.8,
            334.0,
            0.9,
            46.8,
            4.6,
            0.2,
            1.8,
            57.5,
            79.8,
            0.1,
            15.4,
            0.4,
            0.1,
            33.7,
            0.3,
            0.1,
            1.1,
            31.3,
            9.1,
            0.4,
            82.7,
            17.8,
            60.5,
            87.0,
            6.6
           ],
           "xaxis": "x",
           "y": [
            "Bihor",
            "Bistrita-Nasaud",
            "Cluj",
            "Maramures",
            "Satu Mare",
            "Salaj",
            "Alba",
            "Brasov",
            "Covasna",
            "Harghita",
            "Mures",
            "Sibiu",
            "Bacau",
            "Botosani",
            "Iasi",
            "Neamt",
            "Suceava",
            "Vaslui",
            "Buzau",
            "Constanta",
            "Galati",
            "Tulcea",
            "Vrancea",
            "Arges",
            "Calarasi",
            "Dambovita",
            "Giurgiu",
            "Ialomita",
            "Prahova",
            "Teleorman",
            "Ilfov",
            "Dolj",
            "Gorj",
            "Mehedinti",
            "Olt",
            "Valcea",
            "Arad",
            "Caras-Severin",
            "Hunedoara",
            "Timis"
           ],
           "yaxis": "y"
          }
         ],
         "name": "1991"
        },
        {
         "data": [
          {
           "alignmentgroup": "True",
           "hovertemplate": "Year=1992<br>Value=%{x}<br>Region=%{y}<extra></extra>",
           "legendgroup": "",
           "marker": {
            "color": "#636efa"
           },
           "name": "",
           "offsetgroup": "",
           "orientation": "h",
           "showlegend": false,
           "textposition": "auto",
           "type": "bar",
           "x": [
            34.1,
            89.9,
            57.7,
            100.0,
            3.9,
            6.0,
            69.7,
            65.4,
            65.4,
            169.3,
            79.2,
            69.6,
            104.3,
            1.2,
            3.9,
            137.4,
            333.9,
            0.7,
            45.9,
            4.5,
            0.2,
            1.8,
            57.7,
            79.8,
            0.1,
            15.4,
            0.4,
            0.1,
            33.7,
            0.3,
            0.1,
            1.0,
            30.1,
            8.8,
            0.4,
            82.6,
            17.7,
            60.3,
            86.8,
            6.6
           ],
           "xaxis": "x",
           "y": [
            "Bihor",
            "Bistrita-Nasaud",
            "Cluj",
            "Maramures",
            "Satu Mare",
            "Salaj",
            "Alba",
            "Brasov",
            "Covasna",
            "Harghita",
            "Mures",
            "Sibiu",
            "Bacau",
            "Botosani",
            "Iasi",
            "Neamt",
            "Suceava",
            "Vaslui",
            "Buzau",
            "Constanta",
            "Galati",
            "Tulcea",
            "Vrancea",
            "Arges",
            "Calarasi",
            "Dambovita",
            "Giurgiu",
            "Ialomita",
            "Prahova",
            "Teleorman",
            "Ilfov",
            "Dolj",
            "Gorj",
            "Mehedinti",
            "Olt",
            "Valcea",
            "Arad",
            "Caras-Severin",
            "Hunedoara",
            "Timis"
           ],
           "yaxis": "y"
          }
         ],
         "name": "1992"
        },
        {
         "data": [
          {
           "alignmentgroup": "True",
           "hovertemplate": "Year=1993<br>Value=%{x}<br>Region=%{y}<extra></extra>",
           "legendgroup": "",
           "marker": {
            "color": "#636efa"
           },
           "name": "",
           "offsetgroup": "",
           "orientation": "h",
           "showlegend": false,
           "textposition": "auto",
           "type": "bar",
           "x": [
            32.9,
            89.7,
            57.7,
            99.8,
            3.9,
            6.0,
            69.7,
            64.9,
            64.8,
            169.7,
            78.8,
            69.5,
            96.3,
            1.2,
            3.9,
            145.5,
            333.8,
            0.6,
            46.3,
            4.6,
            0.2,
            1.6,
            58.7,
            79.9,
            0.1,
            15.4,
            0.3,
            33.3,
            0.3,
            0.1,
            1.1,
            27.9,
            8.4,
            0.3,
            80.9,
            19.2,
            58.4,
            83.5,
            6.6
           ],
           "xaxis": "x",
           "y": [
            "Bihor",
            "Bistrita-Nasaud",
            "Cluj",
            "Maramures",
            "Satu Mare",
            "Salaj",
            "Alba",
            "Brasov",
            "Covasna",
            "Harghita",
            "Mures",
            "Sibiu",
            "Bacau",
            "Botosani",
            "Iasi",
            "Neamt",
            "Suceava",
            "Vaslui",
            "Buzau",
            "Constanta",
            "Galati",
            "Tulcea",
            "Vrancea",
            "Arges",
            "Calarasi",
            "Dambovita",
            "Giurgiu",
            "Prahova",
            "Teleorman",
            "Ilfov",
            "Dolj",
            "Gorj",
            "Mehedinti",
            "Olt",
            "Valcea",
            "Arad",
            "Caras-Severin",
            "Hunedoara",
            "Timis"
           ],
           "yaxis": "y"
          }
         ],
         "name": "1993"
        },
        {
         "data": [
          {
           "alignmentgroup": "True",
           "hovertemplate": "Year=1994<br>Value=%{x}<br>Region=%{y}<extra></extra>",
           "legendgroup": "",
           "marker": {
            "color": "#636efa"
           },
           "name": "",
           "offsetgroup": "",
           "orientation": "h",
           "showlegend": false,
           "textposition": "auto",
           "type": "bar",
           "x": [
            33.3,
            89.2,
            58.4,
            100.0,
            3.8,
            6.0,
            69.4,
            65.2,
            65.0,
            170.3,
            78.5,
            69.5,
            96.5,
            1.2,
            3.6,
            145.1,
            334.0,
            0.6,
            46.0,
            4.6,
            0.2,
            1.6,
            58.1,
            79.3,
            0.1,
            15.4,
            0.3,
            33.2,
            0.3,
            0.1,
            1.1,
            26.6,
            8.4,
            0.3,
            81.6,
            17.9,
            58.6,
            83.7,
            6.1
           ],
           "xaxis": "x",
           "y": [
            "Bihor",
            "Bistrita-Nasaud",
            "Cluj",
            "Maramures",
            "Satu Mare",
            "Salaj",
            "Alba",
            "Brasov",
            "Covasna",
            "Harghita",
            "Mures",
            "Sibiu",
            "Bacau",
            "Botosani",
            "Iasi",
            "Neamt",
            "Suceava",
            "Vaslui",
            "Buzau",
            "Constanta",
            "Galati",
            "Tulcea",
            "Vrancea",
            "Arges",
            "Calarasi",
            "Dambovita",
            "Giurgiu",
            "Prahova",
            "Teleorman",
            "Ilfov",
            "Dolj",
            "Gorj",
            "Mehedinti",
            "Olt",
            "Valcea",
            "Arad",
            "Caras-Severin",
            "Hunedoara",
            "Timis"
           ],
           "yaxis": "y"
          }
         ],
         "name": "1994"
        },
        {
         "data": [
          {
           "alignmentgroup": "True",
           "hovertemplate": "Year=1995<br>Value=%{x}<br>Region=%{y}<extra></extra>",
           "legendgroup": "",
           "marker": {
            "color": "#636efa"
           },
           "name": "",
           "offsetgroup": "",
           "orientation": "h",
           "showlegend": false,
           "textposition": "auto",
           "type": "bar",
           "x": [
            33.5,
            88.6,
            57.9,
            100.0,
            3.8,
            6.0,
            69.5,
            64.6,
            64.4,
            168.7,
            78.8,
            68.9,
            95.3,
            1.1,
            3.4,
            144.7,
            334.0,
            0.6,
            45.2,
            4.6,
            0.2,
            1.6,
            57.9,
            79.4,
            0.1,
            14.1,
            0.3,
            33.2,
            0.3,
            0.1,
            1.1,
            25.9,
            8.4,
            0.3,
            81.2,
            17.4,
            57.5,
            84.1,
            6.2
           ],
           "xaxis": "x",
           "y": [
            "Bihor",
            "Bistrita-Nasaud",
            "Cluj",
            "Maramures",
            "Satu Mare",
            "Salaj",
            "Alba",
            "Brasov",
            "Covasna",
            "Harghita",
            "Mures",
            "Sibiu",
            "Bacau",
            "Botosani",
            "Iasi",
            "Neamt",
            "Suceava",
            "Vaslui",
            "Buzau",
            "Constanta",
            "Galati",
            "Tulcea",
            "Vrancea",
            "Arges",
            "Calarasi",
            "Dambovita",
            "Giurgiu",
            "Prahova",
            "Teleorman",
            "Ilfov",
            "Dolj",
            "Gorj",
            "Mehedinti",
            "Olt",
            "Valcea",
            "Arad",
            "Caras-Severin",
            "Hunedoara",
            "Timis"
           ],
           "yaxis": "y"
          }
         ],
         "name": "1995"
        },
        {
         "data": [
          {
           "alignmentgroup": "True",
           "hovertemplate": "Year=1996<br>Value=%{x}<br>Region=%{y}<extra></extra>",
           "legendgroup": "",
           "marker": {
            "color": "#636efa"
           },
           "name": "",
           "offsetgroup": "",
           "orientation": "h",
           "showlegend": false,
           "textposition": "auto",
           "type": "bar",
           "x": [
            33.3,
            88.2,
            57.8,
            99.7,
            3.8,
            6.0,
            69.6,
            64.5,
            62.4,
            168.0,
            78.6,
            68.8,
            93.4,
            1.0,
            3.4,
            144.5,
            334.0,
            0.6,
            45.1,
            4.6,
            0.2,
            1.6,
            58.0,
            79.1,
            0.1,
            15.4,
            0.3,
            33.2,
            0.3,
            0.1,
            1.1,
            26.0,
            8.4,
            0.3,
            81.2,
            15.9,
            52.7,
            82.7,
            6.2
           ],
           "xaxis": "x",
           "y": [
            "Bihor",
            "Bistrita-Nasaud",
            "Cluj",
            "Maramures",
            "Satu Mare",
            "Salaj",
            "Alba",
            "Brasov",
            "Covasna",
            "Harghita",
            "Mures",
            "Sibiu",
            "Bacau",
            "Botosani",
            "Iasi",
            "Neamt",
            "Suceava",
            "Vaslui",
            "Buzau",
            "Constanta",
            "Galati",
            "Tulcea",
            "Vrancea",
            "Arges",
            "Calarasi",
            "Dambovita",
            "Giurgiu",
            "Prahova",
            "Teleorman",
            "Ilfov",
            "Dolj",
            "Gorj",
            "Mehedinti",
            "Olt",
            "Valcea",
            "Arad",
            "Caras-Severin",
            "Hunedoara",
            "Timis"
           ],
           "yaxis": "y"
          }
         ],
         "name": "1996"
        },
        {
         "data": [
          {
           "alignmentgroup": "True",
           "hovertemplate": "Year=1997<br>Value=%{x}<br>Region=%{y}<extra></extra>",
           "legendgroup": "",
           "marker": {
            "color": "#636efa"
           },
           "name": "",
           "offsetgroup": "",
           "orientation": "h",
           "showlegend": false,
           "textposition": "auto",
           "type": "bar",
           "x": [
            33.2,
            87.9,
            57.7,
            97.3,
            3.8,
            6.0,
            69.5,
            65.4,
            61.9,
            167.2,
            78.2,
            68.8,
            93.9,
            1.0,
            3.4,
            145.1,
            333.0,
            0.6,
            44.1,
            4.2,
            0.2,
            1.1,
            58.1,
            79.2,
            0.1,
            15.4,
            0.3,
            0.1,
            33.1,
            0.3,
            0.1,
            0.9,
            25.8,
            8.4,
            0.3,
            80.9,
            15.2,
            52.3,
            82.8,
            6.2
           ],
           "xaxis": "x",
           "y": [
            "Bihor",
            "Bistrita-Nasaud",
            "Cluj",
            "Maramures",
            "Satu Mare",
            "Salaj",
            "Alba",
            "Brasov",
            "Covasna",
            "Harghita",
            "Mures",
            "Sibiu",
            "Bacau",
            "Botosani",
            "Iasi",
            "Neamt",
            "Suceava",
            "Vaslui",
            "Buzau",
            "Constanta",
            "Galati",
            "Tulcea",
            "Vrancea",
            "Arges",
            "Calarasi",
            "Dambovita",
            "Giurgiu",
            "Ialomita",
            "Prahova",
            "Teleorman",
            "Ilfov",
            "Dolj",
            "Gorj",
            "Mehedinti",
            "Olt",
            "Valcea",
            "Arad",
            "Caras-Severin",
            "Hunedoara",
            "Timis"
           ],
           "yaxis": "y"
          }
         ],
         "name": "1997"
        },
        {
         "data": [
          {
           "alignmentgroup": "True",
           "hovertemplate": "Year=1998<br>Value=%{x}<br>Region=%{y}<extra></extra>",
           "legendgroup": "",
           "marker": {
            "color": "#636efa"
           },
           "name": "",
           "offsetgroup": "",
           "orientation": "h",
           "showlegend": false,
           "textposition": "auto",
           "type": "bar",
           "x": [
            32.9,
            87.5,
            57.7,
            95.0,
            3.8,
            6.0,
            69.5,
            64.9,
            61.0,
            166.3,
            77.7,
            68.7,
            92.5,
            1.0,
            3.4,
            144.7,
            333.0,
            0.6,
            44.1,
            2.0,
            0.2,
            1.1,
            57.2,
            79.1,
            0.1,
            15.2,
            0.3,
            0.1,
            33.1,
            0.3,
            0.1,
            0.9,
            25.8,
            8.4,
            0.3,
            80.2,
            15.1,
            50.6,
            81.3,
            6.2
           ],
           "xaxis": "x",
           "y": [
            "Bihor",
            "Bistrita-Nasaud",
            "Cluj",
            "Maramures",
            "Satu Mare",
            "Salaj",
            "Alba",
            "Brasov",
            "Covasna",
            "Harghita",
            "Mures",
            "Sibiu",
            "Bacau",
            "Botosani",
            "Iasi",
            "Neamt",
            "Suceava",
            "Vaslui",
            "Buzau",
            "Constanta",
            "Galati",
            "Tulcea",
            "Vrancea",
            "Arges",
            "Calarasi",
            "Dambovita",
            "Giurgiu",
            "Ialomita",
            "Prahova",
            "Teleorman",
            "Ilfov",
            "Dolj",
            "Gorj",
            "Mehedinti",
            "Olt",
            "Valcea",
            "Arad",
            "Caras-Severin",
            "Hunedoara",
            "Timis"
           ],
           "yaxis": "y"
          }
         ],
         "name": "1998"
        },
        {
         "data": [
          {
           "alignmentgroup": "True",
           "hovertemplate": "Year=1999<br>Value=%{x}<br>Region=%{y}<extra></extra>",
           "legendgroup": "",
           "marker": {
            "color": "#636efa"
           },
           "name": "",
           "offsetgroup": "",
           "orientation": "h",
           "showlegend": false,
           "textposition": "auto",
           "type": "bar",
           "x": [
            33.0,
            87.3,
            57.7,
            95.1,
            3.8,
            6.0,
            69.2,
            64.9,
            60.7,
            166.5,
            77.5,
            68.3,
            91.0,
            1.0,
            3.2,
            144.5,
            329.8,
            0.6,
            43.8,
            1.9,
            0.2,
            1.1,
            57.2,
            79.1,
            0.1,
            15.1,
            0.3,
            0.1,
            33.1,
            0.3,
            0.1,
            0.8,
            26.0,
            8.4,
            0.3,
            80.1,
            15.1,
            50.4,
            81.6,
            6.2
           ],
           "xaxis": "x",
           "y": [
            "Bihor",
            "Bistrita-Nasaud",
            "Cluj",
            "Maramures",
            "Satu Mare",
            "Salaj",
            "Alba",
            "Brasov",
            "Covasna",
            "Harghita",
            "Mures",
            "Sibiu",
            "Bacau",
            "Botosani",
            "Iasi",
            "Neamt",
            "Suceava",
            "Vaslui",
            "Buzau",
            "Constanta",
            "Galati",
            "Tulcea",
            "Vrancea",
            "Arges",
            "Calarasi",
            "Dambovita",
            "Giurgiu",
            "Ialomita",
            "Prahova",
            "Teleorman",
            "Ilfov",
            "Dolj",
            "Gorj",
            "Mehedinti",
            "Olt",
            "Valcea",
            "Arad",
            "Caras-Severin",
            "Hunedoara",
            "Timis"
           ],
           "yaxis": "y"
          }
         ],
         "name": "1999"
        },
        {
         "data": [
          {
           "alignmentgroup": "True",
           "hovertemplate": "Year=2000<br>Value=%{x}<br>Region=%{y}<extra></extra>",
           "legendgroup": "",
           "marker": {
            "color": "#636efa"
           },
           "name": "",
           "offsetgroup": "",
           "orientation": "h",
           "showlegend": false,
           "textposition": "auto",
           "type": "bar",
           "x": [
            32.6,
            87.6,
            57.7,
            95.4,
            3.8,
            6.0,
            68.9,
            64.9,
            60.4,
            166.4,
            77.6,
            68.2,
            89.5,
            1.0,
            3.2,
            144.3,
            329.2,
            0.6,
            43.7,
            1.9,
            0.2,
            1.1,
            57.1,
            78.7,
            0.1,
            15.0,
            0.3,
            33.0,
            0.3,
            0.1,
            0.8,
            26.0,
            7.1,
            0.2,
            80.0,
            15.2,
            50.4,
            81.6,
            6.1
           ],
           "xaxis": "x",
           "y": [
            "Bihor",
            "Bistrita-Nasaud",
            "Cluj",
            "Maramures",
            "Satu Mare",
            "Salaj",
            "Alba",
            "Brasov",
            "Covasna",
            "Harghita",
            "Mures",
            "Sibiu",
            "Bacau",
            "Botosani",
            "Iasi",
            "Neamt",
            "Suceava",
            "Vaslui",
            "Buzau",
            "Constanta",
            "Galati",
            "Tulcea",
            "Vrancea",
            "Arges",
            "Calarasi",
            "Dambovita",
            "Giurgiu",
            "Prahova",
            "Teleorman",
            "Ilfov",
            "Dolj",
            "Gorj",
            "Mehedinti",
            "Olt",
            "Valcea",
            "Arad",
            "Caras-Severin",
            "Hunedoara",
            "Timis"
           ],
           "yaxis": "y"
          }
         ],
         "name": "2000"
        },
        {
         "data": [
          {
           "alignmentgroup": "True",
           "hovertemplate": "Year=2001<br>Value=%{x}<br>Region=%{y}<extra></extra>",
           "legendgroup": "",
           "marker": {
            "color": "#636efa"
           },
           "name": "",
           "offsetgroup": "",
           "orientation": "h",
           "showlegend": false,
           "textposition": "auto",
           "type": "bar",
           "x": [
            32.7,
            87.6,
            57.7,
            95.2,
            3.7,
            6.0,
            68.8,
            65.0,
            59.9,
            167.1,
            77.0,
            68.0,
            89.4,
            1.0,
            3.2,
            143.9,
            329.5,
            0.6,
            43.3,
            1.9,
            0.2,
            1.1,
            56.7,
            78.7,
            0.1,
            15.0,
            0.3,
            0.1,
            32.9,
            0.3,
            0.1,
            0.8,
            25.7,
            6.8,
            0.2,
            80.0,
            15.2,
            50.4,
            81.0,
            5.7
           ],
           "xaxis": "x",
           "y": [
            "Bihor",
            "Bistrita-Nasaud",
            "Cluj",
            "Maramures",
            "Satu Mare",
            "Salaj",
            "Alba",
            "Brasov",
            "Covasna",
            "Harghita",
            "Mures",
            "Sibiu",
            "Bacau",
            "Botosani",
            "Iasi",
            "Neamt",
            "Suceava",
            "Vaslui",
            "Buzau",
            "Constanta",
            "Galati",
            "Tulcea",
            "Vrancea",
            "Arges",
            "Calarasi",
            "Dambovita",
            "Giurgiu",
            "Ialomita",
            "Prahova",
            "Teleorman",
            "Ilfov",
            "Dolj",
            "Gorj",
            "Mehedinti",
            "Olt",
            "Valcea",
            "Arad",
            "Caras-Severin",
            "Hunedoara",
            "Timis"
           ],
           "yaxis": "y"
          }
         ],
         "name": "2001"
        },
        {
         "data": [
          {
           "alignmentgroup": "True",
           "hovertemplate": "Year=2002<br>Value=%{x}<br>Region=%{y}<extra></extra>",
           "legendgroup": "",
           "marker": {
            "color": "#636efa"
           },
           "name": "",
           "offsetgroup": "",
           "orientation": "h",
           "showlegend": false,
           "textposition": "auto",
           "type": "bar",
           "x": [
            33.2,
            92.8,
            57.4,
            95.0,
            3.7,
            6.0,
            68.7,
            65.0,
            60.7,
            162.4,
            76.7,
            68.4,
            89.5,
            1.0,
            3.2,
            146.7,
            328.1,
            0.6,
            43.3,
            1.8,
            0.2,
            1.0,
            56.6,
            78.8,
            0.1,
            15.0,
            0.3,
            32.8,
            0.3,
            0.1,
            0.8,
            25.2,
            6.7,
            0.2,
            79.3,
            15.2,
            53.1,
            81.2,
            5.2
           ],
           "xaxis": "x",
           "y": [
            "Bihor",
            "Bistrita-Nasaud",
            "Cluj",
            "Maramures",
            "Satu Mare",
            "Salaj",
            "Alba",
            "Brasov",
            "Covasna",
            "Harghita",
            "Mures",
            "Sibiu",
            "Bacau",
            "Botosani",
            "Iasi",
            "Neamt",
            "Suceava",
            "Vaslui",
            "Buzau",
            "Constanta",
            "Galati",
            "Tulcea",
            "Vrancea",
            "Arges",
            "Calarasi",
            "Dambovita",
            "Giurgiu",
            "Prahova",
            "Teleorman",
            "Ilfov",
            "Dolj",
            "Gorj",
            "Mehedinti",
            "Olt",
            "Valcea",
            "Arad",
            "Caras-Severin",
            "Hunedoara",
            "Timis"
           ],
           "yaxis": "y"
          }
         ],
         "name": "2002"
        },
        {
         "data": [
          {
           "alignmentgroup": "True",
           "hovertemplate": "Year=2003<br>Value=%{x}<br>Region=%{y}<extra></extra>",
           "legendgroup": "",
           "marker": {
            "color": "#636efa"
           },
           "name": "",
           "offsetgroup": "",
           "orientation": "h",
           "showlegend": false,
           "textposition": "auto",
           "type": "bar",
           "x": [
            32.6,
            85.8,
            57.6,
            97.3,
            3.6,
            6.0,
            68.9,
            64.5,
            60.1,
            158.6,
            76.6,
            68.4,
            87.4,
            1.0,
            3.2,
            145.4,
            326.2,
            0.6,
            43.3,
            1.8,
            0.2,
            1.0,
            57.3,
            78.7,
            0.1,
            14.4,
            0.3,
            32.2,
            0.3,
            0.1,
            0.8,
            24.6,
            6.4,
            0.3,
            78.7,
            13.8,
            54.2,
            81.5,
            5.2
           ],
           "xaxis": "x",
           "y": [
            "Bihor",
            "Bistrita-Nasaud",
            "Cluj",
            "Maramures",
            "Satu Mare",
            "Salaj",
            "Alba",
            "Brasov",
            "Covasna",
            "Harghita",
            "Mures",
            "Sibiu",
            "Bacau",
            "Botosani",
            "Iasi",
            "Neamt",
            "Suceava",
            "Vaslui",
            "Buzau",
            "Constanta",
            "Galati",
            "Tulcea",
            "Vrancea",
            "Arges",
            "Calarasi",
            "Dambovita",
            "Giurgiu",
            "Prahova",
            "Teleorman",
            "Ilfov",
            "Dolj",
            "Gorj",
            "Mehedinti",
            "Olt",
            "Valcea",
            "Arad",
            "Caras-Severin",
            "Hunedoara",
            "Timis"
           ],
           "yaxis": "y"
          }
         ],
         "name": "2003"
        },
        {
         "data": [
          {
           "alignmentgroup": "True",
           "hovertemplate": "Year=2004<br>Value=%{x}<br>Region=%{y}<extra></extra>",
           "legendgroup": "",
           "marker": {
            "color": "#636efa"
           },
           "name": "",
           "offsetgroup": "",
           "orientation": "h",
           "showlegend": false,
           "textposition": "auto",
           "type": "bar",
           "x": [
            32.0,
            86.0,
            57.8,
            95.2,
            3.6,
            6.7,
            70.1,
            66.5,
            60.0,
            168.5,
            76.4,
            68.5,
            90.9,
            1.0,
            3.1,
            141.6,
            324.3,
            0.6,
            43.6,
            1.8,
            0.2,
            1.0,
            55.6,
            84.8,
            0.1,
            14.5,
            0.2,
            32.3,
            0.3,
            0.1,
            0.8,
            24.5,
            6.4,
            0.2,
            79.0,
            15.0,
            52.4,
            81.7,
            5.2
           ],
           "xaxis": "x",
           "y": [
            "Bihor",
            "Bistrita-Nasaud",
            "Cluj",
            "Maramures",
            "Satu Mare",
            "Salaj",
            "Alba",
            "Brasov",
            "Covasna",
            "Harghita",
            "Mures",
            "Sibiu",
            "Bacau",
            "Botosani",
            "Iasi",
            "Neamt",
            "Suceava",
            "Vaslui",
            "Buzau",
            "Constanta",
            "Galati",
            "Tulcea",
            "Vrancea",
            "Arges",
            "Calarasi",
            "Dambovita",
            "Giurgiu",
            "Prahova",
            "Teleorman",
            "Ilfov",
            "Dolj",
            "Gorj",
            "Mehedinti",
            "Olt",
            "Valcea",
            "Arad",
            "Caras-Severin",
            "Hunedoara",
            "Timis"
           ],
           "yaxis": "y"
          }
         ],
         "name": "2004"
        },
        {
         "data": [
          {
           "alignmentgroup": "True",
           "hovertemplate": "Year=2005<br>Value=%{x}<br>Region=%{y}<extra></extra>",
           "legendgroup": "",
           "marker": {
            "color": "#636efa"
           },
           "name": "",
           "offsetgroup": "",
           "orientation": "h",
           "showlegend": false,
           "textposition": "auto",
           "type": "bar",
           "x": [
            31.0,
            86.0,
            61.7,
            93.9,
            3.6,
            6.1,
            72.5,
            64.5,
            60.6,
            171.6,
            76.4,
            68.0,
            90.7,
            1.0,
            3.1,
            144.3,
            325.1,
            0.6,
            43.6,
            1.7,
            0.2,
            1.0,
            57.0,
            84.8,
            0.1,
            14.4,
            0.2,
            32.4,
            0.3,
            0.1,
            0.8,
            23.4,
            6.3,
            0.2,
            92.2,
            14.6,
            51.6,
            81.8,
            5.3
           ],
           "xaxis": "x",
           "y": [
            "Bihor",
            "Bistrita-Nasaud",
            "Cluj",
            "Maramures",
            "Satu Mare",
            "Salaj",
            "Alba",
            "Brasov",
            "Covasna",
            "Harghita",
            "Mures",
            "Sibiu",
            "Bacau",
            "Botosani",
            "Iasi",
            "Neamt",
            "Suceava",
            "Vaslui",
            "Buzau",
            "Constanta",
            "Galati",
            "Tulcea",
            "Vrancea",
            "Arges",
            "Calarasi",
            "Dambovita",
            "Giurgiu",
            "Prahova",
            "Teleorman",
            "Ilfov",
            "Dolj",
            "Gorj",
            "Mehedinti",
            "Olt",
            "Valcea",
            "Arad",
            "Caras-Severin",
            "Hunedoara",
            "Timis"
           ],
           "yaxis": "y"
          }
         ],
         "name": "2005"
        },
        {
         "data": [
          {
           "alignmentgroup": "True",
           "hovertemplate": "Year=2006<br>Value=%{x}<br>Region=%{y}<extra></extra>",
           "legendgroup": "",
           "marker": {
            "color": "#636efa"
           },
           "name": "",
           "offsetgroup": "",
           "orientation": "h",
           "showlegend": false,
           "textposition": "auto",
           "type": "bar",
           "x": [
            31.7,
            83.4,
            64.9,
            92.6,
            3.6,
            6.7,
            72.0,
            67.7,
            63.6,
            196.0,
            76.8,
            68.1,
            89.0,
            1.0,
            3.1,
            142.0,
            325.0,
            0.6,
            41.6,
            1.7,
            0.2,
            1.0,
            56.9,
            84.8,
            0.1,
            14.5,
            0.2,
            32.3,
            0.2,
            0.1,
            0.8,
            25.0,
            6.3,
            0.2,
            91.6,
            14.7,
            45.0,
            82.5,
            5.3
           ],
           "xaxis": "x",
           "y": [
            "Bihor",
            "Bistrita-Nasaud",
            "Cluj",
            "Maramures",
            "Satu Mare",
            "Salaj",
            "Alba",
            "Brasov",
            "Covasna",
            "Harghita",
            "Mures",
            "Sibiu",
            "Bacau",
            "Botosani",
            "Iasi",
            "Neamt",
            "Suceava",
            "Vaslui",
            "Buzau",
            "Constanta",
            "Galati",
            "Tulcea",
            "Vrancea",
            "Arges",
            "Calarasi",
            "Dambovita",
            "Giurgiu",
            "Prahova",
            "Teleorman",
            "Ilfov",
            "Dolj",
            "Gorj",
            "Mehedinti",
            "Olt",
            "Valcea",
            "Arad",
            "Caras-Severin",
            "Hunedoara",
            "Timis"
           ],
           "yaxis": "y"
          }
         ],
         "name": "2006"
        },
        {
         "data": [
          {
           "alignmentgroup": "True",
           "hovertemplate": "Year=2007<br>Value=%{x}<br>Region=%{y}<extra></extra>",
           "legendgroup": "",
           "marker": {
            "color": "#636efa"
           },
           "name": "",
           "offsetgroup": "",
           "orientation": "h",
           "showlegend": false,
           "textposition": "auto",
           "type": "bar",
           "x": [
            34.4,
            83.8,
            65.9,
            101.7,
            3.5,
            6.7,
            76.1,
            69.4,
            68.6,
            193.4,
            76.1,
            72.3,
            89.9,
            1.0,
            3.0,
            141.6,
            325.7,
            0.6,
            45.7,
            1.7,
            0.2,
            1.0,
            57.3,
            78.7,
            0.1,
            14.6,
            0.2,
            32.2,
            0.3,
            0.1,
            0.8,
            24.9,
            6.3,
            0.2,
            92.2,
            14.1,
            46.0,
            84.7,
            5.2
           ],
           "xaxis": "x",
           "y": [
            "Bihor",
            "Bistrita-Nasaud",
            "Cluj",
            "Maramures",
            "Satu Mare",
            "Salaj",
            "Alba",
            "Brasov",
            "Covasna",
            "Harghita",
            "Mures",
            "Sibiu",
            "Bacau",
            "Botosani",
            "Iasi",
            "Neamt",
            "Suceava",
            "Vaslui",
            "Buzau",
            "Constanta",
            "Galati",
            "Tulcea",
            "Vrancea",
            "Arges",
            "Calarasi",
            "Dambovita",
            "Giurgiu",
            "Prahova",
            "Teleorman",
            "Ilfov",
            "Dolj",
            "Gorj",
            "Mehedinti",
            "Olt",
            "Valcea",
            "Arad",
            "Caras-Severin",
            "Hunedoara",
            "Timis"
           ],
           "yaxis": "y"
          }
         ],
         "name": "2007"
        },
        {
         "data": [
          {
           "alignmentgroup": "True",
           "hovertemplate": "Year=2008<br>Value=%{x}<br>Region=%{y}<extra></extra>",
           "legendgroup": "",
           "marker": {
            "color": "#636efa"
           },
           "name": "",
           "offsetgroup": "",
           "orientation": "h",
           "showlegend": false,
           "textposition": "auto",
           "type": "bar",
           "x": [
            34.9,
            83.6,
            66.9,
            110.7,
            3.6,
            6.9,
            72.4,
            68.0,
            63.8,
            193.1,
            84.4,
            70.4,
            99.0,
            1.0,
            2.6,
            141.1,
            325.2,
            0.5,
            48.4,
            1.7,
            0.2,
            1.0,
            57.3,
            78.7,
            0.1,
            14.4,
            0.2,
            32.1,
            0.3,
            0.1,
            0.8,
            25.9,
            6.2,
            0.2,
            92.0,
            14.2,
            46.8,
            84.4,
            5.3
           ],
           "xaxis": "x",
           "y": [
            "Bihor",
            "Bistrita-Nasaud",
            "Cluj",
            "Maramures",
            "Satu Mare",
            "Salaj",
            "Alba",
            "Brasov",
            "Covasna",
            "Harghita",
            "Mures",
            "Sibiu",
            "Bacau",
            "Botosani",
            "Iasi",
            "Neamt",
            "Suceava",
            "Vaslui",
            "Buzau",
            "Constanta",
            "Galati",
            "Tulcea",
            "Vrancea",
            "Arges",
            "Calarasi",
            "Dambovita",
            "Giurgiu",
            "Prahova",
            "Teleorman",
            "Ilfov",
            "Dolj",
            "Gorj",
            "Mehedinti",
            "Olt",
            "Valcea",
            "Arad",
            "Caras-Severin",
            "Hunedoara",
            "Timis"
           ],
           "yaxis": "y"
          }
         ],
         "name": "2008"
        },
        {
         "data": [
          {
           "alignmentgroup": "True",
           "hovertemplate": "Year=2009<br>Value=%{x}<br>Region=%{y}<extra></extra>",
           "legendgroup": "",
           "marker": {
            "color": "#636efa"
           },
           "name": "",
           "offsetgroup": "",
           "orientation": "h",
           "showlegend": false,
           "textposition": "auto",
           "type": "bar",
           "x": [
            34.4,
            85.4,
            65.5,
            111.2,
            3.6,
            6.9,
            73.6,
            70.0,
            65.5,
            191.7,
            82.6,
            72.8,
            90.4,
            0.9,
            3.2,
            141.5,
            325.0,
            0.6,
            46.7,
            1.8,
            0.2,
            1.0,
            57.4,
            76.8,
            0.1,
            14.5,
            0.2,
            32.1,
            0.3,
            0.1,
            0.7,
            26.0,
            6.3,
            0.2,
            93.8,
            14.0,
            45.8,
            86.7,
            5.3
           ],
           "xaxis": "x",
           "y": [
            "Bihor",
            "Bistrita-Nasaud",
            "Cluj",
            "Maramures",
            "Satu Mare",
            "Salaj",
            "Alba",
            "Brasov",
            "Covasna",
            "Harghita",
            "Mures",
            "Sibiu",
            "Bacau",
            "Botosani",
            "Iasi",
            "Neamt",
            "Suceava",
            "Vaslui",
            "Buzau",
            "Constanta",
            "Galati",
            "Tulcea",
            "Vrancea",
            "Arges",
            "Calarasi",
            "Dambovita",
            "Giurgiu",
            "Prahova",
            "Teleorman",
            "Ilfov",
            "Dolj",
            "Gorj",
            "Mehedinti",
            "Olt",
            "Valcea",
            "Arad",
            "Caras-Severin",
            "Hunedoara",
            "Timis"
           ],
           "yaxis": "y"
          }
         ],
         "name": "2009"
        },
        {
         "data": [
          {
           "alignmentgroup": "True",
           "hovertemplate": "Year=2010<br>Value=%{x}<br>Region=%{y}<extra></extra>",
           "legendgroup": "",
           "marker": {
            "color": "#636efa"
           },
           "name": "",
           "offsetgroup": "",
           "orientation": "h",
           "showlegend": false,
           "textposition": "auto",
           "type": "bar",
           "x": [
            34.4,
            85.3,
            71.0,
            109.3,
            2.9,
            6.9,
            73.6,
            69.9,
            65.3,
            193.6,
            82.0,
            73.6,
            90.3,
            1.0,
            3.2,
            141.0,
            325.8,
            0.6,
            47.9,
            1.8,
            0.2,
            1.0,
            57.9,
            77.0,
            0.1,
            14.5,
            0.2,
            32.2,
            0.3,
            0.1,
            0.8,
            25.9,
            6.3,
            0.2,
            93.9,
            13.4,
            47.6,
            84.6,
            5.3
           ],
           "xaxis": "x",
           "y": [
            "Bihor",
            "Bistrita-Nasaud",
            "Cluj",
            "Maramures",
            "Satu Mare",
            "Salaj",
            "Alba",
            "Brasov",
            "Covasna",
            "Harghita",
            "Mures",
            "Sibiu",
            "Bacau",
            "Botosani",
            "Iasi",
            "Neamt",
            "Suceava",
            "Vaslui",
            "Buzau",
            "Constanta",
            "Galati",
            "Tulcea",
            "Vrancea",
            "Arges",
            "Calarasi",
            "Dambovita",
            "Giurgiu",
            "Prahova",
            "Teleorman",
            "Ilfov",
            "Dolj",
            "Gorj",
            "Mehedinti",
            "Olt",
            "Valcea",
            "Arad",
            "Caras-Severin",
            "Hunedoara",
            "Timis"
           ],
           "yaxis": "y"
          }
         ],
         "name": "2010"
        },
        {
         "data": [
          {
           "alignmentgroup": "True",
           "hovertemplate": "Year=2011<br>Value=%{x}<br>Region=%{y}<extra></extra>",
           "legendgroup": "",
           "marker": {
            "color": "#636efa"
           },
           "name": "",
           "offsetgroup": "",
           "orientation": "h",
           "showlegend": false,
           "textposition": "auto",
           "type": "bar",
           "x": [
            33.6,
            84.5,
            72.5,
            108.7,
            3.0,
            6.9,
            74.8,
            70.4,
            67.5,
            192.8,
            84.5,
            73.7,
            90.0,
            1.0,
            3.1,
            139.8,
            326.3,
            0.5,
            53.5,
            1.8,
            0.2,
            1.0,
            57.8,
            77.1,
            14.5,
            0.2,
            32.2,
            0.2,
            0.1,
            0.8,
            26.0,
            6.3,
            0.2,
            93.5,
            13.4,
            47.2,
            83.8,
            5.2
           ],
           "xaxis": "x",
           "y": [
            "Bihor",
            "Bistrita-Nasaud",
            "Cluj",
            "Maramures",
            "Satu Mare",
            "Salaj",
            "Alba",
            "Brasov",
            "Covasna",
            "Harghita",
            "Mures",
            "Sibiu",
            "Bacau",
            "Botosani",
            "Iasi",
            "Neamt",
            "Suceava",
            "Vaslui",
            "Buzau",
            "Constanta",
            "Galati",
            "Tulcea",
            "Vrancea",
            "Arges",
            "Dambovita",
            "Giurgiu",
            "Prahova",
            "Teleorman",
            "Ilfov",
            "Dolj",
            "Gorj",
            "Mehedinti",
            "Olt",
            "Valcea",
            "Arad",
            "Caras-Severin",
            "Hunedoara",
            "Timis"
           ],
           "yaxis": "y"
          }
         ],
         "name": "2011"
        },
        {
         "data": [
          {
           "alignmentgroup": "True",
           "hovertemplate": "Year=2012<br>Value=%{x}<br>Region=%{y}<extra></extra>",
           "legendgroup": "",
           "marker": {
            "color": "#636efa"
           },
           "name": "",
           "offsetgroup": "",
           "orientation": "h",
           "showlegend": false,
           "textposition": "auto",
           "type": "bar",
           "x": [
            33.3,
            85.0,
            72.3,
            108.6,
            3.0,
            6.9,
            73.9,
            70.3,
            67.6,
            195.5,
            84.7,
            73.9,
            90.3,
            0.9,
            3.1,
            139.2,
            326.1,
            0.5,
            50.7,
            1.7,
            0.2,
            1.0,
            57.4,
            76.8,
            0.1,
            14.5,
            0.2,
            32.2,
            0.3,
            0.1,
            0.8,
            25.9,
            6.4,
            0.2,
            93.6,
            13.3,
            46.9,
            82.4,
            4.9
           ],
           "xaxis": "x",
           "y": [
            "Bihor",
            "Bistrita-Nasaud",
            "Cluj",
            "Maramures",
            "Satu Mare",
            "Salaj",
            "Alba",
            "Brasov",
            "Covasna",
            "Harghita",
            "Mures",
            "Sibiu",
            "Bacau",
            "Botosani",
            "Iasi",
            "Neamt",
            "Suceava",
            "Vaslui",
            "Buzau",
            "Constanta",
            "Galati",
            "Tulcea",
            "Vrancea",
            "Arges",
            "Calarasi",
            "Dambovita",
            "Giurgiu",
            "Prahova",
            "Teleorman",
            "Ilfov",
            "Dolj",
            "Gorj",
            "Mehedinti",
            "Olt",
            "Valcea",
            "Arad",
            "Caras-Severin",
            "Hunedoara",
            "Timis"
           ],
           "yaxis": "y"
          }
         ],
         "name": "2012"
        },
        {
         "data": [
          {
           "alignmentgroup": "True",
           "hovertemplate": "Year=2013<br>Value=%{x}<br>Region=%{y}<extra></extra>",
           "legendgroup": "",
           "marker": {
            "color": "#636efa"
           },
           "name": "",
           "offsetgroup": "",
           "orientation": "h",
           "showlegend": false,
           "textposition": "auto",
           "type": "bar",
           "x": [
            32.6,
            83.1,
            71.2,
            107.5,
            2.7,
            6.9,
            73.4,
            69.9,
            67.5,
            192.9,
            87.6,
            74.7,
            90.6,
            0.8,
            2.8,
            138.9,
            325.9,
            0.4,
            48.0,
            1.8,
            0.2,
            1.0,
            57.9,
            76.8,
            0.1,
            14.5,
            0.2,
            0.1,
            32.2,
            0.2,
            0.1,
            0.8,
            25.6,
            6.3,
            0.2,
            93.6,
            13.2,
            46.7,
            82.5,
            4.9
           ],
           "xaxis": "x",
           "y": [
            "Bihor",
            "Bistrita-Nasaud",
            "Cluj",
            "Maramures",
            "Satu Mare",
            "Salaj",
            "Alba",
            "Brasov",
            "Covasna",
            "Harghita",
            "Mures",
            "Sibiu",
            "Bacau",
            "Botosani",
            "Iasi",
            "Neamt",
            "Suceava",
            "Vaslui",
            "Buzau",
            "Constanta",
            "Galati",
            "Tulcea",
            "Vrancea",
            "Arges",
            "Calarasi",
            "Dambovita",
            "Giurgiu",
            "Ialomita",
            "Prahova",
            "Teleorman",
            "Ilfov",
            "Dolj",
            "Gorj",
            "Mehedinti",
            "Olt",
            "Valcea",
            "Arad",
            "Caras-Severin",
            "Hunedoara",
            "Timis"
           ],
           "yaxis": "y"
          }
         ],
         "name": "2013"
        },
        {
         "data": [
          {
           "alignmentgroup": "True",
           "hovertemplate": "Year=2014<br>Value=%{x}<br>Region=%{y}<extra></extra>",
           "legendgroup": "",
           "marker": {
            "color": "#636efa"
           },
           "name": "",
           "offsetgroup": "",
           "orientation": "h",
           "showlegend": false,
           "textposition": "auto",
           "type": "bar",
           "x": [
            33.4,
            82.2,
            72.4,
            107.7,
            2.7,
            6.9,
            73.0,
            68.8,
            67.4,
            193.0,
            87.1,
            74.2,
            89.9,
            0.7,
            2.4,
            138.9,
            325.7,
            0.4,
            46.0,
            1.8,
            0.2,
            0.9,
            58.0,
            76.8,
            0.1,
            14.4,
            0.2,
            0.1,
            32.7,
            0.2,
            0.1,
            0.8,
            25.6,
            7.5,
            0.2,
            93.7,
            12.9,
            44.4,
            81.4,
            4.9
           ],
           "xaxis": "x",
           "y": [
            "Bihor",
            "Bistrita-Nasaud",
            "Cluj",
            "Maramures",
            "Satu Mare",
            "Salaj",
            "Alba",
            "Brasov",
            "Covasna",
            "Harghita",
            "Mures",
            "Sibiu",
            "Bacau",
            "Botosani",
            "Iasi",
            "Neamt",
            "Suceava",
            "Vaslui",
            "Buzau",
            "Constanta",
            "Galati",
            "Tulcea",
            "Vrancea",
            "Arges",
            "Calarasi",
            "Dambovita",
            "Giurgiu",
            "Ialomita",
            "Prahova",
            "Teleorman",
            "Ilfov",
            "Dolj",
            "Gorj",
            "Mehedinti",
            "Olt",
            "Valcea",
            "Arad",
            "Caras-Severin",
            "Hunedoara",
            "Timis"
           ],
           "yaxis": "y"
          }
         ],
         "name": "2014"
        },
        {
         "data": [
          {
           "alignmentgroup": "True",
           "hovertemplate": "Year=2015<br>Value=%{x}<br>Region=%{y}<extra></extra>",
           "legendgroup": "",
           "marker": {
            "color": "#636efa"
           },
           "name": "",
           "offsetgroup": "",
           "orientation": "h",
           "showlegend": false,
           "textposition": "auto",
           "type": "bar",
           "x": [
            33.1,
            81.5,
            74.9,
            108.0,
            2.7,
            6.7,
            69.1,
            70.0,
            65.7,
            191.0,
            86.0,
            74.1,
            89.2,
            0.5,
            2.2,
            140.1,
            324.4,
            0.4,
            48.2,
            1.7,
            0.2,
            1.0,
            57.6,
            83.4,
            0.1,
            14.7,
            0.2,
            0.1,
            32.6,
            0.2,
            0.1,
            0.8,
            26.3,
            7.5,
            0.2,
            93.6,
            12.6,
            43.8,
            81.3,
            4.9
           ],
           "xaxis": "x",
           "y": [
            "Bihor",
            "Bistrita-Nasaud",
            "Cluj",
            "Maramures",
            "Satu Mare",
            "Salaj",
            "Alba",
            "Brasov",
            "Covasna",
            "Harghita",
            "Mures",
            "Sibiu",
            "Bacau",
            "Botosani",
            "Iasi",
            "Neamt",
            "Suceava",
            "Vaslui",
            "Buzau",
            "Constanta",
            "Galati",
            "Tulcea",
            "Vrancea",
            "Arges",
            "Calarasi",
            "Dambovita",
            "Giurgiu",
            "Ialomita",
            "Prahova",
            "Teleorman",
            "Ilfov",
            "Dolj",
            "Gorj",
            "Mehedinti",
            "Olt",
            "Valcea",
            "Arad",
            "Caras-Severin",
            "Hunedoara",
            "Timis"
           ],
           "yaxis": "y"
          }
         ],
         "name": "2015"
        },
        {
         "data": [
          {
           "alignmentgroup": "True",
           "hovertemplate": "Year=2016<br>Value=%{x}<br>Region=%{y}<extra></extra>",
           "legendgroup": "",
           "marker": {
            "color": "#636efa"
           },
           "name": "",
           "offsetgroup": "",
           "orientation": "h",
           "showlegend": false,
           "textposition": "auto",
           "type": "bar",
           "x": [
            33.9,
            81.5,
            75.0,
            106.9,
            2.6,
            6.6,
            69.1,
            70.5,
            65.5,
            190.9,
            84.6,
            74.1,
            88.1,
            0.4,
            2.1,
            140.2,
            324.8,
            0.4,
            47.7,
            1.7,
            0.2,
            0.9,
            58.6,
            84.3,
            0.1,
            14.7,
            0.2,
            32.7,
            0.2,
            0.1,
            0.8,
            26.5,
            7.6,
            0.2,
            92.7,
            13.0,
            43.4,
            81.7,
            4.9
           ],
           "xaxis": "x",
           "y": [
            "Bihor",
            "Bistrita-Nasaud",
            "Cluj",
            "Maramures",
            "Satu Mare",
            "Salaj",
            "Alba",
            "Brasov",
            "Covasna",
            "Harghita",
            "Mures",
            "Sibiu",
            "Bacau",
            "Botosani",
            "Iasi",
            "Neamt",
            "Suceava",
            "Vaslui",
            "Buzau",
            "Constanta",
            "Galati",
            "Tulcea",
            "Vrancea",
            "Arges",
            "Calarasi",
            "Dambovita",
            "Giurgiu",
            "Prahova",
            "Teleorman",
            "Ilfov",
            "Dolj",
            "Gorj",
            "Mehedinti",
            "Olt",
            "Valcea",
            "Arad",
            "Caras-Severin",
            "Hunedoara",
            "Timis"
           ],
           "yaxis": "y"
          }
         ],
         "name": "2016"
        },
        {
         "data": [
          {
           "alignmentgroup": "True",
           "hovertemplate": "Year=2017<br>Value=%{x}<br>Region=%{y}<extra></extra>",
           "legendgroup": "",
           "marker": {
            "color": "#636efa"
           },
           "name": "",
           "offsetgroup": "",
           "orientation": "h",
           "showlegend": false,
           "textposition": "auto",
           "type": "bar",
           "x": [
            34.1,
            81.5,
            75.7,
            106.8,
            2.6,
            6.3,
            69.2,
            69.9,
            64.1,
            189.1,
            84.1,
            74.6,
            87.6,
            0.4,
            2.1,
            140.1,
            325.2,
            0.4,
            47.3,
            1.7,
            0.1,
            0.9,
            59.2,
            84.3,
            0.1,
            14.7,
            0.2,
            32.6,
            0.2,
            0.1,
            0.7,
            26.3,
            6.8,
            0.2,
            92.8,
            12.9,
            42.9,
            81.3,
            4.9
           ],
           "xaxis": "x",
           "y": [
            "Bihor",
            "Bistrita-Nasaud",
            "Cluj",
            "Maramures",
            "Satu Mare",
            "Salaj",
            "Alba",
            "Brasov",
            "Covasna",
            "Harghita",
            "Mures",
            "Sibiu",
            "Bacau",
            "Botosani",
            "Iasi",
            "Neamt",
            "Suceava",
            "Vaslui",
            "Buzau",
            "Constanta",
            "Galati",
            "Tulcea",
            "Vrancea",
            "Arges",
            "Calarasi",
            "Dambovita",
            "Giurgiu",
            "Prahova",
            "Teleorman",
            "Ilfov",
            "Dolj",
            "Gorj",
            "Mehedinti",
            "Olt",
            "Valcea",
            "Arad",
            "Caras-Severin",
            "Hunedoara",
            "Timis"
           ],
           "yaxis": "y"
          }
         ],
         "name": "2017"
        },
        {
         "data": [
          {
           "alignmentgroup": "True",
           "hovertemplate": "Year=2018<br>Value=%{x}<br>Region=%{y}<extra></extra>",
           "legendgroup": "",
           "marker": {
            "color": "#636efa"
           },
           "name": "",
           "offsetgroup": "",
           "orientation": "h",
           "showlegend": false,
           "textposition": "auto",
           "type": "bar",
           "x": [
            34.3,
            81.6,
            75.7,
            107.5,
            3.0,
            6.2,
            69.7,
            69.9,
            63.6,
            189.0,
            82.0,
            74.5,
            87.8,
            0.4,
            1.9,
            140.3,
            325.0,
            0.4,
            47.6,
            1.6,
            0.1,
            0.9,
            58.4,
            84.6,
            0.1,
            14.7,
            0.2,
            32.6,
            0.2,
            0.1,
            0.7,
            26.1,
            6.8,
            0.2,
            88.7,
            12.7,
            42.9,
            80.6,
            4.9
           ],
           "xaxis": "x",
           "y": [
            "Bihor",
            "Bistrita-Nasaud",
            "Cluj",
            "Maramures",
            "Satu Mare",
            "Salaj",
            "Alba",
            "Brasov",
            "Covasna",
            "Harghita",
            "Mures",
            "Sibiu",
            "Bacau",
            "Botosani",
            "Iasi",
            "Neamt",
            "Suceava",
            "Vaslui",
            "Buzau",
            "Constanta",
            "Galati",
            "Tulcea",
            "Vrancea",
            "Arges",
            "Calarasi",
            "Dambovita",
            "Giurgiu",
            "Prahova",
            "Teleorman",
            "Ilfov",
            "Dolj",
            "Gorj",
            "Mehedinti",
            "Olt",
            "Valcea",
            "Arad",
            "Caras-Severin",
            "Hunedoara",
            "Timis"
           ],
           "yaxis": "y"
          }
         ],
         "name": "2018"
        },
        {
         "data": [
          {
           "alignmentgroup": "True",
           "hovertemplate": "Year=2019<br>Value=%{x}<br>Region=%{y}<extra></extra>",
           "legendgroup": "",
           "marker": {
            "color": "#636efa"
           },
           "name": "",
           "offsetgroup": "",
           "orientation": "h",
           "showlegend": false,
           "textposition": "auto",
           "type": "bar",
           "x": [
            34.3,
            81.3,
            76.1,
            107.3,
            2.9,
            5.6,
            69.6,
            69.8,
            63.6,
            188.9,
            82.1,
            74.7,
            88.1,
            0.4,
            1.8,
            140.3,
            324.5,
            0.4,
            0.1,
            48.0,
            1.5,
            0.1,
            0.9,
            58.1,
            84.2,
            14.7,
            0.2,
            32.8,
            0.2,
            0.1,
            0.7,
            26.1,
            6.5,
            0.2,
            88.9,
            11.9,
            43.1,
            80.1,
            4.9
           ],
           "xaxis": "x",
           "y": [
            "Bihor",
            "Bistrita-Nasaud",
            "Cluj",
            "Maramures",
            "Satu Mare",
            "Salaj",
            "Alba",
            "Brasov",
            "Covasna",
            "Harghita",
            "Mures",
            "Sibiu",
            "Bacau",
            "Botosani",
            "Iasi",
            "Neamt",
            "Suceava",
            "Vaslui",
            "Braila",
            "Buzau",
            "Constanta",
            "Galati",
            "Tulcea",
            "Vrancea",
            "Arges",
            "Dambovita",
            "Giurgiu",
            "Prahova",
            "Teleorman",
            "Ilfov",
            "Dolj",
            "Gorj",
            "Mehedinti",
            "Olt",
            "Valcea",
            "Arad",
            "Caras-Severin",
            "Hunedoara",
            "Timis"
           ],
           "yaxis": "y"
          }
         ],
         "name": "2019"
        }
       ],
       "layout": {
        "barmode": "relative",
        "font": {
         "color": "#7f7f7f",
         "family": "Courier New, monospace",
         "size": 10
        },
        "height": 800,
        "legend": {
         "tracegroupgap": 0
        },
        "sliders": [
         {
          "active": 0,
          "currentvalue": {
           "prefix": "Year="
          },
          "len": 0.9,
          "pad": {
           "b": 10,
           "t": 60
          },
          "steps": [
           {
            "args": [
             [
              "1990"
             ],
             {
              "frame": {
               "duration": 0,
               "redraw": true
              },
              "fromcurrent": true,
              "mode": "immediate",
              "transition": {
               "duration": 0,
               "easing": "linear"
              }
             }
            ],
            "label": "1990",
            "method": "animate"
           },
           {
            "args": [
             [
              "1991"
             ],
             {
              "frame": {
               "duration": 0,
               "redraw": true
              },
              "fromcurrent": true,
              "mode": "immediate",
              "transition": {
               "duration": 0,
               "easing": "linear"
              }
             }
            ],
            "label": "1991",
            "method": "animate"
           },
           {
            "args": [
             [
              "1992"
             ],
             {
              "frame": {
               "duration": 0,
               "redraw": true
              },
              "fromcurrent": true,
              "mode": "immediate",
              "transition": {
               "duration": 0,
               "easing": "linear"
              }
             }
            ],
            "label": "1992",
            "method": "animate"
           },
           {
            "args": [
             [
              "1993"
             ],
             {
              "frame": {
               "duration": 0,
               "redraw": true
              },
              "fromcurrent": true,
              "mode": "immediate",
              "transition": {
               "duration": 0,
               "easing": "linear"
              }
             }
            ],
            "label": "1993",
            "method": "animate"
           },
           {
            "args": [
             [
              "1994"
             ],
             {
              "frame": {
               "duration": 0,
               "redraw": true
              },
              "fromcurrent": true,
              "mode": "immediate",
              "transition": {
               "duration": 0,
               "easing": "linear"
              }
             }
            ],
            "label": "1994",
            "method": "animate"
           },
           {
            "args": [
             [
              "1995"
             ],
             {
              "frame": {
               "duration": 0,
               "redraw": true
              },
              "fromcurrent": true,
              "mode": "immediate",
              "transition": {
               "duration": 0,
               "easing": "linear"
              }
             }
            ],
            "label": "1995",
            "method": "animate"
           },
           {
            "args": [
             [
              "1996"
             ],
             {
              "frame": {
               "duration": 0,
               "redraw": true
              },
              "fromcurrent": true,
              "mode": "immediate",
              "transition": {
               "duration": 0,
               "easing": "linear"
              }
             }
            ],
            "label": "1996",
            "method": "animate"
           },
           {
            "args": [
             [
              "1997"
             ],
             {
              "frame": {
               "duration": 0,
               "redraw": true
              },
              "fromcurrent": true,
              "mode": "immediate",
              "transition": {
               "duration": 0,
               "easing": "linear"
              }
             }
            ],
            "label": "1997",
            "method": "animate"
           },
           {
            "args": [
             [
              "1998"
             ],
             {
              "frame": {
               "duration": 0,
               "redraw": true
              },
              "fromcurrent": true,
              "mode": "immediate",
              "transition": {
               "duration": 0,
               "easing": "linear"
              }
             }
            ],
            "label": "1998",
            "method": "animate"
           },
           {
            "args": [
             [
              "1999"
             ],
             {
              "frame": {
               "duration": 0,
               "redraw": true
              },
              "fromcurrent": true,
              "mode": "immediate",
              "transition": {
               "duration": 0,
               "easing": "linear"
              }
             }
            ],
            "label": "1999",
            "method": "animate"
           },
           {
            "args": [
             [
              "2000"
             ],
             {
              "frame": {
               "duration": 0,
               "redraw": true
              },
              "fromcurrent": true,
              "mode": "immediate",
              "transition": {
               "duration": 0,
               "easing": "linear"
              }
             }
            ],
            "label": "2000",
            "method": "animate"
           },
           {
            "args": [
             [
              "2001"
             ],
             {
              "frame": {
               "duration": 0,
               "redraw": true
              },
              "fromcurrent": true,
              "mode": "immediate",
              "transition": {
               "duration": 0,
               "easing": "linear"
              }
             }
            ],
            "label": "2001",
            "method": "animate"
           },
           {
            "args": [
             [
              "2002"
             ],
             {
              "frame": {
               "duration": 0,
               "redraw": true
              },
              "fromcurrent": true,
              "mode": "immediate",
              "transition": {
               "duration": 0,
               "easing": "linear"
              }
             }
            ],
            "label": "2002",
            "method": "animate"
           },
           {
            "args": [
             [
              "2003"
             ],
             {
              "frame": {
               "duration": 0,
               "redraw": true
              },
              "fromcurrent": true,
              "mode": "immediate",
              "transition": {
               "duration": 0,
               "easing": "linear"
              }
             }
            ],
            "label": "2003",
            "method": "animate"
           },
           {
            "args": [
             [
              "2004"
             ],
             {
              "frame": {
               "duration": 0,
               "redraw": true
              },
              "fromcurrent": true,
              "mode": "immediate",
              "transition": {
               "duration": 0,
               "easing": "linear"
              }
             }
            ],
            "label": "2004",
            "method": "animate"
           },
           {
            "args": [
             [
              "2005"
             ],
             {
              "frame": {
               "duration": 0,
               "redraw": true
              },
              "fromcurrent": true,
              "mode": "immediate",
              "transition": {
               "duration": 0,
               "easing": "linear"
              }
             }
            ],
            "label": "2005",
            "method": "animate"
           },
           {
            "args": [
             [
              "2006"
             ],
             {
              "frame": {
               "duration": 0,
               "redraw": true
              },
              "fromcurrent": true,
              "mode": "immediate",
              "transition": {
               "duration": 0,
               "easing": "linear"
              }
             }
            ],
            "label": "2006",
            "method": "animate"
           },
           {
            "args": [
             [
              "2007"
             ],
             {
              "frame": {
               "duration": 0,
               "redraw": true
              },
              "fromcurrent": true,
              "mode": "immediate",
              "transition": {
               "duration": 0,
               "easing": "linear"
              }
             }
            ],
            "label": "2007",
            "method": "animate"
           },
           {
            "args": [
             [
              "2008"
             ],
             {
              "frame": {
               "duration": 0,
               "redraw": true
              },
              "fromcurrent": true,
              "mode": "immediate",
              "transition": {
               "duration": 0,
               "easing": "linear"
              }
             }
            ],
            "label": "2008",
            "method": "animate"
           },
           {
            "args": [
             [
              "2009"
             ],
             {
              "frame": {
               "duration": 0,
               "redraw": true
              },
              "fromcurrent": true,
              "mode": "immediate",
              "transition": {
               "duration": 0,
               "easing": "linear"
              }
             }
            ],
            "label": "2009",
            "method": "animate"
           },
           {
            "args": [
             [
              "2010"
             ],
             {
              "frame": {
               "duration": 0,
               "redraw": true
              },
              "fromcurrent": true,
              "mode": "immediate",
              "transition": {
               "duration": 0,
               "easing": "linear"
              }
             }
            ],
            "label": "2010",
            "method": "animate"
           },
           {
            "args": [
             [
              "2011"
             ],
             {
              "frame": {
               "duration": 0,
               "redraw": true
              },
              "fromcurrent": true,
              "mode": "immediate",
              "transition": {
               "duration": 0,
               "easing": "linear"
              }
             }
            ],
            "label": "2011",
            "method": "animate"
           },
           {
            "args": [
             [
              "2012"
             ],
             {
              "frame": {
               "duration": 0,
               "redraw": true
              },
              "fromcurrent": true,
              "mode": "immediate",
              "transition": {
               "duration": 0,
               "easing": "linear"
              }
             }
            ],
            "label": "2012",
            "method": "animate"
           },
           {
            "args": [
             [
              "2013"
             ],
             {
              "frame": {
               "duration": 0,
               "redraw": true
              },
              "fromcurrent": true,
              "mode": "immediate",
              "transition": {
               "duration": 0,
               "easing": "linear"
              }
             }
            ],
            "label": "2013",
            "method": "animate"
           },
           {
            "args": [
             [
              "2014"
             ],
             {
              "frame": {
               "duration": 0,
               "redraw": true
              },
              "fromcurrent": true,
              "mode": "immediate",
              "transition": {
               "duration": 0,
               "easing": "linear"
              }
             }
            ],
            "label": "2014",
            "method": "animate"
           },
           {
            "args": [
             [
              "2015"
             ],
             {
              "frame": {
               "duration": 0,
               "redraw": true
              },
              "fromcurrent": true,
              "mode": "immediate",
              "transition": {
               "duration": 0,
               "easing": "linear"
              }
             }
            ],
            "label": "2015",
            "method": "animate"
           },
           {
            "args": [
             [
              "2016"
             ],
             {
              "frame": {
               "duration": 0,
               "redraw": true
              },
              "fromcurrent": true,
              "mode": "immediate",
              "transition": {
               "duration": 0,
               "easing": "linear"
              }
             }
            ],
            "label": "2016",
            "method": "animate"
           },
           {
            "args": [
             [
              "2017"
             ],
             {
              "frame": {
               "duration": 0,
               "redraw": true
              },
              "fromcurrent": true,
              "mode": "immediate",
              "transition": {
               "duration": 0,
               "easing": "linear"
              }
             }
            ],
            "label": "2017",
            "method": "animate"
           },
           {
            "args": [
             [
              "2018"
             ],
             {
              "frame": {
               "duration": 0,
               "redraw": true
              },
              "fromcurrent": true,
              "mode": "immediate",
              "transition": {
               "duration": 0,
               "easing": "linear"
              }
             }
            ],
            "label": "2018",
            "method": "animate"
           },
           {
            "args": [
             [
              "2019"
             ],
             {
              "frame": {
               "duration": 0,
               "redraw": true
              },
              "fromcurrent": true,
              "mode": "immediate",
              "transition": {
               "duration": 0,
               "easing": "linear"
              }
             }
            ],
            "label": "2019",
            "method": "animate"
           }
          ],
          "x": 0.1,
          "xanchor": "left",
          "y": 0,
          "yanchor": "top"
         }
        ],
        "template": {
         "data": {
          "bar": [
           {
            "error_x": {
             "color": "#2a3f5f"
            },
            "error_y": {
             "color": "#2a3f5f"
            },
            "marker": {
             "line": {
              "color": "#E5ECF6",
              "width": 0.5
             }
            },
            "type": "bar"
           }
          ],
          "barpolar": [
           {
            "marker": {
             "line": {
              "color": "#E5ECF6",
              "width": 0.5
             }
            },
            "type": "barpolar"
           }
          ],
          "carpet": [
           {
            "aaxis": {
             "endlinecolor": "#2a3f5f",
             "gridcolor": "white",
             "linecolor": "white",
             "minorgridcolor": "white",
             "startlinecolor": "#2a3f5f"
            },
            "baxis": {
             "endlinecolor": "#2a3f5f",
             "gridcolor": "white",
             "linecolor": "white",
             "minorgridcolor": "white",
             "startlinecolor": "#2a3f5f"
            },
            "type": "carpet"
           }
          ],
          "choropleth": [
           {
            "colorbar": {
             "outlinewidth": 0,
             "ticks": ""
            },
            "type": "choropleth"
           }
          ],
          "contour": [
           {
            "colorbar": {
             "outlinewidth": 0,
             "ticks": ""
            },
            "colorscale": [
             [
              0.0,
              "#0d0887"
             ],
             [
              0.1111111111111111,
              "#46039f"
             ],
             [
              0.2222222222222222,
              "#7201a8"
             ],
             [
              0.3333333333333333,
              "#9c179e"
             ],
             [
              0.4444444444444444,
              "#bd3786"
             ],
             [
              0.5555555555555556,
              "#d8576b"
             ],
             [
              0.6666666666666666,
              "#ed7953"
             ],
             [
              0.7777777777777778,
              "#fb9f3a"
             ],
             [
              0.8888888888888888,
              "#fdca26"
             ],
             [
              1.0,
              "#f0f921"
             ]
            ],
            "type": "contour"
           }
          ],
          "contourcarpet": [
           {
            "colorbar": {
             "outlinewidth": 0,
             "ticks": ""
            },
            "type": "contourcarpet"
           }
          ],
          "heatmap": [
           {
            "colorbar": {
             "outlinewidth": 0,
             "ticks": ""
            },
            "colorscale": [
             [
              0.0,
              "#0d0887"
             ],
             [
              0.1111111111111111,
              "#46039f"
             ],
             [
              0.2222222222222222,
              "#7201a8"
             ],
             [
              0.3333333333333333,
              "#9c179e"
             ],
             [
              0.4444444444444444,
              "#bd3786"
             ],
             [
              0.5555555555555556,
              "#d8576b"
             ],
             [
              0.6666666666666666,
              "#ed7953"
             ],
             [
              0.7777777777777778,
              "#fb9f3a"
             ],
             [
              0.8888888888888888,
              "#fdca26"
             ],
             [
              1.0,
              "#f0f921"
             ]
            ],
            "type": "heatmap"
           }
          ],
          "heatmapgl": [
           {
            "colorbar": {
             "outlinewidth": 0,
             "ticks": ""
            },
            "colorscale": [
             [
              0.0,
              "#0d0887"
             ],
             [
              0.1111111111111111,
              "#46039f"
             ],
             [
              0.2222222222222222,
              "#7201a8"
             ],
             [
              0.3333333333333333,
              "#9c179e"
             ],
             [
              0.4444444444444444,
              "#bd3786"
             ],
             [
              0.5555555555555556,
              "#d8576b"
             ],
             [
              0.6666666666666666,
              "#ed7953"
             ],
             [
              0.7777777777777778,
              "#fb9f3a"
             ],
             [
              0.8888888888888888,
              "#fdca26"
             ],
             [
              1.0,
              "#f0f921"
             ]
            ],
            "type": "heatmapgl"
           }
          ],
          "histogram": [
           {
            "marker": {
             "colorbar": {
              "outlinewidth": 0,
              "ticks": ""
             }
            },
            "type": "histogram"
           }
          ],
          "histogram2d": [
           {
            "colorbar": {
             "outlinewidth": 0,
             "ticks": ""
            },
            "colorscale": [
             [
              0.0,
              "#0d0887"
             ],
             [
              0.1111111111111111,
              "#46039f"
             ],
             [
              0.2222222222222222,
              "#7201a8"
             ],
             [
              0.3333333333333333,
              "#9c179e"
             ],
             [
              0.4444444444444444,
              "#bd3786"
             ],
             [
              0.5555555555555556,
              "#d8576b"
             ],
             [
              0.6666666666666666,
              "#ed7953"
             ],
             [
              0.7777777777777778,
              "#fb9f3a"
             ],
             [
              0.8888888888888888,
              "#fdca26"
             ],
             [
              1.0,
              "#f0f921"
             ]
            ],
            "type": "histogram2d"
           }
          ],
          "histogram2dcontour": [
           {
            "colorbar": {
             "outlinewidth": 0,
             "ticks": ""
            },
            "colorscale": [
             [
              0.0,
              "#0d0887"
             ],
             [
              0.1111111111111111,
              "#46039f"
             ],
             [
              0.2222222222222222,
              "#7201a8"
             ],
             [
              0.3333333333333333,
              "#9c179e"
             ],
             [
              0.4444444444444444,
              "#bd3786"
             ],
             [
              0.5555555555555556,
              "#d8576b"
             ],
             [
              0.6666666666666666,
              "#ed7953"
             ],
             [
              0.7777777777777778,
              "#fb9f3a"
             ],
             [
              0.8888888888888888,
              "#fdca26"
             ],
             [
              1.0,
              "#f0f921"
             ]
            ],
            "type": "histogram2dcontour"
           }
          ],
          "mesh3d": [
           {
            "colorbar": {
             "outlinewidth": 0,
             "ticks": ""
            },
            "type": "mesh3d"
           }
          ],
          "parcoords": [
           {
            "line": {
             "colorbar": {
              "outlinewidth": 0,
              "ticks": ""
             }
            },
            "type": "parcoords"
           }
          ],
          "pie": [
           {
            "automargin": true,
            "type": "pie"
           }
          ],
          "scatter": [
           {
            "marker": {
             "colorbar": {
              "outlinewidth": 0,
              "ticks": ""
             }
            },
            "type": "scatter"
           }
          ],
          "scatter3d": [
           {
            "line": {
             "colorbar": {
              "outlinewidth": 0,
              "ticks": ""
             }
            },
            "marker": {
             "colorbar": {
              "outlinewidth": 0,
              "ticks": ""
             }
            },
            "type": "scatter3d"
           }
          ],
          "scattercarpet": [
           {
            "marker": {
             "colorbar": {
              "outlinewidth": 0,
              "ticks": ""
             }
            },
            "type": "scattercarpet"
           }
          ],
          "scattergeo": [
           {
            "marker": {
             "colorbar": {
              "outlinewidth": 0,
              "ticks": ""
             }
            },
            "type": "scattergeo"
           }
          ],
          "scattergl": [
           {
            "marker": {
             "colorbar": {
              "outlinewidth": 0,
              "ticks": ""
             }
            },
            "type": "scattergl"
           }
          ],
          "scattermapbox": [
           {
            "marker": {
             "colorbar": {
              "outlinewidth": 0,
              "ticks": ""
             }
            },
            "type": "scattermapbox"
           }
          ],
          "scatterpolar": [
           {
            "marker": {
             "colorbar": {
              "outlinewidth": 0,
              "ticks": ""
             }
            },
            "type": "scatterpolar"
           }
          ],
          "scatterpolargl": [
           {
            "marker": {
             "colorbar": {
              "outlinewidth": 0,
              "ticks": ""
             }
            },
            "type": "scatterpolargl"
           }
          ],
          "scatterternary": [
           {
            "marker": {
             "colorbar": {
              "outlinewidth": 0,
              "ticks": ""
             }
            },
            "type": "scatterternary"
           }
          ],
          "surface": [
           {
            "colorbar": {
             "outlinewidth": 0,
             "ticks": ""
            },
            "colorscale": [
             [
              0.0,
              "#0d0887"
             ],
             [
              0.1111111111111111,
              "#46039f"
             ],
             [
              0.2222222222222222,
              "#7201a8"
             ],
             [
              0.3333333333333333,
              "#9c179e"
             ],
             [
              0.4444444444444444,
              "#bd3786"
             ],
             [
              0.5555555555555556,
              "#d8576b"
             ],
             [
              0.6666666666666666,
              "#ed7953"
             ],
             [
              0.7777777777777778,
              "#fb9f3a"
             ],
             [
              0.8888888888888888,
              "#fdca26"
             ],
             [
              1.0,
              "#f0f921"
             ]
            ],
            "type": "surface"
           }
          ],
          "table": [
           {
            "cells": {
             "fill": {
              "color": "#EBF0F8"
             },
             "line": {
              "color": "white"
             }
            },
            "header": {
             "fill": {
              "color": "#C8D4E3"
             },
             "line": {
              "color": "white"
             }
            },
            "type": "table"
           }
          ]
         },
         "layout": {
          "annotationdefaults": {
           "arrowcolor": "#2a3f5f",
           "arrowhead": 0,
           "arrowwidth": 1
          },
          "coloraxis": {
           "colorbar": {
            "outlinewidth": 0,
            "ticks": ""
           }
          },
          "colorscale": {
           "diverging": [
            [
             0,
             "#8e0152"
            ],
            [
             0.1,
             "#c51b7d"
            ],
            [
             0.2,
             "#de77ae"
            ],
            [
             0.3,
             "#f1b6da"
            ],
            [
             0.4,
             "#fde0ef"
            ],
            [
             0.5,
             "#f7f7f7"
            ],
            [
             0.6,
             "#e6f5d0"
            ],
            [
             0.7,
             "#b8e186"
            ],
            [
             0.8,
             "#7fbc41"
            ],
            [
             0.9,
             "#4d9221"
            ],
            [
             1,
             "#276419"
            ]
           ],
           "sequential": [
            [
             0.0,
             "#0d0887"
            ],
            [
             0.1111111111111111,
             "#46039f"
            ],
            [
             0.2222222222222222,
             "#7201a8"
            ],
            [
             0.3333333333333333,
             "#9c179e"
            ],
            [
             0.4444444444444444,
             "#bd3786"
            ],
            [
             0.5555555555555556,
             "#d8576b"
            ],
            [
             0.6666666666666666,
             "#ed7953"
            ],
            [
             0.7777777777777778,
             "#fb9f3a"
            ],
            [
             0.8888888888888888,
             "#fdca26"
            ],
            [
             1.0,
             "#f0f921"
            ]
           ],
           "sequentialminus": [
            [
             0.0,
             "#0d0887"
            ],
            [
             0.1111111111111111,
             "#46039f"
            ],
            [
             0.2222222222222222,
             "#7201a8"
            ],
            [
             0.3333333333333333,
             "#9c179e"
            ],
            [
             0.4444444444444444,
             "#bd3786"
            ],
            [
             0.5555555555555556,
             "#d8576b"
            ],
            [
             0.6666666666666666,
             "#ed7953"
            ],
            [
             0.7777777777777778,
             "#fb9f3a"
            ],
            [
             0.8888888888888888,
             "#fdca26"
            ],
            [
             1.0,
             "#f0f921"
            ]
           ]
          },
          "colorway": [
           "#636efa",
           "#EF553B",
           "#00cc96",
           "#ab63fa",
           "#FFA15A",
           "#19d3f3",
           "#FF6692",
           "#B6E880",
           "#FF97FF",
           "#FECB52"
          ],
          "font": {
           "color": "#2a3f5f"
          },
          "geo": {
           "bgcolor": "white",
           "lakecolor": "white",
           "landcolor": "#E5ECF6",
           "showlakes": true,
           "showland": true,
           "subunitcolor": "white"
          },
          "hoverlabel": {
           "align": "left"
          },
          "hovermode": "closest",
          "mapbox": {
           "style": "light"
          },
          "paper_bgcolor": "white",
          "plot_bgcolor": "#E5ECF6",
          "polar": {
           "angularaxis": {
            "gridcolor": "white",
            "linecolor": "white",
            "ticks": ""
           },
           "bgcolor": "#E5ECF6",
           "radialaxis": {
            "gridcolor": "white",
            "linecolor": "white",
            "ticks": ""
           }
          },
          "scene": {
           "xaxis": {
            "backgroundcolor": "#E5ECF6",
            "gridcolor": "white",
            "gridwidth": 2,
            "linecolor": "white",
            "showbackground": true,
            "ticks": "",
            "zerolinecolor": "white"
           },
           "yaxis": {
            "backgroundcolor": "#E5ECF6",
            "gridcolor": "white",
            "gridwidth": 2,
            "linecolor": "white",
            "showbackground": true,
            "ticks": "",
            "zerolinecolor": "white"
           },
           "zaxis": {
            "backgroundcolor": "#E5ECF6",
            "gridcolor": "white",
            "gridwidth": 2,
            "linecolor": "white",
            "showbackground": true,
            "ticks": "",
            "zerolinecolor": "white"
           }
          },
          "shapedefaults": {
           "line": {
            "color": "#2a3f5f"
           }
          },
          "ternary": {
           "aaxis": {
            "gridcolor": "white",
            "linecolor": "white",
            "ticks": ""
           },
           "baxis": {
            "gridcolor": "white",
            "linecolor": "white",
            "ticks": ""
           },
           "bgcolor": "#E5ECF6",
           "caxis": {
            "gridcolor": "white",
            "linecolor": "white",
            "ticks": ""
           }
          },
          "title": {
           "x": 0.05
          },
          "xaxis": {
           "automargin": true,
           "gridcolor": "white",
           "linecolor": "white",
           "ticks": "",
           "title": {
            "standoff": 15
           },
           "zerolinecolor": "white",
           "zerolinewidth": 2
          },
          "yaxis": {
           "automargin": true,
           "gridcolor": "white",
           "linecolor": "white",
           "ticks": "",
           "title": {
            "standoff": 15
           },
           "zerolinecolor": "white",
           "zerolinewidth": 2
          }
         }
        },
        "title": {
         "text": "Surface evolution/county 1990-2019 - Softwood"
        },
        "updatemenus": [
         {
          "buttons": [
           {
            "args": [
             null,
             {
              "frame": {
               "duration": 500,
               "redraw": true
              },
              "fromcurrent": true,
              "mode": "immediate",
              "transition": {
               "duration": 500,
               "easing": "linear"
              }
             }
            ],
            "label": "&#9654;",
            "method": "animate"
           },
           {
            "args": [
             [
              null
             ],
             {
              "frame": {
               "duration": 0,
               "redraw": true
              },
              "fromcurrent": true,
              "mode": "immediate",
              "transition": {
               "duration": 0,
               "easing": "linear"
              }
             }
            ],
            "label": "&#9724;",
            "method": "animate"
           }
          ],
          "direction": "left",
          "pad": {
           "r": 10,
           "t": 70
          },
          "showactive": false,
          "type": "buttons",
          "x": 0.1,
          "xanchor": "right",
          "y": 0,
          "yanchor": "top"
         }
        ],
        "width": 600,
        "xaxis": {
         "anchor": "y",
         "domain": [
          0.0,
          1.0
         ],
         "range": [
          0.1,
          334.1
         ],
         "title": {
          "text": "Value"
         }
        },
        "yaxis": {
         "anchor": "x",
         "domain": [
          0.0,
          1.0
         ],
         "title": {
          "text": "Region"
         }
        }
       }
      },
      "text/html": [
       "<div>                            <div id=\"4e1a51de-d2a4-485d-a04d-bc889a788f40\" class=\"plotly-graph-div\" style=\"height:800px; width:600px;\"></div>            <script type=\"text/javascript\">                require([\"plotly\"], function(Plotly) {                    window.PLOTLYENV=window.PLOTLYENV || {};                                    if (document.getElementById(\"4e1a51de-d2a4-485d-a04d-bc889a788f40\")) {                    Plotly.newPlot(                        \"4e1a51de-d2a4-485d-a04d-bc889a788f40\",                        [{\"alignmentgroup\": \"True\", \"hovertemplate\": \"Year=1990<br>Value=%{x}<br>Region=%{y}<extra></extra>\", \"legendgroup\": \"\", \"marker\": {\"color\": \"#636efa\"}, \"name\": \"\", \"offsetgroup\": \"\", \"orientation\": \"h\", \"showlegend\": false, \"textposition\": \"auto\", \"type\": \"bar\", \"x\": [34.2, 89.5, 58.6, 100.2, 3.9, 6.6, 69.3, 65.7, 64.8, 169.3, 79.7, 69.7, 96.1, 1.2, 3.9, 145.3, 334.1, 0.9, 46.8, 5.2, 0.2, 1.8, 57.3, 79.7, 0.1, 15.3, 0.4, 0.1, 33.6, 0.3, 0.1, 1.1, 31.1, 9.1, 0.4, 82.0, 17.7, 60.1, 86.8, 6.6], \"xaxis\": \"x\", \"y\": [\"Bihor\", \"Bistrita-Nasaud\", \"Cluj\", \"Maramures\", \"Satu Mare\", \"Salaj\", \"Alba\", \"Brasov\", \"Covasna\", \"Harghita\", \"Mures\", \"Sibiu\", \"Bacau\", \"Botosani\", \"Iasi\", \"Neamt\", \"Suceava\", \"Vaslui\", \"Buzau\", \"Constanta\", \"Galati\", \"Tulcea\", \"Vrancea\", \"Arges\", \"Calarasi\", \"Dambovita\", \"Giurgiu\", \"Ialomita\", \"Prahova\", \"Teleorman\", \"Ilfov\", \"Dolj\", \"Gorj\", \"Mehedinti\", \"Olt\", \"Valcea\", \"Arad\", \"Caras-Severin\", \"Hunedoara\", \"Timis\"], \"yaxis\": \"y\"}],                        {\"barmode\": \"relative\", \"font\": {\"color\": \"#7f7f7f\", \"family\": \"Courier New, monospace\", \"size\": 10}, \"height\": 800, \"legend\": {\"tracegroupgap\": 0}, \"sliders\": [{\"active\": 0, \"currentvalue\": {\"prefix\": \"Year=\"}, \"len\": 0.9, \"pad\": {\"b\": 10, \"t\": 60}, \"steps\": [{\"args\": [[\"1990\"], {\"frame\": {\"duration\": 0, \"redraw\": true}, \"fromcurrent\": true, \"mode\": \"immediate\", \"transition\": {\"duration\": 0, \"easing\": \"linear\"}}], \"label\": \"1990\", \"method\": \"animate\"}, {\"args\": [[\"1991\"], {\"frame\": {\"duration\": 0, \"redraw\": true}, \"fromcurrent\": true, \"mode\": \"immediate\", \"transition\": {\"duration\": 0, \"easing\": \"linear\"}}], \"label\": \"1991\", \"method\": \"animate\"}, {\"args\": [[\"1992\"], {\"frame\": {\"duration\": 0, \"redraw\": true}, \"fromcurrent\": true, \"mode\": \"immediate\", \"transition\": {\"duration\": 0, \"easing\": \"linear\"}}], \"label\": \"1992\", \"method\": \"animate\"}, {\"args\": [[\"1993\"], {\"frame\": {\"duration\": 0, \"redraw\": true}, \"fromcurrent\": true, \"mode\": \"immediate\", \"transition\": {\"duration\": 0, \"easing\": \"linear\"}}], \"label\": \"1993\", \"method\": \"animate\"}, {\"args\": [[\"1994\"], {\"frame\": {\"duration\": 0, \"redraw\": true}, \"fromcurrent\": true, \"mode\": \"immediate\", \"transition\": {\"duration\": 0, \"easing\": \"linear\"}}], \"label\": \"1994\", \"method\": \"animate\"}, {\"args\": [[\"1995\"], {\"frame\": {\"duration\": 0, \"redraw\": true}, \"fromcurrent\": true, \"mode\": \"immediate\", \"transition\": {\"duration\": 0, \"easing\": \"linear\"}}], \"label\": \"1995\", \"method\": \"animate\"}, {\"args\": [[\"1996\"], {\"frame\": {\"duration\": 0, \"redraw\": true}, \"fromcurrent\": true, \"mode\": \"immediate\", \"transition\": {\"duration\": 0, \"easing\": \"linear\"}}], \"label\": \"1996\", \"method\": \"animate\"}, {\"args\": [[\"1997\"], {\"frame\": {\"duration\": 0, \"redraw\": true}, \"fromcurrent\": true, \"mode\": \"immediate\", \"transition\": {\"duration\": 0, \"easing\": \"linear\"}}], \"label\": \"1997\", \"method\": \"animate\"}, {\"args\": [[\"1998\"], {\"frame\": {\"duration\": 0, \"redraw\": true}, \"fromcurrent\": true, \"mode\": \"immediate\", \"transition\": {\"duration\": 0, \"easing\": \"linear\"}}], \"label\": \"1998\", \"method\": \"animate\"}, {\"args\": [[\"1999\"], {\"frame\": {\"duration\": 0, \"redraw\": true}, \"fromcurrent\": true, \"mode\": \"immediate\", \"transition\": {\"duration\": 0, \"easing\": \"linear\"}}], \"label\": \"1999\", \"method\": \"animate\"}, {\"args\": [[\"2000\"], {\"frame\": {\"duration\": 0, \"redraw\": true}, \"fromcurrent\": true, \"mode\": \"immediate\", \"transition\": {\"duration\": 0, \"easing\": \"linear\"}}], \"label\": \"2000\", \"method\": \"animate\"}, {\"args\": [[\"2001\"], {\"frame\": {\"duration\": 0, \"redraw\": true}, \"fromcurrent\": true, \"mode\": \"immediate\", \"transition\": {\"duration\": 0, \"easing\": \"linear\"}}], \"label\": \"2001\", \"method\": \"animate\"}, {\"args\": [[\"2002\"], {\"frame\": {\"duration\": 0, \"redraw\": true}, \"fromcurrent\": true, \"mode\": \"immediate\", \"transition\": {\"duration\": 0, \"easing\": \"linear\"}}], \"label\": \"2002\", \"method\": \"animate\"}, {\"args\": [[\"2003\"], {\"frame\": {\"duration\": 0, \"redraw\": true}, \"fromcurrent\": true, \"mode\": \"immediate\", \"transition\": {\"duration\": 0, \"easing\": \"linear\"}}], \"label\": \"2003\", \"method\": \"animate\"}, {\"args\": [[\"2004\"], {\"frame\": {\"duration\": 0, \"redraw\": true}, \"fromcurrent\": true, \"mode\": \"immediate\", \"transition\": {\"duration\": 0, \"easing\": \"linear\"}}], \"label\": \"2004\", \"method\": \"animate\"}, {\"args\": [[\"2005\"], {\"frame\": {\"duration\": 0, \"redraw\": true}, \"fromcurrent\": true, \"mode\": \"immediate\", \"transition\": {\"duration\": 0, \"easing\": \"linear\"}}], \"label\": \"2005\", \"method\": \"animate\"}, {\"args\": [[\"2006\"], {\"frame\": {\"duration\": 0, \"redraw\": true}, \"fromcurrent\": true, \"mode\": \"immediate\", \"transition\": {\"duration\": 0, \"easing\": \"linear\"}}], \"label\": \"2006\", \"method\": \"animate\"}, {\"args\": [[\"2007\"], {\"frame\": {\"duration\": 0, \"redraw\": true}, \"fromcurrent\": true, \"mode\": \"immediate\", \"transition\": {\"duration\": 0, \"easing\": \"linear\"}}], \"label\": \"2007\", \"method\": \"animate\"}, {\"args\": [[\"2008\"], {\"frame\": {\"duration\": 0, \"redraw\": true}, \"fromcurrent\": true, \"mode\": \"immediate\", \"transition\": {\"duration\": 0, \"easing\": \"linear\"}}], \"label\": \"2008\", \"method\": \"animate\"}, {\"args\": [[\"2009\"], {\"frame\": {\"duration\": 0, \"redraw\": true}, \"fromcurrent\": true, \"mode\": \"immediate\", \"transition\": {\"duration\": 0, \"easing\": \"linear\"}}], \"label\": \"2009\", \"method\": \"animate\"}, {\"args\": [[\"2010\"], {\"frame\": {\"duration\": 0, \"redraw\": true}, \"fromcurrent\": true, \"mode\": \"immediate\", \"transition\": {\"duration\": 0, \"easing\": \"linear\"}}], \"label\": \"2010\", \"method\": \"animate\"}, {\"args\": [[\"2011\"], {\"frame\": {\"duration\": 0, \"redraw\": true}, \"fromcurrent\": true, \"mode\": \"immediate\", \"transition\": {\"duration\": 0, \"easing\": \"linear\"}}], \"label\": \"2011\", \"method\": \"animate\"}, {\"args\": [[\"2012\"], {\"frame\": {\"duration\": 0, \"redraw\": true}, \"fromcurrent\": true, \"mode\": \"immediate\", \"transition\": {\"duration\": 0, \"easing\": \"linear\"}}], \"label\": \"2012\", \"method\": \"animate\"}, {\"args\": [[\"2013\"], {\"frame\": {\"duration\": 0, \"redraw\": true}, \"fromcurrent\": true, \"mode\": \"immediate\", \"transition\": {\"duration\": 0, \"easing\": \"linear\"}}], \"label\": \"2013\", \"method\": \"animate\"}, {\"args\": [[\"2014\"], {\"frame\": {\"duration\": 0, \"redraw\": true}, \"fromcurrent\": true, \"mode\": \"immediate\", \"transition\": {\"duration\": 0, \"easing\": \"linear\"}}], \"label\": \"2014\", \"method\": \"animate\"}, {\"args\": [[\"2015\"], {\"frame\": {\"duration\": 0, \"redraw\": true}, \"fromcurrent\": true, \"mode\": \"immediate\", \"transition\": {\"duration\": 0, \"easing\": \"linear\"}}], \"label\": \"2015\", \"method\": \"animate\"}, {\"args\": [[\"2016\"], {\"frame\": {\"duration\": 0, \"redraw\": true}, \"fromcurrent\": true, \"mode\": \"immediate\", \"transition\": {\"duration\": 0, \"easing\": \"linear\"}}], \"label\": \"2016\", \"method\": \"animate\"}, {\"args\": [[\"2017\"], {\"frame\": {\"duration\": 0, \"redraw\": true}, \"fromcurrent\": true, \"mode\": \"immediate\", \"transition\": {\"duration\": 0, \"easing\": \"linear\"}}], \"label\": \"2017\", \"method\": \"animate\"}, {\"args\": [[\"2018\"], {\"frame\": {\"duration\": 0, \"redraw\": true}, \"fromcurrent\": true, \"mode\": \"immediate\", \"transition\": {\"duration\": 0, \"easing\": \"linear\"}}], \"label\": \"2018\", \"method\": \"animate\"}, {\"args\": [[\"2019\"], {\"frame\": {\"duration\": 0, \"redraw\": true}, \"fromcurrent\": true, \"mode\": \"immediate\", \"transition\": {\"duration\": 0, \"easing\": \"linear\"}}], \"label\": \"2019\", \"method\": \"animate\"}], \"x\": 0.1, \"xanchor\": \"left\", \"y\": 0, \"yanchor\": \"top\"}], \"template\": {\"data\": {\"bar\": [{\"error_x\": {\"color\": \"#2a3f5f\"}, \"error_y\": {\"color\": \"#2a3f5f\"}, \"marker\": {\"line\": {\"color\": \"#E5ECF6\", \"width\": 0.5}}, \"type\": \"bar\"}], \"barpolar\": [{\"marker\": {\"line\": {\"color\": \"#E5ECF6\", \"width\": 0.5}}, \"type\": \"barpolar\"}], \"carpet\": [{\"aaxis\": {\"endlinecolor\": \"#2a3f5f\", \"gridcolor\": \"white\", \"linecolor\": \"white\", \"minorgridcolor\": \"white\", \"startlinecolor\": \"#2a3f5f\"}, \"baxis\": {\"endlinecolor\": \"#2a3f5f\", \"gridcolor\": \"white\", \"linecolor\": \"white\", \"minorgridcolor\": \"white\", \"startlinecolor\": \"#2a3f5f\"}, \"type\": \"carpet\"}], \"choropleth\": [{\"colorbar\": {\"outlinewidth\": 0, \"ticks\": \"\"}, \"type\": \"choropleth\"}], \"contour\": [{\"colorbar\": {\"outlinewidth\": 0, \"ticks\": \"\"}, \"colorscale\": [[0.0, \"#0d0887\"], [0.1111111111111111, \"#46039f\"], [0.2222222222222222, \"#7201a8\"], [0.3333333333333333, \"#9c179e\"], [0.4444444444444444, \"#bd3786\"], [0.5555555555555556, \"#d8576b\"], [0.6666666666666666, \"#ed7953\"], [0.7777777777777778, \"#fb9f3a\"], [0.8888888888888888, \"#fdca26\"], [1.0, \"#f0f921\"]], \"type\": \"contour\"}], \"contourcarpet\": [{\"colorbar\": {\"outlinewidth\": 0, \"ticks\": \"\"}, \"type\": \"contourcarpet\"}], \"heatmap\": [{\"colorbar\": {\"outlinewidth\": 0, \"ticks\": \"\"}, \"colorscale\": [[0.0, \"#0d0887\"], [0.1111111111111111, \"#46039f\"], [0.2222222222222222, \"#7201a8\"], [0.3333333333333333, \"#9c179e\"], [0.4444444444444444, \"#bd3786\"], [0.5555555555555556, \"#d8576b\"], [0.6666666666666666, \"#ed7953\"], [0.7777777777777778, \"#fb9f3a\"], [0.8888888888888888, \"#fdca26\"], [1.0, \"#f0f921\"]], \"type\": \"heatmap\"}], \"heatmapgl\": [{\"colorbar\": {\"outlinewidth\": 0, \"ticks\": \"\"}, \"colorscale\": [[0.0, \"#0d0887\"], [0.1111111111111111, \"#46039f\"], [0.2222222222222222, \"#7201a8\"], [0.3333333333333333, \"#9c179e\"], [0.4444444444444444, \"#bd3786\"], [0.5555555555555556, \"#d8576b\"], [0.6666666666666666, \"#ed7953\"], [0.7777777777777778, \"#fb9f3a\"], [0.8888888888888888, \"#fdca26\"], [1.0, \"#f0f921\"]], \"type\": \"heatmapgl\"}], \"histogram\": [{\"marker\": {\"colorbar\": {\"outlinewidth\": 0, \"ticks\": \"\"}}, \"type\": \"histogram\"}], \"histogram2d\": [{\"colorbar\": {\"outlinewidth\": 0, \"ticks\": \"\"}, \"colorscale\": [[0.0, \"#0d0887\"], [0.1111111111111111, \"#46039f\"], [0.2222222222222222, \"#7201a8\"], [0.3333333333333333, \"#9c179e\"], [0.4444444444444444, \"#bd3786\"], [0.5555555555555556, \"#d8576b\"], [0.6666666666666666, \"#ed7953\"], [0.7777777777777778, \"#fb9f3a\"], [0.8888888888888888, \"#fdca26\"], [1.0, \"#f0f921\"]], \"type\": \"histogram2d\"}], \"histogram2dcontour\": [{\"colorbar\": {\"outlinewidth\": 0, \"ticks\": \"\"}, \"colorscale\": [[0.0, \"#0d0887\"], [0.1111111111111111, \"#46039f\"], [0.2222222222222222, \"#7201a8\"], [0.3333333333333333, \"#9c179e\"], [0.4444444444444444, \"#bd3786\"], [0.5555555555555556, \"#d8576b\"], [0.6666666666666666, \"#ed7953\"], [0.7777777777777778, \"#fb9f3a\"], [0.8888888888888888, \"#fdca26\"], [1.0, \"#f0f921\"]], \"type\": \"histogram2dcontour\"}], \"mesh3d\": [{\"colorbar\": {\"outlinewidth\": 0, \"ticks\": \"\"}, \"type\": \"mesh3d\"}], \"parcoords\": [{\"line\": {\"colorbar\": {\"outlinewidth\": 0, \"ticks\": \"\"}}, \"type\": \"parcoords\"}], \"pie\": [{\"automargin\": true, \"type\": \"pie\"}], \"scatter\": [{\"marker\": {\"colorbar\": {\"outlinewidth\": 0, \"ticks\": \"\"}}, \"type\": \"scatter\"}], \"scatter3d\": [{\"line\": {\"colorbar\": {\"outlinewidth\": 0, \"ticks\": \"\"}}, \"marker\": {\"colorbar\": {\"outlinewidth\": 0, \"ticks\": \"\"}}, \"type\": \"scatter3d\"}], \"scattercarpet\": [{\"marker\": {\"colorbar\": {\"outlinewidth\": 0, \"ticks\": \"\"}}, \"type\": \"scattercarpet\"}], \"scattergeo\": [{\"marker\": {\"colorbar\": {\"outlinewidth\": 0, \"ticks\": \"\"}}, \"type\": \"scattergeo\"}], \"scattergl\": [{\"marker\": {\"colorbar\": {\"outlinewidth\": 0, \"ticks\": \"\"}}, \"type\": \"scattergl\"}], \"scattermapbox\": [{\"marker\": {\"colorbar\": {\"outlinewidth\": 0, \"ticks\": \"\"}}, \"type\": \"scattermapbox\"}], \"scatterpolar\": [{\"marker\": {\"colorbar\": {\"outlinewidth\": 0, \"ticks\": \"\"}}, \"type\": \"scatterpolar\"}], \"scatterpolargl\": [{\"marker\": {\"colorbar\": {\"outlinewidth\": 0, \"ticks\": \"\"}}, \"type\": \"scatterpolargl\"}], \"scatterternary\": [{\"marker\": {\"colorbar\": {\"outlinewidth\": 0, \"ticks\": \"\"}}, \"type\": \"scatterternary\"}], \"surface\": [{\"colorbar\": {\"outlinewidth\": 0, \"ticks\": \"\"}, \"colorscale\": [[0.0, \"#0d0887\"], [0.1111111111111111, \"#46039f\"], [0.2222222222222222, \"#7201a8\"], [0.3333333333333333, \"#9c179e\"], [0.4444444444444444, \"#bd3786\"], [0.5555555555555556, \"#d8576b\"], [0.6666666666666666, \"#ed7953\"], [0.7777777777777778, \"#fb9f3a\"], [0.8888888888888888, \"#fdca26\"], [1.0, \"#f0f921\"]], \"type\": \"surface\"}], \"table\": [{\"cells\": {\"fill\": {\"color\": \"#EBF0F8\"}, \"line\": {\"color\": \"white\"}}, \"header\": {\"fill\": {\"color\": \"#C8D4E3\"}, \"line\": {\"color\": \"white\"}}, \"type\": \"table\"}]}, \"layout\": {\"annotationdefaults\": {\"arrowcolor\": \"#2a3f5f\", \"arrowhead\": 0, \"arrowwidth\": 1}, \"coloraxis\": {\"colorbar\": {\"outlinewidth\": 0, \"ticks\": \"\"}}, \"colorscale\": {\"diverging\": [[0, \"#8e0152\"], [0.1, \"#c51b7d\"], [0.2, \"#de77ae\"], [0.3, \"#f1b6da\"], [0.4, \"#fde0ef\"], [0.5, \"#f7f7f7\"], [0.6, \"#e6f5d0\"], [0.7, \"#b8e186\"], [0.8, \"#7fbc41\"], [0.9, \"#4d9221\"], [1, \"#276419\"]], \"sequential\": [[0.0, \"#0d0887\"], [0.1111111111111111, \"#46039f\"], [0.2222222222222222, \"#7201a8\"], [0.3333333333333333, \"#9c179e\"], [0.4444444444444444, \"#bd3786\"], [0.5555555555555556, \"#d8576b\"], [0.6666666666666666, \"#ed7953\"], [0.7777777777777778, \"#fb9f3a\"], [0.8888888888888888, \"#fdca26\"], [1.0, \"#f0f921\"]], \"sequentialminus\": [[0.0, \"#0d0887\"], [0.1111111111111111, \"#46039f\"], [0.2222222222222222, \"#7201a8\"], [0.3333333333333333, \"#9c179e\"], [0.4444444444444444, \"#bd3786\"], [0.5555555555555556, \"#d8576b\"], [0.6666666666666666, \"#ed7953\"], [0.7777777777777778, \"#fb9f3a\"], [0.8888888888888888, \"#fdca26\"], [1.0, \"#f0f921\"]]}, \"colorway\": [\"#636efa\", \"#EF553B\", \"#00cc96\", \"#ab63fa\", \"#FFA15A\", \"#19d3f3\", \"#FF6692\", \"#B6E880\", \"#FF97FF\", \"#FECB52\"], \"font\": {\"color\": \"#2a3f5f\"}, \"geo\": {\"bgcolor\": \"white\", \"lakecolor\": \"white\", \"landcolor\": \"#E5ECF6\", \"showlakes\": true, \"showland\": true, \"subunitcolor\": \"white\"}, \"hoverlabel\": {\"align\": \"left\"}, \"hovermode\": \"closest\", \"mapbox\": {\"style\": \"light\"}, \"paper_bgcolor\": \"white\", \"plot_bgcolor\": \"#E5ECF6\", \"polar\": {\"angularaxis\": {\"gridcolor\": \"white\", \"linecolor\": \"white\", \"ticks\": \"\"}, \"bgcolor\": \"#E5ECF6\", \"radialaxis\": {\"gridcolor\": \"white\", \"linecolor\": \"white\", \"ticks\": \"\"}}, \"scene\": {\"xaxis\": {\"backgroundcolor\": \"#E5ECF6\", \"gridcolor\": \"white\", \"gridwidth\": 2, \"linecolor\": \"white\", \"showbackground\": true, \"ticks\": \"\", \"zerolinecolor\": \"white\"}, \"yaxis\": {\"backgroundcolor\": \"#E5ECF6\", \"gridcolor\": \"white\", \"gridwidth\": 2, \"linecolor\": \"white\", \"showbackground\": true, \"ticks\": \"\", \"zerolinecolor\": \"white\"}, \"zaxis\": {\"backgroundcolor\": \"#E5ECF6\", \"gridcolor\": \"white\", \"gridwidth\": 2, \"linecolor\": \"white\", \"showbackground\": true, \"ticks\": \"\", \"zerolinecolor\": \"white\"}}, \"shapedefaults\": {\"line\": {\"color\": \"#2a3f5f\"}}, \"ternary\": {\"aaxis\": {\"gridcolor\": \"white\", \"linecolor\": \"white\", \"ticks\": \"\"}, \"baxis\": {\"gridcolor\": \"white\", \"linecolor\": \"white\", \"ticks\": \"\"}, \"bgcolor\": \"#E5ECF6\", \"caxis\": {\"gridcolor\": \"white\", \"linecolor\": \"white\", \"ticks\": \"\"}}, \"title\": {\"x\": 0.05}, \"xaxis\": {\"automargin\": true, \"gridcolor\": \"white\", \"linecolor\": \"white\", \"ticks\": \"\", \"title\": {\"standoff\": 15}, \"zerolinecolor\": \"white\", \"zerolinewidth\": 2}, \"yaxis\": {\"automargin\": true, \"gridcolor\": \"white\", \"linecolor\": \"white\", \"ticks\": \"\", \"title\": {\"standoff\": 15}, \"zerolinecolor\": \"white\", \"zerolinewidth\": 2}}}, \"title\": {\"text\": \"Surface evolution/county 1990-2019 - Softwood\"}, \"updatemenus\": [{\"buttons\": [{\"args\": [null, {\"frame\": {\"duration\": 500, \"redraw\": true}, \"fromcurrent\": true, \"mode\": \"immediate\", \"transition\": {\"duration\": 500, \"easing\": \"linear\"}}], \"label\": \"&#9654;\", \"method\": \"animate\"}, {\"args\": [[null], {\"frame\": {\"duration\": 0, \"redraw\": true}, \"fromcurrent\": true, \"mode\": \"immediate\", \"transition\": {\"duration\": 0, \"easing\": \"linear\"}}], \"label\": \"&#9724;\", \"method\": \"animate\"}], \"direction\": \"left\", \"pad\": {\"r\": 10, \"t\": 70}, \"showactive\": false, \"type\": \"buttons\", \"x\": 0.1, \"xanchor\": \"right\", \"y\": 0, \"yanchor\": \"top\"}], \"width\": 600, \"xaxis\": {\"anchor\": \"y\", \"domain\": [0.0, 1.0], \"range\": [0.1, 334.1], \"title\": {\"text\": \"Value\"}}, \"yaxis\": {\"anchor\": \"x\", \"domain\": [0.0, 1.0], \"title\": {\"text\": \"Region\"}}},                        {\"responsive\": true}                    ).then(function(){\n",
       "                            Plotly.addFrames('4e1a51de-d2a4-485d-a04d-bc889a788f40', [{\"data\": [{\"alignmentgroup\": \"True\", \"hovertemplate\": \"Year=1990<br>Value=%{x}<br>Region=%{y}<extra></extra>\", \"legendgroup\": \"\", \"marker\": {\"color\": \"#636efa\"}, \"name\": \"\", \"offsetgroup\": \"\", \"orientation\": \"h\", \"showlegend\": false, \"textposition\": \"auto\", \"x\": [34.2, 89.5, 58.6, 100.2, 3.9, 6.6, 69.3, 65.7, 64.8, 169.3, 79.7, 69.7, 96.1, 1.2, 3.9, 145.3, 334.1, 0.9, 46.8, 5.2, 0.2, 1.8, 57.3, 79.7, 0.1, 15.3, 0.4, 0.1, 33.6, 0.3, 0.1, 1.1, 31.1, 9.1, 0.4, 82.0, 17.7, 60.1, 86.8, 6.6], \"xaxis\": \"x\", \"y\": [\"Bihor\", \"Bistrita-Nasaud\", \"Cluj\", \"Maramures\", \"Satu Mare\", \"Salaj\", \"Alba\", \"Brasov\", \"Covasna\", \"Harghita\", \"Mures\", \"Sibiu\", \"Bacau\", \"Botosani\", \"Iasi\", \"Neamt\", \"Suceava\", \"Vaslui\", \"Buzau\", \"Constanta\", \"Galati\", \"Tulcea\", \"Vrancea\", \"Arges\", \"Calarasi\", \"Dambovita\", \"Giurgiu\", \"Ialomita\", \"Prahova\", \"Teleorman\", \"Ilfov\", \"Dolj\", \"Gorj\", \"Mehedinti\", \"Olt\", \"Valcea\", \"Arad\", \"Caras-Severin\", \"Hunedoara\", \"Timis\"], \"yaxis\": \"y\", \"type\": \"bar\"}], \"name\": \"1990\"}, {\"data\": [{\"alignmentgroup\": \"True\", \"hovertemplate\": \"Year=1991<br>Value=%{x}<br>Region=%{y}<extra></extra>\", \"legendgroup\": \"\", \"marker\": {\"color\": \"#636efa\"}, \"name\": \"\", \"offsetgroup\": \"\", \"orientation\": \"h\", \"showlegend\": false, \"textposition\": \"auto\", \"x\": [34.1, 89.8, 58.3, 100.5, 3.9, 6.1, 69.7, 65.8, 64.9, 169.6, 79.3, 69.8, 96.0, 1.2, 3.9, 144.8, 334.0, 0.9, 46.8, 4.6, 0.2, 1.8, 57.5, 79.8, 0.1, 15.4, 0.4, 0.1, 33.7, 0.3, 0.1, 1.1, 31.3, 9.1, 0.4, 82.7, 17.8, 60.5, 87.0, 6.6], \"xaxis\": \"x\", \"y\": [\"Bihor\", \"Bistrita-Nasaud\", \"Cluj\", \"Maramures\", \"Satu Mare\", \"Salaj\", \"Alba\", \"Brasov\", \"Covasna\", \"Harghita\", \"Mures\", \"Sibiu\", \"Bacau\", \"Botosani\", \"Iasi\", \"Neamt\", \"Suceava\", \"Vaslui\", \"Buzau\", \"Constanta\", \"Galati\", \"Tulcea\", \"Vrancea\", \"Arges\", \"Calarasi\", \"Dambovita\", \"Giurgiu\", \"Ialomita\", \"Prahova\", \"Teleorman\", \"Ilfov\", \"Dolj\", \"Gorj\", \"Mehedinti\", \"Olt\", \"Valcea\", \"Arad\", \"Caras-Severin\", \"Hunedoara\", \"Timis\"], \"yaxis\": \"y\", \"type\": \"bar\"}], \"name\": \"1991\"}, {\"data\": [{\"alignmentgroup\": \"True\", \"hovertemplate\": \"Year=1992<br>Value=%{x}<br>Region=%{y}<extra></extra>\", \"legendgroup\": \"\", \"marker\": {\"color\": \"#636efa\"}, \"name\": \"\", \"offsetgroup\": \"\", \"orientation\": \"h\", \"showlegend\": false, \"textposition\": \"auto\", \"x\": [34.1, 89.9, 57.7, 100.0, 3.9, 6.0, 69.7, 65.4, 65.4, 169.3, 79.2, 69.6, 104.3, 1.2, 3.9, 137.4, 333.9, 0.7, 45.9, 4.5, 0.2, 1.8, 57.7, 79.8, 0.1, 15.4, 0.4, 0.1, 33.7, 0.3, 0.1, 1.0, 30.1, 8.8, 0.4, 82.6, 17.7, 60.3, 86.8, 6.6], \"xaxis\": \"x\", \"y\": [\"Bihor\", \"Bistrita-Nasaud\", \"Cluj\", \"Maramures\", \"Satu Mare\", \"Salaj\", \"Alba\", \"Brasov\", \"Covasna\", \"Harghita\", \"Mures\", \"Sibiu\", \"Bacau\", \"Botosani\", \"Iasi\", \"Neamt\", \"Suceava\", \"Vaslui\", \"Buzau\", \"Constanta\", \"Galati\", \"Tulcea\", \"Vrancea\", \"Arges\", \"Calarasi\", \"Dambovita\", \"Giurgiu\", \"Ialomita\", \"Prahova\", \"Teleorman\", \"Ilfov\", \"Dolj\", \"Gorj\", \"Mehedinti\", \"Olt\", \"Valcea\", \"Arad\", \"Caras-Severin\", \"Hunedoara\", \"Timis\"], \"yaxis\": \"y\", \"type\": \"bar\"}], \"name\": \"1992\"}, {\"data\": [{\"alignmentgroup\": \"True\", \"hovertemplate\": \"Year=1993<br>Value=%{x}<br>Region=%{y}<extra></extra>\", \"legendgroup\": \"\", \"marker\": {\"color\": \"#636efa\"}, \"name\": \"\", \"offsetgroup\": \"\", \"orientation\": \"h\", \"showlegend\": false, \"textposition\": \"auto\", \"x\": [32.9, 89.7, 57.7, 99.8, 3.9, 6.0, 69.7, 64.9, 64.8, 169.7, 78.8, 69.5, 96.3, 1.2, 3.9, 145.5, 333.8, 0.6, 46.3, 4.6, 0.2, 1.6, 58.7, 79.9, 0.1, 15.4, 0.3, 33.3, 0.3, 0.1, 1.1, 27.9, 8.4, 0.3, 80.9, 19.2, 58.4, 83.5, 6.6], \"xaxis\": \"x\", \"y\": [\"Bihor\", \"Bistrita-Nasaud\", \"Cluj\", \"Maramures\", \"Satu Mare\", \"Salaj\", \"Alba\", \"Brasov\", \"Covasna\", \"Harghita\", \"Mures\", \"Sibiu\", \"Bacau\", \"Botosani\", \"Iasi\", \"Neamt\", \"Suceava\", \"Vaslui\", \"Buzau\", \"Constanta\", \"Galati\", \"Tulcea\", \"Vrancea\", \"Arges\", \"Calarasi\", \"Dambovita\", \"Giurgiu\", \"Prahova\", \"Teleorman\", \"Ilfov\", \"Dolj\", \"Gorj\", \"Mehedinti\", \"Olt\", \"Valcea\", \"Arad\", \"Caras-Severin\", \"Hunedoara\", \"Timis\"], \"yaxis\": \"y\", \"type\": \"bar\"}], \"name\": \"1993\"}, {\"data\": [{\"alignmentgroup\": \"True\", \"hovertemplate\": \"Year=1994<br>Value=%{x}<br>Region=%{y}<extra></extra>\", \"legendgroup\": \"\", \"marker\": {\"color\": \"#636efa\"}, \"name\": \"\", \"offsetgroup\": \"\", \"orientation\": \"h\", \"showlegend\": false, \"textposition\": \"auto\", \"x\": [33.3, 89.2, 58.4, 100.0, 3.8, 6.0, 69.4, 65.2, 65.0, 170.3, 78.5, 69.5, 96.5, 1.2, 3.6, 145.1, 334.0, 0.6, 46.0, 4.6, 0.2, 1.6, 58.1, 79.3, 0.1, 15.4, 0.3, 33.2, 0.3, 0.1, 1.1, 26.6, 8.4, 0.3, 81.6, 17.9, 58.6, 83.7, 6.1], \"xaxis\": \"x\", \"y\": [\"Bihor\", \"Bistrita-Nasaud\", \"Cluj\", \"Maramures\", \"Satu Mare\", \"Salaj\", \"Alba\", \"Brasov\", \"Covasna\", \"Harghita\", \"Mures\", \"Sibiu\", \"Bacau\", \"Botosani\", \"Iasi\", \"Neamt\", \"Suceava\", \"Vaslui\", \"Buzau\", \"Constanta\", \"Galati\", \"Tulcea\", \"Vrancea\", \"Arges\", \"Calarasi\", \"Dambovita\", \"Giurgiu\", \"Prahova\", \"Teleorman\", \"Ilfov\", \"Dolj\", \"Gorj\", \"Mehedinti\", \"Olt\", \"Valcea\", \"Arad\", \"Caras-Severin\", \"Hunedoara\", \"Timis\"], \"yaxis\": \"y\", \"type\": \"bar\"}], \"name\": \"1994\"}, {\"data\": [{\"alignmentgroup\": \"True\", \"hovertemplate\": \"Year=1995<br>Value=%{x}<br>Region=%{y}<extra></extra>\", \"legendgroup\": \"\", \"marker\": {\"color\": \"#636efa\"}, \"name\": \"\", \"offsetgroup\": \"\", \"orientation\": \"h\", \"showlegend\": false, \"textposition\": \"auto\", \"x\": [33.5, 88.6, 57.9, 100.0, 3.8, 6.0, 69.5, 64.6, 64.4, 168.7, 78.8, 68.9, 95.3, 1.1, 3.4, 144.7, 334.0, 0.6, 45.2, 4.6, 0.2, 1.6, 57.9, 79.4, 0.1, 14.1, 0.3, 33.2, 0.3, 0.1, 1.1, 25.9, 8.4, 0.3, 81.2, 17.4, 57.5, 84.1, 6.2], \"xaxis\": \"x\", \"y\": [\"Bihor\", \"Bistrita-Nasaud\", \"Cluj\", \"Maramures\", \"Satu Mare\", \"Salaj\", \"Alba\", \"Brasov\", \"Covasna\", \"Harghita\", \"Mures\", \"Sibiu\", \"Bacau\", \"Botosani\", \"Iasi\", \"Neamt\", \"Suceava\", \"Vaslui\", \"Buzau\", \"Constanta\", \"Galati\", \"Tulcea\", \"Vrancea\", \"Arges\", \"Calarasi\", \"Dambovita\", \"Giurgiu\", \"Prahova\", \"Teleorman\", \"Ilfov\", \"Dolj\", \"Gorj\", \"Mehedinti\", \"Olt\", \"Valcea\", \"Arad\", \"Caras-Severin\", \"Hunedoara\", \"Timis\"], \"yaxis\": \"y\", \"type\": \"bar\"}], \"name\": \"1995\"}, {\"data\": [{\"alignmentgroup\": \"True\", \"hovertemplate\": \"Year=1996<br>Value=%{x}<br>Region=%{y}<extra></extra>\", \"legendgroup\": \"\", \"marker\": {\"color\": \"#636efa\"}, \"name\": \"\", \"offsetgroup\": \"\", \"orientation\": \"h\", \"showlegend\": false, \"textposition\": \"auto\", \"x\": [33.3, 88.2, 57.8, 99.7, 3.8, 6.0, 69.6, 64.5, 62.4, 168.0, 78.6, 68.8, 93.4, 1.0, 3.4, 144.5, 334.0, 0.6, 45.1, 4.6, 0.2, 1.6, 58.0, 79.1, 0.1, 15.4, 0.3, 33.2, 0.3, 0.1, 1.1, 26.0, 8.4, 0.3, 81.2, 15.9, 52.7, 82.7, 6.2], \"xaxis\": \"x\", \"y\": [\"Bihor\", \"Bistrita-Nasaud\", \"Cluj\", \"Maramures\", \"Satu Mare\", \"Salaj\", \"Alba\", \"Brasov\", \"Covasna\", \"Harghita\", \"Mures\", \"Sibiu\", \"Bacau\", \"Botosani\", \"Iasi\", \"Neamt\", \"Suceava\", \"Vaslui\", \"Buzau\", \"Constanta\", \"Galati\", \"Tulcea\", \"Vrancea\", \"Arges\", \"Calarasi\", \"Dambovita\", \"Giurgiu\", \"Prahova\", \"Teleorman\", \"Ilfov\", \"Dolj\", \"Gorj\", \"Mehedinti\", \"Olt\", \"Valcea\", \"Arad\", \"Caras-Severin\", \"Hunedoara\", \"Timis\"], \"yaxis\": \"y\", \"type\": \"bar\"}], \"name\": \"1996\"}, {\"data\": [{\"alignmentgroup\": \"True\", \"hovertemplate\": \"Year=1997<br>Value=%{x}<br>Region=%{y}<extra></extra>\", \"legendgroup\": \"\", \"marker\": {\"color\": \"#636efa\"}, \"name\": \"\", \"offsetgroup\": \"\", \"orientation\": \"h\", \"showlegend\": false, \"textposition\": \"auto\", \"x\": [33.2, 87.9, 57.7, 97.3, 3.8, 6.0, 69.5, 65.4, 61.9, 167.2, 78.2, 68.8, 93.9, 1.0, 3.4, 145.1, 333.0, 0.6, 44.1, 4.2, 0.2, 1.1, 58.1, 79.2, 0.1, 15.4, 0.3, 0.1, 33.1, 0.3, 0.1, 0.9, 25.8, 8.4, 0.3, 80.9, 15.2, 52.3, 82.8, 6.2], \"xaxis\": \"x\", \"y\": [\"Bihor\", \"Bistrita-Nasaud\", \"Cluj\", \"Maramures\", \"Satu Mare\", \"Salaj\", \"Alba\", \"Brasov\", \"Covasna\", \"Harghita\", \"Mures\", \"Sibiu\", \"Bacau\", \"Botosani\", \"Iasi\", \"Neamt\", \"Suceava\", \"Vaslui\", \"Buzau\", \"Constanta\", \"Galati\", \"Tulcea\", \"Vrancea\", \"Arges\", \"Calarasi\", \"Dambovita\", \"Giurgiu\", \"Ialomita\", \"Prahova\", \"Teleorman\", \"Ilfov\", \"Dolj\", \"Gorj\", \"Mehedinti\", \"Olt\", \"Valcea\", \"Arad\", \"Caras-Severin\", \"Hunedoara\", \"Timis\"], \"yaxis\": \"y\", \"type\": \"bar\"}], \"name\": \"1997\"}, {\"data\": [{\"alignmentgroup\": \"True\", \"hovertemplate\": \"Year=1998<br>Value=%{x}<br>Region=%{y}<extra></extra>\", \"legendgroup\": \"\", \"marker\": {\"color\": \"#636efa\"}, \"name\": \"\", \"offsetgroup\": \"\", \"orientation\": \"h\", \"showlegend\": false, \"textposition\": \"auto\", \"x\": [32.9, 87.5, 57.7, 95.0, 3.8, 6.0, 69.5, 64.9, 61.0, 166.3, 77.7, 68.7, 92.5, 1.0, 3.4, 144.7, 333.0, 0.6, 44.1, 2.0, 0.2, 1.1, 57.2, 79.1, 0.1, 15.2, 0.3, 0.1, 33.1, 0.3, 0.1, 0.9, 25.8, 8.4, 0.3, 80.2, 15.1, 50.6, 81.3, 6.2], \"xaxis\": \"x\", \"y\": [\"Bihor\", \"Bistrita-Nasaud\", \"Cluj\", \"Maramures\", \"Satu Mare\", \"Salaj\", \"Alba\", \"Brasov\", \"Covasna\", \"Harghita\", \"Mures\", \"Sibiu\", \"Bacau\", \"Botosani\", \"Iasi\", \"Neamt\", \"Suceava\", \"Vaslui\", \"Buzau\", \"Constanta\", \"Galati\", \"Tulcea\", \"Vrancea\", \"Arges\", \"Calarasi\", \"Dambovita\", \"Giurgiu\", \"Ialomita\", \"Prahova\", \"Teleorman\", \"Ilfov\", \"Dolj\", \"Gorj\", \"Mehedinti\", \"Olt\", \"Valcea\", \"Arad\", \"Caras-Severin\", \"Hunedoara\", \"Timis\"], \"yaxis\": \"y\", \"type\": \"bar\"}], \"name\": \"1998\"}, {\"data\": [{\"alignmentgroup\": \"True\", \"hovertemplate\": \"Year=1999<br>Value=%{x}<br>Region=%{y}<extra></extra>\", \"legendgroup\": \"\", \"marker\": {\"color\": \"#636efa\"}, \"name\": \"\", \"offsetgroup\": \"\", \"orientation\": \"h\", \"showlegend\": false, \"textposition\": \"auto\", \"x\": [33.0, 87.3, 57.7, 95.1, 3.8, 6.0, 69.2, 64.9, 60.7, 166.5, 77.5, 68.3, 91.0, 1.0, 3.2, 144.5, 329.8, 0.6, 43.8, 1.9, 0.2, 1.1, 57.2, 79.1, 0.1, 15.1, 0.3, 0.1, 33.1, 0.3, 0.1, 0.8, 26.0, 8.4, 0.3, 80.1, 15.1, 50.4, 81.6, 6.2], \"xaxis\": \"x\", \"y\": [\"Bihor\", \"Bistrita-Nasaud\", \"Cluj\", \"Maramures\", \"Satu Mare\", \"Salaj\", \"Alba\", \"Brasov\", \"Covasna\", \"Harghita\", \"Mures\", \"Sibiu\", \"Bacau\", \"Botosani\", \"Iasi\", \"Neamt\", \"Suceava\", \"Vaslui\", \"Buzau\", \"Constanta\", \"Galati\", \"Tulcea\", \"Vrancea\", \"Arges\", \"Calarasi\", \"Dambovita\", \"Giurgiu\", \"Ialomita\", \"Prahova\", \"Teleorman\", \"Ilfov\", \"Dolj\", \"Gorj\", \"Mehedinti\", \"Olt\", \"Valcea\", \"Arad\", \"Caras-Severin\", \"Hunedoara\", \"Timis\"], \"yaxis\": \"y\", \"type\": \"bar\"}], \"name\": \"1999\"}, {\"data\": [{\"alignmentgroup\": \"True\", \"hovertemplate\": \"Year=2000<br>Value=%{x}<br>Region=%{y}<extra></extra>\", \"legendgroup\": \"\", \"marker\": {\"color\": \"#636efa\"}, \"name\": \"\", \"offsetgroup\": \"\", \"orientation\": \"h\", \"showlegend\": false, \"textposition\": \"auto\", \"x\": [32.6, 87.6, 57.7, 95.4, 3.8, 6.0, 68.9, 64.9, 60.4, 166.4, 77.6, 68.2, 89.5, 1.0, 3.2, 144.3, 329.2, 0.6, 43.7, 1.9, 0.2, 1.1, 57.1, 78.7, 0.1, 15.0, 0.3, 33.0, 0.3, 0.1, 0.8, 26.0, 7.1, 0.2, 80.0, 15.2, 50.4, 81.6, 6.1], \"xaxis\": \"x\", \"y\": [\"Bihor\", \"Bistrita-Nasaud\", \"Cluj\", \"Maramures\", \"Satu Mare\", \"Salaj\", \"Alba\", \"Brasov\", \"Covasna\", \"Harghita\", \"Mures\", \"Sibiu\", \"Bacau\", \"Botosani\", \"Iasi\", \"Neamt\", \"Suceava\", \"Vaslui\", \"Buzau\", \"Constanta\", \"Galati\", \"Tulcea\", \"Vrancea\", \"Arges\", \"Calarasi\", \"Dambovita\", \"Giurgiu\", \"Prahova\", \"Teleorman\", \"Ilfov\", \"Dolj\", \"Gorj\", \"Mehedinti\", \"Olt\", \"Valcea\", \"Arad\", \"Caras-Severin\", \"Hunedoara\", \"Timis\"], \"yaxis\": \"y\", \"type\": \"bar\"}], \"name\": \"2000\"}, {\"data\": [{\"alignmentgroup\": \"True\", \"hovertemplate\": \"Year=2001<br>Value=%{x}<br>Region=%{y}<extra></extra>\", \"legendgroup\": \"\", \"marker\": {\"color\": \"#636efa\"}, \"name\": \"\", \"offsetgroup\": \"\", \"orientation\": \"h\", \"showlegend\": false, \"textposition\": \"auto\", \"x\": [32.7, 87.6, 57.7, 95.2, 3.7, 6.0, 68.8, 65.0, 59.9, 167.1, 77.0, 68.0, 89.4, 1.0, 3.2, 143.9, 329.5, 0.6, 43.3, 1.9, 0.2, 1.1, 56.7, 78.7, 0.1, 15.0, 0.3, 0.1, 32.9, 0.3, 0.1, 0.8, 25.7, 6.8, 0.2, 80.0, 15.2, 50.4, 81.0, 5.7], \"xaxis\": \"x\", \"y\": [\"Bihor\", \"Bistrita-Nasaud\", \"Cluj\", \"Maramures\", \"Satu Mare\", \"Salaj\", \"Alba\", \"Brasov\", \"Covasna\", \"Harghita\", \"Mures\", \"Sibiu\", \"Bacau\", \"Botosani\", \"Iasi\", \"Neamt\", \"Suceava\", \"Vaslui\", \"Buzau\", \"Constanta\", \"Galati\", \"Tulcea\", \"Vrancea\", \"Arges\", \"Calarasi\", \"Dambovita\", \"Giurgiu\", \"Ialomita\", \"Prahova\", \"Teleorman\", \"Ilfov\", \"Dolj\", \"Gorj\", \"Mehedinti\", \"Olt\", \"Valcea\", \"Arad\", \"Caras-Severin\", \"Hunedoara\", \"Timis\"], \"yaxis\": \"y\", \"type\": \"bar\"}], \"name\": \"2001\"}, {\"data\": [{\"alignmentgroup\": \"True\", \"hovertemplate\": \"Year=2002<br>Value=%{x}<br>Region=%{y}<extra></extra>\", \"legendgroup\": \"\", \"marker\": {\"color\": \"#636efa\"}, \"name\": \"\", \"offsetgroup\": \"\", \"orientation\": \"h\", \"showlegend\": false, \"textposition\": \"auto\", \"x\": [33.2, 92.8, 57.4, 95.0, 3.7, 6.0, 68.7, 65.0, 60.7, 162.4, 76.7, 68.4, 89.5, 1.0, 3.2, 146.7, 328.1, 0.6, 43.3, 1.8, 0.2, 1.0, 56.6, 78.8, 0.1, 15.0, 0.3, 32.8, 0.3, 0.1, 0.8, 25.2, 6.7, 0.2, 79.3, 15.2, 53.1, 81.2, 5.2], \"xaxis\": \"x\", \"y\": [\"Bihor\", \"Bistrita-Nasaud\", \"Cluj\", \"Maramures\", \"Satu Mare\", \"Salaj\", \"Alba\", \"Brasov\", \"Covasna\", \"Harghita\", \"Mures\", \"Sibiu\", \"Bacau\", \"Botosani\", \"Iasi\", \"Neamt\", \"Suceava\", \"Vaslui\", \"Buzau\", \"Constanta\", \"Galati\", \"Tulcea\", \"Vrancea\", \"Arges\", \"Calarasi\", \"Dambovita\", \"Giurgiu\", \"Prahova\", \"Teleorman\", \"Ilfov\", \"Dolj\", \"Gorj\", \"Mehedinti\", \"Olt\", \"Valcea\", \"Arad\", \"Caras-Severin\", \"Hunedoara\", \"Timis\"], \"yaxis\": \"y\", \"type\": \"bar\"}], \"name\": \"2002\"}, {\"data\": [{\"alignmentgroup\": \"True\", \"hovertemplate\": \"Year=2003<br>Value=%{x}<br>Region=%{y}<extra></extra>\", \"legendgroup\": \"\", \"marker\": {\"color\": \"#636efa\"}, \"name\": \"\", \"offsetgroup\": \"\", \"orientation\": \"h\", \"showlegend\": false, \"textposition\": \"auto\", \"x\": [32.6, 85.8, 57.6, 97.3, 3.6, 6.0, 68.9, 64.5, 60.1, 158.6, 76.6, 68.4, 87.4, 1.0, 3.2, 145.4, 326.2, 0.6, 43.3, 1.8, 0.2, 1.0, 57.3, 78.7, 0.1, 14.4, 0.3, 32.2, 0.3, 0.1, 0.8, 24.6, 6.4, 0.3, 78.7, 13.8, 54.2, 81.5, 5.2], \"xaxis\": \"x\", \"y\": [\"Bihor\", \"Bistrita-Nasaud\", \"Cluj\", \"Maramures\", \"Satu Mare\", \"Salaj\", \"Alba\", \"Brasov\", \"Covasna\", \"Harghita\", \"Mures\", \"Sibiu\", \"Bacau\", \"Botosani\", \"Iasi\", \"Neamt\", \"Suceava\", \"Vaslui\", \"Buzau\", \"Constanta\", \"Galati\", \"Tulcea\", \"Vrancea\", \"Arges\", \"Calarasi\", \"Dambovita\", \"Giurgiu\", \"Prahova\", \"Teleorman\", \"Ilfov\", \"Dolj\", \"Gorj\", \"Mehedinti\", \"Olt\", \"Valcea\", \"Arad\", \"Caras-Severin\", \"Hunedoara\", \"Timis\"], \"yaxis\": \"y\", \"type\": \"bar\"}], \"name\": \"2003\"}, {\"data\": [{\"alignmentgroup\": \"True\", \"hovertemplate\": \"Year=2004<br>Value=%{x}<br>Region=%{y}<extra></extra>\", \"legendgroup\": \"\", \"marker\": {\"color\": \"#636efa\"}, \"name\": \"\", \"offsetgroup\": \"\", \"orientation\": \"h\", \"showlegend\": false, \"textposition\": \"auto\", \"x\": [32.0, 86.0, 57.8, 95.2, 3.6, 6.7, 70.1, 66.5, 60.0, 168.5, 76.4, 68.5, 90.9, 1.0, 3.1, 141.6, 324.3, 0.6, 43.6, 1.8, 0.2, 1.0, 55.6, 84.8, 0.1, 14.5, 0.2, 32.3, 0.3, 0.1, 0.8, 24.5, 6.4, 0.2, 79.0, 15.0, 52.4, 81.7, 5.2], \"xaxis\": \"x\", \"y\": [\"Bihor\", \"Bistrita-Nasaud\", \"Cluj\", \"Maramures\", \"Satu Mare\", \"Salaj\", \"Alba\", \"Brasov\", \"Covasna\", \"Harghita\", \"Mures\", \"Sibiu\", \"Bacau\", \"Botosani\", \"Iasi\", \"Neamt\", \"Suceava\", \"Vaslui\", \"Buzau\", \"Constanta\", \"Galati\", \"Tulcea\", \"Vrancea\", \"Arges\", \"Calarasi\", \"Dambovita\", \"Giurgiu\", \"Prahova\", \"Teleorman\", \"Ilfov\", \"Dolj\", \"Gorj\", \"Mehedinti\", \"Olt\", \"Valcea\", \"Arad\", \"Caras-Severin\", \"Hunedoara\", \"Timis\"], \"yaxis\": \"y\", \"type\": \"bar\"}], \"name\": \"2004\"}, {\"data\": [{\"alignmentgroup\": \"True\", \"hovertemplate\": \"Year=2005<br>Value=%{x}<br>Region=%{y}<extra></extra>\", \"legendgroup\": \"\", \"marker\": {\"color\": \"#636efa\"}, \"name\": \"\", \"offsetgroup\": \"\", \"orientation\": \"h\", \"showlegend\": false, \"textposition\": \"auto\", \"x\": [31.0, 86.0, 61.7, 93.9, 3.6, 6.1, 72.5, 64.5, 60.6, 171.6, 76.4, 68.0, 90.7, 1.0, 3.1, 144.3, 325.1, 0.6, 43.6, 1.7, 0.2, 1.0, 57.0, 84.8, 0.1, 14.4, 0.2, 32.4, 0.3, 0.1, 0.8, 23.4, 6.3, 0.2, 92.2, 14.6, 51.6, 81.8, 5.3], \"xaxis\": \"x\", \"y\": [\"Bihor\", \"Bistrita-Nasaud\", \"Cluj\", \"Maramures\", \"Satu Mare\", \"Salaj\", \"Alba\", \"Brasov\", \"Covasna\", \"Harghita\", \"Mures\", \"Sibiu\", \"Bacau\", \"Botosani\", \"Iasi\", \"Neamt\", \"Suceava\", \"Vaslui\", \"Buzau\", \"Constanta\", \"Galati\", \"Tulcea\", \"Vrancea\", \"Arges\", \"Calarasi\", \"Dambovita\", \"Giurgiu\", \"Prahova\", \"Teleorman\", \"Ilfov\", \"Dolj\", \"Gorj\", \"Mehedinti\", \"Olt\", \"Valcea\", \"Arad\", \"Caras-Severin\", \"Hunedoara\", \"Timis\"], \"yaxis\": \"y\", \"type\": \"bar\"}], \"name\": \"2005\"}, {\"data\": [{\"alignmentgroup\": \"True\", \"hovertemplate\": \"Year=2006<br>Value=%{x}<br>Region=%{y}<extra></extra>\", \"legendgroup\": \"\", \"marker\": {\"color\": \"#636efa\"}, \"name\": \"\", \"offsetgroup\": \"\", \"orientation\": \"h\", \"showlegend\": false, \"textposition\": \"auto\", \"x\": [31.7, 83.4, 64.9, 92.6, 3.6, 6.7, 72.0, 67.7, 63.6, 196.0, 76.8, 68.1, 89.0, 1.0, 3.1, 142.0, 325.0, 0.6, 41.6, 1.7, 0.2, 1.0, 56.9, 84.8, 0.1, 14.5, 0.2, 32.3, 0.2, 0.1, 0.8, 25.0, 6.3, 0.2, 91.6, 14.7, 45.0, 82.5, 5.3], \"xaxis\": \"x\", \"y\": [\"Bihor\", \"Bistrita-Nasaud\", \"Cluj\", \"Maramures\", \"Satu Mare\", \"Salaj\", \"Alba\", \"Brasov\", \"Covasna\", \"Harghita\", \"Mures\", \"Sibiu\", \"Bacau\", \"Botosani\", \"Iasi\", \"Neamt\", \"Suceava\", \"Vaslui\", \"Buzau\", \"Constanta\", \"Galati\", \"Tulcea\", \"Vrancea\", \"Arges\", \"Calarasi\", \"Dambovita\", \"Giurgiu\", \"Prahova\", \"Teleorman\", \"Ilfov\", \"Dolj\", \"Gorj\", \"Mehedinti\", \"Olt\", \"Valcea\", \"Arad\", \"Caras-Severin\", \"Hunedoara\", \"Timis\"], \"yaxis\": \"y\", \"type\": \"bar\"}], \"name\": \"2006\"}, {\"data\": [{\"alignmentgroup\": \"True\", \"hovertemplate\": \"Year=2007<br>Value=%{x}<br>Region=%{y}<extra></extra>\", \"legendgroup\": \"\", \"marker\": {\"color\": \"#636efa\"}, \"name\": \"\", \"offsetgroup\": \"\", \"orientation\": \"h\", \"showlegend\": false, \"textposition\": \"auto\", \"x\": [34.4, 83.8, 65.9, 101.7, 3.5, 6.7, 76.1, 69.4, 68.6, 193.4, 76.1, 72.3, 89.9, 1.0, 3.0, 141.6, 325.7, 0.6, 45.7, 1.7, 0.2, 1.0, 57.3, 78.7, 0.1, 14.6, 0.2, 32.2, 0.3, 0.1, 0.8, 24.9, 6.3, 0.2, 92.2, 14.1, 46.0, 84.7, 5.2], \"xaxis\": \"x\", \"y\": [\"Bihor\", \"Bistrita-Nasaud\", \"Cluj\", \"Maramures\", \"Satu Mare\", \"Salaj\", \"Alba\", \"Brasov\", \"Covasna\", \"Harghita\", \"Mures\", \"Sibiu\", \"Bacau\", \"Botosani\", \"Iasi\", \"Neamt\", \"Suceava\", \"Vaslui\", \"Buzau\", \"Constanta\", \"Galati\", \"Tulcea\", \"Vrancea\", \"Arges\", \"Calarasi\", \"Dambovita\", \"Giurgiu\", \"Prahova\", \"Teleorman\", \"Ilfov\", \"Dolj\", \"Gorj\", \"Mehedinti\", \"Olt\", \"Valcea\", \"Arad\", \"Caras-Severin\", \"Hunedoara\", \"Timis\"], \"yaxis\": \"y\", \"type\": \"bar\"}], \"name\": \"2007\"}, {\"data\": [{\"alignmentgroup\": \"True\", \"hovertemplate\": \"Year=2008<br>Value=%{x}<br>Region=%{y}<extra></extra>\", \"legendgroup\": \"\", \"marker\": {\"color\": \"#636efa\"}, \"name\": \"\", \"offsetgroup\": \"\", \"orientation\": \"h\", \"showlegend\": false, \"textposition\": \"auto\", \"x\": [34.9, 83.6, 66.9, 110.7, 3.6, 6.9, 72.4, 68.0, 63.8, 193.1, 84.4, 70.4, 99.0, 1.0, 2.6, 141.1, 325.2, 0.5, 48.4, 1.7, 0.2, 1.0, 57.3, 78.7, 0.1, 14.4, 0.2, 32.1, 0.3, 0.1, 0.8, 25.9, 6.2, 0.2, 92.0, 14.2, 46.8, 84.4, 5.3], \"xaxis\": \"x\", \"y\": [\"Bihor\", \"Bistrita-Nasaud\", \"Cluj\", \"Maramures\", \"Satu Mare\", \"Salaj\", \"Alba\", \"Brasov\", \"Covasna\", \"Harghita\", \"Mures\", \"Sibiu\", \"Bacau\", \"Botosani\", \"Iasi\", \"Neamt\", \"Suceava\", \"Vaslui\", \"Buzau\", \"Constanta\", \"Galati\", \"Tulcea\", \"Vrancea\", \"Arges\", \"Calarasi\", \"Dambovita\", \"Giurgiu\", \"Prahova\", \"Teleorman\", \"Ilfov\", \"Dolj\", \"Gorj\", \"Mehedinti\", \"Olt\", \"Valcea\", \"Arad\", \"Caras-Severin\", \"Hunedoara\", \"Timis\"], \"yaxis\": \"y\", \"type\": \"bar\"}], \"name\": \"2008\"}, {\"data\": [{\"alignmentgroup\": \"True\", \"hovertemplate\": \"Year=2009<br>Value=%{x}<br>Region=%{y}<extra></extra>\", \"legendgroup\": \"\", \"marker\": {\"color\": \"#636efa\"}, \"name\": \"\", \"offsetgroup\": \"\", \"orientation\": \"h\", \"showlegend\": false, \"textposition\": \"auto\", \"x\": [34.4, 85.4, 65.5, 111.2, 3.6, 6.9, 73.6, 70.0, 65.5, 191.7, 82.6, 72.8, 90.4, 0.9, 3.2, 141.5, 325.0, 0.6, 46.7, 1.8, 0.2, 1.0, 57.4, 76.8, 0.1, 14.5, 0.2, 32.1, 0.3, 0.1, 0.7, 26.0, 6.3, 0.2, 93.8, 14.0, 45.8, 86.7, 5.3], \"xaxis\": \"x\", \"y\": [\"Bihor\", \"Bistrita-Nasaud\", \"Cluj\", \"Maramures\", \"Satu Mare\", \"Salaj\", \"Alba\", \"Brasov\", \"Covasna\", \"Harghita\", \"Mures\", \"Sibiu\", \"Bacau\", \"Botosani\", \"Iasi\", \"Neamt\", \"Suceava\", \"Vaslui\", \"Buzau\", \"Constanta\", \"Galati\", \"Tulcea\", \"Vrancea\", \"Arges\", \"Calarasi\", \"Dambovita\", \"Giurgiu\", \"Prahova\", \"Teleorman\", \"Ilfov\", \"Dolj\", \"Gorj\", \"Mehedinti\", \"Olt\", \"Valcea\", \"Arad\", \"Caras-Severin\", \"Hunedoara\", \"Timis\"], \"yaxis\": \"y\", \"type\": \"bar\"}], \"name\": \"2009\"}, {\"data\": [{\"alignmentgroup\": \"True\", \"hovertemplate\": \"Year=2010<br>Value=%{x}<br>Region=%{y}<extra></extra>\", \"legendgroup\": \"\", \"marker\": {\"color\": \"#636efa\"}, \"name\": \"\", \"offsetgroup\": \"\", \"orientation\": \"h\", \"showlegend\": false, \"textposition\": \"auto\", \"x\": [34.4, 85.3, 71.0, 109.3, 2.9, 6.9, 73.6, 69.9, 65.3, 193.6, 82.0, 73.6, 90.3, 1.0, 3.2, 141.0, 325.8, 0.6, 47.9, 1.8, 0.2, 1.0, 57.9, 77.0, 0.1, 14.5, 0.2, 32.2, 0.3, 0.1, 0.8, 25.9, 6.3, 0.2, 93.9, 13.4, 47.6, 84.6, 5.3], \"xaxis\": \"x\", \"y\": [\"Bihor\", \"Bistrita-Nasaud\", \"Cluj\", \"Maramures\", \"Satu Mare\", \"Salaj\", \"Alba\", \"Brasov\", \"Covasna\", \"Harghita\", \"Mures\", \"Sibiu\", \"Bacau\", \"Botosani\", \"Iasi\", \"Neamt\", \"Suceava\", \"Vaslui\", \"Buzau\", \"Constanta\", \"Galati\", \"Tulcea\", \"Vrancea\", \"Arges\", \"Calarasi\", \"Dambovita\", \"Giurgiu\", \"Prahova\", \"Teleorman\", \"Ilfov\", \"Dolj\", \"Gorj\", \"Mehedinti\", \"Olt\", \"Valcea\", \"Arad\", \"Caras-Severin\", \"Hunedoara\", \"Timis\"], \"yaxis\": \"y\", \"type\": \"bar\"}], \"name\": \"2010\"}, {\"data\": [{\"alignmentgroup\": \"True\", \"hovertemplate\": \"Year=2011<br>Value=%{x}<br>Region=%{y}<extra></extra>\", \"legendgroup\": \"\", \"marker\": {\"color\": \"#636efa\"}, \"name\": \"\", \"offsetgroup\": \"\", \"orientation\": \"h\", \"showlegend\": false, \"textposition\": \"auto\", \"x\": [33.6, 84.5, 72.5, 108.7, 3.0, 6.9, 74.8, 70.4, 67.5, 192.8, 84.5, 73.7, 90.0, 1.0, 3.1, 139.8, 326.3, 0.5, 53.5, 1.8, 0.2, 1.0, 57.8, 77.1, 14.5, 0.2, 32.2, 0.2, 0.1, 0.8, 26.0, 6.3, 0.2, 93.5, 13.4, 47.2, 83.8, 5.2], \"xaxis\": \"x\", \"y\": [\"Bihor\", \"Bistrita-Nasaud\", \"Cluj\", \"Maramures\", \"Satu Mare\", \"Salaj\", \"Alba\", \"Brasov\", \"Covasna\", \"Harghita\", \"Mures\", \"Sibiu\", \"Bacau\", \"Botosani\", \"Iasi\", \"Neamt\", \"Suceava\", \"Vaslui\", \"Buzau\", \"Constanta\", \"Galati\", \"Tulcea\", \"Vrancea\", \"Arges\", \"Dambovita\", \"Giurgiu\", \"Prahova\", \"Teleorman\", \"Ilfov\", \"Dolj\", \"Gorj\", \"Mehedinti\", \"Olt\", \"Valcea\", \"Arad\", \"Caras-Severin\", \"Hunedoara\", \"Timis\"], \"yaxis\": \"y\", \"type\": \"bar\"}], \"name\": \"2011\"}, {\"data\": [{\"alignmentgroup\": \"True\", \"hovertemplate\": \"Year=2012<br>Value=%{x}<br>Region=%{y}<extra></extra>\", \"legendgroup\": \"\", \"marker\": {\"color\": \"#636efa\"}, \"name\": \"\", \"offsetgroup\": \"\", \"orientation\": \"h\", \"showlegend\": false, \"textposition\": \"auto\", \"x\": [33.3, 85.0, 72.3, 108.6, 3.0, 6.9, 73.9, 70.3, 67.6, 195.5, 84.7, 73.9, 90.3, 0.9, 3.1, 139.2, 326.1, 0.5, 50.7, 1.7, 0.2, 1.0, 57.4, 76.8, 0.1, 14.5, 0.2, 32.2, 0.3, 0.1, 0.8, 25.9, 6.4, 0.2, 93.6, 13.3, 46.9, 82.4, 4.9], \"xaxis\": \"x\", \"y\": [\"Bihor\", \"Bistrita-Nasaud\", \"Cluj\", \"Maramures\", \"Satu Mare\", \"Salaj\", \"Alba\", \"Brasov\", \"Covasna\", \"Harghita\", \"Mures\", \"Sibiu\", \"Bacau\", \"Botosani\", \"Iasi\", \"Neamt\", \"Suceava\", \"Vaslui\", \"Buzau\", \"Constanta\", \"Galati\", \"Tulcea\", \"Vrancea\", \"Arges\", \"Calarasi\", \"Dambovita\", \"Giurgiu\", \"Prahova\", \"Teleorman\", \"Ilfov\", \"Dolj\", \"Gorj\", \"Mehedinti\", \"Olt\", \"Valcea\", \"Arad\", \"Caras-Severin\", \"Hunedoara\", \"Timis\"], \"yaxis\": \"y\", \"type\": \"bar\"}], \"name\": \"2012\"}, {\"data\": [{\"alignmentgroup\": \"True\", \"hovertemplate\": \"Year=2013<br>Value=%{x}<br>Region=%{y}<extra></extra>\", \"legendgroup\": \"\", \"marker\": {\"color\": \"#636efa\"}, \"name\": \"\", \"offsetgroup\": \"\", \"orientation\": \"h\", \"showlegend\": false, \"textposition\": \"auto\", \"x\": [32.6, 83.1, 71.2, 107.5, 2.7, 6.9, 73.4, 69.9, 67.5, 192.9, 87.6, 74.7, 90.6, 0.8, 2.8, 138.9, 325.9, 0.4, 48.0, 1.8, 0.2, 1.0, 57.9, 76.8, 0.1, 14.5, 0.2, 0.1, 32.2, 0.2, 0.1, 0.8, 25.6, 6.3, 0.2, 93.6, 13.2, 46.7, 82.5, 4.9], \"xaxis\": \"x\", \"y\": [\"Bihor\", \"Bistrita-Nasaud\", \"Cluj\", \"Maramures\", \"Satu Mare\", \"Salaj\", \"Alba\", \"Brasov\", \"Covasna\", \"Harghita\", \"Mures\", \"Sibiu\", \"Bacau\", \"Botosani\", \"Iasi\", \"Neamt\", \"Suceava\", \"Vaslui\", \"Buzau\", \"Constanta\", \"Galati\", \"Tulcea\", \"Vrancea\", \"Arges\", \"Calarasi\", \"Dambovita\", \"Giurgiu\", \"Ialomita\", \"Prahova\", \"Teleorman\", \"Ilfov\", \"Dolj\", \"Gorj\", \"Mehedinti\", \"Olt\", \"Valcea\", \"Arad\", \"Caras-Severin\", \"Hunedoara\", \"Timis\"], \"yaxis\": \"y\", \"type\": \"bar\"}], \"name\": \"2013\"}, {\"data\": [{\"alignmentgroup\": \"True\", \"hovertemplate\": \"Year=2014<br>Value=%{x}<br>Region=%{y}<extra></extra>\", \"legendgroup\": \"\", \"marker\": {\"color\": \"#636efa\"}, \"name\": \"\", \"offsetgroup\": \"\", \"orientation\": \"h\", \"showlegend\": false, \"textposition\": \"auto\", \"x\": [33.4, 82.2, 72.4, 107.7, 2.7, 6.9, 73.0, 68.8, 67.4, 193.0, 87.1, 74.2, 89.9, 0.7, 2.4, 138.9, 325.7, 0.4, 46.0, 1.8, 0.2, 0.9, 58.0, 76.8, 0.1, 14.4, 0.2, 0.1, 32.7, 0.2, 0.1, 0.8, 25.6, 7.5, 0.2, 93.7, 12.9, 44.4, 81.4, 4.9], \"xaxis\": \"x\", \"y\": [\"Bihor\", \"Bistrita-Nasaud\", \"Cluj\", \"Maramures\", \"Satu Mare\", \"Salaj\", \"Alba\", \"Brasov\", \"Covasna\", \"Harghita\", \"Mures\", \"Sibiu\", \"Bacau\", \"Botosani\", \"Iasi\", \"Neamt\", \"Suceava\", \"Vaslui\", \"Buzau\", \"Constanta\", \"Galati\", \"Tulcea\", \"Vrancea\", \"Arges\", \"Calarasi\", \"Dambovita\", \"Giurgiu\", \"Ialomita\", \"Prahova\", \"Teleorman\", \"Ilfov\", \"Dolj\", \"Gorj\", \"Mehedinti\", \"Olt\", \"Valcea\", \"Arad\", \"Caras-Severin\", \"Hunedoara\", \"Timis\"], \"yaxis\": \"y\", \"type\": \"bar\"}], \"name\": \"2014\"}, {\"data\": [{\"alignmentgroup\": \"True\", \"hovertemplate\": \"Year=2015<br>Value=%{x}<br>Region=%{y}<extra></extra>\", \"legendgroup\": \"\", \"marker\": {\"color\": \"#636efa\"}, \"name\": \"\", \"offsetgroup\": \"\", \"orientation\": \"h\", \"showlegend\": false, \"textposition\": \"auto\", \"x\": [33.1, 81.5, 74.9, 108.0, 2.7, 6.7, 69.1, 70.0, 65.7, 191.0, 86.0, 74.1, 89.2, 0.5, 2.2, 140.1, 324.4, 0.4, 48.2, 1.7, 0.2, 1.0, 57.6, 83.4, 0.1, 14.7, 0.2, 0.1, 32.6, 0.2, 0.1, 0.8, 26.3, 7.5, 0.2, 93.6, 12.6, 43.8, 81.3, 4.9], \"xaxis\": \"x\", \"y\": [\"Bihor\", \"Bistrita-Nasaud\", \"Cluj\", \"Maramures\", \"Satu Mare\", \"Salaj\", \"Alba\", \"Brasov\", \"Covasna\", \"Harghita\", \"Mures\", \"Sibiu\", \"Bacau\", \"Botosani\", \"Iasi\", \"Neamt\", \"Suceava\", \"Vaslui\", \"Buzau\", \"Constanta\", \"Galati\", \"Tulcea\", \"Vrancea\", \"Arges\", \"Calarasi\", \"Dambovita\", \"Giurgiu\", \"Ialomita\", \"Prahova\", \"Teleorman\", \"Ilfov\", \"Dolj\", \"Gorj\", \"Mehedinti\", \"Olt\", \"Valcea\", \"Arad\", \"Caras-Severin\", \"Hunedoara\", \"Timis\"], \"yaxis\": \"y\", \"type\": \"bar\"}], \"name\": \"2015\"}, {\"data\": [{\"alignmentgroup\": \"True\", \"hovertemplate\": \"Year=2016<br>Value=%{x}<br>Region=%{y}<extra></extra>\", \"legendgroup\": \"\", \"marker\": {\"color\": \"#636efa\"}, \"name\": \"\", \"offsetgroup\": \"\", \"orientation\": \"h\", \"showlegend\": false, \"textposition\": \"auto\", \"x\": [33.9, 81.5, 75.0, 106.9, 2.6, 6.6, 69.1, 70.5, 65.5, 190.9, 84.6, 74.1, 88.1, 0.4, 2.1, 140.2, 324.8, 0.4, 47.7, 1.7, 0.2, 0.9, 58.6, 84.3, 0.1, 14.7, 0.2, 32.7, 0.2, 0.1, 0.8, 26.5, 7.6, 0.2, 92.7, 13.0, 43.4, 81.7, 4.9], \"xaxis\": \"x\", \"y\": [\"Bihor\", \"Bistrita-Nasaud\", \"Cluj\", \"Maramures\", \"Satu Mare\", \"Salaj\", \"Alba\", \"Brasov\", \"Covasna\", \"Harghita\", \"Mures\", \"Sibiu\", \"Bacau\", \"Botosani\", \"Iasi\", \"Neamt\", \"Suceava\", \"Vaslui\", \"Buzau\", \"Constanta\", \"Galati\", \"Tulcea\", \"Vrancea\", \"Arges\", \"Calarasi\", \"Dambovita\", \"Giurgiu\", \"Prahova\", \"Teleorman\", \"Ilfov\", \"Dolj\", \"Gorj\", \"Mehedinti\", \"Olt\", \"Valcea\", \"Arad\", \"Caras-Severin\", \"Hunedoara\", \"Timis\"], \"yaxis\": \"y\", \"type\": \"bar\"}], \"name\": \"2016\"}, {\"data\": [{\"alignmentgroup\": \"True\", \"hovertemplate\": \"Year=2017<br>Value=%{x}<br>Region=%{y}<extra></extra>\", \"legendgroup\": \"\", \"marker\": {\"color\": \"#636efa\"}, \"name\": \"\", \"offsetgroup\": \"\", \"orientation\": \"h\", \"showlegend\": false, \"textposition\": \"auto\", \"x\": [34.1, 81.5, 75.7, 106.8, 2.6, 6.3, 69.2, 69.9, 64.1, 189.1, 84.1, 74.6, 87.6, 0.4, 2.1, 140.1, 325.2, 0.4, 47.3, 1.7, 0.1, 0.9, 59.2, 84.3, 0.1, 14.7, 0.2, 32.6, 0.2, 0.1, 0.7, 26.3, 6.8, 0.2, 92.8, 12.9, 42.9, 81.3, 4.9], \"xaxis\": \"x\", \"y\": [\"Bihor\", \"Bistrita-Nasaud\", \"Cluj\", \"Maramures\", \"Satu Mare\", \"Salaj\", \"Alba\", \"Brasov\", \"Covasna\", \"Harghita\", \"Mures\", \"Sibiu\", \"Bacau\", \"Botosani\", \"Iasi\", \"Neamt\", \"Suceava\", \"Vaslui\", \"Buzau\", \"Constanta\", \"Galati\", \"Tulcea\", \"Vrancea\", \"Arges\", \"Calarasi\", \"Dambovita\", \"Giurgiu\", \"Prahova\", \"Teleorman\", \"Ilfov\", \"Dolj\", \"Gorj\", \"Mehedinti\", \"Olt\", \"Valcea\", \"Arad\", \"Caras-Severin\", \"Hunedoara\", \"Timis\"], \"yaxis\": \"y\", \"type\": \"bar\"}], \"name\": \"2017\"}, {\"data\": [{\"alignmentgroup\": \"True\", \"hovertemplate\": \"Year=2018<br>Value=%{x}<br>Region=%{y}<extra></extra>\", \"legendgroup\": \"\", \"marker\": {\"color\": \"#636efa\"}, \"name\": \"\", \"offsetgroup\": \"\", \"orientation\": \"h\", \"showlegend\": false, \"textposition\": \"auto\", \"x\": [34.3, 81.6, 75.7, 107.5, 3.0, 6.2, 69.7, 69.9, 63.6, 189.0, 82.0, 74.5, 87.8, 0.4, 1.9, 140.3, 325.0, 0.4, 47.6, 1.6, 0.1, 0.9, 58.4, 84.6, 0.1, 14.7, 0.2, 32.6, 0.2, 0.1, 0.7, 26.1, 6.8, 0.2, 88.7, 12.7, 42.9, 80.6, 4.9], \"xaxis\": \"x\", \"y\": [\"Bihor\", \"Bistrita-Nasaud\", \"Cluj\", \"Maramures\", \"Satu Mare\", \"Salaj\", \"Alba\", \"Brasov\", \"Covasna\", \"Harghita\", \"Mures\", \"Sibiu\", \"Bacau\", \"Botosani\", \"Iasi\", \"Neamt\", \"Suceava\", \"Vaslui\", \"Buzau\", \"Constanta\", \"Galati\", \"Tulcea\", \"Vrancea\", \"Arges\", \"Calarasi\", \"Dambovita\", \"Giurgiu\", \"Prahova\", \"Teleorman\", \"Ilfov\", \"Dolj\", \"Gorj\", \"Mehedinti\", \"Olt\", \"Valcea\", \"Arad\", \"Caras-Severin\", \"Hunedoara\", \"Timis\"], \"yaxis\": \"y\", \"type\": \"bar\"}], \"name\": \"2018\"}, {\"data\": [{\"alignmentgroup\": \"True\", \"hovertemplate\": \"Year=2019<br>Value=%{x}<br>Region=%{y}<extra></extra>\", \"legendgroup\": \"\", \"marker\": {\"color\": \"#636efa\"}, \"name\": \"\", \"offsetgroup\": \"\", \"orientation\": \"h\", \"showlegend\": false, \"textposition\": \"auto\", \"x\": [34.3, 81.3, 76.1, 107.3, 2.9, 5.6, 69.6, 69.8, 63.6, 188.9, 82.1, 74.7, 88.1, 0.4, 1.8, 140.3, 324.5, 0.4, 0.1, 48.0, 1.5, 0.1, 0.9, 58.1, 84.2, 14.7, 0.2, 32.8, 0.2, 0.1, 0.7, 26.1, 6.5, 0.2, 88.9, 11.9, 43.1, 80.1, 4.9], \"xaxis\": \"x\", \"y\": [\"Bihor\", \"Bistrita-Nasaud\", \"Cluj\", \"Maramures\", \"Satu Mare\", \"Salaj\", \"Alba\", \"Brasov\", \"Covasna\", \"Harghita\", \"Mures\", \"Sibiu\", \"Bacau\", \"Botosani\", \"Iasi\", \"Neamt\", \"Suceava\", \"Vaslui\", \"Braila\", \"Buzau\", \"Constanta\", \"Galati\", \"Tulcea\", \"Vrancea\", \"Arges\", \"Dambovita\", \"Giurgiu\", \"Prahova\", \"Teleorman\", \"Ilfov\", \"Dolj\", \"Gorj\", \"Mehedinti\", \"Olt\", \"Valcea\", \"Arad\", \"Caras-Severin\", \"Hunedoara\", \"Timis\"], \"yaxis\": \"y\", \"type\": \"bar\"}], \"name\": \"2019\"}]);\n",
       "                        }).then(function(){\n",
       "                            \n",
       "var gd = document.getElementById('4e1a51de-d2a4-485d-a04d-bc889a788f40');\n",
       "var x = new MutationObserver(function (mutations, observer) {{\n",
       "        var display = window.getComputedStyle(gd).display;\n",
       "        if (!display || display === 'none') {{\n",
       "            console.log([gd, 'removed!']);\n",
       "            Plotly.purge(gd);\n",
       "            observer.disconnect();\n",
       "        }}\n",
       "}});\n",
       "\n",
       "// Listen for the removal of the full notebook cells\n",
       "var notebookContainer = gd.closest('#notebook-container');\n",
       "if (notebookContainer) {{\n",
       "    x.observe(notebookContainer, {childList: true});\n",
       "}}\n",
       "\n",
       "// Listen for the clearing of the current output cell\n",
       "var outputEl = gd.closest('.output');\n",
       "if (outputEl) {{\n",
       "    x.observe(outputEl, {childList: true});\n",
       "}}\n",
       "\n",
       "                        })                };                });            </script>        </div>"
      ]
     },
     "metadata": {},
     "output_type": "display_data"
    }
   ],
   "source": [
    "selection_df = data_county_df.loc[data_county_df.Category==\"Softwood\"]\n",
    "min_value = selection_df.Value.min()\n",
    "max_value = selection_df.Value.max()\n",
    "import plotly.express as px\n",
    "fig = px.bar(selection_df, x=\"Value\", y=\"Region\", animation_frame='Year', orientation='h',\n",
    "             range_color =[min_value,max_value],\n",
    "             width=600, height=800, range_x = [min_value,max_value],\n",
    "            title='Surface evolution/county 1990-2019 - Softwood')\n",
    "fig.update_layout(font=dict(family=\"Courier New, monospace\",size=10,color=\"#7f7f7f\"))\n",
    "fig.show()"
   ]
  },
  {
   "cell_type": "code",
   "execution_count": 13,
   "metadata": {
    "_kg_hide-input": true,
    "execution": {
     "iopub.execute_input": "2020-10-18T22:36:56.599928Z",
     "iopub.status.busy": "2020-10-18T22:36:56.583143Z",
     "iopub.status.idle": "2020-10-18T22:36:56.829315Z",
     "shell.execute_reply": "2020-10-18T22:36:56.829961Z"
    },
    "papermill": {
     "duration": 0.382379,
     "end_time": "2020-10-18T22:36:56.830122",
     "exception": false,
     "start_time": "2020-10-18T22:36:56.447743",
     "status": "completed"
    },
    "tags": []
   },
   "outputs": [
    {
     "data": {
      "application/vnd.plotly.v1+json": {
       "config": {
        "plotlyServerURL": "https://plot.ly"
       },
       "data": [
        {
         "alignmentgroup": "True",
         "hovertemplate": "Year=1990<br>Value=%{x}<br>Region=%{y}<extra></extra>",
         "legendgroup": "",
         "marker": {
          "color": "#636efa"
         },
         "name": "",
         "offsetgroup": "",
         "orientation": "h",
         "showlegend": false,
         "textposition": "auto",
         "type": "bar",
         "x": [
          3.0,
          1.6,
          2.0,
          4.7,
          1.5,
          0.8,
          3.2,
          2.5,
          2.2,
          3.2,
          2.0,
          2.3,
          2.8,
          1.0,
          2.2,
          3.7,
          7.9,
          1.0,
          3.7,
          2.0,
          1.9,
          1.7,
          8.3,
          4.4,
          4.9,
          0.9,
          2.4,
          1.0,
          0.9,
          2.3,
          1.7,
          0.9,
          3.2,
          3.9,
          3.6,
          2.1,
          3.5,
          3.5,
          7.3,
          4.9,
          2.2
         ],
         "xaxis": "x",
         "y": [
          "Bihor",
          "Bistrita-Nasaud",
          "Cluj",
          "Maramures",
          "Satu Mare",
          "Salaj",
          "Alba",
          "Brasov",
          "Covasna",
          "Harghita",
          "Mures",
          "Sibiu",
          "Bacau",
          "Botosani",
          "Iasi",
          "Neamt",
          "Suceava",
          "Vaslui",
          "Braila",
          "Buzau",
          "Constanta",
          "Galati",
          "Tulcea",
          "Vrancea",
          "Arges",
          "Calarasi",
          "Dambovita",
          "Giurgiu",
          "Ialomita",
          "Prahova",
          "Teleorman",
          "Ilfov",
          "Dolj",
          "Gorj",
          "Mehedinti",
          "Olt",
          "Valcea",
          "Arad",
          "Caras-Severin",
          "Hunedoara",
          "Timis"
         ],
         "yaxis": "y"
        }
       ],
       "frames": [
        {
         "data": [
          {
           "alignmentgroup": "True",
           "hovertemplate": "Year=1990<br>Value=%{x}<br>Region=%{y}<extra></extra>",
           "legendgroup": "",
           "marker": {
            "color": "#636efa"
           },
           "name": "",
           "offsetgroup": "",
           "orientation": "h",
           "showlegend": false,
           "textposition": "auto",
           "type": "bar",
           "x": [
            3.0,
            1.6,
            2.0,
            4.7,
            1.5,
            0.8,
            3.2,
            2.5,
            2.2,
            3.2,
            2.0,
            2.3,
            2.8,
            1.0,
            2.2,
            3.7,
            7.9,
            1.0,
            3.7,
            2.0,
            1.9,
            1.7,
            8.3,
            4.4,
            4.9,
            0.9,
            2.4,
            1.0,
            0.9,
            2.3,
            1.7,
            0.9,
            3.2,
            3.9,
            3.6,
            2.1,
            3.5,
            3.5,
            7.3,
            4.9,
            2.2
           ],
           "xaxis": "x",
           "y": [
            "Bihor",
            "Bistrita-Nasaud",
            "Cluj",
            "Maramures",
            "Satu Mare",
            "Salaj",
            "Alba",
            "Brasov",
            "Covasna",
            "Harghita",
            "Mures",
            "Sibiu",
            "Bacau",
            "Botosani",
            "Iasi",
            "Neamt",
            "Suceava",
            "Vaslui",
            "Braila",
            "Buzau",
            "Constanta",
            "Galati",
            "Tulcea",
            "Vrancea",
            "Arges",
            "Calarasi",
            "Dambovita",
            "Giurgiu",
            "Ialomita",
            "Prahova",
            "Teleorman",
            "Ilfov",
            "Dolj",
            "Gorj",
            "Mehedinti",
            "Olt",
            "Valcea",
            "Arad",
            "Caras-Severin",
            "Hunedoara",
            "Timis"
           ],
           "yaxis": "y"
          }
         ],
         "name": "1990"
        },
        {
         "data": [
          {
           "alignmentgroup": "True",
           "hovertemplate": "Year=1991<br>Value=%{x}<br>Region=%{y}<extra></extra>",
           "legendgroup": "",
           "marker": {
            "color": "#636efa"
           },
           "name": "",
           "offsetgroup": "",
           "orientation": "h",
           "showlegend": false,
           "textposition": "auto",
           "type": "bar",
           "x": [
            3.2,
            1.5,
            1.9,
            4.4,
            1.5,
            1.0,
            3.2,
            2.3,
            2.0,
            3.3,
            1.8,
            2.2,
            2.6,
            0.9,
            1.7,
            3.4,
            7.3,
            1.1,
            3.8,
            2.0,
            2.0,
            1.5,
            7.8,
            4.3,
            4.9,
            0.8,
            2.4,
            1.3,
            0.9,
            2.2,
            1.4,
            0.6,
            2.9,
            3.6,
            3.5,
            2.2,
            3.5,
            3.3,
            7.0,
            4.8,
            2.2
           ],
           "xaxis": "x",
           "y": [
            "Bihor",
            "Bistrita-Nasaud",
            "Cluj",
            "Maramures",
            "Satu Mare",
            "Salaj",
            "Alba",
            "Brasov",
            "Covasna",
            "Harghita",
            "Mures",
            "Sibiu",
            "Bacau",
            "Botosani",
            "Iasi",
            "Neamt",
            "Suceava",
            "Vaslui",
            "Braila",
            "Buzau",
            "Constanta",
            "Galati",
            "Tulcea",
            "Vrancea",
            "Arges",
            "Calarasi",
            "Dambovita",
            "Giurgiu",
            "Ialomita",
            "Prahova",
            "Teleorman",
            "Ilfov",
            "Dolj",
            "Gorj",
            "Mehedinti",
            "Olt",
            "Valcea",
            "Arad",
            "Caras-Severin",
            "Hunedoara",
            "Timis"
           ],
           "yaxis": "y"
          }
         ],
         "name": "1991"
        },
        {
         "data": [
          {
           "alignmentgroup": "True",
           "hovertemplate": "Year=1992<br>Value=%{x}<br>Region=%{y}<extra></extra>",
           "legendgroup": "",
           "marker": {
            "color": "#636efa"
           },
           "name": "",
           "offsetgroup": "",
           "orientation": "h",
           "showlegend": false,
           "textposition": "auto",
           "type": "bar",
           "x": [
            3.2,
            1.5,
            1.8,
            4.4,
            1.5,
            1.0,
            3.4,
            2.1,
            1.9,
            3.3,
            1.8,
            2.1,
            2.8,
            1.0,
            1.8,
            3.1,
            7.3,
            1.2,
            3.9,
            2.0,
            2.1,
            1.6,
            7.7,
            3.5,
            4.9,
            0.8,
            2.3,
            1.3,
            1.0,
            2.2,
            1.6,
            0.9,
            3.5,
            3.8,
            3.7,
            2.4,
            3.3,
            3.2,
            7.0,
            4.8,
            2.0
           ],
           "xaxis": "x",
           "y": [
            "Bihor",
            "Bistrita-Nasaud",
            "Cluj",
            "Maramures",
            "Satu Mare",
            "Salaj",
            "Alba",
            "Brasov",
            "Covasna",
            "Harghita",
            "Mures",
            "Sibiu",
            "Bacau",
            "Botosani",
            "Iasi",
            "Neamt",
            "Suceava",
            "Vaslui",
            "Braila",
            "Buzau",
            "Constanta",
            "Galati",
            "Tulcea",
            "Vrancea",
            "Arges",
            "Calarasi",
            "Dambovita",
            "Giurgiu",
            "Ialomita",
            "Prahova",
            "Teleorman",
            "Ilfov",
            "Dolj",
            "Gorj",
            "Mehedinti",
            "Olt",
            "Valcea",
            "Arad",
            "Caras-Severin",
            "Hunedoara",
            "Timis"
           ],
           "yaxis": "y"
          }
         ],
         "name": "1992"
        },
        {
         "data": [
          {
           "alignmentgroup": "True",
           "hovertemplate": "Year=1993<br>Value=%{x}<br>Region=%{y}<extra></extra>",
           "legendgroup": "",
           "marker": {
            "color": "#636efa"
           },
           "name": "",
           "offsetgroup": "",
           "orientation": "h",
           "showlegend": false,
           "textposition": "auto",
           "type": "bar",
           "x": [
            3.2,
            1.6,
            1.8,
            4.6,
            1.4,
            0.9,
            3.2,
            2.0,
            1.8,
            3.2,
            1.9,
            2.1,
            2.6,
            1.1,
            1.6,
            3.3,
            7.1,
            1.2,
            4.5,
            2.0,
            2.9,
            1.5,
            8.0,
            3.9,
            4.8,
            1.0,
            2.3,
            1.8,
            1.2,
            2.4,
            2.6,
            1.3,
            3.9,
            3.7,
            2.7,
            2.7,
            3.5,
            3.3,
            6.4,
            4.7,
            2.0
           ],
           "xaxis": "x",
           "y": [
            "Bihor",
            "Bistrita-Nasaud",
            "Cluj",
            "Maramures",
            "Satu Mare",
            "Salaj",
            "Alba",
            "Brasov",
            "Covasna",
            "Harghita",
            "Mures",
            "Sibiu",
            "Bacau",
            "Botosani",
            "Iasi",
            "Neamt",
            "Suceava",
            "Vaslui",
            "Braila",
            "Buzau",
            "Constanta",
            "Galati",
            "Tulcea",
            "Vrancea",
            "Arges",
            "Calarasi",
            "Dambovita",
            "Giurgiu",
            "Ialomita",
            "Prahova",
            "Teleorman",
            "Ilfov",
            "Dolj",
            "Gorj",
            "Mehedinti",
            "Olt",
            "Valcea",
            "Arad",
            "Caras-Severin",
            "Hunedoara",
            "Timis"
           ],
           "yaxis": "y"
          }
         ],
         "name": "1993"
        },
        {
         "data": [
          {
           "alignmentgroup": "True",
           "hovertemplate": "Year=1994<br>Value=%{x}<br>Region=%{y}<extra></extra>",
           "legendgroup": "",
           "marker": {
            "color": "#636efa"
           },
           "name": "",
           "offsetgroup": "",
           "orientation": "h",
           "showlegend": false,
           "textposition": "auto",
           "type": "bar",
           "x": [
            3.1,
            2.9,
            1.8,
            4.5,
            3.5,
            1.0,
            3.3,
            2.2,
            1.8,
            3.2,
            1.8,
            1.9,
            3.3,
            1.3,
            1.9,
            3.1,
            6.8,
            1.3,
            6.0,
            2.3,
            2.7,
            1.4,
            8.1,
            3.9,
            5.0,
            1.0,
            2.9,
            2.2,
            1.5,
            3.2,
            2.1,
            1.4,
            3.7,
            3.5,
            2.7,
            2.0,
            3.2,
            3.2,
            5.9,
            4.5,
            2.1
           ],
           "xaxis": "x",
           "y": [
            "Bihor",
            "Bistrita-Nasaud",
            "Cluj",
            "Maramures",
            "Satu Mare",
            "Salaj",
            "Alba",
            "Brasov",
            "Covasna",
            "Harghita",
            "Mures",
            "Sibiu",
            "Bacau",
            "Botosani",
            "Iasi",
            "Neamt",
            "Suceava",
            "Vaslui",
            "Braila",
            "Buzau",
            "Constanta",
            "Galati",
            "Tulcea",
            "Vrancea",
            "Arges",
            "Calarasi",
            "Dambovita",
            "Giurgiu",
            "Ialomita",
            "Prahova",
            "Teleorman",
            "Ilfov",
            "Dolj",
            "Gorj",
            "Mehedinti",
            "Olt",
            "Valcea",
            "Arad",
            "Caras-Severin",
            "Hunedoara",
            "Timis"
           ],
           "yaxis": "y"
          }
         ],
         "name": "1994"
        },
        {
         "data": [
          {
           "alignmentgroup": "True",
           "hovertemplate": "Year=1995<br>Value=%{x}<br>Region=%{y}<extra></extra>",
           "legendgroup": "",
           "marker": {
            "color": "#636efa"
           },
           "name": "",
           "offsetgroup": "",
           "orientation": "h",
           "showlegend": false,
           "textposition": "auto",
           "type": "bar",
           "x": [
            3.2,
            3.0,
            1.7,
            4.4,
            3.3,
            0.9,
            3.2,
            2.4,
            2.0,
            3.1,
            1.5,
            2.0,
            3.6,
            1.4,
            1.7,
            3.3,
            6.9,
            1.4,
            6.2,
            2.4,
            2.7,
            1.9,
            8.0,
            3.6,
            4.9,
            0.9,
            3.0,
            2.2,
            1.2,
            3.3,
            2.2,
            1.4,
            3.6,
            3.6,
            2.7,
            2.0,
            3.3,
            3.3,
            6.1,
            4.5,
            2.1
           ],
           "xaxis": "x",
           "y": [
            "Bihor",
            "Bistrita-Nasaud",
            "Cluj",
            "Maramures",
            "Satu Mare",
            "Salaj",
            "Alba",
            "Brasov",
            "Covasna",
            "Harghita",
            "Mures",
            "Sibiu",
            "Bacau",
            "Botosani",
            "Iasi",
            "Neamt",
            "Suceava",
            "Vaslui",
            "Braila",
            "Buzau",
            "Constanta",
            "Galati",
            "Tulcea",
            "Vrancea",
            "Arges",
            "Calarasi",
            "Dambovita",
            "Giurgiu",
            "Ialomita",
            "Prahova",
            "Teleorman",
            "Ilfov",
            "Dolj",
            "Gorj",
            "Mehedinti",
            "Olt",
            "Valcea",
            "Arad",
            "Caras-Severin",
            "Hunedoara",
            "Timis"
           ],
           "yaxis": "y"
          }
         ],
         "name": "1995"
        },
        {
         "data": [
          {
           "alignmentgroup": "True",
           "hovertemplate": "Year=1996<br>Value=%{x}<br>Region=%{y}<extra></extra>",
           "legendgroup": "",
           "marker": {
            "color": "#636efa"
           },
           "name": "",
           "offsetgroup": "",
           "orientation": "h",
           "showlegend": false,
           "textposition": "auto",
           "type": "bar",
           "x": [
            3.2,
            3.2,
            1.8,
            4.6,
            1.5,
            0.9,
            3.3,
            2.4,
            2.7,
            4.2,
            1.5,
            1.9,
            4.5,
            1.5,
            1.7,
            3.2,
            6.8,
            1.2,
            6.0,
            2.6,
            2.7,
            1.8,
            8.0,
            3.5,
            5.0,
            0.9,
            2.7,
            2.1,
            1.3,
            3.2,
            2.3,
            1.4,
            3.8,
            3.6,
            2.7,
            2.1,
            3.4,
            3.4,
            6.2,
            4.6,
            2.1
           ],
           "xaxis": "x",
           "y": [
            "Bihor",
            "Bistrita-Nasaud",
            "Cluj",
            "Maramures",
            "Satu Mare",
            "Salaj",
            "Alba",
            "Brasov",
            "Covasna",
            "Harghita",
            "Mures",
            "Sibiu",
            "Bacau",
            "Botosani",
            "Iasi",
            "Neamt",
            "Suceava",
            "Vaslui",
            "Braila",
            "Buzau",
            "Constanta",
            "Galati",
            "Tulcea",
            "Vrancea",
            "Arges",
            "Calarasi",
            "Dambovita",
            "Giurgiu",
            "Ialomita",
            "Prahova",
            "Teleorman",
            "Ilfov",
            "Dolj",
            "Gorj",
            "Mehedinti",
            "Olt",
            "Valcea",
            "Arad",
            "Caras-Severin",
            "Hunedoara",
            "Timis"
           ],
           "yaxis": "y"
          }
         ],
         "name": "1996"
        },
        {
         "data": [
          {
           "alignmentgroup": "True",
           "hovertemplate": "Year=1997<br>Value=%{x}<br>Region=%{y}<extra></extra>",
           "legendgroup": "",
           "marker": {
            "color": "#636efa"
           },
           "name": "",
           "offsetgroup": "",
           "orientation": "h",
           "showlegend": false,
           "textposition": "auto",
           "type": "bar",
           "x": [
            3.1,
            2.8,
            1.7,
            4.7,
            1.4,
            0.9,
            3.3,
            2.6,
            3.2,
            5.1,
            1.9,
            1.9,
            4.3,
            1.4,
            2.2,
            3.2,
            6.9,
            1.4,
            5.7,
            2.8,
            3.6,
            2.5,
            9.3,
            3.5,
            4.9,
            1.0,
            2.9,
            2.1,
            1.9,
            2.5,
            2.0,
            1.7,
            3.9,
            3.6,
            2.8,
            2.3,
            3.4,
            3.4,
            6.2,
            4.6,
            2.1
           ],
           "xaxis": "x",
           "y": [
            "Bihor",
            "Bistrita-Nasaud",
            "Cluj",
            "Maramures",
            "Satu Mare",
            "Salaj",
            "Alba",
            "Brasov",
            "Covasna",
            "Harghita",
            "Mures",
            "Sibiu",
            "Bacau",
            "Botosani",
            "Iasi",
            "Neamt",
            "Suceava",
            "Vaslui",
            "Braila",
            "Buzau",
            "Constanta",
            "Galati",
            "Tulcea",
            "Vrancea",
            "Arges",
            "Calarasi",
            "Dambovita",
            "Giurgiu",
            "Ialomita",
            "Prahova",
            "Teleorman",
            "Ilfov",
            "Dolj",
            "Gorj",
            "Mehedinti",
            "Olt",
            "Valcea",
            "Arad",
            "Caras-Severin",
            "Hunedoara",
            "Timis"
           ],
           "yaxis": "y"
          }
         ],
         "name": "1997"
        },
        {
         "data": [
          {
           "alignmentgroup": "True",
           "hovertemplate": "Year=1998<br>Value=%{x}<br>Region=%{y}<extra></extra>",
           "legendgroup": "",
           "marker": {
            "color": "#636efa"
           },
           "name": "",
           "offsetgroup": "",
           "orientation": "h",
           "showlegend": false,
           "textposition": "auto",
           "type": "bar",
           "x": [
            3.3,
            3.6,
            1.9,
            5.0,
            1.4,
            0.9,
            3.4,
            2.7,
            3.8,
            6.3,
            2.1,
            2.0,
            4.8,
            1.3,
            2.5,
            3.4,
            7.1,
            1.3,
            5.7,
            2.7,
            5.2,
            2.4,
            9.3,
            3.6,
            5.1,
            1.0,
            3.0,
            2.1,
            1.8,
            2.5,
            2.4,
            1.7,
            5.2,
            4.1,
            2.6,
            2.3,
            3.2,
            3.4,
            6.5,
            5.0,
            2.1
           ],
           "xaxis": "x",
           "y": [
            "Bihor",
            "Bistrita-Nasaud",
            "Cluj",
            "Maramures",
            "Satu Mare",
            "Salaj",
            "Alba",
            "Brasov",
            "Covasna",
            "Harghita",
            "Mures",
            "Sibiu",
            "Bacau",
            "Botosani",
            "Iasi",
            "Neamt",
            "Suceava",
            "Vaslui",
            "Braila",
            "Buzau",
            "Constanta",
            "Galati",
            "Tulcea",
            "Vrancea",
            "Arges",
            "Calarasi",
            "Dambovita",
            "Giurgiu",
            "Ialomita",
            "Prahova",
            "Teleorman",
            "Ilfov",
            "Dolj",
            "Gorj",
            "Mehedinti",
            "Olt",
            "Valcea",
            "Arad",
            "Caras-Severin",
            "Hunedoara",
            "Timis"
           ],
           "yaxis": "y"
          }
         ],
         "name": "1998"
        },
        {
         "data": [
          {
           "alignmentgroup": "True",
           "hovertemplate": "Year=1999<br>Value=%{x}<br>Region=%{y}<extra></extra>",
           "legendgroup": "",
           "marker": {
            "color": "#636efa"
           },
           "name": "",
           "offsetgroup": "",
           "orientation": "h",
           "showlegend": false,
           "textposition": "auto",
           "type": "bar",
           "x": [
            3.2,
            4.0,
            1.9,
            5.0,
            1.4,
            0.8,
            3.6,
            2.7,
            4.0,
            6.4,
            2.3,
            2.0,
            4.4,
            1.4,
            2.8,
            3.6,
            9.8,
            1.4,
            5.3,
            2.8,
            5.1,
            2.1,
            9.1,
            3.5,
            5.1,
            1.0,
            2.8,
            2.3,
            1.7,
            2.9,
            2.3,
            1.7,
            4.8,
            3.4,
            2.6,
            2.0,
            3.2,
            3.4,
            6.4,
            5.2,
            2.0
           ],
           "xaxis": "x",
           "y": [
            "Bihor",
            "Bistrita-Nasaud",
            "Cluj",
            "Maramures",
            "Satu Mare",
            "Salaj",
            "Alba",
            "Brasov",
            "Covasna",
            "Harghita",
            "Mures",
            "Sibiu",
            "Bacau",
            "Botosani",
            "Iasi",
            "Neamt",
            "Suceava",
            "Vaslui",
            "Braila",
            "Buzau",
            "Constanta",
            "Galati",
            "Tulcea",
            "Vrancea",
            "Arges",
            "Calarasi",
            "Dambovita",
            "Giurgiu",
            "Ialomita",
            "Prahova",
            "Teleorman",
            "Ilfov",
            "Dolj",
            "Gorj",
            "Mehedinti",
            "Olt",
            "Valcea",
            "Arad",
            "Caras-Severin",
            "Hunedoara",
            "Timis"
           ],
           "yaxis": "y"
          }
         ],
         "name": "1999"
        },
        {
         "data": [
          {
           "alignmentgroup": "True",
           "hovertemplate": "Year=2000<br>Value=%{x}<br>Region=%{y}<extra></extra>",
           "legendgroup": "",
           "marker": {
            "color": "#636efa"
           },
           "name": "",
           "offsetgroup": "",
           "orientation": "h",
           "showlegend": false,
           "textposition": "auto",
           "type": "bar",
           "x": [
            3.2,
            3.7,
            1.8,
            4.9,
            1.5,
            0.9,
            3.7,
            2.7,
            3.9,
            6.0,
            2.7,
            2.1,
            4.7,
            1.4,
            2.8,
            3.8,
            10.6,
            1.1,
            5.2,
            2.9,
            5.2,
            2.0,
            9.3,
            3.5,
            5.4,
            1.1,
            2.8,
            2.4,
            1.8,
            3.0,
            2.5,
            1.7,
            4.6,
            3.5,
            2.6,
            2.1,
            3.3,
            3.4,
            6.4,
            5.3,
            1.9
           ],
           "xaxis": "x",
           "y": [
            "Bihor",
            "Bistrita-Nasaud",
            "Cluj",
            "Maramures",
            "Satu Mare",
            "Salaj",
            "Alba",
            "Brasov",
            "Covasna",
            "Harghita",
            "Mures",
            "Sibiu",
            "Bacau",
            "Botosani",
            "Iasi",
            "Neamt",
            "Suceava",
            "Vaslui",
            "Braila",
            "Buzau",
            "Constanta",
            "Galati",
            "Tulcea",
            "Vrancea",
            "Arges",
            "Calarasi",
            "Dambovita",
            "Giurgiu",
            "Ialomita",
            "Prahova",
            "Teleorman",
            "Ilfov",
            "Dolj",
            "Gorj",
            "Mehedinti",
            "Olt",
            "Valcea",
            "Arad",
            "Caras-Severin",
            "Hunedoara",
            "Timis"
           ],
           "yaxis": "y"
          }
         ],
         "name": "2000"
        },
        {
         "data": [
          {
           "alignmentgroup": "True",
           "hovertemplate": "Year=2001<br>Value=%{x}<br>Region=%{y}<extra></extra>",
           "legendgroup": "",
           "marker": {
            "color": "#636efa"
           },
           "name": "",
           "offsetgroup": "",
           "orientation": "h",
           "showlegend": false,
           "textposition": "auto",
           "type": "bar",
           "x": [
            3.2,
            3.5,
            1.9,
            5.1,
            1.5,
            0.9,
            3.8,
            2.6,
            3.4,
            5.2,
            2.5,
            2.2,
            4.9,
            1.6,
            2.9,
            4.1,
            10.4,
            1.3,
            4.7,
            2.8,
            5.0,
            2.0,
            9.3,
            3.6,
            5.4,
            1.1,
            2.8,
            2.2,
            1.7,
            3.0,
            2.6,
            1.6,
            3.8,
            3.5,
            2.8,
            2.5,
            3.2,
            3.4,
            6.4,
            5.3,
            2.0
           ],
           "xaxis": "x",
           "y": [
            "Bihor",
            "Bistrita-Nasaud",
            "Cluj",
            "Maramures",
            "Satu Mare",
            "Salaj",
            "Alba",
            "Brasov",
            "Covasna",
            "Harghita",
            "Mures",
            "Sibiu",
            "Bacau",
            "Botosani",
            "Iasi",
            "Neamt",
            "Suceava",
            "Vaslui",
            "Braila",
            "Buzau",
            "Constanta",
            "Galati",
            "Tulcea",
            "Vrancea",
            "Arges",
            "Calarasi",
            "Dambovita",
            "Giurgiu",
            "Ialomita",
            "Prahova",
            "Teleorman",
            "Ilfov",
            "Dolj",
            "Gorj",
            "Mehedinti",
            "Olt",
            "Valcea",
            "Arad",
            "Caras-Severin",
            "Hunedoara",
            "Timis"
           ],
           "yaxis": "y"
          }
         ],
         "name": "2001"
        },
        {
         "data": [
          {
           "alignmentgroup": "True",
           "hovertemplate": "Year=2002<br>Value=%{x}<br>Region=%{y}<extra></extra>",
           "legendgroup": "",
           "marker": {
            "color": "#636efa"
           },
           "name": "",
           "offsetgroup": "",
           "orientation": "h",
           "showlegend": false,
           "textposition": "auto",
           "type": "bar",
           "x": [
            3.4,
            3.5,
            2.0,
            5.1,
            1.4,
            0.9,
            3.7,
            2.6,
            2.2,
            5.3,
            2.4,
            2.4,
            4.5,
            1.6,
            3.0,
            3.5,
            11.5,
            1.5,
            5.1,
            2.7,
            4.9,
            2.7,
            11.7,
            3.7,
            5.4,
            1.0,
            2.8,
            2.1,
            1.7,
            2.5,
            2.1,
            1.6,
            5.6,
            3.5,
            2.9,
            3.8,
            3.9,
            4.1,
            6.5,
            5.4,
            2.1
           ],
           "xaxis": "x",
           "y": [
            "Bihor",
            "Bistrita-Nasaud",
            "Cluj",
            "Maramures",
            "Satu Mare",
            "Salaj",
            "Alba",
            "Brasov",
            "Covasna",
            "Harghita",
            "Mures",
            "Sibiu",
            "Bacau",
            "Botosani",
            "Iasi",
            "Neamt",
            "Suceava",
            "Vaslui",
            "Braila",
            "Buzau",
            "Constanta",
            "Galati",
            "Tulcea",
            "Vrancea",
            "Arges",
            "Calarasi",
            "Dambovita",
            "Giurgiu",
            "Ialomita",
            "Prahova",
            "Teleorman",
            "Ilfov",
            "Dolj",
            "Gorj",
            "Mehedinti",
            "Olt",
            "Valcea",
            "Arad",
            "Caras-Severin",
            "Hunedoara",
            "Timis"
           ],
           "yaxis": "y"
          }
         ],
         "name": "2002"
        },
        {
         "data": [
          {
           "alignmentgroup": "True",
           "hovertemplate": "Year=2003<br>Value=%{x}<br>Region=%{y}<extra></extra>",
           "legendgroup": "",
           "marker": {
            "color": "#636efa"
           },
           "name": "",
           "offsetgroup": "",
           "orientation": "h",
           "showlegend": false,
           "textposition": "auto",
           "type": "bar",
           "x": [
            3.3,
            3.3,
            2.0,
            5.2,
            1.3,
            0.9,
            3.8,
            2.6,
            2.1,
            5.3,
            2.3,
            2.5,
            3.7,
            1.5,
            2.9,
            3.4,
            13.4,
            1.3,
            4.4,
            2.7,
            4.6,
            2.3,
            11.0,
            3.6,
            5.2,
            1.1,
            2.9,
            2.6,
            1.6,
            2.4,
            2.6,
            1.8,
            4.7,
            3.5,
            2.8,
            3.7,
            4.1,
            4.8,
            6.6,
            5.4,
            2.0
           ],
           "xaxis": "x",
           "y": [
            "Bihor",
            "Bistrita-Nasaud",
            "Cluj",
            "Maramures",
            "Satu Mare",
            "Salaj",
            "Alba",
            "Brasov",
            "Covasna",
            "Harghita",
            "Mures",
            "Sibiu",
            "Bacau",
            "Botosani",
            "Iasi",
            "Neamt",
            "Suceava",
            "Vaslui",
            "Braila",
            "Buzau",
            "Constanta",
            "Galati",
            "Tulcea",
            "Vrancea",
            "Arges",
            "Calarasi",
            "Dambovita",
            "Giurgiu",
            "Ialomita",
            "Prahova",
            "Teleorman",
            "Ilfov",
            "Dolj",
            "Gorj",
            "Mehedinti",
            "Olt",
            "Valcea",
            "Arad",
            "Caras-Severin",
            "Hunedoara",
            "Timis"
           ],
           "yaxis": "y"
          }
         ],
         "name": "2003"
        },
        {
         "data": [
          {
           "alignmentgroup": "True",
           "hovertemplate": "Year=2004<br>Value=%{x}<br>Region=%{y}<extra></extra>",
           "legendgroup": "",
           "marker": {
            "color": "#636efa"
           },
           "name": "",
           "offsetgroup": "",
           "orientation": "h",
           "showlegend": false,
           "textposition": "auto",
           "type": "bar",
           "x": [
            3.4,
            3.7,
            1.9,
            5.1,
            1.4,
            0.9,
            3.7,
            2.6,
            2.2,
            6.6,
            2.4,
            2.7,
            4.6,
            1.3,
            2.8,
            5.4,
            15.6,
            1.7,
            4.6,
            2.6,
            8.4,
            2.2,
            12.5,
            4.1,
            5.6,
            1.2,
            3.1,
            1.9,
            1.8,
            2.3,
            2.5,
            1.6,
            4.1,
            3.6,
            2.8,
            3.7,
            4.2,
            4.5,
            6.9,
            5.4,
            2.0
           ],
           "xaxis": "x",
           "y": [
            "Bihor",
            "Bistrita-Nasaud",
            "Cluj",
            "Maramures",
            "Satu Mare",
            "Salaj",
            "Alba",
            "Brasov",
            "Covasna",
            "Harghita",
            "Mures",
            "Sibiu",
            "Bacau",
            "Botosani",
            "Iasi",
            "Neamt",
            "Suceava",
            "Vaslui",
            "Braila",
            "Buzau",
            "Constanta",
            "Galati",
            "Tulcea",
            "Vrancea",
            "Arges",
            "Calarasi",
            "Dambovita",
            "Giurgiu",
            "Ialomita",
            "Prahova",
            "Teleorman",
            "Ilfov",
            "Dolj",
            "Gorj",
            "Mehedinti",
            "Olt",
            "Valcea",
            "Arad",
            "Caras-Severin",
            "Hunedoara",
            "Timis"
           ],
           "yaxis": "y"
          }
         ],
         "name": "2004"
        },
        {
         "data": [
          {
           "alignmentgroup": "True",
           "hovertemplate": "Year=2005<br>Value=%{x}<br>Region=%{y}<extra></extra>",
           "legendgroup": "",
           "marker": {
            "color": "#636efa"
           },
           "name": "",
           "offsetgroup": "",
           "orientation": "h",
           "showlegend": false,
           "textposition": "auto",
           "type": "bar",
           "x": [
            3.6,
            4.1,
            2.0,
            5.6,
            1.4,
            0.9,
            3.9,
            2.6,
            2.1,
            5.8,
            2.3,
            2.5,
            5.0,
            1.4,
            2.7,
            4.9,
            14.2,
            1.4,
            4.4,
            2.8,
            7.8,
            2.2,
            12.7,
            4.0,
            5.6,
            1.3,
            3.2,
            1.9,
            1.9,
            2.3,
            2.5,
            1.6,
            3.7,
            3.5,
            2.8,
            3.0,
            5.2,
            4.5,
            6.9,
            5.4,
            2.0
           ],
           "xaxis": "x",
           "y": [
            "Bihor",
            "Bistrita-Nasaud",
            "Cluj",
            "Maramures",
            "Satu Mare",
            "Salaj",
            "Alba",
            "Brasov",
            "Covasna",
            "Harghita",
            "Mures",
            "Sibiu",
            "Bacau",
            "Botosani",
            "Iasi",
            "Neamt",
            "Suceava",
            "Vaslui",
            "Braila",
            "Buzau",
            "Constanta",
            "Galati",
            "Tulcea",
            "Vrancea",
            "Arges",
            "Calarasi",
            "Dambovita",
            "Giurgiu",
            "Ialomita",
            "Prahova",
            "Teleorman",
            "Ilfov",
            "Dolj",
            "Gorj",
            "Mehedinti",
            "Olt",
            "Valcea",
            "Arad",
            "Caras-Severin",
            "Hunedoara",
            "Timis"
           ],
           "yaxis": "y"
          }
         ],
         "name": "2005"
        },
        {
         "data": [
          {
           "alignmentgroup": "True",
           "hovertemplate": "Year=2006<br>Value=%{x}<br>Region=%{y}<extra></extra>",
           "legendgroup": "",
           "marker": {
            "color": "#636efa"
           },
           "name": "",
           "offsetgroup": "",
           "orientation": "h",
           "showlegend": false,
           "textposition": "auto",
           "type": "bar",
           "x": [
            3.9,
            4.3,
            1.8,
            5.7,
            1.4,
            0.9,
            3.8,
            2.9,
            1.9,
            5.9,
            2.1,
            2.2,
            4.8,
            1.5,
            2.5,
            4.6,
            13.8,
            1.3,
            4.6,
            2.7,
            5.3,
            1.9,
            12.4,
            3.8,
            5.6,
            1.6,
            3.2,
            2.0,
            1.9,
            2.3,
            3.0,
            1.6,
            4.5,
            3.6,
            2.8,
            4.1,
            5.0,
            3.6,
            7.0,
            5.4,
            2.2
           ],
           "xaxis": "x",
           "y": [
            "Bihor",
            "Bistrita-Nasaud",
            "Cluj",
            "Maramures",
            "Satu Mare",
            "Salaj",
            "Alba",
            "Brasov",
            "Covasna",
            "Harghita",
            "Mures",
            "Sibiu",
            "Bacau",
            "Botosani",
            "Iasi",
            "Neamt",
            "Suceava",
            "Vaslui",
            "Braila",
            "Buzau",
            "Constanta",
            "Galati",
            "Tulcea",
            "Vrancea",
            "Arges",
            "Calarasi",
            "Dambovita",
            "Giurgiu",
            "Ialomita",
            "Prahova",
            "Teleorman",
            "Ilfov",
            "Dolj",
            "Gorj",
            "Mehedinti",
            "Olt",
            "Valcea",
            "Arad",
            "Caras-Severin",
            "Hunedoara",
            "Timis"
           ],
           "yaxis": "y"
          }
         ],
         "name": "2006"
        },
        {
         "data": [
          {
           "alignmentgroup": "True",
           "hovertemplate": "Year=2007<br>Value=%{x}<br>Region=%{y}<extra></extra>",
           "legendgroup": "",
           "marker": {
            "color": "#636efa"
           },
           "name": "",
           "offsetgroup": "",
           "orientation": "h",
           "showlegend": false,
           "textposition": "auto",
           "type": "bar",
           "x": [
            3.7,
            4.4,
            1.9,
            6.4,
            1.3,
            0.9,
            3.8,
            3.4,
            4.6,
            11.3,
            2.2,
            5.4,
            5.9,
            1.7,
            2.5,
            4.9,
            13.7,
            1.3,
            4.4,
            2.8,
            5.0,
            1.9,
            12.5,
            3.8,
            5.2,
            1.3,
            3.2,
            2.2,
            1.9,
            2.3,
            2.9,
            1.6,
            4.7,
            3.8,
            2.7,
            4.2,
            5.0,
            3.6,
            7.1,
            5.9,
            2.3
           ],
           "xaxis": "x",
           "y": [
            "Bihor",
            "Bistrita-Nasaud",
            "Cluj",
            "Maramures",
            "Satu Mare",
            "Salaj",
            "Alba",
            "Brasov",
            "Covasna",
            "Harghita",
            "Mures",
            "Sibiu",
            "Bacau",
            "Botosani",
            "Iasi",
            "Neamt",
            "Suceava",
            "Vaslui",
            "Braila",
            "Buzau",
            "Constanta",
            "Galati",
            "Tulcea",
            "Vrancea",
            "Arges",
            "Calarasi",
            "Dambovita",
            "Giurgiu",
            "Ialomita",
            "Prahova",
            "Teleorman",
            "Ilfov",
            "Dolj",
            "Gorj",
            "Mehedinti",
            "Olt",
            "Valcea",
            "Arad",
            "Caras-Severin",
            "Hunedoara",
            "Timis"
           ],
           "yaxis": "y"
          }
         ],
         "name": "2007"
        },
        {
         "data": [
          {
           "alignmentgroup": "True",
           "hovertemplate": "Year=2008<br>Value=%{x}<br>Region=%{y}<extra></extra>",
           "legendgroup": "",
           "marker": {
            "color": "#636efa"
           },
           "name": "",
           "offsetgroup": "",
           "orientation": "h",
           "showlegend": false,
           "textposition": "auto",
           "type": "bar",
           "x": [
            3.8,
            4.8,
            2.0,
            6.4,
            1.2,
            0.9,
            3.8,
            3.0,
            2.5,
            5.8,
            3.8,
            2.3,
            5.2,
            1.5,
            2.2,
            5.9,
            14.4,
            1.3,
            4.1,
            2.4,
            5.2,
            2.0,
            12.8,
            4.1,
            5.2,
            1.1,
            2.9,
            2.3,
            1.9,
            2.3,
            2.8,
            1.5,
            5.0,
            3.4,
            2.7,
            4.2,
            5.0,
            3.5,
            7.5,
            6.0,
            2.3
           ],
           "xaxis": "x",
           "y": [
            "Bihor",
            "Bistrita-Nasaud",
            "Cluj",
            "Maramures",
            "Satu Mare",
            "Salaj",
            "Alba",
            "Brasov",
            "Covasna",
            "Harghita",
            "Mures",
            "Sibiu",
            "Bacau",
            "Botosani",
            "Iasi",
            "Neamt",
            "Suceava",
            "Vaslui",
            "Braila",
            "Buzau",
            "Constanta",
            "Galati",
            "Tulcea",
            "Vrancea",
            "Arges",
            "Calarasi",
            "Dambovita",
            "Giurgiu",
            "Ialomita",
            "Prahova",
            "Teleorman",
            "Ilfov",
            "Dolj",
            "Gorj",
            "Mehedinti",
            "Olt",
            "Valcea",
            "Arad",
            "Caras-Severin",
            "Hunedoara",
            "Timis"
           ],
           "yaxis": "y"
          }
         ],
         "name": "2008"
        },
        {
         "data": [
          {
           "alignmentgroup": "True",
           "hovertemplate": "Year=2009<br>Value=%{x}<br>Region=%{y}<extra></extra>",
           "legendgroup": "",
           "marker": {
            "color": "#636efa"
           },
           "name": "",
           "offsetgroup": "",
           "orientation": "h",
           "showlegend": false,
           "textposition": "auto",
           "type": "bar",
           "x": [
            3.7,
            4.0,
            1.9,
            6.0,
            1.3,
            0.9,
            4.5,
            3.1,
            2.4,
            6.1,
            3.4,
            2.4,
            5.8,
            1.5,
            2.4,
            5.0,
            14.8,
            1.2,
            4.0,
            2.3,
            5.3,
            1.8,
            13.0,
            4.2,
            5.5,
            1.1,
            2.9,
            2.4,
            1.8,
            2.4,
            2.6,
            1.5,
            5.1,
            3.4,
            3.1,
            3.9,
            5.1,
            3.5,
            7.5,
            5.8,
            2.1
           ],
           "xaxis": "x",
           "y": [
            "Bihor",
            "Bistrita-Nasaud",
            "Cluj",
            "Maramures",
            "Satu Mare",
            "Salaj",
            "Alba",
            "Brasov",
            "Covasna",
            "Harghita",
            "Mures",
            "Sibiu",
            "Bacau",
            "Botosani",
            "Iasi",
            "Neamt",
            "Suceava",
            "Vaslui",
            "Braila",
            "Buzau",
            "Constanta",
            "Galati",
            "Tulcea",
            "Vrancea",
            "Arges",
            "Calarasi",
            "Dambovita",
            "Giurgiu",
            "Ialomita",
            "Prahova",
            "Teleorman",
            "Ilfov",
            "Dolj",
            "Gorj",
            "Mehedinti",
            "Olt",
            "Valcea",
            "Arad",
            "Caras-Severin",
            "Hunedoara",
            "Timis"
           ],
           "yaxis": "y"
          }
         ],
         "name": "2009"
        },
        {
         "data": [
          {
           "alignmentgroup": "True",
           "hovertemplate": "Year=2010<br>Value=%{x}<br>Region=%{y}<extra></extra>",
           "legendgroup": "",
           "marker": {
            "color": "#636efa"
           },
           "name": "",
           "offsetgroup": "",
           "orientation": "h",
           "showlegend": false,
           "textposition": "auto",
           "type": "bar",
           "x": [
            3.7,
            3.7,
            2.0,
            7.0,
            1.2,
            1.1,
            4.6,
            2.8,
            1.7,
            5.1,
            3.3,
            2.2,
            5.5,
            1.4,
            2.4,
            5.2,
            14.7,
            1.1,
            4.2,
            2.3,
            5.6,
            1.9,
            12.8,
            4.8,
            5.5,
            1.1,
            2.9,
            2.0,
            2.0,
            2.4,
            2.5,
            1.5,
            5.1,
            4.9,
            3.1,
            3.8,
            5.1,
            3.5,
            7.6,
            6.0,
            2.1
           ],
           "xaxis": "x",
           "y": [
            "Bihor",
            "Bistrita-Nasaud",
            "Cluj",
            "Maramures",
            "Satu Mare",
            "Salaj",
            "Alba",
            "Brasov",
            "Covasna",
            "Harghita",
            "Mures",
            "Sibiu",
            "Bacau",
            "Botosani",
            "Iasi",
            "Neamt",
            "Suceava",
            "Vaslui",
            "Braila",
            "Buzau",
            "Constanta",
            "Galati",
            "Tulcea",
            "Vrancea",
            "Arges",
            "Calarasi",
            "Dambovita",
            "Giurgiu",
            "Ialomita",
            "Prahova",
            "Teleorman",
            "Ilfov",
            "Dolj",
            "Gorj",
            "Mehedinti",
            "Olt",
            "Valcea",
            "Arad",
            "Caras-Severin",
            "Hunedoara",
            "Timis"
           ],
           "yaxis": "y"
          }
         ],
         "name": "2010"
        },
        {
         "data": [
          {
           "alignmentgroup": "True",
           "hovertemplate": "Year=2011<br>Value=%{x}<br>Region=%{y}<extra></extra>",
           "legendgroup": "",
           "marker": {
            "color": "#636efa"
           },
           "name": "",
           "offsetgroup": "",
           "orientation": "h",
           "showlegend": false,
           "textposition": "auto",
           "type": "bar",
           "x": [
            3.6,
            3.6,
            1.8,
            6.7,
            1.3,
            1.1,
            4.3,
            2.8,
            1.7,
            5.1,
            3.0,
            2.3,
            5.5,
            1.2,
            2.5,
            5.1,
            14.4,
            1.1,
            3.8,
            2.5,
            5.5,
            1.7,
            12.6,
            4.6,
            5.3,
            1.1,
            2.9,
            2.0,
            1.7,
            2.4,
            2.3,
            1.5,
            4.5,
            4.8,
            3.1,
            2.9,
            5.2,
            3.4,
            7.8,
            6.2,
            2.0
           ],
           "xaxis": "x",
           "y": [
            "Bihor",
            "Bistrita-Nasaud",
            "Cluj",
            "Maramures",
            "Satu Mare",
            "Salaj",
            "Alba",
            "Brasov",
            "Covasna",
            "Harghita",
            "Mures",
            "Sibiu",
            "Bacau",
            "Botosani",
            "Iasi",
            "Neamt",
            "Suceava",
            "Vaslui",
            "Braila",
            "Buzau",
            "Constanta",
            "Galati",
            "Tulcea",
            "Vrancea",
            "Arges",
            "Calarasi",
            "Dambovita",
            "Giurgiu",
            "Ialomita",
            "Prahova",
            "Teleorman",
            "Ilfov",
            "Dolj",
            "Gorj",
            "Mehedinti",
            "Olt",
            "Valcea",
            "Arad",
            "Caras-Severin",
            "Hunedoara",
            "Timis"
           ],
           "yaxis": "y"
          }
         ],
         "name": "2011"
        },
        {
         "data": [
          {
           "alignmentgroup": "True",
           "hovertemplate": "Year=2012<br>Value=%{x}<br>Region=%{y}<extra></extra>",
           "legendgroup": "",
           "marker": {
            "color": "#636efa"
           },
           "name": "",
           "offsetgroup": "",
           "orientation": "h",
           "showlegend": false,
           "textposition": "auto",
           "type": "bar",
           "x": [
            3.3,
            3.6,
            2.1,
            6.6,
            1.3,
            1.1,
            4.6,
            2.8,
            1.7,
            4.6,
            3.0,
            2.2,
            5.1,
            1.3,
            2.5,
            4.9,
            14.4,
            1.1,
            3.4,
            2.6,
            5.1,
            1.8,
            12.6,
            5.1,
            5.5,
            1.1,
            2.9,
            2.1,
            1.5,
            2.4,
            2.5,
            1.5,
            4.6,
            4.9,
            3.1,
            2.9,
            5.2,
            3.5,
            7.8,
            6.1,
            1.9
           ],
           "xaxis": "x",
           "y": [
            "Bihor",
            "Bistrita-Nasaud",
            "Cluj",
            "Maramures",
            "Satu Mare",
            "Salaj",
            "Alba",
            "Brasov",
            "Covasna",
            "Harghita",
            "Mures",
            "Sibiu",
            "Bacau",
            "Botosani",
            "Iasi",
            "Neamt",
            "Suceava",
            "Vaslui",
            "Braila",
            "Buzau",
            "Constanta",
            "Galati",
            "Tulcea",
            "Vrancea",
            "Arges",
            "Calarasi",
            "Dambovita",
            "Giurgiu",
            "Ialomita",
            "Prahova",
            "Teleorman",
            "Ilfov",
            "Dolj",
            "Gorj",
            "Mehedinti",
            "Olt",
            "Valcea",
            "Arad",
            "Caras-Severin",
            "Hunedoara",
            "Timis"
           ],
           "yaxis": "y"
          }
         ],
         "name": "2012"
        },
        {
         "data": [
          {
           "alignmentgroup": "True",
           "hovertemplate": "Year=2013<br>Value=%{x}<br>Region=%{y}<extra></extra>",
           "legendgroup": "",
           "marker": {
            "color": "#636efa"
           },
           "name": "",
           "offsetgroup": "",
           "orientation": "h",
           "showlegend": false,
           "textposition": "auto",
           "type": "bar",
           "x": [
            3.5,
            3.9,
            2.1,
            6.6,
            1.4,
            1.2,
            4.7,
            2.8,
            1.7,
            4.7,
            3.5,
            2.3,
            4.9,
            1.4,
            2.7,
            5.1,
            14.1,
            1.1,
            3.2,
            2.6,
            4.9,
            1.8,
            12.7,
            4.7,
            5.5,
            1.1,
            2.9,
            2.0,
            1.4,
            2.4,
            2.4,
            1.5,
            4.8,
            5.8,
            3.2,
            2.8,
            5.1,
            3.6,
            7.7,
            6.1,
            2.0
           ],
           "xaxis": "x",
           "y": [
            "Bihor",
            "Bistrita-Nasaud",
            "Cluj",
            "Maramures",
            "Satu Mare",
            "Salaj",
            "Alba",
            "Brasov",
            "Covasna",
            "Harghita",
            "Mures",
            "Sibiu",
            "Bacau",
            "Botosani",
            "Iasi",
            "Neamt",
            "Suceava",
            "Vaslui",
            "Braila",
            "Buzau",
            "Constanta",
            "Galati",
            "Tulcea",
            "Vrancea",
            "Arges",
            "Calarasi",
            "Dambovita",
            "Giurgiu",
            "Ialomita",
            "Prahova",
            "Teleorman",
            "Ilfov",
            "Dolj",
            "Gorj",
            "Mehedinti",
            "Olt",
            "Valcea",
            "Arad",
            "Caras-Severin",
            "Hunedoara",
            "Timis"
           ],
           "yaxis": "y"
          }
         ],
         "name": "2013"
        },
        {
         "data": [
          {
           "alignmentgroup": "True",
           "hovertemplate": "Year=2014<br>Value=%{x}<br>Region=%{y}<extra></extra>",
           "legendgroup": "",
           "marker": {
            "color": "#636efa"
           },
           "name": "",
           "offsetgroup": "",
           "orientation": "h",
           "showlegend": false,
           "textposition": "auto",
           "type": "bar",
           "x": [
            3.6,
            3.8,
            2.0,
            6.0,
            1.3,
            1.2,
            4.7,
            2.9,
            1.7,
            4.0,
            4.6,
            2.3,
            5.1,
            1.3,
            3.0,
            4.6,
            14.3,
            1.1,
            3.2,
            2.6,
            5.0,
            1.9,
            12.5,
            4.7,
            5.5,
            1.0,
            3.2,
            2.0,
            1.4,
            2.3,
            2.4,
            1.5,
            4.7,
            5.8,
            3.1,
            2.6,
            5.3,
            3.6,
            7.4,
            6.2,
            1.9
           ],
           "xaxis": "x",
           "y": [
            "Bihor",
            "Bistrita-Nasaud",
            "Cluj",
            "Maramures",
            "Satu Mare",
            "Salaj",
            "Alba",
            "Brasov",
            "Covasna",
            "Harghita",
            "Mures",
            "Sibiu",
            "Bacau",
            "Botosani",
            "Iasi",
            "Neamt",
            "Suceava",
            "Vaslui",
            "Braila",
            "Buzau",
            "Constanta",
            "Galati",
            "Tulcea",
            "Vrancea",
            "Arges",
            "Calarasi",
            "Dambovita",
            "Giurgiu",
            "Ialomita",
            "Prahova",
            "Teleorman",
            "Ilfov",
            "Dolj",
            "Gorj",
            "Mehedinti",
            "Olt",
            "Valcea",
            "Arad",
            "Caras-Severin",
            "Hunedoara",
            "Timis"
           ],
           "yaxis": "y"
          }
         ],
         "name": "2014"
        },
        {
         "data": [
          {
           "alignmentgroup": "True",
           "hovertemplate": "Year=2015<br>Value=%{x}<br>Region=%{y}<extra></extra>",
           "legendgroup": "",
           "marker": {
            "color": "#636efa"
           },
           "name": "",
           "offsetgroup": "",
           "orientation": "h",
           "showlegend": false,
           "textposition": "auto",
           "type": "bar",
           "x": [
            3.5,
            4.7,
            2.0,
            6.6,
            1.4,
            1.2,
            4.7,
            3.0,
            1.8,
            3.6,
            4.4,
            2.4,
            5.1,
            1.3,
            3.0,
            4.7,
            14.4,
            1.0,
            3.0,
            2.5,
            5.0,
            1.8,
            12.3,
            4.6,
            4.7,
            1.0,
            2.6,
            2.1,
            1.3,
            2.3,
            2.3,
            1.5,
            0.1,
            4.6,
            5.4,
            3.2,
            2.3,
            5.4,
            4.1,
            7.5,
            6.0,
            1.9
           ],
           "xaxis": "x",
           "y": [
            "Bihor",
            "Bistrita-Nasaud",
            "Cluj",
            "Maramures",
            "Satu Mare",
            "Salaj",
            "Alba",
            "Brasov",
            "Covasna",
            "Harghita",
            "Mures",
            "Sibiu",
            "Bacau",
            "Botosani",
            "Iasi",
            "Neamt",
            "Suceava",
            "Vaslui",
            "Braila",
            "Buzau",
            "Constanta",
            "Galati",
            "Tulcea",
            "Vrancea",
            "Arges",
            "Calarasi",
            "Dambovita",
            "Giurgiu",
            "Ialomita",
            "Prahova",
            "Teleorman",
            "Ilfov",
            "Bucuresti",
            "Dolj",
            "Gorj",
            "Mehedinti",
            "Olt",
            "Valcea",
            "Arad",
            "Caras-Severin",
            "Hunedoara",
            "Timis"
           ],
           "yaxis": "y"
          }
         ],
         "name": "2015"
        },
        {
         "data": [
          {
           "alignmentgroup": "True",
           "hovertemplate": "Year=2016<br>Value=%{x}<br>Region=%{y}<extra></extra>",
           "legendgroup": "",
           "marker": {
            "color": "#636efa"
           },
           "name": "",
           "offsetgroup": "",
           "orientation": "h",
           "showlegend": false,
           "textposition": "auto",
           "type": "bar",
           "x": [
            3.5,
            4.9,
            1.9,
            6.7,
            1.6,
            1.2,
            4.6,
            3.0,
            1.8,
            3.5,
            4.2,
            2.5,
            5.2,
            1.2,
            3.0,
            4.7,
            13.0,
            1.2,
            3.1,
            2.6,
            4.8,
            1.8,
            11.4,
            4.2,
            4.8,
            1.0,
            2.6,
            2.1,
            1.3,
            2.3,
            2.4,
            1.5,
            0.1,
            4.6,
            5.2,
            3.0,
            2.3,
            6.8,
            4.0,
            7.7,
            5.4,
            1.9
           ],
           "xaxis": "x",
           "y": [
            "Bihor",
            "Bistrita-Nasaud",
            "Cluj",
            "Maramures",
            "Satu Mare",
            "Salaj",
            "Alba",
            "Brasov",
            "Covasna",
            "Harghita",
            "Mures",
            "Sibiu",
            "Bacau",
            "Botosani",
            "Iasi",
            "Neamt",
            "Suceava",
            "Vaslui",
            "Braila",
            "Buzau",
            "Constanta",
            "Galati",
            "Tulcea",
            "Vrancea",
            "Arges",
            "Calarasi",
            "Dambovita",
            "Giurgiu",
            "Ialomita",
            "Prahova",
            "Teleorman",
            "Ilfov",
            "Bucuresti",
            "Dolj",
            "Gorj",
            "Mehedinti",
            "Olt",
            "Valcea",
            "Arad",
            "Caras-Severin",
            "Hunedoara",
            "Timis"
           ],
           "yaxis": "y"
          }
         ],
         "name": "2016"
        },
        {
         "data": [
          {
           "alignmentgroup": "True",
           "hovertemplate": "Year=2017<br>Value=%{x}<br>Region=%{y}<extra></extra>",
           "legendgroup": "",
           "marker": {
            "color": "#636efa"
           },
           "name": "",
           "offsetgroup": "",
           "orientation": "h",
           "showlegend": false,
           "textposition": "auto",
           "type": "bar",
           "x": [
            3.6,
            4.6,
            1.9,
            6.5,
            1.6,
            1.1,
            4.7,
            2.9,
            1.7,
            3.3,
            6.7,
            2.4,
            5.2,
            1.1,
            2.8,
            4.7,
            12.8,
            1.3,
            3.0,
            2.6,
            4.8,
            1.8,
            11.1,
            3.9,
            4.9,
            1.1,
            2.6,
            2.0,
            1.3,
            2.3,
            2.4,
            1.6,
            0.1,
            7.0,
            5.5,
            3.1,
            2.9,
            6.8,
            4.2,
            7.6,
            5.7,
            1.9
           ],
           "xaxis": "x",
           "y": [
            "Bihor",
            "Bistrita-Nasaud",
            "Cluj",
            "Maramures",
            "Satu Mare",
            "Salaj",
            "Alba",
            "Brasov",
            "Covasna",
            "Harghita",
            "Mures",
            "Sibiu",
            "Bacau",
            "Botosani",
            "Iasi",
            "Neamt",
            "Suceava",
            "Vaslui",
            "Braila",
            "Buzau",
            "Constanta",
            "Galati",
            "Tulcea",
            "Vrancea",
            "Arges",
            "Calarasi",
            "Dambovita",
            "Giurgiu",
            "Ialomita",
            "Prahova",
            "Teleorman",
            "Ilfov",
            "Bucuresti",
            "Dolj",
            "Gorj",
            "Mehedinti",
            "Olt",
            "Valcea",
            "Arad",
            "Caras-Severin",
            "Hunedoara",
            "Timis"
           ],
           "yaxis": "y"
          }
         ],
         "name": "2017"
        },
        {
         "data": [
          {
           "alignmentgroup": "True",
           "hovertemplate": "Year=2018<br>Value=%{x}<br>Region=%{y}<extra></extra>",
           "legendgroup": "",
           "marker": {
            "color": "#636efa"
           },
           "name": "",
           "offsetgroup": "",
           "orientation": "h",
           "showlegend": false,
           "textposition": "auto",
           "type": "bar",
           "x": [
            3.6,
            4.5,
            2.1,
            6.8,
            1.6,
            1.4,
            4.5,
            3.0,
            1.7,
            3.9,
            6.4,
            2.5,
            5.3,
            1.1,
            2.9,
            4.5,
            12.6,
            1.3,
            3.2,
            2.7,
            4.8,
            1.8,
            11.2,
            4.1,
            5.0,
            1.1,
            2.6,
            2.1,
            1.3,
            2.3,
            2.4,
            1.6,
            0.1,
            6.9,
            5.5,
            3.1,
            2.8,
            11.1,
            4.3,
            7.8,
            5.5,
            1.9
           ],
           "xaxis": "x",
           "y": [
            "Bihor",
            "Bistrita-Nasaud",
            "Cluj",
            "Maramures",
            "Satu Mare",
            "Salaj",
            "Alba",
            "Brasov",
            "Covasna",
            "Harghita",
            "Mures",
            "Sibiu",
            "Bacau",
            "Botosani",
            "Iasi",
            "Neamt",
            "Suceava",
            "Vaslui",
            "Braila",
            "Buzau",
            "Constanta",
            "Galati",
            "Tulcea",
            "Vrancea",
            "Arges",
            "Calarasi",
            "Dambovita",
            "Giurgiu",
            "Ialomita",
            "Prahova",
            "Teleorman",
            "Ilfov",
            "Bucuresti",
            "Dolj",
            "Gorj",
            "Mehedinti",
            "Olt",
            "Valcea",
            "Arad",
            "Caras-Severin",
            "Hunedoara",
            "Timis"
           ],
           "yaxis": "y"
          }
         ],
         "name": "2018"
        },
        {
         "data": [
          {
           "alignmentgroup": "True",
           "hovertemplate": "Year=2019<br>Value=%{x}<br>Region=%{y}<extra></extra>",
           "legendgroup": "",
           "marker": {
            "color": "#636efa"
           },
           "name": "",
           "offsetgroup": "",
           "orientation": "h",
           "showlegend": false,
           "textposition": "auto",
           "type": "bar",
           "x": [
            3.8,
            4.5,
            2.1,
            6.4,
            1.7,
            1.4,
            4.5,
            2.8,
            1.6,
            3.9,
            6.6,
            2.4,
            5.4,
            1.1,
            3.0,
            4.6,
            12.6,
            1.5,
            3.0,
            2.8,
            4.7,
            1.6,
            11.3,
            4.0,
            4.7,
            1.2,
            2.7,
            2.1,
            1.3,
            2.2,
            2.4,
            1.5,
            0.1,
            7.0,
            5.6,
            3.1,
            2.7,
            11.0,
            4.3,
            8.0,
            5.7,
            2.0
           ],
           "xaxis": "x",
           "y": [
            "Bihor",
            "Bistrita-Nasaud",
            "Cluj",
            "Maramures",
            "Satu Mare",
            "Salaj",
            "Alba",
            "Brasov",
            "Covasna",
            "Harghita",
            "Mures",
            "Sibiu",
            "Bacau",
            "Botosani",
            "Iasi",
            "Neamt",
            "Suceava",
            "Vaslui",
            "Braila",
            "Buzau",
            "Constanta",
            "Galati",
            "Tulcea",
            "Vrancea",
            "Arges",
            "Calarasi",
            "Dambovita",
            "Giurgiu",
            "Ialomita",
            "Prahova",
            "Teleorman",
            "Ilfov",
            "Bucuresti",
            "Dolj",
            "Gorj",
            "Mehedinti",
            "Olt",
            "Valcea",
            "Arad",
            "Caras-Severin",
            "Hunedoara",
            "Timis"
           ],
           "yaxis": "y"
          }
         ],
         "name": "2019"
        }
       ],
       "layout": {
        "barmode": "relative",
        "font": {
         "color": "#7f7f7f",
         "family": "Courier New, monospace",
         "size": 10
        },
        "height": 800,
        "legend": {
         "tracegroupgap": 0
        },
        "sliders": [
         {
          "active": 0,
          "currentvalue": {
           "prefix": "Year="
          },
          "len": 0.9,
          "pad": {
           "b": 10,
           "t": 60
          },
          "steps": [
           {
            "args": [
             [
              "1990"
             ],
             {
              "frame": {
               "duration": 0,
               "redraw": true
              },
              "fromcurrent": true,
              "mode": "immediate",
              "transition": {
               "duration": 0,
               "easing": "linear"
              }
             }
            ],
            "label": "1990",
            "method": "animate"
           },
           {
            "args": [
             [
              "1991"
             ],
             {
              "frame": {
               "duration": 0,
               "redraw": true
              },
              "fromcurrent": true,
              "mode": "immediate",
              "transition": {
               "duration": 0,
               "easing": "linear"
              }
             }
            ],
            "label": "1991",
            "method": "animate"
           },
           {
            "args": [
             [
              "1992"
             ],
             {
              "frame": {
               "duration": 0,
               "redraw": true
              },
              "fromcurrent": true,
              "mode": "immediate",
              "transition": {
               "duration": 0,
               "easing": "linear"
              }
             }
            ],
            "label": "1992",
            "method": "animate"
           },
           {
            "args": [
             [
              "1993"
             ],
             {
              "frame": {
               "duration": 0,
               "redraw": true
              },
              "fromcurrent": true,
              "mode": "immediate",
              "transition": {
               "duration": 0,
               "easing": "linear"
              }
             }
            ],
            "label": "1993",
            "method": "animate"
           },
           {
            "args": [
             [
              "1994"
             ],
             {
              "frame": {
               "duration": 0,
               "redraw": true
              },
              "fromcurrent": true,
              "mode": "immediate",
              "transition": {
               "duration": 0,
               "easing": "linear"
              }
             }
            ],
            "label": "1994",
            "method": "animate"
           },
           {
            "args": [
             [
              "1995"
             ],
             {
              "frame": {
               "duration": 0,
               "redraw": true
              },
              "fromcurrent": true,
              "mode": "immediate",
              "transition": {
               "duration": 0,
               "easing": "linear"
              }
             }
            ],
            "label": "1995",
            "method": "animate"
           },
           {
            "args": [
             [
              "1996"
             ],
             {
              "frame": {
               "duration": 0,
               "redraw": true
              },
              "fromcurrent": true,
              "mode": "immediate",
              "transition": {
               "duration": 0,
               "easing": "linear"
              }
             }
            ],
            "label": "1996",
            "method": "animate"
           },
           {
            "args": [
             [
              "1997"
             ],
             {
              "frame": {
               "duration": 0,
               "redraw": true
              },
              "fromcurrent": true,
              "mode": "immediate",
              "transition": {
               "duration": 0,
               "easing": "linear"
              }
             }
            ],
            "label": "1997",
            "method": "animate"
           },
           {
            "args": [
             [
              "1998"
             ],
             {
              "frame": {
               "duration": 0,
               "redraw": true
              },
              "fromcurrent": true,
              "mode": "immediate",
              "transition": {
               "duration": 0,
               "easing": "linear"
              }
             }
            ],
            "label": "1998",
            "method": "animate"
           },
           {
            "args": [
             [
              "1999"
             ],
             {
              "frame": {
               "duration": 0,
               "redraw": true
              },
              "fromcurrent": true,
              "mode": "immediate",
              "transition": {
               "duration": 0,
               "easing": "linear"
              }
             }
            ],
            "label": "1999",
            "method": "animate"
           },
           {
            "args": [
             [
              "2000"
             ],
             {
              "frame": {
               "duration": 0,
               "redraw": true
              },
              "fromcurrent": true,
              "mode": "immediate",
              "transition": {
               "duration": 0,
               "easing": "linear"
              }
             }
            ],
            "label": "2000",
            "method": "animate"
           },
           {
            "args": [
             [
              "2001"
             ],
             {
              "frame": {
               "duration": 0,
               "redraw": true
              },
              "fromcurrent": true,
              "mode": "immediate",
              "transition": {
               "duration": 0,
               "easing": "linear"
              }
             }
            ],
            "label": "2001",
            "method": "animate"
           },
           {
            "args": [
             [
              "2002"
             ],
             {
              "frame": {
               "duration": 0,
               "redraw": true
              },
              "fromcurrent": true,
              "mode": "immediate",
              "transition": {
               "duration": 0,
               "easing": "linear"
              }
             }
            ],
            "label": "2002",
            "method": "animate"
           },
           {
            "args": [
             [
              "2003"
             ],
             {
              "frame": {
               "duration": 0,
               "redraw": true
              },
              "fromcurrent": true,
              "mode": "immediate",
              "transition": {
               "duration": 0,
               "easing": "linear"
              }
             }
            ],
            "label": "2003",
            "method": "animate"
           },
           {
            "args": [
             [
              "2004"
             ],
             {
              "frame": {
               "duration": 0,
               "redraw": true
              },
              "fromcurrent": true,
              "mode": "immediate",
              "transition": {
               "duration": 0,
               "easing": "linear"
              }
             }
            ],
            "label": "2004",
            "method": "animate"
           },
           {
            "args": [
             [
              "2005"
             ],
             {
              "frame": {
               "duration": 0,
               "redraw": true
              },
              "fromcurrent": true,
              "mode": "immediate",
              "transition": {
               "duration": 0,
               "easing": "linear"
              }
             }
            ],
            "label": "2005",
            "method": "animate"
           },
           {
            "args": [
             [
              "2006"
             ],
             {
              "frame": {
               "duration": 0,
               "redraw": true
              },
              "fromcurrent": true,
              "mode": "immediate",
              "transition": {
               "duration": 0,
               "easing": "linear"
              }
             }
            ],
            "label": "2006",
            "method": "animate"
           },
           {
            "args": [
             [
              "2007"
             ],
             {
              "frame": {
               "duration": 0,
               "redraw": true
              },
              "fromcurrent": true,
              "mode": "immediate",
              "transition": {
               "duration": 0,
               "easing": "linear"
              }
             }
            ],
            "label": "2007",
            "method": "animate"
           },
           {
            "args": [
             [
              "2008"
             ],
             {
              "frame": {
               "duration": 0,
               "redraw": true
              },
              "fromcurrent": true,
              "mode": "immediate",
              "transition": {
               "duration": 0,
               "easing": "linear"
              }
             }
            ],
            "label": "2008",
            "method": "animate"
           },
           {
            "args": [
             [
              "2009"
             ],
             {
              "frame": {
               "duration": 0,
               "redraw": true
              },
              "fromcurrent": true,
              "mode": "immediate",
              "transition": {
               "duration": 0,
               "easing": "linear"
              }
             }
            ],
            "label": "2009",
            "method": "animate"
           },
           {
            "args": [
             [
              "2010"
             ],
             {
              "frame": {
               "duration": 0,
               "redraw": true
              },
              "fromcurrent": true,
              "mode": "immediate",
              "transition": {
               "duration": 0,
               "easing": "linear"
              }
             }
            ],
            "label": "2010",
            "method": "animate"
           },
           {
            "args": [
             [
              "2011"
             ],
             {
              "frame": {
               "duration": 0,
               "redraw": true
              },
              "fromcurrent": true,
              "mode": "immediate",
              "transition": {
               "duration": 0,
               "easing": "linear"
              }
             }
            ],
            "label": "2011",
            "method": "animate"
           },
           {
            "args": [
             [
              "2012"
             ],
             {
              "frame": {
               "duration": 0,
               "redraw": true
              },
              "fromcurrent": true,
              "mode": "immediate",
              "transition": {
               "duration": 0,
               "easing": "linear"
              }
             }
            ],
            "label": "2012",
            "method": "animate"
           },
           {
            "args": [
             [
              "2013"
             ],
             {
              "frame": {
               "duration": 0,
               "redraw": true
              },
              "fromcurrent": true,
              "mode": "immediate",
              "transition": {
               "duration": 0,
               "easing": "linear"
              }
             }
            ],
            "label": "2013",
            "method": "animate"
           },
           {
            "args": [
             [
              "2014"
             ],
             {
              "frame": {
               "duration": 0,
               "redraw": true
              },
              "fromcurrent": true,
              "mode": "immediate",
              "transition": {
               "duration": 0,
               "easing": "linear"
              }
             }
            ],
            "label": "2014",
            "method": "animate"
           },
           {
            "args": [
             [
              "2015"
             ],
             {
              "frame": {
               "duration": 0,
               "redraw": true
              },
              "fromcurrent": true,
              "mode": "immediate",
              "transition": {
               "duration": 0,
               "easing": "linear"
              }
             }
            ],
            "label": "2015",
            "method": "animate"
           },
           {
            "args": [
             [
              "2016"
             ],
             {
              "frame": {
               "duration": 0,
               "redraw": true
              },
              "fromcurrent": true,
              "mode": "immediate",
              "transition": {
               "duration": 0,
               "easing": "linear"
              }
             }
            ],
            "label": "2016",
            "method": "animate"
           },
           {
            "args": [
             [
              "2017"
             ],
             {
              "frame": {
               "duration": 0,
               "redraw": true
              },
              "fromcurrent": true,
              "mode": "immediate",
              "transition": {
               "duration": 0,
               "easing": "linear"
              }
             }
            ],
            "label": "2017",
            "method": "animate"
           },
           {
            "args": [
             [
              "2018"
             ],
             {
              "frame": {
               "duration": 0,
               "redraw": true
              },
              "fromcurrent": true,
              "mode": "immediate",
              "transition": {
               "duration": 0,
               "easing": "linear"
              }
             }
            ],
            "label": "2018",
            "method": "animate"
           },
           {
            "args": [
             [
              "2019"
             ],
             {
              "frame": {
               "duration": 0,
               "redraw": true
              },
              "fromcurrent": true,
              "mode": "immediate",
              "transition": {
               "duration": 0,
               "easing": "linear"
              }
             }
            ],
            "label": "2019",
            "method": "animate"
           }
          ],
          "x": 0.1,
          "xanchor": "left",
          "y": 0,
          "yanchor": "top"
         }
        ],
        "template": {
         "data": {
          "bar": [
           {
            "error_x": {
             "color": "#2a3f5f"
            },
            "error_y": {
             "color": "#2a3f5f"
            },
            "marker": {
             "line": {
              "color": "#E5ECF6",
              "width": 0.5
             }
            },
            "type": "bar"
           }
          ],
          "barpolar": [
           {
            "marker": {
             "line": {
              "color": "#E5ECF6",
              "width": 0.5
             }
            },
            "type": "barpolar"
           }
          ],
          "carpet": [
           {
            "aaxis": {
             "endlinecolor": "#2a3f5f",
             "gridcolor": "white",
             "linecolor": "white",
             "minorgridcolor": "white",
             "startlinecolor": "#2a3f5f"
            },
            "baxis": {
             "endlinecolor": "#2a3f5f",
             "gridcolor": "white",
             "linecolor": "white",
             "minorgridcolor": "white",
             "startlinecolor": "#2a3f5f"
            },
            "type": "carpet"
           }
          ],
          "choropleth": [
           {
            "colorbar": {
             "outlinewidth": 0,
             "ticks": ""
            },
            "type": "choropleth"
           }
          ],
          "contour": [
           {
            "colorbar": {
             "outlinewidth": 0,
             "ticks": ""
            },
            "colorscale": [
             [
              0.0,
              "#0d0887"
             ],
             [
              0.1111111111111111,
              "#46039f"
             ],
             [
              0.2222222222222222,
              "#7201a8"
             ],
             [
              0.3333333333333333,
              "#9c179e"
             ],
             [
              0.4444444444444444,
              "#bd3786"
             ],
             [
              0.5555555555555556,
              "#d8576b"
             ],
             [
              0.6666666666666666,
              "#ed7953"
             ],
             [
              0.7777777777777778,
              "#fb9f3a"
             ],
             [
              0.8888888888888888,
              "#fdca26"
             ],
             [
              1.0,
              "#f0f921"
             ]
            ],
            "type": "contour"
           }
          ],
          "contourcarpet": [
           {
            "colorbar": {
             "outlinewidth": 0,
             "ticks": ""
            },
            "type": "contourcarpet"
           }
          ],
          "heatmap": [
           {
            "colorbar": {
             "outlinewidth": 0,
             "ticks": ""
            },
            "colorscale": [
             [
              0.0,
              "#0d0887"
             ],
             [
              0.1111111111111111,
              "#46039f"
             ],
             [
              0.2222222222222222,
              "#7201a8"
             ],
             [
              0.3333333333333333,
              "#9c179e"
             ],
             [
              0.4444444444444444,
              "#bd3786"
             ],
             [
              0.5555555555555556,
              "#d8576b"
             ],
             [
              0.6666666666666666,
              "#ed7953"
             ],
             [
              0.7777777777777778,
              "#fb9f3a"
             ],
             [
              0.8888888888888888,
              "#fdca26"
             ],
             [
              1.0,
              "#f0f921"
             ]
            ],
            "type": "heatmap"
           }
          ],
          "heatmapgl": [
           {
            "colorbar": {
             "outlinewidth": 0,
             "ticks": ""
            },
            "colorscale": [
             [
              0.0,
              "#0d0887"
             ],
             [
              0.1111111111111111,
              "#46039f"
             ],
             [
              0.2222222222222222,
              "#7201a8"
             ],
             [
              0.3333333333333333,
              "#9c179e"
             ],
             [
              0.4444444444444444,
              "#bd3786"
             ],
             [
              0.5555555555555556,
              "#d8576b"
             ],
             [
              0.6666666666666666,
              "#ed7953"
             ],
             [
              0.7777777777777778,
              "#fb9f3a"
             ],
             [
              0.8888888888888888,
              "#fdca26"
             ],
             [
              1.0,
              "#f0f921"
             ]
            ],
            "type": "heatmapgl"
           }
          ],
          "histogram": [
           {
            "marker": {
             "colorbar": {
              "outlinewidth": 0,
              "ticks": ""
             }
            },
            "type": "histogram"
           }
          ],
          "histogram2d": [
           {
            "colorbar": {
             "outlinewidth": 0,
             "ticks": ""
            },
            "colorscale": [
             [
              0.0,
              "#0d0887"
             ],
             [
              0.1111111111111111,
              "#46039f"
             ],
             [
              0.2222222222222222,
              "#7201a8"
             ],
             [
              0.3333333333333333,
              "#9c179e"
             ],
             [
              0.4444444444444444,
              "#bd3786"
             ],
             [
              0.5555555555555556,
              "#d8576b"
             ],
             [
              0.6666666666666666,
              "#ed7953"
             ],
             [
              0.7777777777777778,
              "#fb9f3a"
             ],
             [
              0.8888888888888888,
              "#fdca26"
             ],
             [
              1.0,
              "#f0f921"
             ]
            ],
            "type": "histogram2d"
           }
          ],
          "histogram2dcontour": [
           {
            "colorbar": {
             "outlinewidth": 0,
             "ticks": ""
            },
            "colorscale": [
             [
              0.0,
              "#0d0887"
             ],
             [
              0.1111111111111111,
              "#46039f"
             ],
             [
              0.2222222222222222,
              "#7201a8"
             ],
             [
              0.3333333333333333,
              "#9c179e"
             ],
             [
              0.4444444444444444,
              "#bd3786"
             ],
             [
              0.5555555555555556,
              "#d8576b"
             ],
             [
              0.6666666666666666,
              "#ed7953"
             ],
             [
              0.7777777777777778,
              "#fb9f3a"
             ],
             [
              0.8888888888888888,
              "#fdca26"
             ],
             [
              1.0,
              "#f0f921"
             ]
            ],
            "type": "histogram2dcontour"
           }
          ],
          "mesh3d": [
           {
            "colorbar": {
             "outlinewidth": 0,
             "ticks": ""
            },
            "type": "mesh3d"
           }
          ],
          "parcoords": [
           {
            "line": {
             "colorbar": {
              "outlinewidth": 0,
              "ticks": ""
             }
            },
            "type": "parcoords"
           }
          ],
          "pie": [
           {
            "automargin": true,
            "type": "pie"
           }
          ],
          "scatter": [
           {
            "marker": {
             "colorbar": {
              "outlinewidth": 0,
              "ticks": ""
             }
            },
            "type": "scatter"
           }
          ],
          "scatter3d": [
           {
            "line": {
             "colorbar": {
              "outlinewidth": 0,
              "ticks": ""
             }
            },
            "marker": {
             "colorbar": {
              "outlinewidth": 0,
              "ticks": ""
             }
            },
            "type": "scatter3d"
           }
          ],
          "scattercarpet": [
           {
            "marker": {
             "colorbar": {
              "outlinewidth": 0,
              "ticks": ""
             }
            },
            "type": "scattercarpet"
           }
          ],
          "scattergeo": [
           {
            "marker": {
             "colorbar": {
              "outlinewidth": 0,
              "ticks": ""
             }
            },
            "type": "scattergeo"
           }
          ],
          "scattergl": [
           {
            "marker": {
             "colorbar": {
              "outlinewidth": 0,
              "ticks": ""
             }
            },
            "type": "scattergl"
           }
          ],
          "scattermapbox": [
           {
            "marker": {
             "colorbar": {
              "outlinewidth": 0,
              "ticks": ""
             }
            },
            "type": "scattermapbox"
           }
          ],
          "scatterpolar": [
           {
            "marker": {
             "colorbar": {
              "outlinewidth": 0,
              "ticks": ""
             }
            },
            "type": "scatterpolar"
           }
          ],
          "scatterpolargl": [
           {
            "marker": {
             "colorbar": {
              "outlinewidth": 0,
              "ticks": ""
             }
            },
            "type": "scatterpolargl"
           }
          ],
          "scatterternary": [
           {
            "marker": {
             "colorbar": {
              "outlinewidth": 0,
              "ticks": ""
             }
            },
            "type": "scatterternary"
           }
          ],
          "surface": [
           {
            "colorbar": {
             "outlinewidth": 0,
             "ticks": ""
            },
            "colorscale": [
             [
              0.0,
              "#0d0887"
             ],
             [
              0.1111111111111111,
              "#46039f"
             ],
             [
              0.2222222222222222,
              "#7201a8"
             ],
             [
              0.3333333333333333,
              "#9c179e"
             ],
             [
              0.4444444444444444,
              "#bd3786"
             ],
             [
              0.5555555555555556,
              "#d8576b"
             ],
             [
              0.6666666666666666,
              "#ed7953"
             ],
             [
              0.7777777777777778,
              "#fb9f3a"
             ],
             [
              0.8888888888888888,
              "#fdca26"
             ],
             [
              1.0,
              "#f0f921"
             ]
            ],
            "type": "surface"
           }
          ],
          "table": [
           {
            "cells": {
             "fill": {
              "color": "#EBF0F8"
             },
             "line": {
              "color": "white"
             }
            },
            "header": {
             "fill": {
              "color": "#C8D4E3"
             },
             "line": {
              "color": "white"
             }
            },
            "type": "table"
           }
          ]
         },
         "layout": {
          "annotationdefaults": {
           "arrowcolor": "#2a3f5f",
           "arrowhead": 0,
           "arrowwidth": 1
          },
          "coloraxis": {
           "colorbar": {
            "outlinewidth": 0,
            "ticks": ""
           }
          },
          "colorscale": {
           "diverging": [
            [
             0,
             "#8e0152"
            ],
            [
             0.1,
             "#c51b7d"
            ],
            [
             0.2,
             "#de77ae"
            ],
            [
             0.3,
             "#f1b6da"
            ],
            [
             0.4,
             "#fde0ef"
            ],
            [
             0.5,
             "#f7f7f7"
            ],
            [
             0.6,
             "#e6f5d0"
            ],
            [
             0.7,
             "#b8e186"
            ],
            [
             0.8,
             "#7fbc41"
            ],
            [
             0.9,
             "#4d9221"
            ],
            [
             1,
             "#276419"
            ]
           ],
           "sequential": [
            [
             0.0,
             "#0d0887"
            ],
            [
             0.1111111111111111,
             "#46039f"
            ],
            [
             0.2222222222222222,
             "#7201a8"
            ],
            [
             0.3333333333333333,
             "#9c179e"
            ],
            [
             0.4444444444444444,
             "#bd3786"
            ],
            [
             0.5555555555555556,
             "#d8576b"
            ],
            [
             0.6666666666666666,
             "#ed7953"
            ],
            [
             0.7777777777777778,
             "#fb9f3a"
            ],
            [
             0.8888888888888888,
             "#fdca26"
            ],
            [
             1.0,
             "#f0f921"
            ]
           ],
           "sequentialminus": [
            [
             0.0,
             "#0d0887"
            ],
            [
             0.1111111111111111,
             "#46039f"
            ],
            [
             0.2222222222222222,
             "#7201a8"
            ],
            [
             0.3333333333333333,
             "#9c179e"
            ],
            [
             0.4444444444444444,
             "#bd3786"
            ],
            [
             0.5555555555555556,
             "#d8576b"
            ],
            [
             0.6666666666666666,
             "#ed7953"
            ],
            [
             0.7777777777777778,
             "#fb9f3a"
            ],
            [
             0.8888888888888888,
             "#fdca26"
            ],
            [
             1.0,
             "#f0f921"
            ]
           ]
          },
          "colorway": [
           "#636efa",
           "#EF553B",
           "#00cc96",
           "#ab63fa",
           "#FFA15A",
           "#19d3f3",
           "#FF6692",
           "#B6E880",
           "#FF97FF",
           "#FECB52"
          ],
          "font": {
           "color": "#2a3f5f"
          },
          "geo": {
           "bgcolor": "white",
           "lakecolor": "white",
           "landcolor": "#E5ECF6",
           "showlakes": true,
           "showland": true,
           "subunitcolor": "white"
          },
          "hoverlabel": {
           "align": "left"
          },
          "hovermode": "closest",
          "mapbox": {
           "style": "light"
          },
          "paper_bgcolor": "white",
          "plot_bgcolor": "#E5ECF6",
          "polar": {
           "angularaxis": {
            "gridcolor": "white",
            "linecolor": "white",
            "ticks": ""
           },
           "bgcolor": "#E5ECF6",
           "radialaxis": {
            "gridcolor": "white",
            "linecolor": "white",
            "ticks": ""
           }
          },
          "scene": {
           "xaxis": {
            "backgroundcolor": "#E5ECF6",
            "gridcolor": "white",
            "gridwidth": 2,
            "linecolor": "white",
            "showbackground": true,
            "ticks": "",
            "zerolinecolor": "white"
           },
           "yaxis": {
            "backgroundcolor": "#E5ECF6",
            "gridcolor": "white",
            "gridwidth": 2,
            "linecolor": "white",
            "showbackground": true,
            "ticks": "",
            "zerolinecolor": "white"
           },
           "zaxis": {
            "backgroundcolor": "#E5ECF6",
            "gridcolor": "white",
            "gridwidth": 2,
            "linecolor": "white",
            "showbackground": true,
            "ticks": "",
            "zerolinecolor": "white"
           }
          },
          "shapedefaults": {
           "line": {
            "color": "#2a3f5f"
           }
          },
          "ternary": {
           "aaxis": {
            "gridcolor": "white",
            "linecolor": "white",
            "ticks": ""
           },
           "baxis": {
            "gridcolor": "white",
            "linecolor": "white",
            "ticks": ""
           },
           "bgcolor": "#E5ECF6",
           "caxis": {
            "gridcolor": "white",
            "linecolor": "white",
            "ticks": ""
           }
          },
          "title": {
           "x": 0.05
          },
          "xaxis": {
           "automargin": true,
           "gridcolor": "white",
           "linecolor": "white",
           "ticks": "",
           "title": {
            "standoff": 15
           },
           "zerolinecolor": "white",
           "zerolinewidth": 2
          },
          "yaxis": {
           "automargin": true,
           "gridcolor": "white",
           "linecolor": "white",
           "ticks": "",
           "title": {
            "standoff": 15
           },
           "zerolinecolor": "white",
           "zerolinewidth": 2
          }
         }
        },
        "title": {
         "text": "Surface evolution/county 1990-2019 - Other surfaces"
        },
        "updatemenus": [
         {
          "buttons": [
           {
            "args": [
             null,
             {
              "frame": {
               "duration": 500,
               "redraw": true
              },
              "fromcurrent": true,
              "mode": "immediate",
              "transition": {
               "duration": 500,
               "easing": "linear"
              }
             }
            ],
            "label": "&#9654;",
            "method": "animate"
           },
           {
            "args": [
             [
              null
             ],
             {
              "frame": {
               "duration": 0,
               "redraw": true
              },
              "fromcurrent": true,
              "mode": "immediate",
              "transition": {
               "duration": 0,
               "easing": "linear"
              }
             }
            ],
            "label": "&#9724;",
            "method": "animate"
           }
          ],
          "direction": "left",
          "pad": {
           "r": 10,
           "t": 70
          },
          "showactive": false,
          "type": "buttons",
          "x": 0.1,
          "xanchor": "right",
          "y": 0,
          "yanchor": "top"
         }
        ],
        "width": 600,
        "xaxis": {
         "anchor": "y",
         "domain": [
          0.0,
          1.0
         ],
         "range": [
          0.1,
          15.6
         ],
         "title": {
          "text": "Value"
         }
        },
        "yaxis": {
         "anchor": "x",
         "domain": [
          0.0,
          1.0
         ],
         "title": {
          "text": "Region"
         }
        }
       }
      },
      "text/html": [
       "<div>                            <div id=\"4779210c-cc9c-45d7-9e0b-5b6bbc50b1af\" class=\"plotly-graph-div\" style=\"height:800px; width:600px;\"></div>            <script type=\"text/javascript\">                require([\"plotly\"], function(Plotly) {                    window.PLOTLYENV=window.PLOTLYENV || {};                                    if (document.getElementById(\"4779210c-cc9c-45d7-9e0b-5b6bbc50b1af\")) {                    Plotly.newPlot(                        \"4779210c-cc9c-45d7-9e0b-5b6bbc50b1af\",                        [{\"alignmentgroup\": \"True\", \"hovertemplate\": \"Year=1990<br>Value=%{x}<br>Region=%{y}<extra></extra>\", \"legendgroup\": \"\", \"marker\": {\"color\": \"#636efa\"}, \"name\": \"\", \"offsetgroup\": \"\", \"orientation\": \"h\", \"showlegend\": false, \"textposition\": \"auto\", \"type\": \"bar\", \"x\": [3.0, 1.6, 2.0, 4.7, 1.5, 0.8, 3.2, 2.5, 2.2, 3.2, 2.0, 2.3, 2.8, 1.0, 2.2, 3.7, 7.9, 1.0, 3.7, 2.0, 1.9, 1.7, 8.3, 4.4, 4.9, 0.9, 2.4, 1.0, 0.9, 2.3, 1.7, 0.9, 3.2, 3.9, 3.6, 2.1, 3.5, 3.5, 7.3, 4.9, 2.2], \"xaxis\": \"x\", \"y\": [\"Bihor\", \"Bistrita-Nasaud\", \"Cluj\", \"Maramures\", \"Satu Mare\", \"Salaj\", \"Alba\", \"Brasov\", \"Covasna\", \"Harghita\", \"Mures\", \"Sibiu\", \"Bacau\", \"Botosani\", \"Iasi\", \"Neamt\", \"Suceava\", \"Vaslui\", \"Braila\", \"Buzau\", \"Constanta\", \"Galati\", \"Tulcea\", \"Vrancea\", \"Arges\", \"Calarasi\", \"Dambovita\", \"Giurgiu\", \"Ialomita\", \"Prahova\", \"Teleorman\", \"Ilfov\", \"Dolj\", \"Gorj\", \"Mehedinti\", \"Olt\", \"Valcea\", \"Arad\", \"Caras-Severin\", \"Hunedoara\", \"Timis\"], \"yaxis\": \"y\"}],                        {\"barmode\": \"relative\", \"font\": {\"color\": \"#7f7f7f\", \"family\": \"Courier New, monospace\", \"size\": 10}, \"height\": 800, \"legend\": {\"tracegroupgap\": 0}, \"sliders\": [{\"active\": 0, \"currentvalue\": {\"prefix\": \"Year=\"}, \"len\": 0.9, \"pad\": {\"b\": 10, \"t\": 60}, \"steps\": [{\"args\": [[\"1990\"], {\"frame\": {\"duration\": 0, \"redraw\": true}, \"fromcurrent\": true, \"mode\": \"immediate\", \"transition\": {\"duration\": 0, \"easing\": \"linear\"}}], \"label\": \"1990\", \"method\": \"animate\"}, {\"args\": [[\"1991\"], {\"frame\": {\"duration\": 0, \"redraw\": true}, \"fromcurrent\": true, \"mode\": \"immediate\", \"transition\": {\"duration\": 0, \"easing\": \"linear\"}}], \"label\": \"1991\", \"method\": \"animate\"}, {\"args\": [[\"1992\"], {\"frame\": {\"duration\": 0, \"redraw\": true}, \"fromcurrent\": true, \"mode\": \"immediate\", \"transition\": {\"duration\": 0, \"easing\": \"linear\"}}], \"label\": \"1992\", \"method\": \"animate\"}, {\"args\": [[\"1993\"], {\"frame\": {\"duration\": 0, \"redraw\": true}, \"fromcurrent\": true, \"mode\": \"immediate\", \"transition\": {\"duration\": 0, \"easing\": \"linear\"}}], \"label\": \"1993\", \"method\": \"animate\"}, {\"args\": [[\"1994\"], {\"frame\": {\"duration\": 0, \"redraw\": true}, \"fromcurrent\": true, \"mode\": \"immediate\", \"transition\": {\"duration\": 0, \"easing\": \"linear\"}}], \"label\": \"1994\", \"method\": \"animate\"}, {\"args\": [[\"1995\"], {\"frame\": {\"duration\": 0, \"redraw\": true}, \"fromcurrent\": true, \"mode\": \"immediate\", \"transition\": {\"duration\": 0, \"easing\": \"linear\"}}], \"label\": \"1995\", \"method\": \"animate\"}, {\"args\": [[\"1996\"], {\"frame\": {\"duration\": 0, \"redraw\": true}, \"fromcurrent\": true, \"mode\": \"immediate\", \"transition\": {\"duration\": 0, \"easing\": \"linear\"}}], \"label\": \"1996\", \"method\": \"animate\"}, {\"args\": [[\"1997\"], {\"frame\": {\"duration\": 0, \"redraw\": true}, \"fromcurrent\": true, \"mode\": \"immediate\", \"transition\": {\"duration\": 0, \"easing\": \"linear\"}}], \"label\": \"1997\", \"method\": \"animate\"}, {\"args\": [[\"1998\"], {\"frame\": {\"duration\": 0, \"redraw\": true}, \"fromcurrent\": true, \"mode\": \"immediate\", \"transition\": {\"duration\": 0, \"easing\": \"linear\"}}], \"label\": \"1998\", \"method\": \"animate\"}, {\"args\": [[\"1999\"], {\"frame\": {\"duration\": 0, \"redraw\": true}, \"fromcurrent\": true, \"mode\": \"immediate\", \"transition\": {\"duration\": 0, \"easing\": \"linear\"}}], \"label\": \"1999\", \"method\": \"animate\"}, {\"args\": [[\"2000\"], {\"frame\": {\"duration\": 0, \"redraw\": true}, \"fromcurrent\": true, \"mode\": \"immediate\", \"transition\": {\"duration\": 0, \"easing\": \"linear\"}}], \"label\": \"2000\", \"method\": \"animate\"}, {\"args\": [[\"2001\"], {\"frame\": {\"duration\": 0, \"redraw\": true}, \"fromcurrent\": true, \"mode\": \"immediate\", \"transition\": {\"duration\": 0, \"easing\": \"linear\"}}], \"label\": \"2001\", \"method\": \"animate\"}, {\"args\": [[\"2002\"], {\"frame\": {\"duration\": 0, \"redraw\": true}, \"fromcurrent\": true, \"mode\": \"immediate\", \"transition\": {\"duration\": 0, \"easing\": \"linear\"}}], \"label\": \"2002\", \"method\": \"animate\"}, {\"args\": [[\"2003\"], {\"frame\": {\"duration\": 0, \"redraw\": true}, \"fromcurrent\": true, \"mode\": \"immediate\", \"transition\": {\"duration\": 0, \"easing\": \"linear\"}}], \"label\": \"2003\", \"method\": \"animate\"}, {\"args\": [[\"2004\"], {\"frame\": {\"duration\": 0, \"redraw\": true}, \"fromcurrent\": true, \"mode\": \"immediate\", \"transition\": {\"duration\": 0, \"easing\": \"linear\"}}], \"label\": \"2004\", \"method\": \"animate\"}, {\"args\": [[\"2005\"], {\"frame\": {\"duration\": 0, \"redraw\": true}, \"fromcurrent\": true, \"mode\": \"immediate\", \"transition\": {\"duration\": 0, \"easing\": \"linear\"}}], \"label\": \"2005\", \"method\": \"animate\"}, {\"args\": [[\"2006\"], {\"frame\": {\"duration\": 0, \"redraw\": true}, \"fromcurrent\": true, \"mode\": \"immediate\", \"transition\": {\"duration\": 0, \"easing\": \"linear\"}}], \"label\": \"2006\", \"method\": \"animate\"}, {\"args\": [[\"2007\"], {\"frame\": {\"duration\": 0, \"redraw\": true}, \"fromcurrent\": true, \"mode\": \"immediate\", \"transition\": {\"duration\": 0, \"easing\": \"linear\"}}], \"label\": \"2007\", \"method\": \"animate\"}, {\"args\": [[\"2008\"], {\"frame\": {\"duration\": 0, \"redraw\": true}, \"fromcurrent\": true, \"mode\": \"immediate\", \"transition\": {\"duration\": 0, \"easing\": \"linear\"}}], \"label\": \"2008\", \"method\": \"animate\"}, {\"args\": [[\"2009\"], {\"frame\": {\"duration\": 0, \"redraw\": true}, \"fromcurrent\": true, \"mode\": \"immediate\", \"transition\": {\"duration\": 0, \"easing\": \"linear\"}}], \"label\": \"2009\", \"method\": \"animate\"}, {\"args\": [[\"2010\"], {\"frame\": {\"duration\": 0, \"redraw\": true}, \"fromcurrent\": true, \"mode\": \"immediate\", \"transition\": {\"duration\": 0, \"easing\": \"linear\"}}], \"label\": \"2010\", \"method\": \"animate\"}, {\"args\": [[\"2011\"], {\"frame\": {\"duration\": 0, \"redraw\": true}, \"fromcurrent\": true, \"mode\": \"immediate\", \"transition\": {\"duration\": 0, \"easing\": \"linear\"}}], \"label\": \"2011\", \"method\": \"animate\"}, {\"args\": [[\"2012\"], {\"frame\": {\"duration\": 0, \"redraw\": true}, \"fromcurrent\": true, \"mode\": \"immediate\", \"transition\": {\"duration\": 0, \"easing\": \"linear\"}}], \"label\": \"2012\", \"method\": \"animate\"}, {\"args\": [[\"2013\"], {\"frame\": {\"duration\": 0, \"redraw\": true}, \"fromcurrent\": true, \"mode\": \"immediate\", \"transition\": {\"duration\": 0, \"easing\": \"linear\"}}], \"label\": \"2013\", \"method\": \"animate\"}, {\"args\": [[\"2014\"], {\"frame\": {\"duration\": 0, \"redraw\": true}, \"fromcurrent\": true, \"mode\": \"immediate\", \"transition\": {\"duration\": 0, \"easing\": \"linear\"}}], \"label\": \"2014\", \"method\": \"animate\"}, {\"args\": [[\"2015\"], {\"frame\": {\"duration\": 0, \"redraw\": true}, \"fromcurrent\": true, \"mode\": \"immediate\", \"transition\": {\"duration\": 0, \"easing\": \"linear\"}}], \"label\": \"2015\", \"method\": \"animate\"}, {\"args\": [[\"2016\"], {\"frame\": {\"duration\": 0, \"redraw\": true}, \"fromcurrent\": true, \"mode\": \"immediate\", \"transition\": {\"duration\": 0, \"easing\": \"linear\"}}], \"label\": \"2016\", \"method\": \"animate\"}, {\"args\": [[\"2017\"], {\"frame\": {\"duration\": 0, \"redraw\": true}, \"fromcurrent\": true, \"mode\": \"immediate\", \"transition\": {\"duration\": 0, \"easing\": \"linear\"}}], \"label\": \"2017\", \"method\": \"animate\"}, {\"args\": [[\"2018\"], {\"frame\": {\"duration\": 0, \"redraw\": true}, \"fromcurrent\": true, \"mode\": \"immediate\", \"transition\": {\"duration\": 0, \"easing\": \"linear\"}}], \"label\": \"2018\", \"method\": \"animate\"}, {\"args\": [[\"2019\"], {\"frame\": {\"duration\": 0, \"redraw\": true}, \"fromcurrent\": true, \"mode\": \"immediate\", \"transition\": {\"duration\": 0, \"easing\": \"linear\"}}], \"label\": \"2019\", \"method\": \"animate\"}], \"x\": 0.1, \"xanchor\": \"left\", \"y\": 0, \"yanchor\": \"top\"}], \"template\": {\"data\": {\"bar\": [{\"error_x\": {\"color\": \"#2a3f5f\"}, \"error_y\": {\"color\": \"#2a3f5f\"}, \"marker\": {\"line\": {\"color\": \"#E5ECF6\", \"width\": 0.5}}, \"type\": \"bar\"}], \"barpolar\": [{\"marker\": {\"line\": {\"color\": \"#E5ECF6\", \"width\": 0.5}}, \"type\": \"barpolar\"}], \"carpet\": [{\"aaxis\": {\"endlinecolor\": \"#2a3f5f\", \"gridcolor\": \"white\", \"linecolor\": \"white\", \"minorgridcolor\": \"white\", \"startlinecolor\": \"#2a3f5f\"}, \"baxis\": {\"endlinecolor\": \"#2a3f5f\", \"gridcolor\": \"white\", \"linecolor\": \"white\", \"minorgridcolor\": \"white\", \"startlinecolor\": \"#2a3f5f\"}, \"type\": \"carpet\"}], \"choropleth\": [{\"colorbar\": {\"outlinewidth\": 0, \"ticks\": \"\"}, \"type\": \"choropleth\"}], \"contour\": [{\"colorbar\": {\"outlinewidth\": 0, \"ticks\": \"\"}, \"colorscale\": [[0.0, \"#0d0887\"], [0.1111111111111111, \"#46039f\"], [0.2222222222222222, \"#7201a8\"], [0.3333333333333333, \"#9c179e\"], [0.4444444444444444, \"#bd3786\"], [0.5555555555555556, \"#d8576b\"], [0.6666666666666666, \"#ed7953\"], [0.7777777777777778, \"#fb9f3a\"], [0.8888888888888888, \"#fdca26\"], [1.0, \"#f0f921\"]], \"type\": \"contour\"}], \"contourcarpet\": [{\"colorbar\": {\"outlinewidth\": 0, \"ticks\": \"\"}, \"type\": \"contourcarpet\"}], \"heatmap\": [{\"colorbar\": {\"outlinewidth\": 0, \"ticks\": \"\"}, \"colorscale\": [[0.0, \"#0d0887\"], [0.1111111111111111, \"#46039f\"], [0.2222222222222222, \"#7201a8\"], [0.3333333333333333, \"#9c179e\"], [0.4444444444444444, \"#bd3786\"], [0.5555555555555556, \"#d8576b\"], [0.6666666666666666, \"#ed7953\"], [0.7777777777777778, \"#fb9f3a\"], [0.8888888888888888, \"#fdca26\"], [1.0, \"#f0f921\"]], \"type\": \"heatmap\"}], \"heatmapgl\": [{\"colorbar\": {\"outlinewidth\": 0, \"ticks\": \"\"}, \"colorscale\": [[0.0, \"#0d0887\"], [0.1111111111111111, \"#46039f\"], [0.2222222222222222, \"#7201a8\"], [0.3333333333333333, \"#9c179e\"], [0.4444444444444444, \"#bd3786\"], [0.5555555555555556, \"#d8576b\"], [0.6666666666666666, \"#ed7953\"], [0.7777777777777778, \"#fb9f3a\"], [0.8888888888888888, \"#fdca26\"], [1.0, \"#f0f921\"]], \"type\": \"heatmapgl\"}], \"histogram\": [{\"marker\": {\"colorbar\": {\"outlinewidth\": 0, \"ticks\": \"\"}}, \"type\": \"histogram\"}], \"histogram2d\": [{\"colorbar\": {\"outlinewidth\": 0, \"ticks\": \"\"}, \"colorscale\": [[0.0, \"#0d0887\"], [0.1111111111111111, \"#46039f\"], [0.2222222222222222, \"#7201a8\"], [0.3333333333333333, \"#9c179e\"], [0.4444444444444444, \"#bd3786\"], [0.5555555555555556, \"#d8576b\"], [0.6666666666666666, \"#ed7953\"], [0.7777777777777778, \"#fb9f3a\"], [0.8888888888888888, \"#fdca26\"], [1.0, \"#f0f921\"]], \"type\": \"histogram2d\"}], \"histogram2dcontour\": [{\"colorbar\": {\"outlinewidth\": 0, \"ticks\": \"\"}, \"colorscale\": [[0.0, \"#0d0887\"], [0.1111111111111111, \"#46039f\"], [0.2222222222222222, \"#7201a8\"], [0.3333333333333333, \"#9c179e\"], [0.4444444444444444, \"#bd3786\"], [0.5555555555555556, \"#d8576b\"], [0.6666666666666666, \"#ed7953\"], [0.7777777777777778, \"#fb9f3a\"], [0.8888888888888888, \"#fdca26\"], [1.0, \"#f0f921\"]], \"type\": \"histogram2dcontour\"}], \"mesh3d\": [{\"colorbar\": {\"outlinewidth\": 0, \"ticks\": \"\"}, \"type\": \"mesh3d\"}], \"parcoords\": [{\"line\": {\"colorbar\": {\"outlinewidth\": 0, \"ticks\": \"\"}}, \"type\": \"parcoords\"}], \"pie\": [{\"automargin\": true, \"type\": \"pie\"}], \"scatter\": [{\"marker\": {\"colorbar\": {\"outlinewidth\": 0, \"ticks\": \"\"}}, \"type\": \"scatter\"}], \"scatter3d\": [{\"line\": {\"colorbar\": {\"outlinewidth\": 0, \"ticks\": \"\"}}, \"marker\": {\"colorbar\": {\"outlinewidth\": 0, \"ticks\": \"\"}}, \"type\": \"scatter3d\"}], \"scattercarpet\": [{\"marker\": {\"colorbar\": {\"outlinewidth\": 0, \"ticks\": \"\"}}, \"type\": \"scattercarpet\"}], \"scattergeo\": [{\"marker\": {\"colorbar\": {\"outlinewidth\": 0, \"ticks\": \"\"}}, \"type\": \"scattergeo\"}], \"scattergl\": [{\"marker\": {\"colorbar\": {\"outlinewidth\": 0, \"ticks\": \"\"}}, \"type\": \"scattergl\"}], \"scattermapbox\": [{\"marker\": {\"colorbar\": {\"outlinewidth\": 0, \"ticks\": \"\"}}, \"type\": \"scattermapbox\"}], \"scatterpolar\": [{\"marker\": {\"colorbar\": {\"outlinewidth\": 0, \"ticks\": \"\"}}, \"type\": \"scatterpolar\"}], \"scatterpolargl\": [{\"marker\": {\"colorbar\": {\"outlinewidth\": 0, \"ticks\": \"\"}}, \"type\": \"scatterpolargl\"}], \"scatterternary\": [{\"marker\": {\"colorbar\": {\"outlinewidth\": 0, \"ticks\": \"\"}}, \"type\": \"scatterternary\"}], \"surface\": [{\"colorbar\": {\"outlinewidth\": 0, \"ticks\": \"\"}, \"colorscale\": [[0.0, \"#0d0887\"], [0.1111111111111111, \"#46039f\"], [0.2222222222222222, \"#7201a8\"], [0.3333333333333333, \"#9c179e\"], [0.4444444444444444, \"#bd3786\"], [0.5555555555555556, \"#d8576b\"], [0.6666666666666666, \"#ed7953\"], [0.7777777777777778, \"#fb9f3a\"], [0.8888888888888888, \"#fdca26\"], [1.0, \"#f0f921\"]], \"type\": \"surface\"}], \"table\": [{\"cells\": {\"fill\": {\"color\": \"#EBF0F8\"}, \"line\": {\"color\": \"white\"}}, \"header\": {\"fill\": {\"color\": \"#C8D4E3\"}, \"line\": {\"color\": \"white\"}}, \"type\": \"table\"}]}, \"layout\": {\"annotationdefaults\": {\"arrowcolor\": \"#2a3f5f\", \"arrowhead\": 0, \"arrowwidth\": 1}, \"coloraxis\": {\"colorbar\": {\"outlinewidth\": 0, \"ticks\": \"\"}}, \"colorscale\": {\"diverging\": [[0, \"#8e0152\"], [0.1, \"#c51b7d\"], [0.2, \"#de77ae\"], [0.3, \"#f1b6da\"], [0.4, \"#fde0ef\"], [0.5, \"#f7f7f7\"], [0.6, \"#e6f5d0\"], [0.7, \"#b8e186\"], [0.8, \"#7fbc41\"], [0.9, \"#4d9221\"], [1, \"#276419\"]], \"sequential\": [[0.0, \"#0d0887\"], [0.1111111111111111, \"#46039f\"], [0.2222222222222222, \"#7201a8\"], [0.3333333333333333, \"#9c179e\"], [0.4444444444444444, \"#bd3786\"], [0.5555555555555556, \"#d8576b\"], [0.6666666666666666, \"#ed7953\"], [0.7777777777777778, \"#fb9f3a\"], [0.8888888888888888, \"#fdca26\"], [1.0, \"#f0f921\"]], \"sequentialminus\": [[0.0, \"#0d0887\"], [0.1111111111111111, \"#46039f\"], [0.2222222222222222, \"#7201a8\"], [0.3333333333333333, \"#9c179e\"], [0.4444444444444444, \"#bd3786\"], [0.5555555555555556, \"#d8576b\"], [0.6666666666666666, \"#ed7953\"], [0.7777777777777778, \"#fb9f3a\"], [0.8888888888888888, \"#fdca26\"], [1.0, \"#f0f921\"]]}, \"colorway\": [\"#636efa\", \"#EF553B\", \"#00cc96\", \"#ab63fa\", \"#FFA15A\", \"#19d3f3\", \"#FF6692\", \"#B6E880\", \"#FF97FF\", \"#FECB52\"], \"font\": {\"color\": \"#2a3f5f\"}, \"geo\": {\"bgcolor\": \"white\", \"lakecolor\": \"white\", \"landcolor\": \"#E5ECF6\", \"showlakes\": true, \"showland\": true, \"subunitcolor\": \"white\"}, \"hoverlabel\": {\"align\": \"left\"}, \"hovermode\": \"closest\", \"mapbox\": {\"style\": \"light\"}, \"paper_bgcolor\": \"white\", \"plot_bgcolor\": \"#E5ECF6\", \"polar\": {\"angularaxis\": {\"gridcolor\": \"white\", \"linecolor\": \"white\", \"ticks\": \"\"}, \"bgcolor\": \"#E5ECF6\", \"radialaxis\": {\"gridcolor\": \"white\", \"linecolor\": \"white\", \"ticks\": \"\"}}, \"scene\": {\"xaxis\": {\"backgroundcolor\": \"#E5ECF6\", \"gridcolor\": \"white\", \"gridwidth\": 2, \"linecolor\": \"white\", \"showbackground\": true, \"ticks\": \"\", \"zerolinecolor\": \"white\"}, \"yaxis\": {\"backgroundcolor\": \"#E5ECF6\", \"gridcolor\": \"white\", \"gridwidth\": 2, \"linecolor\": \"white\", \"showbackground\": true, \"ticks\": \"\", \"zerolinecolor\": \"white\"}, \"zaxis\": {\"backgroundcolor\": \"#E5ECF6\", \"gridcolor\": \"white\", \"gridwidth\": 2, \"linecolor\": \"white\", \"showbackground\": true, \"ticks\": \"\", \"zerolinecolor\": \"white\"}}, \"shapedefaults\": {\"line\": {\"color\": \"#2a3f5f\"}}, \"ternary\": {\"aaxis\": {\"gridcolor\": \"white\", \"linecolor\": \"white\", \"ticks\": \"\"}, \"baxis\": {\"gridcolor\": \"white\", \"linecolor\": \"white\", \"ticks\": \"\"}, \"bgcolor\": \"#E5ECF6\", \"caxis\": {\"gridcolor\": \"white\", \"linecolor\": \"white\", \"ticks\": \"\"}}, \"title\": {\"x\": 0.05}, \"xaxis\": {\"automargin\": true, \"gridcolor\": \"white\", \"linecolor\": \"white\", \"ticks\": \"\", \"title\": {\"standoff\": 15}, \"zerolinecolor\": \"white\", \"zerolinewidth\": 2}, \"yaxis\": {\"automargin\": true, \"gridcolor\": \"white\", \"linecolor\": \"white\", \"ticks\": \"\", \"title\": {\"standoff\": 15}, \"zerolinecolor\": \"white\", \"zerolinewidth\": 2}}}, \"title\": {\"text\": \"Surface evolution/county 1990-2019 - Other surfaces\"}, \"updatemenus\": [{\"buttons\": [{\"args\": [null, {\"frame\": {\"duration\": 500, \"redraw\": true}, \"fromcurrent\": true, \"mode\": \"immediate\", \"transition\": {\"duration\": 500, \"easing\": \"linear\"}}], \"label\": \"&#9654;\", \"method\": \"animate\"}, {\"args\": [[null], {\"frame\": {\"duration\": 0, \"redraw\": true}, \"fromcurrent\": true, \"mode\": \"immediate\", \"transition\": {\"duration\": 0, \"easing\": \"linear\"}}], \"label\": \"&#9724;\", \"method\": \"animate\"}], \"direction\": \"left\", \"pad\": {\"r\": 10, \"t\": 70}, \"showactive\": false, \"type\": \"buttons\", \"x\": 0.1, \"xanchor\": \"right\", \"y\": 0, \"yanchor\": \"top\"}], \"width\": 600, \"xaxis\": {\"anchor\": \"y\", \"domain\": [0.0, 1.0], \"range\": [0.1, 15.6], \"title\": {\"text\": \"Value\"}}, \"yaxis\": {\"anchor\": \"x\", \"domain\": [0.0, 1.0], \"title\": {\"text\": \"Region\"}}},                        {\"responsive\": true}                    ).then(function(){\n",
       "                            Plotly.addFrames('4779210c-cc9c-45d7-9e0b-5b6bbc50b1af', [{\"data\": [{\"alignmentgroup\": \"True\", \"hovertemplate\": \"Year=1990<br>Value=%{x}<br>Region=%{y}<extra></extra>\", \"legendgroup\": \"\", \"marker\": {\"color\": \"#636efa\"}, \"name\": \"\", \"offsetgroup\": \"\", \"orientation\": \"h\", \"showlegend\": false, \"textposition\": \"auto\", \"x\": [3.0, 1.6, 2.0, 4.7, 1.5, 0.8, 3.2, 2.5, 2.2, 3.2, 2.0, 2.3, 2.8, 1.0, 2.2, 3.7, 7.9, 1.0, 3.7, 2.0, 1.9, 1.7, 8.3, 4.4, 4.9, 0.9, 2.4, 1.0, 0.9, 2.3, 1.7, 0.9, 3.2, 3.9, 3.6, 2.1, 3.5, 3.5, 7.3, 4.9, 2.2], \"xaxis\": \"x\", \"y\": [\"Bihor\", \"Bistrita-Nasaud\", \"Cluj\", \"Maramures\", \"Satu Mare\", \"Salaj\", \"Alba\", \"Brasov\", \"Covasna\", \"Harghita\", \"Mures\", \"Sibiu\", \"Bacau\", \"Botosani\", \"Iasi\", \"Neamt\", \"Suceava\", \"Vaslui\", \"Braila\", \"Buzau\", \"Constanta\", \"Galati\", \"Tulcea\", \"Vrancea\", \"Arges\", \"Calarasi\", \"Dambovita\", \"Giurgiu\", \"Ialomita\", \"Prahova\", \"Teleorman\", \"Ilfov\", \"Dolj\", \"Gorj\", \"Mehedinti\", \"Olt\", \"Valcea\", \"Arad\", \"Caras-Severin\", \"Hunedoara\", \"Timis\"], \"yaxis\": \"y\", \"type\": \"bar\"}], \"name\": \"1990\"}, {\"data\": [{\"alignmentgroup\": \"True\", \"hovertemplate\": \"Year=1991<br>Value=%{x}<br>Region=%{y}<extra></extra>\", \"legendgroup\": \"\", \"marker\": {\"color\": \"#636efa\"}, \"name\": \"\", \"offsetgroup\": \"\", \"orientation\": \"h\", \"showlegend\": false, \"textposition\": \"auto\", \"x\": [3.2, 1.5, 1.9, 4.4, 1.5, 1.0, 3.2, 2.3, 2.0, 3.3, 1.8, 2.2, 2.6, 0.9, 1.7, 3.4, 7.3, 1.1, 3.8, 2.0, 2.0, 1.5, 7.8, 4.3, 4.9, 0.8, 2.4, 1.3, 0.9, 2.2, 1.4, 0.6, 2.9, 3.6, 3.5, 2.2, 3.5, 3.3, 7.0, 4.8, 2.2], \"xaxis\": \"x\", \"y\": [\"Bihor\", \"Bistrita-Nasaud\", \"Cluj\", \"Maramures\", \"Satu Mare\", \"Salaj\", \"Alba\", \"Brasov\", \"Covasna\", \"Harghita\", \"Mures\", \"Sibiu\", \"Bacau\", \"Botosani\", \"Iasi\", \"Neamt\", \"Suceava\", \"Vaslui\", \"Braila\", \"Buzau\", \"Constanta\", \"Galati\", \"Tulcea\", \"Vrancea\", \"Arges\", \"Calarasi\", \"Dambovita\", \"Giurgiu\", \"Ialomita\", \"Prahova\", \"Teleorman\", \"Ilfov\", \"Dolj\", \"Gorj\", \"Mehedinti\", \"Olt\", \"Valcea\", \"Arad\", \"Caras-Severin\", \"Hunedoara\", \"Timis\"], \"yaxis\": \"y\", \"type\": \"bar\"}], \"name\": \"1991\"}, {\"data\": [{\"alignmentgroup\": \"True\", \"hovertemplate\": \"Year=1992<br>Value=%{x}<br>Region=%{y}<extra></extra>\", \"legendgroup\": \"\", \"marker\": {\"color\": \"#636efa\"}, \"name\": \"\", \"offsetgroup\": \"\", \"orientation\": \"h\", \"showlegend\": false, \"textposition\": \"auto\", \"x\": [3.2, 1.5, 1.8, 4.4, 1.5, 1.0, 3.4, 2.1, 1.9, 3.3, 1.8, 2.1, 2.8, 1.0, 1.8, 3.1, 7.3, 1.2, 3.9, 2.0, 2.1, 1.6, 7.7, 3.5, 4.9, 0.8, 2.3, 1.3, 1.0, 2.2, 1.6, 0.9, 3.5, 3.8, 3.7, 2.4, 3.3, 3.2, 7.0, 4.8, 2.0], \"xaxis\": \"x\", \"y\": [\"Bihor\", \"Bistrita-Nasaud\", \"Cluj\", \"Maramures\", \"Satu Mare\", \"Salaj\", \"Alba\", \"Brasov\", \"Covasna\", \"Harghita\", \"Mures\", \"Sibiu\", \"Bacau\", \"Botosani\", \"Iasi\", \"Neamt\", \"Suceava\", \"Vaslui\", \"Braila\", \"Buzau\", \"Constanta\", \"Galati\", \"Tulcea\", \"Vrancea\", \"Arges\", \"Calarasi\", \"Dambovita\", \"Giurgiu\", \"Ialomita\", \"Prahova\", \"Teleorman\", \"Ilfov\", \"Dolj\", \"Gorj\", \"Mehedinti\", \"Olt\", \"Valcea\", \"Arad\", \"Caras-Severin\", \"Hunedoara\", \"Timis\"], \"yaxis\": \"y\", \"type\": \"bar\"}], \"name\": \"1992\"}, {\"data\": [{\"alignmentgroup\": \"True\", \"hovertemplate\": \"Year=1993<br>Value=%{x}<br>Region=%{y}<extra></extra>\", \"legendgroup\": \"\", \"marker\": {\"color\": \"#636efa\"}, \"name\": \"\", \"offsetgroup\": \"\", \"orientation\": \"h\", \"showlegend\": false, \"textposition\": \"auto\", \"x\": [3.2, 1.6, 1.8, 4.6, 1.4, 0.9, 3.2, 2.0, 1.8, 3.2, 1.9, 2.1, 2.6, 1.1, 1.6, 3.3, 7.1, 1.2, 4.5, 2.0, 2.9, 1.5, 8.0, 3.9, 4.8, 1.0, 2.3, 1.8, 1.2, 2.4, 2.6, 1.3, 3.9, 3.7, 2.7, 2.7, 3.5, 3.3, 6.4, 4.7, 2.0], \"xaxis\": \"x\", \"y\": [\"Bihor\", \"Bistrita-Nasaud\", \"Cluj\", \"Maramures\", \"Satu Mare\", \"Salaj\", \"Alba\", \"Brasov\", \"Covasna\", \"Harghita\", \"Mures\", \"Sibiu\", \"Bacau\", \"Botosani\", \"Iasi\", \"Neamt\", \"Suceava\", \"Vaslui\", \"Braila\", \"Buzau\", \"Constanta\", \"Galati\", \"Tulcea\", \"Vrancea\", \"Arges\", \"Calarasi\", \"Dambovita\", \"Giurgiu\", \"Ialomita\", \"Prahova\", \"Teleorman\", \"Ilfov\", \"Dolj\", \"Gorj\", \"Mehedinti\", \"Olt\", \"Valcea\", \"Arad\", \"Caras-Severin\", \"Hunedoara\", \"Timis\"], \"yaxis\": \"y\", \"type\": \"bar\"}], \"name\": \"1993\"}, {\"data\": [{\"alignmentgroup\": \"True\", \"hovertemplate\": \"Year=1994<br>Value=%{x}<br>Region=%{y}<extra></extra>\", \"legendgroup\": \"\", \"marker\": {\"color\": \"#636efa\"}, \"name\": \"\", \"offsetgroup\": \"\", \"orientation\": \"h\", \"showlegend\": false, \"textposition\": \"auto\", \"x\": [3.1, 2.9, 1.8, 4.5, 3.5, 1.0, 3.3, 2.2, 1.8, 3.2, 1.8, 1.9, 3.3, 1.3, 1.9, 3.1, 6.8, 1.3, 6.0, 2.3, 2.7, 1.4, 8.1, 3.9, 5.0, 1.0, 2.9, 2.2, 1.5, 3.2, 2.1, 1.4, 3.7, 3.5, 2.7, 2.0, 3.2, 3.2, 5.9, 4.5, 2.1], \"xaxis\": \"x\", \"y\": [\"Bihor\", \"Bistrita-Nasaud\", \"Cluj\", \"Maramures\", \"Satu Mare\", \"Salaj\", \"Alba\", \"Brasov\", \"Covasna\", \"Harghita\", \"Mures\", \"Sibiu\", \"Bacau\", \"Botosani\", \"Iasi\", \"Neamt\", \"Suceava\", \"Vaslui\", \"Braila\", \"Buzau\", \"Constanta\", \"Galati\", \"Tulcea\", \"Vrancea\", \"Arges\", \"Calarasi\", \"Dambovita\", \"Giurgiu\", \"Ialomita\", \"Prahova\", \"Teleorman\", \"Ilfov\", \"Dolj\", \"Gorj\", \"Mehedinti\", \"Olt\", \"Valcea\", \"Arad\", \"Caras-Severin\", \"Hunedoara\", \"Timis\"], \"yaxis\": \"y\", \"type\": \"bar\"}], \"name\": \"1994\"}, {\"data\": [{\"alignmentgroup\": \"True\", \"hovertemplate\": \"Year=1995<br>Value=%{x}<br>Region=%{y}<extra></extra>\", \"legendgroup\": \"\", \"marker\": {\"color\": \"#636efa\"}, \"name\": \"\", \"offsetgroup\": \"\", \"orientation\": \"h\", \"showlegend\": false, \"textposition\": \"auto\", \"x\": [3.2, 3.0, 1.7, 4.4, 3.3, 0.9, 3.2, 2.4, 2.0, 3.1, 1.5, 2.0, 3.6, 1.4, 1.7, 3.3, 6.9, 1.4, 6.2, 2.4, 2.7, 1.9, 8.0, 3.6, 4.9, 0.9, 3.0, 2.2, 1.2, 3.3, 2.2, 1.4, 3.6, 3.6, 2.7, 2.0, 3.3, 3.3, 6.1, 4.5, 2.1], \"xaxis\": \"x\", \"y\": [\"Bihor\", \"Bistrita-Nasaud\", \"Cluj\", \"Maramures\", \"Satu Mare\", \"Salaj\", \"Alba\", \"Brasov\", \"Covasna\", \"Harghita\", \"Mures\", \"Sibiu\", \"Bacau\", \"Botosani\", \"Iasi\", \"Neamt\", \"Suceava\", \"Vaslui\", \"Braila\", \"Buzau\", \"Constanta\", \"Galati\", \"Tulcea\", \"Vrancea\", \"Arges\", \"Calarasi\", \"Dambovita\", \"Giurgiu\", \"Ialomita\", \"Prahova\", \"Teleorman\", \"Ilfov\", \"Dolj\", \"Gorj\", \"Mehedinti\", \"Olt\", \"Valcea\", \"Arad\", \"Caras-Severin\", \"Hunedoara\", \"Timis\"], \"yaxis\": \"y\", \"type\": \"bar\"}], \"name\": \"1995\"}, {\"data\": [{\"alignmentgroup\": \"True\", \"hovertemplate\": \"Year=1996<br>Value=%{x}<br>Region=%{y}<extra></extra>\", \"legendgroup\": \"\", \"marker\": {\"color\": \"#636efa\"}, \"name\": \"\", \"offsetgroup\": \"\", \"orientation\": \"h\", \"showlegend\": false, \"textposition\": \"auto\", \"x\": [3.2, 3.2, 1.8, 4.6, 1.5, 0.9, 3.3, 2.4, 2.7, 4.2, 1.5, 1.9, 4.5, 1.5, 1.7, 3.2, 6.8, 1.2, 6.0, 2.6, 2.7, 1.8, 8.0, 3.5, 5.0, 0.9, 2.7, 2.1, 1.3, 3.2, 2.3, 1.4, 3.8, 3.6, 2.7, 2.1, 3.4, 3.4, 6.2, 4.6, 2.1], \"xaxis\": \"x\", \"y\": [\"Bihor\", \"Bistrita-Nasaud\", \"Cluj\", \"Maramures\", \"Satu Mare\", \"Salaj\", \"Alba\", \"Brasov\", \"Covasna\", \"Harghita\", \"Mures\", \"Sibiu\", \"Bacau\", \"Botosani\", \"Iasi\", \"Neamt\", \"Suceava\", \"Vaslui\", \"Braila\", \"Buzau\", \"Constanta\", \"Galati\", \"Tulcea\", \"Vrancea\", \"Arges\", \"Calarasi\", \"Dambovita\", \"Giurgiu\", \"Ialomita\", \"Prahova\", \"Teleorman\", \"Ilfov\", \"Dolj\", \"Gorj\", \"Mehedinti\", \"Olt\", \"Valcea\", \"Arad\", \"Caras-Severin\", \"Hunedoara\", \"Timis\"], \"yaxis\": \"y\", \"type\": \"bar\"}], \"name\": \"1996\"}, {\"data\": [{\"alignmentgroup\": \"True\", \"hovertemplate\": \"Year=1997<br>Value=%{x}<br>Region=%{y}<extra></extra>\", \"legendgroup\": \"\", \"marker\": {\"color\": \"#636efa\"}, \"name\": \"\", \"offsetgroup\": \"\", \"orientation\": \"h\", \"showlegend\": false, \"textposition\": \"auto\", \"x\": [3.1, 2.8, 1.7, 4.7, 1.4, 0.9, 3.3, 2.6, 3.2, 5.1, 1.9, 1.9, 4.3, 1.4, 2.2, 3.2, 6.9, 1.4, 5.7, 2.8, 3.6, 2.5, 9.3, 3.5, 4.9, 1.0, 2.9, 2.1, 1.9, 2.5, 2.0, 1.7, 3.9, 3.6, 2.8, 2.3, 3.4, 3.4, 6.2, 4.6, 2.1], \"xaxis\": \"x\", \"y\": [\"Bihor\", \"Bistrita-Nasaud\", \"Cluj\", \"Maramures\", \"Satu Mare\", \"Salaj\", \"Alba\", \"Brasov\", \"Covasna\", \"Harghita\", \"Mures\", \"Sibiu\", \"Bacau\", \"Botosani\", \"Iasi\", \"Neamt\", \"Suceava\", \"Vaslui\", \"Braila\", \"Buzau\", \"Constanta\", \"Galati\", \"Tulcea\", \"Vrancea\", \"Arges\", \"Calarasi\", \"Dambovita\", \"Giurgiu\", \"Ialomita\", \"Prahova\", \"Teleorman\", \"Ilfov\", \"Dolj\", \"Gorj\", \"Mehedinti\", \"Olt\", \"Valcea\", \"Arad\", \"Caras-Severin\", \"Hunedoara\", \"Timis\"], \"yaxis\": \"y\", \"type\": \"bar\"}], \"name\": \"1997\"}, {\"data\": [{\"alignmentgroup\": \"True\", \"hovertemplate\": \"Year=1998<br>Value=%{x}<br>Region=%{y}<extra></extra>\", \"legendgroup\": \"\", \"marker\": {\"color\": \"#636efa\"}, \"name\": \"\", \"offsetgroup\": \"\", \"orientation\": \"h\", \"showlegend\": false, \"textposition\": \"auto\", \"x\": [3.3, 3.6, 1.9, 5.0, 1.4, 0.9, 3.4, 2.7, 3.8, 6.3, 2.1, 2.0, 4.8, 1.3, 2.5, 3.4, 7.1, 1.3, 5.7, 2.7, 5.2, 2.4, 9.3, 3.6, 5.1, 1.0, 3.0, 2.1, 1.8, 2.5, 2.4, 1.7, 5.2, 4.1, 2.6, 2.3, 3.2, 3.4, 6.5, 5.0, 2.1], \"xaxis\": \"x\", \"y\": [\"Bihor\", \"Bistrita-Nasaud\", \"Cluj\", \"Maramures\", \"Satu Mare\", \"Salaj\", \"Alba\", \"Brasov\", \"Covasna\", \"Harghita\", \"Mures\", \"Sibiu\", \"Bacau\", \"Botosani\", \"Iasi\", \"Neamt\", \"Suceava\", \"Vaslui\", \"Braila\", \"Buzau\", \"Constanta\", \"Galati\", \"Tulcea\", \"Vrancea\", \"Arges\", \"Calarasi\", \"Dambovita\", \"Giurgiu\", \"Ialomita\", \"Prahova\", \"Teleorman\", \"Ilfov\", \"Dolj\", \"Gorj\", \"Mehedinti\", \"Olt\", \"Valcea\", \"Arad\", \"Caras-Severin\", \"Hunedoara\", \"Timis\"], \"yaxis\": \"y\", \"type\": \"bar\"}], \"name\": \"1998\"}, {\"data\": [{\"alignmentgroup\": \"True\", \"hovertemplate\": \"Year=1999<br>Value=%{x}<br>Region=%{y}<extra></extra>\", \"legendgroup\": \"\", \"marker\": {\"color\": \"#636efa\"}, \"name\": \"\", \"offsetgroup\": \"\", \"orientation\": \"h\", \"showlegend\": false, \"textposition\": \"auto\", \"x\": [3.2, 4.0, 1.9, 5.0, 1.4, 0.8, 3.6, 2.7, 4.0, 6.4, 2.3, 2.0, 4.4, 1.4, 2.8, 3.6, 9.8, 1.4, 5.3, 2.8, 5.1, 2.1, 9.1, 3.5, 5.1, 1.0, 2.8, 2.3, 1.7, 2.9, 2.3, 1.7, 4.8, 3.4, 2.6, 2.0, 3.2, 3.4, 6.4, 5.2, 2.0], \"xaxis\": \"x\", \"y\": [\"Bihor\", \"Bistrita-Nasaud\", \"Cluj\", \"Maramures\", \"Satu Mare\", \"Salaj\", \"Alba\", \"Brasov\", \"Covasna\", \"Harghita\", \"Mures\", \"Sibiu\", \"Bacau\", \"Botosani\", \"Iasi\", \"Neamt\", \"Suceava\", \"Vaslui\", \"Braila\", \"Buzau\", \"Constanta\", \"Galati\", \"Tulcea\", \"Vrancea\", \"Arges\", \"Calarasi\", \"Dambovita\", \"Giurgiu\", \"Ialomita\", \"Prahova\", \"Teleorman\", \"Ilfov\", \"Dolj\", \"Gorj\", \"Mehedinti\", \"Olt\", \"Valcea\", \"Arad\", \"Caras-Severin\", \"Hunedoara\", \"Timis\"], \"yaxis\": \"y\", \"type\": \"bar\"}], \"name\": \"1999\"}, {\"data\": [{\"alignmentgroup\": \"True\", \"hovertemplate\": \"Year=2000<br>Value=%{x}<br>Region=%{y}<extra></extra>\", \"legendgroup\": \"\", \"marker\": {\"color\": \"#636efa\"}, \"name\": \"\", \"offsetgroup\": \"\", \"orientation\": \"h\", \"showlegend\": false, \"textposition\": \"auto\", \"x\": [3.2, 3.7, 1.8, 4.9, 1.5, 0.9, 3.7, 2.7, 3.9, 6.0, 2.7, 2.1, 4.7, 1.4, 2.8, 3.8, 10.6, 1.1, 5.2, 2.9, 5.2, 2.0, 9.3, 3.5, 5.4, 1.1, 2.8, 2.4, 1.8, 3.0, 2.5, 1.7, 4.6, 3.5, 2.6, 2.1, 3.3, 3.4, 6.4, 5.3, 1.9], \"xaxis\": \"x\", \"y\": [\"Bihor\", \"Bistrita-Nasaud\", \"Cluj\", \"Maramures\", \"Satu Mare\", \"Salaj\", \"Alba\", \"Brasov\", \"Covasna\", \"Harghita\", \"Mures\", \"Sibiu\", \"Bacau\", \"Botosani\", \"Iasi\", \"Neamt\", \"Suceava\", \"Vaslui\", \"Braila\", \"Buzau\", \"Constanta\", \"Galati\", \"Tulcea\", \"Vrancea\", \"Arges\", \"Calarasi\", \"Dambovita\", \"Giurgiu\", \"Ialomita\", \"Prahova\", \"Teleorman\", \"Ilfov\", \"Dolj\", \"Gorj\", \"Mehedinti\", \"Olt\", \"Valcea\", \"Arad\", \"Caras-Severin\", \"Hunedoara\", \"Timis\"], \"yaxis\": \"y\", \"type\": \"bar\"}], \"name\": \"2000\"}, {\"data\": [{\"alignmentgroup\": \"True\", \"hovertemplate\": \"Year=2001<br>Value=%{x}<br>Region=%{y}<extra></extra>\", \"legendgroup\": \"\", \"marker\": {\"color\": \"#636efa\"}, \"name\": \"\", \"offsetgroup\": \"\", \"orientation\": \"h\", \"showlegend\": false, \"textposition\": \"auto\", \"x\": [3.2, 3.5, 1.9, 5.1, 1.5, 0.9, 3.8, 2.6, 3.4, 5.2, 2.5, 2.2, 4.9, 1.6, 2.9, 4.1, 10.4, 1.3, 4.7, 2.8, 5.0, 2.0, 9.3, 3.6, 5.4, 1.1, 2.8, 2.2, 1.7, 3.0, 2.6, 1.6, 3.8, 3.5, 2.8, 2.5, 3.2, 3.4, 6.4, 5.3, 2.0], \"xaxis\": \"x\", \"y\": [\"Bihor\", \"Bistrita-Nasaud\", \"Cluj\", \"Maramures\", \"Satu Mare\", \"Salaj\", \"Alba\", \"Brasov\", \"Covasna\", \"Harghita\", \"Mures\", \"Sibiu\", \"Bacau\", \"Botosani\", \"Iasi\", \"Neamt\", \"Suceava\", \"Vaslui\", \"Braila\", \"Buzau\", \"Constanta\", \"Galati\", \"Tulcea\", \"Vrancea\", \"Arges\", \"Calarasi\", \"Dambovita\", \"Giurgiu\", \"Ialomita\", \"Prahova\", \"Teleorman\", \"Ilfov\", \"Dolj\", \"Gorj\", \"Mehedinti\", \"Olt\", \"Valcea\", \"Arad\", \"Caras-Severin\", \"Hunedoara\", \"Timis\"], \"yaxis\": \"y\", \"type\": \"bar\"}], \"name\": \"2001\"}, {\"data\": [{\"alignmentgroup\": \"True\", \"hovertemplate\": \"Year=2002<br>Value=%{x}<br>Region=%{y}<extra></extra>\", \"legendgroup\": \"\", \"marker\": {\"color\": \"#636efa\"}, \"name\": \"\", \"offsetgroup\": \"\", \"orientation\": \"h\", \"showlegend\": false, \"textposition\": \"auto\", \"x\": [3.4, 3.5, 2.0, 5.1, 1.4, 0.9, 3.7, 2.6, 2.2, 5.3, 2.4, 2.4, 4.5, 1.6, 3.0, 3.5, 11.5, 1.5, 5.1, 2.7, 4.9, 2.7, 11.7, 3.7, 5.4, 1.0, 2.8, 2.1, 1.7, 2.5, 2.1, 1.6, 5.6, 3.5, 2.9, 3.8, 3.9, 4.1, 6.5, 5.4, 2.1], \"xaxis\": \"x\", \"y\": [\"Bihor\", \"Bistrita-Nasaud\", \"Cluj\", \"Maramures\", \"Satu Mare\", \"Salaj\", \"Alba\", \"Brasov\", \"Covasna\", \"Harghita\", \"Mures\", \"Sibiu\", \"Bacau\", \"Botosani\", \"Iasi\", \"Neamt\", \"Suceava\", \"Vaslui\", \"Braila\", \"Buzau\", \"Constanta\", \"Galati\", \"Tulcea\", \"Vrancea\", \"Arges\", \"Calarasi\", \"Dambovita\", \"Giurgiu\", \"Ialomita\", \"Prahova\", \"Teleorman\", \"Ilfov\", \"Dolj\", \"Gorj\", \"Mehedinti\", \"Olt\", \"Valcea\", \"Arad\", \"Caras-Severin\", \"Hunedoara\", \"Timis\"], \"yaxis\": \"y\", \"type\": \"bar\"}], \"name\": \"2002\"}, {\"data\": [{\"alignmentgroup\": \"True\", \"hovertemplate\": \"Year=2003<br>Value=%{x}<br>Region=%{y}<extra></extra>\", \"legendgroup\": \"\", \"marker\": {\"color\": \"#636efa\"}, \"name\": \"\", \"offsetgroup\": \"\", \"orientation\": \"h\", \"showlegend\": false, \"textposition\": \"auto\", \"x\": [3.3, 3.3, 2.0, 5.2, 1.3, 0.9, 3.8, 2.6, 2.1, 5.3, 2.3, 2.5, 3.7, 1.5, 2.9, 3.4, 13.4, 1.3, 4.4, 2.7, 4.6, 2.3, 11.0, 3.6, 5.2, 1.1, 2.9, 2.6, 1.6, 2.4, 2.6, 1.8, 4.7, 3.5, 2.8, 3.7, 4.1, 4.8, 6.6, 5.4, 2.0], \"xaxis\": \"x\", \"y\": [\"Bihor\", \"Bistrita-Nasaud\", \"Cluj\", \"Maramures\", \"Satu Mare\", \"Salaj\", \"Alba\", \"Brasov\", \"Covasna\", \"Harghita\", \"Mures\", \"Sibiu\", \"Bacau\", \"Botosani\", \"Iasi\", \"Neamt\", \"Suceava\", \"Vaslui\", \"Braila\", \"Buzau\", \"Constanta\", \"Galati\", \"Tulcea\", \"Vrancea\", \"Arges\", \"Calarasi\", \"Dambovita\", \"Giurgiu\", \"Ialomita\", \"Prahova\", \"Teleorman\", \"Ilfov\", \"Dolj\", \"Gorj\", \"Mehedinti\", \"Olt\", \"Valcea\", \"Arad\", \"Caras-Severin\", \"Hunedoara\", \"Timis\"], \"yaxis\": \"y\", \"type\": \"bar\"}], \"name\": \"2003\"}, {\"data\": [{\"alignmentgroup\": \"True\", \"hovertemplate\": \"Year=2004<br>Value=%{x}<br>Region=%{y}<extra></extra>\", \"legendgroup\": \"\", \"marker\": {\"color\": \"#636efa\"}, \"name\": \"\", \"offsetgroup\": \"\", \"orientation\": \"h\", \"showlegend\": false, \"textposition\": \"auto\", \"x\": [3.4, 3.7, 1.9, 5.1, 1.4, 0.9, 3.7, 2.6, 2.2, 6.6, 2.4, 2.7, 4.6, 1.3, 2.8, 5.4, 15.6, 1.7, 4.6, 2.6, 8.4, 2.2, 12.5, 4.1, 5.6, 1.2, 3.1, 1.9, 1.8, 2.3, 2.5, 1.6, 4.1, 3.6, 2.8, 3.7, 4.2, 4.5, 6.9, 5.4, 2.0], \"xaxis\": \"x\", \"y\": [\"Bihor\", \"Bistrita-Nasaud\", \"Cluj\", \"Maramures\", \"Satu Mare\", \"Salaj\", \"Alba\", \"Brasov\", \"Covasna\", \"Harghita\", \"Mures\", \"Sibiu\", \"Bacau\", \"Botosani\", \"Iasi\", \"Neamt\", \"Suceava\", \"Vaslui\", \"Braila\", \"Buzau\", \"Constanta\", \"Galati\", \"Tulcea\", \"Vrancea\", \"Arges\", \"Calarasi\", \"Dambovita\", \"Giurgiu\", \"Ialomita\", \"Prahova\", \"Teleorman\", \"Ilfov\", \"Dolj\", \"Gorj\", \"Mehedinti\", \"Olt\", \"Valcea\", \"Arad\", \"Caras-Severin\", \"Hunedoara\", \"Timis\"], \"yaxis\": \"y\", \"type\": \"bar\"}], \"name\": \"2004\"}, {\"data\": [{\"alignmentgroup\": \"True\", \"hovertemplate\": \"Year=2005<br>Value=%{x}<br>Region=%{y}<extra></extra>\", \"legendgroup\": \"\", \"marker\": {\"color\": \"#636efa\"}, \"name\": \"\", \"offsetgroup\": \"\", \"orientation\": \"h\", \"showlegend\": false, \"textposition\": \"auto\", \"x\": [3.6, 4.1, 2.0, 5.6, 1.4, 0.9, 3.9, 2.6, 2.1, 5.8, 2.3, 2.5, 5.0, 1.4, 2.7, 4.9, 14.2, 1.4, 4.4, 2.8, 7.8, 2.2, 12.7, 4.0, 5.6, 1.3, 3.2, 1.9, 1.9, 2.3, 2.5, 1.6, 3.7, 3.5, 2.8, 3.0, 5.2, 4.5, 6.9, 5.4, 2.0], \"xaxis\": \"x\", \"y\": [\"Bihor\", \"Bistrita-Nasaud\", \"Cluj\", \"Maramures\", \"Satu Mare\", \"Salaj\", \"Alba\", \"Brasov\", \"Covasna\", \"Harghita\", \"Mures\", \"Sibiu\", \"Bacau\", \"Botosani\", \"Iasi\", \"Neamt\", \"Suceava\", \"Vaslui\", \"Braila\", \"Buzau\", \"Constanta\", \"Galati\", \"Tulcea\", \"Vrancea\", \"Arges\", \"Calarasi\", \"Dambovita\", \"Giurgiu\", \"Ialomita\", \"Prahova\", \"Teleorman\", \"Ilfov\", \"Dolj\", \"Gorj\", \"Mehedinti\", \"Olt\", \"Valcea\", \"Arad\", \"Caras-Severin\", \"Hunedoara\", \"Timis\"], \"yaxis\": \"y\", \"type\": \"bar\"}], \"name\": \"2005\"}, {\"data\": [{\"alignmentgroup\": \"True\", \"hovertemplate\": \"Year=2006<br>Value=%{x}<br>Region=%{y}<extra></extra>\", \"legendgroup\": \"\", \"marker\": {\"color\": \"#636efa\"}, \"name\": \"\", \"offsetgroup\": \"\", \"orientation\": \"h\", \"showlegend\": false, \"textposition\": \"auto\", \"x\": [3.9, 4.3, 1.8, 5.7, 1.4, 0.9, 3.8, 2.9, 1.9, 5.9, 2.1, 2.2, 4.8, 1.5, 2.5, 4.6, 13.8, 1.3, 4.6, 2.7, 5.3, 1.9, 12.4, 3.8, 5.6, 1.6, 3.2, 2.0, 1.9, 2.3, 3.0, 1.6, 4.5, 3.6, 2.8, 4.1, 5.0, 3.6, 7.0, 5.4, 2.2], \"xaxis\": \"x\", \"y\": [\"Bihor\", \"Bistrita-Nasaud\", \"Cluj\", \"Maramures\", \"Satu Mare\", \"Salaj\", \"Alba\", \"Brasov\", \"Covasna\", \"Harghita\", \"Mures\", \"Sibiu\", \"Bacau\", \"Botosani\", \"Iasi\", \"Neamt\", \"Suceava\", \"Vaslui\", \"Braila\", \"Buzau\", \"Constanta\", \"Galati\", \"Tulcea\", \"Vrancea\", \"Arges\", \"Calarasi\", \"Dambovita\", \"Giurgiu\", \"Ialomita\", \"Prahova\", \"Teleorman\", \"Ilfov\", \"Dolj\", \"Gorj\", \"Mehedinti\", \"Olt\", \"Valcea\", \"Arad\", \"Caras-Severin\", \"Hunedoara\", \"Timis\"], \"yaxis\": \"y\", \"type\": \"bar\"}], \"name\": \"2006\"}, {\"data\": [{\"alignmentgroup\": \"True\", \"hovertemplate\": \"Year=2007<br>Value=%{x}<br>Region=%{y}<extra></extra>\", \"legendgroup\": \"\", \"marker\": {\"color\": \"#636efa\"}, \"name\": \"\", \"offsetgroup\": \"\", \"orientation\": \"h\", \"showlegend\": false, \"textposition\": \"auto\", \"x\": [3.7, 4.4, 1.9, 6.4, 1.3, 0.9, 3.8, 3.4, 4.6, 11.3, 2.2, 5.4, 5.9, 1.7, 2.5, 4.9, 13.7, 1.3, 4.4, 2.8, 5.0, 1.9, 12.5, 3.8, 5.2, 1.3, 3.2, 2.2, 1.9, 2.3, 2.9, 1.6, 4.7, 3.8, 2.7, 4.2, 5.0, 3.6, 7.1, 5.9, 2.3], \"xaxis\": \"x\", \"y\": [\"Bihor\", \"Bistrita-Nasaud\", \"Cluj\", \"Maramures\", \"Satu Mare\", \"Salaj\", \"Alba\", \"Brasov\", \"Covasna\", \"Harghita\", \"Mures\", \"Sibiu\", \"Bacau\", \"Botosani\", \"Iasi\", \"Neamt\", \"Suceava\", \"Vaslui\", \"Braila\", \"Buzau\", \"Constanta\", \"Galati\", \"Tulcea\", \"Vrancea\", \"Arges\", \"Calarasi\", \"Dambovita\", \"Giurgiu\", \"Ialomita\", \"Prahova\", \"Teleorman\", \"Ilfov\", \"Dolj\", \"Gorj\", \"Mehedinti\", \"Olt\", \"Valcea\", \"Arad\", \"Caras-Severin\", \"Hunedoara\", \"Timis\"], \"yaxis\": \"y\", \"type\": \"bar\"}], \"name\": \"2007\"}, {\"data\": [{\"alignmentgroup\": \"True\", \"hovertemplate\": \"Year=2008<br>Value=%{x}<br>Region=%{y}<extra></extra>\", \"legendgroup\": \"\", \"marker\": {\"color\": \"#636efa\"}, \"name\": \"\", \"offsetgroup\": \"\", \"orientation\": \"h\", \"showlegend\": false, \"textposition\": \"auto\", \"x\": [3.8, 4.8, 2.0, 6.4, 1.2, 0.9, 3.8, 3.0, 2.5, 5.8, 3.8, 2.3, 5.2, 1.5, 2.2, 5.9, 14.4, 1.3, 4.1, 2.4, 5.2, 2.0, 12.8, 4.1, 5.2, 1.1, 2.9, 2.3, 1.9, 2.3, 2.8, 1.5, 5.0, 3.4, 2.7, 4.2, 5.0, 3.5, 7.5, 6.0, 2.3], \"xaxis\": \"x\", \"y\": [\"Bihor\", \"Bistrita-Nasaud\", \"Cluj\", \"Maramures\", \"Satu Mare\", \"Salaj\", \"Alba\", \"Brasov\", \"Covasna\", \"Harghita\", \"Mures\", \"Sibiu\", \"Bacau\", \"Botosani\", \"Iasi\", \"Neamt\", \"Suceava\", \"Vaslui\", \"Braila\", \"Buzau\", \"Constanta\", \"Galati\", \"Tulcea\", \"Vrancea\", \"Arges\", \"Calarasi\", \"Dambovita\", \"Giurgiu\", \"Ialomita\", \"Prahova\", \"Teleorman\", \"Ilfov\", \"Dolj\", \"Gorj\", \"Mehedinti\", \"Olt\", \"Valcea\", \"Arad\", \"Caras-Severin\", \"Hunedoara\", \"Timis\"], \"yaxis\": \"y\", \"type\": \"bar\"}], \"name\": \"2008\"}, {\"data\": [{\"alignmentgroup\": \"True\", \"hovertemplate\": \"Year=2009<br>Value=%{x}<br>Region=%{y}<extra></extra>\", \"legendgroup\": \"\", \"marker\": {\"color\": \"#636efa\"}, \"name\": \"\", \"offsetgroup\": \"\", \"orientation\": \"h\", \"showlegend\": false, \"textposition\": \"auto\", \"x\": [3.7, 4.0, 1.9, 6.0, 1.3, 0.9, 4.5, 3.1, 2.4, 6.1, 3.4, 2.4, 5.8, 1.5, 2.4, 5.0, 14.8, 1.2, 4.0, 2.3, 5.3, 1.8, 13.0, 4.2, 5.5, 1.1, 2.9, 2.4, 1.8, 2.4, 2.6, 1.5, 5.1, 3.4, 3.1, 3.9, 5.1, 3.5, 7.5, 5.8, 2.1], \"xaxis\": \"x\", \"y\": [\"Bihor\", \"Bistrita-Nasaud\", \"Cluj\", \"Maramures\", \"Satu Mare\", \"Salaj\", \"Alba\", \"Brasov\", \"Covasna\", \"Harghita\", \"Mures\", \"Sibiu\", \"Bacau\", \"Botosani\", \"Iasi\", \"Neamt\", \"Suceava\", \"Vaslui\", \"Braila\", \"Buzau\", \"Constanta\", \"Galati\", \"Tulcea\", \"Vrancea\", \"Arges\", \"Calarasi\", \"Dambovita\", \"Giurgiu\", \"Ialomita\", \"Prahova\", \"Teleorman\", \"Ilfov\", \"Dolj\", \"Gorj\", \"Mehedinti\", \"Olt\", \"Valcea\", \"Arad\", \"Caras-Severin\", \"Hunedoara\", \"Timis\"], \"yaxis\": \"y\", \"type\": \"bar\"}], \"name\": \"2009\"}, {\"data\": [{\"alignmentgroup\": \"True\", \"hovertemplate\": \"Year=2010<br>Value=%{x}<br>Region=%{y}<extra></extra>\", \"legendgroup\": \"\", \"marker\": {\"color\": \"#636efa\"}, \"name\": \"\", \"offsetgroup\": \"\", \"orientation\": \"h\", \"showlegend\": false, \"textposition\": \"auto\", \"x\": [3.7, 3.7, 2.0, 7.0, 1.2, 1.1, 4.6, 2.8, 1.7, 5.1, 3.3, 2.2, 5.5, 1.4, 2.4, 5.2, 14.7, 1.1, 4.2, 2.3, 5.6, 1.9, 12.8, 4.8, 5.5, 1.1, 2.9, 2.0, 2.0, 2.4, 2.5, 1.5, 5.1, 4.9, 3.1, 3.8, 5.1, 3.5, 7.6, 6.0, 2.1], \"xaxis\": \"x\", \"y\": [\"Bihor\", \"Bistrita-Nasaud\", \"Cluj\", \"Maramures\", \"Satu Mare\", \"Salaj\", \"Alba\", \"Brasov\", \"Covasna\", \"Harghita\", \"Mures\", \"Sibiu\", \"Bacau\", \"Botosani\", \"Iasi\", \"Neamt\", \"Suceava\", \"Vaslui\", \"Braila\", \"Buzau\", \"Constanta\", \"Galati\", \"Tulcea\", \"Vrancea\", \"Arges\", \"Calarasi\", \"Dambovita\", \"Giurgiu\", \"Ialomita\", \"Prahova\", \"Teleorman\", \"Ilfov\", \"Dolj\", \"Gorj\", \"Mehedinti\", \"Olt\", \"Valcea\", \"Arad\", \"Caras-Severin\", \"Hunedoara\", \"Timis\"], \"yaxis\": \"y\", \"type\": \"bar\"}], \"name\": \"2010\"}, {\"data\": [{\"alignmentgroup\": \"True\", \"hovertemplate\": \"Year=2011<br>Value=%{x}<br>Region=%{y}<extra></extra>\", \"legendgroup\": \"\", \"marker\": {\"color\": \"#636efa\"}, \"name\": \"\", \"offsetgroup\": \"\", \"orientation\": \"h\", \"showlegend\": false, \"textposition\": \"auto\", \"x\": [3.6, 3.6, 1.8, 6.7, 1.3, 1.1, 4.3, 2.8, 1.7, 5.1, 3.0, 2.3, 5.5, 1.2, 2.5, 5.1, 14.4, 1.1, 3.8, 2.5, 5.5, 1.7, 12.6, 4.6, 5.3, 1.1, 2.9, 2.0, 1.7, 2.4, 2.3, 1.5, 4.5, 4.8, 3.1, 2.9, 5.2, 3.4, 7.8, 6.2, 2.0], \"xaxis\": \"x\", \"y\": [\"Bihor\", \"Bistrita-Nasaud\", \"Cluj\", \"Maramures\", \"Satu Mare\", \"Salaj\", \"Alba\", \"Brasov\", \"Covasna\", \"Harghita\", \"Mures\", \"Sibiu\", \"Bacau\", \"Botosani\", \"Iasi\", \"Neamt\", \"Suceava\", \"Vaslui\", \"Braila\", \"Buzau\", \"Constanta\", \"Galati\", \"Tulcea\", \"Vrancea\", \"Arges\", \"Calarasi\", \"Dambovita\", \"Giurgiu\", \"Ialomita\", \"Prahova\", \"Teleorman\", \"Ilfov\", \"Dolj\", \"Gorj\", \"Mehedinti\", \"Olt\", \"Valcea\", \"Arad\", \"Caras-Severin\", \"Hunedoara\", \"Timis\"], \"yaxis\": \"y\", \"type\": \"bar\"}], \"name\": \"2011\"}, {\"data\": [{\"alignmentgroup\": \"True\", \"hovertemplate\": \"Year=2012<br>Value=%{x}<br>Region=%{y}<extra></extra>\", \"legendgroup\": \"\", \"marker\": {\"color\": \"#636efa\"}, \"name\": \"\", \"offsetgroup\": \"\", \"orientation\": \"h\", \"showlegend\": false, \"textposition\": \"auto\", \"x\": [3.3, 3.6, 2.1, 6.6, 1.3, 1.1, 4.6, 2.8, 1.7, 4.6, 3.0, 2.2, 5.1, 1.3, 2.5, 4.9, 14.4, 1.1, 3.4, 2.6, 5.1, 1.8, 12.6, 5.1, 5.5, 1.1, 2.9, 2.1, 1.5, 2.4, 2.5, 1.5, 4.6, 4.9, 3.1, 2.9, 5.2, 3.5, 7.8, 6.1, 1.9], \"xaxis\": \"x\", \"y\": [\"Bihor\", \"Bistrita-Nasaud\", \"Cluj\", \"Maramures\", \"Satu Mare\", \"Salaj\", \"Alba\", \"Brasov\", \"Covasna\", \"Harghita\", \"Mures\", \"Sibiu\", \"Bacau\", \"Botosani\", \"Iasi\", \"Neamt\", \"Suceava\", \"Vaslui\", \"Braila\", \"Buzau\", \"Constanta\", \"Galati\", \"Tulcea\", \"Vrancea\", \"Arges\", \"Calarasi\", \"Dambovita\", \"Giurgiu\", \"Ialomita\", \"Prahova\", \"Teleorman\", \"Ilfov\", \"Dolj\", \"Gorj\", \"Mehedinti\", \"Olt\", \"Valcea\", \"Arad\", \"Caras-Severin\", \"Hunedoara\", \"Timis\"], \"yaxis\": \"y\", \"type\": \"bar\"}], \"name\": \"2012\"}, {\"data\": [{\"alignmentgroup\": \"True\", \"hovertemplate\": \"Year=2013<br>Value=%{x}<br>Region=%{y}<extra></extra>\", \"legendgroup\": \"\", \"marker\": {\"color\": \"#636efa\"}, \"name\": \"\", \"offsetgroup\": \"\", \"orientation\": \"h\", \"showlegend\": false, \"textposition\": \"auto\", \"x\": [3.5, 3.9, 2.1, 6.6, 1.4, 1.2, 4.7, 2.8, 1.7, 4.7, 3.5, 2.3, 4.9, 1.4, 2.7, 5.1, 14.1, 1.1, 3.2, 2.6, 4.9, 1.8, 12.7, 4.7, 5.5, 1.1, 2.9, 2.0, 1.4, 2.4, 2.4, 1.5, 4.8, 5.8, 3.2, 2.8, 5.1, 3.6, 7.7, 6.1, 2.0], \"xaxis\": \"x\", \"y\": [\"Bihor\", \"Bistrita-Nasaud\", \"Cluj\", \"Maramures\", \"Satu Mare\", \"Salaj\", \"Alba\", \"Brasov\", \"Covasna\", \"Harghita\", \"Mures\", \"Sibiu\", \"Bacau\", \"Botosani\", \"Iasi\", \"Neamt\", \"Suceava\", \"Vaslui\", \"Braila\", \"Buzau\", \"Constanta\", \"Galati\", \"Tulcea\", \"Vrancea\", \"Arges\", \"Calarasi\", \"Dambovita\", \"Giurgiu\", \"Ialomita\", \"Prahova\", \"Teleorman\", \"Ilfov\", \"Dolj\", \"Gorj\", \"Mehedinti\", \"Olt\", \"Valcea\", \"Arad\", \"Caras-Severin\", \"Hunedoara\", \"Timis\"], \"yaxis\": \"y\", \"type\": \"bar\"}], \"name\": \"2013\"}, {\"data\": [{\"alignmentgroup\": \"True\", \"hovertemplate\": \"Year=2014<br>Value=%{x}<br>Region=%{y}<extra></extra>\", \"legendgroup\": \"\", \"marker\": {\"color\": \"#636efa\"}, \"name\": \"\", \"offsetgroup\": \"\", \"orientation\": \"h\", \"showlegend\": false, \"textposition\": \"auto\", \"x\": [3.6, 3.8, 2.0, 6.0, 1.3, 1.2, 4.7, 2.9, 1.7, 4.0, 4.6, 2.3, 5.1, 1.3, 3.0, 4.6, 14.3, 1.1, 3.2, 2.6, 5.0, 1.9, 12.5, 4.7, 5.5, 1.0, 3.2, 2.0, 1.4, 2.3, 2.4, 1.5, 4.7, 5.8, 3.1, 2.6, 5.3, 3.6, 7.4, 6.2, 1.9], \"xaxis\": \"x\", \"y\": [\"Bihor\", \"Bistrita-Nasaud\", \"Cluj\", \"Maramures\", \"Satu Mare\", \"Salaj\", \"Alba\", \"Brasov\", \"Covasna\", \"Harghita\", \"Mures\", \"Sibiu\", \"Bacau\", \"Botosani\", \"Iasi\", \"Neamt\", \"Suceava\", \"Vaslui\", \"Braila\", \"Buzau\", \"Constanta\", \"Galati\", \"Tulcea\", \"Vrancea\", \"Arges\", \"Calarasi\", \"Dambovita\", \"Giurgiu\", \"Ialomita\", \"Prahova\", \"Teleorman\", \"Ilfov\", \"Dolj\", \"Gorj\", \"Mehedinti\", \"Olt\", \"Valcea\", \"Arad\", \"Caras-Severin\", \"Hunedoara\", \"Timis\"], \"yaxis\": \"y\", \"type\": \"bar\"}], \"name\": \"2014\"}, {\"data\": [{\"alignmentgroup\": \"True\", \"hovertemplate\": \"Year=2015<br>Value=%{x}<br>Region=%{y}<extra></extra>\", \"legendgroup\": \"\", \"marker\": {\"color\": \"#636efa\"}, \"name\": \"\", \"offsetgroup\": \"\", \"orientation\": \"h\", \"showlegend\": false, \"textposition\": \"auto\", \"x\": [3.5, 4.7, 2.0, 6.6, 1.4, 1.2, 4.7, 3.0, 1.8, 3.6, 4.4, 2.4, 5.1, 1.3, 3.0, 4.7, 14.4, 1.0, 3.0, 2.5, 5.0, 1.8, 12.3, 4.6, 4.7, 1.0, 2.6, 2.1, 1.3, 2.3, 2.3, 1.5, 0.1, 4.6, 5.4, 3.2, 2.3, 5.4, 4.1, 7.5, 6.0, 1.9], \"xaxis\": \"x\", \"y\": [\"Bihor\", \"Bistrita-Nasaud\", \"Cluj\", \"Maramures\", \"Satu Mare\", \"Salaj\", \"Alba\", \"Brasov\", \"Covasna\", \"Harghita\", \"Mures\", \"Sibiu\", \"Bacau\", \"Botosani\", \"Iasi\", \"Neamt\", \"Suceava\", \"Vaslui\", \"Braila\", \"Buzau\", \"Constanta\", \"Galati\", \"Tulcea\", \"Vrancea\", \"Arges\", \"Calarasi\", \"Dambovita\", \"Giurgiu\", \"Ialomita\", \"Prahova\", \"Teleorman\", \"Ilfov\", \"Bucuresti\", \"Dolj\", \"Gorj\", \"Mehedinti\", \"Olt\", \"Valcea\", \"Arad\", \"Caras-Severin\", \"Hunedoara\", \"Timis\"], \"yaxis\": \"y\", \"type\": \"bar\"}], \"name\": \"2015\"}, {\"data\": [{\"alignmentgroup\": \"True\", \"hovertemplate\": \"Year=2016<br>Value=%{x}<br>Region=%{y}<extra></extra>\", \"legendgroup\": \"\", \"marker\": {\"color\": \"#636efa\"}, \"name\": \"\", \"offsetgroup\": \"\", \"orientation\": \"h\", \"showlegend\": false, \"textposition\": \"auto\", \"x\": [3.5, 4.9, 1.9, 6.7, 1.6, 1.2, 4.6, 3.0, 1.8, 3.5, 4.2, 2.5, 5.2, 1.2, 3.0, 4.7, 13.0, 1.2, 3.1, 2.6, 4.8, 1.8, 11.4, 4.2, 4.8, 1.0, 2.6, 2.1, 1.3, 2.3, 2.4, 1.5, 0.1, 4.6, 5.2, 3.0, 2.3, 6.8, 4.0, 7.7, 5.4, 1.9], \"xaxis\": \"x\", \"y\": [\"Bihor\", \"Bistrita-Nasaud\", \"Cluj\", \"Maramures\", \"Satu Mare\", \"Salaj\", \"Alba\", \"Brasov\", \"Covasna\", \"Harghita\", \"Mures\", \"Sibiu\", \"Bacau\", \"Botosani\", \"Iasi\", \"Neamt\", \"Suceava\", \"Vaslui\", \"Braila\", \"Buzau\", \"Constanta\", \"Galati\", \"Tulcea\", \"Vrancea\", \"Arges\", \"Calarasi\", \"Dambovita\", \"Giurgiu\", \"Ialomita\", \"Prahova\", \"Teleorman\", \"Ilfov\", \"Bucuresti\", \"Dolj\", \"Gorj\", \"Mehedinti\", \"Olt\", \"Valcea\", \"Arad\", \"Caras-Severin\", \"Hunedoara\", \"Timis\"], \"yaxis\": \"y\", \"type\": \"bar\"}], \"name\": \"2016\"}, {\"data\": [{\"alignmentgroup\": \"True\", \"hovertemplate\": \"Year=2017<br>Value=%{x}<br>Region=%{y}<extra></extra>\", \"legendgroup\": \"\", \"marker\": {\"color\": \"#636efa\"}, \"name\": \"\", \"offsetgroup\": \"\", \"orientation\": \"h\", \"showlegend\": false, \"textposition\": \"auto\", \"x\": [3.6, 4.6, 1.9, 6.5, 1.6, 1.1, 4.7, 2.9, 1.7, 3.3, 6.7, 2.4, 5.2, 1.1, 2.8, 4.7, 12.8, 1.3, 3.0, 2.6, 4.8, 1.8, 11.1, 3.9, 4.9, 1.1, 2.6, 2.0, 1.3, 2.3, 2.4, 1.6, 0.1, 7.0, 5.5, 3.1, 2.9, 6.8, 4.2, 7.6, 5.7, 1.9], \"xaxis\": \"x\", \"y\": [\"Bihor\", \"Bistrita-Nasaud\", \"Cluj\", \"Maramures\", \"Satu Mare\", \"Salaj\", \"Alba\", \"Brasov\", \"Covasna\", \"Harghita\", \"Mures\", \"Sibiu\", \"Bacau\", \"Botosani\", \"Iasi\", \"Neamt\", \"Suceava\", \"Vaslui\", \"Braila\", \"Buzau\", \"Constanta\", \"Galati\", \"Tulcea\", \"Vrancea\", \"Arges\", \"Calarasi\", \"Dambovita\", \"Giurgiu\", \"Ialomita\", \"Prahova\", \"Teleorman\", \"Ilfov\", \"Bucuresti\", \"Dolj\", \"Gorj\", \"Mehedinti\", \"Olt\", \"Valcea\", \"Arad\", \"Caras-Severin\", \"Hunedoara\", \"Timis\"], \"yaxis\": \"y\", \"type\": \"bar\"}], \"name\": \"2017\"}, {\"data\": [{\"alignmentgroup\": \"True\", \"hovertemplate\": \"Year=2018<br>Value=%{x}<br>Region=%{y}<extra></extra>\", \"legendgroup\": \"\", \"marker\": {\"color\": \"#636efa\"}, \"name\": \"\", \"offsetgroup\": \"\", \"orientation\": \"h\", \"showlegend\": false, \"textposition\": \"auto\", \"x\": [3.6, 4.5, 2.1, 6.8, 1.6, 1.4, 4.5, 3.0, 1.7, 3.9, 6.4, 2.5, 5.3, 1.1, 2.9, 4.5, 12.6, 1.3, 3.2, 2.7, 4.8, 1.8, 11.2, 4.1, 5.0, 1.1, 2.6, 2.1, 1.3, 2.3, 2.4, 1.6, 0.1, 6.9, 5.5, 3.1, 2.8, 11.1, 4.3, 7.8, 5.5, 1.9], \"xaxis\": \"x\", \"y\": [\"Bihor\", \"Bistrita-Nasaud\", \"Cluj\", \"Maramures\", \"Satu Mare\", \"Salaj\", \"Alba\", \"Brasov\", \"Covasna\", \"Harghita\", \"Mures\", \"Sibiu\", \"Bacau\", \"Botosani\", \"Iasi\", \"Neamt\", \"Suceava\", \"Vaslui\", \"Braila\", \"Buzau\", \"Constanta\", \"Galati\", \"Tulcea\", \"Vrancea\", \"Arges\", \"Calarasi\", \"Dambovita\", \"Giurgiu\", \"Ialomita\", \"Prahova\", \"Teleorman\", \"Ilfov\", \"Bucuresti\", \"Dolj\", \"Gorj\", \"Mehedinti\", \"Olt\", \"Valcea\", \"Arad\", \"Caras-Severin\", \"Hunedoara\", \"Timis\"], \"yaxis\": \"y\", \"type\": \"bar\"}], \"name\": \"2018\"}, {\"data\": [{\"alignmentgroup\": \"True\", \"hovertemplate\": \"Year=2019<br>Value=%{x}<br>Region=%{y}<extra></extra>\", \"legendgroup\": \"\", \"marker\": {\"color\": \"#636efa\"}, \"name\": \"\", \"offsetgroup\": \"\", \"orientation\": \"h\", \"showlegend\": false, \"textposition\": \"auto\", \"x\": [3.8, 4.5, 2.1, 6.4, 1.7, 1.4, 4.5, 2.8, 1.6, 3.9, 6.6, 2.4, 5.4, 1.1, 3.0, 4.6, 12.6, 1.5, 3.0, 2.8, 4.7, 1.6, 11.3, 4.0, 4.7, 1.2, 2.7, 2.1, 1.3, 2.2, 2.4, 1.5, 0.1, 7.0, 5.6, 3.1, 2.7, 11.0, 4.3, 8.0, 5.7, 2.0], \"xaxis\": \"x\", \"y\": [\"Bihor\", \"Bistrita-Nasaud\", \"Cluj\", \"Maramures\", \"Satu Mare\", \"Salaj\", \"Alba\", \"Brasov\", \"Covasna\", \"Harghita\", \"Mures\", \"Sibiu\", \"Bacau\", \"Botosani\", \"Iasi\", \"Neamt\", \"Suceava\", \"Vaslui\", \"Braila\", \"Buzau\", \"Constanta\", \"Galati\", \"Tulcea\", \"Vrancea\", \"Arges\", \"Calarasi\", \"Dambovita\", \"Giurgiu\", \"Ialomita\", \"Prahova\", \"Teleorman\", \"Ilfov\", \"Bucuresti\", \"Dolj\", \"Gorj\", \"Mehedinti\", \"Olt\", \"Valcea\", \"Arad\", \"Caras-Severin\", \"Hunedoara\", \"Timis\"], \"yaxis\": \"y\", \"type\": \"bar\"}], \"name\": \"2019\"}]);\n",
       "                        }).then(function(){\n",
       "                            \n",
       "var gd = document.getElementById('4779210c-cc9c-45d7-9e0b-5b6bbc50b1af');\n",
       "var x = new MutationObserver(function (mutations, observer) {{\n",
       "        var display = window.getComputedStyle(gd).display;\n",
       "        if (!display || display === 'none') {{\n",
       "            console.log([gd, 'removed!']);\n",
       "            Plotly.purge(gd);\n",
       "            observer.disconnect();\n",
       "        }}\n",
       "}});\n",
       "\n",
       "// Listen for the removal of the full notebook cells\n",
       "var notebookContainer = gd.closest('#notebook-container');\n",
       "if (notebookContainer) {{\n",
       "    x.observe(notebookContainer, {childList: true});\n",
       "}}\n",
       "\n",
       "// Listen for the clearing of the current output cell\n",
       "var outputEl = gd.closest('.output');\n",
       "if (outputEl) {{\n",
       "    x.observe(outputEl, {childList: true});\n",
       "}}\n",
       "\n",
       "                        })                };                });            </script>        </div>"
      ]
     },
     "metadata": {},
     "output_type": "display_data"
    }
   ],
   "source": [
    "selection_df = data_county_df.loc[data_county_df.Category==\"Others\"]\n",
    "min_value = selection_df.Value.min()\n",
    "max_value = selection_df.Value.max()\n",
    "import plotly.express as px\n",
    "fig = px.bar(selection_df, x=\"Value\", y=\"Region\", animation_frame='Year', orientation='h',\n",
    "             range_color =[min_value,max_value],\n",
    "             width=600, height=800, range_x = [min_value,max_value],\n",
    "            title='Surface evolution/county 1990-2019 - Other surfaces')\n",
    "fig.update_layout(font=dict(family=\"Courier New, monospace\",size=10,color=\"#7f7f7f\"))\n",
    "fig.show()"
   ]
  }
 ],
 "metadata": {
  "kernelspec": {
   "display_name": "Python 3",
   "language": "python",
   "name": "python3"
  },
  "language_info": {
   "codemirror_mode": {
    "name": "ipython",
    "version": 3
   },
   "file_extension": ".py",
   "mimetype": "text/x-python",
   "name": "python",
   "nbconvert_exporter": "python",
   "pygments_lexer": "ipython3",
   "version": "3.7.6"
  },
  "papermill": {
   "duration": 13.297639,
   "end_time": "2020-10-18T22:36:57.093582",
   "environment_variables": {},
   "exception": null,
   "input_path": "__notebook__.ipynb",
   "output_path": "__notebook__.ipynb",
   "parameters": {},
   "start_time": "2020-10-18T22:36:43.795943",
   "version": "2.1.0"
  }
 },
 "nbformat": 4,
 "nbformat_minor": 4
}
