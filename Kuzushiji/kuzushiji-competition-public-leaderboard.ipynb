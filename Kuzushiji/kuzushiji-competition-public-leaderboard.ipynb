{
 "cells": [
  {
   "cell_type": "markdown",
   "metadata": {
    "_uuid": "030fdd3eb672da9421a87eea51f6cdd065dcc19d"
   },
   "source": [
    "# Cursive Hiragana Classiffication Competition Public Leaderboard\n",
    "\n"
   ]
  },
  {
   "cell_type": "code",
   "execution_count": 1,
   "metadata": {
    "_cell_guid": "b1076dfc-b9ad-4769-8c92-a6c4dae69d19",
    "_kg_hide-input": true,
    "_kg_hide-output": true,
    "_uuid": "8f2839f25d086af736a60e9eeb907d3b93b6e0e5"
   },
   "outputs": [
    {
     "name": "stdout",
     "output_type": "stream",
     "text": [
      "['cursive-hiragana-classification-publicleaderboard.csv']\n"
     ]
    },
    {
     "data": {
      "text/html": [
       "<script type=\"text/javascript\">window.PlotlyConfig = {MathJaxConfig: 'local'};</script><script type=\"text/javascript\">if (window.MathJax) {MathJax.Hub.Config({SVG: {font: \"STIX-Web\"}});}</script><script>requirejs.config({paths: { 'plotly': ['https://cdn.plot.ly/plotly-latest.min']},});if(!window._Plotly) {require(['plotly'],function(plotly) {window._Plotly=plotly;});}</script>"
      ],
      "text/vnd.plotly.v1+html": [
       "<script type=\"text/javascript\">window.PlotlyConfig = {MathJaxConfig: 'local'};</script><script type=\"text/javascript\">if (window.MathJax) {MathJax.Hub.Config({SVG: {font: \"STIX-Web\"}});}</script><script>requirejs.config({paths: { 'plotly': ['https://cdn.plot.ly/plotly-latest.min']},});if(!window._Plotly) {require(['plotly'],function(plotly) {window._Plotly=plotly;});}</script>"
      ]
     },
     "metadata": {},
     "output_type": "display_data"
    }
   ],
   "source": [
    "import numpy as np \n",
    "import pandas as pd\n",
    "import os\n",
    "print(os.listdir(\"../input/kuzushiji-competition-leaderboard\"))\n",
    "%matplotlib inline \n",
    "#from bubbly.bubbly import bubbleplot \n",
    "#from __future__ import division\n",
    "import plotly.graph_objs as go\n",
    "import plotly.figure_factory as ff\n",
    "from plotly import tools\n",
    "from plotly.offline import download_plotlyjs, init_notebook_mode, plot, iplot\n",
    "init_notebook_mode(connected=True)"
   ]
  },
  {
   "cell_type": "code",
   "execution_count": 2,
   "metadata": {
    "_cell_guid": "79c7e3d0-c299-4dcb-8224-4455121ee9b0",
    "_kg_hide-input": true,
    "_kg_hide-output": true,
    "_uuid": "d629ff2d2480ee46fbb7e2d37f6b5fab8052498a"
   },
   "outputs": [],
   "source": [
    "data_df = pd.read_csv(\"../input/kuzushiji-competition-leaderboard/cursive-hiragana-classification-publicleaderboard.csv\")"
   ]
  },
  {
   "cell_type": "code",
   "execution_count": 3,
   "metadata": {
    "_kg_hide-input": true,
    "_uuid": "ecb2b737b38b262b1872e5699d2e9445a675b84c"
   },
   "outputs": [
    {
     "data": {
      "application/vnd.plotly.v1+json": {
       "config": {
        "linkText": "Export to plot.ly",
        "plotlyServerURL": "https://plot.ly",
        "showLink": false
       },
       "data": [
        {
         "mode": "markers+lines",
         "name": "Bogdan Luncasu",
         "type": "scatter",
         "uid": "6f267992-ebb7-4ed8-88ba-271e1bafa49a",
         "x": [
          "2019-03-20 18:14:08",
          "2019-03-20 18:21:13",
          "2019-03-20 19:05:55",
          "2019-03-20 21:37:50",
          "2019-03-20 22:29:15",
          "2019-03-21 07:03:04",
          "2019-03-21 10:36:14",
          "2019-03-21 20:35:41",
          "2019-03-22 06:28:56"
         ],
         "y": [
          0.9148299999999999,
          0.9415,
          0.95083,
          0.9705,
          0.983,
          0.9856600000000001,
          0.9883299999999999,
          0.9898299999999999,
          0.99066
         ]
        },
        {
         "mode": "markers+lines",
         "name": "radu",
         "type": "scatter",
         "uid": "aa3a02f8-bc56-4329-98a0-058e1145446e",
         "x": [
          "2019-03-20 08:38:26",
          "2019-03-20 08:48:31",
          "2019-03-20 14:04:56",
          "2019-03-21 11:33:47",
          "2019-03-22 09:21:18",
          "2019-03-22 15:34:32"
         ],
         "y": [
          0.92416,
          0.94516,
          0.96016,
          0.97183,
          0.972,
          0.9743299999999999
         ]
        },
        {
         "mode": "markers+lines",
         "name": "Mario Rugeles",
         "type": "scatter",
         "uid": "117767f3-0e06-481f-94a6-c6bd66ecaa91",
         "x": [
          "2019-03-20 21:42:56",
          "2019-03-20 23:45:03",
          "2019-03-20 23:52:31",
          "2019-03-21 01:26:08",
          "2019-03-21 04:06:28"
         ],
         "y": [
          0.958,
          0.9595,
          0.9606600000000001,
          0.9676600000000001,
          0.98516
         ]
        },
        {
         "mode": "markers+lines",
         "name": "Ezequiel Konjuh",
         "type": "scatter",
         "uid": "b90eb5bc-58ba-4944-8770-6359b2178896",
         "x": [
          "2019-03-21 12:55:47",
          "2019-03-21 14:11:01",
          "2019-03-22 00:52:59",
          "2019-03-22 03:15:42"
         ],
         "y": [
          0.984,
          0.9873299999999999,
          0.99,
          0.99116
         ]
        },
        {
         "mode": "markers+lines",
         "name": "Radu Stefan",
         "type": "scatter",
         "uid": "c7460f56-6f56-4343-b049-2cee257a6b3d",
         "x": [
          "2019-03-21 20:53:16",
          "2019-03-21 21:03:39",
          "2019-03-21 21:21:51",
          "2019-03-21 21:34:45"
         ],
         "y": [
          0.91066,
          0.9243299999999999,
          0.94016,
          0.94183
         ]
        },
        {
         "mode": "markers+lines",
         "name": "Marius MC",
         "type": "scatter",
         "uid": "659c3f57-4001-492f-8e19-672521d21f2b",
         "x": [
          "2019-03-20 15:19:04",
          "2019-03-20 18:55:46",
          "2019-03-21 12:08:18",
          "2019-03-21 15:05:23"
         ],
         "y": [
          0.94783,
          0.9676600000000001,
          0.9736600000000001,
          0.9833299999999999
         ]
        },
        {
         "mode": "markers+lines",
         "name": "bushiDo sensei",
         "type": "scatter",
         "uid": "23adc10f-b4e7-47a7-99f6-17140d6f611b",
         "x": [
          "2019-03-21 13:13:07",
          "2019-03-21 19:22:42",
          "2019-03-22 08:44:29",
          "2019-03-22 14:48:28"
         ],
         "y": [
          0.911,
          0.94183,
          0.9533299999999999,
          0.9606600000000001
         ]
        },
        {
         "mode": "markers+lines",
         "name": "Mariano Testasecca",
         "type": "scatter",
         "uid": "489c56f2-5bc2-4495-8e80-e6769e800812",
         "x": [
          "2019-03-22 21:00:57",
          "2019-03-23 02:51:32",
          "2019-03-23 03:38:23"
         ],
         "y": [
          0.913,
          0.945,
          0.9695
         ]
        },
        {
         "mode": "markers+lines",
         "name": "Chris Jorgensen",
         "type": "scatter",
         "uid": "37d696f2-a0e6-4855-aac6-e18f95bd3808",
         "x": [
          "2019-03-21 10:53:43",
          "2019-03-21 16:19:31",
          "2019-03-22 08:39:03"
         ],
         "y": [
          0.8658299999999999,
          0.92266,
          0.9643299999999999
         ]
        },
        {
         "mode": "markers+lines",
         "name": "Vitalie Cracan",
         "type": "scatter",
         "uid": "110844f6-362b-4c2b-a7b6-e249c638ce11",
         "x": [
          "2019-03-20 14:55:32",
          "2019-03-20 20:18:00"
         ],
         "y": [
          0.91066,
          0.9616600000000001
         ]
        },
        {
         "mode": "markers+lines",
         "name": "Karel",
         "type": "scatter",
         "uid": "1ed4b153-4f79-4b30-a964-1bb20fc39b13",
         "x": [
          "2019-03-21 03:08:19"
         ],
         "y": [
          0.8763299999999999
         ]
        },
        {
         "mode": "markers+lines",
         "name": "alex stirbu",
         "type": "scatter",
         "uid": "9ad7c622-07c1-4ae9-a681-7334795de98b",
         "x": [
          "2019-03-22 20:32:07"
         ],
         "y": [
          0.89866
         ]
        },
        {
         "mode": "markers+lines",
         "name": "jupaneira",
         "type": "scatter",
         "uid": "a4cd1bfe-b519-4cb8-8542-9aea1ad0fa6e",
         "x": [
          "2019-03-22 03:37:23"
         ],
         "y": [
          0.90366
         ]
        },
        {
         "mode": "markers+lines",
         "name": "AndreiNaghi",
         "type": "scatter",
         "uid": "3801b47c-fc26-47a7-8e1d-b7bf80825ba0",
         "x": [
          "2019-03-23 18:36:52"
         ],
         "y": [
          0.9115
         ]
        },
        {
         "mode": "markers+lines",
         "name": "Iacob Marian",
         "type": "scatter",
         "uid": "a412f04d-f6eb-4160-bcd0-ccf33144d823",
         "x": [
          "2019-03-21 13:53:31"
         ],
         "y": [
          0.09583
         ]
        }
       ],
       "layout": {
        "title": {
         "text": "Public Leaderboard Submissions"
        },
        "xaxis": {
         "showticklabels": true,
         "title": {
          "text": "Submission Date"
         }
        },
        "yaxis": {
         "title": {
          "text": "Team Score"
         }
        }
       }
      },
      "text/html": [
       "<div id=\"6c97237f-0516-441d-8d72-06d78f8d98d6\" style=\"height: 525px; width: 100%;\" class=\"plotly-graph-div\"></div><script type=\"text/javascript\">require([\"plotly\"], function(Plotly) { window.PLOTLYENV=window.PLOTLYENV || {};window.PLOTLYENV.BASE_URL=\"https://plot.ly\";\n",
       "if (document.getElementById(\"6c97237f-0516-441d-8d72-06d78f8d98d6\")) {\n",
       "    Plotly.newPlot(\"6c97237f-0516-441d-8d72-06d78f8d98d6\", [{\"mode\": \"markers+lines\", \"name\": \"Bogdan Luncasu\", \"x\": [\"2019-03-20 18:14:08\", \"2019-03-20 18:21:13\", \"2019-03-20 19:05:55\", \"2019-03-20 21:37:50\", \"2019-03-20 22:29:15\", \"2019-03-21 07:03:04\", \"2019-03-21 10:36:14\", \"2019-03-21 20:35:41\", \"2019-03-22 06:28:56\"], \"y\": [0.9148299999999999, 0.9415, 0.95083, 0.9705, 0.983, 0.9856600000000001, 0.9883299999999999, 0.9898299999999999, 0.99066], \"type\": \"scatter\", \"uid\": \"2d74ad90-a357-4412-b15c-ea79238fd940\"}, {\"mode\": \"markers+lines\", \"name\": \"radu\", \"x\": [\"2019-03-20 08:38:26\", \"2019-03-20 08:48:31\", \"2019-03-20 14:04:56\", \"2019-03-21 11:33:47\", \"2019-03-22 09:21:18\", \"2019-03-22 15:34:32\"], \"y\": [0.92416, 0.94516, 0.96016, 0.97183, 0.972, 0.9743299999999999], \"type\": \"scatter\", \"uid\": \"e0dac303-2126-4e04-8c67-f139995d5c6f\"}, {\"mode\": \"markers+lines\", \"name\": \"Mario Rugeles\", \"x\": [\"2019-03-20 21:42:56\", \"2019-03-20 23:45:03\", \"2019-03-20 23:52:31\", \"2019-03-21 01:26:08\", \"2019-03-21 04:06:28\"], \"y\": [0.958, 0.9595, 0.9606600000000001, 0.9676600000000001, 0.98516], \"type\": \"scatter\", \"uid\": \"104e311f-38b3-44d2-9b79-75fc3acdf58e\"}, {\"mode\": \"markers+lines\", \"name\": \"Ezequiel Konjuh\", \"x\": [\"2019-03-21 12:55:47\", \"2019-03-21 14:11:01\", \"2019-03-22 00:52:59\", \"2019-03-22 03:15:42\"], \"y\": [0.984, 0.9873299999999999, 0.99, 0.99116], \"type\": \"scatter\", \"uid\": \"56c30ccf-07bf-4135-9594-ecb82466def9\"}, {\"mode\": \"markers+lines\", \"name\": \"Radu Stefan\", \"x\": [\"2019-03-21 20:53:16\", \"2019-03-21 21:03:39\", \"2019-03-21 21:21:51\", \"2019-03-21 21:34:45\"], \"y\": [0.91066, 0.9243299999999999, 0.94016, 0.94183], \"type\": \"scatter\", \"uid\": \"12358b01-e132-487e-8f0a-850d2d21f356\"}, {\"mode\": \"markers+lines\", \"name\": \"Marius MC\", \"x\": [\"2019-03-20 15:19:04\", \"2019-03-20 18:55:46\", \"2019-03-21 12:08:18\", \"2019-03-21 15:05:23\"], \"y\": [0.94783, 0.9676600000000001, 0.9736600000000001, 0.9833299999999999], \"type\": \"scatter\", \"uid\": \"b152317d-99f6-423a-ae76-208e8157ed01\"}, {\"mode\": \"markers+lines\", \"name\": \"bushiDo sensei\", \"x\": [\"2019-03-21 13:13:07\", \"2019-03-21 19:22:42\", \"2019-03-22 08:44:29\", \"2019-03-22 14:48:28\"], \"y\": [0.911, 0.94183, 0.9533299999999999, 0.9606600000000001], \"type\": \"scatter\", \"uid\": \"0d517866-8274-45cc-8ec6-2b3591c0fbf6\"}, {\"mode\": \"markers+lines\", \"name\": \"Mariano Testasecca\", \"x\": [\"2019-03-22 21:00:57\", \"2019-03-23 02:51:32\", \"2019-03-23 03:38:23\"], \"y\": [0.913, 0.945, 0.9695], \"type\": \"scatter\", \"uid\": \"284c1cb5-e0e3-4f61-bd38-e5b0303361b5\"}, {\"mode\": \"markers+lines\", \"name\": \"Chris Jorgensen\", \"x\": [\"2019-03-21 10:53:43\", \"2019-03-21 16:19:31\", \"2019-03-22 08:39:03\"], \"y\": [0.8658299999999999, 0.92266, 0.9643299999999999], \"type\": \"scatter\", \"uid\": \"2ee18657-d70c-49ce-8aa0-56efceab1f95\"}, {\"mode\": \"markers+lines\", \"name\": \"Vitalie Cracan\", \"x\": [\"2019-03-20 14:55:32\", \"2019-03-20 20:18:00\"], \"y\": [0.91066, 0.9616600000000001], \"type\": \"scatter\", \"uid\": \"8cbe4d4e-522e-4f1d-b19f-b177e68a9c51\"}, {\"mode\": \"markers+lines\", \"name\": \"Karel\", \"x\": [\"2019-03-21 03:08:19\"], \"y\": [0.8763299999999999], \"type\": \"scatter\", \"uid\": \"5ce0b704-d957-4f5c-aa6d-e001bddc4d8a\"}, {\"mode\": \"markers+lines\", \"name\": \"alex stirbu\", \"x\": [\"2019-03-22 20:32:07\"], \"y\": [0.89866], \"type\": \"scatter\", \"uid\": \"ce0035c2-753f-42d4-a2ef-1a2f9f5a64dd\"}, {\"mode\": \"markers+lines\", \"name\": \"jupaneira\", \"x\": [\"2019-03-22 03:37:23\"], \"y\": [0.90366], \"type\": \"scatter\", \"uid\": \"b6a82f8e-9c52-49e1-a030-d381578c9d7b\"}, {\"mode\": \"markers+lines\", \"name\": \"AndreiNaghi\", \"x\": [\"2019-03-23 18:36:52\"], \"y\": [0.9115], \"type\": \"scatter\", \"uid\": \"9cc757e7-e345-44c7-b69c-bbffc90cf5fd\"}, {\"mode\": \"markers+lines\", \"name\": \"Iacob Marian\", \"x\": [\"2019-03-21 13:53:31\"], \"y\": [0.09583], \"type\": \"scatter\", \"uid\": \"ce0bb969-de4b-4f86-9ca5-857b26817ca1\"}], {\"title\": {\"text\": \"Public Leaderboard Submissions\"}, \"xaxis\": {\"showticklabels\": true, \"title\": {\"text\": \"Submission Date\"}}, \"yaxis\": {\"title\": {\"text\": \"Team Score\"}}}, {\"showLink\": false, \"linkText\": \"Export to plot.ly\", \"plotlyServerURL\": \"https://plot.ly\"}); \n",
       "}\n",
       "});</script><script type=\"text/javascript\">window.addEventListener(\"resize\", function(){if (document.getElementById(\"6c97237f-0516-441d-8d72-06d78f8d98d6\")) {window._Plotly.Plots.resize(document.getElementById(\"6c97237f-0516-441d-8d72-06d78f8d98d6\"));};})</script>"
      ],
      "text/vnd.plotly.v1+html": [
       "<div id=\"6c97237f-0516-441d-8d72-06d78f8d98d6\" style=\"height: 525px; width: 100%;\" class=\"plotly-graph-div\"></div><script type=\"text/javascript\">require([\"plotly\"], function(Plotly) { window.PLOTLYENV=window.PLOTLYENV || {};window.PLOTLYENV.BASE_URL=\"https://plot.ly\";\n",
       "if (document.getElementById(\"6c97237f-0516-441d-8d72-06d78f8d98d6\")) {\n",
       "    Plotly.newPlot(\"6c97237f-0516-441d-8d72-06d78f8d98d6\", [{\"mode\": \"markers+lines\", \"name\": \"Bogdan Luncasu\", \"x\": [\"2019-03-20 18:14:08\", \"2019-03-20 18:21:13\", \"2019-03-20 19:05:55\", \"2019-03-20 21:37:50\", \"2019-03-20 22:29:15\", \"2019-03-21 07:03:04\", \"2019-03-21 10:36:14\", \"2019-03-21 20:35:41\", \"2019-03-22 06:28:56\"], \"y\": [0.9148299999999999, 0.9415, 0.95083, 0.9705, 0.983, 0.9856600000000001, 0.9883299999999999, 0.9898299999999999, 0.99066], \"type\": \"scatter\", \"uid\": \"2d74ad90-a357-4412-b15c-ea79238fd940\"}, {\"mode\": \"markers+lines\", \"name\": \"radu\", \"x\": [\"2019-03-20 08:38:26\", \"2019-03-20 08:48:31\", \"2019-03-20 14:04:56\", \"2019-03-21 11:33:47\", \"2019-03-22 09:21:18\", \"2019-03-22 15:34:32\"], \"y\": [0.92416, 0.94516, 0.96016, 0.97183, 0.972, 0.9743299999999999], \"type\": \"scatter\", \"uid\": \"e0dac303-2126-4e04-8c67-f139995d5c6f\"}, {\"mode\": \"markers+lines\", \"name\": \"Mario Rugeles\", \"x\": [\"2019-03-20 21:42:56\", \"2019-03-20 23:45:03\", \"2019-03-20 23:52:31\", \"2019-03-21 01:26:08\", \"2019-03-21 04:06:28\"], \"y\": [0.958, 0.9595, 0.9606600000000001, 0.9676600000000001, 0.98516], \"type\": \"scatter\", \"uid\": \"104e311f-38b3-44d2-9b79-75fc3acdf58e\"}, {\"mode\": \"markers+lines\", \"name\": \"Ezequiel Konjuh\", \"x\": [\"2019-03-21 12:55:47\", \"2019-03-21 14:11:01\", \"2019-03-22 00:52:59\", \"2019-03-22 03:15:42\"], \"y\": [0.984, 0.9873299999999999, 0.99, 0.99116], \"type\": \"scatter\", \"uid\": \"56c30ccf-07bf-4135-9594-ecb82466def9\"}, {\"mode\": \"markers+lines\", \"name\": \"Radu Stefan\", \"x\": [\"2019-03-21 20:53:16\", \"2019-03-21 21:03:39\", \"2019-03-21 21:21:51\", \"2019-03-21 21:34:45\"], \"y\": [0.91066, 0.9243299999999999, 0.94016, 0.94183], \"type\": \"scatter\", \"uid\": \"12358b01-e132-487e-8f0a-850d2d21f356\"}, {\"mode\": \"markers+lines\", \"name\": \"Marius MC\", \"x\": [\"2019-03-20 15:19:04\", \"2019-03-20 18:55:46\", \"2019-03-21 12:08:18\", \"2019-03-21 15:05:23\"], \"y\": [0.94783, 0.9676600000000001, 0.9736600000000001, 0.9833299999999999], \"type\": \"scatter\", \"uid\": \"b152317d-99f6-423a-ae76-208e8157ed01\"}, {\"mode\": \"markers+lines\", \"name\": \"bushiDo sensei\", \"x\": [\"2019-03-21 13:13:07\", \"2019-03-21 19:22:42\", \"2019-03-22 08:44:29\", \"2019-03-22 14:48:28\"], \"y\": [0.911, 0.94183, 0.9533299999999999, 0.9606600000000001], \"type\": \"scatter\", \"uid\": \"0d517866-8274-45cc-8ec6-2b3591c0fbf6\"}, {\"mode\": \"markers+lines\", \"name\": \"Mariano Testasecca\", \"x\": [\"2019-03-22 21:00:57\", \"2019-03-23 02:51:32\", \"2019-03-23 03:38:23\"], \"y\": [0.913, 0.945, 0.9695], \"type\": \"scatter\", \"uid\": \"284c1cb5-e0e3-4f61-bd38-e5b0303361b5\"}, {\"mode\": \"markers+lines\", \"name\": \"Chris Jorgensen\", \"x\": [\"2019-03-21 10:53:43\", \"2019-03-21 16:19:31\", \"2019-03-22 08:39:03\"], \"y\": [0.8658299999999999, 0.92266, 0.9643299999999999], \"type\": \"scatter\", \"uid\": \"2ee18657-d70c-49ce-8aa0-56efceab1f95\"}, {\"mode\": \"markers+lines\", \"name\": \"Vitalie Cracan\", \"x\": [\"2019-03-20 14:55:32\", \"2019-03-20 20:18:00\"], \"y\": [0.91066, 0.9616600000000001], \"type\": \"scatter\", \"uid\": \"8cbe4d4e-522e-4f1d-b19f-b177e68a9c51\"}, {\"mode\": \"markers+lines\", \"name\": \"Karel\", \"x\": [\"2019-03-21 03:08:19\"], \"y\": [0.8763299999999999], \"type\": \"scatter\", \"uid\": \"5ce0b704-d957-4f5c-aa6d-e001bddc4d8a\"}, {\"mode\": \"markers+lines\", \"name\": \"alex stirbu\", \"x\": [\"2019-03-22 20:32:07\"], \"y\": [0.89866], \"type\": \"scatter\", \"uid\": \"ce0035c2-753f-42d4-a2ef-1a2f9f5a64dd\"}, {\"mode\": \"markers+lines\", \"name\": \"jupaneira\", \"x\": [\"2019-03-22 03:37:23\"], \"y\": [0.90366], \"type\": \"scatter\", \"uid\": \"b6a82f8e-9c52-49e1-a030-d381578c9d7b\"}, {\"mode\": \"markers+lines\", \"name\": \"AndreiNaghi\", \"x\": [\"2019-03-23 18:36:52\"], \"y\": [0.9115], \"type\": \"scatter\", \"uid\": \"9cc757e7-e345-44c7-b69c-bbffc90cf5fd\"}, {\"mode\": \"markers+lines\", \"name\": \"Iacob Marian\", \"x\": [\"2019-03-21 13:53:31\"], \"y\": [0.09583], \"type\": \"scatter\", \"uid\": \"ce0bb969-de4b-4f86-9ca5-857b26817ca1\"}], {\"title\": {\"text\": \"Public Leaderboard Submissions\"}, \"xaxis\": {\"showticklabels\": true, \"title\": {\"text\": \"Submission Date\"}}, \"yaxis\": {\"title\": {\"text\": \"Team Score\"}}}, {\"showLink\": false, \"linkText\": \"Export to plot.ly\", \"plotlyServerURL\": \"https://plot.ly\"}); \n",
       "}\n",
       "});</script><script type=\"text/javascript\">window.addEventListener(\"resize\", function(){if (document.getElementById(\"6c97237f-0516-441d-8d72-06d78f8d98d6\")) {window._Plotly.Plots.resize(document.getElementById(\"6c97237f-0516-441d-8d72-06d78f8d98d6\"));};})</script>"
      ]
     },
     "metadata": {},
     "output_type": "display_data"
    }
   ],
   "source": [
    "teams = list(data_df.TeamName.value_counts().index)\n",
    "data = []\n",
    "for team in teams:\n",
    "    dT = data_df[data_df['TeamName'] == team]\n",
    "    trace = go.Scatter(\n",
    "        x = dT['SubmissionDate'],y = dT['Score'],\n",
    "        name=team,\n",
    "        mode = \"markers+lines\"\n",
    "    )\n",
    "    data.append(trace)\n",
    "\n",
    "layout = dict(title = 'Public Leaderboard Submissions',\n",
    "          xaxis = dict(title = 'Submission Date', showticklabels=True), \n",
    "          yaxis = dict(title = 'Team Score'),\n",
    "          #hovermode = 'closest'\n",
    "         )\n",
    "fig = dict(data=data, layout=layout)\n",
    "iplot(fig, filename='public-leaderboard')"
   ]
  }
 ],
 "metadata": {
  "kernelspec": {
   "display_name": "Python 3",
   "language": "python",
   "name": "python3"
  },
  "language_info": {
   "codemirror_mode": {
    "name": "ipython",
    "version": 3
   },
   "file_extension": ".py",
   "mimetype": "text/x-python",
   "name": "python",
   "nbconvert_exporter": "python",
   "pygments_lexer": "ipython3",
   "version": "3.6.6"
  }
 },
 "nbformat": 4,
 "nbformat_minor": 1
}
